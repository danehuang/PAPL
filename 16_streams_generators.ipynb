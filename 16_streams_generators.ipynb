{
 "cells": [
  {
   "cell_type": "code",
   "execution_count": 1,
   "id": "ff38ecdc",
   "metadata": {},
   "outputs": [
    {
     "data": {
      "text/html": [
       "\n",
       "  <link rel=\"stylesheet\" href=\"node_modules/carbon-components/css/carbon-components.css\">\n",
       "  "
      ]
     },
     "metadata": {},
     "output_type": "display_data"
    },
    {
     "data": {
      "text/html": [
       "\n",
       "<script>\n",
       "require.config({\n",
       "     paths: {\n",
       "     cytoscape: 'https://cdnjs.cloudflare.com/ajax/libs/cytoscape/3.19.0/cytoscape.min'\n",
       "}});\n",
       "</script>\n",
       "  "
      ]
     },
     "metadata": {},
     "output_type": "display_data"
    }
   ],
   "source": [
    "import { requireCytoscape, requireCarbon } from \"./lib/draw\";\n",
    "\n",
    "requireCarbon();\n",
    "requireCytoscape();"
   ]
  },
  {
   "cell_type": "markdown",
   "id": "5acedb54",
   "metadata": {},
   "source": [
    "# Lazy Programming, Streams, and Generators"
   ]
  },
  {
   "cell_type": "markdown",
   "id": "79368944",
   "metadata": {},
   "source": [
    "# Where Were We?\n",
    "\n",
    "1. Language primitives (i.e., building blocks of languages)\n",
    "2. **Language paradigms** (i.e., combinations of language primitives)\n",
    "    - Last time: first-class concurrency in Go\n",
    "    - This time: **lazy programming, streams, and generators**\n",
    "3. Building a language (i.e., designing your own language)"
   ]
  },
  {
   "cell_type": "markdown",
   "id": "79b11edc",
   "metadata": {},
   "source": [
    "## Non-Eager Evaluation: Short-Circuit Evaluation\n",
    "\n",
    "- We will look at our first-example of non-eager evaluation: *short-circuit* evaluation.\n",
    "- *Eager* evaluation is what most programming languages implement: evaluate every expression eagerly."
   ]
  },
  {
   "cell_type": "markdown",
   "id": "19557bde",
   "metadata": {},
   "source": [
    "### Short-Circuit Evaluation and Exceptions\n",
    "\n",
    "- Pretend that our language throws an exception when dividing by zero.\n",
    "- Many languages do this, but JavaScript does not, so we must fake it."
   ]
  },
  {
   "cell_type": "code",
   "execution_count": 2,
   "id": "47817fe7",
   "metadata": {},
   "outputs": [
    {
     "name": "stdout",
     "output_type": "stream",
     "text": [
      "\u001b[33mInfinity\u001b[39m\n"
     ]
    }
   ],
   "source": [
    "5/0"
   ]
  },
  {
   "cell_type": "code",
   "execution_count": 3,
   "id": "a7719482",
   "metadata": {},
   "outputs": [],
   "source": [
    "function divide(a: number, b: number): number {\n",
    "    if (b === 0) {\n",
    "        throw new Error(\"Can't divide by zero\");\n",
    "    }\n",
    "    \n",
    "    return a/b;\n",
    "}"
   ]
  },
  {
   "cell_type": "markdown",
   "id": "2ea2cb48",
   "metadata": {},
   "source": [
    "This will throw:"
   ]
  },
  {
   "cell_type": "code",
   "execution_count": 4,
   "id": "8c4b77b7",
   "metadata": {},
   "outputs": [
    {
     "name": "stdout",
     "output_type": "stream",
     "text": [
      "Wrong Error: Can't divide by zero\n",
      "    at Proxy.divide (evalmachine.<anonymous>:5:15)\n",
      "    at evalmachine.<anonymous>:4:13\n",
      "    at evalmachine.<anonymous>:10:3\n",
      "\u001b[90m    at sigintHandlersWrap (node:vm:268:12)\u001b[39m\n",
      "\u001b[90m    at Script.runInThisContext (node:vm:127:14)\u001b[39m\n",
      "\u001b[90m    at Object.runInThisContext (node:vm:305:38)\u001b[39m\n",
      "    at Object.execute (/Users/dehuang/Documents/teaching/csc600/f22/lectures/node_modules/\u001b[4mtslab\u001b[24m/dist/executor.js:162:38)\n",
      "    at JupyterHandlerImpl.handleExecuteImpl (/Users/dehuang/Documents/teaching/csc600/f22/lectures/node_modules/\u001b[4mtslab\u001b[24m/dist/jupyter.js:219:38)\n",
      "    at /Users/dehuang/Documents/teaching/csc600/f22/lectures/node_modules/\u001b[4mtslab\u001b[24m/dist/jupyter.js:177:57\n"
     ]
    }
   ],
   "source": [
    "// divide(5, 0);\n",
    "try {\n",
    "    divide(5, 0);\n",
    "} catch(err) {\n",
    "    console.log(\"Wrong\", err);\n",
    "}"
   ]
  },
  {
   "cell_type": "markdown",
   "id": "fd5ee251",
   "metadata": {},
   "source": [
    "Normally operators **eagerly** evaluate their operands:"
   ]
  },
  {
   "cell_type": "code",
   "execution_count": 5,
   "id": "941a773d",
   "metadata": {},
   "outputs": [
    {
     "name": "stdout",
     "output_type": "stream",
     "text": [
      "Wrong Error: Can't divide by zero\n",
      "    at Proxy.divide (evalmachine.<anonymous>:5:15)\n",
      "    at evalmachine.<anonymous>:3:18\n",
      "    at evalmachine.<anonymous>:9:3\n",
      "\u001b[90m    at sigintHandlersWrap (node:vm:268:12)\u001b[39m\n",
      "\u001b[90m    at Script.runInThisContext (node:vm:127:14)\u001b[39m\n",
      "\u001b[90m    at Object.runInThisContext (node:vm:305:38)\u001b[39m\n",
      "    at Object.execute (/Users/dehuang/Documents/teaching/csc600/f22/lectures/node_modules/\u001b[4mtslab\u001b[24m/dist/executor.js:162:38)\n",
      "    at JupyterHandlerImpl.handleExecuteImpl (/Users/dehuang/Documents/teaching/csc600/f22/lectures/node_modules/\u001b[4mtslab\u001b[24m/dist/jupyter.js:219:38)\n",
      "    at /Users/dehuang/Documents/teaching/csc600/f22/lectures/node_modules/\u001b[4mtslab\u001b[24m/dist/jupyter.js:177:57\n"
     ]
    }
   ],
   "source": [
    "try {\n",
    "    15 + divide(5, 0);\n",
    "} catch (err) {\n",
    "    console.log(\"Wrong\", err);\n",
    "}"
   ]
  },
  {
   "cell_type": "markdown",
   "id": "8f268702",
   "metadata": {},
   "source": [
    "But the **ternary operator** does not:"
   ]
  },
  {
   "cell_type": "code",
   "execution_count": 6,
   "id": "2c35e763",
   "metadata": {
    "scrolled": true
   },
   "outputs": [
    {
     "name": "stdout",
     "output_type": "stream",
     "text": [
      "invalid\n"
     ]
    }
   ],
   "source": [
    "const a: number = 5;\n",
    "const b: number = 0;\n",
    "\n",
    "console.log(b === 0 ? \"invalid\" : divide(a, b));"
   ]
  },
  {
   "cell_type": "markdown",
   "id": "c5222835",
   "metadata": {},
   "source": [
    "- It first evaluates the condition, and then only evaluates the \"then\" or \"else\" clause.\n",
    "- This is called **short-circuit evaluation**.\n",
    "- It evaluates what is necessary before evaluating the rest of the expression.\n",
    "- Consequently, the error caused by the division is avoided."
   ]
  },
  {
   "cell_type": "markdown",
   "id": "98df82ab",
   "metadata": {},
   "source": [
    "### Short-Circuit Evaluation and Infinite Loops"
   ]
  },
  {
   "cell_type": "code",
   "execution_count": 7,
   "id": "d83d902a",
   "metadata": {},
   "outputs": [],
   "source": [
    "function forever() {\n",
    "    while (true) {\n",
    "        // Nothing.\n",
    "    }\n",
    "}"
   ]
  },
  {
   "cell_type": "code",
   "execution_count": 8,
   "id": "a9e6600e",
   "metadata": {},
   "outputs": [
    {
     "name": "stdout",
     "output_type": "stream",
     "text": [
      "nope\n"
     ]
    }
   ],
   "source": [
    "const a = 4;\n",
    "const b = 5;\n",
    "\n",
    "console.log(a < b ? \"nope\" : forever());"
   ]
  },
  {
   "cell_type": "markdown",
   "id": "d26634d4",
   "metadata": {},
   "source": [
    "### How do we encode the teneray operator?\n",
    "\n",
    "- Imagine that we didn't have the ternary operator, only `if` statements, and wanted a conditional expression.\n",
    "- Indeed, a language like **Go** does not have the ternary operator.\n",
    "- Would we be able to implement the ternary operator?"
   ]
  },
  {
   "cell_type": "code",
   "execution_count": 9,
   "id": "977e46ea",
   "metadata": {},
   "outputs": [],
   "source": [
    "function ternaryWrong(condition: boolean, trueValue: any, falseValue: any): any {\n",
    "    if (condition) {\n",
    "        return trueValue;\n",
    "    } else {\n",
    "        return falseValue;\n",
    "    }\n",
    "}"
   ]
  },
  {
   "cell_type": "code",
   "execution_count": 10,
   "id": "3316367b",
   "metadata": {},
   "outputs": [
    {
     "name": "stdout",
     "output_type": "stream",
     "text": [
      "Wrong Error: Can't divide by zero\n",
      "    at Proxy.divide (evalmachine.<anonymous>:5:15)\n",
      "    at evalmachine.<anonymous>:9:66\n",
      "    at evalmachine.<anonymous>:15:3\n",
      "\u001b[90m    at sigintHandlersWrap (node:vm:268:12)\u001b[39m\n",
      "\u001b[90m    at Script.runInThisContext (node:vm:127:14)\u001b[39m\n",
      "\u001b[90m    at Object.runInThisContext (node:vm:305:38)\u001b[39m\n",
      "    at Object.execute (/Users/dehuang/Documents/teaching/csc600/f22/lectures/node_modules/\u001b[4mtslab\u001b[24m/dist/executor.js:162:38)\n",
      "    at JupyterHandlerImpl.handleExecuteImpl (/Users/dehuang/Documents/teaching/csc600/f22/lectures/node_modules/\u001b[4mtslab\u001b[24m/dist/jupyter.js:219:38)\n",
      "    at /Users/dehuang/Documents/teaching/csc600/f22/lectures/node_modules/\u001b[4mtslab\u001b[24m/dist/jupyter.js:177:57\n"
     ]
    }
   ],
   "source": [
    "const a: number = 5;\n",
    "const b: number = 0;\n",
    "\n",
    "try {\n",
    "    // console.log(b === 0 ? \"invalid\" : divide(a, b));\n",
    "    console.log(ternaryWrong(b === 0, \"invalid\", divide(a, b)));\n",
    "} catch (err) {\n",
    "    console.log(\"Wrong\", err);\n",
    "}"
   ]
  },
  {
   "cell_type": "markdown",
   "id": "ea1a280b",
   "metadata": {},
   "source": [
    "### What went wrong?\n",
    "\n",
    "- This didn't work because function arguments are eagerly evaluated, as you might expect.\n",
    "- Let's rewrite the code to show this more explicitly."
   ]
  },
  {
   "cell_type": "code",
   "execution_count": 11,
   "id": "2f608349",
   "metadata": {},
   "outputs": [
    {
     "name": "stdout",
     "output_type": "stream",
     "text": [
      "Wrong Error: Can't divide by zero\n",
      "    at Proxy.divide (evalmachine.<anonymous>:5:15)\n",
      "    at evalmachine.<anonymous>:11:26\n",
      "    at evalmachine.<anonymous>:18:3\n",
      "\u001b[90m    at sigintHandlersWrap (node:vm:268:12)\u001b[39m\n",
      "\u001b[90m    at Script.runInThisContext (node:vm:127:14)\u001b[39m\n",
      "\u001b[90m    at Object.runInThisContext (node:vm:305:38)\u001b[39m\n",
      "    at Object.execute (/Users/dehuang/Documents/teaching/csc600/f22/lectures/node_modules/\u001b[4mtslab\u001b[24m/dist/executor.js:162:38)\n",
      "    at JupyterHandlerImpl.handleExecuteImpl (/Users/dehuang/Documents/teaching/csc600/f22/lectures/node_modules/\u001b[4mtslab\u001b[24m/dist/jupyter.js:219:38)\n",
      "    at /Users/dehuang/Documents/teaching/csc600/f22/lectures/node_modules/\u001b[4mtslab\u001b[24m/dist/jupyter.js:177:57\n"
     ]
    }
   ],
   "source": [
    "// Equivalent code\n",
    "const a: number = 5;\n",
    "const b: number = 0;\n",
    "\n",
    "try {\n",
    "    const arg1 = b === 0;\n",
    "    const arg2 = \"invalid\";\n",
    "    const arg3 = divide(a, b); // <- this will throw the error\n",
    "    console.log(ternaryWrong(arg1, arg2, arg3));\n",
    "} catch (err) {\n",
    "    console.log(\"Wrong\", err);\n",
    "}"
   ]
  },
  {
   "cell_type": "markdown",
   "id": "a5e56615",
   "metadata": {},
   "source": [
    "### First-Class Functions to the Rescue (Again)!\n",
    "\n",
    "- But ... what would it take to make this work?\n",
    "- We need to **delay the evaluation** of the parameter.\n",
    "- Put it into a first-class function!"
   ]
  },
  {
   "cell_type": "code",
   "execution_count": 12,
   "id": "476a6ee8",
   "metadata": {},
   "outputs": [],
   "source": [
    "// first-class function, accepts functions as arguments\n",
    "function ternary(condition: boolean, trueThunk: () => any, falseThunk: () => any): any {\n",
    "    if (condition) {\n",
    "        return trueThunk(); // Apply function with no arguments\n",
    "    } else {\n",
    "        return falseThunk(); // Apply function with no arguments\n",
    "    }\n",
    "}"
   ]
  },
  {
   "cell_type": "code",
   "execution_count": 13,
   "id": "a4ae3319",
   "metadata": {},
   "outputs": [
    {
     "name": "stdout",
     "output_type": "stream",
     "text": [
      "invalid\n"
     ]
    }
   ],
   "source": [
    "const a: number = 5;\n",
    "const b: number = 0;\n",
    "\n",
    "// Question: what is () => \"invalid\"?\n",
    "console.log(ternary(b === 0, () => \"invalid\", () => divide(a, b)));"
   ]
  },
  {
   "cell_type": "markdown",
   "id": "86cbf991",
   "metadata": {},
   "source": [
    "- The anonymous function (e.g., `trueThunk` and `falseThunk`) is called a **thunk**.\n",
    "- A thunk embodies **computation to be done in the future**.\n",
    "- Thunk's should remind you of callbacks (e.g., `onClick`)."
   ]
  },
  {
   "cell_type": "markdown",
   "id": "6e254666",
   "metadata": {},
   "source": [
    "## Memoization\n",
    "\n",
    "- What if the thunks we passed in were **pure functions**?\n",
    "- We could **memoize** the computation then by saving the results of earlier computations."
   ]
  },
  {
   "cell_type": "markdown",
   "id": "9be48241",
   "metadata": {},
   "source": [
    "### Pure Functions, Again\n",
    "\n",
    "- If a function is pure, it means it gives the same output for the same input.\n",
    "\n",
    "```ts\n",
    "console.log((() => \"invalid\")());\n",
    "console.log((() => \"invalid\")());\n",
    "console.log((() => \"invalid\")());\n",
    "```\n",
    "\n",
    "- Thus we can evaluate `() => \"invalid\"` once and store it in a table. This is known as **memoization**.\n",
    "- This would save computation if `() => \"invalid\"` is expensive to calculate."
   ]
  },
  {
   "cell_type": "markdown",
   "id": "f761915e",
   "metadata": {},
   "source": [
    "### Memoization example"
   ]
  },
  {
   "cell_type": "code",
   "execution_count": 14,
   "id": "2b7135c5",
   "metadata": {},
   "outputs": [
    {
     "name": "stdout",
     "output_type": "stream",
     "text": [
      "\u001b[33m102334155\u001b[39m\n"
     ]
    }
   ],
   "source": [
    "// Exponential complexity fibonacci again\n",
    "function fib(n: number): number {\n",
    "    switch (n) {\n",
    "        case 0: return 0;\n",
    "        case 1: return 1;\n",
    "        default: return fib(n - 1) + fib(n - 2);\n",
    "    }\n",
    "}\n",
    "\n",
    "fib(40);"
   ]
  },
  {
   "cell_type": "code",
   "execution_count": 15,
   "id": "71d0e40d",
   "metadata": {},
   "outputs": [],
   "source": [
    "function thunkAndMemoize(fn, ... args) {\n",
    "    let cachedResult = undefined;\n",
    "    \n",
    "    // Question: what is this? This is a *closure*\n",
    "    return () => {\n",
    "        // What does cachedResult refer to?\n",
    "        if (cachedResult === undefined) {\n",
    "            cachedResult = fn(... args);\n",
    "        }\n",
    "        \n",
    "        return cachedResult;        \n",
    "    };\n",
    "}"
   ]
  },
  {
   "cell_type": "code",
   "execution_count": 16,
   "id": "ce5b35a7",
   "metadata": {},
   "outputs": [
    {
     "name": "stdout",
     "output_type": "stream",
     "text": [
      "\u001b[33m102334155\u001b[39m\n",
      "\u001b[33m102334155\u001b[39m\n",
      "\u001b[33m102334155\u001b[39m\n"
     ]
    }
   ],
   "source": [
    "const fib2 = thunkAndMemoize(fib, 40);\n",
    "console.log(fib2()); // Takes a while to compute\n",
    "console.log(fib2());\n",
    "console.log(fib2());\n"
   ]
  },
  {
   "cell_type": "markdown",
   "id": "6065d0a2",
   "metadata": {},
   "source": [
    "### Memoization and Dynamic Programming\n",
    "\n",
    "- Here's an example of a really fast fibonacci function that uses **memoization**."
   ]
  },
  {
   "cell_type": "code",
   "execution_count": 17,
   "id": "904d6350",
   "metadata": {},
   "outputs": [],
   "source": [
    "// Linear complexity fibonacci again\n",
    "function fibFast(n: number): number {\n",
    "    // Difference 1: have a table that maps arguments to results\n",
    "    const table: {[arg: number]: number} = {\n",
    "        0: 0,\n",
    "        1: 1,\n",
    "    };\n",
    "    \n",
    "    // Difference 2: recursive function that populates the table\n",
    "    function go(n: number): number {\n",
    "        if (n in table) {\n",
    "            return table[n];\n",
    "        } else {\n",
    "            const x1 = go(n-1);\n",
    "            const x2 = go(n-2);\n",
    "            table[n-1] = x1;  // memoizing here\n",
    "            table[n-2] = x2;  // memoizing here\n",
    "            return x1 + x2;  // originally: fib(n-1) + fib(n-2)\n",
    "        }\n",
    "    }\n",
    "    return go(n);\n",
    "}"
   ]
  },
  {
   "cell_type": "code",
   "execution_count": 18,
   "id": "d59aedc0",
   "metadata": {},
   "outputs": [
    {
     "name": "stdout",
     "output_type": "stream",
     "text": [
      "\u001b[33m102334155\u001b[39m\n",
      "\u001b[33m102334155\u001b[39m\n",
      "\u001b[33m102334155\u001b[39m\n"
     ]
    }
   ],
   "source": [
    "// Each call now has linear complexity\n",
    "console.log(fibFast(40));\n",
    "console.log(fibFast(40));\n",
    "console.log(fibFast(40));"
   ]
  },
  {
   "cell_type": "code",
   "execution_count": 19,
   "id": "cb74226c",
   "metadata": {},
   "outputs": [
    {
     "name": "stdout",
     "output_type": "stream",
     "text": [
      "\u001b[33m102334155\u001b[39m\n",
      "\u001b[33m102334155\u001b[39m\n",
      "\u001b[33m102334155\u001b[39m\n"
     ]
    }
   ],
   "source": [
    "// First call has linear complexity, every other call has constant complexity\n",
    "const fibFast2 = thunkAndMemoize(fibFast, 40);\n",
    "console.log(fibFast2());\n",
    "console.log(fibFast2());\n",
    "console.log(fibFast2());"
   ]
  },
  {
   "cell_type": "markdown",
   "id": "a90d7795",
   "metadata": {},
   "source": [
    "### Reminder: Memoization only works with Pure Function\n",
    "\n",
    "- **This only works with pure functions!**"
   ]
  },
  {
   "cell_type": "code",
   "execution_count": 20,
   "id": "154fa8a1",
   "metadata": {},
   "outputs": [
    {
     "name": "stdout",
     "output_type": "stream",
     "text": [
      "invalid\n",
      "\u001b[33m2.5\u001b[39m\n"
     ]
    }
   ],
   "source": [
    "let a = 5;\n",
    "let b = 0;\n",
    "\n",
    "function impureDivide() {\n",
    "    // Closes over a and b\n",
    "    return divide(a, b);\n",
    "}\n",
    "\n",
    "// Input (), get out \"invalid\"\n",
    "console.log(ternary(b === 0, thunkAndMemoize(() => \"invalid\"), thunkAndMemoize(impureDivide)));\n",
    "\n",
    "// Mutatation\n",
    "a = 5; b = 2;\n",
    "\n",
    "// Input (), get out 2.5\n",
    "console.log(ternary(b === 0, thunkAndMemoize(() => \"invalid\"), thunkAndMemoize(impureDivide)));"
   ]
  },
  {
   "cell_type": "markdown",
   "id": "6efcc3d0",
   "metadata": {},
   "source": [
    "## Lazy Evaluation and Streams\n",
    "\n",
    "- We have seen how thunks can be used to delay evaluation until the value is needed, which can be used to implement short-circuit evaluation.\n",
    "- When thunks are pure, we can use memoization to speed up computation.\n",
    "- We will now see how thunks can be used to implement **lazy evaluation**: evaluate a value only when it is needed.\n",
    "- This enables us to encode *infinte* data-structures in memory."
   ]
  },
  {
   "cell_type": "markdown",
   "id": "e518da55",
   "metadata": {},
   "source": [
    "### Stream\n",
    "\n",
    "A **stream** is like a lazy array:\n",
    "\n",
    "* Can only be read front to back.\n",
    "* Can't do anything else (read any element, get its length).\n",
    "* Can represent an infinite sequence (like all natural numbers)."
   ]
  },
  {
   "cell_type": "code",
   "execution_count": 21,
   "id": "b3e72a47",
   "metadata": {},
   "outputs": [],
   "source": [
    "interface Stream {\n",
    "    next(): number;\n",
    "}\n",
    "\n",
    "function makeFibStream(): Stream {\n",
    "    let i = 0;\n",
    "    \n",
    "    return {\n",
    "        next: () => {\n",
    "            const value = fibFast(i);\n",
    "            i += 1;\n",
    "            return value;\n",
    "        }\n",
    "    };\n",
    "}\n",
    "\n",
    "const stream = makeFibStream();"
   ]
  },
  {
   "cell_type": "code",
   "execution_count": 22,
   "id": "2e3e9519",
   "metadata": {},
   "outputs": [
    {
     "name": "stdout",
     "output_type": "stream",
     "text": [
      "\u001b[33m0\u001b[39m\n",
      "\u001b[33m1\u001b[39m\n",
      "\u001b[33m1\u001b[39m\n"
     ]
    }
   ],
   "source": [
    "// Get a few fibonacci number\n",
    "console.log(stream.next());\n",
    "console.log(stream.next());\n",
    "console.log(stream.next());"
   ]
  },
  {
   "cell_type": "code",
   "execution_count": 23,
   "id": "99fa7dd4",
   "metadata": {},
   "outputs": [
    {
     "name": "stdout",
     "output_type": "stream",
     "text": [
      "\u001b[33m2\u001b[39m\n",
      "\u001b[33m3\u001b[39m\n",
      "\u001b[33m5\u001b[39m\n",
      "\u001b[33m8\u001b[39m\n"
     ]
    }
   ],
   "source": [
    "// And then some more\n",
    "console.log(stream.next());\n",
    "console.log(stream.next());\n",
    "console.log(stream.next());\n",
    "console.log(stream.next());"
   ]
  },
  {
   "cell_type": "code",
   "execution_count": 24,
   "id": "fafbd498",
   "metadata": {},
   "outputs": [
    {
     "name": "stdout",
     "output_type": "stream",
     "text": [
      "\u001b[33m196418\u001b[39m\n"
     ]
    }
   ],
   "source": [
    "// And we can go to infinity ... (but not beyond)\n",
    "for (let i = 0; i < 20; i++) {\n",
    "    stream.next();\n",
    "}\n",
    "console.log(stream.next());"
   ]
  },
  {
   "cell_type": "markdown",
   "id": "3664a6c9",
   "metadata": {},
   "source": [
    "## Generators\n",
    "\n",
    "- It turns out that you can encode every language feature with first-class functions.\n",
    "   * Laziness (just now)\n",
    "   * Concurrency (message passing)\n",
    "   * Recursion (Y-combinator)\n",
    "   * Numbers and Booleans (Church encodings)\n",
    "- But sometimes it's helpful to have a language abstraction that makes it more natural to program with.\n",
    "- JavaScript and TypeScript makes this easier by providing **generators**."
   ]
  },
  {
   "cell_type": "code",
   "execution_count": 25,
   "id": "0fb34435",
   "metadata": {},
   "outputs": [],
   "source": [
    "// Under the hood they use a `next()` method similar to what we did above.\n",
    "// Note the asterisk after the keyword `function`:\n",
    "function* makeFibStream(): Generator<number> {\n",
    "    let i = 0;\n",
    "    while (true) {\n",
    "        // The yield keyword adds an element to the stream.\n",
    "        yield fibFast(i);\n",
    "        i ++;\n",
    "    }\n",
    "}\n",
    "\n",
    "const stream = makeFibStream();"
   ]
  },
  {
   "cell_type": "markdown",
   "id": "f96293a8",
   "metadata": {},
   "source": [
    "### `take()`\n",
    "\n",
    "Now we can make functions that manipulate streams directly. Here's one that just passes along the first `n` items:"
   ]
  },
  {
   "cell_type": "code",
   "execution_count": 26,
   "id": "e4ee12cc",
   "metadata": {},
   "outputs": [],
   "source": [
    "function* take(n: number, sequence: IterableIterator<number> | number[]): Generator<number> {\n",
    "    for (const x of sequence) {\n",
    "        if (n === 0) {\n",
    "            break;\n",
    "        }\n",
    "        yield x;\n",
    "        n -= 1;\n",
    "    }\n",
    "}"
   ]
  },
  {
   "cell_type": "code",
   "execution_count": 27,
   "id": "1c31d96a",
   "metadata": {
    "scrolled": true
   },
   "outputs": [
    {
     "name": "stdout",
     "output_type": "stream",
     "text": [
      "[ \u001b[33m1\u001b[39m, \u001b[33m2\u001b[39m, \u001b[33m3\u001b[39m ]\n"
     ]
    }
   ],
   "source": [
    "Array.from(take(3, [1,2,3,4,5,6,7]));"
   ]
  },
  {
   "cell_type": "code",
   "execution_count": 28,
   "id": "cc07a576",
   "metadata": {},
   "outputs": [
    {
     "name": "stdout",
     "output_type": "stream",
     "text": [
      "[\n",
      "  \u001b[33m0\u001b[39m, \u001b[33m1\u001b[39m,  \u001b[33m1\u001b[39m,  \u001b[33m2\u001b[39m,  \u001b[33m3\u001b[39m,\n",
      "  \u001b[33m5\u001b[39m, \u001b[33m8\u001b[39m, \u001b[33m13\u001b[39m, \u001b[33m21\u001b[39m, \u001b[33m34\u001b[39m\n",
      "]\n"
     ]
    }
   ],
   "source": [
    "Array.from(take(10, makeFibStream()));"
   ]
  },
  {
   "cell_type": "markdown",
   "id": "ad0dda7d",
   "metadata": {},
   "source": [
    "### `skip()`\n",
    "\n",
    "This one skips the first `n` terms:"
   ]
  },
  {
   "cell_type": "code",
   "execution_count": 29,
   "id": "219344ab",
   "metadata": {},
   "outputs": [],
   "source": [
    "function *skip(n: number, sequence: IterableIterator<number> | number[]): Generator<number> {\n",
    "    for (const x of sequence) {\n",
    "        if (n > 0) {\n",
    "            n -= 1;\n",
    "            continue;\n",
    "        }\n",
    "        yield x;\n",
    "    }\n",
    "}"
   ]
  },
  {
   "cell_type": "code",
   "execution_count": 30,
   "id": "6735abdb",
   "metadata": {
    "scrolled": false
   },
   "outputs": [
    {
     "name": "stdout",
     "output_type": "stream",
     "text": [
      "[ \u001b[33m4\u001b[39m, \u001b[33m5\u001b[39m, \u001b[33m6\u001b[39m, \u001b[33m7\u001b[39m ]\n"
     ]
    }
   ],
   "source": [
    "Array.from(skip(3, [1,2,3,4,5,6,7]));"
   ]
  },
  {
   "cell_type": "code",
   "execution_count": 31,
   "id": "9056ab77",
   "metadata": {},
   "outputs": [
    {
     "name": "stdout",
     "output_type": "stream",
     "text": [
      "[\n",
      "    \u001b[33m832040\u001b[39m,  \u001b[33m1346269\u001b[39m,\n",
      "   \u001b[33m2178309\u001b[39m,  \u001b[33m3524578\u001b[39m,\n",
      "   \u001b[33m5702887\u001b[39m,  \u001b[33m9227465\u001b[39m,\n",
      "  \u001b[33m14930352\u001b[39m, \u001b[33m24157817\u001b[39m,\n",
      "  \u001b[33m39088169\u001b[39m, \u001b[33m63245986\u001b[39m\n",
      "]\n"
     ]
    }
   ],
   "source": [
    "Array.from(take(10, skip(30, makeFibStream())));"
   ]
  },
  {
   "cell_type": "code",
   "execution_count": 32,
   "id": "a0c1d51d",
   "metadata": {},
   "outputs": [
    {
     "name": "stdout",
     "output_type": "stream",
     "text": [
      "[\n",
      "    \u001b[33m832040\u001b[39m,  \u001b[33m1346269\u001b[39m,\n",
      "   \u001b[33m2178309\u001b[39m,  \u001b[33m3524578\u001b[39m,\n",
      "   \u001b[33m5702887\u001b[39m,  \u001b[33m9227465\u001b[39m,\n",
      "  \u001b[33m14930352\u001b[39m, \u001b[33m24157817\u001b[39m,\n",
      "  \u001b[33m39088169\u001b[39m, \u001b[33m63245986\u001b[39m\n",
      "]\n"
     ]
    }
   ],
   "source": [
    "Array.from(take(10, skip(15, skip(15, makeFibStream()))));"
   ]
  },
  {
   "cell_type": "code",
   "execution_count": 33,
   "id": "a3242adb",
   "metadata": {},
   "outputs": [
    {
     "name": "stdout",
     "output_type": "stream",
     "text": [
      "[\n",
      "    \u001b[33m832040\u001b[39m,  \u001b[33m1346269\u001b[39m,\n",
      "   \u001b[33m2178309\u001b[39m,  \u001b[33m3524578\u001b[39m,\n",
      "   \u001b[33m5702887\u001b[39m,  \u001b[33m9227465\u001b[39m,\n",
      "  \u001b[33m14930352\u001b[39m, \u001b[33m24157817\u001b[39m,\n",
      "  \u001b[33m39088169\u001b[39m, \u001b[33m63245986\u001b[39m\n",
      "]\n"
     ]
    }
   ],
   "source": [
    "Array.from(take(10, skip(10, skip(10, skip(10, makeFibStream())))));"
   ]
  },
  {
   "cell_type": "markdown",
   "id": "36a57445",
   "metadata": {},
   "source": [
    "### `filter`\n",
    "\n",
    "Our old friend the `filter()` function, but on a stream:"
   ]
  },
  {
   "cell_type": "code",
   "execution_count": 34,
   "id": "9d9ca348",
   "metadata": {},
   "outputs": [],
   "source": [
    "function* filter<T>(sequence: IterableIterator<T>, f: (x: T) => boolean): Generator<T> {\n",
    "    for (const x of sequence) {\n",
    "        if (f(x)) {\n",
    "            yield x;\n",
    "        }\n",
    "    }\n",
    "}"
   ]
  },
  {
   "cell_type": "code",
   "execution_count": 35,
   "id": "76333fd3",
   "metadata": {},
   "outputs": [
    {
     "name": "stdout",
     "output_type": "stream",
     "text": [
      "[\n",
      "       \u001b[33m0\u001b[39m,     \u001b[33m2\u001b[39m,     \u001b[33m8\u001b[39m,\n",
      "      \u001b[33m34\u001b[39m,   \u001b[33m144\u001b[39m,   \u001b[33m610\u001b[39m,\n",
      "    \u001b[33m2584\u001b[39m, \u001b[33m10946\u001b[39m, \u001b[33m46368\u001b[39m,\n",
      "  \u001b[33m196418\u001b[39m\n",
      "]\n"
     ]
    }
   ],
   "source": [
    "// First 10 even fibonacci numbers\n",
    "Array.from(take(10, filter(makeFibStream(), x => x % 2 === 0)));"
   ]
  },
  {
   "cell_type": "markdown",
   "id": "ff0be79d",
   "metadata": {},
   "source": [
    "### `map`\n",
    "\n",
    "And another old friend the `map()` function, but on a stream:"
   ]
  },
  {
   "cell_type": "code",
   "execution_count": 36,
   "id": "20d6d785",
   "metadata": {},
   "outputs": [],
   "source": [
    "function* map<S, T>(sequence: IterableIterator<S>, f: (x: S) => T): Generator<T> {\n",
    "    for (const x of sequence) {\n",
    "        yield f(x);\n",
    "    }\n",
    "}"
   ]
  },
  {
   "cell_type": "markdown",
   "id": "e060044c",
   "metadata": {},
   "source": [
    "### Composition with Streams\n",
    "\n",
    "- The abstraction of streams makes it easy to write compositional functions on infinite data structures."
   ]
  },
  {
   "cell_type": "code",
   "execution_count": 37,
   "id": "c5aab387",
   "metadata": {},
   "outputs": [
    {
     "name": "stdout",
     "output_type": "stream",
     "text": [
      "[\n",
      "       \u001b[33m0\u001b[39m,     \u001b[33m2\u001b[39m,     \u001b[33m8\u001b[39m,\n",
      "      \u001b[33m34\u001b[39m,   \u001b[33m144\u001b[39m,   \u001b[33m610\u001b[39m,\n",
      "    \u001b[33m2584\u001b[39m, \u001b[33m10946\u001b[39m, \u001b[33m46368\u001b[39m,\n",
      "  \u001b[33m196418\u001b[39m\n",
      "]\n"
     ]
    }
   ],
   "source": [
    "Array.from(take(10, filter(makeFibStream(), x => x % 2 === 0)));"
   ]
  },
  {
   "cell_type": "code",
   "execution_count": 38,
   "id": "0f4080b6",
   "metadata": {},
   "outputs": [
    {
     "name": "stdout",
     "output_type": "stream",
     "text": [
      "[\n",
      "       \u001b[33m144\u001b[39m,      \u001b[33m610\u001b[39m,\n",
      "      \u001b[33m2584\u001b[39m,    \u001b[33m10946\u001b[39m,\n",
      "     \u001b[33m46368\u001b[39m,   \u001b[33m196418\u001b[39m,\n",
      "    \u001b[33m832040\u001b[39m,  \u001b[33m3524578\u001b[39m,\n",
      "  \u001b[33m14930352\u001b[39m, \u001b[33m63245986\u001b[39m\n",
      "]\n"
     ]
    }
   ],
   "source": [
    "Array.from(take(10, filter(skip(10, makeFibStream()), x => x % 2 === 0)));"
   ]
  },
  {
   "cell_type": "code",
   "execution_count": 39,
   "id": "d5db4a40",
   "metadata": {},
   "outputs": [
    {
     "name": "stdout",
     "output_type": "stream",
     "text": [
      "[\n",
      "       \u001b[33m288\u001b[39m,      \u001b[33m1220\u001b[39m,\n",
      "      \u001b[33m5168\u001b[39m,     \u001b[33m21892\u001b[39m,\n",
      "     \u001b[33m92736\u001b[39m,    \u001b[33m392836\u001b[39m,\n",
      "   \u001b[33m1664080\u001b[39m,   \u001b[33m7049156\u001b[39m,\n",
      "  \u001b[33m29860704\u001b[39m, \u001b[33m126491972\u001b[39m\n",
      "]\n"
     ]
    }
   ],
   "source": [
    "Array.from(take(10, map(filter(skip(10, makeFibStream()), x => x % 2 === 0), x => x * 2)));"
   ]
  },
  {
   "cell_type": "markdown",
   "id": "ca59cad9",
   "metadata": {},
   "source": [
    "### Optional: Primes (sieve)\n",
    "\n",
    "- A recursive stream!\n",
    "- Note the asterisk before the recursive _call_ to sieve."
   ]
  },
  {
   "cell_type": "code",
   "execution_count": 40,
   "id": "a6d8af45",
   "metadata": {},
   "outputs": [],
   "source": [
    "function *sieve(sequence: IterableIterator<number>): Generator<number> {\n",
    "    // We're called with the next lowest prime we know.\n",
    "    const first = sequence.next().value;\n",
    "    \n",
    "    // Generate that prime.\n",
    "    yield first;\n",
    "    \n",
    "    // And continue the stream, but filter out all multiples of our prime\n",
    "    yield *sieve(filter(sequence, x => x % first !== 0));\n",
    "}"
   ]
  },
  {
   "cell_type": "code",
   "execution_count": 41,
   "id": "782ce980",
   "metadata": {},
   "outputs": [
    {
     "name": "stdout",
     "output_type": "stream",
     "text": [
      "[\n",
      "    \u001b[33m2\u001b[39m,   \u001b[33m3\u001b[39m,   \u001b[33m5\u001b[39m,   \u001b[33m7\u001b[39m,  \u001b[33m11\u001b[39m,  \u001b[33m13\u001b[39m,  \u001b[33m17\u001b[39m,  \u001b[33m19\u001b[39m,  \u001b[33m23\u001b[39m,  \u001b[33m29\u001b[39m,  \u001b[33m31\u001b[39m,  \u001b[33m37\u001b[39m,\n",
      "   \u001b[33m41\u001b[39m,  \u001b[33m43\u001b[39m,  \u001b[33m47\u001b[39m,  \u001b[33m53\u001b[39m,  \u001b[33m59\u001b[39m,  \u001b[33m61\u001b[39m,  \u001b[33m67\u001b[39m,  \u001b[33m71\u001b[39m,  \u001b[33m73\u001b[39m,  \u001b[33m79\u001b[39m,  \u001b[33m83\u001b[39m,  \u001b[33m89\u001b[39m,\n",
      "   \u001b[33m97\u001b[39m, \u001b[33m101\u001b[39m, \u001b[33m103\u001b[39m, \u001b[33m107\u001b[39m, \u001b[33m109\u001b[39m, \u001b[33m113\u001b[39m, \u001b[33m127\u001b[39m, \u001b[33m131\u001b[39m, \u001b[33m137\u001b[39m, \u001b[33m139\u001b[39m, \u001b[33m149\u001b[39m, \u001b[33m151\u001b[39m,\n",
      "  \u001b[33m157\u001b[39m, \u001b[33m163\u001b[39m, \u001b[33m167\u001b[39m, \u001b[33m173\u001b[39m, \u001b[33m179\u001b[39m, \u001b[33m181\u001b[39m, \u001b[33m191\u001b[39m, \u001b[33m193\u001b[39m, \u001b[33m197\u001b[39m, \u001b[33m199\u001b[39m, \u001b[33m211\u001b[39m, \u001b[33m223\u001b[39m,\n",
      "  \u001b[33m227\u001b[39m, \u001b[33m229\u001b[39m, \u001b[33m233\u001b[39m, \u001b[33m239\u001b[39m, \u001b[33m241\u001b[39m, \u001b[33m251\u001b[39m, \u001b[33m257\u001b[39m, \u001b[33m263\u001b[39m, \u001b[33m269\u001b[39m, \u001b[33m271\u001b[39m, \u001b[33m277\u001b[39m, \u001b[33m281\u001b[39m,\n",
      "  \u001b[33m283\u001b[39m, \u001b[33m293\u001b[39m, \u001b[33m307\u001b[39m, \u001b[33m311\u001b[39m, \u001b[33m313\u001b[39m, \u001b[33m317\u001b[39m, \u001b[33m331\u001b[39m, \u001b[33m337\u001b[39m, \u001b[33m347\u001b[39m, \u001b[33m349\u001b[39m, \u001b[33m353\u001b[39m, \u001b[33m359\u001b[39m,\n",
      "  \u001b[33m367\u001b[39m, \u001b[33m373\u001b[39m, \u001b[33m379\u001b[39m, \u001b[33m383\u001b[39m, \u001b[33m389\u001b[39m, \u001b[33m397\u001b[39m, \u001b[33m401\u001b[39m, \u001b[33m409\u001b[39m, \u001b[33m419\u001b[39m, \u001b[33m421\u001b[39m, \u001b[33m431\u001b[39m, \u001b[33m433\u001b[39m,\n",
      "  \u001b[33m439\u001b[39m, \u001b[33m443\u001b[39m, \u001b[33m449\u001b[39m, \u001b[33m457\u001b[39m, \u001b[33m461\u001b[39m, \u001b[33m463\u001b[39m, \u001b[33m467\u001b[39m, \u001b[33m479\u001b[39m, \u001b[33m487\u001b[39m, \u001b[33m491\u001b[39m, \u001b[33m499\u001b[39m, \u001b[33m503\u001b[39m,\n",
      "  \u001b[33m509\u001b[39m, \u001b[33m521\u001b[39m, \u001b[33m523\u001b[39m, \u001b[33m541\u001b[39m\n",
      "]\n"
     ]
    }
   ],
   "source": [
    "function* naturals(): Generator<number> {\n",
    "    let i = 1;\n",
    "    while (true) {\n",
    "        yield i;\n",
    "        i ++;\n",
    "    }\n",
    "}\n",
    "\n",
    "// Skip the first natural (1), it's not a prime.\n",
    "Array.from(take(100, sieve(skip(1, naturals()))));"
   ]
  },
  {
   "cell_type": "markdown",
   "id": "60e32d8c",
   "metadata": {},
   "source": [
    "### Primes (factors)\n",
    "\n",
    "Another approach. First, a function that generates all factors of a number (not including 1 or itself), as a stream:"
   ]
  },
  {
   "cell_type": "code",
   "execution_count": 42,
   "id": "ec9331d3",
   "metadata": {},
   "outputs": [],
   "source": [
    "function* factors(n: number): Generator<number> {\n",
    "    for (let i = 2; i < n; i++) {\n",
    "        if (n % i === 0) {\n",
    "            // Uncomment this to see how many factors are actually being generated:\n",
    "            // console.log(\"Generating factor\", i);\n",
    "            yield i;\n",
    "        }\n",
    "    }\n",
    "}"
   ]
  },
  {
   "cell_type": "code",
   "execution_count": 43,
   "id": "6654cbb4",
   "metadata": {
    "scrolled": true
   },
   "outputs": [
    {
     "name": "stdout",
     "output_type": "stream",
     "text": [
      "[\n",
      "   \u001b[33m2\u001b[39m,  \u001b[33m3\u001b[39m,  \u001b[33m4\u001b[39m,  \u001b[33m5\u001b[39m,  \u001b[33m6\u001b[39m,\n",
      "  \u001b[33m10\u001b[39m, \u001b[33m12\u001b[39m, \u001b[33m15\u001b[39m, \u001b[33m20\u001b[39m, \u001b[33m30\u001b[39m\n",
      "]\n"
     ]
    }
   ],
   "source": [
    "Array.from(factors(60));"
   ]
  },
  {
   "cell_type": "code",
   "execution_count": 44,
   "id": "703b22c3",
   "metadata": {},
   "outputs": [],
   "source": [
    "// Helper function to see if a stream is empty.\n",
    "function isEmpty(sequence: IterableIterator<number>): boolean {\n",
    "    return sequence.next().done;\n",
    "}"
   ]
  },
  {
   "cell_type": "code",
   "execution_count": 45,
   "id": "16aa65c9",
   "metadata": {},
   "outputs": [],
   "source": [
    "// A number is a prime if it has no factors.\n",
    "function isPrime(n: number): boolean {\n",
    "    return isEmpty(factors(n));\n",
    "}"
   ]
  },
  {
   "cell_type": "code",
   "execution_count": 46,
   "id": "048f3317",
   "metadata": {},
   "outputs": [
    {
     "name": "stdout",
     "output_type": "stream",
     "text": [
      "\u001b[33m2\u001b[39m \u001b[33mtrue\u001b[39m\n",
      "\u001b[33m10\u001b[39m \u001b[33mfalse\u001b[39m\n",
      "\u001b[33m15\u001b[39m \u001b[33mfalse\u001b[39m\n",
      "\u001b[33m19\u001b[39m \u001b[33mtrue\u001b[39m\n",
      "\u001b[33m60\u001b[39m \u001b[33mfalse\u001b[39m\n",
      "\u001b[33m61\u001b[39m \u001b[33mtrue\u001b[39m\n",
      "\u001b[33m1000000\u001b[39m \u001b[33mfalse\u001b[39m\n"
     ]
    }
   ],
   "source": [
    "for (const n of [2, 10, 15, 19, 60, 61, 1000000]) {\n",
    "    console.log(n, isPrime(n));\n",
    "}"
   ]
  },
  {
   "cell_type": "markdown",
   "id": "dc9b098f",
   "metadata": {},
   "source": [
    "Note that for that last large element, we didn't need to generate all factors, only one."
   ]
  },
  {
   "cell_type": "markdown",
   "id": "d8b14dd5",
   "metadata": {},
   "source": [
    "# Composition\n",
    "\n",
    "Lazy evaluation of streams makes it easier to compose functions.\n",
    "\n",
    "For example, say we have:\n",
    "\n",
    "* We have a `map()` function on array.\n",
    "* We have an `or()` function on boolean array that returns whether _any_ element is true.\n",
    "\n",
    "We want:\n",
    "\n",
    "* An `any()` function that takes a predicate and returns whether it returned true for any item.\n",
    "\n",
    "Eager version:\n",
    "\n",
    "```ts\n",
    "function any<T>(f: (e: T) => boolean, arr: T[]): boolean {\n",
    "    return or(map(f, arr));\n",
    "}\n",
    "```\n",
    "\n",
    "But this is inefficient! It'll run `f()` on every item, even if the first returns `true`.\n",
    "\n",
    "So we must write our own version of `any()` that copies the code of both `map()` and `or()`:\n",
    "\n",
    "```ts\n",
    "function any<T>(f: (e: T) => boolean, arr: T[]): boolean {\n",
    "    for (const e of arr) {\n",
    "        if (f(e)) {\n",
    "            return true;\n",
    "        }\n",
    "    }\n",
    "    \n",
    "    return false;\n",
    "}\n",
    "```\n",
    "\n",
    "Had the original array been a stream, the two would have been equally efficient. (**Why?**)\n"
   ]
  },
  {
   "cell_type": "markdown",
   "id": "c2536eab",
   "metadata": {},
   "source": [
    "# Java streams\n",
    "\n",
    "In Java, `map()` and `filter()` only work on streams:\n",
    "\n",
    "```java\n",
    "myArray.stream()\n",
    "    .map(site -> site.domainName)\n",
    "    .filter(domainName -> domainName.startsWith(\"www\"))\n",
    "    .toList();\n",
    "```"
   ]
  },
  {
   "cell_type": "markdown",
   "id": "00d3dc61",
   "metadata": {},
   "source": [
    "# Conclusion\n",
    "\n",
    "What we learned:\n",
    "\n",
    "1. **Eager evaluation** can make some things impossible to implement as a function, such as a conditional.\n",
    "2. **Lazy evaluation** can make these possible.\n",
    "3. **Thunks** encapsulate \"computation to be done\", and **memoize** (cache) the result.\n",
    "4. **Streams** are the lazy function of an array.\n",
    "5. **Generators** in JavaScript and TypeScript (and Python) make generating streams easy.\n",
    "6. Streams can represent **infinite lists** without infinite loops.\n",
    "7. Streams can make **composition** easier.\n"
   ]
  },
  {
   "cell_type": "code",
   "execution_count": null,
   "id": "5a821d9f",
   "metadata": {},
   "outputs": [],
   "source": []
  }
 ],
 "metadata": {
  "kernelspec": {
   "display_name": "TypeScript",
   "language": "typescript",
   "name": "typescript"
  },
  "language_info": {
   "codemirror_mode": {
    "mode": "typescript",
    "name": "javascript",
    "typescript": true
   },
   "file_extension": ".ts",
   "mimetype": "text/typescript",
   "name": "typescript",
   "version": "3.7.2"
  }
 },
 "nbformat": 4,
 "nbformat_minor": 5
}
