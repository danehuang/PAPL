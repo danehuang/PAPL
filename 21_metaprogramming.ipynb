{
 "cells": [
  {
   "cell_type": "code",
   "execution_count": 1,
   "id": "fd2fdff4",
   "metadata": {},
   "outputs": [
    {
     "data": {
      "text/html": [
       "\n",
       "  <link rel=\"stylesheet\" href=\"node_modules/carbon-components/css/carbon-components.css\">\n",
       "  "
      ]
     },
     "metadata": {},
     "output_type": "display_data"
    },
    {
     "data": {
      "text/html": [
       "\n",
       "<script>\n",
       "require.config({\n",
       "     paths: {\n",
       "     cytoscape: 'https://cdnjs.cloudflare.com/ajax/libs/cytoscape/3.19.0/cytoscape.min'\n",
       "}});\n",
       "</script>\n",
       "  "
      ]
     },
     "metadata": {},
     "output_type": "display_data"
    }
   ],
   "source": [
    "import { requireCytoscape, requireCarbon } from \"./lib/draw\";\n",
    "\n",
    "requireCarbon();\n",
    "requireCytoscape();"
   ]
  },
  {
   "cell_type": "markdown",
   "id": "d1fd6b03",
   "metadata": {},
   "source": [
    "# Meta-Programming"
   ]
  },
  {
   "cell_type": "code",
   "execution_count": 2,
   "id": "5d96d0b3",
   "metadata": {},
   "outputs": [],
   "source": [
    "import { draw, treeLayout } from \"./lib/draw\";\n",
    "import * as T from \"./lib/lambdats/token\";\n",
    "import * as E from \"./lib/lambdats/expr\";\n",
    "import * as I from \"./lib/lambdats/substInterp\";\n",
    "import * as Transpiler from \"./lib/lambdats/transpile\";\n",
    "import * as Parser from \"./lib/lambdats/parser\";\n",
    "\n",
    "function drawProg(prog: string|E.Expr): void {\n",
    "    if (typeof prog === 'string') {\n",
    "        draw(E.cytoscapify(Parser.parse(prog)), 800, 350, treeLayout);\n",
    "    } else {\n",
    "        draw(E.cytoscapify(prog), 800, 350, treeLayout);\n",
    "    }\n",
    "}"
   ]
  },
  {
   "cell_type": "markdown",
   "id": "be644191",
   "metadata": {},
   "source": [
    "## Where Were We?\n",
    "\n",
    "1. Language primitives (i.e., building blocks of languages)\n",
    "2. Language paradigms (i.e., combinations of language primitives)\n",
    "3. **Building a language** (i.e., designing your own language)\n",
    "    * Last time: compilers and transpilers\n",
    "    * This time: **meta-programming** at run-time"
   ]
  },
  {
   "cell_type": "markdown",
   "id": "4ed40ec7",
   "metadata": {},
   "source": [
    "## Meta-Programming = The \"Final\" Programming Paradigm\n",
    "\n",
    "1. Meta-programming: a program that modifies/generates programs.\n",
    "2. We already saw 1 \"meta-program\", a compiler/transpiler.\n",
    "3. Today, we will look at eval/apply form of meta-programming, or, the idea that \"code is data and data is code\".\n",
    "4. This let's us change our code as we run it. This is different from **macros**, or static/compile-time meta-programming."
   ]
  },
  {
   "cell_type": "markdown",
   "id": "5e1cae3b",
   "metadata": {},
   "source": [
    "## Eval/Apply: Code is Data, Data is Code\n",
    "\n",
    "1. Code = Expression, i.e., an AST that still has computation left to be run.\n",
    "2. Data = Value, i.e., a subset of expressions that has no computation left to be run. Recall that a value can contain anonymous functions, which when called with an argument, can run computation.\n",
    "3. **Eval** will take some data and turn it into code. **Apply** will take some code and use it to produce data."
   ]
  },
  {
   "cell_type": "code",
   "execution_count": 3,
   "id": "9dfd8086",
   "metadata": {},
   "outputs": [],
   "source": [
    "import * as ts from \"typescript\";"
   ]
  },
  {
   "cell_type": "markdown",
   "id": "ca4213c2",
   "metadata": {},
   "source": [
    "### 1. Input TypeScript Program"
   ]
  },
  {
   "cell_type": "code",
   "execution_count": 4,
   "id": "22cb44fd",
   "metadata": {},
   "outputs": [
    {
     "name": "stdout",
     "output_type": "stream",
     "text": [
      "\u001b[33m2\u001b[39m\n"
     ]
    }
   ],
   "source": [
    "function f(x: number): number { // code\n",
    "    return x + 1;\n",
    "}\n",
    "\n",
    "f(1)"
   ]
  },
  {
   "cell_type": "markdown",
   "id": "351db350",
   "metadata": {},
   "source": [
    "#### Corresponding LambdaTS2 program\n",
    "```ts\n",
    "let f = (λx => x + 1) in \n",
    "f(1)\n",
    "```"
   ]
  },
  {
   "cell_type": "markdown",
   "id": "95b66a9c",
   "metadata": {},
   "source": [
    "### 2. Input TypeScript Program as a TypeScript String"
   ]
  },
  {
   "cell_type": "code",
   "execution_count": 5,
   "id": "4c88df15",
   "metadata": {},
   "outputs": [
    {
     "name": "stdout",
     "output_type": "stream",
     "text": [
      "\n",
      "function f(x: number): number { // code\n",
      "    return x + 1;\n",
      "}\n",
      "\n",
      "f(1)\n",
      "\n"
     ]
    }
   ],
   "source": [
    "// This string just happens to contain a valid TypeScript Program, data\n",
    "`\n",
    "function f(x: number): number { // code\n",
    "    return x + 1;\n",
    "}\n",
    "\n",
    "f(1)\n",
    "`"
   ]
  },
  {
   "cell_type": "code",
   "execution_count": 6,
   "id": "8a7c11c9",
   "metadata": {},
   "outputs": [
    {
     "name": "stdout",
     "output_type": "stream",
     "text": [
      "function f(x) {\n",
      "    return x + 1;\n",
      "}\n",
      "\n",
      "f(1);\n"
     ]
    }
   ],
   "source": [
    "// We can also convert the function directly to a string, albeit in a lossy manner\n",
    "const source: string = f.toString() + \"\\n\\nf(1);\";\n",
    "source"
   ]
  },
  {
   "cell_type": "markdown",
   "id": "fb77bdee",
   "metadata": {},
   "source": [
    "### 3. TypeScript Program that Parses TypeScript Strings "
   ]
  },
  {
   "cell_type": "code",
   "execution_count": 7,
   "id": "d669e8d3",
   "metadata": {},
   "outputs": [
    {
     "name": "stdout",
     "output_type": "stream",
     "text": [
      "\u001b[36m<ref *1>\u001b[39m SourceFileObject {\n",
      "  pos: \u001b[33m0\u001b[39m,\n",
      "  end: \u001b[33m42\u001b[39m,\n",
      "  flags: \u001b[33m0\u001b[39m,\n",
      "  modifierFlagsCache: \u001b[33m0\u001b[39m,\n",
      "  transformFlags: \u001b[33m64\u001b[39m,\n",
      "  parent: \u001b[90mundefined\u001b[39m,\n",
      "  kind: \u001b[33m300\u001b[39m,\n",
      "  statements: [\n",
      "    NodeObject {\n",
      "      pos: \u001b[33m0\u001b[39m,\n",
      "      end: \u001b[33m35\u001b[39m,\n",
      "      flags: \u001b[33m0\u001b[39m,\n",
      "      modifierFlagsCache: \u001b[33m0\u001b[39m,\n",
      "      transformFlags: \u001b[33m2097216\u001b[39m,\n",
      "      parent: \u001b[36m[Circular *1]\u001b[39m,\n",
      "      kind: \u001b[33m254\u001b[39m,\n",
      "      decorators: \u001b[90mundefined\u001b[39m,\n",
      "      modifiers: \u001b[90mundefined\u001b[39m,\n",
      "      symbol: \u001b[90mundefined\u001b[39m,\n",
      "      localSymbol: \u001b[90mundefined\u001b[39m,\n",
      "      locals: \u001b[90mundefined\u001b[39m,\n",
      "      nextContainer: \u001b[90mundefined\u001b[39m,\n",
      "      name: \u001b[36m[IdentifierObject]\u001b[39m,\n",
      "      typeParameters: \u001b[90mundefined\u001b[39m,\n",
      "      parameters: \u001b[36m[Array]\u001b[39m,\n",
      "      type: \u001b[90mundefined\u001b[39m,\n",
      "      body: \u001b[36m[NodeObject]\u001b[39m,\n",
      "      asteriskToken: \u001b[90mundefined\u001b[39m\n",
      "    },\n",
      "    NodeObject {\n",
      "      pos: \u001b[33m35\u001b[39m,\n",
      "      end: \u001b[33m42\u001b[39m,\n",
      "      flags: \u001b[33m0\u001b[39m,\n",
      "      modifierFlagsCache: \u001b[33m0\u001b[39m,\n",
      "      transformFlags: \u001b[33m0\u001b[39m,\n",
      "      parent: \u001b[36m[Circular *1]\u001b[39m,\n",
      "      kind: \u001b[33m236\u001b[39m,\n",
      "      expression: \u001b[36m[NodeObject]\u001b[39m\n",
      "    },\n",
      "    pos: \u001b[33m0\u001b[39m,\n",
      "    end: \u001b[33m42\u001b[39m,\n",
      "    hasTrailingComma: \u001b[33mfalse\u001b[39m,\n",
      "    transformFlags: \u001b[33m64\u001b[39m\n",
      "  ],\n",
      "  endOfFileToken: TokenObject {\n",
      "    pos: \u001b[33m42\u001b[39m,\n",
      "    end: \u001b[33m42\u001b[39m,\n",
      "    flags: \u001b[33m0\u001b[39m,\n",
      "    modifierFlagsCache: \u001b[33m0\u001b[39m,\n",
      "    transformFlags: \u001b[33m0\u001b[39m,\n",
      "    parent: \u001b[36m[Circular *1]\u001b[39m,\n",
      "    kind: \u001b[33m1\u001b[39m\n",
      "  },\n",
      "  fileName: \u001b[32m'tmp.ts'\u001b[39m,\n",
      "  text: \u001b[32m'function f(x) {\\n    return x + 1;\\n}\\n\\nf(1);'\u001b[39m,\n",
      "  languageVersion: \u001b[33m2\u001b[39m,\n",
      "  languageVariant: \u001b[33m0\u001b[39m,\n",
      "  scriptKind: \u001b[33m3\u001b[39m,\n",
      "  isDeclarationFile: \u001b[33mfalse\u001b[39m,\n",
      "  hasNoDefaultLib: \u001b[33mfalse\u001b[39m,\n",
      "  externalModuleIndicator: \u001b[90mundefined\u001b[39m,\n",
      "  bindDiagnostics: [],\n",
      "  bindSuggestionDiagnostics: \u001b[90mundefined\u001b[39m,\n",
      "  pragmas: Map(0) {},\n",
      "  checkJsDirective: \u001b[90mundefined\u001b[39m,\n",
      "  referencedFiles: [],\n",
      "  typeReferenceDirectives: [],\n",
      "  libReferenceDirectives: [],\n",
      "  amdDependencies: [],\n",
      "  commentDirectives: \u001b[90mundefined\u001b[39m,\n",
      "  nodeCount: \u001b[33m16\u001b[39m,\n",
      "  identifierCount: \u001b[33m4\u001b[39m,\n",
      "  identifiers: Map(2) { \u001b[32m'f'\u001b[39m => \u001b[32m'f'\u001b[39m, \u001b[32m'x'\u001b[39m => \u001b[32m'x'\u001b[39m },\n",
      "  parseDiagnostics: []\n",
      "}\n"
     ]
    }
   ],
   "source": [
    "// ts.createSourceFile is a Lexer+Parser\n",
    "const sourceFile: ts.SourceFile = ts.createSourceFile('tmp.ts', source, ts.ScriptTarget.ES2015, true, ts.ScriptKind.TS);\n",
    "\n",
    "// Now that we have an AST, we can write an interpreter / compiler\n",
    "sourceFile"
   ]
  },
  {
   "cell_type": "markdown",
   "id": "4be937f3",
   "metadata": {},
   "source": [
    "#### Corresponding LambdaTS2 AST"
   ]
  },
  {
   "cell_type": "code",
   "execution_count": 8,
   "id": "9f3c3da0",
   "metadata": {},
   "outputs": [
    {
     "data": {
      "text/html": [
       "\n",
       "<style>\n",
       "    #mydivcd1cc6f0-97d8-40c4-8fb3-14bc185fdda3 {\n",
       "        width: 800px;\n",
       "        height: 350px;\n",
       "        top: 0px;\n",
       "        left: 0px;\n",
       "    }\n",
       "</style>\n",
       "<div id=\"mydivcd1cc6f0-97d8-40c4-8fb3-14bc185fdda3\"></div>\n"
      ]
     },
     "metadata": {},
     "output_type": "display_data"
    },
    {
     "data": {
      "text/html": [
       "\n",
       "<script>\n",
       " (function(element) {\n",
       "     require(['cytoscape'], function(cytoscape) {   \n",
       "        var cy = cytoscape({\n",
       "         container: document.getElementById('mydivcd1cc6f0-97d8-40c4-8fb3-14bc185fdda3'),\n",
       "         style: [\n",
       "{\n",
       "  selector: 'node',\n",
       "  css: {\n",
       "    'class': \".bx--tree\",\n",
       "    'label': 'data(label)',\n",
       "    'height': '10px',\n",
       "    'width': '10px',\n",
       "  }\n",
       "},\n",
       "{\n",
       "  selector: 'edge',\n",
       "  css: {\n",
       "    'width': 3,\n",
       "    // 'line-color': '#ccc123',\n",
       "    'curve-style': 'bezier',\n",
       "    'target-arrow-shape': 'triangle',\n",
       "    'target-arrow-fill': 'filled',\n",
       "    'arrow-scale': 1,\n",
       "  }\n",
       "}\n",
       "],\n",
       "         layout: \n",
       "{\n",
       "  name: 'preset'\n",
       "}\n",
       ",\n",
       "         elements: [\n",
       "  { data: { id: 'let1', label: 'let(f)' }, position: { x: 0, y: 0 } },\n",
       "  { data: { id: 'edge9', source: 'let1', target: 'function2' } },\n",
       "  { data: { id: 'edge15', source: 'let1', target: 'call10' } },\n",
       "  {\n",
       "    data: { id: 'function2', label: 'λ(x)' },\n",
       "    position: { x: -100, y: 50 }\n",
       "  },\n",
       "  { data: { id: 'edge8', source: 'function2', target: 'binary3' } },\n",
       "  {\n",
       "    data: { id: 'binary3', label: '+' },\n",
       "    position: { x: -100, y: 100 }\n",
       "  },\n",
       "  { data: { id: 'edge5', source: 'binary3', target: 'identifier4' } },\n",
       "  { data: { id: 'edge7', source: 'binary3', target: 'number6' } },\n",
       "  {\n",
       "    data: { id: 'identifier4', label: 'x' },\n",
       "    position: { x: -133.33333333333334, y: 150 }\n",
       "  },\n",
       "  {\n",
       "    data: { id: 'number6', label: 1 },\n",
       "    position: { x: -66.66666666666666, y: 150 }\n",
       "  },\n",
       "  {\n",
       "    data: { id: 'call10', label: 'call' },\n",
       "    position: { x: 100, y: 50 }\n",
       "  },\n",
       "  { data: { id: 'edge12', source: 'call10', target: 'identifier11' } },\n",
       "  { data: { id: 'edge14', source: 'call10', target: 'number13' } },\n",
       "  {\n",
       "    data: { id: 'identifier11', label: 'f' },\n",
       "    position: { x: 50, y: 100 }\n",
       "  },\n",
       "  { data: { id: 'number13', label: 1 }, position: { x: 150, y: 100 } }\n",
       "]\n",
       "         });\n",
       "     });\n",
       " })(this.element);\n",
       "</script>\n"
      ]
     },
     "metadata": {},
     "output_type": "display_data"
    }
   ],
   "source": [
    "const inputString = \"let f = λx => x + 1 in f(1)\";  // source\n",
    "const outputAST = Parser.parse(inputString);        // sourceFile, Parser.parse is ts.createSourceFile\n",
    "drawProg(outputAST)"
   ]
  },
  {
   "cell_type": "markdown",
   "id": "832e1a09",
   "metadata": {},
   "source": [
    "#### TypeScript AST\n",
    "\n",
    "If you're interested in exploring the AST for TypeScript, this is a good link [TypeScript AST Viewer](https://ts-ast-viewer.com/#)."
   ]
  },
  {
   "cell_type": "markdown",
   "id": "1416047d",
   "metadata": {},
   "source": [
    "### 4. TypeScript Program that Converts TypeScript AST Back into String"
   ]
  },
  {
   "cell_type": "code",
   "execution_count": 9,
   "id": "b71ed2b6",
   "metadata": {},
   "outputs": [
    {
     "name": "stdout",
     "output_type": "stream",
     "text": [
      "function f(x) {\n",
      "    return x + 1;\n",
      "}\n",
      "f(1);\n",
      "\n"
     ]
    }
   ],
   "source": [
    "const printer = ts.createPrinter({ newLine: ts.NewLineKind.LineFeed });\n",
    "printer.printFile(sourceFile)"
   ]
  },
  {
   "cell_type": "markdown",
   "id": "5a52a64d",
   "metadata": {},
   "source": [
    "#### Corresponding LambdaTS2 Printer"
   ]
  },
  {
   "cell_type": "code",
   "execution_count": 10,
   "id": "04dcaa22",
   "metadata": {},
   "outputs": [
    {
     "data": {
      "text/html": [
       "\n",
       "<style>\n",
       "    #mydiv3d43a66d-fffd-42e2-89b5-c0d207010ad3 {\n",
       "        width: 800px;\n",
       "        height: 350px;\n",
       "        top: 0px;\n",
       "        left: 0px;\n",
       "    }\n",
       "</style>\n",
       "<div id=\"mydiv3d43a66d-fffd-42e2-89b5-c0d207010ad3\"></div>\n"
      ]
     },
     "metadata": {},
     "output_type": "display_data"
    },
    {
     "data": {
      "text/html": [
       "\n",
       "<script>\n",
       " (function(element) {\n",
       "     require(['cytoscape'], function(cytoscape) {   \n",
       "        var cy = cytoscape({\n",
       "         container: document.getElementById('mydiv3d43a66d-fffd-42e2-89b5-c0d207010ad3'),\n",
       "         style: [\n",
       "{\n",
       "  selector: 'node',\n",
       "  css: {\n",
       "    'class': \".bx--tree\",\n",
       "    'label': 'data(label)',\n",
       "    'height': '10px',\n",
       "    'width': '10px',\n",
       "  }\n",
       "},\n",
       "{\n",
       "  selector: 'edge',\n",
       "  css: {\n",
       "    'width': 3,\n",
       "    // 'line-color': '#ccc123',\n",
       "    'curve-style': 'bezier',\n",
       "    'target-arrow-shape': 'triangle',\n",
       "    'target-arrow-fill': 'filled',\n",
       "    'arrow-scale': 1,\n",
       "  }\n",
       "}\n",
       "],\n",
       "         layout: \n",
       "{\n",
       "  name: 'preset'\n",
       "}\n",
       ",\n",
       "         elements: [\n",
       "  { data: { id: 'let1', label: 'let(f)' }, position: { x: 0, y: 0 } },\n",
       "  { data: { id: 'edge9', source: 'let1', target: 'function2' } },\n",
       "  { data: { id: 'edge15', source: 'let1', target: 'call10' } },\n",
       "  {\n",
       "    data: { id: 'function2', label: 'λ(x)' },\n",
       "    position: { x: -100, y: 50 }\n",
       "  },\n",
       "  { data: { id: 'edge8', source: 'function2', target: 'binary3' } },\n",
       "  {\n",
       "    data: { id: 'binary3', label: '+' },\n",
       "    position: { x: -100, y: 100 }\n",
       "  },\n",
       "  { data: { id: 'edge5', source: 'binary3', target: 'identifier4' } },\n",
       "  { data: { id: 'edge7', source: 'binary3', target: 'number6' } },\n",
       "  {\n",
       "    data: { id: 'identifier4', label: 'x' },\n",
       "    position: { x: -133.33333333333334, y: 150 }\n",
       "  },\n",
       "  {\n",
       "    data: { id: 'number6', label: 1 },\n",
       "    position: { x: -66.66666666666666, y: 150 }\n",
       "  },\n",
       "  {\n",
       "    data: { id: 'call10', label: 'call' },\n",
       "    position: { x: 100, y: 50 }\n",
       "  },\n",
       "  { data: { id: 'edge12', source: 'call10', target: 'identifier11' } },\n",
       "  { data: { id: 'edge14', source: 'call10', target: 'number13' } },\n",
       "  {\n",
       "    data: { id: 'identifier11', label: 'f' },\n",
       "    position: { x: 50, y: 100 }\n",
       "  },\n",
       "  { data: { id: 'number13', label: 1 }, position: { x: 150, y: 100 } }\n",
       "]\n",
       "         });\n",
       "     });\n",
       " })(this.element);\n",
       "</script>\n"
      ]
     },
     "metadata": {},
     "output_type": "display_data"
    },
    {
     "name": "stdout",
     "output_type": "stream",
     "text": [
      "let f = (λx=>(x+1)) in f(1)\n"
     ]
    }
   ],
   "source": [
    "drawProg(outputAST)\n",
    "E.exprToString(outputAST)"
   ]
  },
  {
   "cell_type": "markdown",
   "id": "bc823b7c",
   "metadata": {},
   "source": [
    "### 5. TypeScript Program that Converts TypeScript String to JavaScript String"
   ]
  },
  {
   "cell_type": "code",
   "execution_count": 11,
   "id": "55e0f78a",
   "metadata": {},
   "outputs": [
    {
     "name": "stdout",
     "output_type": "stream",
     "text": [
      "function f(x) {\n",
      "    return x + 1;\n",
      "}\n",
      "f(1);\n",
      "\n"
     ]
    }
   ],
   "source": [
    "// sourceFile was a TypeScript AST\n",
    "// It's kind of inefficient to convert the AST back into a string\n",
    "const jsSource = ts.transpile(printer.printFile(sourceFile));\n",
    "jsSource"
   ]
  },
  {
   "cell_type": "markdown",
   "id": "4551dfad",
   "metadata": {},
   "source": [
    "#### Same thing in LambdaTS World"
   ]
  },
  {
   "cell_type": "code",
   "execution_count": 12,
   "id": "55c615b1",
   "metadata": {},
   "outputs": [
    {
     "name": "stdout",
     "output_type": "stream",
     "text": [
      "original let f = (λx=>(x+1)) in f(1)\n",
      "transpiled (λf=>f(1))((λx=>(x+1)))\n"
     ]
    },
    {
     "data": {
      "text/html": [
       "\n",
       "<style>\n",
       "    #mydivc9a6fd82-6fa0-4d39-9f6b-4f9830192764 {\n",
       "        width: 800px;\n",
       "        height: 350px;\n",
       "        top: 0px;\n",
       "        left: 0px;\n",
       "    }\n",
       "</style>\n",
       "<div id=\"mydivc9a6fd82-6fa0-4d39-9f6b-4f9830192764\"></div>\n"
      ]
     },
     "metadata": {},
     "output_type": "display_data"
    },
    {
     "data": {
      "text/html": [
       "\n",
       "<script>\n",
       " (function(element) {\n",
       "     require(['cytoscape'], function(cytoscape) {   \n",
       "        var cy = cytoscape({\n",
       "         container: document.getElementById('mydivc9a6fd82-6fa0-4d39-9f6b-4f9830192764'),\n",
       "         style: [\n",
       "{\n",
       "  selector: 'node',\n",
       "  css: {\n",
       "    'class': \".bx--tree\",\n",
       "    'label': 'data(label)',\n",
       "    'height': '10px',\n",
       "    'width': '10px',\n",
       "  }\n",
       "},\n",
       "{\n",
       "  selector: 'edge',\n",
       "  css: {\n",
       "    'width': 3,\n",
       "    // 'line-color': '#ccc123',\n",
       "    'curve-style': 'bezier',\n",
       "    'target-arrow-shape': 'triangle',\n",
       "    'target-arrow-fill': 'filled',\n",
       "    'arrow-scale': 1,\n",
       "  }\n",
       "}\n",
       "],\n",
       "         layout: \n",
       "{\n",
       "  name: 'preset'\n",
       "}\n",
       ",\n",
       "         elements: [\n",
       "  { data: { id: 'call1', label: 'call' }, position: { x: 0, y: 0 } },\n",
       "  { data: { id: 'edge9', source: 'call1', target: 'function2' } },\n",
       "  { data: { id: 'edge17', source: 'call1', target: 'function10' } },\n",
       "  {\n",
       "    data: { id: 'function2', label: 'λ(f)' },\n",
       "    position: { x: -100, y: 50 }\n",
       "  },\n",
       "  { data: { id: 'edge8', source: 'function2', target: 'call3' } },\n",
       "  {\n",
       "    data: { id: 'call3', label: 'call' },\n",
       "    position: { x: -100, y: 100 }\n",
       "  },\n",
       "  { data: { id: 'edge5', source: 'call3', target: 'identifier4' } },\n",
       "  { data: { id: 'edge7', source: 'call3', target: 'number6' } },\n",
       "  {\n",
       "    data: { id: 'identifier4', label: 'f' },\n",
       "    position: { x: -133.33333333333334, y: 150 }\n",
       "  },\n",
       "  {\n",
       "    data: { id: 'number6', label: 1 },\n",
       "    position: { x: -66.66666666666666, y: 150 }\n",
       "  },\n",
       "  {\n",
       "    data: { id: 'function10', label: 'λ(x)' },\n",
       "    position: { x: 100, y: 50 }\n",
       "  },\n",
       "  { data: { id: 'edge16', source: 'function10', target: 'binary11' } },\n",
       "  {\n",
       "    data: { id: 'binary11', label: '+' },\n",
       "    position: { x: 100, y: 100 }\n",
       "  },\n",
       "  {\n",
       "    data: { id: 'edge13', source: 'binary11', target: 'identifier12' }\n",
       "  },\n",
       "  { data: { id: 'edge15', source: 'binary11', target: 'number14' } },\n",
       "  {\n",
       "    data: { id: 'identifier12', label: 'x' },\n",
       "    position: { x: 66.66666666666666, y: 150 }\n",
       "  },\n",
       "  {\n",
       "    data: { id: 'number14', label: 1 },\n",
       "    position: { x: 133.33333333333334, y: 150 }\n",
       "  }\n",
       "]\n",
       "         });\n",
       "     });\n",
       " })(this.element);\n",
       "</script>\n"
      ]
     },
     "metadata": {},
     "output_type": "display_data"
    }
   ],
   "source": [
    "const lambdaTsAST = Transpiler.transpile(outputAST); // LambdaTS2 -> LambdaTS\n",
    "const lambdaTsSource = E.exprToString(lambdaTsAST);\n",
    "console.log(\"original\", \"let f = (λx=>(x+1)) in f(1)\");\n",
    "console.log(\"transpiled\", lambdaTsSource);\n",
    "drawProg(lambdaTsAST);"
   ]
  },
  {
   "cell_type": "markdown",
   "id": "3cc9b8fc",
   "metadata": {},
   "source": [
    "### 6. JavaScript Function that Converts JavaScript String to JavaScript Function, or Eval"
   ]
  },
  {
   "cell_type": "code",
   "execution_count": 13,
   "id": "6ff8737c",
   "metadata": {},
   "outputs": [
    {
     "name": "stdout",
     "output_type": "stream",
     "text": [
      "return 2\n"
     ]
    }
   ],
   "source": [
    "const f = (x) => x + 1;\n",
    "`return ${f(1)}` // Takes arbitrary TypeScript code, runs it, and converts it into a string"
   ]
  },
  {
   "cell_type": "code",
   "execution_count": 14,
   "id": "11a26aa1",
   "metadata": {},
   "outputs": [
    {
     "name": "stdout",
     "output_type": "stream",
     "text": [
      "original\n",
      " function f(x) {\n",
      "    return x + 1;\n",
      "}\n",
      "f(1);\n",
      "\n",
      "\n",
      "\n",
      "string interpolation\n",
      "\n",
      "return function f(x) {\n",
      "    return x + 1;\n",
      "}\n",
      "f(1);\n",
      "\n"
     ]
    }
   ],
   "source": [
    "console.log(\"original\\n\", jsSource);\n",
    "console.log(\"\\n\\nstring interpolation\\n\");\n",
    "`return ${jsSource}` // Takes arbitrary TypeScript code, runs it, and converts it into a string"
   ]
  },
  {
   "cell_type": "code",
   "execution_count": 15,
   "id": "8d872309",
   "metadata": {},
   "outputs": [
    {
     "name": "stdout",
     "output_type": "stream",
     "text": [
      "g is function \u001b[36m[Function: anonymous]\u001b[39m\n",
      "\n",
      "\n",
      "remember, we could convert a function to a string function anonymous(\n",
      ") {\n",
      "return function f(x) {\n",
      "    return x + 1;\n",
      "}\n",
      "f(1);\n",
      "\n",
      "}\n"
     ]
    }
   ],
   "source": [
    "const g = Function(`return ${jsSource}`); // \"eval\", i.e., \"paste\" into Jupyter repl\n",
    "console.log(\"g is function\", g);\n",
    "console.log(\"\\n\\nremember, we could convert a function to a string\", g.toString());"
   ]
  },
  {
   "cell_type": "code",
   "execution_count": 16,
   "id": "a685b658",
   "metadata": {},
   "outputs": [
    {
     "name": "stdout",
     "output_type": "stream",
     "text": [
      "source function f(x) {\n",
      "    return x + 1;\n",
      "}\n",
      "\u001b[33m2\u001b[39m\n"
     ]
    }
   ],
   "source": [
    "const h = g(); // h is a TypeScript Function that is the result of string manipulation\n",
    "console.log(\"source\", h.toString());\n",
    "h(1)"
   ]
  },
  {
   "cell_type": "markdown",
   "id": "c2d9fe44",
   "metadata": {},
   "source": [
    "#### Eval for LambdaTS2?\n",
    "\n",
    "- We need to write a parser and interpreter in LambdaTS2 in LambdaTS2"
   ]
  },
  {
   "cell_type": "code",
   "execution_count": 17,
   "id": "0c7a659b",
   "metadata": {},
   "outputs": [
    {
     "name": "stdout",
     "output_type": "stream",
     "text": [
      "(λf=>f(1))((λx=>(x+1)))\n"
     ]
    },
    {
     "data": {
      "text/html": [
       "\n",
       "<style>\n",
       "    #mydiv355a5f6a-eebe-49c7-a849-4c10664e9673 {\n",
       "        width: 800px;\n",
       "        height: 350px;\n",
       "        top: 0px;\n",
       "        left: 0px;\n",
       "    }\n",
       "</style>\n",
       "<div id=\"mydiv355a5f6a-eebe-49c7-a849-4c10664e9673\"></div>\n"
      ]
     },
     "metadata": {},
     "output_type": "display_data"
    },
    {
     "data": {
      "text/html": [
       "\n",
       "<script>\n",
       " (function(element) {\n",
       "     require(['cytoscape'], function(cytoscape) {   \n",
       "        var cy = cytoscape({\n",
       "         container: document.getElementById('mydiv355a5f6a-eebe-49c7-a849-4c10664e9673'),\n",
       "         style: [\n",
       "{\n",
       "  selector: 'node',\n",
       "  css: {\n",
       "    'class': \".bx--tree\",\n",
       "    'label': 'data(label)',\n",
       "    'height': '10px',\n",
       "    'width': '10px',\n",
       "  }\n",
       "},\n",
       "{\n",
       "  selector: 'edge',\n",
       "  css: {\n",
       "    'width': 3,\n",
       "    // 'line-color': '#ccc123',\n",
       "    'curve-style': 'bezier',\n",
       "    'target-arrow-shape': 'triangle',\n",
       "    'target-arrow-fill': 'filled',\n",
       "    'arrow-scale': 1,\n",
       "  }\n",
       "}\n",
       "],\n",
       "         layout: \n",
       "{\n",
       "  name: 'preset'\n",
       "}\n",
       ",\n",
       "         elements: [\n",
       "  { data: { id: 'call1', label: 'call' }, position: { x: 0, y: 0 } },\n",
       "  { data: { id: 'edge9', source: 'call1', target: 'function2' } },\n",
       "  { data: { id: 'edge17', source: 'call1', target: 'function10' } },\n",
       "  {\n",
       "    data: { id: 'function2', label: 'λ(f)' },\n",
       "    position: { x: -100, y: 50 }\n",
       "  },\n",
       "  { data: { id: 'edge8', source: 'function2', target: 'call3' } },\n",
       "  {\n",
       "    data: { id: 'call3', label: 'call' },\n",
       "    position: { x: -100, y: 100 }\n",
       "  },\n",
       "  { data: { id: 'edge5', source: 'call3', target: 'identifier4' } },\n",
       "  { data: { id: 'edge7', source: 'call3', target: 'number6' } },\n",
       "  {\n",
       "    data: { id: 'identifier4', label: 'f' },\n",
       "    position: { x: -133.33333333333334, y: 150 }\n",
       "  },\n",
       "  {\n",
       "    data: { id: 'number6', label: 1 },\n",
       "    position: { x: -66.66666666666666, y: 150 }\n",
       "  },\n",
       "  {\n",
       "    data: { id: 'function10', label: 'λ(x)' },\n",
       "    position: { x: 100, y: 50 }\n",
       "  },\n",
       "  { data: { id: 'edge16', source: 'function10', target: 'binary11' } },\n",
       "  {\n",
       "    data: { id: 'binary11', label: '+' },\n",
       "    position: { x: 100, y: 100 }\n",
       "  },\n",
       "  {\n",
       "    data: { id: 'edge13', source: 'binary11', target: 'identifier12' }\n",
       "  },\n",
       "  { data: { id: 'edge15', source: 'binary11', target: 'number14' } },\n",
       "  {\n",
       "    data: { id: 'identifier12', label: 'x' },\n",
       "    position: { x: 66.66666666666666, y: 150 }\n",
       "  },\n",
       "  {\n",
       "    data: { id: 'number14', label: 1 },\n",
       "    position: { x: 133.33333333333334, y: 150 }\n",
       "  }\n",
       "]\n",
       "         });\n",
       "     });\n",
       " })(this.element);\n",
       "</script>\n"
      ]
     },
     "metadata": {},
     "output_type": "display_data"
    }
   ],
   "source": [
    "console.log(lambdaTsSource);\n",
    "const thereAndBackAST = Parser.parse(lambdaTsSource);\n",
    "drawProg(thereAndBackAST);"
   ]
  },
  {
   "cell_type": "markdown",
   "id": "118bf2df",
   "metadata": {},
   "source": [
    "### 7. JavaScript Function is TypeScript Function"
   ]
  },
  {
   "cell_type": "code",
   "execution_count": 18,
   "id": "574d6e54",
   "metadata": {},
   "outputs": [
    {
     "name": "stdout",
     "output_type": "stream",
     "text": [
      "Original\n",
      "(x) => x + 1\n",
      "From AST to String and Back\n",
      "function f(x) {\n",
      "    return x + 1;\n",
      "}\n"
     ]
    }
   ],
   "source": [
    "console.log(\"Original\");\n",
    "console.log(f.toString());\n",
    "console.log(\"From AST to String and Back\");\n",
    "console.log(h.toString());"
   ]
  },
  {
   "cell_type": "code",
   "execution_count": 19,
   "id": "abb5715a",
   "metadata": {},
   "outputs": [
    {
     "name": "stdout",
     "output_type": "stream",
     "text": [
      "[ \u001b[33m4\u001b[39m, \u001b[33m4\u001b[39m ]\n"
     ]
    }
   ],
   "source": [
    "[f(3), h(3)] // Using TypeScript interpreter, i.e., apply"
   ]
  },
  {
   "cell_type": "code",
   "execution_count": 20,
   "id": "289d4abb",
   "metadata": {},
   "outputs": [
    {
     "name": "stdout",
     "output_type": "stream",
     "text": [
      "[ \u001b[33m6\u001b[39m, \u001b[33m6\u001b[39m ]\n"
     ]
    }
   ],
   "source": [
    "[f(5), h(5)] // Uses TypeScript interpreter, i.e., apply"
   ]
  },
  {
   "cell_type": "markdown",
   "id": "7e034064",
   "metadata": {},
   "source": [
    "#### Corresponding Paradigm in LambdaTS2?\n",
    "\n",
    "- Again, we would need to write an interpreter for LambdaTS2 in LambdaTS2.\n",
    "- Here, we're using the interpreter for LambdaTS (remember we transpiled) that we wrote in TypeScript."
   ]
  },
  {
   "cell_type": "code",
   "execution_count": 21,
   "id": "febfd795",
   "metadata": {},
   "outputs": [
    {
     "name": "stdout",
     "output_type": "stream",
     "text": [
      "(λf=>f(1))((λx=>(x+1)))\n"
     ]
    },
    {
     "data": {
      "text/html": [
       "\n",
       "<style>\n",
       "    #mydiv40bb0aa8-7541-46b1-8c57-d5edae6db6d9 {\n",
       "        width: 800px;\n",
       "        height: 350px;\n",
       "        top: 0px;\n",
       "        left: 0px;\n",
       "    }\n",
       "</style>\n",
       "<div id=\"mydiv40bb0aa8-7541-46b1-8c57-d5edae6db6d9\"></div>\n"
      ]
     },
     "metadata": {},
     "output_type": "display_data"
    },
    {
     "data": {
      "text/html": [
       "\n",
       "<script>\n",
       " (function(element) {\n",
       "     require(['cytoscape'], function(cytoscape) {   \n",
       "        var cy = cytoscape({\n",
       "         container: document.getElementById('mydiv40bb0aa8-7541-46b1-8c57-d5edae6db6d9'),\n",
       "         style: [\n",
       "{\n",
       "  selector: 'node',\n",
       "  css: {\n",
       "    'class': \".bx--tree\",\n",
       "    'label': 'data(label)',\n",
       "    'height': '10px',\n",
       "    'width': '10px',\n",
       "  }\n",
       "},\n",
       "{\n",
       "  selector: 'edge',\n",
       "  css: {\n",
       "    'width': 3,\n",
       "    // 'line-color': '#ccc123',\n",
       "    'curve-style': 'bezier',\n",
       "    'target-arrow-shape': 'triangle',\n",
       "    'target-arrow-fill': 'filled',\n",
       "    'arrow-scale': 1,\n",
       "  }\n",
       "}\n",
       "],\n",
       "         layout: \n",
       "{\n",
       "  name: 'preset'\n",
       "}\n",
       ",\n",
       "         elements: [ { data: { id: 'number1', label: 2 }, position: { x: 0, y: 0 } } ]\n",
       "         });\n",
       "     });\n",
       " })(this.element);\n",
       "</script>\n"
      ]
     },
     "metadata": {},
     "output_type": "display_data"
    }
   ],
   "source": [
    "console.log(lambdaTsSource);\n",
    "drawProg(I.interpret(lambdaTsAST))"
   ]
  },
  {
   "cell_type": "code",
   "execution_count": 22,
   "id": "0266b7cd",
   "metadata": {},
   "outputs": [
    {
     "name": "stdout",
     "output_type": "stream",
     "text": [
      "(λf=>f(1))((λx=>(x+1)))\n"
     ]
    },
    {
     "data": {
      "text/html": [
       "\n",
       "<style>\n",
       "    #mydiv116775ae-5fd3-41b7-a4bc-b78fed2d2ac8 {\n",
       "        width: 800px;\n",
       "        height: 350px;\n",
       "        top: 0px;\n",
       "        left: 0px;\n",
       "    }\n",
       "</style>\n",
       "<div id=\"mydiv116775ae-5fd3-41b7-a4bc-b78fed2d2ac8\"></div>\n"
      ]
     },
     "metadata": {},
     "output_type": "display_data"
    },
    {
     "data": {
      "text/html": [
       "\n",
       "<script>\n",
       " (function(element) {\n",
       "     require(['cytoscape'], function(cytoscape) {   \n",
       "        var cy = cytoscape({\n",
       "         container: document.getElementById('mydiv116775ae-5fd3-41b7-a4bc-b78fed2d2ac8'),\n",
       "         style: [\n",
       "{\n",
       "  selector: 'node',\n",
       "  css: {\n",
       "    'class': \".bx--tree\",\n",
       "    'label': 'data(label)',\n",
       "    'height': '10px',\n",
       "    'width': '10px',\n",
       "  }\n",
       "},\n",
       "{\n",
       "  selector: 'edge',\n",
       "  css: {\n",
       "    'width': 3,\n",
       "    // 'line-color': '#ccc123',\n",
       "    'curve-style': 'bezier',\n",
       "    'target-arrow-shape': 'triangle',\n",
       "    'target-arrow-fill': 'filled',\n",
       "    'arrow-scale': 1,\n",
       "  }\n",
       "}\n",
       "],\n",
       "         layout: \n",
       "{\n",
       "  name: 'preset'\n",
       "}\n",
       ",\n",
       "         elements: [ { data: { id: 'number1', label: 2 }, position: { x: 0, y: 0 } } ]\n",
       "         });\n",
       "     });\n",
       " })(this.element);\n",
       "</script>\n"
      ]
     },
     "metadata": {},
     "output_type": "display_data"
    }
   ],
   "source": [
    "console.log(lambdaTsSource);\n",
    "drawProg(I.interpret(thereAndBackAST));"
   ]
  },
  {
   "cell_type": "markdown",
   "id": "1a996949",
   "metadata": {},
   "source": [
    "## Application: Code Instrumentation\n",
    "\n",
    "- Problem: suppose you want to debug a function by printing out all of its arguments. \n",
    "- Solution: write a meta-program that instruments your code to print out all of its arguments.\n",
    "\n",
    "These ideas might appear in:\n",
    "1. Code editor\n",
    "2. Debugger\n",
    "3. Logging system"
   ]
  },
  {
   "cell_type": "code",
   "execution_count": 23,
   "id": "f25498f5",
   "metadata": {},
   "outputs": [],
   "source": [
    "const printFunctionArguments = <T extends ts.Node>(context: ts.TransformationContext) => (rootNode: T) => {\n",
    "    function traceParam(param: ts.ParameterDeclaration): ts.ArrayLiteralExpression {\n",
    "        const paramStr = ts.factory.createStringLiteral(param.name.getText());\n",
    "        const paramName = ts.factory.createIdentifier(param.name.getText());\n",
    "        return ts.factory.createArrayLiteralExpression([paramStr, paramName]);\n",
    "    }\n",
    "    \n",
    "    function visit(node: ts.Node): ts.Node {\n",
    "        switch (node.kind) {\n",
    "            case ts.SyntaxKind.FunctionDeclaration: {\n",
    "                const func = node as ts.FunctionDeclaration;\n",
    "                const body2 = ts.visitEachChild(func.body, visit, context); // Take original body\n",
    "                const params = ts.factory.createArrayLiteralExpression(func.parameters.map(traceParam));\n",
    "                const functionName = ts.factory.createIdentifier(\"console.log\");\n",
    "                const callLog = ts.factory.createCallExpression(functionName, undefined, [params]);\n",
    "                const prelude: ts.Statement[] = [ts.factory.createExpressionStatement(callLog)];\n",
    "                const body3 = ts.factory.createBlock(prelude.concat(body2.statements), true); // Convert to this\n",
    "                return ts.factory.createFunctionDeclaration(func.decorators, func.modifiers, func.asteriskToken, func.name, func.typeParameters, func.parameters, func.type, body3);\n",
    "            }\n",
    "            default: {\n",
    "                return ts.visitEachChild(node, visit, context);\n",
    "            }\n",
    "        }\n",
    "    };\n",
    "    return ts.visitNode(rootNode, visit);\n",
    "};"
   ]
  },
  {
   "cell_type": "code",
   "execution_count": 24,
   "id": "f1cf4fe5",
   "metadata": {},
   "outputs": [],
   "source": [
    "function tsAndBack(f: any, transformer: any, verbose=false): any { // Hard to write down types with meta-programming\n",
    "    // 1. f is input typescript code\n",
    "    \n",
    "    // 2. Input TypeScript Program as a TypeScript String\n",
    "    const source = f.toString();\n",
    "    \n",
    "    // 3. TypeScript Program that Parses TypeScript Strings \n",
    "    const sourceFile: ts.SourceFile = ts.createSourceFile('tmp.ts', source, ts.ScriptTarget.ES2015, true, ts.ScriptKind.TS);\n",
    "    \n",
    "    // This part is a compiler/transpiler!!\n",
    "    const result: ts.TransformationResult<ts.SourceFile> = ts.transform<ts.SourceFile>(sourceFile, [transformer]);\n",
    "    const transformedSourceFile: ts.SourceFile = result.transformed[0];\n",
    "    \n",
    "    // 4. TypeScript Program that Converts TypeScript AST Back into String\n",
    "    const printer = ts.createPrinter({ newLine: ts.NewLineKind.LineFeed });\n",
    "    const transformedString = printer.printFile(transformedSourceFile);\n",
    "    if (verbose) {\n",
    "        console.log(transformedString);\n",
    "    }\n",
    "    \n",
    "    // 5. TypeScript Program that Converts TypeScript String to JavaScript String\n",
    "    const jsSource = ts.transpile(printer.printFile(transformedSourceFile));\n",
    "    \n",
    "    // 6. JavaScript Function that Converts JavaScript String to JavaScript Function\n",
    "    const g = Function(`return ${jsSource}`);\n",
    "    \n",
    "    // 7. JavaScript Function is TypeScript Function\n",
    "    return g();\n",
    "}\n"
   ]
  },
  {
   "cell_type": "markdown",
   "id": "9af56a54",
   "metadata": {},
   "source": [
    "### Example 1"
   ]
  },
  {
   "cell_type": "code",
   "execution_count": 25,
   "id": "513d3641",
   "metadata": {},
   "outputs": [
    {
     "name": "stdout",
     "output_type": "stream",
     "text": [
      "\u001b[33m4\u001b[39m\n"
     ]
    }
   ],
   "source": [
    "function g(x: number, z: number): number {\n",
    "    return x + z;\n",
    "}\n",
    "\n",
    "g(3, 1);"
   ]
  },
  {
   "cell_type": "code",
   "execution_count": 26,
   "id": "e977c9c7",
   "metadata": {},
   "outputs": [
    {
     "name": "stdout",
     "output_type": "stream",
     "text": [
      "function g(x, z) {\n",
      "    console.log([[\"x\", x], [\"z\", z]]);\n",
      "    return x + z;\n",
      "}\n",
      "\n",
      "[ [ \u001b[32m'x'\u001b[39m, \u001b[33m3\u001b[39m ], [ \u001b[32m'z'\u001b[39m, \u001b[33m1\u001b[39m ] ]\n",
      "\u001b[33m4\u001b[39m\n"
     ]
    }
   ],
   "source": [
    "const gInstrumented = tsAndBack(g, printFunctionArguments, true);\n",
    "gInstrumented(3, 1)"
   ]
  },
  {
   "cell_type": "markdown",
   "id": "4593d9b1",
   "metadata": {},
   "source": [
    "### Example 2"
   ]
  },
  {
   "cell_type": "code",
   "execution_count": 27,
   "id": "4be407c3",
   "metadata": {},
   "outputs": [
    {
     "name": "stdout",
     "output_type": "stream",
     "text": [
      "(x, y) => x;\n",
      "\n"
     ]
    }
   ],
   "source": [
    "const g = (x: number, y: any): number => x;\n",
    "\n",
    "const gInstrumented = tsAndBack(g, printFunctionArguments, true);"
   ]
  },
  {
   "cell_type": "code",
   "execution_count": 28,
   "id": "fa6a4390",
   "metadata": {},
   "outputs": [
    {
     "name": "stdout",
     "output_type": "stream",
     "text": [
      "\u001b[33m3\u001b[39m\n"
     ]
    }
   ],
   "source": [
    "gInstrumented(3, \"hi\")"
   ]
  },
  {
   "cell_type": "markdown",
   "id": "d9783cc7",
   "metadata": {},
   "source": [
    "### Hmmm ... what went wrong? \n",
    "\n",
    "The function declaration AST and the anonymous function AST in typescript are different."
   ]
  },
  {
   "cell_type": "code",
   "execution_count": 29,
   "id": "075378f6",
   "metadata": {},
   "outputs": [],
   "source": [
    "const printFunctionArguments2 = <T extends ts.Node>(context: ts.TransformationContext) => (rootNode: T) => {\n",
    "    function traceParam(param: ts.ParameterDeclaration): ts.ArrayLiteralExpression {\n",
    "        const paramStr = ts.factory.createStringLiteral(param.name.getText());\n",
    "        const paramName = ts.factory.createIdentifier(param.name.getText());\n",
    "        return ts.factory.createArrayLiteralExpression([paramStr, paramName]);\n",
    "    }\n",
    "    \n",
    "    function visit(node: ts.Node): ts.Node {\n",
    "        switch (node.kind) {\n",
    "            case ts.SyntaxKind.ArrowFunction: {\n",
    "                const arr = node as ts.ArrowFunction;\n",
    "                const body2 = ts.visitEachChild(arr.body, visit, context);\n",
    "                const params = ts.factory.createArrayLiteralExpression(arr.parameters.map(traceParam));\n",
    "                const functionName = ts.factory.createIdentifier(\"console.log\");\n",
    "                const instrumented = ts.factory.createCallExpression(functionName, undefined, [params])\n",
    "                const tuple = ts.factory.createArrayLiteralExpression([body2 as ts.Expression].concat(instrumented));\n",
    "                const body3 = ts.factory.createElementAccessExpression(tuple, 0);\n",
    "                return ts.factory.createArrowFunction(arr.modifiers, arr.typeParameters, arr.parameters, arr.type, arr.equalsGreaterThanToken, body3);\n",
    "            }\n",
    "            case ts.SyntaxKind.FunctionDeclaration: {\n",
    "                const func = node as ts.FunctionDeclaration;\n",
    "                const body2 = ts.visitEachChild(func.body, visit, context);\n",
    "                const params = ts.factory.createArrayLiteralExpression(func.parameters.map(traceParam));\n",
    "                const functionName = ts.factory.createIdentifier(\"console.log\");\n",
    "                const prelude: ts.Statement[] = [ts.factory.createExpressionStatement(ts.factory.createCallExpression(functionName, undefined, [params]))];\n",
    "                const body3 = ts.factory.createBlock(prelude.concat(body2.statements), true);\n",
    "                return ts.factory.createFunctionDeclaration(func.decorators, func.modifiers, func.asteriskToken, func.name, func.typeParameters, func.parameters, func.type, body3);\n",
    "            }\n",
    "            default: {\n",
    "                return ts.visitEachChild(node, visit, context);\n",
    "            }\n",
    "        }\n",
    "    };\n",
    "    return ts.visitNode(rootNode, visit);\n",
    "};"
   ]
  },
  {
   "cell_type": "markdown",
   "id": "29c7745d",
   "metadata": {},
   "source": [
    "### Example 2 Again"
   ]
  },
  {
   "cell_type": "code",
   "execution_count": 30,
   "id": "030e1586",
   "metadata": {},
   "outputs": [
    {
     "name": "stdout",
     "output_type": "stream",
     "text": [
      "(x, y) => [x, console.log([[\"x\", x], [\"y\", y]])][0];\n",
      "\n"
     ]
    }
   ],
   "source": [
    "const g = (x: number, y: any): number => x;\n",
    "\n",
    "const gInstrumented = tsAndBack(g, printFunctionArguments2, true);"
   ]
  },
  {
   "cell_type": "code",
   "execution_count": 31,
   "id": "98142db4",
   "metadata": {},
   "outputs": [
    {
     "name": "stdout",
     "output_type": "stream",
     "text": [
      "[ [ \u001b[32m'x'\u001b[39m, \u001b[33m3\u001b[39m ], [ \u001b[32m'y'\u001b[39m, \u001b[32m'hi'\u001b[39m ] ]\n",
      "\u001b[33m3\u001b[39m\n"
     ]
    }
   ],
   "source": [
    "gInstrumented(3, \"hi\")"
   ]
  },
  {
   "cell_type": "markdown",
   "id": "eaaf0c94",
   "metadata": {},
   "source": [
    "## Application: Making Your Code Lazy"
   ]
  },
  {
   "cell_type": "code",
   "execution_count": 32,
   "id": "e862b3bd",
   "metadata": {},
   "outputs": [],
   "source": [
    "const lazify = <T extends ts.Node>(context: ts.TransformationContext) => (rootNode: T) => {    \n",
    "    function visit(node: ts.Node): ts.Node {\n",
    "        switch (node.kind) {\n",
    "            // Lazy Transformation\n",
    "            case ts.SyntaxKind.Identifier: {\n",
    "                const ident = node as ts.Identifier;\n",
    "                const functionName = ts.factory.createIdentifier(ident.getFullText());\n",
    "                return ts.factory.createCallExpression(\n",
    "                    functionName,\n",
    "                    undefined, /*typeArgs*/ \n",
    "                    [ts.factory.createNumericLiteral(42)]\n",
    "                );\n",
    "            }\n",
    "            case ts.SyntaxKind.CallExpression: {\n",
    "                const call = node as ts.CallExpression;\n",
    "                const thunks = call.arguments.map((arg) => ts.factory.createArrowFunction(\n",
    "                    undefined, /* modifiers: readonly ts.Modifier[] */\n",
    "                    undefined, /* typeParameters: readonly ts.TypeParameterDeclaration[] */\n",
    "                    [],        /* parameters: readonly ts.ParameterDeclaration[] */\n",
    "                    undefined, /* type: ts.TypeNode */\n",
    "                    ts.factory.createToken(ts.SyntaxKind.EqualsGreaterThanToken),\n",
    "                    ts.visitNode(arg, visit)\n",
    "                ));\n",
    "                return ts.factory.createCallExpression(ts.visitNode(call.expression, visit), undefined, thunks);\n",
    "                return node;\n",
    "            }\n",
    "            // Boiler plate\n",
    "            case ts.SyntaxKind.ArrowFunction: { // Do not recurse on function parameters\n",
    "                const arr = node as ts.ArrowFunction;\n",
    "                const body2 = ts.visitNode(arr.body, visit);\n",
    "                return ts.factory.createArrowFunction(arr.modifiers, arr.typeParameters, arr.parameters, arr.type, arr.equalsGreaterThanToken, body2);\n",
    "            }\n",
    "            case ts.SyntaxKind.FunctionDeclaration: { // Do not recurse on function parameters\n",
    "                const func = node as ts.FunctionDeclaration;\n",
    "                const body2 = ts.visitNode(func.body, visit);\n",
    "                return ts.factory.createFunctionDeclaration(func.decorators, func.modifiers, func.asteriskToken, func.name, func.typeParameters, func.parameters, func.type, body2);\n",
    "            }\n",
    "            default: {\n",
    "                return ts.visitEachChild(node, visit, context);\n",
    "            }\n",
    "        }\n",
    "    };\n",
    "    return ts.visitNode(rootNode, visit);\n",
    "};"
   ]
  },
  {
   "cell_type": "code",
   "execution_count": 33,
   "id": "e0ea0402",
   "metadata": {},
   "outputs": [
    {
     "name": "stdout",
     "output_type": "stream",
     "text": [
      "Printing \u001b[33m10\u001b[39m\n",
      "\u001b[33m2\u001b[39m\n"
     ]
    }
   ],
   "source": [
    "function h(x) {\n",
    "    return ((x, y) => 1 + x)(1, ((z) => {console.log(\"Printing\", x)})());\n",
    "}\n",
    "\n",
    "h(10)"
   ]
  },
  {
   "cell_type": "code",
   "execution_count": 34,
   "id": "a103ab68",
   "metadata": {},
   "outputs": [
    {
     "name": "stdout",
     "output_type": "stream",
     "text": [
      "function h(x) {\n",
      "    return ((x, y) => 1 +  x(42))(() => 1, () => ((z) => {  console(42).log(42)(() => \"Printing\", () =>  x(42)); })());\n",
      "}\n",
      "\n",
      "\u001b[33m2\u001b[39m\n"
     ]
    }
   ],
   "source": [
    "const hLazy = tsAndBack(h, lazify, true);\n",
    "hLazy(10)"
   ]
  },
  {
   "cell_type": "markdown",
   "id": "9a1ed76d",
   "metadata": {},
   "source": [
    "The two examples that we've seen are examples of **run-time** meta-programming.\n",
    "\n",
    "Languages that have this include:\n",
    "- TypeScript: what we've just seen\n",
    "- Python\n",
    "- Lisp/Scheme (**homoiconic**, i.e., the syntax and the code are the same representation)"
   ]
  },
  {
   "cell_type": "markdown",
   "id": "321b46b6",
   "metadata": {},
   "source": [
    "## Macros are Static Meta-programming\n",
    "\n",
    "1. The idea of writing code to modify code at compile-time is called a **macro**.\n",
    "2. Macros are an example of meta-programming.\n",
    "3. Langauges with macros:\n",
    "    - C (`#include`)\n",
    "    - Scala (similar to TypeScript)"
   ]
  },
  {
   "cell_type": "markdown",
   "id": "88d24b47",
   "metadata": {},
   "source": [
    "## Summary\n",
    "\n",
    "1. A meta-program is a program that takes programs as inputs and produces them as outputs.\n",
    "2. We saw the compiler API for TypeScript, which allows us to write TypeScript meta-programs.\n",
    "3. More generally, these compile-time meta-programs that operate on themselves are called macros.\n",
    "4. Meta-programming is the \"final programming paradigm\" that ties together the idea that code is data and data is code through eval/apply."
   ]
  },
  {
   "cell_type": "code",
   "execution_count": null,
   "id": "def44f59",
   "metadata": {},
   "outputs": [],
   "source": []
  }
 ],
 "metadata": {
  "kernelspec": {
   "display_name": "TypeScript",
   "language": "typescript",
   "name": "typescript"
  },
  "language_info": {
   "codemirror_mode": {
    "mode": "typescript",
    "name": "javascript",
    "typescript": true
   },
   "file_extension": ".ts",
   "mimetype": "text/typescript",
   "name": "typescript",
   "version": "3.7.2"
  }
 },
 "nbformat": 4,
 "nbformat_minor": 5
}
