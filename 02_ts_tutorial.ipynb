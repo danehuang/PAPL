{
 "cells": [
  {
   "cell_type": "code",
   "execution_count": 1,
   "id": "e5ddc8a2",
   "metadata": {},
   "outputs": [
    {
     "data": {
      "text/html": [
       "\n",
       "  <link rel=\"stylesheet\" href=\"node_modules/carbon-components/css/carbon-components.css\">\n",
       "  "
      ]
     },
     "metadata": {},
     "output_type": "display_data"
    }
   ],
   "source": [
    "import { requireCarbon} from \"./lib/draw\";\n",
    "\n",
    "// Change the styling of our page\n",
    "requireCarbon();"
   ]
  },
  {
   "cell_type": "markdown",
   "id": "281078c6",
   "metadata": {},
   "source": [
    "# Basic TypeScript"
   ]
  },
  {
   "cell_type": "markdown",
   "id": "6b7b4510",
   "metadata": {},
   "source": [
    "## Logistics\n",
    "\n",
    "1. ILearn announcements\n",
    "2. Join discord\n",
    "3. Fill out survey (github handle + SFSU id most important)\n",
    "4. Please install the software (https://docs.google.com/document/d/1YzSQjkTWkl_EKURvW-5iE5OrWim9WSunA-iG1gMLXrY/edit#)"
   ]
  },
  {
   "cell_type": "markdown",
   "id": "79e88d78",
   "metadata": {},
   "source": [
    "## Where Were We?\n",
    "\n",
    "Starting journey into Programming + Programming Languages!\n",
    "\n",
    "1. Language primitives (i.e., building blocks of languages)\n",
    "2. **Language paradigms** (i.e., combinations of language primitives)\n",
    "    * This time: Example-based introduction to TypeScript.\n",
    "3. Building a language (i.e., designing your own language)"
   ]
  },
  {
   "cell_type": "markdown",
   "id": "65a8387f",
   "metadata": {},
   "source": [
    "## Goal\n",
    "\n",
    "1. Get comfortable writing TypeScript.\n",
    "2. Get a feel for one approach on learning a new programming language."
   ]
  },
  {
   "cell_type": "markdown",
   "id": "7bc090cf",
   "metadata": {},
   "source": [
    "## Outline\n",
    "\n",
    "- Why TypeScript?\n",
    "- TypeScript tutorial"
   ]
  },
  {
   "cell_type": "markdown",
   "id": "361097ae",
   "metadata": {},
   "source": [
    "## Why TypeScript?\n",
    "\n",
    "Before I answer that, here is a question for you: why learn a foreign language?"
   ]
  },
  {
   "cell_type": "markdown",
   "id": "0ea3c027",
   "metadata": {},
   "source": [
    "### Why learn a foreign language?\n",
    "\n",
    "```\n",
    "\n",
    "\n",
    "\n",
    "\n",
    "\n",
    "Blue ocean question, blue ocean answers ...\n",
    "\n",
    "Please respond in chat: foreign language you would like to learn? Examples\n",
    "1. Arabic\n",
    "2. Hindi\n",
    "3. Mandarin\n",
    "4. Spanish\n",
    "5. ...\n",
    "\n",
    "\n",
    "\n",
    "\n",
    "\n",
    "\n",
    "\n",
    "```"
   ]
  },
  {
   "cell_type": "markdown",
   "id": "8b135506",
   "metadata": {},
   "source": [
    "### Why learn another programming language?\n",
    "\n",
    "Programming languages are similar to \"natural\" languages in that they are used by people in a specific time and context.\n",
    "\n",
    "Why learn another programming language?\n",
    "\n",
    "1. Programming languages evolve through time.\n",
    "    * COBOL?\n",
    "    * Scheme?\n",
    "    * Java?\n",
    "    * Python?\n",
    "    * TypeScript?\n",
    "2. Technologies evolve through time.\n",
    "    * Programming for mainframe vs. embedded system vs. desktop application vs. web vs. mobile.\n",
    "3. Each language has tradeoffs. Knowing multiple languages can make you into a better programmer because you'll better understand the tradeoffs one has to make in each language.\n",
    "4. Pragmatic reason: At a programming job, you usually won't get to pick the language you write in."
   ]
  },
  {
   "cell_type": "markdown",
   "id": "a4c91d93",
   "metadata": {},
   "source": [
    "## Why TypeScript?\n",
    "\n",
    "Ok fine, you have convinced me to learn another programming language. Why TypeScript specifically?\n",
    "\n",
    "[https://www.typescriptlang.org/](https://www.typescriptlang.org/)"
   ]
  },
  {
   "cell_type": "markdown",
   "id": "86bfe854",
   "metadata": {},
   "source": [
    "### Reason 1: TypeScript is a superset of JavaScript"
   ]
  },
  {
   "cell_type": "code",
   "execution_count": 2,
   "id": "5c755eda",
   "metadata": {},
   "outputs": [
    {
     "data": {
      "text/html": [
       "\n",
       "<h1 id=\"id1\">Hello World</h1>\n",
       "\n",
       "<button type=\"button\"\n",
       "onclick=\"document.getElementById('id1').style.color = 'red'\">\n",
       "Click Me!</button>\n"
      ]
     },
     "metadata": {},
     "output_type": "display_data"
    }
   ],
   "source": [
    "// Jupyter extension for TypeScript\n",
    "// link: https://github.com/yunabe/tslab\n",
    "import * as tslab from \"tslab\"; \n",
    "\n",
    "// Vanilla JavaScript + Html\n",
    "tslab.display.html(`\n",
    "<h1 id=\"id1\">Hello World</h1>\n",
    "\n",
    "<button type=\"button\"\n",
    "onclick=\"document.getElementById('id1').style.color = 'red'\">\n",
    "Click Me!</button>\n",
    "`)"
   ]
  },
  {
   "cell_type": "markdown",
   "id": "4da0e925",
   "metadata": {},
   "source": [
    "### Reason 2: TypeScript is a serious language \n",
    "\n",
    "Developed and maintained by Microsoft:\n",
    "* [https://github.com/microsoft/TypeScript](https://github.com/microsoft/TypeScript)"
   ]
  },
  {
   "cell_type": "markdown",
   "id": "07e1db62",
   "metadata": {},
   "source": [
    "### Reason 3: Huge ecosystem\n",
    "\n",
    "Node package manager\n",
    "* [https://www.npmjs.com/](https://www.npmjs.com/)"
   ]
  },
  {
   "cell_type": "markdown",
   "id": "5ec96fb9",
   "metadata": {},
   "source": [
    "### Summary: Why TypeScript?\n",
    "\n",
    "1. TypeScript is a subset of JavaScript. JavaScript is ... used everywhere on the web.\n",
    "2. TypeScript is a serious language.\n",
    "3. TypeScript has a huge ecosystem."
   ]
  },
  {
   "cell_type": "markdown",
   "id": "f946dfd9",
   "metadata": {},
   "source": [
    "### Drawbacks of using TypeScript\n",
    "\n",
    "- TypeScript is a huge language.\n",
    "    * We will only use a subset of TypeScript.\n",
    "- Similar to how natural langauges have messy parts, TypeScript has behavior that is inherited from JavaScript, and JavaScript can sometimes be a mess.\n",
    "    * We will try our best to avoid the messy parts of TypeScript and JavaScript.\n",
    "    * The purpose of this class is **not** to learn all the details of TypeScript."
   ]
  },
  {
   "cell_type": "markdown",
   "id": "3a423e67",
   "metadata": {},
   "source": [
    "## Maybe I've Convinced You?\n",
    "    \n",
    "- Ok professor. I will learn TypeScript.\n",
    "- But, it took me forever to learn \"insert-your-favorite-language-here\""
   ]
  },
  {
   "cell_type": "markdown",
   "id": "d0a44e70",
   "metadata": {},
   "source": [
    "## What's a \"Good Way\" to Approach Learning a New Language?\n",
    "\n",
    "Everyone learns differently, but one thing you can do if you know another programming language is in comparison with a language you already know. We'll be using Java as comparison.\n",
    "\n",
    "Some buzzwords that usually describe trade-offs that a language designer has made:\n",
    "- **Compiled** vs. **interpreted**?\n",
    "- **Static** vs. **dynamic types**?\n",
    "- **Lexical** vs. **dynamic scope**?\n",
    "- **Object-oriented** or **functional**?\n",
    "- **threading** model?\n",
    "- **garbage-collected**?\n",
    "\n",
    "Here is a template to try to sort through the myriad of trade-offs. Every (general-purpose) language will have a way to\n",
    "1. **Input/Output** with the outside world\n",
    "2. **data** (numbers?, strings?, arrays?, classes?, records?)\n",
    "3. **code organization** (i.e., functions, methods, operations)"
   ]
  },
  {
   "cell_type": "markdown",
   "id": "4761599f",
   "metadata": {},
   "source": [
    "## TypeScript\n",
    "\n",
    "Let's try to follow the template for TypeScript:\n",
    "\n",
    "1. **Input/Output** with the outside world\n",
    "2. **data** (numbers?, strings?, arrays?, classes?, records?)\n",
    "3. **code-organization** (i.e., functions, methods, operations)"
   ]
  },
  {
   "cell_type": "markdown",
   "id": "b8fdf471",
   "metadata": {},
   "source": [
    "### 1. Input/Output with the Outside World"
   ]
  },
  {
   "cell_type": "markdown",
   "id": "33c10733",
   "metadata": {},
   "source": [
    "#### Obligatory Hello World"
   ]
  },
  {
   "cell_type": "markdown",
   "id": "c77dc44e",
   "metadata": {},
   "source": [
    "Here it is in Java.\n",
    "\n",
    "```\n",
    "System.out.println(\"Hello World\");\n",
    "```"
   ]
  },
  {
   "cell_type": "code",
   "execution_count": 3,
   "id": "23a1aec9",
   "metadata": {},
   "outputs": [
    {
     "name": "stdout",
     "output_type": "stream",
     "text": [
      "Hello World\n"
     ]
    }
   ],
   "source": [
    "// Here is is in TypeScript\n",
    "console.log(\"Hello World\");"
   ]
  },
  {
   "cell_type": "code",
   "execution_count": 4,
   "id": "97085e36",
   "metadata": {},
   "outputs": [
    {
     "name": "stdout",
     "output_type": "stream",
     "text": [
      "Object [console] {\n",
      "  log: \u001b[36m[Function: log]\u001b[39m,\n",
      "  warn: \u001b[36m[Function: warn]\u001b[39m,\n",
      "  dir: \u001b[36m[Function: dir]\u001b[39m,\n",
      "  time: \u001b[36m[Function: time]\u001b[39m,\n",
      "  timeEnd: \u001b[36m[Function: timeEnd]\u001b[39m,\n",
      "  timeLog: \u001b[36m[Function: timeLog]\u001b[39m,\n",
      "  trace: \u001b[36m[Function: trace]\u001b[39m,\n",
      "  assert: \u001b[36m[Function: assert]\u001b[39m,\n",
      "  clear: \u001b[36m[Function: clear]\u001b[39m,\n",
      "  count: \u001b[36m[Function: count]\u001b[39m,\n",
      "  countReset: \u001b[36m[Function: countReset]\u001b[39m,\n",
      "  group: \u001b[36m[Function: group]\u001b[39m,\n",
      "  groupEnd: \u001b[36m[Function: groupEnd]\u001b[39m,\n",
      "  table: \u001b[36m[Function: table]\u001b[39m,\n",
      "  debug: \u001b[36m[Function: debug]\u001b[39m,\n",
      "  info: \u001b[36m[Function: info]\u001b[39m,\n",
      "  dirxml: \u001b[36m[Function: dirxml]\u001b[39m,\n",
      "  error: \u001b[36m[Function: error]\u001b[39m,\n",
      "  groupCollapsed: \u001b[36m[Function: groupCollapsed]\u001b[39m,\n",
      "  Console: \u001b[36m[Function: Console]\u001b[39m,\n",
      "  profile: \u001b[36m[Function: profile]\u001b[39m,\n",
      "  profileEnd: \u001b[36m[Function: profileEnd]\u001b[39m,\n",
      "  timeStamp: \u001b[36m[Function: timeStamp]\u001b[39m,\n",
      "  context: \u001b[36m[Function: context]\u001b[39m\n",
      "}\n"
     ]
    }
   ],
   "source": [
    "// Similar to Java's system?\n",
    "console"
   ]
  },
  {
   "cell_type": "markdown",
   "id": "0b712b37",
   "metadata": {},
   "source": [
    "#### Reading from file (Input)\n",
    "\n",
    "- Interacting with the outside world, such as reading from a file is not as straightforward ...\n",
    "- We may have **errors** (e.g., the file does not exist).\n",
    "- We have the usual `try` and `catch` mechanisms to deal with this.\n",
    "- Looking at how to do file input/output in a language is a good way to learn about how a language copes with handling "
   ]
  },
  {
   "cell_type": "code",
   "execution_count": 5,
   "id": "914f615e-245b-42f9-9d4f-0db28c372565",
   "metadata": {},
   "outputs": [],
   "source": [
    "// Node.js's \"filesystem\"\n",
    "import * as fs from \"fs\";"
   ]
  },
  {
   "cell_type": "code",
   "execution_count": 6,
   "id": "19514af8",
   "metadata": {},
   "outputs": [
    {
     "data": {
      "text/html": [
       "<p> Error: ENOENT: no such file or directory, open './lib/phantom_file.txt'</p>"
      ]
     },
     "metadata": {},
     "output_type": "display_data"
    }
   ],
   "source": [
    "// Java has try/catch as well\n",
    "try {\n",
    "    const data = fs.readFileSync('./lib/phantom_file.txt', 'utf8')\n",
    "    console.log(data);\n",
    "} catch (err) {\n",
    "    tslab.display.html(`<p> ${err}</p>`);\n",
    "}"
   ]
  },
  {
   "cell_type": "code",
   "execution_count": 7,
   "id": "709c506c",
   "metadata": {},
   "outputs": [
    {
     "name": "stdout",
     "output_type": "stream",
     "text": [
      "There appears to be an error ... Error: ENOENT: no such file or directory, open 'hello_world.txt'\n",
      "\u001b[90m    at Object.openSync (node:fs:585:3)\u001b[39m\n",
      "\u001b[90m    at Object.readFileSync (node:fs:453:35)\u001b[39m\n",
      "    at evalmachine.<anonymous>:5:29\n",
      "    at evalmachine.<anonymous>:12:3\n",
      "\u001b[90m    at sigintHandlersWrap (node:vm:268:12)\u001b[39m\n",
      "\u001b[90m    at Script.runInThisContext (node:vm:127:14)\u001b[39m\n",
      "\u001b[90m    at Object.runInThisContext (node:vm:305:38)\u001b[39m\n",
      "    at Object.execute (/Users/dehuang/Documents/teaching/csc600/opensource/node_modules/\u001b[4mtslab\u001b[24m/dist/executor.js:162:38)\n",
      "    at JupyterHandlerImpl.handleExecuteImpl (/Users/dehuang/Documents/teaching/csc600/opensource/node_modules/\u001b[4mtslab\u001b[24m/dist/jupyter.js:219:38)\n",
      "    at /Users/dehuang/Documents/teaching/csc600/opensource/node_modules/\u001b[4mtslab\u001b[24m/dist/jupyter.js:177:57 {\n",
      "  errno: \u001b[33m-2\u001b[39m,\n",
      "  syscall: \u001b[32m'open'\u001b[39m,\n",
      "  code: \u001b[32m'ENOENT'\u001b[39m,\n",
      "  path: \u001b[32m'hello_world.txt'\u001b[39m\n",
      "}\n"
     ]
    }
   ],
   "source": [
    "// This one works\n",
    "fs.writeFileSync('./tmp/hello_world.txt', 'Hello World!');\n",
    "try {\n",
    "  const data = fs.readFileSync('hello_world.txt', 'utf8')\n",
    "  console.log(data);\n",
    "} catch (err) {\n",
    "  console.log(\"There appears to be an error ...\", err);\n",
    "}"
   ]
  },
  {
   "cell_type": "markdown",
   "id": "3005a6d2",
   "metadata": {},
   "source": [
    "### 2. \"Data\" in TypeScript\n",
    "\n",
    "- We just saw Input/Output (**IO**).\n",
    "- Now we'll look at data."
   ]
  },
  {
   "cell_type": "markdown",
   "id": "b188f6bd",
   "metadata": {},
   "source": [
    "#### Numbers"
   ]
  },
  {
   "cell_type": "code",
   "execution_count": 8,
   "id": "82849f11",
   "metadata": {},
   "outputs": [
    {
     "name": "stdout",
     "output_type": "stream",
     "text": [
      "\u001b[33m42\u001b[39m\n"
     ]
    }
   ],
   "source": [
    "42"
   ]
  },
  {
   "cell_type": "code",
   "execution_count": 9,
   "id": "4f7c3623",
   "metadata": {},
   "outputs": [
    {
     "name": "stdout",
     "output_type": "stream",
     "text": [
      "\u001b[33m43\u001b[39m\n"
     ]
    }
   ],
   "source": [
    "42 + 1"
   ]
  },
  {
   "cell_type": "code",
   "execution_count": 10,
   "id": "ca0f9b1f",
   "metadata": {},
   "outputs": [
    {
     "name": "stdout",
     "output_type": "stream",
     "text": [
      "\u001b[33m6\u001b[39m\n"
     ]
    }
   ],
   "source": [
    "2 * 3"
   ]
  },
  {
   "cell_type": "code",
   "execution_count": 11,
   "id": "7637369a",
   "metadata": {},
   "outputs": [
    {
     "name": "stdout",
     "output_type": "stream",
     "text": [
      "\u001b[33m2\u001b[39m\n"
     ]
    }
   ],
   "source": [
    "2 * 3 - 4 // Question: (2 * 3) - 4 or 2 * (3 - 4)"
   ]
  },
  {
   "cell_type": "code",
   "execution_count": 12,
   "id": "b5ff9017",
   "metadata": {},
   "outputs": [
    {
     "name": "stdout",
     "output_type": "stream",
     "text": [
      "\u001b[33m-2\u001b[39m\n"
     ]
    }
   ],
   "source": [
    "2 * (3 - 4)"
   ]
  },
  {
   "cell_type": "code",
   "execution_count": 13,
   "id": "ea8f4cf1",
   "metadata": {},
   "outputs": [
    {
     "name": "stdout",
     "output_type": "stream",
     "text": [
      "\u001b[33m0.3333333333333333\u001b[39m\n"
     ]
    }
   ],
   "source": [
    "1 / 3 // Question: What would this print in Java?"
   ]
  },
  {
   "cell_type": "code",
   "execution_count": 14,
   "id": "fe60be26",
   "metadata": {},
   "outputs": [
    {
     "name": "stdout",
     "output_type": "stream",
     "text": [
      "\u001b[33m0.3333333333333333\u001b[39m\n"
     ]
    }
   ],
   "source": [
    "parseInt('1') / parseInt('3')"
   ]
  },
  {
   "cell_type": "code",
   "execution_count": 15,
   "id": "f48db0f3",
   "metadata": {},
   "outputs": [
    {
     "name": "stdout",
     "output_type": "stream",
     "text": [
      "\u001b[33m0\u001b[39m\n",
      "\u001b[33m1\u001b[39m\n"
     ]
    }
   ],
   "source": [
    "console.log(Math.trunc(1/3));\n",
    "console.log(1 % 3);"
   ]
  },
  {
   "cell_type": "markdown",
   "id": "90f9f634",
   "metadata": {},
   "source": [
    "#### Strings"
   ]
  },
  {
   "cell_type": "code",
   "execution_count": 16,
   "id": "11b997e0",
   "metadata": {},
   "outputs": [
    {
     "name": "stdout",
     "output_type": "stream",
     "text": [
      "hello\n"
     ]
    }
   ],
   "source": [
    "\"hello\" // string value, value means that there is no computation to be done"
   ]
  },
  {
   "cell_type": "code",
   "execution_count": 17,
   "id": "4aad4c19",
   "metadata": {},
   "outputs": [
    {
     "name": "stdout",
     "output_type": "stream",
     "text": [
      "world\n"
     ]
    }
   ],
   "source": [
    "'world' // Question: Would this work in Java?"
   ]
  },
  {
   "cell_type": "code",
   "execution_count": 18,
   "id": "8d0a456b",
   "metadata": {},
   "outputs": [
    {
     "name": "stdout",
     "output_type": "stream",
     "text": [
      "hello world\n"
     ]
    }
   ],
   "source": [
    "\"hello\" + ' world' // string expression, expression means some computation to be done"
   ]
  },
  {
   "cell_type": "code",
   "execution_count": 19,
   "id": "8eea1b8c",
   "metadata": {},
   "outputs": [
    {
     "name": "stdout",
     "output_type": "stream",
     "text": [
      "3hello12\n"
     ]
    }
   ],
   "source": [
    "(1 + 2) + \"hello\" + 1 + 2 // Question: Would this work in Java?"
   ]
  },
  {
   "cell_type": "code",
   "execution_count": 20,
   "id": "41ba0456",
   "metadata": {},
   "outputs": [
    {
     "name": "stdout",
     "output_type": "stream",
     "text": [
      "world1\n"
     ]
    }
   ],
   "source": [
    "'world' + 1"
   ]
  },
  {
   "cell_type": "markdown",
   "id": "0b6a2f88",
   "metadata": {},
   "source": [
    "#### Booleans"
   ]
  },
  {
   "cell_type": "code",
   "execution_count": 21,
   "id": "13a20101",
   "metadata": {},
   "outputs": [
    {
     "name": "stdout",
     "output_type": "stream",
     "text": [
      "\u001b[33mtrue\u001b[39m\n"
     ]
    }
   ],
   "source": [
    "true // boolean value"
   ]
  },
  {
   "cell_type": "code",
   "execution_count": 22,
   "id": "b4dff94e",
   "metadata": {},
   "outputs": [
    {
     "name": "stdout",
     "output_type": "stream",
     "text": [
      "\u001b[33mfalse\u001b[39m\n"
     ]
    }
   ],
   "source": [
    "false // boolean value"
   ]
  },
  {
   "cell_type": "code",
   "execution_count": 23,
   "id": "ced1293c",
   "metadata": {},
   "outputs": [
    {
     "name": "stdout",
     "output_type": "stream",
     "text": [
      "\u001b[33mfalse\u001b[39m\n",
      "\u001b[33mfalse\u001b[39m\n",
      "\u001b[33mfalse\u001b[39m\n",
      "\u001b[33mtrue\u001b[39m\n"
     ]
    }
   ],
   "source": [
    "// Truth table for logical and\n",
    "console.log(false && false);\n",
    "console.log(false && true);\n",
    "console.log(true && false);\n",
    "console.log(true && true);"
   ]
  },
  {
   "cell_type": "code",
   "execution_count": 24,
   "id": "add24092",
   "metadata": {},
   "outputs": [
    {
     "name": "stdout",
     "output_type": "stream",
     "text": [
      "\u001b[33mfalse\u001b[39m\n",
      "\u001b[33mtrue\u001b[39m\n",
      "\u001b[33mtrue\u001b[39m\n",
      "\u001b[33mtrue\u001b[39m\n"
     ]
    }
   ],
   "source": [
    "// Truth table for logical or\n",
    "console.log(false || false);\n",
    "console.log(false || true);\n",
    "console.log(true || false);\n",
    "console.log(true || true);"
   ]
  },
  {
   "cell_type": "markdown",
   "id": "4666f192",
   "metadata": {},
   "source": [
    "### 3. Operating on \"Data\" in TypeScript\n",
    "\n",
    "We just saw 3 data types and primitive operations on data:\n",
    "\n",
    "1. Numbers\n",
    "2. Strings\n",
    "3. Booleans\n",
    "\n",
    "As we saw, there was a distinction between **values** and **expressions**:\n",
    "\n",
    "- **Values**: no computation\n",
    "- **Expression**: computation"
   ]
  },
  {
   "cell_type": "markdown",
   "id": "9ce86d39",
   "metadata": {},
   "source": [
    "#### Variables: Holding \"Data\""
   ]
  },
  {
   "cell_type": "code",
   "execution_count": 25,
   "id": "2426e09b",
   "metadata": {},
   "outputs": [
    {
     "name": "stdout",
     "output_type": "stream",
     "text": [
      "y\n"
     ]
    }
   ],
   "source": [
    "let y: string = \"y\"; // String y = \"y\"; in Java\n",
    "y"
   ]
  },
  {
   "cell_type": "code",
   "execution_count": 26,
   "id": "78ee054f",
   "metadata": {},
   "outputs": [
    {
     "name": "stdout",
     "output_type": "stream",
     "text": [
      "zebra\n"
     ]
    }
   ],
   "source": [
    "y = \"zebra\";\n",
    "y;"
   ]
  },
  {
   "cell_type": "code",
   "execution_count": 27,
   "id": "e65cec36",
   "metadata": {},
   "outputs": [
    {
     "name": "stdout",
     "output_type": "stream",
     "text": [
      "x\n"
     ]
    }
   ],
   "source": [
    "let x = \"x\";  // We don't need the type\n",
    "x;"
   ]
  },
  {
   "cell_type": "code",
   "execution_count": 28,
   "id": "6dbb7c57",
   "metadata": {},
   "outputs": [
    {
     "name": "stderr",
     "output_type": "stream",
     "text": [
      "2:1 - Cannot assign to 'c' because it is a constant.\n"
     ]
    }
   ],
   "source": [
    "const c = \"c\"; // Constant's cannot be reassigned\n",
    "c = \"d\";  // Can't be done"
   ]
  },
  {
   "cell_type": "code",
   "execution_count": 29,
   "id": "a862e435",
   "metadata": {},
   "outputs": [
    {
     "name": "stdout",
     "output_type": "stream",
     "text": [
      "ef cd\n"
     ]
    }
   ],
   "source": [
    "let y = \"e\" + \"f\";\n",
    "const c = \"c\" + \"d\"; // Variable can hold expressions, i.e., things that contain computation and will evaluate to values\n",
    "console.log(y, c);"
   ]
  },
  {
   "cell_type": "code",
   "execution_count": 30,
   "id": "d4f03a63",
   "metadata": {},
   "outputs": [
    {
     "name": "stderr",
     "output_type": "stream",
     "text": [
      "1:5 - Type 'number' is not assignable to type 'string'.\n"
     ]
    }
   ],
   "source": [
    "let y: string = 1;\n",
    "y"
   ]
  },
  {
   "cell_type": "markdown",
   "id": "7f804f98",
   "metadata": {},
   "source": [
    "## NEVER USE VAR! EVER."
   ]
  },
  {
   "cell_type": "markdown",
   "id": "93076f0e",
   "metadata": {},
   "source": [
    "#### Conditionals: operating on booleans\n",
    "\n",
    "Data such as boolean can cause extra statements (or expressions) to be added to the programming language."
   ]
  },
  {
   "cell_type": "code",
   "execution_count": 31,
   "id": "169d5751",
   "metadata": {},
   "outputs": [
    {
     "name": "stdout",
     "output_type": "stream",
     "text": [
      "False\n"
     ]
    }
   ],
   "source": [
    "if (false) {\n",
    "    console.log(\"True\");\n",
    "} else {\n",
    "    console.log(\"False\");\n",
    "}"
   ]
  },
  {
   "cell_type": "code",
   "execution_count": 32,
   "id": "67af01c4",
   "metadata": {},
   "outputs": [
    {
     "name": "stdout",
     "output_type": "stream",
     "text": [
      "True\n"
     ]
    }
   ],
   "source": [
    "if (true) {\n",
    "    console.log(\"True\");\n",
    "} else {\n",
    "    console.log(\"False\");\n",
    "}"
   ]
  },
  {
   "cell_type": "code",
   "execution_count": 33,
   "id": "d6cc0111",
   "metadata": {},
   "outputs": [
    {
     "name": "stdout",
     "output_type": "stream",
     "text": [
      "\u001b[33mtrue\u001b[39m\n",
      "True\n"
     ]
    }
   ],
   "source": [
    "console.log(1 < 2);\n",
    "if (1 < 2) {\n",
    "    console.log(\"True\");\n",
    "} else {\n",
    "    console.log(\"False\");\n",
    "}"
   ]
  },
  {
   "cell_type": "code",
   "execution_count": 34,
   "id": "52a7fbf0",
   "metadata": {},
   "outputs": [
    {
     "name": "stdout",
     "output_type": "stream",
     "text": [
      "False\n"
     ]
    }
   ],
   "source": [
    "if (0) {\n",
    "    console.log(\"True\");\n",
    "} else {\n",
    "    console.log(\"False\");\n",
    "}"
   ]
  },
  {
   "cell_type": "markdown",
   "id": "9d224b98",
   "metadata": {},
   "source": [
    "### 2. Back to Data ...\n",
    "\n",
    "- We saw relatively simple data + operations on data. These are sometimes called **primitive** data.\n",
    "- How do we make **compound** data?"
   ]
  },
  {
   "cell_type": "markdown",
   "id": "4faeaf9a",
   "metadata": {},
   "source": [
    "#### Tuples (Products) of Data"
   ]
  },
  {
   "cell_type": "code",
   "execution_count": 35,
   "id": "e0410d39",
   "metadata": {},
   "outputs": [],
   "source": [
    "const pair: [number, string] = [1, \"hello\"] // Question: how would we do this in Java?"
   ]
  },
  {
   "cell_type": "code",
   "execution_count": 36,
   "id": "d0ba46a9",
   "metadata": {},
   "outputs": [
    {
     "name": "stdout",
     "output_type": "stream",
     "text": [
      "\u001b[33m1\u001b[39m\n"
     ]
    }
   ],
   "source": [
    "pair[0]"
   ]
  },
  {
   "cell_type": "code",
   "execution_count": 37,
   "id": "89adace5",
   "metadata": {},
   "outputs": [
    {
     "name": "stdout",
     "output_type": "stream",
     "text": [
      "hello\n"
     ]
    }
   ],
   "source": [
    "pair[1]"
   ]
  },
  {
   "cell_type": "code",
   "execution_count": 38,
   "id": "83552441",
   "metadata": {},
   "outputs": [
    {
     "name": "stdout",
     "output_type": "stream",
     "text": [
      "[ \u001b[33m2\u001b[39m, \u001b[32m'hello'\u001b[39m ]\n"
     ]
    }
   ],
   "source": [
    "pair[0] = 2;\n",
    "pair"
   ]
  },
  {
   "cell_type": "code",
   "execution_count": 39,
   "id": "26e723e8",
   "metadata": {},
   "outputs": [],
   "source": [
    "const tup = [1, \"hello\", 42 + 1] // Again, tuples can contain expressions"
   ]
  },
  {
   "cell_type": "code",
   "execution_count": 40,
   "id": "af8cdc02",
   "metadata": {},
   "outputs": [
    {
     "name": "stdout",
     "output_type": "stream",
     "text": [
      "[ \u001b[33m1\u001b[39m, \u001b[33m3\u001b[39m, \u001b[33m56\u001b[39m ]\n"
     ]
    }
   ],
   "source": [
    "tup[2] = 56;\n",
    "tup[1] = 3;\n",
    "tup"
   ]
  },
  {
   "cell_type": "markdown",
   "id": "bffbb398",
   "metadata": {},
   "source": [
    "#### Arrays of Data"
   ]
  },
  {
   "cell_type": "code",
   "execution_count": 41,
   "id": "cc0c223c",
   "metadata": {},
   "outputs": [
    {
     "name": "stdout",
     "output_type": "stream",
     "text": [
      "[ \u001b[33m1\u001b[39m, \u001b[33m2\u001b[39m, \u001b[33m3\u001b[39m, \u001b[33m4\u001b[39m, \u001b[33m5\u001b[39m, \u001b[33m6\u001b[39m ]\n"
     ]
    }
   ],
   "source": [
    "const arr: number[] = [1, 2, 3, 4, 5, 6];\n",
    "arr"
   ]
  },
  {
   "cell_type": "code",
   "execution_count": 42,
   "id": "f3883ac7",
   "metadata": {},
   "outputs": [
    {
     "name": "stdout",
     "output_type": "stream",
     "text": [
      "1,2,3,4,5,6\n",
      "1 2 3 4 5 6\n",
      "\u001b[33m6\u001b[39m\n",
      "[\n",
      "  \u001b[33m1\u001b[39m, \u001b[33m2\u001b[39m, \u001b[33m3\u001b[39m, \u001b[33m4\u001b[39m, \u001b[33m5\u001b[39m,\n",
      "  \u001b[33m6\u001b[39m, \u001b[33m1\u001b[39m, \u001b[33m2\u001b[39m, \u001b[33m3\u001b[39m, \u001b[33m4\u001b[39m,\n",
      "  \u001b[33m5\u001b[39m, \u001b[33m6\u001b[39m\n",
      "]\n"
     ]
    }
   ],
   "source": [
    "// A bunch of functions on array\n",
    "console.log(arr.toString());\n",
    "console.log(arr.join(\" \"));\n",
    "console.log(arr.length);\n",
    "console.log(arr.concat(arr));"
   ]
  },
  {
   "cell_type": "markdown",
   "id": "baeafea3",
   "metadata": {},
   "source": [
    "#### Dictionaries: Associative Array\n",
    "\n",
    "- Many data-structures can be built with dictionaries.\n",
    "- Personal preference: I always look for how to use dictionaries in a new language."
   ]
  },
  {
   "cell_type": "code",
   "execution_count": 43,
   "id": "8b0b484b",
   "metadata": {},
   "outputs": [
    {
     "name": "stdout",
     "output_type": "stream",
     "text": [
      "{ x: \u001b[33m1\u001b[39m, y: \u001b[33m2\u001b[39m }\n"
     ]
    }
   ],
   "source": [
    "const dict: {[key: string]: number} = { \"x\": 1, \"y\": 2 }; // Question: Does Java have a primitive dictionary?\n",
    "dict"
   ]
  },
  {
   "cell_type": "code",
   "execution_count": 44,
   "id": "9276764b",
   "metadata": {},
   "outputs": [
    {
     "name": "stdout",
     "output_type": "stream",
     "text": [
      "\u001b[33m1\u001b[39m\n"
     ]
    }
   ],
   "source": [
    "dict[\"x\"]"
   ]
  },
  {
   "cell_type": "code",
   "execution_count": 45,
   "id": "09e3df61",
   "metadata": {},
   "outputs": [
    {
     "name": "stdout",
     "output_type": "stream",
     "text": [
      "{ x: \u001b[33m3\u001b[39m, y: \u001b[33m2\u001b[39m }\n"
     ]
    }
   ],
   "source": [
    "dict[\"x\"] = 3;\n",
    "dict"
   ]
  },
  {
   "cell_type": "code",
   "execution_count": 46,
   "id": "d665d688",
   "metadata": {},
   "outputs": [
    {
     "name": "stdout",
     "output_type": "stream",
     "text": [
      "x \u001b[33m3\u001b[39m\n",
      "y \u001b[33m2\u001b[39m\n"
     ]
    }
   ],
   "source": [
    "for (const [key, value] of Object.entries(dict)) {\n",
    "    console.log(key, value);\n",
    "}"
   ]
  },
  {
   "cell_type": "markdown",
   "id": "c882f135",
   "metadata": {},
   "source": [
    "#### Records: Named Tuples\n",
    "\n",
    "- Similar to tuples and dictionaries.\n",
    "- Unlike dictionaries but like tuples where each value has to be the same type, records can have different types in each entry.\n",
    "- Unlike tuples but like dictionaries, each entry is labeled with a symbol instead of an index."
   ]
  },
  {
   "cell_type": "code",
   "execution_count": 47,
   "id": "538fd940",
   "metadata": {},
   "outputs": [],
   "source": [
    "type myRecord = {\n",
    "    myNum: number,\n",
    "    myStr: string,\n",
    "};"
   ]
  },
  {
   "cell_type": "code",
   "execution_count": 48,
   "id": "78323c80",
   "metadata": {},
   "outputs": [
    {
     "name": "stdout",
     "output_type": "stream",
     "text": [
      "{ myNum: \u001b[33m1\u001b[39m, myStr: \u001b[32m'hi'\u001b[39m }\n"
     ]
    }
   ],
   "source": [
    "const rec: myRecord = {\n",
    "    myNum: 1, \n",
    "    myStr: \"hi\",\n",
    "};\n",
    "\n",
    "rec"
   ]
  },
  {
   "cell_type": "code",
   "execution_count": 49,
   "id": "1a049c55",
   "metadata": {},
   "outputs": [
    {
     "name": "stdout",
     "output_type": "stream",
     "text": [
      "\u001b[33m1\u001b[39m\n"
     ]
    }
   ],
   "source": [
    "rec.myNum"
   ]
  },
  {
   "cell_type": "code",
   "execution_count": 50,
   "id": "7d5b82aa",
   "metadata": {},
   "outputs": [
    {
     "name": "stdout",
     "output_type": "stream",
     "text": [
      "hi\n"
     ]
    }
   ],
   "source": [
    "rec.myStr"
   ]
  },
  {
   "cell_type": "code",
   "execution_count": 51,
   "id": "b2bb36b0",
   "metadata": {},
   "outputs": [
    {
     "name": "stdout",
     "output_type": "stream",
     "text": [
      "{ myNum: \u001b[33m2\u001b[39m, myStr: \u001b[32m'hi'\u001b[39m }\n"
     ]
    }
   ],
   "source": [
    "rec.myNum = 2;\n",
    "rec"
   ]
  },
  {
   "cell_type": "markdown",
   "id": "5712397d",
   "metadata": {},
   "source": [
    "### 3. And now Back to Code ...\n",
    "\n",
    "Giving users the ability to add data now requires new kinds of \"code\""
   ]
  },
  {
   "cell_type": "markdown",
   "id": "ce51e8f7",
   "metadata": {},
   "source": [
    "#### Loops: Operating on Arrays"
   ]
  },
  {
   "cell_type": "code",
   "execution_count": 52,
   "id": "88b80b13",
   "metadata": {},
   "outputs": [
    {
     "name": "stdout",
     "output_type": "stream",
     "text": [
      "\u001b[33m1\u001b[39m\n",
      "\u001b[33m2\u001b[39m\n",
      "\u001b[33m3\u001b[39m\n",
      "\u001b[33m4\u001b[39m\n",
      "\u001b[33m5\u001b[39m\n",
      "\u001b[33m6\u001b[39m\n"
     ]
    }
   ],
   "source": [
    "for (let i=0; i < arr.length; i++) {\n",
    "    console.log(arr[i]);\n",
    "}"
   ]
  },
  {
   "cell_type": "code",
   "execution_count": 53,
   "id": "f5bee762",
   "metadata": {},
   "outputs": [
    {
     "name": "stdout",
     "output_type": "stream",
     "text": [
      "\u001b[33m1\u001b[39m\n",
      "\u001b[33m2\u001b[39m\n",
      "\u001b[33m3\u001b[39m\n",
      "\u001b[33m4\u001b[39m\n",
      "\u001b[33m5\u001b[39m\n",
      "\u001b[33m6\u001b[39m\n"
     ]
    }
   ],
   "source": [
    "// Keyword: comprehension\n",
    "for (let x of arr) { // Same as above, but maybe more readable?\n",
    "    console.log(x);\n",
    "}"
   ]
  },
  {
   "cell_type": "markdown",
   "id": "41e5c142",
   "metadata": {},
   "source": [
    "#### Other loops\n",
    "\n",
    "Sometimes languages will give you multiple ways to express the \"same idea\"."
   ]
  },
  {
   "cell_type": "code",
   "execution_count": 54,
   "id": "4cdcf713",
   "metadata": {},
   "outputs": [
    {
     "name": "stdout",
     "output_type": "stream",
     "text": [
      "\u001b[33m1\u001b[39m\n",
      "\u001b[33m2\u001b[39m\n",
      "\u001b[33m3\u001b[39m\n",
      "\u001b[33m4\u001b[39m\n",
      "\u001b[33m5\u001b[39m\n",
      "\u001b[33m6\u001b[39m\n"
     ]
    }
   ],
   "source": [
    "let i = 0;\n",
    "while (i < arr.length) {\n",
    "    console.log(arr[i]);\n",
    "    i++;\n",
    "}"
   ]
  },
  {
   "cell_type": "markdown",
   "id": "f508a48a",
   "metadata": {},
   "source": [
    "#### Functions: Operating on Arbitrary Data\n",
    "\n",
    "Functions (and their variations) are the \"heart\" of programming. They let you define computation on \"arbitrary\" data."
   ]
  },
  {
   "cell_type": "code",
   "execution_count": 55,
   "id": "08a1e4de",
   "metadata": {},
   "outputs": [
    {
     "name": "stdout",
     "output_type": "stream",
     "text": [
      "\u001b[33m2\u001b[39m\n"
     ]
    }
   ],
   "source": [
    "function addOne(x: number): number {\n",
    "    return x + 1;\n",
    "}\n",
    "\n",
    "addOne(1)"
   ]
  },
  {
   "cell_type": "markdown",
   "id": "3a006db0",
   "metadata": {},
   "source": [
    "Compare with Java\n",
    "\n",
    "```\n",
    "static int addOne(int x) {\n",
    "    return x + 1;\n",
    "}\n",
    "```"
   ]
  },
  {
   "cell_type": "code",
   "execution_count": 56,
   "id": "7e7defd8",
   "metadata": {},
   "outputs": [
    {
     "name": "stdout",
     "output_type": "stream",
     "text": [
      "\u001b[33m3\u001b[39m\n"
     ]
    }
   ],
   "source": [
    "function add(x: number, y: number): number {\n",
    "    return x + y;\n",
    "}\n",
    "\n",
    "add(1, 2)"
   ]
  },
  {
   "cell_type": "markdown",
   "id": "339d436b",
   "metadata": {},
   "source": [
    "## Generics"
   ]
  },
  {
   "cell_type": "code",
   "execution_count": 57,
   "id": "8c5d8a24",
   "metadata": {},
   "outputs": [
    {
     "name": "stdout",
     "output_type": "stream",
     "text": [
      "\u001b[33m2\u001b[39m\n"
     ]
    }
   ],
   "source": [
    "// Generic function\n",
    "// T stands for any data\n",
    "// Question: Can you think of another function with this signature?\n",
    "function identity<T>(x: T): T {\n",
    "    return x;\n",
    "}\n",
    "addOne(1)"
   ]
  },
  {
   "cell_type": "markdown",
   "id": "bd649d6a",
   "metadata": {},
   "source": [
    "## Classes: Data + Code together"
   ]
  },
  {
   "cell_type": "code",
   "execution_count": 58,
   "id": "5d005a14",
   "metadata": {},
   "outputs": [
    {
     "name": "stdout",
     "output_type": "stream",
     "text": [
      "Pair { fst: \u001b[33m1\u001b[39m, snd: \u001b[33m2\u001b[39m }\n"
     ]
    }
   ],
   "source": [
    "class Pair<S, T> {\n",
    "    readonly fst: S;  // First component of data\n",
    "    readonly snd: T;  // Second component of data\n",
    "    \n",
    "    constructor (fst: S, snd: T) {\n",
    "        this.fst = fst;\n",
    "        this.snd = snd;\n",
    "    }\n",
    "    \n",
    "    swap() {  // Swap the first and second components\n",
    "        return new Pair(this.snd, this.fst);\n",
    "    }\n",
    "}\n",
    "\n",
    "let pair = new Pair(1, 2);\n",
    "pair"
   ]
  },
  {
   "cell_type": "markdown",
   "id": "49ad2840",
   "metadata": {},
   "source": [
    "Compare with Java\n",
    "\n",
    "```\n",
    "class Pair<S, T> {\n",
    "\tpublic final S fst;\n",
    "\tpublic final T snd;\n",
    "\n",
    "\tpublic Pair(S fst, T snd) {\n",
    "\t\tthis.fst = fst;\n",
    "\t\tthis.snd = snd;\n",
    "\t}\n",
    "\n",
    "\tpublic Pair<T, S> swap() {\n",
    "\t\treturn new Pair(this.snd, this.fst);\n",
    "\t}\n",
    "}\n",
    "```"
   ]
  },
  {
   "cell_type": "code",
   "execution_count": 59,
   "id": "06d6de02",
   "metadata": {},
   "outputs": [
    {
     "name": "stdout",
     "output_type": "stream",
     "text": [
      "\u001b[33m1\u001b[39m\n"
     ]
    }
   ],
   "source": [
    "pair.fst"
   ]
  },
  {
   "cell_type": "code",
   "execution_count": 60,
   "id": "033789c2",
   "metadata": {},
   "outputs": [
    {
     "name": "stdout",
     "output_type": "stream",
     "text": [
      "\u001b[33m2\u001b[39m\n"
     ]
    }
   ],
   "source": [
    "pair.snd"
   ]
  },
  {
   "cell_type": "code",
   "execution_count": 61,
   "id": "d904b44c",
   "metadata": {},
   "outputs": [
    {
     "name": "stdout",
     "output_type": "stream",
     "text": [
      "Pair { fst: \u001b[33m2\u001b[39m, snd: \u001b[33m1\u001b[39m }\n"
     ]
    }
   ],
   "source": [
    "pair.swap()"
   ]
  },
  {
   "cell_type": "code",
   "execution_count": 62,
   "id": "80940617",
   "metadata": {},
   "outputs": [
    {
     "name": "stdout",
     "output_type": "stream",
     "text": [
      "Pair { fst: \u001b[33m1\u001b[39m, snd: \u001b[33m2\u001b[39m }\n"
     ]
    }
   ],
   "source": [
    "class MutablePair {\n",
    "    fst: any;\n",
    "    snd: any;\n",
    "    \n",
    "    constructor (fst, snd) {\n",
    "        this.fst = fst;\n",
    "        this.snd = snd;\n",
    "    }\n",
    "    \n",
    "    swap() {\n",
    "        const tmp = this.fst;\n",
    "        this.fst = this.snd;\n",
    "        this.snd = tmp;\n",
    "        this.snd = tmp;\n",
    "    }\n",
    "}\n",
    "\n",
    "let pair = new Pair(1, 2);\n",
    "pair.swap();\n",
    "pair"
   ]
  },
  {
   "cell_type": "markdown",
   "id": "4fb87437",
   "metadata": {},
   "source": [
    "## Resources\n",
    "\n",
    "- Node: [https://nodejs.org/en/](https://nodejs.org/en/)\n",
    "- JavaScript: [https://developer.mozilla.org/en-US/docs/Web/JavaScript](https://developer.mozilla.org/en-US/docs/Web/JavaScript)\n",
    "- TypeScript: [https://www.typescriptlang.org/](https://www.typescriptlang.org/)"
   ]
  },
  {
   "cell_type": "markdown",
   "id": "5a7ad6d7",
   "metadata": {},
   "source": [
    "## Bonus\n",
    "\n",
    "Opinion: one of the best talks ever on language design\n",
    "\n",
    "* How to Grow a Language by Guy Steele: [https://www.youtube.com/watch?v=_ahvzDzKdB0](https://www.youtube.com/watch?v=_ahvzDzKdB0)"
   ]
  },
  {
   "cell_type": "markdown",
   "id": "20a0126c",
   "metadata": {},
   "source": [
    "## Summary\n",
    "\n",
    "1. Why learn a new language / TypeScript?\n",
    "2. Some TypeScript + comparison with Java\n",
    "    * How to do IO?\n",
    "    * Data?\n",
    "    * Code?"
   ]
  },
  {
   "cell_type": "code",
   "execution_count": null,
   "id": "ae53c104",
   "metadata": {},
   "outputs": [],
   "source": []
  }
 ],
 "metadata": {
  "kernelspec": {
   "display_name": "TypeScript",
   "language": "typescript",
   "name": "typescript"
  },
  "language_info": {
   "codemirror_mode": {
    "mode": "typescript",
    "name": "javascript",
    "typescript": true
   },
   "file_extension": ".ts",
   "mimetype": "text/typescript",
   "name": "typescript",
   "version": "3.7.2"
  }
 },
 "nbformat": 4,
 "nbformat_minor": 5
}
