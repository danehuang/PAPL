{
 "cells": [
  {
   "cell_type": "code",
   "execution_count": 1,
   "id": "5f698b0f",
   "metadata": {},
   "outputs": [
    {
     "data": {
      "text/html": [
       "\n",
       "  <link rel=\"stylesheet\" href=\"node_modules/carbon-components/css/carbon-components.css\">\n",
       "  "
      ]
     },
     "metadata": {},
     "output_type": "display_data"
    },
    {
     "data": {
      "text/html": [
       "\n",
       "<script>\n",
       "require.config({\n",
       "     paths: {\n",
       "     cytoscape: 'https://cdnjs.cloudflare.com/ajax/libs/cytoscape/3.19.0/cytoscape.min'\n",
       "}});\n",
       "</script>\n",
       "  "
      ]
     },
     "metadata": {},
     "output_type": "display_data"
    }
   ],
   "source": [
    "// TypeScript Jupyter extension\n",
    "import * as tslab from \"tslab\";\n",
    "\n",
    "// CSC 600 Libraries\n",
    "import { requireCytoscape, requireCarbon, drawTree } from \"./lib/draw\";\n",
    "import { mkLeaf, mkLeafNode, mkNode } from \"./lib/tree\"\n",
    "\n",
    "requireCarbon();\n",
    "requireCytoscape();"
   ]
  },
  {
   "cell_type": "markdown",
   "id": "78695b1a",
   "metadata": {},
   "source": [
    "# Recursion"
   ]
  },
  {
   "cell_type": "markdown",
   "id": "43505730",
   "metadata": {},
   "source": [
    "## Where Were We?\n",
    "\n",
    "1. **Language primitives** (i.e., building blocks of languages)\n",
    "    * Last time: sum types\n",
    "    * This time: **recursion**\n",
    "2. Language paradigms (i.e., combinations of language primitives)\n",
    "3. Building a language (i.e., designing your own language)"
   ]
  },
  {
   "cell_type": "markdown",
   "id": "5927e853",
   "metadata": {},
   "source": [
    "## Goal\n",
    "\n",
    "1. Introduce the concept of **recursive functions**.\n",
    "2. Highlight **recursive** thinking as a problem solving method.\n",
    "3. We will see that iteration and recursion are equivalent. But recursion may be a better technique for certain problems."
   ]
  },
  {
   "cell_type": "markdown",
   "id": "1f6b7af2",
   "metadata": {},
   "source": [
    "## Outline\n",
    "\n",
    "- Iteration vs. recursion via example"
   ]
  },
  {
   "cell_type": "markdown",
   "id": "6665766c",
   "metadata": {},
   "source": [
    "## Iteration vs. Recursion\n",
    "\n",
    "Let's just look at a problem ..."
   ]
  },
  {
   "cell_type": "markdown",
   "id": "09393f94",
   "metadata": {},
   "source": [
    "### Example 1: Smallest Number in Array\n",
    "\n",
    "Given an array of numbers, find the smallest element in the array."
   ]
  },
  {
   "cell_type": "code",
   "execution_count": 2,
   "id": "20b7161d",
   "metadata": {},
   "outputs": [
    {
     "name": "stdout",
     "output_type": "stream",
     "text": [
      "Smallest \u001b[33m10000000000\u001b[39m\n"
     ]
    }
   ],
   "source": [
    "// Example 1\n",
    "const xs = [10000000000];\n",
    "console.log(\"Smallest\", 10000000000);"
   ]
  },
  {
   "cell_type": "code",
   "execution_count": 3,
   "id": "9a1eaa55",
   "metadata": {},
   "outputs": [
    {
     "name": "stdout",
     "output_type": "stream",
     "text": [
      "Smallest \u001b[33m1\u001b[39m\n"
     ]
    }
   ],
   "source": [
    "// Example 2\n",
    "const xs = [2, 1];\n",
    "console.log(\"Smallest\", 1);"
   ]
  },
  {
   "cell_type": "code",
   "execution_count": 4,
   "id": "aaf1b4e4",
   "metadata": {},
   "outputs": [
    {
     "name": "stdout",
     "output_type": "stream",
     "text": [
      "Smallest \u001b[90mundefined\u001b[39m\n"
     ]
    }
   ],
   "source": [
    "// Example 3\n",
    "const xs = [];\n",
    "console.log(\"Smallest\", undefined);"
   ]
  },
  {
   "cell_type": "code",
   "execution_count": 5,
   "id": "29cb573f",
   "metadata": {},
   "outputs": [
    {
     "name": "stdout",
     "output_type": "stream",
     "text": [
      "Smallest \u001b[33m13\u001b[39m\n"
     ]
    }
   ],
   "source": [
    "// Example 4\n",
    "const xs = [32, 21, 13, 90];\n",
    "console.log(\"Smallest\", 13);"
   ]
  },
  {
   "cell_type": "markdown",
   "id": "062fba70",
   "metadata": {},
   "source": [
    "### An iterative solution\n",
    "\n",
    "I know most of you can code this in your sleep ..."
   ]
  },
  {
   "cell_type": "code",
   "execution_count": 6,
   "id": "d9c2f3fe",
   "metadata": {},
   "outputs": [],
   "source": [
    "function iterFindSmallest(xs: number[]): number | undefined {\n",
    "    if (xs.length === 0) {\n",
    "        return undefined;\n",
    "    }\n",
    "    \n",
    "    let smallest = xs[0];\n",
    "//     for (let i = xs.length - 1; i >= 0; i--) {\n",
    "//         smallest = Math.min(smallest, xs[i]);\n",
    "//     }\n",
    "    for (let i=1; i < xs.length; i++) {  // <- iterative solution\n",
    "        smallest = Math.min(smallest, xs[i]);\n",
    "    }\n",
    "    return smallest;\n",
    "}"
   ]
  },
  {
   "cell_type": "code",
   "execution_count": 7,
   "id": "e44a3b5d",
   "metadata": {},
   "outputs": [
    {
     "name": "stdout",
     "output_type": "stream",
     "text": [
      "\u001b[33m13\u001b[39m\n"
     ]
    }
   ],
   "source": [
    "const xs = [32, 21, 13, 90]\n",
    "iterFindSmallest(xs);"
   ]
  },
  {
   "cell_type": "markdown",
   "id": "04e765fd",
   "metadata": {},
   "source": [
    "#### This is a perfectly fine solution.\n",
    "\n",
    "* The code is clean.\n",
    "* It uses sum types to express that the smallest number in an empty array is `undefined` as opposed to having the user guess what might happen.\n",
    "* The function is a pure function."
   ]
  },
  {
   "cell_type": "markdown",
   "id": "c359294a",
   "metadata": {},
   "source": [
    "#### However the solution requires \"operational\" thinking.\n",
    "\n",
    "Operational thinking means: executing the code line-by-line mentally. This raises several questions\n",
    "* Do I have to traverse the array from front to back?\n",
    "* What happens if I traverse the array in a different order?\n",
    "* What happens if I use parallel or distributed computing?\n",
    "* How could I argue that this solution is correct? (In particular, we might wonder what the *loop invariant* is.)"
   ]
  },
  {
   "cell_type": "markdown",
   "id": "07d2d0ff",
   "metadata": {},
   "source": [
    "### Another solution?\n",
    "\n",
    "We might wonder if there is another way that makes it apparent that the code is correct."
   ]
  },
  {
   "cell_type": "markdown",
   "id": "d4866bda",
   "metadata": {},
   "source": [
    "### Observation\n",
    "\n",
    "```ts\n",
    "smallest([a, b, c, d]) = min(a, smallest([b, c, d]))\n",
    "                       = min(a, min(b, smallest([c, d])))\n",
    "                       = min(a, min(b, min(c, smallest([d]))))\n",
    "                       = min(a, min(b, min(c, d))))\n",
    "```\n",
    "where\n",
    "1. `smallest` is some hypothetical function that gives the smallest of an array of number.\n",
    "2. `min` returns the smallest of two numbers.\n",
    "3. we can think of this as a series of equations that needs to be satisfied"
   ]
  },
  {
   "cell_type": "code",
   "execution_count": 8,
   "id": "ff83c907",
   "metadata": {},
   "outputs": [
    {
     "data": {
      "text/html": [
       "\n",
       "<style>\n",
       "    #mydiv6b284e55-4e27-4fa2-96bf-2ba2f479cb10 {\n",
       "        width: 800px;\n",
       "        height: 350px;\n",
       "        top: 0px;\n",
       "        left: 0px;\n",
       "    }\n",
       "</style>\n",
       "<div id=\"mydiv6b284e55-4e27-4fa2-96bf-2ba2f479cb10\"></div>\n"
      ]
     },
     "metadata": {},
     "output_type": "display_data"
    },
    {
     "data": {
      "text/html": [
       "\n",
       "<script>\n",
       " (function(element) {\n",
       "     require(['cytoscape'], function(cytoscape) {   \n",
       "        var cy = cytoscape({\n",
       "         container: document.getElementById('mydiv6b284e55-4e27-4fa2-96bf-2ba2f479cb10'),\n",
       "         style: [\n",
       "{\n",
       "  selector: 'node',\n",
       "  css: {\n",
       "    'class': \".bx--tree\",\n",
       "    'label': 'data(label)',\n",
       "    'height': '10px',\n",
       "    'width': '10px',\n",
       "  }\n",
       "},\n",
       "{\n",
       "  selector: 'edge',\n",
       "  css: {\n",
       "    'width': 3,\n",
       "    // 'line-color': '#ccc123',\n",
       "    'curve-style': 'bezier',\n",
       "    'target-arrow-shape': 'triangle',\n",
       "    'target-arrow-fill': 'filled',\n",
       "    'arrow-scale': 1,\n",
       "  }\n",
       "}\n",
       "],\n",
       "         layout: \n",
       "{\n",
       "  name: 'preset'\n",
       "}\n",
       ",\n",
       "         elements: [\n",
       "  {\n",
       "    data: { id: 'node15', label: 'smallest([a, b, c, d])' },\n",
       "    position: { x: 0, y: 0 }\n",
       "  },\n",
       "  { data: { id: 'edge16', source: 'node15', target: 'leaf1' } },\n",
       "  { data: { id: 'edge17', source: 'node15', target: 'node12' } },\n",
       "  { data: { id: 'leaf1' }, position: { x: -100, y: 50 } },\n",
       "  {\n",
       "    data: { id: 'node12', label: 'smallest([b, c, d])' },\n",
       "    position: { x: 100, y: 50 }\n",
       "  },\n",
       "  { data: { id: 'edge13', source: 'node12', target: 'leaf2' } },\n",
       "  { data: { id: 'edge14', source: 'node12', target: 'node9' } },\n",
       "  { data: { id: 'leaf2' }, position: { x: 50, y: 100 } },\n",
       "  {\n",
       "    data: { id: 'node9', label: 'smallest([c, d])' },\n",
       "    position: { x: 150, y: 100 }\n",
       "  },\n",
       "  { data: { id: 'edge10', source: 'node9', target: 'leaf3' } },\n",
       "  { data: { id: 'edge11', source: 'node9', target: 'node6' } },\n",
       "  {\n",
       "    data: { id: 'leaf3' },\n",
       "    position: { x: 116.66666666666666, y: 150 }\n",
       "  },\n",
       "  {\n",
       "    data: { id: 'node6', label: 'smallest([d])' },\n",
       "    position: { x: 183.33333333333334, y: 150 }\n",
       "  },\n",
       "  { data: { id: 'edge7', source: 'node6', target: 'leaf4' } },\n",
       "  { data: { id: 'edge8', source: 'node6', target: 'leaf5' } },\n",
       "  {\n",
       "    data: { id: 'leaf4' },\n",
       "    position: { x: 158.33333333333334, y: 200 }\n",
       "  },\n",
       "  {\n",
       "    data: { id: 'leaf5' },\n",
       "    position: { x: 208.33333333333334, y: 200 }\n",
       "  }\n",
       "]\n",
       "         });\n",
       "     });\n",
       " })(this.element);\n",
       "</script>\n"
      ]
     },
     "metadata": {},
     "output_type": "display_data"
    }
   ],
   "source": [
    "const tr = mkNode(\"smallest([a, b, c, d])\",\n",
    "                  mkLeaf(),\n",
    "                  mkNode(\"smallest([b, c, d])\",\n",
    "                         mkLeaf(),\n",
    "                         mkNode(\"smallest([c, d])\",\n",
    "                                mkLeaf(),\n",
    "                                mkLeafNode(\"smallest([d])\"))));\n",
    "drawTree(tr);"
   ]
  },
  {
   "cell_type": "markdown",
   "id": "c387259e",
   "metadata": {},
   "source": [
    "#### Key Properties\n",
    "\n",
    "```ts\n",
    "smallest([a, b, c, d]) = min(a, smallest([b, c, d]))                (recursive call 1)\n",
    "                       = min(a, min(b, smallest([c, d])))           (recursive call 2)\n",
    "                       = min(a, min(b, min(c, smallest([d]))))      (recursive call 3)\n",
    "                       = min(a, min(b, min(c, d))))                 (base case)\n",
    "```\n",
    "1. We have reduced the construction of smallest into a nested sequences of call to `min`.\n",
    "2. `min` should have an implementation\n",
    "```ts\n",
    "function min(a: number, b: number): number { return a < b ? a : b; }\n",
    "```\n",
    "3. There are *recursive* cases where an equality involves `smallest` on both sides.\n",
    "4. There is a *base* case `smallest([d])` that reduces to an implementation without reference to `smallest`."
   ]
  },
  {
   "cell_type": "markdown",
   "id": "75f5e715",
   "metadata": {},
   "source": [
    "## Recursion\n",
    "\n",
    "We can use **recursion** to solve a problem whenever we can use a solution to a **smaller instance** of the **same problem** to solve the original problem. For example,\n",
    "\n",
    "```ts\n",
    "smallest([a, b, c, d]) = min(a, smallest([b, c, d]))\n",
    "```\n",
    "\n",
    "means that the solution to `smallest([a, b, c, d])` can be given in terms of `smallest([b, c, d])` where `[b, c, d]` is the smaller instance of the array `[a, b, c, d]`."
   ]
  },
  {
   "cell_type": "markdown",
   "id": "16231090",
   "metadata": {},
   "source": [
    "### Let's code this up"
   ]
  },
  {
   "cell_type": "markdown",
   "id": "1f0e5a7a",
   "metadata": {},
   "source": [
    "```ts\n",
    "smallest([a, b, c, d]) = min(a, smallest([b, c, d]))                (recursive call 1)\n",
    "                       = min(a, min(b, smallest([c, d])))           (recursive call 2)\n",
    "                       = min(a, min(b, min(c, smallest([d]))))      (recursive call 3)\n",
    "                       = min(a, min(b, min(c, d))))                 (base case)\n",
    "```\n",
    "\n",
    "Generalizing from the above\n",
    "\n",
    "```ts\n",
    "smallest([]) = undefined\n",
    "smallest([x]) = x\n",
    "smallest([a, b, c, ...]) = min(a, smallest([b, c, ...]))            (recursive case)\n",
    "```"
   ]
  },
  {
   "cell_type": "code",
   "execution_count": 9,
   "id": "4f42d86e",
   "metadata": {},
   "outputs": [
    {
     "name": "stdout",
     "output_type": "stream",
     "text": [
      "original array [ \u001b[33m32\u001b[39m, \u001b[33m21\u001b[39m, \u001b[33m13\u001b[39m, \u001b[33m90\u001b[39m ]\n",
      "[ \u001b[33m21\u001b[39m, \u001b[33m13\u001b[39m, \u001b[33m90\u001b[39m ]\n",
      "[ \u001b[33m13\u001b[39m, \u001b[33m90\u001b[39m ]\n",
      "[ \u001b[33m21\u001b[39m, \u001b[33m13\u001b[39m ]\n"
     ]
    }
   ],
   "source": [
    "// Aside: slicing\n",
    "console.log(\"original array\", xs);\n",
    "console.log(xs.slice(1));    // Without the first element\n",
    "console.log(xs.slice(2));    // Without the first two elements\n",
    "console.log(xs.slice(1,3));  // Elements 1 through 2"
   ]
  },
  {
   "cell_type": "code",
   "execution_count": 10,
   "id": "0cff99fe",
   "metadata": {},
   "outputs": [],
   "source": [
    "function recFindSmallest1(xs: number[]): number | undefined {\n",
    "    if (xs.length === 0) {\n",
    "        // smallest([]) = undefined\n",
    "        return undefined;\n",
    "    } else if (xs.length === 1) {\n",
    "        // smallest([x]) = x\n",
    "        return xs[0];\n",
    "    } else {\n",
    "        // smallest([a, b, c, ...]) = min(a, smallest([b, c, ...]))\n",
    "        return Math.min(xs[0], recFindSmallest1(xs.slice(1)));\n",
    "    }\n",
    "}"
   ]
  },
  {
   "cell_type": "code",
   "execution_count": 11,
   "id": "cffbe194",
   "metadata": {},
   "outputs": [
    {
     "name": "stdout",
     "output_type": "stream",
     "text": [
      "iterative \u001b[33m13\u001b[39m\n",
      "recursive \u001b[33m13\u001b[39m\n"
     ]
    }
   ],
   "source": [
    "const xs = [32, 21, 13, 90];\n",
    "console.log(\"iterative\", iterFindSmallest(xs));\n",
    "console.log(\"recursive\", recFindSmallest1(xs));"
   ]
  },
  {
   "cell_type": "markdown",
   "id": "7d4746b8",
   "metadata": {},
   "source": [
    "### Aside: Differential Testing\n",
    "\n",
    "Now that we have two different implementations of the same function, we can do something called *differential testing* where we compare the input/output behavior of the two functions. You can use this to increase confidence that your functions are correct\n",
    "1. If the outputs are the same, high probability that the functions are correct.\n",
    "2. If the outputs are different, at least one of the functions is incorrect.\n",
    "\n",
    "One application: test an optimized vs. an unoptimized function"
   ]
  },
  {
   "cell_type": "code",
   "execution_count": 12,
   "id": "c85fd42b",
   "metadata": {},
   "outputs": [
    {
     "name": "stdout",
     "output_type": "stream",
     "text": [
      "\u001b[33mtrue\u001b[39m\n",
      "\u001b[33mtrue\u001b[39m\n"
     ]
    }
   ],
   "source": [
    "console.log(iterFindSmallest([]) === recFindSmallest1([]));\n",
    "console.log(iterFindSmallest([32, 13]) === recFindSmallest1([32, 13]));"
   ]
  },
  {
   "cell_type": "markdown",
   "id": "8e5528ba",
   "metadata": {},
   "source": [
    "### Another recursive solution?"
   ]
  },
  {
   "cell_type": "markdown",
   "id": "c6d1324d",
   "metadata": {},
   "source": [
    "```ts\n",
    "smallest([a, b, c, d]) = min(smallest([a, b]), smallest([c, d]))                                 (recursive call 1)\n",
    "                       = min(min(smallest([a]), smallest[b]), min(smallest([c]), smallest[d])))  (recursive call 2)\n",
    "                       = min(min(a, b), min(c, d)))                                              (base case)\n",
    "```"
   ]
  },
  {
   "cell_type": "code",
   "execution_count": 13,
   "id": "a7857e6b",
   "metadata": {},
   "outputs": [
    {
     "data": {
      "text/html": [
       "\n",
       "<style>\n",
       "    #mydiv92602ab6-2b48-4ad2-92b4-7643a7815d5f {\n",
       "        width: 800px;\n",
       "        height: 350px;\n",
       "        top: 0px;\n",
       "        left: 0px;\n",
       "    }\n",
       "</style>\n",
       "<div id=\"mydiv92602ab6-2b48-4ad2-92b4-7643a7815d5f\"></div>\n"
      ]
     },
     "metadata": {},
     "output_type": "display_data"
    },
    {
     "data": {
      "text/html": [
       "\n",
       "<script>\n",
       " (function(element) {\n",
       "     require(['cytoscape'], function(cytoscape) {   \n",
       "        var cy = cytoscape({\n",
       "         container: document.getElementById('mydiv92602ab6-2b48-4ad2-92b4-7643a7815d5f'),\n",
       "         style: [\n",
       "{\n",
       "  selector: 'node',\n",
       "  css: {\n",
       "    'class': \".bx--tree\",\n",
       "    'label': 'data(label)',\n",
       "    'height': '10px',\n",
       "    'width': '10px',\n",
       "  }\n",
       "},\n",
       "{\n",
       "  selector: 'edge',\n",
       "  css: {\n",
       "    'width': 3,\n",
       "    // 'line-color': '#ccc123',\n",
       "    'curve-style': 'bezier',\n",
       "    'target-arrow-shape': 'triangle',\n",
       "    'target-arrow-fill': 'filled',\n",
       "    'arrow-scale': 1,\n",
       "  }\n",
       "}\n",
       "],\n",
       "         layout: \n",
       "{\n",
       "  name: 'preset'\n",
       "}\n",
       ",\n",
       "         elements: [\n",
       "  {\n",
       "    data: { id: 'node27', label: 'smallest([a, b, c, d])' },\n",
       "    position: { x: 0, y: 0 }\n",
       "  },\n",
       "  { data: { id: 'edge28', source: 'node27', target: 'node11' } },\n",
       "  { data: { id: 'edge29', source: 'node27', target: 'node24' } },\n",
       "  {\n",
       "    data: { id: 'node11', label: 'smallest([a, b])' },\n",
       "    position: { x: -100, y: 50 }\n",
       "  },\n",
       "  { data: { id: 'edge12', source: 'node11', target: 'node3' } },\n",
       "  { data: { id: 'edge13', source: 'node11', target: 'node8' } },\n",
       "  {\n",
       "    data: { id: 'node3', label: 'smallest([a])' },\n",
       "    position: { x: -150, y: 100 }\n",
       "  },\n",
       "  { data: { id: 'edge4', source: 'node3', target: 'leaf1' } },\n",
       "  { data: { id: 'edge5', source: 'node3', target: 'leaf2' } },\n",
       "  {\n",
       "    data: { id: 'leaf1' },\n",
       "    position: { x: -183.33333333333334, y: 150 }\n",
       "  },\n",
       "  {\n",
       "    data: { id: 'leaf2' },\n",
       "    position: { x: -116.66666666666666, y: 150 }\n",
       "  },\n",
       "  {\n",
       "    data: { id: 'node8', label: 'smallest([b])' },\n",
       "    position: { x: -50, y: 100 }\n",
       "  },\n",
       "  { data: { id: 'edge9', source: 'node8', target: 'leaf6' } },\n",
       "  { data: { id: 'edge10', source: 'node8', target: 'leaf7' } },\n",
       "  {\n",
       "    data: { id: 'leaf6' },\n",
       "    position: { x: -83.33333333333334, y: 150 }\n",
       "  },\n",
       "  {\n",
       "    data: { id: 'leaf7' },\n",
       "    position: { x: -16.666666666666664, y: 150 }\n",
       "  },\n",
       "  {\n",
       "    data: { id: 'node24', label: 'smallest([c, d])' },\n",
       "    position: { x: 100, y: 50 }\n",
       "  },\n",
       "  { data: { id: 'edge25', source: 'node24', target: 'node16' } },\n",
       "  { data: { id: 'edge26', source: 'node24', target: 'node21' } },\n",
       "  {\n",
       "    data: { id: 'node16', label: 'smallest([c])' },\n",
       "    position: { x: 50, y: 100 }\n",
       "  },\n",
       "  { data: { id: 'edge17', source: 'node16', target: 'leaf14' } },\n",
       "  { data: { id: 'edge18', source: 'node16', target: 'leaf15' } },\n",
       "  {\n",
       "    data: { id: 'leaf14' },\n",
       "    position: { x: 16.666666666666664, y: 150 }\n",
       "  },\n",
       "  {\n",
       "    data: { id: 'leaf15' },\n",
       "    position: { x: 83.33333333333334, y: 150 }\n",
       "  },\n",
       "  {\n",
       "    data: { id: 'node21', label: 'smallest([d])' },\n",
       "    position: { x: 150, y: 100 }\n",
       "  },\n",
       "  { data: { id: 'edge22', source: 'node21', target: 'leaf19' } },\n",
       "  { data: { id: 'edge23', source: 'node21', target: 'leaf20' } },\n",
       "  {\n",
       "    data: { id: 'leaf19' },\n",
       "    position: { x: 116.66666666666666, y: 150 }\n",
       "  },\n",
       "  {\n",
       "    data: { id: 'leaf20' },\n",
       "    position: { x: 183.33333333333334, y: 150 }\n",
       "  }\n",
       "]\n",
       "         });\n",
       "     });\n",
       " })(this.element);\n",
       "</script>\n"
      ]
     },
     "metadata": {},
     "output_type": "display_data"
    }
   ],
   "source": [
    "const tr = mkNode(\"smallest([a, b, c, d])\",\n",
    "                  mkNode(\"smallest([a, b])\",\n",
    "                         mkLeafNode(\"smallest([a])\"),\n",
    "                         mkLeafNode(\"smallest([b])\")),\n",
    "                  mkNode(\"smallest([c, d])\",\n",
    "                         mkLeafNode(\"smallest([c])\"),\n",
    "                        mkLeafNode(\"smallest([d])\")));\n",
    "drawTree(tr);"
   ]
  },
  {
   "cell_type": "code",
   "execution_count": 14,
   "id": "4954621f",
   "metadata": {},
   "outputs": [
    {
     "name": "stdout",
     "output_type": "stream",
     "text": [
      "\u001b[33m13\u001b[39m\n"
     ]
    }
   ],
   "source": [
    "function recFindSmallest2(xs: number[]): number | undefined {\n",
    "    if (xs.length === 0) {\n",
    "        return undefined;\n",
    "    } else if (xs.length === 1) {\n",
    "        return xs[0];\n",
    "    } else {\n",
    "        const midpt = Math.floor(xs.length / 2);\n",
    "        return Math.min(recFindSmallest2(xs.slice(0, midpt)), recFindSmallest2(xs.slice(midpt)));\n",
    "    }\n",
    "}\n",
    "\n",
    "recFindSmallest2([32, 21, 13, 90]);"
   ]
  },
  {
   "cell_type": "markdown",
   "id": "101118ca",
   "metadata": {},
   "source": [
    "### Aside: Differential Testing 2\n",
    "\n",
    "- We can still apply the idea of differential testing if we have three implementations.\n",
    "- This time, we can vote on the most likely outcome.\n",
    "- If they all agree, then there is a high probability that the answer is correct.\n",
    "- If two agree, then the one that disagrees is likely the one that is wrong.\n",
    "- If they all disagree, then there are at least two functions that are wrong."
   ]
  },
  {
   "cell_type": "code",
   "execution_count": 15,
   "id": "08e3ec0d",
   "metadata": {},
   "outputs": [
    {
     "name": "stdout",
     "output_type": "stream",
     "text": [
      "[ \u001b[90mundefined\u001b[39m, \u001b[90mundefined\u001b[39m, \u001b[90mundefined\u001b[39m ]\n",
      "[ \u001b[33m11\u001b[39m, \u001b[33m11\u001b[39m, \u001b[33m11\u001b[39m ]\n",
      "[ \u001b[33m-15\u001b[39m, \u001b[33m-15\u001b[39m, \u001b[33m-15\u001b[39m ]\n"
     ]
    }
   ],
   "source": [
    "const funcs = [iterFindSmallest, recFindSmallest1, recFindSmallest2];\n",
    "const inputs = [\n",
    "    [],\n",
    "    [32, 11, 13, 15],\n",
    "    [32, 11, 13, -15],\n",
    "]\n",
    "\n",
    "const outputs = inputs.map((x) => funcs.map((fn) => fn(x)))\n",
    "for (const output of outputs) {\n",
    "    console.log(output)\n",
    "}"
   ]
  },
  {
   "cell_type": "markdown",
   "id": "6865d365",
   "metadata": {},
   "source": [
    "### Example 2: Sorting\n",
    "\n",
    "- Given an array of numbers, sort them into ascending order.\n",
    "- Unlike finding the smallest number in an array, might be harder to code."
   ]
  },
  {
   "cell_type": "markdown",
   "id": "6a46bf30",
   "metadata": {},
   "source": [
    "### Insertion Sort\n",
    "\n",
    "```ts\n",
    "sortedUnsorted([], [13, 32, -1, 10])\n",
    "    = sortedUnsorted(insertInOrder([], 13), [32, -1, 10])     (insert 13 in order)\n",
    "    = sortedUnsorted(insertInOrder([13], 32), [-1, 10])     (insert 32 in order)\n",
    "    = sortedUnsorted(insertInOrder([13, 32], -1), [10])     (insert -1 in order)\n",
    "    = sortedUnsorted(insertInOrder([-1, 13, 32], 10), [])   (insert 10 in order)\n",
    "```"
   ]
  },
  {
   "cell_type": "code",
   "execution_count": 16,
   "id": "4533ca24",
   "metadata": {},
   "outputs": [],
   "source": [
    "// Here's a \"recursive\"-looking insertion sort\n",
    "function insertionSort(arr: number[]): number[] {  // Question: pure or impure?\n",
    "    function insertInOrder(x: number, sorted: number[]): number[] {  // Question: pure or impure?\n",
    "        for (let i = 0; i < sorted.length; i++) {\n",
    "            if (x < sorted[i]) {\n",
    "                sorted.splice(i, 0, x);\n",
    "                return sorted;\n",
    "            }\n",
    "        }\n",
    "        sorted.push(x);\n",
    "        return sorted;\n",
    "    }\n",
    "    \n",
    "    function sortedUnsorted(sorted: number[], unsorted: number[]): number[] {  // Question: pure or impure?\n",
    "        if (unsorted.length === 0) {\n",
    "            return sorted;\n",
    "        } else {\n",
    "            return sortedUnsorted(insertInOrder(unsorted[0], sorted), unsorted.slice(1));\n",
    "        }\n",
    "    }\n",
    "    \n",
    "    return sortedUnsorted([], arr);\n",
    "}"
   ]
  },
  {
   "cell_type": "code",
   "execution_count": 17,
   "id": "ae97470b",
   "metadata": {},
   "outputs": [
    {
     "name": "stdout",
     "output_type": "stream",
     "text": [
      "[ \u001b[33m-1\u001b[39m, \u001b[33m10\u001b[39m, \u001b[33m13\u001b[39m, \u001b[33m32\u001b[39m ]\n",
      "[ \u001b[33m-2\u001b[39m, \u001b[33m-1\u001b[39m, \u001b[33m10\u001b[39m, \u001b[33m13\u001b[39m, \u001b[33m32\u001b[39m ]\n"
     ]
    }
   ],
   "source": [
    "console.log(insertionSort([13, 32, -1, 10]));\n",
    "console.log(insertionSort([13, 32, -1, 10, -2]));"
   ]
  },
  {
   "cell_type": "markdown",
   "id": "7ab32ebf",
   "metadata": {},
   "source": [
    "## Insertion and Recursion are \"Equally Expressive\"\n",
    "\n",
    "- One may wonder if iteration or recursion is \"better\".\n",
    "- They are equally expressive.\n",
    "- However, iteration may take less memory because each recursive call requires an additional stack frame.\n",
    "- Recursion may make it easier to see why certain complex loops work (e.g., rederiving insertion sort)."
   ]
  },
  {
   "cell_type": "markdown",
   "id": "d1db50e6",
   "metadata": {},
   "source": [
    "### Iteration to Recursion"
   ]
  },
  {
   "cell_type": "markdown",
   "id": "196c83f2",
   "metadata": {},
   "source": [
    "#### Example"
   ]
  },
  {
   "cell_type": "code",
   "execution_count": 18,
   "id": "d9fbf407",
   "metadata": {},
   "outputs": [
    {
     "name": "stdout",
     "output_type": "stream",
     "text": [
      "\u001b[33m45\u001b[39m\n"
     ]
    }
   ],
   "source": [
    "let acc = 0;\n",
    "for (let i = 0; i < 10; i++) {\n",
    "    acc += i;\n",
    "}\n",
    "acc"
   ]
  },
  {
   "cell_type": "code",
   "execution_count": 19,
   "id": "0f7249ac",
   "metadata": {},
   "outputs": [
    {
     "name": "stdout",
     "output_type": "stream",
     "text": [
      "\u001b[33m45\u001b[39m\n"
     ]
    }
   ],
   "source": [
    "let acc = 0;\n",
    "function recForLoop1(i: number): void {  // Challenge: how would you make this a pure function?\n",
    "    if (i < 10) {\n",
    "        acc += i;\n",
    "        recForLoop1(i + 1);\n",
    "    } \n",
    "}\n",
    "\n",
    "recForLoop1(0);\n",
    "acc;"
   ]
  },
  {
   "cell_type": "markdown",
   "id": "8c2bd321",
   "metadata": {},
   "source": [
    "#### In General"
   ]
  },
  {
   "cell_type": "code",
   "execution_count": 20,
   "id": "ebd8f690",
   "metadata": {},
   "outputs": [],
   "source": [
    "function recForLoop(init: () => void, test: () => boolean, update: () => void, body: () => any): any {\n",
    "    init();\n",
    "    function go() {\n",
    "        if (test()) {\n",
    "            body();\n",
    "            update();\n",
    "            go();\n",
    "        }\n",
    "    }\n",
    "    go();\n",
    "}"
   ]
  },
  {
   "cell_type": "code",
   "execution_count": 21,
   "id": "6e500537",
   "metadata": {},
   "outputs": [
    {
     "name": "stdout",
     "output_type": "stream",
     "text": [
      "\u001b[33m45\u001b[39m\n"
     ]
    }
   ],
   "source": [
    "let i;\n",
    "let acc = 0;\n",
    "function init(): void {\n",
    "    i = 0;\n",
    "}\n",
    "function test(): boolean {\n",
    "    return i < 10;\n",
    "}\n",
    "function update(): void {\n",
    "    i++;\n",
    "}\n",
    "function body(): void {\n",
    "    acc += i;\n",
    "}\n",
    "\n",
    "// Question: what are init, test, update, body?\n",
    "recForLoop(init, test, update, body);\n",
    "acc"
   ]
  },
  {
   "cell_type": "markdown",
   "id": "cab8c0c1",
   "metadata": {},
   "source": [
    "### Recursion to Iteration"
   ]
  },
  {
   "cell_type": "code",
   "execution_count": 22,
   "id": "6f309e5f",
   "metadata": {},
   "outputs": [],
   "source": [
    "function factorial(n: number): number {\n",
    "    if (n === 0) {\n",
    "        return 1;\n",
    "    } else {\n",
    "        return n * factorial(n - 1);\n",
    "    }\n",
    "}"
   ]
  },
  {
   "cell_type": "code",
   "execution_count": 23,
   "id": "3f280d69",
   "metadata": {},
   "outputs": [],
   "source": [
    "function iterFactorial(n: number): number {\n",
    "    const stack: [number, \"CALL\"|\"RET\"][] = [[n, \"CALL\"]];\n",
    "    \n",
    "    while (stack.length > 0) {\n",
    "        const [n, mode]: [number, \"CALL\"|\"RET\"] = stack[stack.length-1];\n",
    "        if (mode === \"CALL\") {\n",
    "            if (n === 0) {\n",
    "                stack.pop();\n",
    "                stack.push([1, \"RET\"]);\n",
    "            } else {\n",
    "                stack.push([n - 1, \"CALL\"]);\n",
    "            }\n",
    "        } else {\n",
    "            stack.pop();\n",
    "            if (stack.length === 0) {\n",
    "                return n;\n",
    "            }\n",
    "            const [m, mode]: [number, \"CALL\"|\"RET\"] = stack.pop();\n",
    "            stack.push([n * m, \"RET\"]);\n",
    "        }\n",
    "    }\n",
    "}"
   ]
  },
  {
   "cell_type": "code",
   "execution_count": 24,
   "id": "613c3755",
   "metadata": {},
   "outputs": [
    {
     "name": "stdout",
     "output_type": "stream",
     "text": [
      "\u001b[33m24\u001b[39m \u001b[33m24\u001b[39m\n",
      "\u001b[33m120\u001b[39m \u001b[33m120\u001b[39m\n"
     ]
    }
   ],
   "source": [
    "console.log(factorial(4), iterFactorial(4));\n",
    "console.log(factorial(5), iterFactorial(5));"
   ]
  },
  {
   "cell_type": "markdown",
   "id": "b7db3a84",
   "metadata": {},
   "source": [
    "### In general, we need to simulate the call stack!"
   ]
  },
  {
   "cell_type": "markdown",
   "id": "15009c44",
   "metadata": {},
   "source": [
    "## Summary\n",
    "\n",
    "- We saw that recursion was a way to solve a problem by solving smaller instances of the same problem.\n",
    "- Iteration and recursion are equivalent, i.e., we can express the same computations.\n",
    "- Iteration may take up less memory because we do not need a call stack.\n",
    "- Recursion may make it easier to reason about why certain algorithms work."
   ]
  },
  {
   "cell_type": "code",
   "execution_count": null,
   "id": "8abfdbe1",
   "metadata": {},
   "outputs": [],
   "source": []
  }
 ],
 "metadata": {
  "kernelspec": {
   "display_name": "TypeScript",
   "language": "typescript",
   "name": "typescript"
  },
  "language_info": {
   "codemirror_mode": {
    "mode": "typescript",
    "name": "javascript",
    "typescript": true
   },
   "file_extension": ".ts",
   "mimetype": "text/typescript",
   "name": "typescript",
   "version": "3.7.2"
  }
 },
 "nbformat": 4,
 "nbformat_minor": 5
}
