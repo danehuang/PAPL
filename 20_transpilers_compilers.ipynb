{
 "cells": [
  {
   "cell_type": "code",
   "execution_count": 1,
   "id": "325a5ae0",
   "metadata": {},
   "outputs": [
    {
     "data": {
      "text/html": [
       "\n",
       "  <link rel=\"stylesheet\" href=\"node_modules/carbon-components/css/carbon-components.css\">\n",
       "  "
      ]
     },
     "metadata": {},
     "output_type": "display_data"
    },
    {
     "data": {
      "text/html": [
       "\n",
       "<script>\n",
       "require.config({\n",
       "     paths: {\n",
       "     cytoscape: 'https://cdnjs.cloudflare.com/ajax/libs/cytoscape/3.19.0/cytoscape.min'\n",
       "}});\n",
       "</script>\n",
       "  "
      ]
     },
     "metadata": {},
     "output_type": "display_data"
    }
   ],
   "source": [
    "import { requireCytoscape, requireCarbon } from \"./lib/draw\";\n",
    "\n",
    "requireCarbon();\n",
    "requireCytoscape();"
   ]
  },
  {
   "cell_type": "markdown",
   "id": "e25813ae",
   "metadata": {},
   "source": [
    "# Transpilers and Compilers"
   ]
  },
  {
   "cell_type": "markdown",
   "id": "d4c02d19",
   "metadata": {},
   "source": [
    "## Where Were We?\n",
    "\n",
    "1. Language primitives (i.e., building blocks of languages)\n",
    "2. Language paradigms (i.e., combinations of language primitives)\n",
    "3. **Building a language** (i.e., designing your own language)\n",
    "    * Last time: interpreters and evaluation\n",
    "    * This time: **compilers** and **transpilers**"
   ]
  },
  {
   "cell_type": "markdown",
   "id": "18a55aab",
   "metadata": {},
   "source": [
    "## Review\n",
    "\n",
    "- We've seen two components of language implementation: parsers and interpreters.\n",
    "- Let's review these before moving to the topic for today: *compilers* and *transpilers*."
   ]
  },
  {
   "cell_type": "code",
   "execution_count": 2,
   "id": "4b053698",
   "metadata": {},
   "outputs": [],
   "source": [
    "import { draw, treeLayout } from \"./lib/draw\";\n",
    "import * as T from \"./lib/lambdats/token\";\n",
    "import * as E from \"./lib/lambdats/expr\";\n",
    "import * as I from \"./lib/lambdats/substInterp\";\n",
    "import * as Parser from \"./lib/lambdats/parser\";\n",
    "\n",
    "function drawProg(prog: string|E.Expr): void {\n",
    "    if (typeof prog === 'string') {\n",
    "        draw(E.cytoscapify(Parser.parse(prog)), 800, 350, treeLayout);\n",
    "    } else {\n",
    "        draw(E.cytoscapify(prog), 800, 350, treeLayout);\n",
    "    }\n",
    "}"
   ]
  },
  {
   "cell_type": "markdown",
   "id": "280e63bd",
   "metadata": {},
   "source": [
    "### Component: Parsing\n",
    "\n",
    "- Input: string\n",
    "- Output: AST"
   ]
  },
  {
   "cell_type": "code",
   "execution_count": 3,
   "id": "f42481a4",
   "metadata": {},
   "outputs": [
    {
     "data": {
      "text/html": [
       "\n",
       "<style>\n",
       "    #mydiv7af53f2f-45c0-4db4-937c-2a37091cfdf3 {\n",
       "        width: 800px;\n",
       "        height: 350px;\n",
       "        top: 0px;\n",
       "        left: 0px;\n",
       "    }\n",
       "</style>\n",
       "<div id=\"mydiv7af53f2f-45c0-4db4-937c-2a37091cfdf3\"></div>\n"
      ]
     },
     "metadata": {},
     "output_type": "display_data"
    },
    {
     "data": {
      "text/html": [
       "\n",
       "<script>\n",
       " (function(element) {\n",
       "     require(['cytoscape'], function(cytoscape) {   \n",
       "        var cy = cytoscape({\n",
       "         container: document.getElementById('mydiv7af53f2f-45c0-4db4-937c-2a37091cfdf3'),\n",
       "         style: [\n",
       "{\n",
       "  selector: 'node',\n",
       "  css: {\n",
       "    'class': \".bx--tree\",\n",
       "    'label': 'data(label)',\n",
       "    'height': '10px',\n",
       "    'width': '10px',\n",
       "  }\n",
       "},\n",
       "{\n",
       "  selector: 'edge',\n",
       "  css: {\n",
       "    'width': 3,\n",
       "    // 'line-color': '#ccc123',\n",
       "    'curve-style': 'bezier',\n",
       "    'target-arrow-shape': 'triangle',\n",
       "    'target-arrow-fill': 'filled',\n",
       "    'arrow-scale': 1,\n",
       "  }\n",
       "}\n",
       "],\n",
       "         layout: \n",
       "{\n",
       "  name: 'preset'\n",
       "}\n",
       ",\n",
       "         elements: [\n",
       "  {\n",
       "    data: { id: 'function1', label: 'λ(x)' },\n",
       "    position: { x: 0, y: 0 }\n",
       "  },\n",
       "  { data: { id: 'edge7', source: 'function1', target: 'binary2' } },\n",
       "  { data: { id: 'binary2', label: '+' }, position: { x: 0, y: 50 } },\n",
       "  { data: { id: 'edge4', source: 'binary2', target: 'identifier3' } },\n",
       "  { data: { id: 'edge6', source: 'binary2', target: 'number5' } },\n",
       "  {\n",
       "    data: { id: 'identifier3', label: 'x' },\n",
       "    position: { x: -50, y: 100 }\n",
       "  },\n",
       "  { data: { id: 'number5', label: 1 }, position: { x: 50, y: 100 } }\n",
       "]\n",
       "         });\n",
       "     });\n",
       " })(this.element);\n",
       "</script>\n"
      ]
     },
     "metadata": {},
     "output_type": "display_data"
    }
   ],
   "source": [
    "const inputString = \"λx => x + 1\";\n",
    "const outputAST = Parser.parse(inputString);\n",
    "drawProg(outputAST);"
   ]
  },
  {
   "cell_type": "markdown",
   "id": "f272ec80",
   "metadata": {},
   "source": [
    "### Component: Interpreter\n",
    "\n",
    "- Input: AST\n",
    "- Output: AST that is a *value*.\n",
    "    * A *value* is an AST that can no longer be reduce.\n",
    "    * For LambdaTS, this means that the root of the AST is either a `NumericConstant` or a `FunctionExpr`."
   ]
  },
  {
   "cell_type": "code",
   "execution_count": 4,
   "id": "4e6a2988",
   "metadata": {},
   "outputs": [
    {
     "name": "stdout",
     "output_type": "stream",
     "text": [
      "Input\n"
     ]
    },
    {
     "data": {
      "text/html": [
       "\n",
       "<style>\n",
       "    #mydiv6e7f8784-6ae9-4518-b785-2c2baf58f385 {\n",
       "        width: 800px;\n",
       "        height: 350px;\n",
       "        top: 0px;\n",
       "        left: 0px;\n",
       "    }\n",
       "</style>\n",
       "<div id=\"mydiv6e7f8784-6ae9-4518-b785-2c2baf58f385\"></div>\n"
      ]
     },
     "metadata": {},
     "output_type": "display_data"
    },
    {
     "data": {
      "text/html": [
       "\n",
       "<script>\n",
       " (function(element) {\n",
       "     require(['cytoscape'], function(cytoscape) {   \n",
       "        var cy = cytoscape({\n",
       "         container: document.getElementById('mydiv6e7f8784-6ae9-4518-b785-2c2baf58f385'),\n",
       "         style: [\n",
       "{\n",
       "  selector: 'node',\n",
       "  css: {\n",
       "    'class': \".bx--tree\",\n",
       "    'label': 'data(label)',\n",
       "    'height': '10px',\n",
       "    'width': '10px',\n",
       "  }\n",
       "},\n",
       "{\n",
       "  selector: 'edge',\n",
       "  css: {\n",
       "    'width': 3,\n",
       "    // 'line-color': '#ccc123',\n",
       "    'curve-style': 'bezier',\n",
       "    'target-arrow-shape': 'triangle',\n",
       "    'target-arrow-fill': 'filled',\n",
       "    'arrow-scale': 1,\n",
       "  }\n",
       "}\n",
       "],\n",
       "         layout: \n",
       "{\n",
       "  name: 'preset'\n",
       "}\n",
       ",\n",
       "         elements: [\n",
       "  {\n",
       "    data: { id: 'function1', label: 'λ(x)' },\n",
       "    position: { x: 0, y: 0 }\n",
       "  },\n",
       "  { data: { id: 'edge7', source: 'function1', target: 'binary2' } },\n",
       "  { data: { id: 'binary2', label: '+' }, position: { x: 0, y: 50 } },\n",
       "  { data: { id: 'edge4', source: 'binary2', target: 'identifier3' } },\n",
       "  { data: { id: 'edge6', source: 'binary2', target: 'number5' } },\n",
       "  {\n",
       "    data: { id: 'identifier3', label: 'x' },\n",
       "    position: { x: -50, y: 100 }\n",
       "  },\n",
       "  { data: { id: 'number5', label: 1 }, position: { x: 50, y: 100 } }\n",
       "]\n",
       "         });\n",
       "     });\n",
       " })(this.element);\n",
       "</script>\n"
      ]
     },
     "metadata": {},
     "output_type": "display_data"
    },
    {
     "name": "stdout",
     "output_type": "stream",
     "text": [
      "Output\n"
     ]
    },
    {
     "data": {
      "text/html": [
       "\n",
       "<style>\n",
       "    #mydiv720bc029-d54a-4655-845e-b16ed3390337 {\n",
       "        width: 800px;\n",
       "        height: 350px;\n",
       "        top: 0px;\n",
       "        left: 0px;\n",
       "    }\n",
       "</style>\n",
       "<div id=\"mydiv720bc029-d54a-4655-845e-b16ed3390337\"></div>\n"
      ]
     },
     "metadata": {},
     "output_type": "display_data"
    },
    {
     "data": {
      "text/html": [
       "\n",
       "<script>\n",
       " (function(element) {\n",
       "     require(['cytoscape'], function(cytoscape) {   \n",
       "        var cy = cytoscape({\n",
       "         container: document.getElementById('mydiv720bc029-d54a-4655-845e-b16ed3390337'),\n",
       "         style: [\n",
       "{\n",
       "  selector: 'node',\n",
       "  css: {\n",
       "    'class': \".bx--tree\",\n",
       "    'label': 'data(label)',\n",
       "    'height': '10px',\n",
       "    'width': '10px',\n",
       "  }\n",
       "},\n",
       "{\n",
       "  selector: 'edge',\n",
       "  css: {\n",
       "    'width': 3,\n",
       "    // 'line-color': '#ccc123',\n",
       "    'curve-style': 'bezier',\n",
       "    'target-arrow-shape': 'triangle',\n",
       "    'target-arrow-fill': 'filled',\n",
       "    'arrow-scale': 1,\n",
       "  }\n",
       "}\n",
       "],\n",
       "         layout: \n",
       "{\n",
       "  name: 'preset'\n",
       "}\n",
       ",\n",
       "         elements: [\n",
       "  {\n",
       "    data: { id: 'function1', label: 'λ(x)' },\n",
       "    position: { x: 0, y: 0 }\n",
       "  },\n",
       "  { data: { id: 'edge7', source: 'function1', target: 'binary2' } },\n",
       "  { data: { id: 'binary2', label: '+' }, position: { x: 0, y: 50 } },\n",
       "  { data: { id: 'edge4', source: 'binary2', target: 'identifier3' } },\n",
       "  { data: { id: 'edge6', source: 'binary2', target: 'number5' } },\n",
       "  {\n",
       "    data: { id: 'identifier3', label: 'x' },\n",
       "    position: { x: -50, y: 100 }\n",
       "  },\n",
       "  { data: { id: 'number5', label: 1 }, position: { x: 50, y: 100 } }\n",
       "]\n",
       "         });\n",
       "     });\n",
       " })(this.element);\n",
       "</script>\n"
      ]
     },
     "metadata": {},
     "output_type": "display_data"
    }
   ],
   "source": [
    "const inputAST = Parser.parse(\"λx => x + 1\");\n",
    "console.log(\"Input\");\n",
    "drawProg(inputAST);\n",
    "const outputAST = I.interpret(inputAST);\n",
    "console.log(\"Output\");\n",
    "drawProg(outputAST);"
   ]
  },
  {
   "cell_type": "code",
   "execution_count": 5,
   "id": "e8e0fc3c",
   "metadata": {},
   "outputs": [
    {
     "name": "stdout",
     "output_type": "stream",
     "text": [
      "Input\n"
     ]
    },
    {
     "data": {
      "text/html": [
       "\n",
       "<style>\n",
       "    #mydiv645ef1aa-bfd0-4fc6-ac5b-129c606cd761 {\n",
       "        width: 800px;\n",
       "        height: 350px;\n",
       "        top: 0px;\n",
       "        left: 0px;\n",
       "    }\n",
       "</style>\n",
       "<div id=\"mydiv645ef1aa-bfd0-4fc6-ac5b-129c606cd761\"></div>\n"
      ]
     },
     "metadata": {},
     "output_type": "display_data"
    },
    {
     "data": {
      "text/html": [
       "\n",
       "<script>\n",
       " (function(element) {\n",
       "     require(['cytoscape'], function(cytoscape) {   \n",
       "        var cy = cytoscape({\n",
       "         container: document.getElementById('mydiv645ef1aa-bfd0-4fc6-ac5b-129c606cd761'),\n",
       "         style: [\n",
       "{\n",
       "  selector: 'node',\n",
       "  css: {\n",
       "    'class': \".bx--tree\",\n",
       "    'label': 'data(label)',\n",
       "    'height': '10px',\n",
       "    'width': '10px',\n",
       "  }\n",
       "},\n",
       "{\n",
       "  selector: 'edge',\n",
       "  css: {\n",
       "    'width': 3,\n",
       "    // 'line-color': '#ccc123',\n",
       "    'curve-style': 'bezier',\n",
       "    'target-arrow-shape': 'triangle',\n",
       "    'target-arrow-fill': 'filled',\n",
       "    'arrow-scale': 1,\n",
       "  }\n",
       "}\n",
       "],\n",
       "         layout: \n",
       "{\n",
       "  name: 'preset'\n",
       "}\n",
       ",\n",
       "         elements: [\n",
       "  { data: { id: 'call1', label: 'call' }, position: { x: 0, y: 0 } },\n",
       "  { data: { id: 'edge9', source: 'call1', target: 'function2' } },\n",
       "  { data: { id: 'edge11', source: 'call1', target: 'number10' } },\n",
       "  {\n",
       "    data: { id: 'function2', label: 'λ(x)' },\n",
       "    position: { x: -100, y: 50 }\n",
       "  },\n",
       "  { data: { id: 'edge8', source: 'function2', target: 'binary3' } },\n",
       "  {\n",
       "    data: { id: 'binary3', label: '+' },\n",
       "    position: { x: -100, y: 100 }\n",
       "  },\n",
       "  { data: { id: 'edge5', source: 'binary3', target: 'identifier4' } },\n",
       "  { data: { id: 'edge7', source: 'binary3', target: 'number6' } },\n",
       "  {\n",
       "    data: { id: 'identifier4', label: 'x' },\n",
       "    position: { x: -133.33333333333334, y: 150 }\n",
       "  },\n",
       "  {\n",
       "    data: { id: 'number6', label: 1 },\n",
       "    position: { x: -66.66666666666666, y: 150 }\n",
       "  },\n",
       "  { data: { id: 'number10', label: 2 }, position: { x: 100, y: 50 } }\n",
       "]\n",
       "         });\n",
       "     });\n",
       " })(this.element);\n",
       "</script>\n"
      ]
     },
     "metadata": {},
     "output_type": "display_data"
    },
    {
     "name": "stdout",
     "output_type": "stream",
     "text": [
      "Output\n"
     ]
    },
    {
     "data": {
      "text/html": [
       "\n",
       "<style>\n",
       "    #mydiv95c24c31-c4d5-42d7-9077-4bcfd2225108 {\n",
       "        width: 800px;\n",
       "        height: 350px;\n",
       "        top: 0px;\n",
       "        left: 0px;\n",
       "    }\n",
       "</style>\n",
       "<div id=\"mydiv95c24c31-c4d5-42d7-9077-4bcfd2225108\"></div>\n"
      ]
     },
     "metadata": {},
     "output_type": "display_data"
    },
    {
     "data": {
      "text/html": [
       "\n",
       "<script>\n",
       " (function(element) {\n",
       "     require(['cytoscape'], function(cytoscape) {   \n",
       "        var cy = cytoscape({\n",
       "         container: document.getElementById('mydiv95c24c31-c4d5-42d7-9077-4bcfd2225108'),\n",
       "         style: [\n",
       "{\n",
       "  selector: 'node',\n",
       "  css: {\n",
       "    'class': \".bx--tree\",\n",
       "    'label': 'data(label)',\n",
       "    'height': '10px',\n",
       "    'width': '10px',\n",
       "  }\n",
       "},\n",
       "{\n",
       "  selector: 'edge',\n",
       "  css: {\n",
       "    'width': 3,\n",
       "    // 'line-color': '#ccc123',\n",
       "    'curve-style': 'bezier',\n",
       "    'target-arrow-shape': 'triangle',\n",
       "    'target-arrow-fill': 'filled',\n",
       "    'arrow-scale': 1,\n",
       "  }\n",
       "}\n",
       "],\n",
       "         layout: \n",
       "{\n",
       "  name: 'preset'\n",
       "}\n",
       ",\n",
       "         elements: [ { data: { id: 'number1', label: 3 }, position: { x: 0, y: 0 } } ]\n",
       "         });\n",
       "     });\n",
       " })(this.element);\n",
       "</script>\n"
      ]
     },
     "metadata": {},
     "output_type": "display_data"
    }
   ],
   "source": [
    "const inputAST = Parser.parse(\"(λx => x + 1)(2)\");\n",
    "console.log(\"Input\");\n",
    "drawProg(inputAST);\n",
    "const outputAST = I.interpret(inputAST);\n",
    "console.log(\"Output\");\n",
    "drawProg(outputAST);"
   ]
  },
  {
   "cell_type": "markdown",
   "id": "cf413ae1",
   "metadata": {},
   "source": [
    "## Compiler / Transpiler\n",
    "\n",
    "Today, we will look at **compilers**, a program that converts an expression/AST in a **source** language into an expression/AST in a **target** language.\n",
    "- Traditionally, the source language is some high-level language and the target language is assembly, i.e., a low-level language.\n",
    "- When the **source** langauge and **target** language are both high-level programming langauges, the compiler is also called a **transpiler**."
   ]
  },
  {
   "cell_type": "markdown",
   "id": "5675ab92",
   "metadata": {},
   "source": [
    "### LambdaTS Expression/AST\n",
    "\n",
    "```ts\n",
    "export type Expr = NumericConstant | BinaryExpr | ConditionalExpr | FunctionExpr | Identifier | CallExpr;\n",
    "export type BinaryExpr = { tag: \"BINARY\";\n",
    "    operator: BinaryOperator;\n",
    "    left: Expr;\n",
    "    right: Expr;\n",
    "};\n",
    "// Note (e) is not part of the AST\n",
    "export type ConditionalExpr = { tag: \"CONDITIONAL\";\n",
    "    condExpr: Expr;\n",
    "    thenExpr: Expr;\n",
    "    elseExpr: Expr;\n",
    "};\n",
    "export type FunctionExpr = { tag: \"FUNCTION\";\n",
    "    parameter: string;\n",
    "    body: Expr;\n",
    "};\n",
    "export type CallExpr = { tag: \"CALL\";\n",
    "    func: Expr;\n",
    "    argument: Expr;\n",
    "};\n",
    "```"
   ]
  },
  {
   "cell_type": "markdown",
   "id": "ddcdea28",
   "metadata": {},
   "source": [
    "### A Second AST\n",
    "\n",
    "- Transpiling does not make sense if there is only 1 AST.\n",
    "- We'll need another AST. Let's add **let bindings** to LambdaTS to create LambdaTS2.\n",
    "- We will then write a **transpiler** that translates expressions in LambdaTS2 to LambdaTS."
   ]
  },
  {
   "cell_type": "markdown",
   "id": "d5f06b9a",
   "metadata": {},
   "source": [
    "#### Let Expressions\n",
    "\n",
    "- We want to have local variables.\n",
    "- Note that TypeScript has let statements and not let expressions.\n",
    "- Let expressions are the functional version of let statements."
   ]
  },
  {
   "cell_type": "code",
   "execution_count": 6,
   "id": "6be363bb",
   "metadata": {},
   "outputs": [
    {
     "name": "stdout",
     "output_type": "stream",
     "text": [
      "\u001b[33m3\u001b[39m\n"
     ]
    }
   ],
   "source": [
    "let x = 1;\n",
    "let y = 2;\n",
    "x + y"
   ]
  },
  {
   "cell_type": "code",
   "execution_count": 7,
   "id": "cd40657f",
   "metadata": {},
   "outputs": [
    {
     "data": {
      "text/html": [
       "\n",
       "<style>\n",
       "    #mydivca18f9d5-566d-43e4-8b46-efbffbc08d07 {\n",
       "        width: 800px;\n",
       "        height: 350px;\n",
       "        top: 0px;\n",
       "        left: 0px;\n",
       "    }\n",
       "</style>\n",
       "<div id=\"mydivca18f9d5-566d-43e4-8b46-efbffbc08d07\"></div>\n"
      ]
     },
     "metadata": {},
     "output_type": "display_data"
    },
    {
     "data": {
      "text/html": [
       "\n",
       "<script>\n",
       " (function(element) {\n",
       "     require(['cytoscape'], function(cytoscape) {   \n",
       "        var cy = cytoscape({\n",
       "         container: document.getElementById('mydivca18f9d5-566d-43e4-8b46-efbffbc08d07'),\n",
       "         style: [\n",
       "{\n",
       "  selector: 'node',\n",
       "  css: {\n",
       "    'class': \".bx--tree\",\n",
       "    'label': 'data(label)',\n",
       "    'height': '10px',\n",
       "    'width': '10px',\n",
       "  }\n",
       "},\n",
       "{\n",
       "  selector: 'edge',\n",
       "  css: {\n",
       "    'width': 3,\n",
       "    // 'line-color': '#ccc123',\n",
       "    'curve-style': 'bezier',\n",
       "    'target-arrow-shape': 'triangle',\n",
       "    'target-arrow-fill': 'filled',\n",
       "    'arrow-scale': 1,\n",
       "  }\n",
       "}\n",
       "],\n",
       "         layout: \n",
       "{\n",
       "  name: 'preset'\n",
       "}\n",
       ",\n",
       "         elements: [\n",
       "  { data: { id: 'let1', label: 'let(x)' }, position: { x: 0, y: 0 } },\n",
       "  { data: { id: 'edge3', source: 'let1', target: 'number2' } },\n",
       "  { data: { id: 'edge13', source: 'let1', target: 'let4' } },\n",
       "  { data: { id: 'number2', label: 1 }, position: { x: -100, y: 50 } },\n",
       "  {\n",
       "    data: { id: 'let4', label: 'let(y)' },\n",
       "    position: { x: 100, y: 50 }\n",
       "  },\n",
       "  { data: { id: 'edge6', source: 'let4', target: 'number5' } },\n",
       "  { data: { id: 'edge12', source: 'let4', target: 'binary7' } },\n",
       "  { data: { id: 'number5', label: 2 }, position: { x: 50, y: 100 } },\n",
       "  { data: { id: 'binary7', label: '+' }, position: { x: 150, y: 100 } },\n",
       "  { data: { id: 'edge9', source: 'binary7', target: 'identifier8' } },\n",
       "  { data: { id: 'edge11', source: 'binary7', target: 'identifier10' } },\n",
       "  {\n",
       "    data: { id: 'identifier8', label: 'x' },\n",
       "    position: { x: 116.66666666666666, y: 150 }\n",
       "  },\n",
       "  {\n",
       "    data: { id: 'identifier10', label: 'y' },\n",
       "    position: { x: 183.33333333333334, y: 150 }\n",
       "  }\n",
       "]\n",
       "         });\n",
       "     });\n",
       " })(this.element);\n",
       "</script>\n"
      ]
     },
     "metadata": {},
     "output_type": "display_data"
    }
   ],
   "source": [
    "// LambdaTS2 program\n",
    "drawProg(Parser.parse(\"let x = 1 in let y = 2 in x + y\"));"
   ]
  },
  {
   "cell_type": "code",
   "execution_count": 8,
   "id": "0c201f57",
   "metadata": {},
   "outputs": [
    {
     "name": "stdout",
     "output_type": "stream",
     "text": [
      "\u001b[33m3\u001b[39m\n"
     ]
    }
   ],
   "source": [
    "let y = (x) => x + 1;\n",
    "3"
   ]
  },
  {
   "cell_type": "code",
   "execution_count": 9,
   "id": "7bf29288",
   "metadata": {},
   "outputs": [
    {
     "data": {
      "text/html": [
       "\n",
       "<style>\n",
       "    #mydivc5b31553-c9df-45f7-9a66-7afc7bd52094 {\n",
       "        width: 800px;\n",
       "        height: 350px;\n",
       "        top: 0px;\n",
       "        left: 0px;\n",
       "    }\n",
       "</style>\n",
       "<div id=\"mydivc5b31553-c9df-45f7-9a66-7afc7bd52094\"></div>\n"
      ]
     },
     "metadata": {},
     "output_type": "display_data"
    },
    {
     "data": {
      "text/html": [
       "\n",
       "<script>\n",
       " (function(element) {\n",
       "     require(['cytoscape'], function(cytoscape) {   \n",
       "        var cy = cytoscape({\n",
       "         container: document.getElementById('mydivc5b31553-c9df-45f7-9a66-7afc7bd52094'),\n",
       "         style: [\n",
       "{\n",
       "  selector: 'node',\n",
       "  css: {\n",
       "    'class': \".bx--tree\",\n",
       "    'label': 'data(label)',\n",
       "    'height': '10px',\n",
       "    'width': '10px',\n",
       "  }\n",
       "},\n",
       "{\n",
       "  selector: 'edge',\n",
       "  css: {\n",
       "    'width': 3,\n",
       "    // 'line-color': '#ccc123',\n",
       "    'curve-style': 'bezier',\n",
       "    'target-arrow-shape': 'triangle',\n",
       "    'target-arrow-fill': 'filled',\n",
       "    'arrow-scale': 1,\n",
       "  }\n",
       "}\n",
       "],\n",
       "         layout: \n",
       "{\n",
       "  name: 'preset'\n",
       "}\n",
       ",\n",
       "         elements: [\n",
       "  { data: { id: 'let1', label: 'let(y)' }, position: { x: 0, y: 0 } },\n",
       "  { data: { id: 'edge9', source: 'let1', target: 'function2' } },\n",
       "  { data: { id: 'edge11', source: 'let1', target: 'number10' } },\n",
       "  {\n",
       "    data: { id: 'function2', label: 'λ(x)' },\n",
       "    position: { x: -100, y: 50 }\n",
       "  },\n",
       "  { data: { id: 'edge8', source: 'function2', target: 'binary3' } },\n",
       "  {\n",
       "    data: { id: 'binary3', label: '+' },\n",
       "    position: { x: -100, y: 100 }\n",
       "  },\n",
       "  { data: { id: 'edge5', source: 'binary3', target: 'identifier4' } },\n",
       "  { data: { id: 'edge7', source: 'binary3', target: 'number6' } },\n",
       "  {\n",
       "    data: { id: 'identifier4', label: 'x' },\n",
       "    position: { x: -133.33333333333334, y: 150 }\n",
       "  },\n",
       "  {\n",
       "    data: { id: 'number6', label: 1 },\n",
       "    position: { x: -66.66666666666666, y: 150 }\n",
       "  },\n",
       "  { data: { id: 'number10', label: 3 }, position: { x: 100, y: 50 } }\n",
       "]\n",
       "         });\n",
       "     });\n",
       " })(this.element);\n",
       "</script>\n"
      ]
     },
     "metadata": {},
     "output_type": "display_data"
    }
   ],
   "source": [
    "// LambdaTS2 Program\n",
    "drawProg(Parser.parse(\"let y = λx => x + 1 in 3\"));"
   ]
  },
  {
   "cell_type": "markdown",
   "id": "8e4272e3",
   "metadata": {},
   "source": [
    "### LambdaTS2 AST"
   ]
  },
  {
   "cell_type": "code",
   "execution_count": 10,
   "id": "6ab4575b",
   "metadata": {},
   "outputs": [],
   "source": [
    "type Expr = T.NumericConstant | BinaryExpr | ConditionalExpr | FunctionExpr | T.Identifier | CallExpr | LetExpr;\n",
    "\n",
    "// New language construct\n",
    "type LetExpr = { tag: \"LET\";  // let x = left in right\n",
    "    name: string;\n",
    "    left: Expr;\n",
    "    right: Expr;\n",
    "};\n",
    "\n",
    "type BinaryExpr = { tag: \"BINARY\";\n",
    "    operator: T.BinaryOperator;\n",
    "    left: Expr;\n",
    "    right: Expr;\n",
    "};\n",
    "type ConditionalExpr = { tag: \"CONDITIONAL\";\n",
    "    condExpr: Expr;\n",
    "    thenExpr: Expr;\n",
    "    elseExpr: Expr;\n",
    "};\n",
    "type FunctionExpr = { tag: \"FUNCTION\";\n",
    "    parameter: string;\n",
    "    body: Expr;\n",
    "};\n",
    "type CallExpr = { tag: \"CALL\";\n",
    "    func: Expr;\n",
    "    argument: Expr;\n",
    "};"
   ]
  },
  {
   "cell_type": "markdown",
   "id": "576aef13",
   "metadata": {},
   "source": [
    "### LambdaTS2 Interpreter?\n",
    "\n",
    "- We could write an interpreter for LambdaTS2.\n",
    "- Alternatively, we could translate a LambdaTS2 AST into a LambdaTS AST and use the LambdaTS interpreter.\n",
    "- This is what happens with TypeScript---we use `tsc` to transpile a TypeScript AST into a JavaScript AST and use the JavaScript interpreter `node`."
   ]
  },
  {
   "cell_type": "markdown",
   "id": "5e75e116",
   "metadata": {},
   "source": [
    "### Transpiling"
   ]
  },
  {
   "cell_type": "markdown",
   "id": "e59e116c",
   "metadata": {},
   "source": [
    "### Example 1"
   ]
  },
  {
   "cell_type": "code",
   "execution_count": 11,
   "id": "6080bafb",
   "metadata": {},
   "outputs": [
    {
     "name": "stdout",
     "output_type": "stream",
     "text": [
      "\u001b[33m3\u001b[39m\n"
     ]
    }
   ],
   "source": [
    "let x = 2;\n",
    "x + 1"
   ]
  },
  {
   "cell_type": "code",
   "execution_count": 12,
   "id": "a44b64ac",
   "metadata": {},
   "outputs": [
    {
     "name": "stdout",
     "output_type": "stream",
     "text": [
      "\u001b[33m3\u001b[39m\n"
     ]
    }
   ],
   "source": [
    "((x) => x + 1)(2)"
   ]
  },
  {
   "cell_type": "markdown",
   "id": "d4ef033e",
   "metadata": {},
   "source": [
    "### Example 2"
   ]
  },
  {
   "cell_type": "code",
   "execution_count": 13,
   "id": "79081d61",
   "metadata": {},
   "outputs": [
    {
     "name": "stdout",
     "output_type": "stream",
     "text": [
      "\u001b[33m5\u001b[39m\n"
     ]
    }
   ],
   "source": [
    "let x = 2;\n",
    "let y = 3;\n",
    "x + y"
   ]
  },
  {
   "cell_type": "code",
   "execution_count": 14,
   "id": "50ebdb36",
   "metadata": {},
   "outputs": [
    {
     "name": "stdout",
     "output_type": "stream",
     "text": [
      "\u001b[33m5\u001b[39m\n"
     ]
    }
   ],
   "source": [
    "// Step one\n",
    "((x) => {\n",
    "    let y = 3;\n",
    "    return x + y;\n",
    "})(2)"
   ]
  },
  {
   "cell_type": "code",
   "execution_count": 15,
   "id": "431ce0b1",
   "metadata": {},
   "outputs": [
    {
     "name": "stdout",
     "output_type": "stream",
     "text": [
      "\u001b[33m5\u001b[39m\n"
     ]
    }
   ],
   "source": [
    "// Step two, recursive translation of the body\n",
    "((x) => ((y) => x + y)(3))(2)"
   ]
  },
  {
   "cell_type": "markdown",
   "id": "3c3eb815",
   "metadata": {},
   "source": [
    "### Exercise"
   ]
  },
  {
   "cell_type": "code",
   "execution_count": 16,
   "id": "ea9de5ec",
   "metadata": {},
   "outputs": [
    {
     "name": "stdout",
     "output_type": "stream",
     "text": [
      "\u001b[33m9\u001b[39m\n"
     ]
    }
   ],
   "source": [
    "let x = 2;\n",
    "let y = 3;\n",
    "let z = 4;\n",
    "x + y + z;"
   ]
  },
  {
   "cell_type": "code",
   "execution_count": 17,
   "id": "927436f4",
   "metadata": {},
   "outputs": [],
   "source": [
    "// Expr is LambdaTS2 AST\n",
    "// E.Expr is LambdaTS AST\n",
    "function transpile(e: Expr): E.Expr {\n",
    "    switch (e.tag) {\n",
    "        case \"LET\": {\n",
    "            // We don't have \"LET\" in LambdaTS\n",
    "            // We translate let x = left in right into\n",
    "            //              (λx => right)(left)\n",
    "            return E.mkCallExpr(E.mkFunctionExpr(e.name, transpile(e.right)), transpile(e.left));\n",
    "        }\n",
    "            \n",
    "        // All of theses cases are not interesting\n",
    "        case \"NUMBER\": {\n",
    "            return T.mkNumericConstant(e.value);\n",
    "        }\n",
    "        case \"BINARY\": {                \n",
    "            return E.mkBinaryExpr(transpile(e.left), e.operator, transpile(e.right));\n",
    "        }\n",
    "        case \"CONDITIONAL\": {\n",
    "            return E.mkConditionalExpr(transpile(e.condExpr), transpile(e.thenExpr), transpile(e.elseExpr));\n",
    "        }\n",
    "        case \"FUNCTION\": { \n",
    "            return E.mkFunctionExpr(e.parameter, transpile(e.body));\n",
    "        }\n",
    "        case \"IDENTIFIER\": {\n",
    "            return T.mkIdentifier(e.name);\n",
    "        }\n",
    "        case \"CALL\": {\n",
    "            return E.mkCallExpr(transpile(e.func), transpile(e.argument));\n",
    "        }\n",
    "        default: {\n",
    "            throw Error(\"Shouldn't happen\");\n",
    "        }\n",
    "    }\n",
    "}"
   ]
  },
  {
   "cell_type": "markdown",
   "id": "5997457b",
   "metadata": {},
   "source": [
    "#### Example 1"
   ]
  },
  {
   "cell_type": "code",
   "execution_count": 18,
   "id": "7899e58d",
   "metadata": {},
   "outputs": [
    {
     "name": "stdout",
     "output_type": "stream",
     "text": [
      "Input (in LambdaTS2)\n"
     ]
    },
    {
     "data": {
      "text/html": [
       "\n",
       "<style>\n",
       "    #mydivd1219e37-bd28-41db-88ab-8f0dfbed7167 {\n",
       "        width: 800px;\n",
       "        height: 350px;\n",
       "        top: 0px;\n",
       "        left: 0px;\n",
       "    }\n",
       "</style>\n",
       "<div id=\"mydivd1219e37-bd28-41db-88ab-8f0dfbed7167\"></div>\n"
      ]
     },
     "metadata": {},
     "output_type": "display_data"
    },
    {
     "data": {
      "text/html": [
       "\n",
       "<script>\n",
       " (function(element) {\n",
       "     require(['cytoscape'], function(cytoscape) {   \n",
       "        var cy = cytoscape({\n",
       "         container: document.getElementById('mydivd1219e37-bd28-41db-88ab-8f0dfbed7167'),\n",
       "         style: [\n",
       "{\n",
       "  selector: 'node',\n",
       "  css: {\n",
       "    'class': \".bx--tree\",\n",
       "    'label': 'data(label)',\n",
       "    'height': '10px',\n",
       "    'width': '10px',\n",
       "  }\n",
       "},\n",
       "{\n",
       "  selector: 'edge',\n",
       "  css: {\n",
       "    'width': 3,\n",
       "    // 'line-color': '#ccc123',\n",
       "    'curve-style': 'bezier',\n",
       "    'target-arrow-shape': 'triangle',\n",
       "    'target-arrow-fill': 'filled',\n",
       "    'arrow-scale': 1,\n",
       "  }\n",
       "}\n",
       "],\n",
       "         layout: \n",
       "{\n",
       "  name: 'preset'\n",
       "}\n",
       ",\n",
       "         elements: [\n",
       "  { data: { id: 'let1', label: 'let(x)' }, position: { x: 0, y: 0 } },\n",
       "  { data: { id: 'edge3', source: 'let1', target: 'number2' } },\n",
       "  { data: { id: 'edge13', source: 'let1', target: 'let4' } },\n",
       "  { data: { id: 'number2', label: 1 }, position: { x: -100, y: 50 } },\n",
       "  {\n",
       "    data: { id: 'let4', label: 'let(y)' },\n",
       "    position: { x: 100, y: 50 }\n",
       "  },\n",
       "  { data: { id: 'edge6', source: 'let4', target: 'number5' } },\n",
       "  { data: { id: 'edge12', source: 'let4', target: 'binary7' } },\n",
       "  { data: { id: 'number5', label: 2 }, position: { x: 50, y: 100 } },\n",
       "  { data: { id: 'binary7', label: '+' }, position: { x: 150, y: 100 } },\n",
       "  { data: { id: 'edge9', source: 'binary7', target: 'identifier8' } },\n",
       "  { data: { id: 'edge11', source: 'binary7', target: 'identifier10' } },\n",
       "  {\n",
       "    data: { id: 'identifier8', label: 'x' },\n",
       "    position: { x: 116.66666666666666, y: 150 }\n",
       "  },\n",
       "  {\n",
       "    data: { id: 'identifier10', label: 'y' },\n",
       "    position: { x: 183.33333333333334, y: 150 }\n",
       "  }\n",
       "]\n",
       "         });\n",
       "     });\n",
       " })(this.element);\n",
       "</script>\n"
      ]
     },
     "metadata": {},
     "output_type": "display_data"
    },
    {
     "name": "stdout",
     "output_type": "stream",
     "text": [
      "Output (in LambdaTS)\n"
     ]
    },
    {
     "data": {
      "text/html": [
       "\n",
       "<style>\n",
       "    #mydived727dea-122c-4efd-b62a-5f21339ddc57 {\n",
       "        width: 800px;\n",
       "        height: 350px;\n",
       "        top: 0px;\n",
       "        left: 0px;\n",
       "    }\n",
       "</style>\n",
       "<div id=\"mydived727dea-122c-4efd-b62a-5f21339ddc57\"></div>\n"
      ]
     },
     "metadata": {},
     "output_type": "display_data"
    },
    {
     "data": {
      "text/html": [
       "\n",
       "<script>\n",
       " (function(element) {\n",
       "     require(['cytoscape'], function(cytoscape) {   \n",
       "        var cy = cytoscape({\n",
       "         container: document.getElementById('mydived727dea-122c-4efd-b62a-5f21339ddc57'),\n",
       "         style: [\n",
       "{\n",
       "  selector: 'node',\n",
       "  css: {\n",
       "    'class': \".bx--tree\",\n",
       "    'label': 'data(label)',\n",
       "    'height': '10px',\n",
       "    'width': '10px',\n",
       "  }\n",
       "},\n",
       "{\n",
       "  selector: 'edge',\n",
       "  css: {\n",
       "    'width': 3,\n",
       "    // 'line-color': '#ccc123',\n",
       "    'curve-style': 'bezier',\n",
       "    'target-arrow-shape': 'triangle',\n",
       "    'target-arrow-fill': 'filled',\n",
       "    'arrow-scale': 1,\n",
       "  }\n",
       "}\n",
       "],\n",
       "         layout: \n",
       "{\n",
       "  name: 'preset'\n",
       "}\n",
       ",\n",
       "         elements: [\n",
       "  { data: { id: 'call1', label: 'call' }, position: { x: 0, y: 0 } },\n",
       "  { data: { id: 'edge15', source: 'call1', target: 'function2' } },\n",
       "  { data: { id: 'edge17', source: 'call1', target: 'number16' } },\n",
       "  {\n",
       "    data: { id: 'function2', label: 'λ(x)' },\n",
       "    position: { x: -100, y: 50 }\n",
       "  },\n",
       "  { data: { id: 'edge14', source: 'function2', target: 'call3' } },\n",
       "  {\n",
       "    data: { id: 'call3', label: 'call' },\n",
       "    position: { x: -100, y: 100 }\n",
       "  },\n",
       "  { data: { id: 'edge11', source: 'call3', target: 'function4' } },\n",
       "  { data: { id: 'edge13', source: 'call3', target: 'number12' } },\n",
       "  {\n",
       "    data: { id: 'function4', label: 'λ(y)' },\n",
       "    position: { x: -133.33333333333334, y: 150 }\n",
       "  },\n",
       "  { data: { id: 'edge10', source: 'function4', target: 'binary5' } },\n",
       "  {\n",
       "    data: { id: 'binary5', label: '+' },\n",
       "    position: { x: -133.33333333333334, y: 200 }\n",
       "  },\n",
       "  { data: { id: 'edge7', source: 'binary5', target: 'identifier6' } },\n",
       "  { data: { id: 'edge9', source: 'binary5', target: 'identifier8' } },\n",
       "  {\n",
       "    data: { id: 'identifier6', label: 'x' },\n",
       "    position: { x: -153.33333333333334, y: 250 }\n",
       "  },\n",
       "  {\n",
       "    data: { id: 'identifier8', label: 'y' },\n",
       "    position: { x: -113.33333333333334, y: 250 }\n",
       "  },\n",
       "  {\n",
       "    data: { id: 'number12', label: 2 },\n",
       "    position: { x: -66.66666666666666, y: 150 }\n",
       "  },\n",
       "  { data: { id: 'number16', label: 1 }, position: { x: 100, y: 50 } }\n",
       "]\n",
       "         });\n",
       "     });\n",
       " })(this.element);\n",
       "</script>\n"
      ]
     },
     "metadata": {},
     "output_type": "display_data"
    },
    {
     "name": "stdout",
     "output_type": "stream",
     "text": [
      "Inerpret (in LambdaTS)\n"
     ]
    },
    {
     "data": {
      "text/html": [
       "\n",
       "<style>\n",
       "    #mydiv557a839c-2b89-40d1-a28b-140f1f518702 {\n",
       "        width: 800px;\n",
       "        height: 350px;\n",
       "        top: 0px;\n",
       "        left: 0px;\n",
       "    }\n",
       "</style>\n",
       "<div id=\"mydiv557a839c-2b89-40d1-a28b-140f1f518702\"></div>\n"
      ]
     },
     "metadata": {},
     "output_type": "display_data"
    },
    {
     "data": {
      "text/html": [
       "\n",
       "<script>\n",
       " (function(element) {\n",
       "     require(['cytoscape'], function(cytoscape) {   \n",
       "        var cy = cytoscape({\n",
       "         container: document.getElementById('mydiv557a839c-2b89-40d1-a28b-140f1f518702'),\n",
       "         style: [\n",
       "{\n",
       "  selector: 'node',\n",
       "  css: {\n",
       "    'class': \".bx--tree\",\n",
       "    'label': 'data(label)',\n",
       "    'height': '10px',\n",
       "    'width': '10px',\n",
       "  }\n",
       "},\n",
       "{\n",
       "  selector: 'edge',\n",
       "  css: {\n",
       "    'width': 3,\n",
       "    // 'line-color': '#ccc123',\n",
       "    'curve-style': 'bezier',\n",
       "    'target-arrow-shape': 'triangle',\n",
       "    'target-arrow-fill': 'filled',\n",
       "    'arrow-scale': 1,\n",
       "  }\n",
       "}\n",
       "],\n",
       "         layout: \n",
       "{\n",
       "  name: 'preset'\n",
       "}\n",
       ",\n",
       "         elements: [ { data: { id: 'number1', label: 3 }, position: { x: 0, y: 0 } } ]\n",
       "         });\n",
       "     });\n",
       " })(this.element);\n",
       "</script>\n"
      ]
     },
     "metadata": {},
     "output_type": "display_data"
    }
   ],
   "source": [
    "const inputAST = Parser.parse(\"let x = 1 in let y = 2 in x + y\");\n",
    "console.log(\"Input (in LambdaTS2)\");\n",
    "drawProg(inputAST);\n",
    "const outputAST = transpile(inputAST);\n",
    "console.log(\"Output (in LambdaTS)\");\n",
    "drawProg(outputAST);\n",
    "console.log(\"Inerpret (in LambdaTS)\");\n",
    "drawProg(I.interpret(outputAST));"
   ]
  },
  {
   "cell_type": "markdown",
   "id": "44af97d7",
   "metadata": {},
   "source": [
    "#### Example 2"
   ]
  },
  {
   "cell_type": "code",
   "execution_count": 19,
   "id": "18b4b16f",
   "metadata": {},
   "outputs": [
    {
     "name": "stdout",
     "output_type": "stream",
     "text": [
      "Input (in LambdaTS2)\n"
     ]
    },
    {
     "data": {
      "text/html": [
       "\n",
       "<style>\n",
       "    #mydiv6c8326cb-e5eb-47d2-b7c3-b3ef0dce409c {\n",
       "        width: 800px;\n",
       "        height: 350px;\n",
       "        top: 0px;\n",
       "        left: 0px;\n",
       "    }\n",
       "</style>\n",
       "<div id=\"mydiv6c8326cb-e5eb-47d2-b7c3-b3ef0dce409c\"></div>\n"
      ]
     },
     "metadata": {},
     "output_type": "display_data"
    },
    {
     "data": {
      "text/html": [
       "\n",
       "<script>\n",
       " (function(element) {\n",
       "     require(['cytoscape'], function(cytoscape) {   \n",
       "        var cy = cytoscape({\n",
       "         container: document.getElementById('mydiv6c8326cb-e5eb-47d2-b7c3-b3ef0dce409c'),\n",
       "         style: [\n",
       "{\n",
       "  selector: 'node',\n",
       "  css: {\n",
       "    'class': \".bx--tree\",\n",
       "    'label': 'data(label)',\n",
       "    'height': '10px',\n",
       "    'width': '10px',\n",
       "  }\n",
       "},\n",
       "{\n",
       "  selector: 'edge',\n",
       "  css: {\n",
       "    'width': 3,\n",
       "    // 'line-color': '#ccc123',\n",
       "    'curve-style': 'bezier',\n",
       "    'target-arrow-shape': 'triangle',\n",
       "    'target-arrow-fill': 'filled',\n",
       "    'arrow-scale': 1,\n",
       "  }\n",
       "}\n",
       "],\n",
       "         layout: \n",
       "{\n",
       "  name: 'preset'\n",
       "}\n",
       ",\n",
       "         elements: [\n",
       "  { data: { id: 'let1', label: 'let(y)' }, position: { x: 0, y: 0 } },\n",
       "  { data: { id: 'edge9', source: 'let1', target: 'function2' } },\n",
       "  { data: { id: 'edge11', source: 'let1', target: 'number10' } },\n",
       "  {\n",
       "    data: { id: 'function2', label: 'λ(x)' },\n",
       "    position: { x: -100, y: 50 }\n",
       "  },\n",
       "  { data: { id: 'edge8', source: 'function2', target: 'binary3' } },\n",
       "  {\n",
       "    data: { id: 'binary3', label: '+' },\n",
       "    position: { x: -100, y: 100 }\n",
       "  },\n",
       "  { data: { id: 'edge5', source: 'binary3', target: 'identifier4' } },\n",
       "  { data: { id: 'edge7', source: 'binary3', target: 'number6' } },\n",
       "  {\n",
       "    data: { id: 'identifier4', label: 'x' },\n",
       "    position: { x: -133.33333333333334, y: 150 }\n",
       "  },\n",
       "  {\n",
       "    data: { id: 'number6', label: 1 },\n",
       "    position: { x: -66.66666666666666, y: 150 }\n",
       "  },\n",
       "  { data: { id: 'number10', label: 3 }, position: { x: 100, y: 50 } }\n",
       "]\n",
       "         });\n",
       "     });\n",
       " })(this.element);\n",
       "</script>\n"
      ]
     },
     "metadata": {},
     "output_type": "display_data"
    },
    {
     "name": "stdout",
     "output_type": "stream",
     "text": [
      "Output (in LambdaTS)\n"
     ]
    },
    {
     "data": {
      "text/html": [
       "\n",
       "<style>\n",
       "    #mydive07acb0c-8d6d-4fdf-985f-26da42310b39 {\n",
       "        width: 800px;\n",
       "        height: 350px;\n",
       "        top: 0px;\n",
       "        left: 0px;\n",
       "    }\n",
       "</style>\n",
       "<div id=\"mydive07acb0c-8d6d-4fdf-985f-26da42310b39\"></div>\n"
      ]
     },
     "metadata": {},
     "output_type": "display_data"
    },
    {
     "data": {
      "text/html": [
       "\n",
       "<script>\n",
       " (function(element) {\n",
       "     require(['cytoscape'], function(cytoscape) {   \n",
       "        var cy = cytoscape({\n",
       "         container: document.getElementById('mydive07acb0c-8d6d-4fdf-985f-26da42310b39'),\n",
       "         style: [\n",
       "{\n",
       "  selector: 'node',\n",
       "  css: {\n",
       "    'class': \".bx--tree\",\n",
       "    'label': 'data(label)',\n",
       "    'height': '10px',\n",
       "    'width': '10px',\n",
       "  }\n",
       "},\n",
       "{\n",
       "  selector: 'edge',\n",
       "  css: {\n",
       "    'width': 3,\n",
       "    // 'line-color': '#ccc123',\n",
       "    'curve-style': 'bezier',\n",
       "    'target-arrow-shape': 'triangle',\n",
       "    'target-arrow-fill': 'filled',\n",
       "    'arrow-scale': 1,\n",
       "  }\n",
       "}\n",
       "],\n",
       "         layout: \n",
       "{\n",
       "  name: 'preset'\n",
       "}\n",
       ",\n",
       "         elements: [\n",
       "  { data: { id: 'call1', label: 'call' }, position: { x: 0, y: 0 } },\n",
       "  { data: { id: 'edge5', source: 'call1', target: 'function2' } },\n",
       "  { data: { id: 'edge13', source: 'call1', target: 'function6' } },\n",
       "  {\n",
       "    data: { id: 'function2', label: 'λ(y)' },\n",
       "    position: { x: -100, y: 50 }\n",
       "  },\n",
       "  { data: { id: 'edge4', source: 'function2', target: 'number3' } },\n",
       "  { data: { id: 'number3', label: 3 }, position: { x: -100, y: 100 } },\n",
       "  {\n",
       "    data: { id: 'function6', label: 'λ(x)' },\n",
       "    position: { x: 100, y: 50 }\n",
       "  },\n",
       "  { data: { id: 'edge12', source: 'function6', target: 'binary7' } },\n",
       "  { data: { id: 'binary7', label: '+' }, position: { x: 100, y: 100 } },\n",
       "  { data: { id: 'edge9', source: 'binary7', target: 'identifier8' } },\n",
       "  { data: { id: 'edge11', source: 'binary7', target: 'number10' } },\n",
       "  {\n",
       "    data: { id: 'identifier8', label: 'x' },\n",
       "    position: { x: 66.66666666666666, y: 150 }\n",
       "  },\n",
       "  {\n",
       "    data: { id: 'number10', label: 1 },\n",
       "    position: { x: 133.33333333333334, y: 150 }\n",
       "  }\n",
       "]\n",
       "         });\n",
       "     });\n",
       " })(this.element);\n",
       "</script>\n"
      ]
     },
     "metadata": {},
     "output_type": "display_data"
    },
    {
     "name": "stdout",
     "output_type": "stream",
     "text": [
      "Inerpret (in LambdaTS)\n"
     ]
    },
    {
     "data": {
      "text/html": [
       "\n",
       "<style>\n",
       "    #mydiv6eda49ce-cf19-4a27-8cb2-6c970f579190 {\n",
       "        width: 800px;\n",
       "        height: 350px;\n",
       "        top: 0px;\n",
       "        left: 0px;\n",
       "    }\n",
       "</style>\n",
       "<div id=\"mydiv6eda49ce-cf19-4a27-8cb2-6c970f579190\"></div>\n"
      ]
     },
     "metadata": {},
     "output_type": "display_data"
    },
    {
     "data": {
      "text/html": [
       "\n",
       "<script>\n",
       " (function(element) {\n",
       "     require(['cytoscape'], function(cytoscape) {   \n",
       "        var cy = cytoscape({\n",
       "         container: document.getElementById('mydiv6eda49ce-cf19-4a27-8cb2-6c970f579190'),\n",
       "         style: [\n",
       "{\n",
       "  selector: 'node',\n",
       "  css: {\n",
       "    'class': \".bx--tree\",\n",
       "    'label': 'data(label)',\n",
       "    'height': '10px',\n",
       "    'width': '10px',\n",
       "  }\n",
       "},\n",
       "{\n",
       "  selector: 'edge',\n",
       "  css: {\n",
       "    'width': 3,\n",
       "    // 'line-color': '#ccc123',\n",
       "    'curve-style': 'bezier',\n",
       "    'target-arrow-shape': 'triangle',\n",
       "    'target-arrow-fill': 'filled',\n",
       "    'arrow-scale': 1,\n",
       "  }\n",
       "}\n",
       "],\n",
       "         layout: \n",
       "{\n",
       "  name: 'preset'\n",
       "}\n",
       ",\n",
       "         elements: [ { data: { id: 'number1', label: 3 }, position: { x: 0, y: 0 } } ]\n",
       "         });\n",
       "     });\n",
       " })(this.element);\n",
       "</script>\n"
      ]
     },
     "metadata": {},
     "output_type": "display_data"
    }
   ],
   "source": [
    "const inputAST = Parser.parse(\"let y = λx => x + 1 in 3\");\n",
    "console.log(\"Input (in LambdaTS2)\");\n",
    "drawProg(inputAST);\n",
    "const outputAST = transpile(inputAST);\n",
    "console.log(\"Output (in LambdaTS)\");\n",
    "drawProg(outputAST);\n",
    "console.log(\"Inerpret (in LambdaTS)\");\n",
    "drawProg(I.interpret(outputAST));"
   ]
  },
  {
   "cell_type": "markdown",
   "id": "1a2545f8",
   "metadata": {},
   "source": [
    "### That's It!\n",
    "\n",
    "- We have seen how to translate an AST in one language into an AST in another language.\n",
    "- `transpile` translates a LambdaTS2 AST into a LambdaTS AST.\n",
    "- This is the similar to what `tsc` is doing: translating a TypeScript AST into a JavaScript AST.\n",
    "- Once we do so, we can use the interpreter for the other language to run our programs.\n",
    "- Every TypeScript language feature is transpiled into a JavaScript AST."
   ]
  },
  {
   "cell_type": "markdown",
   "id": "5df45022",
   "metadata": {},
   "source": [
    "## Same Language Translations\n",
    "\n",
    "- Transpilers take ASTs in one language and convert them into ASTs in another language.\n",
    "- Now we'll look at same language source code translations.\n",
    "- This can be used to optimize code and is what a compiler might perform."
   ]
  },
  {
   "cell_type": "markdown",
   "id": "1ac3461d",
   "metadata": {},
   "source": [
    "### Example 1: Compare these two pieces of code"
   ]
  },
  {
   "cell_type": "code",
   "execution_count": 20,
   "id": "9ce4f5fd",
   "metadata": {},
   "outputs": [
    {
     "name": "stdout",
     "output_type": "stream",
     "text": [
      "\u001b[33m20\u001b[39m\n"
     ]
    }
   ],
   "source": [
    "// Version 1\n",
    "const width = 5\n",
    "const height = 4\n",
    "const area = width * height\n",
    "console.log(area)"
   ]
  },
  {
   "cell_type": "code",
   "execution_count": 21,
   "id": "8a1ad7e0",
   "metadata": {},
   "outputs": [
    {
     "name": "stdout",
     "output_type": "stream",
     "text": [
      "\u001b[33m20\u001b[39m\n"
     ]
    }
   ],
   "source": [
    "// Version 2\n",
    "console.log(20)"
   ]
  },
  {
   "cell_type": "markdown",
   "id": "1e2f854a",
   "metadata": {},
   "source": [
    "### Tradeoffs\n",
    "\n",
    "1. Version 1 is more interpretable.\n",
    "2. Version 2 gets rid of extra arithmetic."
   ]
  },
  {
   "cell_type": "markdown",
   "id": "be96e82f",
   "metadata": {},
   "source": [
    "### Example 2: Compare these two pieces of code"
   ]
  },
  {
   "cell_type": "code",
   "execution_count": 22,
   "id": "2cb15353",
   "metadata": {},
   "outputs": [],
   "source": [
    "// Version 1\n",
    "let flag = true;\n",
    "let version;\n",
    "if (flag) {\n",
    "    version = \"1.1\";\n",
    "} else {\n",
    "    version = \"1.2\";\n",
    "}"
   ]
  },
  {
   "cell_type": "code",
   "execution_count": 23,
   "id": "00bfec47",
   "metadata": {},
   "outputs": [],
   "source": [
    "// Version 2\n",
    "let version = \"1.1\";\n",
    "// version = \"1.2\";  // We are using comments to toggle between version number"
   ]
  },
  {
   "cell_type": "markdown",
   "id": "0d138223",
   "metadata": {},
   "source": [
    "### Tradeoffs\n",
    "\n",
    "1. Version 1 uses code to toggle and is easier to extend.\n",
    "2. Version 2 doesn't have branching overhead."
   ]
  },
  {
   "cell_type": "markdown",
   "id": "2d0c578d",
   "metadata": {},
   "source": [
    "### Constant Folding: Example of Semantics Preserving Translation\n",
    "\n",
    "Get best of both worlds: \n",
    "1. Let user write interpretable code.\n",
    "2. Use syntax rewriting to get code that eliminates code that can be statically simplified."
   ]
  },
  {
   "cell_type": "code",
   "execution_count": 24,
   "id": "b69ed1dc",
   "metadata": {},
   "outputs": [
    {
     "name": "stdout",
     "output_type": "stream",
     "text": [
      "original\n"
     ]
    },
    {
     "data": {
      "text/html": [
       "\n",
       "<style>\n",
       "    #mydiv68ad21de-f9ff-414e-9b3e-77af6c70e394 {\n",
       "        width: 800px;\n",
       "        height: 350px;\n",
       "        top: 0px;\n",
       "        left: 0px;\n",
       "    }\n",
       "</style>\n",
       "<div id=\"mydiv68ad21de-f9ff-414e-9b3e-77af6c70e394\"></div>\n"
      ]
     },
     "metadata": {},
     "output_type": "display_data"
    },
    {
     "data": {
      "text/html": [
       "\n",
       "<script>\n",
       " (function(element) {\n",
       "     require(['cytoscape'], function(cytoscape) {   \n",
       "        var cy = cytoscape({\n",
       "         container: document.getElementById('mydiv68ad21de-f9ff-414e-9b3e-77af6c70e394'),\n",
       "         style: [\n",
       "{\n",
       "  selector: 'node',\n",
       "  css: {\n",
       "    'class': \".bx--tree\",\n",
       "    'label': 'data(label)',\n",
       "    'height': '10px',\n",
       "    'width': '10px',\n",
       "  }\n",
       "},\n",
       "{\n",
       "  selector: 'edge',\n",
       "  css: {\n",
       "    'width': 3,\n",
       "    // 'line-color': '#ccc123',\n",
       "    'curve-style': 'bezier',\n",
       "    'target-arrow-shape': 'triangle',\n",
       "    'target-arrow-fill': 'filled',\n",
       "    'arrow-scale': 1,\n",
       "  }\n",
       "}\n",
       "],\n",
       "         layout: \n",
       "{\n",
       "  name: 'preset'\n",
       "}\n",
       ",\n",
       "         elements: [\n",
       "  { data: { id: 'binary1', label: '+' }, position: { x: 0, y: 0 } },\n",
       "  { data: { id: 'edge7', source: 'binary1', target: 'binary2' } },\n",
       "  { data: { id: 'edge9', source: 'binary1', target: 'number8' } },\n",
       "  { data: { id: 'binary2', label: '+' }, position: { x: -100, y: 50 } },\n",
       "  { data: { id: 'edge4', source: 'binary2', target: 'number3' } },\n",
       "  { data: { id: 'edge6', source: 'binary2', target: 'number5' } },\n",
       "  { data: { id: 'number3', label: 1 }, position: { x: -150, y: 100 } },\n",
       "  { data: { id: 'number5', label: 2 }, position: { x: -50, y: 100 } },\n",
       "  { data: { id: 'number8', label: 3 }, position: { x: 100, y: 50 } }\n",
       "]\n",
       "         });\n",
       "     });\n",
       " })(this.element);\n",
       "</script>\n"
      ]
     },
     "metadata": {},
     "output_type": "display_data"
    },
    {
     "name": "stdout",
     "output_type": "stream",
     "text": [
      "constant folded\n"
     ]
    },
    {
     "data": {
      "text/html": [
       "\n",
       "<style>\n",
       "    #mydived096f48-2885-48d9-8068-465c93df3cf1 {\n",
       "        width: 800px;\n",
       "        height: 350px;\n",
       "        top: 0px;\n",
       "        left: 0px;\n",
       "    }\n",
       "</style>\n",
       "<div id=\"mydived096f48-2885-48d9-8068-465c93df3cf1\"></div>\n"
      ]
     },
     "metadata": {},
     "output_type": "display_data"
    },
    {
     "data": {
      "text/html": [
       "\n",
       "<script>\n",
       " (function(element) {\n",
       "     require(['cytoscape'], function(cytoscape) {   \n",
       "        var cy = cytoscape({\n",
       "         container: document.getElementById('mydived096f48-2885-48d9-8068-465c93df3cf1'),\n",
       "         style: [\n",
       "{\n",
       "  selector: 'node',\n",
       "  css: {\n",
       "    'class': \".bx--tree\",\n",
       "    'label': 'data(label)',\n",
       "    'height': '10px',\n",
       "    'width': '10px',\n",
       "  }\n",
       "},\n",
       "{\n",
       "  selector: 'edge',\n",
       "  css: {\n",
       "    'width': 3,\n",
       "    // 'line-color': '#ccc123',\n",
       "    'curve-style': 'bezier',\n",
       "    'target-arrow-shape': 'triangle',\n",
       "    'target-arrow-fill': 'filled',\n",
       "    'arrow-scale': 1,\n",
       "  }\n",
       "}\n",
       "],\n",
       "         layout: \n",
       "{\n",
       "  name: 'preset'\n",
       "}\n",
       ",\n",
       "         elements: [ { data: { id: 'number1', label: 6 }, position: { x: 0, y: 0 } } ]\n",
       "         });\n",
       "     });\n",
       " })(this.element);\n",
       "</script>\n"
      ]
     },
     "metadata": {},
     "output_type": "display_data"
    }
   ],
   "source": [
    "console.log(\"original\");\n",
    "drawProg(\"1 + 2 + 3\");\n",
    "console.log(\"constant folded\");\n",
    "drawProg(\"6\");"
   ]
  },
  {
   "cell_type": "markdown",
   "id": "43d31879",
   "metadata": {},
   "source": [
    "#### Constant Folding on Arithmetic"
   ]
  },
  {
   "cell_type": "code",
   "execution_count": 25,
   "id": "4d5b956b",
   "metadata": {},
   "outputs": [],
   "source": [
    "function constantFoldBinary(eLeft: E.Expr, operator: T.BinaryOperator, eRight: E.Expr): E.Expr {\n",
    "    if (eLeft.tag === \"NUMBER\" && eRight.tag === \"NUMBER\") {\n",
    "        // If both the left and right are numbers, then we can evaluate them and return the appropriate constant.\n",
    "        // Question: how does this compare with the interpreter for binary expressions?\n",
    "        // Hint: look at the return type of constantFoldBinary\n",
    "        switch (operator) {\n",
    "            case \"+\": {\n",
    "                return T.mkNumericConstant(eLeft.value + eRight.value);\n",
    "            }\n",
    "            case \"-\": {\n",
    "                return T.mkNumericConstant(eLeft.value - eRight.value);\n",
    "            }\n",
    "            case \"*\": {\n",
    "                return T.mkNumericConstant(eLeft.value * eRight.value);\n",
    "            }\n",
    "            case \"/\": {\n",
    "                return T.mkNumericConstant(eLeft.value / eRight.value);\n",
    "            }\n",
    "        }\n",
    "    } else {\n",
    "        // If either one of the expressions is not a numeric constant, we cannot evaluate the expression.\n",
    "        return E.mkBinaryExpr(eLeft, operator, eRight);\n",
    "    }\n",
    "}"
   ]
  },
  {
   "cell_type": "code",
   "execution_count": 26,
   "id": "b77b16c0",
   "metadata": {},
   "outputs": [],
   "source": [
    "function constantFold(e: E.Expr): E.Expr {\n",
    "    switch (e.tag) {\n",
    "        case \"NUMBER\": {\n",
    "            return T.mkNumericConstant(e.value); // Nothing to do\n",
    "        }\n",
    "        case \"BINARY\": {\n",
    "            // Note: what can be improved?\n",
    "            return constantFoldBinary(e.left, e.operator, e.right);\n",
    "        }\n",
    "        case \"CONDITIONAL\": {\n",
    "            // Will handle later\n",
    "            return E.mkConditionalExpr(constantFold(e.condExpr), constantFold(e.thenExpr), constantFold(e.elseExpr));\n",
    "        }\n",
    "        case \"FUNCTION\": {\n",
    "            // Recursively perform constant folding\n",
    "            return E.mkFunctionExpr(e.parameter, constantFold(e.body))\n",
    "        }\n",
    "        case \"IDENTIFIER\": {\n",
    "            return T.mkIdentifier(e.name); // Nothing to do\n",
    "        }\n",
    "        case \"CALL\": {\n",
    "            // Recursively perform constant folding\n",
    "            return E.mkCallExpr(constantFold(e.func), constantFold(e.argument));\n",
    "        }\n",
    "        default: {\n",
    "            throw Error(\"Shouldn't happen\");\n",
    "        }\n",
    "    }\n",
    "}"
   ]
  },
  {
   "cell_type": "markdown",
   "id": "f129a62b",
   "metadata": {},
   "source": [
    "#### Example 1"
   ]
  },
  {
   "cell_type": "code",
   "execution_count": 27,
   "id": "6750cd31",
   "metadata": {},
   "outputs": [
    {
     "name": "stdout",
     "output_type": "stream",
     "text": [
      "Original (1+1)\n"
     ]
    },
    {
     "data": {
      "text/html": [
       "\n",
       "<style>\n",
       "    #mydiv41c424fb-4406-4eab-bfb7-265d27a2a866 {\n",
       "        width: 800px;\n",
       "        height: 350px;\n",
       "        top: 0px;\n",
       "        left: 0px;\n",
       "    }\n",
       "</style>\n",
       "<div id=\"mydiv41c424fb-4406-4eab-bfb7-265d27a2a866\"></div>\n"
      ]
     },
     "metadata": {},
     "output_type": "display_data"
    },
    {
     "data": {
      "text/html": [
       "\n",
       "<script>\n",
       " (function(element) {\n",
       "     require(['cytoscape'], function(cytoscape) {   \n",
       "        var cy = cytoscape({\n",
       "         container: document.getElementById('mydiv41c424fb-4406-4eab-bfb7-265d27a2a866'),\n",
       "         style: [\n",
       "{\n",
       "  selector: 'node',\n",
       "  css: {\n",
       "    'class': \".bx--tree\",\n",
       "    'label': 'data(label)',\n",
       "    'height': '10px',\n",
       "    'width': '10px',\n",
       "  }\n",
       "},\n",
       "{\n",
       "  selector: 'edge',\n",
       "  css: {\n",
       "    'width': 3,\n",
       "    // 'line-color': '#ccc123',\n",
       "    'curve-style': 'bezier',\n",
       "    'target-arrow-shape': 'triangle',\n",
       "    'target-arrow-fill': 'filled',\n",
       "    'arrow-scale': 1,\n",
       "  }\n",
       "}\n",
       "],\n",
       "         layout: \n",
       "{\n",
       "  name: 'preset'\n",
       "}\n",
       ",\n",
       "         elements: [\n",
       "  { data: { id: 'binary1', label: '+' }, position: { x: 0, y: 0 } },\n",
       "  { data: { id: 'edge3', source: 'binary1', target: 'number2' } },\n",
       "  { data: { id: 'edge5', source: 'binary1', target: 'number4' } },\n",
       "  { data: { id: 'number2', label: 1 }, position: { x: -100, y: 50 } },\n",
       "  { data: { id: 'number4', label: 1 }, position: { x: 100, y: 50 } }\n",
       "]\n",
       "         });\n",
       "     });\n",
       " })(this.element);\n",
       "</script>\n"
      ]
     },
     "metadata": {},
     "output_type": "display_data"
    },
    {
     "name": "stdout",
     "output_type": "stream",
     "text": [
      "Optimized 2\n"
     ]
    },
    {
     "data": {
      "text/html": [
       "\n",
       "<style>\n",
       "    #mydiv28cfd871-46b9-4745-8ef2-2b7eee01a2d6 {\n",
       "        width: 800px;\n",
       "        height: 350px;\n",
       "        top: 0px;\n",
       "        left: 0px;\n",
       "    }\n",
       "</style>\n",
       "<div id=\"mydiv28cfd871-46b9-4745-8ef2-2b7eee01a2d6\"></div>\n"
      ]
     },
     "metadata": {},
     "output_type": "display_data"
    },
    {
     "data": {
      "text/html": [
       "\n",
       "<script>\n",
       " (function(element) {\n",
       "     require(['cytoscape'], function(cytoscape) {   \n",
       "        var cy = cytoscape({\n",
       "         container: document.getElementById('mydiv28cfd871-46b9-4745-8ef2-2b7eee01a2d6'),\n",
       "         style: [\n",
       "{\n",
       "  selector: 'node',\n",
       "  css: {\n",
       "    'class': \".bx--tree\",\n",
       "    'label': 'data(label)',\n",
       "    'height': '10px',\n",
       "    'width': '10px',\n",
       "  }\n",
       "},\n",
       "{\n",
       "  selector: 'edge',\n",
       "  css: {\n",
       "    'width': 3,\n",
       "    // 'line-color': '#ccc123',\n",
       "    'curve-style': 'bezier',\n",
       "    'target-arrow-shape': 'triangle',\n",
       "    'target-arrow-fill': 'filled',\n",
       "    'arrow-scale': 1,\n",
       "  }\n",
       "}\n",
       "],\n",
       "         layout: \n",
       "{\n",
       "  name: 'preset'\n",
       "}\n",
       ",\n",
       "         elements: [ { data: { id: 'number1', label: 2 }, position: { x: 0, y: 0 } } ]\n",
       "         });\n",
       "     });\n",
       " })(this.element);\n",
       "</script>\n"
      ]
     },
     "metadata": {},
     "output_type": "display_data"
    }
   ],
   "source": [
    "const ex1 = \"1 + 1\";\n",
    "console.log(\"Original\", E.exprToString(Parser.parse(ex1)));\n",
    "drawProg(ex1);\n",
    "console.log(\"Optimized\", E.exprToString(constantFold(Parser.parse(ex1))));\n",
    "drawProg(constantFold(Parser.parse(ex1)));"
   ]
  },
  {
   "cell_type": "markdown",
   "id": "45d698bd",
   "metadata": {},
   "source": [
    "#### Example 2"
   ]
  },
  {
   "cell_type": "code",
   "execution_count": 28,
   "id": "ef74d54d",
   "metadata": {},
   "outputs": [
    {
     "name": "stdout",
     "output_type": "stream",
     "text": [
      "Original (10-1)\n"
     ]
    },
    {
     "data": {
      "text/html": [
       "\n",
       "<style>\n",
       "    #mydiv1e1251ff-f4a1-4ba9-a9e2-e826b725ee0a {\n",
       "        width: 800px;\n",
       "        height: 350px;\n",
       "        top: 0px;\n",
       "        left: 0px;\n",
       "    }\n",
       "</style>\n",
       "<div id=\"mydiv1e1251ff-f4a1-4ba9-a9e2-e826b725ee0a\"></div>\n"
      ]
     },
     "metadata": {},
     "output_type": "display_data"
    },
    {
     "data": {
      "text/html": [
       "\n",
       "<script>\n",
       " (function(element) {\n",
       "     require(['cytoscape'], function(cytoscape) {   \n",
       "        var cy = cytoscape({\n",
       "         container: document.getElementById('mydiv1e1251ff-f4a1-4ba9-a9e2-e826b725ee0a'),\n",
       "         style: [\n",
       "{\n",
       "  selector: 'node',\n",
       "  css: {\n",
       "    'class': \".bx--tree\",\n",
       "    'label': 'data(label)',\n",
       "    'height': '10px',\n",
       "    'width': '10px',\n",
       "  }\n",
       "},\n",
       "{\n",
       "  selector: 'edge',\n",
       "  css: {\n",
       "    'width': 3,\n",
       "    // 'line-color': '#ccc123',\n",
       "    'curve-style': 'bezier',\n",
       "    'target-arrow-shape': 'triangle',\n",
       "    'target-arrow-fill': 'filled',\n",
       "    'arrow-scale': 1,\n",
       "  }\n",
       "}\n",
       "],\n",
       "         layout: \n",
       "{\n",
       "  name: 'preset'\n",
       "}\n",
       ",\n",
       "         elements: [\n",
       "  { data: { id: 'binary1', label: '-' }, position: { x: 0, y: 0 } },\n",
       "  { data: { id: 'edge3', source: 'binary1', target: 'number2' } },\n",
       "  { data: { id: 'edge5', source: 'binary1', target: 'number4' } },\n",
       "  { data: { id: 'number2', label: 10 }, position: { x: -100, y: 50 } },\n",
       "  { data: { id: 'number4', label: 1 }, position: { x: 100, y: 50 } }\n",
       "]\n",
       "         });\n",
       "     });\n",
       " })(this.element);\n",
       "</script>\n"
      ]
     },
     "metadata": {},
     "output_type": "display_data"
    },
    {
     "name": "stdout",
     "output_type": "stream",
     "text": [
      "Optimized 9\n"
     ]
    },
    {
     "data": {
      "text/html": [
       "\n",
       "<style>\n",
       "    #mydivd280c290-d073-4759-b7cd-1992eafea2c0 {\n",
       "        width: 800px;\n",
       "        height: 350px;\n",
       "        top: 0px;\n",
       "        left: 0px;\n",
       "    }\n",
       "</style>\n",
       "<div id=\"mydivd280c290-d073-4759-b7cd-1992eafea2c0\"></div>\n"
      ]
     },
     "metadata": {},
     "output_type": "display_data"
    },
    {
     "data": {
      "text/html": [
       "\n",
       "<script>\n",
       " (function(element) {\n",
       "     require(['cytoscape'], function(cytoscape) {   \n",
       "        var cy = cytoscape({\n",
       "         container: document.getElementById('mydivd280c290-d073-4759-b7cd-1992eafea2c0'),\n",
       "         style: [\n",
       "{\n",
       "  selector: 'node',\n",
       "  css: {\n",
       "    'class': \".bx--tree\",\n",
       "    'label': 'data(label)',\n",
       "    'height': '10px',\n",
       "    'width': '10px',\n",
       "  }\n",
       "},\n",
       "{\n",
       "  selector: 'edge',\n",
       "  css: {\n",
       "    'width': 3,\n",
       "    // 'line-color': '#ccc123',\n",
       "    'curve-style': 'bezier',\n",
       "    'target-arrow-shape': 'triangle',\n",
       "    'target-arrow-fill': 'filled',\n",
       "    'arrow-scale': 1,\n",
       "  }\n",
       "}\n",
       "],\n",
       "         layout: \n",
       "{\n",
       "  name: 'preset'\n",
       "}\n",
       ",\n",
       "         elements: [ { data: { id: 'number1', label: 9 }, position: { x: 0, y: 0 } } ]\n",
       "         });\n",
       "     });\n",
       " })(this.element);\n",
       "</script>\n"
      ]
     },
     "metadata": {},
     "output_type": "display_data"
    }
   ],
   "source": [
    "const ex2 = \"10 - 1\";\n",
    "console.log(\"Original\", E.exprToString(Parser.parse(ex2)));\n",
    "drawProg(ex2);\n",
    "console.log(\"Optimized\", E.exprToString(constantFold(Parser.parse(ex2))));\n",
    "drawProg(constantFold(Parser.parse(ex2)));"
   ]
  },
  {
   "cell_type": "markdown",
   "id": "baf2d97f",
   "metadata": {},
   "source": [
    "#### Example 3"
   ]
  },
  {
   "cell_type": "code",
   "execution_count": 29,
   "id": "790ef7bf",
   "metadata": {},
   "outputs": [
    {
     "name": "stdout",
     "output_type": "stream",
     "text": [
      "Original (10-(1*2))\n"
     ]
    },
    {
     "data": {
      "text/html": [
       "\n",
       "<style>\n",
       "    #mydiv7e43f55f-8150-422e-9b23-034270294611 {\n",
       "        width: 800px;\n",
       "        height: 350px;\n",
       "        top: 0px;\n",
       "        left: 0px;\n",
       "    }\n",
       "</style>\n",
       "<div id=\"mydiv7e43f55f-8150-422e-9b23-034270294611\"></div>\n"
      ]
     },
     "metadata": {},
     "output_type": "display_data"
    },
    {
     "data": {
      "text/html": [
       "\n",
       "<script>\n",
       " (function(element) {\n",
       "     require(['cytoscape'], function(cytoscape) {   \n",
       "        var cy = cytoscape({\n",
       "         container: document.getElementById('mydiv7e43f55f-8150-422e-9b23-034270294611'),\n",
       "         style: [\n",
       "{\n",
       "  selector: 'node',\n",
       "  css: {\n",
       "    'class': \".bx--tree\",\n",
       "    'label': 'data(label)',\n",
       "    'height': '10px',\n",
       "    'width': '10px',\n",
       "  }\n",
       "},\n",
       "{\n",
       "  selector: 'edge',\n",
       "  css: {\n",
       "    'width': 3,\n",
       "    // 'line-color': '#ccc123',\n",
       "    'curve-style': 'bezier',\n",
       "    'target-arrow-shape': 'triangle',\n",
       "    'target-arrow-fill': 'filled',\n",
       "    'arrow-scale': 1,\n",
       "  }\n",
       "}\n",
       "],\n",
       "         layout: \n",
       "{\n",
       "  name: 'preset'\n",
       "}\n",
       ",\n",
       "         elements: [\n",
       "  { data: { id: 'binary1', label: '-' }, position: { x: 0, y: 0 } },\n",
       "  { data: { id: 'edge3', source: 'binary1', target: 'number2' } },\n",
       "  { data: { id: 'edge9', source: 'binary1', target: 'binary4' } },\n",
       "  { data: { id: 'number2', label: 10 }, position: { x: -100, y: 50 } },\n",
       "  { data: { id: 'binary4', label: '*' }, position: { x: 100, y: 50 } },\n",
       "  { data: { id: 'edge6', source: 'binary4', target: 'number5' } },\n",
       "  { data: { id: 'edge8', source: 'binary4', target: 'number7' } },\n",
       "  { data: { id: 'number5', label: 1 }, position: { x: 50, y: 100 } },\n",
       "  { data: { id: 'number7', label: 2 }, position: { x: 150, y: 100 } }\n",
       "]\n",
       "         });\n",
       "     });\n",
       " })(this.element);\n",
       "</script>\n"
      ]
     },
     "metadata": {},
     "output_type": "display_data"
    },
    {
     "name": "stdout",
     "output_type": "stream",
     "text": [
      "Optimized (10-(1*2))\n"
     ]
    },
    {
     "data": {
      "text/html": [
       "\n",
       "<style>\n",
       "    #mydiv71499249-f467-4c5a-a88d-334fd7811cdb {\n",
       "        width: 800px;\n",
       "        height: 350px;\n",
       "        top: 0px;\n",
       "        left: 0px;\n",
       "    }\n",
       "</style>\n",
       "<div id=\"mydiv71499249-f467-4c5a-a88d-334fd7811cdb\"></div>\n"
      ]
     },
     "metadata": {},
     "output_type": "display_data"
    },
    {
     "data": {
      "text/html": [
       "\n",
       "<script>\n",
       " (function(element) {\n",
       "     require(['cytoscape'], function(cytoscape) {   \n",
       "        var cy = cytoscape({\n",
       "         container: document.getElementById('mydiv71499249-f467-4c5a-a88d-334fd7811cdb'),\n",
       "         style: [\n",
       "{\n",
       "  selector: 'node',\n",
       "  css: {\n",
       "    'class': \".bx--tree\",\n",
       "    'label': 'data(label)',\n",
       "    'height': '10px',\n",
       "    'width': '10px',\n",
       "  }\n",
       "},\n",
       "{\n",
       "  selector: 'edge',\n",
       "  css: {\n",
       "    'width': 3,\n",
       "    // 'line-color': '#ccc123',\n",
       "    'curve-style': 'bezier',\n",
       "    'target-arrow-shape': 'triangle',\n",
       "    'target-arrow-fill': 'filled',\n",
       "    'arrow-scale': 1,\n",
       "  }\n",
       "}\n",
       "],\n",
       "         layout: \n",
       "{\n",
       "  name: 'preset'\n",
       "}\n",
       ",\n",
       "         elements: [\n",
       "  { data: { id: 'binary1', label: '-' }, position: { x: 0, y: 0 } },\n",
       "  { data: { id: 'edge3', source: 'binary1', target: 'number2' } },\n",
       "  { data: { id: 'edge9', source: 'binary1', target: 'binary4' } },\n",
       "  { data: { id: 'number2', label: 10 }, position: { x: -100, y: 50 } },\n",
       "  { data: { id: 'binary4', label: '*' }, position: { x: 100, y: 50 } },\n",
       "  { data: { id: 'edge6', source: 'binary4', target: 'number5' } },\n",
       "  { data: { id: 'edge8', source: 'binary4', target: 'number7' } },\n",
       "  { data: { id: 'number5', label: 1 }, position: { x: 50, y: 100 } },\n",
       "  { data: { id: 'number7', label: 2 }, position: { x: 150, y: 100 } }\n",
       "]\n",
       "         });\n",
       "     });\n",
       " })(this.element);\n",
       "</script>\n"
      ]
     },
     "metadata": {},
     "output_type": "display_data"
    }
   ],
   "source": [
    "const ex3 = \"10 - (1 * 2)\";\n",
    "console.log(\"Original\", E.exprToString(Parser.parse(ex3)));\n",
    "drawProg(ex3);\n",
    "console.log(\"Optimized\", E.exprToString(constantFold(Parser.parse(ex3))));\n",
    "drawProg(constantFold(Parser.parse(ex3)));"
   ]
  },
  {
   "cell_type": "markdown",
   "id": "38bfdd9e",
   "metadata": {},
   "source": [
    "Hmm ... what went wrong?\n",
    "1. 10 is a numeric constant\n",
    "2. 1*2 is a binary expression\n",
    "3. Hence, our constant fold operation cannot reduce it"
   ]
  },
  {
   "cell_type": "code",
   "execution_count": 30,
   "id": "316c3ccb",
   "metadata": {},
   "outputs": [],
   "source": [
    "function constantFold2(e: E.Expr): E.Expr {\n",
    "    switch (e.tag) {\n",
    "        case \"NUMBER\": {\n",
    "            return T.mkNumericConstant(e.value); // Nothing to do\n",
    "        }\n",
    "        case \"BINARY\": {\n",
    "            // Note: what can be improved?\n",
    "            return constantFoldBinary(constantFold2(e.left), e.operator, constantFold2(e.right));\n",
    "        }\n",
    "        case \"CONDITIONAL\": {\n",
    "            // Will handle later\n",
    "            return E.mkConditionalExpr(constantFold2(e.condExpr), constantFold2(e.thenExpr), constantFold2(e.elseExpr));\n",
    "        }\n",
    "        case \"FUNCTION\": {\n",
    "            // Recursively perform constant folding\n",
    "            return E.mkFunctionExpr(e.parameter, constantFold2(e.body))\n",
    "        }\n",
    "        case \"IDENTIFIER\": {\n",
    "            return T.mkIdentifier(e.name); // Nothing to do\n",
    "        }\n",
    "        case \"CALL\": {\n",
    "            // Recursively perform constant folding\n",
    "            return E.mkCallExpr(constantFold2(e.func), constantFold2(e.argument));\n",
    "        }\n",
    "        default: {\n",
    "            throw Error(\"Shouldn't happen\");\n",
    "        }\n",
    "    }\n",
    "}"
   ]
  },
  {
   "cell_type": "markdown",
   "id": "92db5891",
   "metadata": {},
   "source": [
    "#### Example 3: Again"
   ]
  },
  {
   "cell_type": "code",
   "execution_count": 31,
   "id": "54884a5e",
   "metadata": {},
   "outputs": [
    {
     "name": "stdout",
     "output_type": "stream",
     "text": [
      "Original (10-(1*2))\n"
     ]
    },
    {
     "data": {
      "text/html": [
       "\n",
       "<style>\n",
       "    #mydiv8b215aaa-c757-455d-b516-39c9858c1287 {\n",
       "        width: 800px;\n",
       "        height: 350px;\n",
       "        top: 0px;\n",
       "        left: 0px;\n",
       "    }\n",
       "</style>\n",
       "<div id=\"mydiv8b215aaa-c757-455d-b516-39c9858c1287\"></div>\n"
      ]
     },
     "metadata": {},
     "output_type": "display_data"
    },
    {
     "data": {
      "text/html": [
       "\n",
       "<script>\n",
       " (function(element) {\n",
       "     require(['cytoscape'], function(cytoscape) {   \n",
       "        var cy = cytoscape({\n",
       "         container: document.getElementById('mydiv8b215aaa-c757-455d-b516-39c9858c1287'),\n",
       "         style: [\n",
       "{\n",
       "  selector: 'node',\n",
       "  css: {\n",
       "    'class': \".bx--tree\",\n",
       "    'label': 'data(label)',\n",
       "    'height': '10px',\n",
       "    'width': '10px',\n",
       "  }\n",
       "},\n",
       "{\n",
       "  selector: 'edge',\n",
       "  css: {\n",
       "    'width': 3,\n",
       "    // 'line-color': '#ccc123',\n",
       "    'curve-style': 'bezier',\n",
       "    'target-arrow-shape': 'triangle',\n",
       "    'target-arrow-fill': 'filled',\n",
       "    'arrow-scale': 1,\n",
       "  }\n",
       "}\n",
       "],\n",
       "         layout: \n",
       "{\n",
       "  name: 'preset'\n",
       "}\n",
       ",\n",
       "         elements: [\n",
       "  { data: { id: 'binary1', label: '-' }, position: { x: 0, y: 0 } },\n",
       "  { data: { id: 'edge3', source: 'binary1', target: 'number2' } },\n",
       "  { data: { id: 'edge9', source: 'binary1', target: 'binary4' } },\n",
       "  { data: { id: 'number2', label: 10 }, position: { x: -100, y: 50 } },\n",
       "  { data: { id: 'binary4', label: '*' }, position: { x: 100, y: 50 } },\n",
       "  { data: { id: 'edge6', source: 'binary4', target: 'number5' } },\n",
       "  { data: { id: 'edge8', source: 'binary4', target: 'number7' } },\n",
       "  { data: { id: 'number5', label: 1 }, position: { x: 50, y: 100 } },\n",
       "  { data: { id: 'number7', label: 2 }, position: { x: 150, y: 100 } }\n",
       "]\n",
       "         });\n",
       "     });\n",
       " })(this.element);\n",
       "</script>\n"
      ]
     },
     "metadata": {},
     "output_type": "display_data"
    },
    {
     "name": "stdout",
     "output_type": "stream",
     "text": [
      "Optimized 8\n"
     ]
    },
    {
     "data": {
      "text/html": [
       "\n",
       "<style>\n",
       "    #mydiv2089b0bb-b8fa-4c68-a1ba-520a086ba087 {\n",
       "        width: 800px;\n",
       "        height: 350px;\n",
       "        top: 0px;\n",
       "        left: 0px;\n",
       "    }\n",
       "</style>\n",
       "<div id=\"mydiv2089b0bb-b8fa-4c68-a1ba-520a086ba087\"></div>\n"
      ]
     },
     "metadata": {},
     "output_type": "display_data"
    },
    {
     "data": {
      "text/html": [
       "\n",
       "<script>\n",
       " (function(element) {\n",
       "     require(['cytoscape'], function(cytoscape) {   \n",
       "        var cy = cytoscape({\n",
       "         container: document.getElementById('mydiv2089b0bb-b8fa-4c68-a1ba-520a086ba087'),\n",
       "         style: [\n",
       "{\n",
       "  selector: 'node',\n",
       "  css: {\n",
       "    'class': \".bx--tree\",\n",
       "    'label': 'data(label)',\n",
       "    'height': '10px',\n",
       "    'width': '10px',\n",
       "  }\n",
       "},\n",
       "{\n",
       "  selector: 'edge',\n",
       "  css: {\n",
       "    'width': 3,\n",
       "    // 'line-color': '#ccc123',\n",
       "    'curve-style': 'bezier',\n",
       "    'target-arrow-shape': 'triangle',\n",
       "    'target-arrow-fill': 'filled',\n",
       "    'arrow-scale': 1,\n",
       "  }\n",
       "}\n",
       "],\n",
       "         layout: \n",
       "{\n",
       "  name: 'preset'\n",
       "}\n",
       ",\n",
       "         elements: [ { data: { id: 'number1', label: 8 }, position: { x: 0, y: 0 } } ]\n",
       "         });\n",
       "     });\n",
       " })(this.element);\n",
       "</script>\n"
      ]
     },
     "metadata": {},
     "output_type": "display_data"
    }
   ],
   "source": [
    "const ex3 = \"10 - 1 * 2\";\n",
    "console.log(\"Original\", E.exprToString(Parser.parse(ex3)));\n",
    "drawProg(ex3);\n",
    "console.log(\"Optimized\", E.exprToString(constantFold2(Parser.parse(ex3))));\n",
    "drawProg(constantFold2(Parser.parse(ex3)));"
   ]
  },
  {
   "cell_type": "markdown",
   "id": "139c7468",
   "metadata": {},
   "source": [
    "#### Example 4"
   ]
  },
  {
   "cell_type": "code",
   "execution_count": 32,
   "id": "7210abeb",
   "metadata": {},
   "outputs": [
    {
     "name": "stdout",
     "output_type": "stream",
     "text": [
      "Original ((10/2)-(1*2))\n"
     ]
    },
    {
     "data": {
      "text/html": [
       "\n",
       "<style>\n",
       "    #mydiva5633eed-bdbf-455a-af54-682ba43aeadb {\n",
       "        width: 800px;\n",
       "        height: 350px;\n",
       "        top: 0px;\n",
       "        left: 0px;\n",
       "    }\n",
       "</style>\n",
       "<div id=\"mydiva5633eed-bdbf-455a-af54-682ba43aeadb\"></div>\n"
      ]
     },
     "metadata": {},
     "output_type": "display_data"
    },
    {
     "data": {
      "text/html": [
       "\n",
       "<script>\n",
       " (function(element) {\n",
       "     require(['cytoscape'], function(cytoscape) {   \n",
       "        var cy = cytoscape({\n",
       "         container: document.getElementById('mydiva5633eed-bdbf-455a-af54-682ba43aeadb'),\n",
       "         style: [\n",
       "{\n",
       "  selector: 'node',\n",
       "  css: {\n",
       "    'class': \".bx--tree\",\n",
       "    'label': 'data(label)',\n",
       "    'height': '10px',\n",
       "    'width': '10px',\n",
       "  }\n",
       "},\n",
       "{\n",
       "  selector: 'edge',\n",
       "  css: {\n",
       "    'width': 3,\n",
       "    // 'line-color': '#ccc123',\n",
       "    'curve-style': 'bezier',\n",
       "    'target-arrow-shape': 'triangle',\n",
       "    'target-arrow-fill': 'filled',\n",
       "    'arrow-scale': 1,\n",
       "  }\n",
       "}\n",
       "],\n",
       "         layout: \n",
       "{\n",
       "  name: 'preset'\n",
       "}\n",
       ",\n",
       "         elements: [\n",
       "  { data: { id: 'binary1', label: '-' }, position: { x: 0, y: 0 } },\n",
       "  { data: { id: 'edge7', source: 'binary1', target: 'binary2' } },\n",
       "  { data: { id: 'edge13', source: 'binary1', target: 'binary8' } },\n",
       "  { data: { id: 'binary2', label: '/' }, position: { x: -100, y: 50 } },\n",
       "  { data: { id: 'edge4', source: 'binary2', target: 'number3' } },\n",
       "  { data: { id: 'edge6', source: 'binary2', target: 'number5' } },\n",
       "  { data: { id: 'number3', label: 10 }, position: { x: -150, y: 100 } },\n",
       "  { data: { id: 'number5', label: 2 }, position: { x: -50, y: 100 } },\n",
       "  { data: { id: 'binary8', label: '*' }, position: { x: 100, y: 50 } },\n",
       "  { data: { id: 'edge10', source: 'binary8', target: 'number9' } },\n",
       "  { data: { id: 'edge12', source: 'binary8', target: 'number11' } },\n",
       "  { data: { id: 'number9', label: 1 }, position: { x: 50, y: 100 } },\n",
       "  { data: { id: 'number11', label: 2 }, position: { x: 150, y: 100 } }\n",
       "]\n",
       "         });\n",
       "     });\n",
       " })(this.element);\n",
       "</script>\n"
      ]
     },
     "metadata": {},
     "output_type": "display_data"
    },
    {
     "name": "stdout",
     "output_type": "stream",
     "text": [
      "Optimized 3\n"
     ]
    },
    {
     "data": {
      "text/html": [
       "\n",
       "<style>\n",
       "    #mydivcffd750f-640b-4207-9769-7e35172ceb0f {\n",
       "        width: 800px;\n",
       "        height: 350px;\n",
       "        top: 0px;\n",
       "        left: 0px;\n",
       "    }\n",
       "</style>\n",
       "<div id=\"mydivcffd750f-640b-4207-9769-7e35172ceb0f\"></div>\n"
      ]
     },
     "metadata": {},
     "output_type": "display_data"
    },
    {
     "data": {
      "text/html": [
       "\n",
       "<script>\n",
       " (function(element) {\n",
       "     require(['cytoscape'], function(cytoscape) {   \n",
       "        var cy = cytoscape({\n",
       "         container: document.getElementById('mydivcffd750f-640b-4207-9769-7e35172ceb0f'),\n",
       "         style: [\n",
       "{\n",
       "  selector: 'node',\n",
       "  css: {\n",
       "    'class': \".bx--tree\",\n",
       "    'label': 'data(label)',\n",
       "    'height': '10px',\n",
       "    'width': '10px',\n",
       "  }\n",
       "},\n",
       "{\n",
       "  selector: 'edge',\n",
       "  css: {\n",
       "    'width': 3,\n",
       "    // 'line-color': '#ccc123',\n",
       "    'curve-style': 'bezier',\n",
       "    'target-arrow-shape': 'triangle',\n",
       "    'target-arrow-fill': 'filled',\n",
       "    'arrow-scale': 1,\n",
       "  }\n",
       "}\n",
       "],\n",
       "         layout: \n",
       "{\n",
       "  name: 'preset'\n",
       "}\n",
       ",\n",
       "         elements: [ { data: { id: 'number1', label: 3 }, position: { x: 0, y: 0 } } ]\n",
       "         });\n",
       "     });\n",
       " })(this.element);\n",
       "</script>\n"
      ]
     },
     "metadata": {},
     "output_type": "display_data"
    }
   ],
   "source": [
    "const ex4 = \"(10 / 2)- 1 * 2\";\n",
    "console.log(\"Original\", E.exprToString(Parser.parse(ex4)));\n",
    "drawProg(ex4);\n",
    "console.log(\"Optimized\", E.exprToString(constantFold2(Parser.parse(ex4))));\n",
    "drawProg(constantFold2(Parser.parse(ex4)));"
   ]
  },
  {
   "cell_type": "markdown",
   "id": "84c0fba3",
   "metadata": {},
   "source": [
    "#### Example 5"
   ]
  },
  {
   "cell_type": "code",
   "execution_count": 33,
   "id": "e3da95e6",
   "metadata": {},
   "outputs": [
    {
     "name": "stdout",
     "output_type": "stream",
     "text": [
      "Original (0?((10/2)-(1*2)):3)\n"
     ]
    },
    {
     "data": {
      "text/html": [
       "\n",
       "<style>\n",
       "    #mydiv28b051b9-a27e-494d-b332-f4b22139d4ec {\n",
       "        width: 800px;\n",
       "        height: 350px;\n",
       "        top: 0px;\n",
       "        left: 0px;\n",
       "    }\n",
       "</style>\n",
       "<div id=\"mydiv28b051b9-a27e-494d-b332-f4b22139d4ec\"></div>\n"
      ]
     },
     "metadata": {},
     "output_type": "display_data"
    },
    {
     "data": {
      "text/html": [
       "\n",
       "<script>\n",
       " (function(element) {\n",
       "     require(['cytoscape'], function(cytoscape) {   \n",
       "        var cy = cytoscape({\n",
       "         container: document.getElementById('mydiv28b051b9-a27e-494d-b332-f4b22139d4ec'),\n",
       "         style: [\n",
       "{\n",
       "  selector: 'node',\n",
       "  css: {\n",
       "    'class': \".bx--tree\",\n",
       "    'label': 'data(label)',\n",
       "    'height': '10px',\n",
       "    'width': '10px',\n",
       "  }\n",
       "},\n",
       "{\n",
       "  selector: 'edge',\n",
       "  css: {\n",
       "    'width': 3,\n",
       "    // 'line-color': '#ccc123',\n",
       "    'curve-style': 'bezier',\n",
       "    'target-arrow-shape': 'triangle',\n",
       "    'target-arrow-fill': 'filled',\n",
       "    'arrow-scale': 1,\n",
       "  }\n",
       "}\n",
       "],\n",
       "         layout: \n",
       "{\n",
       "  name: 'preset'\n",
       "}\n",
       ",\n",
       "         elements: [\n",
       "  {\n",
       "    data: { id: 'conditional1', label: 'if' },\n",
       "    position: { x: 0, y: 0 }\n",
       "  },\n",
       "  { data: { id: 'edge3', source: 'conditional1', target: 'number2' } },\n",
       "  { data: { id: 'edge17', source: 'conditional1', target: 'binary4' } },\n",
       "  {\n",
       "    data: { id: 'edge19', source: 'conditional1', target: 'number18' }\n",
       "  },\n",
       "  { data: { id: 'number2', label: 0 }, position: { x: -150, y: 50 } },\n",
       "  { data: { id: 'binary4', label: '-' }, position: { x: 0, y: 50 } },\n",
       "  { data: { id: 'edge10', source: 'binary4', target: 'binary5' } },\n",
       "  { data: { id: 'edge16', source: 'binary4', target: 'binary11' } },\n",
       "  { data: { id: 'binary5', label: '/' }, position: { x: -50, y: 100 } },\n",
       "  { data: { id: 'edge7', source: 'binary5', target: 'number6' } },\n",
       "  { data: { id: 'edge9', source: 'binary5', target: 'number8' } },\n",
       "  {\n",
       "    data: { id: 'number6', label: 10 },\n",
       "    position: { x: -83.33333333333334, y: 150 }\n",
       "  },\n",
       "  {\n",
       "    data: { id: 'number8', label: 2 },\n",
       "    position: { x: -16.666666666666664, y: 150 }\n",
       "  },\n",
       "  { data: { id: 'binary11', label: '*' }, position: { x: 50, y: 100 } },\n",
       "  { data: { id: 'edge13', source: 'binary11', target: 'number12' } },\n",
       "  { data: { id: 'edge15', source: 'binary11', target: 'number14' } },\n",
       "  {\n",
       "    data: { id: 'number12', label: 1 },\n",
       "    position: { x: 16.666666666666664, y: 150 }\n",
       "  },\n",
       "  {\n",
       "    data: { id: 'number14', label: 2 },\n",
       "    position: { x: 83.33333333333334, y: 150 }\n",
       "  },\n",
       "  { data: { id: 'number18', label: 3 }, position: { x: 150, y: 50 } }\n",
       "]\n",
       "         });\n",
       "     });\n",
       " })(this.element);\n",
       "</script>\n"
      ]
     },
     "metadata": {},
     "output_type": "display_data"
    },
    {
     "name": "stdout",
     "output_type": "stream",
     "text": [
      "Optimized (0?3:3)\n"
     ]
    },
    {
     "data": {
      "text/html": [
       "\n",
       "<style>\n",
       "    #mydiv49b3d75a-6ef4-4125-bcd9-3de2523d07c1 {\n",
       "        width: 800px;\n",
       "        height: 350px;\n",
       "        top: 0px;\n",
       "        left: 0px;\n",
       "    }\n",
       "</style>\n",
       "<div id=\"mydiv49b3d75a-6ef4-4125-bcd9-3de2523d07c1\"></div>\n"
      ]
     },
     "metadata": {},
     "output_type": "display_data"
    },
    {
     "data": {
      "text/html": [
       "\n",
       "<script>\n",
       " (function(element) {\n",
       "     require(['cytoscape'], function(cytoscape) {   \n",
       "        var cy = cytoscape({\n",
       "         container: document.getElementById('mydiv49b3d75a-6ef4-4125-bcd9-3de2523d07c1'),\n",
       "         style: [\n",
       "{\n",
       "  selector: 'node',\n",
       "  css: {\n",
       "    'class': \".bx--tree\",\n",
       "    'label': 'data(label)',\n",
       "    'height': '10px',\n",
       "    'width': '10px',\n",
       "  }\n",
       "},\n",
       "{\n",
       "  selector: 'edge',\n",
       "  css: {\n",
       "    'width': 3,\n",
       "    // 'line-color': '#ccc123',\n",
       "    'curve-style': 'bezier',\n",
       "    'target-arrow-shape': 'triangle',\n",
       "    'target-arrow-fill': 'filled',\n",
       "    'arrow-scale': 1,\n",
       "  }\n",
       "}\n",
       "],\n",
       "         layout: \n",
       "{\n",
       "  name: 'preset'\n",
       "}\n",
       ",\n",
       "         elements: [\n",
       "  {\n",
       "    data: { id: 'conditional1', label: 'if' },\n",
       "    position: { x: 0, y: 0 }\n",
       "  },\n",
       "  { data: { id: 'edge3', source: 'conditional1', target: 'number2' } },\n",
       "  { data: { id: 'edge5', source: 'conditional1', target: 'number4' } },\n",
       "  { data: { id: 'edge7', source: 'conditional1', target: 'number6' } },\n",
       "  { data: { id: 'number2', label: 0 }, position: { x: -150, y: 50 } },\n",
       "  { data: { id: 'number4', label: 3 }, position: { x: 0, y: 50 } },\n",
       "  { data: { id: 'number6', label: 3 }, position: { x: 150, y: 50 } }\n",
       "]\n",
       "         });\n",
       "     });\n",
       " })(this.element);\n",
       "</script>\n"
      ]
     },
     "metadata": {},
     "output_type": "display_data"
    }
   ],
   "source": [
    "const ex5 = \"0 ? (10 / 2)- 1 * 2 : 3\";\n",
    "console.log(\"Original\", E.exprToString(Parser.parse(ex5)));\n",
    "drawProg(ex5);\n",
    "console.log(\"Optimized\", E.exprToString(constantFold2(Parser.parse(ex5))));\n",
    "drawProg(constantFold2(Parser.parse(ex5)));"
   ]
  },
  {
   "cell_type": "markdown",
   "id": "00bc3696",
   "metadata": {},
   "source": [
    "#### Example 6"
   ]
  },
  {
   "cell_type": "code",
   "execution_count": 34,
   "id": "c5e1c49e",
   "metadata": {},
   "outputs": [
    {
     "name": "stdout",
     "output_type": "stream",
     "text": [
      "Original (0?((10/2)-(1*2)):(λx=>((3+4)+x)))\n"
     ]
    },
    {
     "data": {
      "text/html": [
       "\n",
       "<style>\n",
       "    #mydiv48137dd3-eebb-4b16-b458-ee17e15fa59e {\n",
       "        width: 800px;\n",
       "        height: 350px;\n",
       "        top: 0px;\n",
       "        left: 0px;\n",
       "    }\n",
       "</style>\n",
       "<div id=\"mydiv48137dd3-eebb-4b16-b458-ee17e15fa59e\"></div>\n"
      ]
     },
     "metadata": {},
     "output_type": "display_data"
    },
    {
     "data": {
      "text/html": [
       "\n",
       "<script>\n",
       " (function(element) {\n",
       "     require(['cytoscape'], function(cytoscape) {   \n",
       "        var cy = cytoscape({\n",
       "         container: document.getElementById('mydiv48137dd3-eebb-4b16-b458-ee17e15fa59e'),\n",
       "         style: [\n",
       "{\n",
       "  selector: 'node',\n",
       "  css: {\n",
       "    'class': \".bx--tree\",\n",
       "    'label': 'data(label)',\n",
       "    'height': '10px',\n",
       "    'width': '10px',\n",
       "  }\n",
       "},\n",
       "{\n",
       "  selector: 'edge',\n",
       "  css: {\n",
       "    'width': 3,\n",
       "    // 'line-color': '#ccc123',\n",
       "    'curve-style': 'bezier',\n",
       "    'target-arrow-shape': 'triangle',\n",
       "    'target-arrow-fill': 'filled',\n",
       "    'arrow-scale': 1,\n",
       "  }\n",
       "}\n",
       "],\n",
       "         layout: \n",
       "{\n",
       "  name: 'preset'\n",
       "}\n",
       ",\n",
       "         elements: [\n",
       "  {\n",
       "    data: { id: 'conditional1', label: 'if' },\n",
       "    position: { x: 0, y: 0 }\n",
       "  },\n",
       "  { data: { id: 'edge3', source: 'conditional1', target: 'number2' } },\n",
       "  { data: { id: 'edge17', source: 'conditional1', target: 'binary4' } },\n",
       "  {\n",
       "    data: { id: 'edge29', source: 'conditional1', target: 'function18' }\n",
       "  },\n",
       "  { data: { id: 'number2', label: 0 }, position: { x: -150, y: 50 } },\n",
       "  { data: { id: 'binary4', label: '-' }, position: { x: 0, y: 50 } },\n",
       "  { data: { id: 'edge10', source: 'binary4', target: 'binary5' } },\n",
       "  { data: { id: 'edge16', source: 'binary4', target: 'binary11' } },\n",
       "  { data: { id: 'binary5', label: '/' }, position: { x: -50, y: 100 } },\n",
       "  { data: { id: 'edge7', source: 'binary5', target: 'number6' } },\n",
       "  { data: { id: 'edge9', source: 'binary5', target: 'number8' } },\n",
       "  {\n",
       "    data: { id: 'number6', label: 10 },\n",
       "    position: { x: -83.33333333333334, y: 150 }\n",
       "  },\n",
       "  {\n",
       "    data: { id: 'number8', label: 2 },\n",
       "    position: { x: -16.666666666666664, y: 150 }\n",
       "  },\n",
       "  { data: { id: 'binary11', label: '*' }, position: { x: 50, y: 100 } },\n",
       "  { data: { id: 'edge13', source: 'binary11', target: 'number12' } },\n",
       "  { data: { id: 'edge15', source: 'binary11', target: 'number14' } },\n",
       "  {\n",
       "    data: { id: 'number12', label: 1 },\n",
       "    position: { x: 16.666666666666664, y: 150 }\n",
       "  },\n",
       "  {\n",
       "    data: { id: 'number14', label: 2 },\n",
       "    position: { x: 83.33333333333334, y: 150 }\n",
       "  },\n",
       "  {\n",
       "    data: { id: 'function18', label: 'λ(x)' },\n",
       "    position: { x: 150, y: 50 }\n",
       "  },\n",
       "  { data: { id: 'edge28', source: 'function18', target: 'binary19' } },\n",
       "  {\n",
       "    data: { id: 'binary19', label: '+' },\n",
       "    position: { x: 150, y: 100 }\n",
       "  },\n",
       "  { data: { id: 'edge25', source: 'binary19', target: 'binary20' } },\n",
       "  {\n",
       "    data: { id: 'edge27', source: 'binary19', target: 'identifier26' }\n",
       "  },\n",
       "  {\n",
       "    data: { id: 'binary20', label: '+' },\n",
       "    position: { x: 116.66666666666666, y: 150 }\n",
       "  },\n",
       "  { data: { id: 'edge22', source: 'binary20', target: 'number21' } },\n",
       "  { data: { id: 'edge24', source: 'binary20', target: 'number23' } },\n",
       "  {\n",
       "    data: { id: 'number21', label: 3 },\n",
       "    position: { x: 91.66666666666666, y: 200 }\n",
       "  },\n",
       "  {\n",
       "    data: { id: 'number23', label: 4 },\n",
       "    position: { x: 141.66666666666666, y: 200 }\n",
       "  },\n",
       "  {\n",
       "    data: { id: 'identifier26', label: 'x' },\n",
       "    position: { x: 183.33333333333334, y: 150 }\n",
       "  }\n",
       "]\n",
       "         });\n",
       "     });\n",
       " })(this.element);\n",
       "</script>\n"
      ]
     },
     "metadata": {},
     "output_type": "display_data"
    },
    {
     "name": "stdout",
     "output_type": "stream",
     "text": [
      "Optimized (0?3:(λx=>(7+x)))\n"
     ]
    },
    {
     "data": {
      "text/html": [
       "\n",
       "<style>\n",
       "    #mydiv2e5dc692-18aa-4e4c-8556-a5e07ccb350d {\n",
       "        width: 800px;\n",
       "        height: 350px;\n",
       "        top: 0px;\n",
       "        left: 0px;\n",
       "    }\n",
       "</style>\n",
       "<div id=\"mydiv2e5dc692-18aa-4e4c-8556-a5e07ccb350d\"></div>\n"
      ]
     },
     "metadata": {},
     "output_type": "display_data"
    },
    {
     "data": {
      "text/html": [
       "\n",
       "<script>\n",
       " (function(element) {\n",
       "     require(['cytoscape'], function(cytoscape) {   \n",
       "        var cy = cytoscape({\n",
       "         container: document.getElementById('mydiv2e5dc692-18aa-4e4c-8556-a5e07ccb350d'),\n",
       "         style: [\n",
       "{\n",
       "  selector: 'node',\n",
       "  css: {\n",
       "    'class': \".bx--tree\",\n",
       "    'label': 'data(label)',\n",
       "    'height': '10px',\n",
       "    'width': '10px',\n",
       "  }\n",
       "},\n",
       "{\n",
       "  selector: 'edge',\n",
       "  css: {\n",
       "    'width': 3,\n",
       "    // 'line-color': '#ccc123',\n",
       "    'curve-style': 'bezier',\n",
       "    'target-arrow-shape': 'triangle',\n",
       "    'target-arrow-fill': 'filled',\n",
       "    'arrow-scale': 1,\n",
       "  }\n",
       "}\n",
       "],\n",
       "         layout: \n",
       "{\n",
       "  name: 'preset'\n",
       "}\n",
       ",\n",
       "         elements: [\n",
       "  {\n",
       "    data: { id: 'conditional1', label: 'if' },\n",
       "    position: { x: 0, y: 0 }\n",
       "  },\n",
       "  { data: { id: 'edge3', source: 'conditional1', target: 'number2' } },\n",
       "  { data: { id: 'edge5', source: 'conditional1', target: 'number4' } },\n",
       "  {\n",
       "    data: { id: 'edge13', source: 'conditional1', target: 'function6' }\n",
       "  },\n",
       "  { data: { id: 'number2', label: 0 }, position: { x: -150, y: 50 } },\n",
       "  { data: { id: 'number4', label: 3 }, position: { x: 0, y: 50 } },\n",
       "  {\n",
       "    data: { id: 'function6', label: 'λ(x)' },\n",
       "    position: { x: 150, y: 50 }\n",
       "  },\n",
       "  { data: { id: 'edge12', source: 'function6', target: 'binary7' } },\n",
       "  { data: { id: 'binary7', label: '+' }, position: { x: 150, y: 100 } },\n",
       "  { data: { id: 'edge9', source: 'binary7', target: 'number8' } },\n",
       "  { data: { id: 'edge11', source: 'binary7', target: 'identifier10' } },\n",
       "  {\n",
       "    data: { id: 'number8', label: 7 },\n",
       "    position: { x: 116.66666666666666, y: 150 }\n",
       "  },\n",
       "  {\n",
       "    data: { id: 'identifier10', label: 'x' },\n",
       "    position: { x: 183.33333333333334, y: 150 }\n",
       "  }\n",
       "]\n",
       "         });\n",
       "     });\n",
       " })(this.element);\n",
       "</script>\n"
      ]
     },
     "metadata": {},
     "output_type": "display_data"
    }
   ],
   "source": [
    "const ex6 = \"0 ? (10 / 2)- 1 * 2 : λx => 3 + 4 + x\";\n",
    "console.log(\"Original\", E.exprToString(Parser.parse(ex6)));\n",
    "drawProg(ex6);\n",
    "console.log(\"Optimized\", E.exprToString(constantFold2(Parser.parse(ex6))));\n",
    "drawProg(constantFold2(Parser.parse(ex6)));"
   ]
  },
  {
   "cell_type": "markdown",
   "id": "2561ac40",
   "metadata": {},
   "source": [
    "#### Example 7"
   ]
  },
  {
   "cell_type": "code",
   "execution_count": 35,
   "id": "4c5837e2",
   "metadata": {},
   "outputs": [
    {
     "name": "stdout",
     "output_type": "stream",
     "text": [
      "Original (0?((10/2)-(1*2)):(λx=>((x+3)+4)))\n"
     ]
    },
    {
     "data": {
      "text/html": [
       "\n",
       "<style>\n",
       "    #mydivbb6cd9bf-520e-4208-abe8-09c475b67a2a {\n",
       "        width: 800px;\n",
       "        height: 350px;\n",
       "        top: 0px;\n",
       "        left: 0px;\n",
       "    }\n",
       "</style>\n",
       "<div id=\"mydivbb6cd9bf-520e-4208-abe8-09c475b67a2a\"></div>\n"
      ]
     },
     "metadata": {},
     "output_type": "display_data"
    },
    {
     "data": {
      "text/html": [
       "\n",
       "<script>\n",
       " (function(element) {\n",
       "     require(['cytoscape'], function(cytoscape) {   \n",
       "        var cy = cytoscape({\n",
       "         container: document.getElementById('mydivbb6cd9bf-520e-4208-abe8-09c475b67a2a'),\n",
       "         style: [\n",
       "{\n",
       "  selector: 'node',\n",
       "  css: {\n",
       "    'class': \".bx--tree\",\n",
       "    'label': 'data(label)',\n",
       "    'height': '10px',\n",
       "    'width': '10px',\n",
       "  }\n",
       "},\n",
       "{\n",
       "  selector: 'edge',\n",
       "  css: {\n",
       "    'width': 3,\n",
       "    // 'line-color': '#ccc123',\n",
       "    'curve-style': 'bezier',\n",
       "    'target-arrow-shape': 'triangle',\n",
       "    'target-arrow-fill': 'filled',\n",
       "    'arrow-scale': 1,\n",
       "  }\n",
       "}\n",
       "],\n",
       "         layout: \n",
       "{\n",
       "  name: 'preset'\n",
       "}\n",
       ",\n",
       "         elements: [\n",
       "  {\n",
       "    data: { id: 'conditional1', label: 'if' },\n",
       "    position: { x: 0, y: 0 }\n",
       "  },\n",
       "  { data: { id: 'edge3', source: 'conditional1', target: 'number2' } },\n",
       "  { data: { id: 'edge17', source: 'conditional1', target: 'binary4' } },\n",
       "  {\n",
       "    data: { id: 'edge29', source: 'conditional1', target: 'function18' }\n",
       "  },\n",
       "  { data: { id: 'number2', label: 0 }, position: { x: -150, y: 50 } },\n",
       "  { data: { id: 'binary4', label: '-' }, position: { x: 0, y: 50 } },\n",
       "  { data: { id: 'edge10', source: 'binary4', target: 'binary5' } },\n",
       "  { data: { id: 'edge16', source: 'binary4', target: 'binary11' } },\n",
       "  { data: { id: 'binary5', label: '/' }, position: { x: -50, y: 100 } },\n",
       "  { data: { id: 'edge7', source: 'binary5', target: 'number6' } },\n",
       "  { data: { id: 'edge9', source: 'binary5', target: 'number8' } },\n",
       "  {\n",
       "    data: { id: 'number6', label: 10 },\n",
       "    position: { x: -83.33333333333334, y: 150 }\n",
       "  },\n",
       "  {\n",
       "    data: { id: 'number8', label: 2 },\n",
       "    position: { x: -16.666666666666664, y: 150 }\n",
       "  },\n",
       "  { data: { id: 'binary11', label: '*' }, position: { x: 50, y: 100 } },\n",
       "  { data: { id: 'edge13', source: 'binary11', target: 'number12' } },\n",
       "  { data: { id: 'edge15', source: 'binary11', target: 'number14' } },\n",
       "  {\n",
       "    data: { id: 'number12', label: 1 },\n",
       "    position: { x: 16.666666666666664, y: 150 }\n",
       "  },\n",
       "  {\n",
       "    data: { id: 'number14', label: 2 },\n",
       "    position: { x: 83.33333333333334, y: 150 }\n",
       "  },\n",
       "  {\n",
       "    data: { id: 'function18', label: 'λ(x)' },\n",
       "    position: { x: 150, y: 50 }\n",
       "  },\n",
       "  { data: { id: 'edge28', source: 'function18', target: 'binary19' } },\n",
       "  {\n",
       "    data: { id: 'binary19', label: '+' },\n",
       "    position: { x: 150, y: 100 }\n",
       "  },\n",
       "  { data: { id: 'edge25', source: 'binary19', target: 'binary20' } },\n",
       "  { data: { id: 'edge27', source: 'binary19', target: 'number26' } },\n",
       "  {\n",
       "    data: { id: 'binary20', label: '+' },\n",
       "    position: { x: 116.66666666666666, y: 150 }\n",
       "  },\n",
       "  {\n",
       "    data: { id: 'edge22', source: 'binary20', target: 'identifier21' }\n",
       "  },\n",
       "  { data: { id: 'edge24', source: 'binary20', target: 'number23' } },\n",
       "  {\n",
       "    data: { id: 'identifier21', label: 'x' },\n",
       "    position: { x: 91.66666666666666, y: 200 }\n",
       "  },\n",
       "  {\n",
       "    data: { id: 'number23', label: 3 },\n",
       "    position: { x: 141.66666666666666, y: 200 }\n",
       "  },\n",
       "  {\n",
       "    data: { id: 'number26', label: 4 },\n",
       "    position: { x: 183.33333333333334, y: 150 }\n",
       "  }\n",
       "]\n",
       "         });\n",
       "     });\n",
       " })(this.element);\n",
       "</script>\n"
      ]
     },
     "metadata": {},
     "output_type": "display_data"
    },
    {
     "name": "stdout",
     "output_type": "stream",
     "text": [
      "Optimized (0?3:(λx=>((x+3)+4)))\n"
     ]
    },
    {
     "data": {
      "text/html": [
       "\n",
       "<style>\n",
       "    #mydiv4a03bad7-74a7-45e8-bcf0-f2ae53663696 {\n",
       "        width: 800px;\n",
       "        height: 350px;\n",
       "        top: 0px;\n",
       "        left: 0px;\n",
       "    }\n",
       "</style>\n",
       "<div id=\"mydiv4a03bad7-74a7-45e8-bcf0-f2ae53663696\"></div>\n"
      ]
     },
     "metadata": {},
     "output_type": "display_data"
    },
    {
     "data": {
      "text/html": [
       "\n",
       "<script>\n",
       " (function(element) {\n",
       "     require(['cytoscape'], function(cytoscape) {   \n",
       "        var cy = cytoscape({\n",
       "         container: document.getElementById('mydiv4a03bad7-74a7-45e8-bcf0-f2ae53663696'),\n",
       "         style: [\n",
       "{\n",
       "  selector: 'node',\n",
       "  css: {\n",
       "    'class': \".bx--tree\",\n",
       "    'label': 'data(label)',\n",
       "    'height': '10px',\n",
       "    'width': '10px',\n",
       "  }\n",
       "},\n",
       "{\n",
       "  selector: 'edge',\n",
       "  css: {\n",
       "    'width': 3,\n",
       "    // 'line-color': '#ccc123',\n",
       "    'curve-style': 'bezier',\n",
       "    'target-arrow-shape': 'triangle',\n",
       "    'target-arrow-fill': 'filled',\n",
       "    'arrow-scale': 1,\n",
       "  }\n",
       "}\n",
       "],\n",
       "         layout: \n",
       "{\n",
       "  name: 'preset'\n",
       "}\n",
       ",\n",
       "         elements: [\n",
       "  {\n",
       "    data: { id: 'conditional1', label: 'if' },\n",
       "    position: { x: 0, y: 0 }\n",
       "  },\n",
       "  { data: { id: 'edge3', source: 'conditional1', target: 'number2' } },\n",
       "  { data: { id: 'edge5', source: 'conditional1', target: 'number4' } },\n",
       "  {\n",
       "    data: { id: 'edge17', source: 'conditional1', target: 'function6' }\n",
       "  },\n",
       "  { data: { id: 'number2', label: 0 }, position: { x: -150, y: 50 } },\n",
       "  { data: { id: 'number4', label: 3 }, position: { x: 0, y: 50 } },\n",
       "  {\n",
       "    data: { id: 'function6', label: 'λ(x)' },\n",
       "    position: { x: 150, y: 50 }\n",
       "  },\n",
       "  { data: { id: 'edge16', source: 'function6', target: 'binary7' } },\n",
       "  { data: { id: 'binary7', label: '+' }, position: { x: 150, y: 100 } },\n",
       "  { data: { id: 'edge13', source: 'binary7', target: 'binary8' } },\n",
       "  { data: { id: 'edge15', source: 'binary7', target: 'number14' } },\n",
       "  {\n",
       "    data: { id: 'binary8', label: '+' },\n",
       "    position: { x: 116.66666666666666, y: 150 }\n",
       "  },\n",
       "  { data: { id: 'edge10', source: 'binary8', target: 'identifier9' } },\n",
       "  { data: { id: 'edge12', source: 'binary8', target: 'number11' } },\n",
       "  {\n",
       "    data: { id: 'identifier9', label: 'x' },\n",
       "    position: { x: 91.66666666666666, y: 200 }\n",
       "  },\n",
       "  {\n",
       "    data: { id: 'number11', label: 3 },\n",
       "    position: { x: 141.66666666666666, y: 200 }\n",
       "  },\n",
       "  {\n",
       "    data: { id: 'number14', label: 4 },\n",
       "    position: { x: 183.33333333333334, y: 150 }\n",
       "  }\n",
       "]\n",
       "         });\n",
       "     });\n",
       " })(this.element);\n",
       "</script>\n"
      ]
     },
     "metadata": {},
     "output_type": "display_data"
    }
   ],
   "source": [
    "const ex7 = \"0 ? (10 / 2)- 1 * 2 : λx => x + 3 + 4\";\n",
    "console.log(\"Original\", E.exprToString(Parser.parse(ex7)));\n",
    "drawProg(ex7);\n",
    "console.log(\"Optimized\", E.exprToString(constantFold2(Parser.parse(ex7))));\n",
    "drawProg(constantFold2(Parser.parse(ex7)));"
   ]
  },
  {
   "cell_type": "markdown",
   "id": "604fafbe",
   "metadata": {},
   "source": [
    "Hmmm ... that didn't work\n",
    "1. x + 3 is an expression\n",
    "2. so therefore our constant folder did not work"
   ]
  },
  {
   "cell_type": "markdown",
   "id": "fdbaf2af",
   "metadata": {},
   "source": [
    "### Aside: soundness vs. completeness\n",
    "\n",
    "1. Both `constantFold` and `constantFold2` are **sound**, i.e., they do the correct thing\n",
    "2. Neither `constantFold` nor `constantFold2 are **complete**, i.e., perform all constant foldings\n",
    "3. In general, cannot be both sound and complete. Languages make the decision to be sound.\n",
    "4. This soundness vs. completeness issue most often appears in **type-checking**."
   ]
  },
  {
   "cell_type": "markdown",
   "id": "cf67fdfd",
   "metadata": {},
   "source": [
    "### Constant Folding with Conditionals"
   ]
  },
  {
   "cell_type": "code",
   "execution_count": 36,
   "id": "2eb8a674",
   "metadata": {},
   "outputs": [],
   "source": [
    "function constantFoldConditional(eCondExpr: E.Expr, eThenExpr: E.Expr, eElseExpr: E.Expr): E.Expr {\n",
    "    if (eCondExpr.tag === \"NUMBER\") {\n",
    "        return eCondExpr.value === 0 ? eElseExpr : eThenExpr;\n",
    "    } else {\n",
    "        return E.mkConditionalExpr(eCondExpr, eThenExpr, eElseExpr);\n",
    "    }\n",
    "}"
   ]
  },
  {
   "cell_type": "code",
   "execution_count": 37,
   "id": "517ddc04",
   "metadata": {},
   "outputs": [],
   "source": [
    "function constantFold3(e: E.Expr): E.Expr {\n",
    "    switch (e.tag) {\n",
    "        case \"NUMBER\": {\n",
    "            return T.mkNumericConstant(e.value); // Nothing to do\n",
    "        }\n",
    "        case \"BINARY\": {\n",
    "            // Note: what can be improved?\n",
    "            return constantFoldBinary(constantFold3(e.left), e.operator, constantFold3(e.right));\n",
    "        }\n",
    "        case \"CONDITIONAL\": {\n",
    "            // Will handle later\n",
    "            return constantFoldConditional(constantFold3(e.condExpr), constantFold3(e.thenExpr), constantFold3(e.elseExpr));\n",
    "        }\n",
    "        case \"FUNCTION\": {\n",
    "            // Recursively perform constant folding\n",
    "            return E.mkFunctionExpr(e.parameter, constantFold3(e.body))\n",
    "        }\n",
    "        case \"IDENTIFIER\": {\n",
    "            return T.mkIdentifier(e.name); // Nothing to do\n",
    "        }\n",
    "        case \"CALL\": {\n",
    "            // Recursively perform constant folding\n",
    "            return E.mkCallExpr(constantFold3(e.func), constantFold3(e.argument));\n",
    "        }\n",
    "        default: {\n",
    "            throw Error(\"Shouldn't happen\");\n",
    "        }\n",
    "    }\n",
    "}"
   ]
  },
  {
   "cell_type": "markdown",
   "id": "52de1c39",
   "metadata": {},
   "source": [
    "#### Example 7 Again"
   ]
  },
  {
   "cell_type": "code",
   "execution_count": 38,
   "id": "6ce561f7",
   "metadata": {},
   "outputs": [
    {
     "name": "stdout",
     "output_type": "stream",
     "text": [
      "Original (0?((10/2)-(1*2)):(λx=>((x+3)+4)))\n"
     ]
    },
    {
     "data": {
      "text/html": [
       "\n",
       "<style>\n",
       "    #mydive899ab18-7215-4027-a420-343cd409aa79 {\n",
       "        width: 800px;\n",
       "        height: 350px;\n",
       "        top: 0px;\n",
       "        left: 0px;\n",
       "    }\n",
       "</style>\n",
       "<div id=\"mydive899ab18-7215-4027-a420-343cd409aa79\"></div>\n"
      ]
     },
     "metadata": {},
     "output_type": "display_data"
    },
    {
     "data": {
      "text/html": [
       "\n",
       "<script>\n",
       " (function(element) {\n",
       "     require(['cytoscape'], function(cytoscape) {   \n",
       "        var cy = cytoscape({\n",
       "         container: document.getElementById('mydive899ab18-7215-4027-a420-343cd409aa79'),\n",
       "         style: [\n",
       "{\n",
       "  selector: 'node',\n",
       "  css: {\n",
       "    'class': \".bx--tree\",\n",
       "    'label': 'data(label)',\n",
       "    'height': '10px',\n",
       "    'width': '10px',\n",
       "  }\n",
       "},\n",
       "{\n",
       "  selector: 'edge',\n",
       "  css: {\n",
       "    'width': 3,\n",
       "    // 'line-color': '#ccc123',\n",
       "    'curve-style': 'bezier',\n",
       "    'target-arrow-shape': 'triangle',\n",
       "    'target-arrow-fill': 'filled',\n",
       "    'arrow-scale': 1,\n",
       "  }\n",
       "}\n",
       "],\n",
       "         layout: \n",
       "{\n",
       "  name: 'preset'\n",
       "}\n",
       ",\n",
       "         elements: [\n",
       "  {\n",
       "    data: { id: 'conditional1', label: 'if' },\n",
       "    position: { x: 0, y: 0 }\n",
       "  },\n",
       "  { data: { id: 'edge3', source: 'conditional1', target: 'number2' } },\n",
       "  { data: { id: 'edge17', source: 'conditional1', target: 'binary4' } },\n",
       "  {\n",
       "    data: { id: 'edge29', source: 'conditional1', target: 'function18' }\n",
       "  },\n",
       "  { data: { id: 'number2', label: 0 }, position: { x: -150, y: 50 } },\n",
       "  { data: { id: 'binary4', label: '-' }, position: { x: 0, y: 50 } },\n",
       "  { data: { id: 'edge10', source: 'binary4', target: 'binary5' } },\n",
       "  { data: { id: 'edge16', source: 'binary4', target: 'binary11' } },\n",
       "  { data: { id: 'binary5', label: '/' }, position: { x: -50, y: 100 } },\n",
       "  { data: { id: 'edge7', source: 'binary5', target: 'number6' } },\n",
       "  { data: { id: 'edge9', source: 'binary5', target: 'number8' } },\n",
       "  {\n",
       "    data: { id: 'number6', label: 10 },\n",
       "    position: { x: -83.33333333333334, y: 150 }\n",
       "  },\n",
       "  {\n",
       "    data: { id: 'number8', label: 2 },\n",
       "    position: { x: -16.666666666666664, y: 150 }\n",
       "  },\n",
       "  { data: { id: 'binary11', label: '*' }, position: { x: 50, y: 100 } },\n",
       "  { data: { id: 'edge13', source: 'binary11', target: 'number12' } },\n",
       "  { data: { id: 'edge15', source: 'binary11', target: 'number14' } },\n",
       "  {\n",
       "    data: { id: 'number12', label: 1 },\n",
       "    position: { x: 16.666666666666664, y: 150 }\n",
       "  },\n",
       "  {\n",
       "    data: { id: 'number14', label: 2 },\n",
       "    position: { x: 83.33333333333334, y: 150 }\n",
       "  },\n",
       "  {\n",
       "    data: { id: 'function18', label: 'λ(x)' },\n",
       "    position: { x: 150, y: 50 }\n",
       "  },\n",
       "  { data: { id: 'edge28', source: 'function18', target: 'binary19' } },\n",
       "  {\n",
       "    data: { id: 'binary19', label: '+' },\n",
       "    position: { x: 150, y: 100 }\n",
       "  },\n",
       "  { data: { id: 'edge25', source: 'binary19', target: 'binary20' } },\n",
       "  { data: { id: 'edge27', source: 'binary19', target: 'number26' } },\n",
       "  {\n",
       "    data: { id: 'binary20', label: '+' },\n",
       "    position: { x: 116.66666666666666, y: 150 }\n",
       "  },\n",
       "  {\n",
       "    data: { id: 'edge22', source: 'binary20', target: 'identifier21' }\n",
       "  },\n",
       "  { data: { id: 'edge24', source: 'binary20', target: 'number23' } },\n",
       "  {\n",
       "    data: { id: 'identifier21', label: 'x' },\n",
       "    position: { x: 91.66666666666666, y: 200 }\n",
       "  },\n",
       "  {\n",
       "    data: { id: 'number23', label: 3 },\n",
       "    position: { x: 141.66666666666666, y: 200 }\n",
       "  },\n",
       "  {\n",
       "    data: { id: 'number26', label: 4 },\n",
       "    position: { x: 183.33333333333334, y: 150 }\n",
       "  }\n",
       "]\n",
       "         });\n",
       "     });\n",
       " })(this.element);\n",
       "</script>\n"
      ]
     },
     "metadata": {},
     "output_type": "display_data"
    },
    {
     "name": "stdout",
     "output_type": "stream",
     "text": [
      "Optimized (λx=>((x+3)+4))\n"
     ]
    },
    {
     "data": {
      "text/html": [
       "\n",
       "<style>\n",
       "    #mydiv4a71a6a8-5a0b-4ad6-bffb-e2a33a33e042 {\n",
       "        width: 800px;\n",
       "        height: 350px;\n",
       "        top: 0px;\n",
       "        left: 0px;\n",
       "    }\n",
       "</style>\n",
       "<div id=\"mydiv4a71a6a8-5a0b-4ad6-bffb-e2a33a33e042\"></div>\n"
      ]
     },
     "metadata": {},
     "output_type": "display_data"
    },
    {
     "data": {
      "text/html": [
       "\n",
       "<script>\n",
       " (function(element) {\n",
       "     require(['cytoscape'], function(cytoscape) {   \n",
       "        var cy = cytoscape({\n",
       "         container: document.getElementById('mydiv4a71a6a8-5a0b-4ad6-bffb-e2a33a33e042'),\n",
       "         style: [\n",
       "{\n",
       "  selector: 'node',\n",
       "  css: {\n",
       "    'class': \".bx--tree\",\n",
       "    'label': 'data(label)',\n",
       "    'height': '10px',\n",
       "    'width': '10px',\n",
       "  }\n",
       "},\n",
       "{\n",
       "  selector: 'edge',\n",
       "  css: {\n",
       "    'width': 3,\n",
       "    // 'line-color': '#ccc123',\n",
       "    'curve-style': 'bezier',\n",
       "    'target-arrow-shape': 'triangle',\n",
       "    'target-arrow-fill': 'filled',\n",
       "    'arrow-scale': 1,\n",
       "  }\n",
       "}\n",
       "],\n",
       "         layout: \n",
       "{\n",
       "  name: 'preset'\n",
       "}\n",
       ",\n",
       "         elements: [\n",
       "  {\n",
       "    data: { id: 'function1', label: 'λ(x)' },\n",
       "    position: { x: 0, y: 0 }\n",
       "  },\n",
       "  { data: { id: 'edge11', source: 'function1', target: 'binary2' } },\n",
       "  { data: { id: 'binary2', label: '+' }, position: { x: 0, y: 50 } },\n",
       "  { data: { id: 'edge8', source: 'binary2', target: 'binary3' } },\n",
       "  { data: { id: 'edge10', source: 'binary2', target: 'number9' } },\n",
       "  { data: { id: 'binary3', label: '+' }, position: { x: -50, y: 100 } },\n",
       "  { data: { id: 'edge5', source: 'binary3', target: 'identifier4' } },\n",
       "  { data: { id: 'edge7', source: 'binary3', target: 'number6' } },\n",
       "  {\n",
       "    data: { id: 'identifier4', label: 'x' },\n",
       "    position: { x: -83.33333333333334, y: 150 }\n",
       "  },\n",
       "  {\n",
       "    data: { id: 'number6', label: 3 },\n",
       "    position: { x: -16.666666666666664, y: 150 }\n",
       "  },\n",
       "  { data: { id: 'number9', label: 4 }, position: { x: 50, y: 100 } }\n",
       "]\n",
       "         });\n",
       "     });\n",
       " })(this.element);\n",
       "</script>\n"
      ]
     },
     "metadata": {},
     "output_type": "display_data"
    }
   ],
   "source": [
    "const ex7 = \"0 ? (10 / 2)- 1 * 2 : λx => x + 3 + 4\";\n",
    "console.log(\"Original\", E.exprToString(Parser.parse(ex7)));\n",
    "drawProg(ex7);\n",
    "console.log(\"Optimized\", E.exprToString(constantFold3(Parser.parse(ex7))));\n",
    "drawProg(constantFold3(Parser.parse(ex7)));"
   ]
  },
  {
   "cell_type": "markdown",
   "id": "0f056357",
   "metadata": {},
   "source": [
    "### Summary\n",
    "\n",
    "1. Constant folding is one of many optimizations that many compilers perform.\n",
    "2. Many \"hand-performed\" optimizations can be done with a compiler.\n",
    "3. Obviously, there are limits to compiler optimization. Compiler optimizations are sound, but not necessarily complete."
   ]
  },
  {
   "cell_type": "markdown",
   "id": "e8084fda",
   "metadata": {},
   "source": [
    "### Making Your Code Lazy: Code transformation that changes the semantics of your code\n",
    "\n",
    "**Problem**: suppose you want to transpile Haskell code to TypeScript code. The problem is that Haskell is a lazy language but TypeScript has eager semantics. How would you do this?\n",
    "\n",
    "**Related problem**: suppose we have an interpreter for lambdaTS that has eager semantics, but we want it to have lazy semantics. What's an alternative to writing another interpreter for lambdaTS?"
   ]
  },
  {
   "cell_type": "code",
   "execution_count": 39,
   "id": "469d46e3",
   "metadata": {},
   "outputs": [],
   "source": [
    "function toLazyExpr(e: E.Expr): E.Expr {\n",
    "    switch (e.tag) {\n",
    "        case \"NUMBER\": {\n",
    "            return T.mkNumericConstant(e.value);\n",
    "        }\n",
    "        case \"BINARY\": {\n",
    "            return E.mkBinaryExpr(toLazyExpr(e.left), e.operator, toLazyExpr(e.right));\n",
    "        }\n",
    "        case \"CONDITIONAL\": {\n",
    "            return E.mkConditionalExpr(toLazyExpr(e.condExpr), toLazyExpr(e.thenExpr), toLazyExpr(e.elseExpr));\n",
    "        }\n",
    "        case \"FUNCTION\": {\n",
    "            return E.mkFunctionExpr(e.parameter, toLazyExpr(e.body))\n",
    "        }\n",
    "        case \"IDENTIFIER\": {\n",
    "            // Evaluate the thunk with an arbitrary input (thunk's argument is never used).\n",
    "            return E.mkCallExpr(T.mkIdentifier(e.name), T.mkNumericConstant(42));\n",
    "        }\n",
    "        case \"CALL\": {\n",
    "            // Delay the evaluation of the argument of a call by wrapping it in a thunk.\n",
    "            const thunk = E.mkFunctionExpr(\"unit\", toLazyExpr(e.argument));\n",
    "            return E.mkCallExpr(toLazyExpr(e.func), thunk);\n",
    "        }\n",
    "        default: {\n",
    "            throw Error(\"Shouldn't happen\");\n",
    "        }\n",
    "    }\n",
    "}"
   ]
  },
  {
   "cell_type": "markdown",
   "id": "915082b1",
   "metadata": {},
   "source": [
    "### Example"
   ]
  },
  {
   "cell_type": "code",
   "execution_count": 40,
   "id": "0d1d6196",
   "metadata": {},
   "outputs": [
    {
     "name": "stdout",
     "output_type": "stream",
     "text": [
      "(λx=>3)((λunit=>(4+(λy=>y(42)))))\n"
     ]
    }
   ],
   "source": [
    "E.exprToString(toLazyExpr(Parser.parse(\"(λx => 3)(4 + (λy => y))\")))"
   ]
  },
  {
   "cell_type": "code",
   "execution_count": 41,
   "id": "f5d68820",
   "metadata": {},
   "outputs": [
    {
     "name": "stdout",
     "output_type": "stream",
     "text": [
      "Error: Attempting [object Object] + [object Object]\n",
      "    at interpretBinop (/Users/dehuang/Documents/teaching/csc600/f22/lectures/lib/lambdats/substInterp.js:74:15)\n",
      "    at interpret (/Users/dehuang/Documents/teaching/csc600/f22/lectures/lib/lambdats/substInterp.js:84:20)\n",
      "    at Object.interpret (/Users/dehuang/Documents/teaching/csc600/f22/lectures/lib/lambdats/substInterp.js:104:29)\n",
      "    at evalmachine.<anonymous>:4:32\n",
      "    at evalmachine.<anonymous>:10:3\n",
      "\u001b[90m    at sigintHandlersWrap (node:vm:268:12)\u001b[39m\n",
      "\u001b[90m    at Script.runInThisContext (node:vm:127:14)\u001b[39m\n",
      "\u001b[90m    at Object.runInThisContext (node:vm:305:38)\u001b[39m\n",
      "    at Object.execute (/Users/dehuang/Documents/teaching/csc600/f22/lectures/node_modules/\u001b[4mtslab\u001b[24m/dist/executor.js:162:38)\n",
      "    at JupyterHandlerImpl.handleExecuteImpl (/Users/dehuang/Documents/teaching/csc600/f22/lectures/node_modules/\u001b[4mtslab\u001b[24m/dist/jupyter.js:219:38)\n"
     ]
    }
   ],
   "source": [
    "try {\n",
    "    // Should error\n",
    "    drawProg(I.interpret(Parser.parse(\"(λx => 3)(4 + (λy => y))\")));\n",
    "} catch(err) {\n",
    "    console.log(err);\n",
    "}"
   ]
  },
  {
   "cell_type": "code",
   "execution_count": 42,
   "id": "d78d9d45",
   "metadata": {
    "scrolled": true
   },
   "outputs": [
    {
     "data": {
      "text/html": [
       "\n",
       "<style>\n",
       "    #mydiv72e076b2-97f9-469a-8c60-d9543c50681e {\n",
       "        width: 800px;\n",
       "        height: 350px;\n",
       "        top: 0px;\n",
       "        left: 0px;\n",
       "    }\n",
       "</style>\n",
       "<div id=\"mydiv72e076b2-97f9-469a-8c60-d9543c50681e\"></div>\n"
      ]
     },
     "metadata": {},
     "output_type": "display_data"
    },
    {
     "data": {
      "text/html": [
       "\n",
       "<script>\n",
       " (function(element) {\n",
       "     require(['cytoscape'], function(cytoscape) {   \n",
       "        var cy = cytoscape({\n",
       "         container: document.getElementById('mydiv72e076b2-97f9-469a-8c60-d9543c50681e'),\n",
       "         style: [\n",
       "{\n",
       "  selector: 'node',\n",
       "  css: {\n",
       "    'class': \".bx--tree\",\n",
       "    'label': 'data(label)',\n",
       "    'height': '10px',\n",
       "    'width': '10px',\n",
       "  }\n",
       "},\n",
       "{\n",
       "  selector: 'edge',\n",
       "  css: {\n",
       "    'width': 3,\n",
       "    // 'line-color': '#ccc123',\n",
       "    'curve-style': 'bezier',\n",
       "    'target-arrow-shape': 'triangle',\n",
       "    'target-arrow-fill': 'filled',\n",
       "    'arrow-scale': 1,\n",
       "  }\n",
       "}\n",
       "],\n",
       "         layout: \n",
       "{\n",
       "  name: 'preset'\n",
       "}\n",
       ",\n",
       "         elements: [ { data: { id: 'number1', label: 3 }, position: { x: 0, y: 0 } } ]\n",
       "         });\n",
       "     });\n",
       " })(this.element);\n",
       "</script>\n"
      ]
     },
     "metadata": {},
     "output_type": "display_data"
    }
   ],
   "source": [
    "// The lazy program does not error!\n",
    "drawProg(I.interpret(toLazyExpr(Parser.parse(\"(λx => 3)(4 + (λy => y))\"))));"
   ]
  },
  {
   "cell_type": "markdown",
   "id": "11bbea78",
   "metadata": {},
   "source": [
    "## Summary\n",
    "\n",
    "1. Compilers and transpilers are programs that convert ASTs in one language into ASTs in another language.\n",
    "2. Compilers/transpilers can be used for code optimization.\n",
    "3. Compilers/transpilers can be used to convert between languages with different semantics."
   ]
  },
  {
   "cell_type": "code",
   "execution_count": null,
   "id": "27c01210",
   "metadata": {},
   "outputs": [],
   "source": []
  }
 ],
 "metadata": {
  "kernelspec": {
   "display_name": "TypeScript",
   "language": "typescript",
   "name": "typescript"
  },
  "language_info": {
   "codemirror_mode": {
    "mode": "typescript",
    "name": "javascript",
    "typescript": true
   },
   "file_extension": ".ts",
   "mimetype": "text/typescript",
   "name": "typescript",
   "version": "3.7.2"
  }
 },
 "nbformat": 4,
 "nbformat_minor": 5
}
