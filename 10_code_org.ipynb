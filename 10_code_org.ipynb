{
 "cells": [
  {
   "cell_type": "code",
   "execution_count": 1,
   "id": "5832ff04",
   "metadata": {},
   "outputs": [
    {
     "data": {
      "text/html": [
       "\n",
       "  <link rel=\"stylesheet\" href=\"node_modules/carbon-components/css/carbon-components.css\">\n",
       "  "
      ]
     },
     "metadata": {},
     "output_type": "display_data"
    },
    {
     "data": {
      "text/html": [
       "\n",
       "<script>\n",
       "require.config({\n",
       "     paths: {\n",
       "     cytoscape: 'https://cdnjs.cloudflare.com/ajax/libs/cytoscape/3.19.0/cytoscape.min'\n",
       "}});\n",
       "</script>\n",
       "  "
      ]
     },
     "metadata": {},
     "output_type": "display_data"
    }
   ],
   "source": [
    "import { requireCytoscape, requireCarbon } from \"./lib/draw\";\n",
    "\n",
    "requireCarbon();\n",
    "requireCytoscape();"
   ]
  },
  {
   "cell_type": "markdown",
   "id": "759ccd25",
   "metadata": {},
   "source": [
    "# Code Organization"
   ]
  },
  {
   "cell_type": "markdown",
   "id": "fdf356b3",
   "metadata": {},
   "source": [
    "## Where were we?\n",
    "\n",
    "1. Language primitives (i.e., building blocks of languages)\n",
    "2. **Language paradigms** (i.e., combinations of language primitives)\n",
    "    - Last time: problem-solving\n",
    "    - This time: object-oriented programming (OOP) vs. functional\n",
    "3. Building a language (i.e., designing your own language)"
   ]
  },
  {
   "cell_type": "markdown",
   "id": "adfdb549",
   "metadata": {},
   "source": [
    "## Goals\n",
    "\n",
    "* Compare object-oriented and procedural/functional ways of organizing code.\n",
    "* Learn the trade-offs of each.\n",
    "* Learn about the **expression problem**."
   ]
  },
  {
   "cell_type": "markdown",
   "id": "dffa50cf",
   "metadata": {},
   "source": [
    "## Programs are made up of two things:\n",
    "\n",
    "* Data\n",
    "* Code\n",
    "\n",
    "There are two ways to think of the relationship between the two:\n",
    "\n",
    "* Package code and data **together** (object-oriented programming).\n",
    "* Package code and data **separately** (functional and procedural programming)."
   ]
  },
  {
   "cell_type": "code",
   "execution_count": 2,
   "id": "daa326c9",
   "metadata": {},
   "outputs": [],
   "source": [
    "// Familiar OOP\n",
    "class User {\n",
    "    private readonly firstName: string;  // Data\n",
    "    private readonly lastName: string;   // Data\n",
    "\n",
    "    constructor(firstName: string, lastName: string) {\n",
    "        this.firstName = firstName;\n",
    "        this.lastName = lastName;\n",
    "    }\n",
    "\n",
    "    public fullName(): string {  // Code/method\n",
    "        return this.firstName + \" \" + this.lastName;\n",
    "    }\n",
    "}"
   ]
  },
  {
   "cell_type": "code",
   "execution_count": 3,
   "id": "b41107a0",
   "metadata": {},
   "outputs": [
    {
     "name": "stdout",
     "output_type": "stream",
     "text": [
      "John Smith\n"
     ]
    }
   ],
   "source": [
    "const user = new User(\"John\", \"Smith\");\n",
    "user.fullName();"
   ]
  },
  {
   "cell_type": "code",
   "execution_count": 4,
   "id": "cbdd7d0a",
   "metadata": {},
   "outputs": [],
   "source": [
    "// Strange OOP\n",
    "class User {\n",
    "    public readonly firstName: string;  // Data\n",
    "    public readonly lastName: string;   // Data\n",
    "\n",
    "    constructor(firstName: string, lastName: string) {\n",
    "        this.firstName = firstName;\n",
    "        this.lastName = lastName;\n",
    "    }\n",
    "}\n",
    "\n",
    "function fullName(user: User): string {  // Code\n",
    "    return user.firstName + \" \" + user.lastName;\n",
    "}"
   ]
  },
  {
   "cell_type": "code",
   "execution_count": 5,
   "id": "8dbf1274",
   "metadata": {},
   "outputs": [
    {
     "name": "stdout",
     "output_type": "stream",
     "text": [
      "John Smith\n"
     ]
    }
   ],
   "source": [
    "const user = new User(\"John\", \"Smith\");\n",
    "fullName(user);"
   ]
  },
  {
   "cell_type": "code",
   "execution_count": 6,
   "id": "19d91a59",
   "metadata": {},
   "outputs": [],
   "source": [
    "// Familiar ADT\n",
    "// ---------------------------------------------------\n",
    "// File 1\n",
    "type User = {\n",
    "    firstName: string,  // Data\n",
    "    lastName: string    // Data\n",
    "};\n",
    "\n",
    "function newUser(firstName: string, lastName: string): User {\n",
    "    // Replaces constructor\n",
    "    return {\n",
    "        firstName: firstName,\n",
    "        lastName: lastName\n",
    "    };\n",
    "}\n",
    "// ---------------------------------------------------"
   ]
  },
  {
   "cell_type": "code",
   "execution_count": 7,
   "id": "db064bd9",
   "metadata": {},
   "outputs": [],
   "source": [
    "// ---------------------------------------------------\n",
    "// File 2\n",
    "function fullName(user: User): string {  // Code\n",
    "    return user.firstName + \" \" + user.lastName;\n",
    "}\n",
    "// ---------------------------------------------------"
   ]
  },
  {
   "cell_type": "code",
   "execution_count": 8,
   "id": "32ec6b0a",
   "metadata": {},
   "outputs": [
    {
     "name": "stdout",
     "output_type": "stream",
     "text": [
      "John Smith\n"
     ]
    }
   ],
   "source": [
    "const user = newUser(\"John\", \"Smith\");\n",
    "fullName(user);"
   ]
  },
  {
   "cell_type": "markdown",
   "id": "5b82f052",
   "metadata": {},
   "source": [
    "## A more detailed comparison\n",
    "\n",
    "Let's compare and contrast implementing a library of shapes with OOP and functional styles."
   ]
  },
  {
   "cell_type": "code",
   "execution_count": 9,
   "id": "353092b8",
   "metadata": {},
   "outputs": [],
   "source": [
    "interface Shape {\n",
    "    /**\n",
    "     * Return the area of the shape, in whatever units it was defined in.\n",
    "     */\n",
    "    area(): number;\n",
    "    /**\n",
    "     * Return a string that represents the shape type and its parameter.\n",
    "     */\n",
    "    print(): string;\n",
    "}"
   ]
  },
  {
   "cell_type": "markdown",
   "id": "3f7b48c8",
   "metadata": {},
   "source": [
    "### Shape 1: Box"
   ]
  },
  {
   "cell_type": "code",
   "execution_count": 10,
   "id": "1255ff70",
   "metadata": {},
   "outputs": [],
   "source": [
    "class Box implements Shape {\n",
    "    public readonly width: number;\n",
    "    public readonly height: number;\n",
    "\n",
    "    constructor(width: number, height: number) {\n",
    "        this.width = width;\n",
    "        this.height = height;\n",
    "    }\n",
    "\n",
    "    area(): number {\n",
    "        return this.width*this.height;\n",
    "    }\n",
    "\n",
    "    print(): string {\n",
    "        return \"Box(\" + this.width + \",\" + this.height + \")\";\n",
    "    }\n",
    "}"
   ]
  },
  {
   "cell_type": "code",
   "execution_count": 11,
   "id": "9d5f6da4",
   "metadata": {},
   "outputs": [
    {
     "name": "stdout",
     "output_type": "stream",
     "text": [
      "[ \u001b[33m6\u001b[39m, \u001b[32m'Box(2,3)'\u001b[39m ]\n"
     ]
    }
   ],
   "source": [
    "const box = new Box(2, 3);\n",
    "[box.area(), box.print()]"
   ]
  },
  {
   "cell_type": "markdown",
   "id": "47126a74",
   "metadata": {},
   "source": [
    "### Shape 2: Circle"
   ]
  },
  {
   "cell_type": "code",
   "execution_count": 12,
   "id": "600703fb",
   "metadata": {},
   "outputs": [],
   "source": [
    "class Circle implements Shape {\n",
    "    private readonly radius: number;\n",
    "    \n",
    "    constructor(radius: number) {\n",
    "        this.radius = radius;\n",
    "    }\n",
    "\n",
    "    // Method\n",
    "    area(): number {\n",
    "        // pi r^2\n",
    "        return Math.PI*this.radius*this.radius;\n",
    "    }\n",
    "\n",
    "    // Method\n",
    "    print(): string {\n",
    "        return \"Circle(\" + this.radius + \")\";\n",
    "    }\n",
    "}"
   ]
  },
  {
   "cell_type": "code",
   "execution_count": 13,
   "id": "c1ef3d8c",
   "metadata": {},
   "outputs": [
    {
     "name": "stdout",
     "output_type": "stream",
     "text": [
      "[ \u001b[33m50.26548245743669\u001b[39m, \u001b[32m'Circle(4)'\u001b[39m ]\n"
     ]
    }
   ],
   "source": [
    "const circle = new Circle(4);\n",
    "[circle.area(), circle.print()]"
   ]
  },
  {
   "cell_type": "markdown",
   "id": "ccdc8fcc",
   "metadata": {},
   "source": [
    "### Mixing Shapes"
   ]
  },
  {
   "cell_type": "code",
   "execution_count": 14,
   "id": "faeb96fd",
   "metadata": {},
   "outputs": [
    {
     "name": "stdout",
     "output_type": "stream",
     "text": [
      "area: \u001b[33m6\u001b[39m print: Box(2,3)\n",
      "area: \u001b[33m50.26548245743669\u001b[39m print: Circle(4)\n"
     ]
    }
   ],
   "source": [
    "const shapes: Shape[] = [\n",
    "    new Box(2, 3), \n",
    "    new Circle(4),\n",
    "];\n",
    "\n",
    "for (const shape of shapes) {\n",
    "    console.log(\"area:\", shape.area(), \"print:\", shape.print());\n",
    "}"
   ]
  },
  {
   "cell_type": "markdown",
   "id": "54a3e10f",
   "metadata": {},
   "source": [
    "This is called ***dynamic dispatch***. When we call `shape.area()`, the system figures out which one we want (the box or circle one) depending on the type of the object. The word ***dispatch*** means to send something (in this case a message to the function), and ***dynamic*** means that it's not until the code runs that we know which one to call.\n",
    "\n",
    "![Heap shapes](media/heap-shapes.svg)"
   ]
  },
  {
   "cell_type": "markdown",
   "id": "61fe5da1",
   "metadata": {},
   "source": [
    "#### More on dynamic dispatch"
   ]
  },
  {
   "cell_type": "code",
   "execution_count": 15,
   "id": "0a490e66",
   "metadata": {},
   "outputs": [],
   "source": [
    "class Square extends Box {\n",
    "    constructor(size: number) {\n",
    "        super(size, size);\n",
    "    }\n",
    "\n",
    "    print(): string {\n",
    "        // 1: Override\n",
    "        return \"Square(\" + this.width + \")\";\n",
    "    }\n",
    "    \n",
    "    // 2: inherit area\n",
    "}"
   ]
  },
  {
   "cell_type": "code",
   "execution_count": 16,
   "id": "0875c277",
   "metadata": {},
   "outputs": [
    {
     "name": "stdout",
     "output_type": "stream",
     "text": [
      "[ \u001b[33m25\u001b[39m, \u001b[32m'Square(5)'\u001b[39m ]\n"
     ]
    }
   ],
   "source": [
    "const shape3: Shape = new Square(5);\n",
    "[shape3.area(), shape3.print()]"
   ]
  },
  {
   "cell_type": "code",
   "execution_count": 17,
   "id": "60beb622",
   "metadata": {},
   "outputs": [],
   "source": [
    "class Square2 extends Square {\n",
    "    constructor(size: number) {\n",
    "        super(size*2);\n",
    "    }\n",
    "\n",
    "    print(): string {\n",
    "        // 1: Override\n",
    "        return \"Square2(\" + this.width + \")\";\n",
    "    }\n",
    "    \n",
    "    // 2: inherit area\n",
    "}"
   ]
  },
  {
   "cell_type": "code",
   "execution_count": 18,
   "id": "4ad95108",
   "metadata": {},
   "outputs": [
    {
     "name": "stdout",
     "output_type": "stream",
     "text": [
      "[ \u001b[33m100\u001b[39m, \u001b[32m'Square2(10)'\u001b[39m ]\n"
     ]
    }
   ],
   "source": [
    "const shape4: Shape = new Square2(5);\n",
    "[shape4.area(), shape4.print()]"
   ]
  },
  {
   "cell_type": "markdown",
   "id": "0b9048c1",
   "metadata": {},
   "source": [
    "The `Square` class overrides the constructor to force the width and height to be the same, and overrides the `print()` method to make it clear that it's a square. The `area()` method can be left alone since it already computes the right thing. Objects of the type `Square` will just use the superclass `Box`'s `area()` method.\n",
    "\n",
    "Our heap now looks like this:\n",
    "\n",
    "![Heap square](media/heap-square.svg)\n",
    "\n",
    "* Why does the new square have both a width and height?\n",
    "* Why is the square's `area()` method gray and why does it point to the box's v-table?\n"
   ]
  },
  {
   "cell_type": "markdown",
   "id": "7e88e175",
   "metadata": {},
   "source": [
    "#### Remember we can encode classes with closures\n",
    "\n",
    "The vtable in code ..."
   ]
  },
  {
   "cell_type": "code",
   "execution_count": 19,
   "id": "b6246dda",
   "metadata": {},
   "outputs": [],
   "source": [
    "type Shape = {\n",
    "    tag: string,                   // tells the objects at runtime I'm box, circle, ...\n",
    "    [id: string]: any,             // contains fields of object\n",
    "    vtable: { [id: string]: any }  // contains area, print\n",
    "};\n",
    "\n",
    "function newBox(width: number, height: number): Shape {\n",
    "    return {\n",
    "        tag: \"BOX\",\n",
    "        width: width,    // field 1 \n",
    "        height: height,  // field 2\n",
    "        vtable: {\n",
    "            area: () => width*height, // example of closure\n",
    "            print: () => \"Box(\" + width + \",\" + height + \")\"\n",
    "        }\n",
    "    };\n",
    "}\n",
    "\n",
    "function newCircle(radius: number): Shape {\n",
    "    return {\n",
    "        tag: \"CIRCLE\",\n",
    "        radius: radius,  // field 1\n",
    "        vtable: {\n",
    "            area: () => Math.PI*radius*radius,\n",
    "            print: () => \"Circle(\" + radius + \")\"\n",
    "        }\n",
    "    };\n",
    "}"
   ]
  },
  {
   "cell_type": "code",
   "execution_count": 20,
   "id": "cc9da15f",
   "metadata": {},
   "outputs": [],
   "source": [
    "// If you didn't have inheritance, you might write code that looks like this\n",
    "function newSquare(size: number): Shape {\n",
    "    const box = newBox(size, size);\n",
    "    return {\n",
    "        tag: \"SQUARE\",\n",
    "        box: box,\n",
    "        vtable: {\n",
    "            area: () => box.vtable.area(),       // inheritance\n",
    "            print: () => \"Square(\" + size + \")\"  // override print\n",
    "        }\n",
    "    };\n",
    "}"
   ]
  },
  {
   "cell_type": "markdown",
   "id": "2d0f140b",
   "metadata": {},
   "source": [
    "### What's the functional approach look like?"
   ]
  },
  {
   "cell_type": "code",
   "execution_count": 21,
   "id": "27bc19cc",
   "metadata": {},
   "outputs": [],
   "source": [
    "type Box = {\n",
    "    tag: \"BOX\",\n",
    "    width: number,\n",
    "    height: number\n",
    "};\n",
    "\n",
    "function newBox(width: number, height: number): Box {\n",
    "    return {\n",
    "        tag: \"BOX\",\n",
    "        width: width,\n",
    "        height: height\n",
    "    };\n",
    "}"
   ]
  },
  {
   "cell_type": "code",
   "execution_count": 22,
   "id": "98056739",
   "metadata": {},
   "outputs": [],
   "source": [
    "type Circle = {\n",
    "    tag: \"CIRCLE\",\n",
    "    radius: number\n",
    "};\n",
    "\n",
    "function newCircle(radius: number): Circle {\n",
    "    return {\n",
    "        tag: \"CIRCLE\",\n",
    "        radius: radius\n",
    "    };\n",
    "}"
   ]
  },
  {
   "cell_type": "code",
   "execution_count": 23,
   "id": "28fed816",
   "metadata": {},
   "outputs": [],
   "source": [
    "type Shape = Box | Circle;  // Sum type"
   ]
  },
  {
   "cell_type": "code",
   "execution_count": 24,
   "id": "fe41f540",
   "metadata": {},
   "outputs": [],
   "source": [
    "function area(shape: Shape): number {\n",
    "    switch (shape.tag) {  // Dynamic dispatch in code\n",
    "        case \"BOX\": {\n",
    "            return shape.width*shape.height;\n",
    "        }\n",
    "        case \"CIRCLE\": {\n",
    "            return Math.PI*shape.radius*shape.radius;\n",
    "        }\n",
    "    }\n",
    "}"
   ]
  },
  {
   "cell_type": "code",
   "execution_count": 25,
   "id": "bda6b0ed",
   "metadata": {},
   "outputs": [],
   "source": [
    "function print(shape: Shape): string {\n",
    "    switch (shape.tag) {  // Dynamic dispatch in code\n",
    "        case \"BOX\": {\n",
    "            return \"Box(\" + shape.width + \",\" + shape.height + \")\";\n",
    "        }\n",
    "        case \"CIRCLE\": {\n",
    "            return \"Circle(\" + shape.radius + \")\";\n",
    "        }\n",
    "    }\n",
    "}"
   ]
  },
  {
   "cell_type": "markdown",
   "id": "42ce4664",
   "metadata": {},
   "source": [
    "## Tradeoffs between how we package code and data"
   ]
  },
  {
   "cell_type": "markdown",
   "id": "f820bd50",
   "metadata": {},
   "source": [
    "### Challenge 1: Creating new Shapes"
   ]
  },
  {
   "cell_type": "code",
   "execution_count": 26,
   "id": "910fec99",
   "metadata": {},
   "outputs": [],
   "source": [
    "interface Shape {\n",
    "    /**\n",
    "     * Return the area of the shape, in whatever units it was defined in.\n",
    "     */\n",
    "    area(): number;\n",
    "    /**\n",
    "     * Return a string that represents the shape type and its parameter.\n",
    "     */\n",
    "    print(): string;\n",
    "}"
   ]
  },
  {
   "cell_type": "code",
   "execution_count": 27,
   "id": "678f2e71",
   "metadata": {},
   "outputs": [],
   "source": [
    "class Triangle implements Shape {\n",
    "    public readonly base: number;\n",
    "    public readonly height: number;\n",
    "    \n",
    "    constructor(base: number, height: number) {\n",
    "        this.base = base;\n",
    "        this.height = height;\n",
    "    }\n",
    "\n",
    "    area(): number {\n",
    "        return 0.5*this.base*this.height;\n",
    "    }\n",
    "\n",
    "    print(): string {\n",
    "        return \"Triangle(\" + this.base + \", \" + this.height + \")\";\n",
    "    }\n",
    "}"
   ]
  },
  {
   "cell_type": "code",
   "execution_count": 28,
   "id": "4bf31965",
   "metadata": {},
   "outputs": [
    {
     "name": "stdout",
     "output_type": "stream",
     "text": [
      "[ \u001b[33m21\u001b[39m, \u001b[32m'Triangle(6, 7)'\u001b[39m ]\n"
     ]
    }
   ],
   "source": [
    "const shape4: Shape = new Triangle(6, 7);\n",
    "[shape4.area(), shape4.print()]"
   ]
  },
  {
   "cell_type": "markdown",
   "id": "8d3bcc1f",
   "metadata": {},
   "source": [
    "#### That was easy in OO style, what about Functional?"
   ]
  },
  {
   "cell_type": "code",
   "execution_count": 29,
   "id": "654e6101",
   "metadata": {},
   "outputs": [],
   "source": [
    "type Triangle = {\n",
    "    tag: \"TRIANGLE\",\n",
    "    base: number,\n",
    "    height: number\n",
    "};\n",
    "\n",
    "function newTriangle(base: number, height: number): Triangle {\n",
    "    return {\n",
    "        tag: \"TRIANGLE\",\n",
    "        base: base,\n",
    "        height: height\n",
    "    };\n",
    "}"
   ]
  },
  {
   "cell_type": "code",
   "execution_count": 30,
   "id": "3d0063b7",
   "metadata": {},
   "outputs": [],
   "source": [
    "type Shape = Box | Circle | Triangle;  // Sum type, have to modify this\n",
    "\n",
    "function area(shape: Shape): number {\n",
    "    switch (shape.tag) {  // Dynamic dispatch in code\n",
    "        case \"BOX\": {\n",
    "            return shape.width*shape.height;\n",
    "        }\n",
    "        case \"CIRCLE\": {\n",
    "            return Math.PI*shape.radius*shape.radius;\n",
    "        }\n",
    "        // Add this\n",
    "        case \"TRIANGLE\": {  // Have to modify this\n",
    "            return 0.5*shape.base*shape.height;\n",
    "        }\n",
    "    }\n",
    "}\n",
    "\n",
    "function print(shape: Shape): string {\n",
    "    switch (shape.tag) {  // Dynamic dispatch in code\n",
    "        case \"BOX\": {\n",
    "            return \"Box(\" + shape.width + \",\" + shape.height + \")\";\n",
    "        }\n",
    "        case \"CIRCLE\": {\n",
    "            return \"Circle(\" + shape.radius + \")\";\n",
    "        }\n",
    "        // Add this\n",
    "        case \"TRIANGLE\": {  // Have to modify this\n",
    "            return \"Triangle(\" + shape.base + \", \" + shape.height + \")\";\n",
    "        }\n",
    "    }\n",
    "}"
   ]
  },
  {
   "cell_type": "markdown",
   "id": "ccd47436",
   "metadata": {},
   "source": [
    "#### Summary\n",
    "\n",
    "- When adding a new shape, you got more things \"for free\" in OO\n",
    "- In particular, you did not need to modify the area and print function."
   ]
  },
  {
   "cell_type": "markdown",
   "id": "edfd852a",
   "metadata": {},
   "source": [
    "### Challenge 2: Adding new functionality on shape"
   ]
  },
  {
   "cell_type": "code",
   "execution_count": 31,
   "id": "28506ba4",
   "metadata": {},
   "outputs": [],
   "source": [
    "interface Shape {\n",
    "    /**\n",
    "     * Return the area of the shape, in whatever units it was defined in.\n",
    "     */\n",
    "    area(): number;\n",
    "    /**\n",
    "     * Return a string that represents the shape type and its parameter.\n",
    "     */\n",
    "    print(): string;\n",
    "    /**\n",
    "     * Return the perimeter of the shape, in whatever units it was defined in.\n",
    "     */\n",
    "    perimeter(): number;\n",
    "}"
   ]
  },
  {
   "cell_type": "code",
   "execution_count": 32,
   "id": "821e7416",
   "metadata": {},
   "outputs": [],
   "source": [
    "class Box implements Shape {\n",
    "    public readonly width: number;\n",
    "    public readonly height: number;\n",
    "\n",
    "    constructor(width: number, height: number) {\n",
    "        this.width = width;\n",
    "        this.height = height;\n",
    "    }\n",
    "\n",
    "    area(): number {\n",
    "        return this.width*this.height;\n",
    "    }\n",
    "\n",
    "    print(): string {\n",
    "        return \"Box(\" + this.width + \",\" + this.height + \")\";\n",
    "    }\n",
    "    \n",
    "    perimeter(): number {  // have to modify this\n",
    "        return 2*this.width + 2*this.height;\n",
    "    }\n",
    "}"
   ]
  },
  {
   "cell_type": "code",
   "execution_count": 33,
   "id": "9e70d829",
   "metadata": {},
   "outputs": [],
   "source": [
    "class Circle implements Shape {\n",
    "    public readonly radius: number;\n",
    "    \n",
    "    constructor(radius: number) {\n",
    "        this.radius = radius;\n",
    "    }\n",
    "\n",
    "    area(): number {\n",
    "        return Math.PI*this.radius*this.radius;\n",
    "    }\n",
    "\n",
    "    print(): string {\n",
    "        return \"Circle(\" + this.radius + \")\";\n",
    "    }\n",
    "    \n",
    "    perimeter(): number {  // have to modify this\n",
    "        return Math.PI*this.radius*2.0;\n",
    "    }\n",
    "}"
   ]
  },
  {
   "cell_type": "markdown",
   "id": "18c18d5f",
   "metadata": {},
   "source": [
    "#### Ok, what about the functional case?"
   ]
  },
  {
   "cell_type": "code",
   "execution_count": 34,
   "id": "88c9ab70",
   "metadata": {},
   "outputs": [],
   "source": [
    "type Box = {\n",
    "    tag: \"BOX\",\n",
    "    width: number,\n",
    "    height: number\n",
    "};\n",
    "\n",
    "type Circle = {\n",
    "    tag: \"CIRCLE\",\n",
    "    radius: number\n",
    "};\n",
    "\n",
    "function newBox(width: number, height: number): Box {\n",
    "    return {\n",
    "        tag: \"BOX\",\n",
    "        width: width,\n",
    "        height: height\n",
    "    };\n",
    "}\n",
    "\n",
    "function newCircle(radius: number): Circle {\n",
    "    return {\n",
    "        tag: \"CIRCLE\",\n",
    "        radius: radius\n",
    "    };\n",
    "}"
   ]
  },
  {
   "cell_type": "code",
   "execution_count": 35,
   "id": "ed8ded71",
   "metadata": {},
   "outputs": [],
   "source": [
    "type Shape = Box | Circle;  // Algebraic data-type\n",
    "\n",
    "function area(shape: Shape): number {  // Unmodified\n",
    "    switch (shape.tag) {  // Dynamic dispatch in code\n",
    "        case \"BOX\": {\n",
    "            return shape.width*shape.height;\n",
    "        }\n",
    "        case \"CIRCLE\": {\n",
    "            return Math.PI*shape.radius*shape.radius;\n",
    "        }\n",
    "    }\n",
    "}\n",
    "\n",
    "function print(shape: Shape): string {  // Unmodified\n",
    "    switch (shape.tag) {  // Dynamic dispatch in code\n",
    "        case \"BOX\": {\n",
    "            return \"Box(\" + shape.width + \",\" + shape.height + \")\";\n",
    "        }\n",
    "        case \"CIRCLE\": {\n",
    "            return \"Circle(\" + shape.radius + \")\";\n",
    "        }\n",
    "    }\n",
    "}"
   ]
  },
  {
   "cell_type": "code",
   "execution_count": 36,
   "id": "750ceec4",
   "metadata": {},
   "outputs": [],
   "source": [
    "function perimeter(shape: Shape): number {  // Just add new function\n",
    "    switch (shape.tag) {  // Dynamic dispatch in code\n",
    "        case \"BOX\": {\n",
    "            return 2*shape.height + 2*shape.width;\n",
    "        }\n",
    "        case \"CIRCLE\": {\n",
    "            return 2*shape.radius*Math.PI;\n",
    "        }\n",
    "    }\n",
    "}"
   ]
  },
  {
   "cell_type": "markdown",
   "id": "52d5368c",
   "metadata": {},
   "source": [
    "### Summary\n",
    "\n",
    "When adding shapes\n",
    "- OO: could create a new subclass independently of existing shapes.\n",
    "- Functional: had to modify every function.\n",
    "\n",
    "When adding functionality\n",
    "- OO: had to modify every class.\n",
    "- Functional: could create a new function independently of existing functions."
   ]
  },
  {
   "cell_type": "markdown",
   "id": "8b2ca7b3",
   "metadata": {},
   "source": [
    "## OOP vs. Functional / Procedural\n",
    "When should we use object-oriented programming and when should we use procedural?\n",
    "\n",
    "* In OOP, adding types of objects (classes) is easy, but adding new types of functionality is awkward.\n",
    "* In procedural or functional, it's the reverse.\n",
    "\n",
    "The dilemma is called the ***expression problem***.\n",
    "\n",
    "![Expression problem](media/expression-problem.svg)\n",
    "\n",
    "With object-oriented programming, we group the functions by type:\n",
    "\n",
    "![Expression problem by type](media/expression-problem-type.svg)\n",
    "\n",
    "This makes it easy to add types, but awkward to add functions. With procedural or functional programming, we group functions by function:\n",
    "\n",
    "![Expression problem by function](media/expression-problem-function.svg)\n",
    "\n",
    "This makes it easy to add functions, but awkward to add types."
   ]
  },
  {
   "cell_type": "markdown",
   "id": "6499bbb3",
   "metadata": {},
   "source": [
    "## How do I choose?\n",
    "\n",
    "- If you're in an OO langauge, use OO ...\n",
    "- If you're in a functional language, use functional ..."
   ]
  },
  {
   "cell_type": "code",
   "execution_count": null,
   "id": "47926bfe",
   "metadata": {},
   "outputs": [],
   "source": []
  }
 ],
 "metadata": {
  "kernelspec": {
   "display_name": "TypeScript",
   "language": "typescript",
   "name": "typescript"
  },
  "language_info": {
   "codemirror_mode": {
    "mode": "typescript",
    "name": "javascript",
    "typescript": true
   },
   "file_extension": ".ts",
   "mimetype": "text/typescript",
   "name": "typescript",
   "version": "3.7.2"
  }
 },
 "nbformat": 4,
 "nbformat_minor": 5
}
