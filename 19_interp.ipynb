{
 "cells": [
  {
   "cell_type": "code",
   "execution_count": 1,
   "id": "ee6129ec",
   "metadata": {},
   "outputs": [
    {
     "data": {
      "text/html": [
       "\n",
       "  <link rel=\"stylesheet\" href=\"node_modules/carbon-components/css/carbon-components.css\">\n",
       "  "
      ]
     },
     "metadata": {},
     "output_type": "display_data"
    },
    {
     "data": {
      "text/html": [
       "\n",
       "<script>\n",
       "require.config({\n",
       "     paths: {\n",
       "     cytoscape: 'https://cdnjs.cloudflare.com/ajax/libs/cytoscape/3.19.0/cytoscape.min'\n",
       "}});\n",
       "</script>\n",
       "  "
      ]
     },
     "metadata": {},
     "output_type": "display_data"
    }
   ],
   "source": [
    "import { requireCytoscape, requireCarbon } from \"./lib/draw\";\n",
    "\n",
    "requireCarbon();\n",
    "requireCytoscape();"
   ]
  },
  {
   "cell_type": "markdown",
   "id": "3a60a81d",
   "metadata": {},
   "source": [
    "# Interpreters"
   ]
  },
  {
   "cell_type": "markdown",
   "id": "10377757",
   "metadata": {},
   "source": [
    "## Where Were We?\n",
    "\n",
    "1. Language primitives (i.e., building blocks of languages)\n",
    "2. Language paradigms (i.e., combinations of language primitives)\n",
    "3. **Building a language** (i.e., designing your own language)\n",
    "    * Last time: lexing and parsing.\n",
    "    * Today: **interpreters** and **evaluation**."
   ]
  },
  {
   "cell_type": "markdown",
   "id": "b4de1821",
   "metadata": {},
   "source": [
    "## Goal\n",
    "\n",
    "1. Last time we saw how to convert a string into an expression/AST.\n",
    "2. Today we want to write a *program*, an **interpreter**, that converts an expression/AST into a **value**, i.e., an expression/AST that has no computation left to be run."
   ]
  },
  {
   "cell_type": "markdown",
   "id": "9fbca192",
   "metadata": {},
   "source": [
    "## LambdaTS Expression/AST\n",
    "\n",
    "```ts\n",
    "type Expr = NumericConstant | BinaryExpr | ConditionalExpr | FunctionExpr | Identifier | CallExpr;\n",
    "type BinaryExpr = { tag: \"BINARY\";\n",
    "    operator: BinaryOperator;\n",
    "    left: Expr;\n",
    "    right: Expr;\n",
    "};\n",
    "// Note (e) is not part of the AST\n",
    "type ConditionalExpr = { tag: \"CONDITIONAL\";\n",
    "    condExpr: Expr;\n",
    "    thenExpr: Expr;\n",
    "    elseExpr: Expr;\n",
    "};\n",
    "type FunctionExpr = { tag: \"FUNCTION\";\n",
    "    parameter: string;\n",
    "    body: Expr;\n",
    "};\n",
    "type CallExpr = { tag: \"CALL\";\n",
    "    func: Expr;\n",
    "    argument: Expr;\n",
    "};\n",
    "```"
   ]
  },
  {
   "cell_type": "markdown",
   "id": "db250a93",
   "metadata": {},
   "source": [
    "## Interpreter for LambdaTS by Example\n",
    "\n",
    "- We'll introduce an interpreter by example.\n",
    "- First we need our `drawProg` function."
   ]
  },
  {
   "cell_type": "code",
   "execution_count": 2,
   "id": "d36ae0e3",
   "metadata": {},
   "outputs": [],
   "source": [
    "import { draw, treeLayout } from \"./lib/draw\";\n",
    "import * as T from \"./lib/lambdats/token\";\n",
    "import * as E from \"./lib/lambdats/expr\";\n",
    "import * as Parser from \"./lib/lambdats/parser\";\n",
    "\n",
    "function drawProg(prog: string|E.Expr): void {\n",
    "    if (typeof prog === 'string') {\n",
    "        draw(E.cytoscapify(Parser.parse(prog)), 800, 350, treeLayout);\n",
    "    } else {\n",
    "        draw(E.cytoscapify(prog), 800, 350, treeLayout);\n",
    "    }\n",
    "}"
   ]
  },
  {
   "cell_type": "markdown",
   "id": "ae51b7ab",
   "metadata": {},
   "source": [
    "### Example 1"
   ]
  },
  {
   "cell_type": "code",
   "execution_count": 3,
   "id": "584c1ee1",
   "metadata": {},
   "outputs": [
    {
     "name": "stdout",
     "output_type": "stream",
     "text": [
      "(x) => 1\n"
     ]
    }
   ],
   "source": [
    "// The input / output relation should match the TypeScript interpreter\n",
    "const input = 1 + 2 ? ((x) => 1) : ((x) => 2)\n",
    "const output = input.toString()\n",
    "output"
   ]
  },
  {
   "cell_type": "markdown",
   "id": "43008e6b",
   "metadata": {},
   "source": [
    "#### Desired LambdaTS intepreter Output\n",
    "\n",
    "Input:\n",
    "```ts\n",
    "1 + 2 ? λx => 1 : λx => 2\n",
    "```\n",
    "\n",
    "Output:\n",
    "```ts\n",
    "λx => 1\n",
    "```"
   ]
  },
  {
   "cell_type": "code",
   "execution_count": 4,
   "id": "95e0edbf",
   "metadata": {},
   "outputs": [
    {
     "data": {
      "text/html": [
       "\n",
       "<style>\n",
       "    #mydiva033e7fd-a65e-4496-83e7-e147ed445ca0 {\n",
       "        width: 800px;\n",
       "        height: 350px;\n",
       "        top: 0px;\n",
       "        left: 0px;\n",
       "    }\n",
       "</style>\n",
       "<div id=\"mydiva033e7fd-a65e-4496-83e7-e147ed445ca0\"></div>\n"
      ]
     },
     "metadata": {},
     "output_type": "display_data"
    },
    {
     "data": {
      "text/html": [
       "\n",
       "<script>\n",
       " (function(element) {\n",
       "     require(['cytoscape'], function(cytoscape) {   \n",
       "        var cy = cytoscape({\n",
       "         container: document.getElementById('mydiva033e7fd-a65e-4496-83e7-e147ed445ca0'),\n",
       "         style: [\n",
       "{\n",
       "  selector: 'node',\n",
       "  css: {\n",
       "    'class': \".bx--tree\",\n",
       "    'label': 'data(label)',\n",
       "    'height': '10px',\n",
       "    'width': '10px',\n",
       "  }\n",
       "},\n",
       "{\n",
       "  selector: 'edge',\n",
       "  css: {\n",
       "    'width': 3,\n",
       "    // 'line-color': '#ccc123',\n",
       "    'curve-style': 'bezier',\n",
       "    'target-arrow-shape': 'triangle',\n",
       "    'target-arrow-fill': 'filled',\n",
       "    'arrow-scale': 1,\n",
       "  }\n",
       "}\n",
       "],\n",
       "         layout: \n",
       "{\n",
       "  name: 'preset'\n",
       "}\n",
       ",\n",
       "         elements: [\n",
       "  {\n",
       "    data: { id: 'conditional1', label: 'if' },\n",
       "    position: { x: 0, y: 0 }\n",
       "  },\n",
       "  { data: { id: 'edge7', source: 'conditional1', target: 'binary2' } },\n",
       "  {\n",
       "    data: { id: 'edge11', source: 'conditional1', target: 'function8' }\n",
       "  },\n",
       "  {\n",
       "    data: { id: 'edge15', source: 'conditional1', target: 'function12' }\n",
       "  },\n",
       "  { data: { id: 'binary2', label: '+' }, position: { x: -150, y: 50 } },\n",
       "  { data: { id: 'edge4', source: 'binary2', target: 'number3' } },\n",
       "  { data: { id: 'edge6', source: 'binary2', target: 'number5' } },\n",
       "  { data: { id: 'number3', label: 1 }, position: { x: -200, y: 100 } },\n",
       "  { data: { id: 'number5', label: 2 }, position: { x: -100, y: 100 } },\n",
       "  {\n",
       "    data: { id: 'function8', label: 'λ(x)' },\n",
       "    position: { x: 0, y: 50 }\n",
       "  },\n",
       "  { data: { id: 'edge10', source: 'function8', target: 'number9' } },\n",
       "  { data: { id: 'number9', label: 1 }, position: { x: 0, y: 100 } },\n",
       "  {\n",
       "    data: { id: 'function12', label: 'λ(x)' },\n",
       "    position: { x: 150, y: 50 }\n",
       "  },\n",
       "  { data: { id: 'edge14', source: 'function12', target: 'number13' } },\n",
       "  { data: { id: 'number13', label: 2 }, position: { x: 150, y: 100 } }\n",
       "]\n",
       "         });\n",
       "     });\n",
       " })(this.element);\n",
       "</script>\n"
      ]
     },
     "metadata": {},
     "output_type": "display_data"
    }
   ],
   "source": [
    "// Input AST\n",
    "drawProg(\"1 + 2 ? λx => 1 : λx => 2\")"
   ]
  },
  {
   "cell_type": "code",
   "execution_count": 5,
   "id": "ea2526c0",
   "metadata": {},
   "outputs": [
    {
     "data": {
      "text/html": [
       "\n",
       "<style>\n",
       "    #mydiv3ac774b8-eb40-447f-8d6a-53d354277f73 {\n",
       "        width: 800px;\n",
       "        height: 350px;\n",
       "        top: 0px;\n",
       "        left: 0px;\n",
       "    }\n",
       "</style>\n",
       "<div id=\"mydiv3ac774b8-eb40-447f-8d6a-53d354277f73\"></div>\n"
      ]
     },
     "metadata": {},
     "output_type": "display_data"
    },
    {
     "data": {
      "text/html": [
       "\n",
       "<script>\n",
       " (function(element) {\n",
       "     require(['cytoscape'], function(cytoscape) {   \n",
       "        var cy = cytoscape({\n",
       "         container: document.getElementById('mydiv3ac774b8-eb40-447f-8d6a-53d354277f73'),\n",
       "         style: [\n",
       "{\n",
       "  selector: 'node',\n",
       "  css: {\n",
       "    'class': \".bx--tree\",\n",
       "    'label': 'data(label)',\n",
       "    'height': '10px',\n",
       "    'width': '10px',\n",
       "  }\n",
       "},\n",
       "{\n",
       "  selector: 'edge',\n",
       "  css: {\n",
       "    'width': 3,\n",
       "    // 'line-color': '#ccc123',\n",
       "    'curve-style': 'bezier',\n",
       "    'target-arrow-shape': 'triangle',\n",
       "    'target-arrow-fill': 'filled',\n",
       "    'arrow-scale': 1,\n",
       "  }\n",
       "}\n",
       "],\n",
       "         layout: \n",
       "{\n",
       "  name: 'preset'\n",
       "}\n",
       ",\n",
       "         elements: [\n",
       "  {\n",
       "    data: { id: 'function1', label: 'λ(x)' },\n",
       "    position: { x: 0, y: 0 }\n",
       "  },\n",
       "  { data: { id: 'edge3', source: 'function1', target: 'number2' } },\n",
       "  { data: { id: 'number2', label: 1 }, position: { x: 0, y: 50 } }\n",
       "]\n",
       "         });\n",
       "     });\n",
       " })(this.element);\n",
       "</script>\n"
      ]
     },
     "metadata": {},
     "output_type": "display_data"
    }
   ],
   "source": [
    "// Output AST\n",
    "drawProg(\"λx => 1\")"
   ]
  },
  {
   "cell_type": "markdown",
   "id": "a462f26b",
   "metadata": {},
   "source": [
    "### Example 2"
   ]
  },
  {
   "cell_type": "code",
   "execution_count": 6,
   "id": "af54f1e6",
   "metadata": {},
   "outputs": [
    {
     "name": "stdout",
     "output_type": "stream",
     "text": [
      "3\n"
     ]
    }
   ],
   "source": [
    "// The input / output relation should match the TypeScript interpreter\n",
    "const input = ((x) => 1 + 1 + 1)((x) => 1 + 1 + 1)\n",
    "const output = input.toString()\n",
    "output"
   ]
  },
  {
   "cell_type": "markdown",
   "id": "febae824",
   "metadata": {},
   "source": [
    "#### Desired LambdaTS intepreter Output\n",
    "\n",
    "Input:\n",
    "```ts\n",
    "(λx => 1 + 1 + 1)(λx => 1 + 1 + 1)\n",
    "```\n",
    "\n",
    "Output:\n",
    "```ts\n",
    "3\n",
    "```"
   ]
  },
  {
   "cell_type": "code",
   "execution_count": 7,
   "id": "912cbaf8",
   "metadata": {},
   "outputs": [
    {
     "data": {
      "text/html": [
       "\n",
       "<style>\n",
       "    #mydiv607eef66-c017-470a-83a6-436f9a5ff6f7 {\n",
       "        width: 800px;\n",
       "        height: 350px;\n",
       "        top: 0px;\n",
       "        left: 0px;\n",
       "    }\n",
       "</style>\n",
       "<div id=\"mydiv607eef66-c017-470a-83a6-436f9a5ff6f7\"></div>\n"
      ]
     },
     "metadata": {},
     "output_type": "display_data"
    },
    {
     "data": {
      "text/html": [
       "\n",
       "<script>\n",
       " (function(element) {\n",
       "     require(['cytoscape'], function(cytoscape) {   \n",
       "        var cy = cytoscape({\n",
       "         container: document.getElementById('mydiv607eef66-c017-470a-83a6-436f9a5ff6f7'),\n",
       "         style: [\n",
       "{\n",
       "  selector: 'node',\n",
       "  css: {\n",
       "    'class': \".bx--tree\",\n",
       "    'label': 'data(label)',\n",
       "    'height': '10px',\n",
       "    'width': '10px',\n",
       "  }\n",
       "},\n",
       "{\n",
       "  selector: 'edge',\n",
       "  css: {\n",
       "    'width': 3,\n",
       "    // 'line-color': '#ccc123',\n",
       "    'curve-style': 'bezier',\n",
       "    'target-arrow-shape': 'triangle',\n",
       "    'target-arrow-fill': 'filled',\n",
       "    'arrow-scale': 1,\n",
       "  }\n",
       "}\n",
       "],\n",
       "         layout: \n",
       "{\n",
       "  name: 'preset'\n",
       "}\n",
       ",\n",
       "         elements: [\n",
       "  { data: { id: 'call1', label: 'call' }, position: { x: 0, y: 0 } },\n",
       "  { data: { id: 'edge13', source: 'call1', target: 'function2' } },\n",
       "  { data: { id: 'edge25', source: 'call1', target: 'function14' } },\n",
       "  {\n",
       "    data: { id: 'function2', label: 'λ(x)' },\n",
       "    position: { x: -100, y: 50 }\n",
       "  },\n",
       "  { data: { id: 'edge12', source: 'function2', target: 'binary3' } },\n",
       "  {\n",
       "    data: { id: 'binary3', label: '+' },\n",
       "    position: { x: -100, y: 100 }\n",
       "  },\n",
       "  { data: { id: 'edge9', source: 'binary3', target: 'binary4' } },\n",
       "  { data: { id: 'edge11', source: 'binary3', target: 'number10' } },\n",
       "  {\n",
       "    data: { id: 'binary4', label: '+' },\n",
       "    position: { x: -133.33333333333334, y: 150 }\n",
       "  },\n",
       "  { data: { id: 'edge6', source: 'binary4', target: 'number5' } },\n",
       "  { data: { id: 'edge8', source: 'binary4', target: 'number7' } },\n",
       "  {\n",
       "    data: { id: 'number5', label: 1 },\n",
       "    position: { x: -158.33333333333334, y: 200 }\n",
       "  },\n",
       "  {\n",
       "    data: { id: 'number7', label: 1 },\n",
       "    position: { x: -108.33333333333334, y: 200 }\n",
       "  },\n",
       "  {\n",
       "    data: { id: 'number10', label: 1 },\n",
       "    position: { x: -66.66666666666666, y: 150 }\n",
       "  },\n",
       "  {\n",
       "    data: { id: 'function14', label: 'λ(x)' },\n",
       "    position: { x: 100, y: 50 }\n",
       "  },\n",
       "  { data: { id: 'edge24', source: 'function14', target: 'binary15' } },\n",
       "  {\n",
       "    data: { id: 'binary15', label: '+' },\n",
       "    position: { x: 100, y: 100 }\n",
       "  },\n",
       "  { data: { id: 'edge21', source: 'binary15', target: 'binary16' } },\n",
       "  { data: { id: 'edge23', source: 'binary15', target: 'number22' } },\n",
       "  {\n",
       "    data: { id: 'binary16', label: '+' },\n",
       "    position: { x: 66.66666666666666, y: 150 }\n",
       "  },\n",
       "  { data: { id: 'edge18', source: 'binary16', target: 'number17' } },\n",
       "  { data: { id: 'edge20', source: 'binary16', target: 'number19' } },\n",
       "  {\n",
       "    data: { id: 'number17', label: 1 },\n",
       "    position: { x: 41.66666666666666, y: 200 }\n",
       "  },\n",
       "  {\n",
       "    data: { id: 'number19', label: 1 },\n",
       "    position: { x: 91.66666666666666, y: 200 }\n",
       "  },\n",
       "  {\n",
       "    data: { id: 'number22', label: 1 },\n",
       "    position: { x: 133.33333333333334, y: 150 }\n",
       "  }\n",
       "]\n",
       "         });\n",
       "     });\n",
       " })(this.element);\n",
       "</script>\n"
      ]
     },
     "metadata": {},
     "output_type": "display_data"
    }
   ],
   "source": [
    "// Input AST\n",
    "drawProg(\"(λx => 1 + 1 + 1)(λx => 1 + 1 + 1)\")"
   ]
  },
  {
   "cell_type": "code",
   "execution_count": 8,
   "id": "c76ebd85",
   "metadata": {},
   "outputs": [
    {
     "data": {
      "text/html": [
       "\n",
       "<style>\n",
       "    #mydivb2719024-54a8-45d6-9f4a-554c890a10db {\n",
       "        width: 800px;\n",
       "        height: 350px;\n",
       "        top: 0px;\n",
       "        left: 0px;\n",
       "    }\n",
       "</style>\n",
       "<div id=\"mydivb2719024-54a8-45d6-9f4a-554c890a10db\"></div>\n"
      ]
     },
     "metadata": {},
     "output_type": "display_data"
    },
    {
     "data": {
      "text/html": [
       "\n",
       "<script>\n",
       " (function(element) {\n",
       "     require(['cytoscape'], function(cytoscape) {   \n",
       "        var cy = cytoscape({\n",
       "         container: document.getElementById('mydivb2719024-54a8-45d6-9f4a-554c890a10db'),\n",
       "         style: [\n",
       "{\n",
       "  selector: 'node',\n",
       "  css: {\n",
       "    'class': \".bx--tree\",\n",
       "    'label': 'data(label)',\n",
       "    'height': '10px',\n",
       "    'width': '10px',\n",
       "  }\n",
       "},\n",
       "{\n",
       "  selector: 'edge',\n",
       "  css: {\n",
       "    'width': 3,\n",
       "    // 'line-color': '#ccc123',\n",
       "    'curve-style': 'bezier',\n",
       "    'target-arrow-shape': 'triangle',\n",
       "    'target-arrow-fill': 'filled',\n",
       "    'arrow-scale': 1,\n",
       "  }\n",
       "}\n",
       "],\n",
       "         layout: \n",
       "{\n",
       "  name: 'preset'\n",
       "}\n",
       ",\n",
       "         elements: [ { data: { id: 'number1', label: 3 }, position: { x: 0, y: 0 } } ]\n",
       "         });\n",
       "     });\n",
       " })(this.element);\n",
       "</script>\n"
      ]
     },
     "metadata": {},
     "output_type": "display_data"
    }
   ],
   "source": [
    "// Output AST\n",
    "drawProg(\"3\")"
   ]
  },
  {
   "cell_type": "markdown",
   "id": "4716c717",
   "metadata": {},
   "source": [
    "### Example 3"
   ]
  },
  {
   "cell_type": "code",
   "execution_count": 9,
   "id": "15e49a18",
   "metadata": {},
   "outputs": [
    {
     "name": "stderr",
     "output_type": "stream",
     "text": [
      "1:15 - Operator '+' cannot be applied to types 'number' and '(x: any) => any'.\n"
     ]
    }
   ],
   "source": [
    "const input = 1 + ((x) => x + 1 + 1 + 1)"
   ]
  },
  {
   "cell_type": "markdown",
   "id": "35d9b2bf",
   "metadata": {},
   "source": [
    "#### Desired LambdaTS Interpreter Output\n",
    "\n",
    "Input:\n",
    "```ts\n",
    "1 + (λx => 1 + 1 + 1)\n",
    "```\n",
    "\n",
    "Output: error"
   ]
  },
  {
   "cell_type": "code",
   "execution_count": 10,
   "id": "fa176355",
   "metadata": {},
   "outputs": [
    {
     "data": {
      "text/html": [
       "\n",
       "<style>\n",
       "    #mydivb2132fe6-a736-4fc0-9412-a8849b533b0b {\n",
       "        width: 800px;\n",
       "        height: 350px;\n",
       "        top: 0px;\n",
       "        left: 0px;\n",
       "    }\n",
       "</style>\n",
       "<div id=\"mydivb2132fe6-a736-4fc0-9412-a8849b533b0b\"></div>\n"
      ]
     },
     "metadata": {},
     "output_type": "display_data"
    },
    {
     "data": {
      "text/html": [
       "\n",
       "<script>\n",
       " (function(element) {\n",
       "     require(['cytoscape'], function(cytoscape) {   \n",
       "        var cy = cytoscape({\n",
       "         container: document.getElementById('mydivb2132fe6-a736-4fc0-9412-a8849b533b0b'),\n",
       "         style: [\n",
       "{\n",
       "  selector: 'node',\n",
       "  css: {\n",
       "    'class': \".bx--tree\",\n",
       "    'label': 'data(label)',\n",
       "    'height': '10px',\n",
       "    'width': '10px',\n",
       "  }\n",
       "},\n",
       "{\n",
       "  selector: 'edge',\n",
       "  css: {\n",
       "    'width': 3,\n",
       "    // 'line-color': '#ccc123',\n",
       "    'curve-style': 'bezier',\n",
       "    'target-arrow-shape': 'triangle',\n",
       "    'target-arrow-fill': 'filled',\n",
       "    'arrow-scale': 1,\n",
       "  }\n",
       "}\n",
       "],\n",
       "         layout: \n",
       "{\n",
       "  name: 'preset'\n",
       "}\n",
       ",\n",
       "         elements: [\n",
       "  { data: { id: 'binary1', label: '+' }, position: { x: 0, y: 0 } },\n",
       "  { data: { id: 'edge3', source: 'binary1', target: 'number2' } },\n",
       "  { data: { id: 'edge15', source: 'binary1', target: 'function4' } },\n",
       "  { data: { id: 'number2', label: 1 }, position: { x: -100, y: 50 } },\n",
       "  {\n",
       "    data: { id: 'function4', label: 'λ(x)' },\n",
       "    position: { x: 100, y: 50 }\n",
       "  },\n",
       "  { data: { id: 'edge14', source: 'function4', target: 'binary5' } },\n",
       "  { data: { id: 'binary5', label: '+' }, position: { x: 100, y: 100 } },\n",
       "  { data: { id: 'edge11', source: 'binary5', target: 'binary6' } },\n",
       "  { data: { id: 'edge13', source: 'binary5', target: 'number12' } },\n",
       "  {\n",
       "    data: { id: 'binary6', label: '+' },\n",
       "    position: { x: 66.66666666666666, y: 150 }\n",
       "  },\n",
       "  { data: { id: 'edge8', source: 'binary6', target: 'number7' } },\n",
       "  { data: { id: 'edge10', source: 'binary6', target: 'number9' } },\n",
       "  {\n",
       "    data: { id: 'number7', label: 1 },\n",
       "    position: { x: 41.66666666666666, y: 200 }\n",
       "  },\n",
       "  {\n",
       "    data: { id: 'number9', label: 1 },\n",
       "    position: { x: 91.66666666666666, y: 200 }\n",
       "  },\n",
       "  {\n",
       "    data: { id: 'number12', label: 1 },\n",
       "    position: { x: 133.33333333333334, y: 150 }\n",
       "  }\n",
       "]\n",
       "         });\n",
       "     });\n",
       " })(this.element);\n",
       "</script>\n"
      ]
     },
     "metadata": {},
     "output_type": "display_data"
    }
   ],
   "source": [
    "// Input AST\n",
    "drawProg(\"1 + (λx => 1 + 1 + 1)\")"
   ]
  },
  {
   "cell_type": "code",
   "execution_count": 11,
   "id": "33f3d61d",
   "metadata": {},
   "outputs": [],
   "source": [
    "// Output AST"
   ]
  },
  {
   "cell_type": "markdown",
   "id": "4ce43744",
   "metadata": {},
   "source": [
    "## Implementing LambdaTS Interpreter\n",
    "\n",
    "1. Define **values** formally.\n",
    "2. Show interpreter on arithmetic subset of LambdaTS.\n",
    "3. Show interpreter on all of LambdaTS where we need to interpret first-class functions. This section should give you a mental model for understanding variable binding."
   ]
  },
  {
   "cell_type": "markdown",
   "id": "ee34590b",
   "metadata": {},
   "source": [
    "### LambdaTS Values\n",
    "\n",
    "1. Informally, a *value* is an expression/AST that has no more computation left to be run.\n",
    "2. Before we can write an interpreter, we'll need to formally define what **values** are in a way that a computer can understand.\n",
    "3. We'll see that values are a subset of expressions. Recall expressions below.\n",
    "\n",
    "```ts\n",
    "type Expr = NumericConstant | BinaryExpr | ConditionalExpr | FunctionExpr | Identifier | CallExpr;\n",
    "```"
   ]
  },
  {
   "cell_type": "code",
   "execution_count": 12,
   "id": "1d323c41",
   "metadata": {},
   "outputs": [],
   "source": [
    "// We pick the subset of expressions that correspond to numbers and functions\n",
    "type Value = T.NumericConstant | E.FunctionExpr"
   ]
  },
  {
   "cell_type": "markdown",
   "id": "04db32fb",
   "metadata": {},
   "source": [
    "#### That's It!\n",
    "\n",
    "- We've identified a simple subset of expressions that are values.\n",
    "- Let's see some examples now."
   ]
  },
  {
   "cell_type": "markdown",
   "id": "cfde87ef",
   "metadata": {},
   "source": [
    "#### Example 1"
   ]
  },
  {
   "cell_type": "code",
   "execution_count": 13,
   "id": "4c159591",
   "metadata": {},
   "outputs": [
    {
     "data": {
      "text/html": [
       "\n",
       "<style>\n",
       "    #mydiv21638626-b915-4aa9-a829-7811cd2824b4 {\n",
       "        width: 800px;\n",
       "        height: 350px;\n",
       "        top: 0px;\n",
       "        left: 0px;\n",
       "    }\n",
       "</style>\n",
       "<div id=\"mydiv21638626-b915-4aa9-a829-7811cd2824b4\"></div>\n"
      ]
     },
     "metadata": {},
     "output_type": "display_data"
    },
    {
     "data": {
      "text/html": [
       "\n",
       "<script>\n",
       " (function(element) {\n",
       "     require(['cytoscape'], function(cytoscape) {   \n",
       "        var cy = cytoscape({\n",
       "         container: document.getElementById('mydiv21638626-b915-4aa9-a829-7811cd2824b4'),\n",
       "         style: [\n",
       "{\n",
       "  selector: 'node',\n",
       "  css: {\n",
       "    'class': \".bx--tree\",\n",
       "    'label': 'data(label)',\n",
       "    'height': '10px',\n",
       "    'width': '10px',\n",
       "  }\n",
       "},\n",
       "{\n",
       "  selector: 'edge',\n",
       "  css: {\n",
       "    'width': 3,\n",
       "    // 'line-color': '#ccc123',\n",
       "    'curve-style': 'bezier',\n",
       "    'target-arrow-shape': 'triangle',\n",
       "    'target-arrow-fill': 'filled',\n",
       "    'arrow-scale': 1,\n",
       "  }\n",
       "}\n",
       "],\n",
       "         layout: \n",
       "{\n",
       "  name: 'preset'\n",
       "}\n",
       ",\n",
       "         elements: [ { data: { id: 'number1', label: 1 }, position: { x: 0, y: 0 } } ]\n",
       "         });\n",
       "     });\n",
       " })(this.element);\n",
       "</script>\n"
      ]
     },
     "metadata": {},
     "output_type": "display_data"
    }
   ],
   "source": [
    "drawProg(\"1\"); // value and expression"
   ]
  },
  {
   "cell_type": "markdown",
   "id": "6332037f",
   "metadata": {},
   "source": [
    "#### Example 2"
   ]
  },
  {
   "cell_type": "code",
   "execution_count": 14,
   "id": "25e581bf",
   "metadata": {},
   "outputs": [
    {
     "data": {
      "text/html": [
       "\n",
       "<style>\n",
       "    #mydivecaf310a-eefc-4c23-98ab-3cbd00460ce7 {\n",
       "        width: 800px;\n",
       "        height: 350px;\n",
       "        top: 0px;\n",
       "        left: 0px;\n",
       "    }\n",
       "</style>\n",
       "<div id=\"mydivecaf310a-eefc-4c23-98ab-3cbd00460ce7\"></div>\n"
      ]
     },
     "metadata": {},
     "output_type": "display_data"
    },
    {
     "data": {
      "text/html": [
       "\n",
       "<script>\n",
       " (function(element) {\n",
       "     require(['cytoscape'], function(cytoscape) {   \n",
       "        var cy = cytoscape({\n",
       "         container: document.getElementById('mydivecaf310a-eefc-4c23-98ab-3cbd00460ce7'),\n",
       "         style: [\n",
       "{\n",
       "  selector: 'node',\n",
       "  css: {\n",
       "    'class': \".bx--tree\",\n",
       "    'label': 'data(label)',\n",
       "    'height': '10px',\n",
       "    'width': '10px',\n",
       "  }\n",
       "},\n",
       "{\n",
       "  selector: 'edge',\n",
       "  css: {\n",
       "    'width': 3,\n",
       "    // 'line-color': '#ccc123',\n",
       "    'curve-style': 'bezier',\n",
       "    'target-arrow-shape': 'triangle',\n",
       "    'target-arrow-fill': 'filled',\n",
       "    'arrow-scale': 1,\n",
       "  }\n",
       "}\n",
       "],\n",
       "         layout: \n",
       "{\n",
       "  name: 'preset'\n",
       "}\n",
       ",\n",
       "         elements: [\n",
       "  {\n",
       "    data: { id: 'function1', label: 'λ(x)' },\n",
       "    position: { x: 0, y: 0 }\n",
       "  },\n",
       "  { data: { id: 'edge3', source: 'function1', target: 'identifier2' } },\n",
       "  {\n",
       "    data: { id: 'identifier2', label: 'x' },\n",
       "    position: { x: 0, y: 50 }\n",
       "  }\n",
       "]\n",
       "         });\n",
       "     });\n",
       " })(this.element);\n",
       "</script>\n"
      ]
     },
     "metadata": {},
     "output_type": "display_data"
    }
   ],
   "source": [
    "drawProg(\"λx => x\"); // value and expression"
   ]
  },
  {
   "cell_type": "markdown",
   "id": "1f5a81c9",
   "metadata": {},
   "source": [
    "#### Example 3"
   ]
  },
  {
   "cell_type": "code",
   "execution_count": 15,
   "id": "4aec10bc",
   "metadata": {},
   "outputs": [
    {
     "data": {
      "text/html": [
       "\n",
       "<style>\n",
       "    #mydiv8a085bcf-292b-4e0c-9717-2f00069f62fa {\n",
       "        width: 800px;\n",
       "        height: 350px;\n",
       "        top: 0px;\n",
       "        left: 0px;\n",
       "    }\n",
       "</style>\n",
       "<div id=\"mydiv8a085bcf-292b-4e0c-9717-2f00069f62fa\"></div>\n"
      ]
     },
     "metadata": {},
     "output_type": "display_data"
    },
    {
     "data": {
      "text/html": [
       "\n",
       "<script>\n",
       " (function(element) {\n",
       "     require(['cytoscape'], function(cytoscape) {   \n",
       "        var cy = cytoscape({\n",
       "         container: document.getElementById('mydiv8a085bcf-292b-4e0c-9717-2f00069f62fa'),\n",
       "         style: [\n",
       "{\n",
       "  selector: 'node',\n",
       "  css: {\n",
       "    'class': \".bx--tree\",\n",
       "    'label': 'data(label)',\n",
       "    'height': '10px',\n",
       "    'width': '10px',\n",
       "  }\n",
       "},\n",
       "{\n",
       "  selector: 'edge',\n",
       "  css: {\n",
       "    'width': 3,\n",
       "    // 'line-color': '#ccc123',\n",
       "    'curve-style': 'bezier',\n",
       "    'target-arrow-shape': 'triangle',\n",
       "    'target-arrow-fill': 'filled',\n",
       "    'arrow-scale': 1,\n",
       "  }\n",
       "}\n",
       "],\n",
       "         layout: \n",
       "{\n",
       "  name: 'preset'\n",
       "}\n",
       ",\n",
       "         elements: [\n",
       "  {\n",
       "    data: { id: 'function1', label: 'λ(x)' },\n",
       "    position: { x: 0, y: 0 }\n",
       "  },\n",
       "  { data: { id: 'edge7', source: 'function1', target: 'binary2' } },\n",
       "  { data: { id: 'binary2', label: '+' }, position: { x: 0, y: 50 } },\n",
       "  { data: { id: 'edge4', source: 'binary2', target: 'number3' } },\n",
       "  { data: { id: 'edge6', source: 'binary2', target: 'identifier5' } },\n",
       "  { data: { id: 'number3', label: 1 }, position: { x: -50, y: 100 } },\n",
       "  {\n",
       "    data: { id: 'identifier5', label: 'x' },\n",
       "    position: { x: 50, y: 100 }\n",
       "  }\n",
       "]\n",
       "         });\n",
       "     });\n",
       " })(this.element);\n",
       "</script>\n"
      ]
     },
     "metadata": {},
     "output_type": "display_data"
    }
   ],
   "source": [
    "drawProg(\"λx => 1 + x\"); // value and expression"
   ]
  },
  {
   "cell_type": "markdown",
   "id": "d136fdf6",
   "metadata": {},
   "source": [
    "#### Example 4"
   ]
  },
  {
   "cell_type": "code",
   "execution_count": 16,
   "id": "cacc749d",
   "metadata": {},
   "outputs": [
    {
     "data": {
      "text/html": [
       "\n",
       "<style>\n",
       "    #mydivd09064d4-4d13-4ae0-8843-8a47a43367b8 {\n",
       "        width: 800px;\n",
       "        height: 350px;\n",
       "        top: 0px;\n",
       "        left: 0px;\n",
       "    }\n",
       "</style>\n",
       "<div id=\"mydivd09064d4-4d13-4ae0-8843-8a47a43367b8\"></div>\n"
      ]
     },
     "metadata": {},
     "output_type": "display_data"
    },
    {
     "data": {
      "text/html": [
       "\n",
       "<script>\n",
       " (function(element) {\n",
       "     require(['cytoscape'], function(cytoscape) {   \n",
       "        var cy = cytoscape({\n",
       "         container: document.getElementById('mydivd09064d4-4d13-4ae0-8843-8a47a43367b8'),\n",
       "         style: [\n",
       "{\n",
       "  selector: 'node',\n",
       "  css: {\n",
       "    'class': \".bx--tree\",\n",
       "    'label': 'data(label)',\n",
       "    'height': '10px',\n",
       "    'width': '10px',\n",
       "  }\n",
       "},\n",
       "{\n",
       "  selector: 'edge',\n",
       "  css: {\n",
       "    'width': 3,\n",
       "    // 'line-color': '#ccc123',\n",
       "    'curve-style': 'bezier',\n",
       "    'target-arrow-shape': 'triangle',\n",
       "    'target-arrow-fill': 'filled',\n",
       "    'arrow-scale': 1,\n",
       "  }\n",
       "}\n",
       "],\n",
       "         layout: \n",
       "{\n",
       "  name: 'preset'\n",
       "}\n",
       ",\n",
       "         elements: [\n",
       "  {\n",
       "    data: { id: 'function1', label: 'λ(x)' },\n",
       "    position: { x: 0, y: 0 }\n",
       "  },\n",
       "  { data: { id: 'edge11', source: 'function1', target: 'binary2' } },\n",
       "  { data: { id: 'binary2', label: '+' }, position: { x: 0, y: 50 } },\n",
       "  { data: { id: 'edge8', source: 'binary2', target: 'binary3' } },\n",
       "  { data: { id: 'edge10', source: 'binary2', target: 'number9' } },\n",
       "  { data: { id: 'binary3', label: '+' }, position: { x: -50, y: 100 } },\n",
       "  { data: { id: 'edge5', source: 'binary3', target: 'number4' } },\n",
       "  { data: { id: 'edge7', source: 'binary3', target: 'number6' } },\n",
       "  {\n",
       "    data: { id: 'number4', label: 1 },\n",
       "    position: { x: -83.33333333333334, y: 150 }\n",
       "  },\n",
       "  {\n",
       "    data: { id: 'number6', label: 1 },\n",
       "    position: { x: -16.666666666666664, y: 150 }\n",
       "  },\n",
       "  { data: { id: 'number9', label: 1 }, position: { x: 50, y: 100 } }\n",
       "]\n",
       "         });\n",
       "     });\n",
       " })(this.element);\n",
       "</script>\n"
      ]
     },
     "metadata": {},
     "output_type": "display_data"
    }
   ],
   "source": [
    "drawProg(\"λx => 1 + 1 + 1\"); // value and expression"
   ]
  },
  {
   "cell_type": "markdown",
   "id": "004e5402",
   "metadata": {},
   "source": [
    "#### Non-Example 1"
   ]
  },
  {
   "cell_type": "code",
   "execution_count": 17,
   "id": "afe2b5ce",
   "metadata": {},
   "outputs": [
    {
     "name": "stdout",
     "output_type": "stream",
     "text": [
      "\u001b[33m2\u001b[39m\n"
     ]
    }
   ],
   "source": [
    "1 + 1"
   ]
  },
  {
   "cell_type": "code",
   "execution_count": 18,
   "id": "03277ad4",
   "metadata": {},
   "outputs": [
    {
     "data": {
      "text/html": [
       "\n",
       "<style>\n",
       "    #mydiv8b719b7b-0bd5-4add-a5b2-7cf5a87bfc94 {\n",
       "        width: 800px;\n",
       "        height: 350px;\n",
       "        top: 0px;\n",
       "        left: 0px;\n",
       "    }\n",
       "</style>\n",
       "<div id=\"mydiv8b719b7b-0bd5-4add-a5b2-7cf5a87bfc94\"></div>\n"
      ]
     },
     "metadata": {},
     "output_type": "display_data"
    },
    {
     "data": {
      "text/html": [
       "\n",
       "<script>\n",
       " (function(element) {\n",
       "     require(['cytoscape'], function(cytoscape) {   \n",
       "        var cy = cytoscape({\n",
       "         container: document.getElementById('mydiv8b719b7b-0bd5-4add-a5b2-7cf5a87bfc94'),\n",
       "         style: [\n",
       "{\n",
       "  selector: 'node',\n",
       "  css: {\n",
       "    'class': \".bx--tree\",\n",
       "    'label': 'data(label)',\n",
       "    'height': '10px',\n",
       "    'width': '10px',\n",
       "  }\n",
       "},\n",
       "{\n",
       "  selector: 'edge',\n",
       "  css: {\n",
       "    'width': 3,\n",
       "    // 'line-color': '#ccc123',\n",
       "    'curve-style': 'bezier',\n",
       "    'target-arrow-shape': 'triangle',\n",
       "    'target-arrow-fill': 'filled',\n",
       "    'arrow-scale': 1,\n",
       "  }\n",
       "}\n",
       "],\n",
       "         layout: \n",
       "{\n",
       "  name: 'preset'\n",
       "}\n",
       ",\n",
       "         elements: [\n",
       "  { data: { id: 'binary1', label: '+' }, position: { x: 0, y: 0 } },\n",
       "  { data: { id: 'edge3', source: 'binary1', target: 'number2' } },\n",
       "  { data: { id: 'edge5', source: 'binary1', target: 'number4' } },\n",
       "  { data: { id: 'number2', label: 1 }, position: { x: -100, y: 50 } },\n",
       "  { data: { id: 'number4', label: 1 }, position: { x: 100, y: 50 } }\n",
       "]\n",
       "         });\n",
       "     });\n",
       " })(this.element);\n",
       "</script>\n"
      ]
     },
     "metadata": {},
     "output_type": "display_data"
    }
   ],
   "source": [
    "drawProg(\"1 + 1\");"
   ]
  },
  {
   "cell_type": "markdown",
   "id": "2e5d9e4d",
   "metadata": {},
   "source": [
    "#### Non-Example 2"
   ]
  },
  {
   "cell_type": "code",
   "execution_count": 19,
   "id": "b0597380",
   "metadata": {},
   "outputs": [
    {
     "name": "stderr",
     "output_type": "stream",
     "text": [
      "1:1 - Operator '+' cannot be applied to types 'number' and '(x: any) => any'.\n"
     ]
    }
   ],
   "source": [
    "1 + ((x) => x)"
   ]
  },
  {
   "cell_type": "code",
   "execution_count": null,
   "id": "d2ffec2e",
   "metadata": {},
   "outputs": [],
   "source": [
    "drawProg(\"1 + (λx => x)\");"
   ]
  },
  {
   "cell_type": "markdown",
   "id": "3c373f2f",
   "metadata": {},
   "source": [
    "#### Non-Example 3"
   ]
  },
  {
   "cell_type": "code",
   "execution_count": 20,
   "id": "2ff20392",
   "metadata": {},
   "outputs": [
    {
     "name": "stdout",
     "output_type": "stream",
     "text": [
      "\u001b[33m3\u001b[39m\n"
     ]
    }
   ],
   "source": [
    "((x) => 1 + x)(2)"
   ]
  },
  {
   "cell_type": "code",
   "execution_count": 21,
   "id": "87a5d639",
   "metadata": {},
   "outputs": [
    {
     "data": {
      "text/html": [
       "\n",
       "<style>\n",
       "    #mydiv627fc061-f5d6-45aa-8128-a2f5fd4c26b0 {\n",
       "        width: 800px;\n",
       "        height: 350px;\n",
       "        top: 0px;\n",
       "        left: 0px;\n",
       "    }\n",
       "</style>\n",
       "<div id=\"mydiv627fc061-f5d6-45aa-8128-a2f5fd4c26b0\"></div>\n"
      ]
     },
     "metadata": {},
     "output_type": "display_data"
    },
    {
     "data": {
      "text/html": [
       "\n",
       "<script>\n",
       " (function(element) {\n",
       "     require(['cytoscape'], function(cytoscape) {   \n",
       "        var cy = cytoscape({\n",
       "         container: document.getElementById('mydiv627fc061-f5d6-45aa-8128-a2f5fd4c26b0'),\n",
       "         style: [\n",
       "{\n",
       "  selector: 'node',\n",
       "  css: {\n",
       "    'class': \".bx--tree\",\n",
       "    'label': 'data(label)',\n",
       "    'height': '10px',\n",
       "    'width': '10px',\n",
       "  }\n",
       "},\n",
       "{\n",
       "  selector: 'edge',\n",
       "  css: {\n",
       "    'width': 3,\n",
       "    // 'line-color': '#ccc123',\n",
       "    'curve-style': 'bezier',\n",
       "    'target-arrow-shape': 'triangle',\n",
       "    'target-arrow-fill': 'filled',\n",
       "    'arrow-scale': 1,\n",
       "  }\n",
       "}\n",
       "],\n",
       "         layout: \n",
       "{\n",
       "  name: 'preset'\n",
       "}\n",
       ",\n",
       "         elements: [\n",
       "  { data: { id: 'call1', label: 'call' }, position: { x: 0, y: 0 } },\n",
       "  { data: { id: 'edge9', source: 'call1', target: 'function2' } },\n",
       "  { data: { id: 'edge11', source: 'call1', target: 'number10' } },\n",
       "  {\n",
       "    data: { id: 'function2', label: 'λ(x)' },\n",
       "    position: { x: -100, y: 50 }\n",
       "  },\n",
       "  { data: { id: 'edge8', source: 'function2', target: 'binary3' } },\n",
       "  {\n",
       "    data: { id: 'binary3', label: '+' },\n",
       "    position: { x: -100, y: 100 }\n",
       "  },\n",
       "  { data: { id: 'edge5', source: 'binary3', target: 'number4' } },\n",
       "  { data: { id: 'edge7', source: 'binary3', target: 'identifier6' } },\n",
       "  {\n",
       "    data: { id: 'number4', label: 1 },\n",
       "    position: { x: -133.33333333333334, y: 150 }\n",
       "  },\n",
       "  {\n",
       "    data: { id: 'identifier6', label: 'x' },\n",
       "    position: { x: -66.66666666666666, y: 150 }\n",
       "  },\n",
       "  { data: { id: 'number10', label: 2 }, position: { x: 100, y: 50 } }\n",
       "]\n",
       "         });\n",
       "     });\n",
       " })(this.element);\n",
       "</script>\n"
      ]
     },
     "metadata": {},
     "output_type": "display_data"
    }
   ],
   "source": [
    "drawProg(\"(λx => 1 + x)(2)\");"
   ]
  },
  {
   "cell_type": "markdown",
   "id": "58707e96",
   "metadata": {},
   "source": [
    "#### Non-Example 4"
   ]
  },
  {
   "cell_type": "code",
   "execution_count": 22,
   "id": "2733d303",
   "metadata": {},
   "outputs": [
    {
     "name": "stdout",
     "output_type": "stream",
     "text": [
      "\u001b[33m3\u001b[39m\n"
     ]
    }
   ],
   "source": [
    "(λx => 1 + 1 + 1)(λx => 1 + 1 + 1)"
   ]
  },
  {
   "cell_type": "code",
   "execution_count": 23,
   "id": "d53943d1",
   "metadata": {},
   "outputs": [
    {
     "data": {
      "text/html": [
       "\n",
       "<style>\n",
       "    #mydiveb3ab47a-fcd7-4486-8fa5-59f5af902913 {\n",
       "        width: 800px;\n",
       "        height: 350px;\n",
       "        top: 0px;\n",
       "        left: 0px;\n",
       "    }\n",
       "</style>\n",
       "<div id=\"mydiveb3ab47a-fcd7-4486-8fa5-59f5af902913\"></div>\n"
      ]
     },
     "metadata": {},
     "output_type": "display_data"
    },
    {
     "data": {
      "text/html": [
       "\n",
       "<script>\n",
       " (function(element) {\n",
       "     require(['cytoscape'], function(cytoscape) {   \n",
       "        var cy = cytoscape({\n",
       "         container: document.getElementById('mydiveb3ab47a-fcd7-4486-8fa5-59f5af902913'),\n",
       "         style: [\n",
       "{\n",
       "  selector: 'node',\n",
       "  css: {\n",
       "    'class': \".bx--tree\",\n",
       "    'label': 'data(label)',\n",
       "    'height': '10px',\n",
       "    'width': '10px',\n",
       "  }\n",
       "},\n",
       "{\n",
       "  selector: 'edge',\n",
       "  css: {\n",
       "    'width': 3,\n",
       "    // 'line-color': '#ccc123',\n",
       "    'curve-style': 'bezier',\n",
       "    'target-arrow-shape': 'triangle',\n",
       "    'target-arrow-fill': 'filled',\n",
       "    'arrow-scale': 1,\n",
       "  }\n",
       "}\n",
       "],\n",
       "         layout: \n",
       "{\n",
       "  name: 'preset'\n",
       "}\n",
       ",\n",
       "         elements: [\n",
       "  { data: { id: 'call1', label: 'call' }, position: { x: 0, y: 0 } },\n",
       "  { data: { id: 'edge13', source: 'call1', target: 'function2' } },\n",
       "  { data: { id: 'edge25', source: 'call1', target: 'function14' } },\n",
       "  {\n",
       "    data: { id: 'function2', label: 'λ(x)' },\n",
       "    position: { x: -100, y: 50 }\n",
       "  },\n",
       "  { data: { id: 'edge12', source: 'function2', target: 'binary3' } },\n",
       "  {\n",
       "    data: { id: 'binary3', label: '+' },\n",
       "    position: { x: -100, y: 100 }\n",
       "  },\n",
       "  { data: { id: 'edge9', source: 'binary3', target: 'binary4' } },\n",
       "  { data: { id: 'edge11', source: 'binary3', target: 'number10' } },\n",
       "  {\n",
       "    data: { id: 'binary4', label: '+' },\n",
       "    position: { x: -133.33333333333334, y: 150 }\n",
       "  },\n",
       "  { data: { id: 'edge6', source: 'binary4', target: 'number5' } },\n",
       "  { data: { id: 'edge8', source: 'binary4', target: 'number7' } },\n",
       "  {\n",
       "    data: { id: 'number5', label: 1 },\n",
       "    position: { x: -158.33333333333334, y: 200 }\n",
       "  },\n",
       "  {\n",
       "    data: { id: 'number7', label: 1 },\n",
       "    position: { x: -108.33333333333334, y: 200 }\n",
       "  },\n",
       "  {\n",
       "    data: { id: 'number10', label: 1 },\n",
       "    position: { x: -66.66666666666666, y: 150 }\n",
       "  },\n",
       "  {\n",
       "    data: { id: 'function14', label: 'λ(x)' },\n",
       "    position: { x: 100, y: 50 }\n",
       "  },\n",
       "  { data: { id: 'edge24', source: 'function14', target: 'binary15' } },\n",
       "  {\n",
       "    data: { id: 'binary15', label: '+' },\n",
       "    position: { x: 100, y: 100 }\n",
       "  },\n",
       "  { data: { id: 'edge21', source: 'binary15', target: 'binary16' } },\n",
       "  { data: { id: 'edge23', source: 'binary15', target: 'number22' } },\n",
       "  {\n",
       "    data: { id: 'binary16', label: '+' },\n",
       "    position: { x: 66.66666666666666, y: 150 }\n",
       "  },\n",
       "  { data: { id: 'edge18', source: 'binary16', target: 'number17' } },\n",
       "  { data: { id: 'edge20', source: 'binary16', target: 'number19' } },\n",
       "  {\n",
       "    data: { id: 'number17', label: 1 },\n",
       "    position: { x: 41.66666666666666, y: 200 }\n",
       "  },\n",
       "  {\n",
       "    data: { id: 'number19', label: 1 },\n",
       "    position: { x: 91.66666666666666, y: 200 }\n",
       "  },\n",
       "  {\n",
       "    data: { id: 'number22', label: 1 },\n",
       "    position: { x: 133.33333333333334, y: 150 }\n",
       "  }\n",
       "]\n",
       "         });\n",
       "     });\n",
       " })(this.element);\n",
       "</script>\n"
      ]
     },
     "metadata": {},
     "output_type": "display_data"
    }
   ],
   "source": [
    "drawProg(\"(λx => 1 + 1 + 1)(λx => 1 + 1 + 1)\");"
   ]
  },
  {
   "cell_type": "markdown",
   "id": "4f01da28",
   "metadata": {},
   "source": [
    "#### Observations\n",
    "\n",
    "1. Values refer to expressions (see `FunctionValue`).\n",
    "2. Values form a *subset* of expressions, i.e., every value is an expression but not vice versa. (You may be wondering about environments. Recall that you can encode dictionaries with first-class functions.)"
   ]
  },
  {
   "cell_type": "markdown",
   "id": "85e8944b",
   "metadata": {},
   "source": [
    "#### Examples"
   ]
  },
  {
   "cell_type": "markdown",
   "id": "7fc98684",
   "metadata": {},
   "source": [
    "### Now it's time to write an interpreter!\n",
    "\n",
    "Goal: reproduce what TypeScript already gives us.\n",
    "\n",
    "```\n",
    "function interpret(e: E.Expr): Value {\n",
    "   // TODO\n",
    "}\n",
    "```"
   ]
  },
  {
   "cell_type": "markdown",
   "id": "19a897d5",
   "metadata": {},
   "source": [
    "### Interpret with Arithmetic\n",
    "\n",
    "Let's begin by focusing on just part of the language, the part that deals with arithmetic.\n",
    "\n",
    "```ts\n",
    "export type Expr = NumericConstant | BinaryExpr | ConditionalExpr;\n",
    "\n",
    "export type BinaryExpr = { tag: \"BINARY\";\n",
    "    operator: BinaryOperator;\n",
    "    left: Expr;\n",
    "    right: Expr;\n",
    "};\n",
    "\n",
    "export type ConditionalExpr = { tag: \"CONDITIONAL\";\n",
    "    condExpr: Expr;\n",
    "    thenExpr: Expr;\n",
    "    elseExpr: Expr;\n",
    "};\n",
    "```"
   ]
  },
  {
   "cell_type": "markdown",
   "id": "786ecf15",
   "metadata": {},
   "source": [
    "#### Idea: Recursively Reduce Expression to Value\n",
    "\n",
    "\n",
    "```ts\n",
    "interpert(1 + (4 / 2)) = interpert(1) + interpret(4 / 2)\n",
    "                       = 1 + (interpret(4) / interpret(2))\n",
    "                       = 1 + (4 / 2)\n",
    "                       = 3\n",
    "```"
   ]
  },
  {
   "cell_type": "code",
   "execution_count": 24,
   "id": "51546bdb",
   "metadata": {},
   "outputs": [
    {
     "data": {
      "text/html": [
       "\n",
       "<style>\n",
       "    #mydivf68afe08-22dd-4644-9d0c-8c78e47aca0c {\n",
       "        width: 800px;\n",
       "        height: 350px;\n",
       "        top: 0px;\n",
       "        left: 0px;\n",
       "    }\n",
       "</style>\n",
       "<div id=\"mydivf68afe08-22dd-4644-9d0c-8c78e47aca0c\"></div>\n"
      ]
     },
     "metadata": {},
     "output_type": "display_data"
    },
    {
     "data": {
      "text/html": [
       "\n",
       "<script>\n",
       " (function(element) {\n",
       "     require(['cytoscape'], function(cytoscape) {   \n",
       "        var cy = cytoscape({\n",
       "         container: document.getElementById('mydivf68afe08-22dd-4644-9d0c-8c78e47aca0c'),\n",
       "         style: [\n",
       "{\n",
       "  selector: 'node',\n",
       "  css: {\n",
       "    'class': \".bx--tree\",\n",
       "    'label': 'data(label)',\n",
       "    'height': '10px',\n",
       "    'width': '10px',\n",
       "  }\n",
       "},\n",
       "{\n",
       "  selector: 'edge',\n",
       "  css: {\n",
       "    'width': 3,\n",
       "    // 'line-color': '#ccc123',\n",
       "    'curve-style': 'bezier',\n",
       "    'target-arrow-shape': 'triangle',\n",
       "    'target-arrow-fill': 'filled',\n",
       "    'arrow-scale': 1,\n",
       "  }\n",
       "}\n",
       "],\n",
       "         layout: \n",
       "{\n",
       "  name: 'preset'\n",
       "}\n",
       ",\n",
       "         elements: [\n",
       "  { data: { id: 'binary1', label: '+' }, position: { x: 0, y: 0 } },\n",
       "  { data: { id: 'edge3', source: 'binary1', target: 'number2' } },\n",
       "  { data: { id: 'edge9', source: 'binary1', target: 'binary4' } },\n",
       "  { data: { id: 'number2', label: 1 }, position: { x: -100, y: 50 } },\n",
       "  { data: { id: 'binary4', label: '/' }, position: { x: 100, y: 50 } },\n",
       "  { data: { id: 'edge6', source: 'binary4', target: 'number5' } },\n",
       "  { data: { id: 'edge8', source: 'binary4', target: 'number7' } },\n",
       "  { data: { id: 'number5', label: 4 }, position: { x: 50, y: 100 } },\n",
       "  { data: { id: 'number7', label: 2 }, position: { x: 150, y: 100 } }\n",
       "]\n",
       "         });\n",
       "     });\n",
       " })(this.element);\n",
       "</script>\n"
      ]
     },
     "metadata": {},
     "output_type": "display_data"
    }
   ],
   "source": [
    "const inputAST = Parser.parse(\"1 + 4 / 2\");\n",
    "drawProg(inputAST);"
   ]
  },
  {
   "cell_type": "code",
   "execution_count": 25,
   "id": "dcd7544d",
   "metadata": {},
   "outputs": [
    {
     "data": {
      "text/html": [
       "\n",
       "<style>\n",
       "    #mydiv02ba9960-5b21-4c77-a835-ec8b11069c31 {\n",
       "        width: 800px;\n",
       "        height: 350px;\n",
       "        top: 0px;\n",
       "        left: 0px;\n",
       "    }\n",
       "</style>\n",
       "<div id=\"mydiv02ba9960-5b21-4c77-a835-ec8b11069c31\"></div>\n"
      ]
     },
     "metadata": {},
     "output_type": "display_data"
    },
    {
     "data": {
      "text/html": [
       "\n",
       "<script>\n",
       " (function(element) {\n",
       "     require(['cytoscape'], function(cytoscape) {   \n",
       "        var cy = cytoscape({\n",
       "         container: document.getElementById('mydiv02ba9960-5b21-4c77-a835-ec8b11069c31'),\n",
       "         style: [\n",
       "{\n",
       "  selector: 'node',\n",
       "  css: {\n",
       "    'class': \".bx--tree\",\n",
       "    'label': 'data(label)',\n",
       "    'height': '10px',\n",
       "    'width': '10px',\n",
       "  }\n",
       "},\n",
       "{\n",
       "  selector: 'edge',\n",
       "  css: {\n",
       "    'width': 3,\n",
       "    // 'line-color': '#ccc123',\n",
       "    'curve-style': 'bezier',\n",
       "    'target-arrow-shape': 'triangle',\n",
       "    'target-arrow-fill': 'filled',\n",
       "    'arrow-scale': 1,\n",
       "  }\n",
       "}\n",
       "],\n",
       "         layout: \n",
       "{\n",
       "  name: 'preset'\n",
       "}\n",
       ",\n",
       "         elements: [ { data: { id: 'number1', label: 1 }, position: { x: 0, y: 0 } } ]\n",
       "         });\n",
       "     });\n",
       " })(this.element);\n",
       "</script>\n"
      ]
     },
     "metadata": {},
     "output_type": "display_data"
    }
   ],
   "source": [
    "// Left\n",
    "const intermediateAST0 = Parser.parse(\"1\");\n",
    "drawProg(intermediateAST0);"
   ]
  },
  {
   "cell_type": "code",
   "execution_count": 26,
   "id": "ca469df3",
   "metadata": {},
   "outputs": [
    {
     "data": {
      "text/html": [
       "\n",
       "<style>\n",
       "    #mydivfddeaed8-a71f-4da1-bcfb-ab438415e415 {\n",
       "        width: 800px;\n",
       "        height: 350px;\n",
       "        top: 0px;\n",
       "        left: 0px;\n",
       "    }\n",
       "</style>\n",
       "<div id=\"mydivfddeaed8-a71f-4da1-bcfb-ab438415e415\"></div>\n"
      ]
     },
     "metadata": {},
     "output_type": "display_data"
    },
    {
     "data": {
      "text/html": [
       "\n",
       "<script>\n",
       " (function(element) {\n",
       "     require(['cytoscape'], function(cytoscape) {   \n",
       "        var cy = cytoscape({\n",
       "         container: document.getElementById('mydivfddeaed8-a71f-4da1-bcfb-ab438415e415'),\n",
       "         style: [\n",
       "{\n",
       "  selector: 'node',\n",
       "  css: {\n",
       "    'class': \".bx--tree\",\n",
       "    'label': 'data(label)',\n",
       "    'height': '10px',\n",
       "    'width': '10px',\n",
       "  }\n",
       "},\n",
       "{\n",
       "  selector: 'edge',\n",
       "  css: {\n",
       "    'width': 3,\n",
       "    // 'line-color': '#ccc123',\n",
       "    'curve-style': 'bezier',\n",
       "    'target-arrow-shape': 'triangle',\n",
       "    'target-arrow-fill': 'filled',\n",
       "    'arrow-scale': 1,\n",
       "  }\n",
       "}\n",
       "],\n",
       "         layout: \n",
       "{\n",
       "  name: 'preset'\n",
       "}\n",
       ",\n",
       "         elements: [\n",
       "  { data: { id: 'binary1', label: '/' }, position: { x: 0, y: 0 } },\n",
       "  { data: { id: 'edge3', source: 'binary1', target: 'number2' } },\n",
       "  { data: { id: 'edge5', source: 'binary1', target: 'number4' } },\n",
       "  { data: { id: 'number2', label: 4 }, position: { x: -100, y: 50 } },\n",
       "  { data: { id: 'number4', label: 2 }, position: { x: 100, y: 50 } }\n",
       "]\n",
       "         });\n",
       "     });\n",
       " })(this.element);\n",
       "</script>\n"
      ]
     },
     "metadata": {},
     "output_type": "display_data"
    },
    {
     "data": {
      "text/html": [
       "\n",
       "<style>\n",
       "    #mydiv147a2d53-f6fd-4a11-b89e-f15cbedb1c92 {\n",
       "        width: 800px;\n",
       "        height: 350px;\n",
       "        top: 0px;\n",
       "        left: 0px;\n",
       "    }\n",
       "</style>\n",
       "<div id=\"mydiv147a2d53-f6fd-4a11-b89e-f15cbedb1c92\"></div>\n"
      ]
     },
     "metadata": {},
     "output_type": "display_data"
    },
    {
     "data": {
      "text/html": [
       "\n",
       "<script>\n",
       " (function(element) {\n",
       "     require(['cytoscape'], function(cytoscape) {   \n",
       "        var cy = cytoscape({\n",
       "         container: document.getElementById('mydiv147a2d53-f6fd-4a11-b89e-f15cbedb1c92'),\n",
       "         style: [\n",
       "{\n",
       "  selector: 'node',\n",
       "  css: {\n",
       "    'class': \".bx--tree\",\n",
       "    'label': 'data(label)',\n",
       "    'height': '10px',\n",
       "    'width': '10px',\n",
       "  }\n",
       "},\n",
       "{\n",
       "  selector: 'edge',\n",
       "  css: {\n",
       "    'width': 3,\n",
       "    // 'line-color': '#ccc123',\n",
       "    'curve-style': 'bezier',\n",
       "    'target-arrow-shape': 'triangle',\n",
       "    'target-arrow-fill': 'filled',\n",
       "    'arrow-scale': 1,\n",
       "  }\n",
       "}\n",
       "],\n",
       "         layout: \n",
       "{\n",
       "  name: 'preset'\n",
       "}\n",
       ",\n",
       "         elements: [ { data: { id: 'number1', label: 4 }, position: { x: 0, y: 0 } } ]\n",
       "         });\n",
       "     });\n",
       " })(this.element);\n",
       "</script>\n"
      ]
     },
     "metadata": {},
     "output_type": "display_data"
    },
    {
     "data": {
      "text/html": [
       "\n",
       "<style>\n",
       "    #mydiv23e8d52a-95de-49e3-bbce-22512a67341a {\n",
       "        width: 800px;\n",
       "        height: 350px;\n",
       "        top: 0px;\n",
       "        left: 0px;\n",
       "    }\n",
       "</style>\n",
       "<div id=\"mydiv23e8d52a-95de-49e3-bbce-22512a67341a\"></div>\n"
      ]
     },
     "metadata": {},
     "output_type": "display_data"
    },
    {
     "data": {
      "text/html": [
       "\n",
       "<script>\n",
       " (function(element) {\n",
       "     require(['cytoscape'], function(cytoscape) {   \n",
       "        var cy = cytoscape({\n",
       "         container: document.getElementById('mydiv23e8d52a-95de-49e3-bbce-22512a67341a'),\n",
       "         style: [\n",
       "{\n",
       "  selector: 'node',\n",
       "  css: {\n",
       "    'class': \".bx--tree\",\n",
       "    'label': 'data(label)',\n",
       "    'height': '10px',\n",
       "    'width': '10px',\n",
       "  }\n",
       "},\n",
       "{\n",
       "  selector: 'edge',\n",
       "  css: {\n",
       "    'width': 3,\n",
       "    // 'line-color': '#ccc123',\n",
       "    'curve-style': 'bezier',\n",
       "    'target-arrow-shape': 'triangle',\n",
       "    'target-arrow-fill': 'filled',\n",
       "    'arrow-scale': 1,\n",
       "  }\n",
       "}\n",
       "],\n",
       "         layout: \n",
       "{\n",
       "  name: 'preset'\n",
       "}\n",
       ",\n",
       "         elements: [ { data: { id: 'number1', label: 2 }, position: { x: 0, y: 0 } } ]\n",
       "         });\n",
       "     });\n",
       " })(this.element);\n",
       "</script>\n"
      ]
     },
     "metadata": {},
     "output_type": "display_data"
    }
   ],
   "source": [
    "// Right\n",
    "const intermediateAST1 = Parser.parse(\"4 / 2\");\n",
    "drawProg(intermediateAST1);\n",
    "const intermediateAST2 = Parser.parse(\"4\");\n",
    "drawProg(intermediateAST2);\n",
    "const intermediateAST3 = Parser.parse(\"2\");\n",
    "drawProg(intermediateAST3);"
   ]
  },
  {
   "cell_type": "code",
   "execution_count": 27,
   "id": "15b66cbf",
   "metadata": {},
   "outputs": [
    {
     "data": {
      "text/html": [
       "\n",
       "<style>\n",
       "    #mydiv968ee563-4857-4b63-95cd-ad81a409322f {\n",
       "        width: 800px;\n",
       "        height: 350px;\n",
       "        top: 0px;\n",
       "        left: 0px;\n",
       "    }\n",
       "</style>\n",
       "<div id=\"mydiv968ee563-4857-4b63-95cd-ad81a409322f\"></div>\n"
      ]
     },
     "metadata": {},
     "output_type": "display_data"
    },
    {
     "data": {
      "text/html": [
       "\n",
       "<script>\n",
       " (function(element) {\n",
       "     require(['cytoscape'], function(cytoscape) {   \n",
       "        var cy = cytoscape({\n",
       "         container: document.getElementById('mydiv968ee563-4857-4b63-95cd-ad81a409322f'),\n",
       "         style: [\n",
       "{\n",
       "  selector: 'node',\n",
       "  css: {\n",
       "    'class': \".bx--tree\",\n",
       "    'label': 'data(label)',\n",
       "    'height': '10px',\n",
       "    'width': '10px',\n",
       "  }\n",
       "},\n",
       "{\n",
       "  selector: 'edge',\n",
       "  css: {\n",
       "    'width': 3,\n",
       "    // 'line-color': '#ccc123',\n",
       "    'curve-style': 'bezier',\n",
       "    'target-arrow-shape': 'triangle',\n",
       "    'target-arrow-fill': 'filled',\n",
       "    'arrow-scale': 1,\n",
       "  }\n",
       "}\n",
       "],\n",
       "         layout: \n",
       "{\n",
       "  name: 'preset'\n",
       "}\n",
       ",\n",
       "         elements: [ { data: { id: 'number1', label: 3 }, position: { x: 0, y: 0 } } ]\n",
       "         });\n",
       "     });\n",
       " })(this.element);\n",
       "</script>\n"
      ]
     },
     "metadata": {},
     "output_type": "display_data"
    }
   ],
   "source": [
    "// Output\n",
    "const valueAndOutputAST = Parser.parse(\"3\");\n",
    "drawProg(valueAndOutputAST);"
   ]
  },
  {
   "cell_type": "code",
   "execution_count": 28,
   "id": "f32b72d6",
   "metadata": {},
   "outputs": [],
   "source": [
    "function interpret(e: E.Expr): Value {\n",
    "    switch (e.tag) {\n",
    "        case \"NUMBER\": {\n",
    "            return T.mkNumericConstant(e.value);\n",
    "        }\n",
    "        case \"BINARY\": { // 1 + 2\n",
    "            const leftVal = interpret(e.left);\n",
    "            const rightVal = interpret(e.right);\n",
    "            return interpretBinop(leftVal, e.operator, rightVal);\n",
    "        }\n",
    "        case \"CONDITIONAL\": {\n",
    "            const condVal = interpret(e.condExpr);\n",
    "            if (condVal.tag === \"NUMBER\" && condVal.value !== 0) {\n",
    "                return interpret(e.thenExpr);\n",
    "            } else {\n",
    "                return interpret(e.elseExpr);\n",
    "            }\n",
    "        }\n",
    "        default: {\n",
    "            throw Error(`Tag ${e.tag} not supported yet ...` );\n",
    "        }\n",
    "    }\n",
    "}\n",
    "\n",
    "function interpretBinop(leftVal: Value, op: T.BinaryOperator, rightVal: Value): Value {\n",
    "    if (leftVal.tag === \"NUMBER\" && rightVal.tag === \"NUMBER\") {\n",
    "        switch (op) {\n",
    "            case \"+\": {\n",
    "                return T.mkNumericConstant(leftVal.value + rightVal.value);\n",
    "            }\n",
    "            case \"-\": {\n",
    "                return T.mkNumericConstant(leftVal.value - rightVal.value);\n",
    "            }\n",
    "            case \"*\": {\n",
    "                return T.mkNumericConstant(leftVal.value * rightVal.value);\n",
    "            }\n",
    "            case \"/\": {\n",
    "                return T.mkNumericConstant(leftVal.value / rightVal.value);\n",
    "            }\n",
    "        }\n",
    "    } else {\n",
    "        throw Error(`Attempting ${leftVal} ${op} ${rightVal}`);\n",
    "    }\n",
    "}"
   ]
  },
  {
   "cell_type": "code",
   "execution_count": 29,
   "id": "b17c90b3",
   "metadata": {},
   "outputs": [
    {
     "name": "stdout",
     "output_type": "stream",
     "text": [
      "Input\n"
     ]
    },
    {
     "data": {
      "text/html": [
       "\n",
       "<style>\n",
       "    #mydiv2763f3d8-67d3-4552-b33d-fb34fe52af85 {\n",
       "        width: 800px;\n",
       "        height: 350px;\n",
       "        top: 0px;\n",
       "        left: 0px;\n",
       "    }\n",
       "</style>\n",
       "<div id=\"mydiv2763f3d8-67d3-4552-b33d-fb34fe52af85\"></div>\n"
      ]
     },
     "metadata": {},
     "output_type": "display_data"
    },
    {
     "data": {
      "text/html": [
       "\n",
       "<script>\n",
       " (function(element) {\n",
       "     require(['cytoscape'], function(cytoscape) {   \n",
       "        var cy = cytoscape({\n",
       "         container: document.getElementById('mydiv2763f3d8-67d3-4552-b33d-fb34fe52af85'),\n",
       "         style: [\n",
       "{\n",
       "  selector: 'node',\n",
       "  css: {\n",
       "    'class': \".bx--tree\",\n",
       "    'label': 'data(label)',\n",
       "    'height': '10px',\n",
       "    'width': '10px',\n",
       "  }\n",
       "},\n",
       "{\n",
       "  selector: 'edge',\n",
       "  css: {\n",
       "    'width': 3,\n",
       "    // 'line-color': '#ccc123',\n",
       "    'curve-style': 'bezier',\n",
       "    'target-arrow-shape': 'triangle',\n",
       "    'target-arrow-fill': 'filled',\n",
       "    'arrow-scale': 1,\n",
       "  }\n",
       "}\n",
       "],\n",
       "         layout: \n",
       "{\n",
       "  name: 'preset'\n",
       "}\n",
       ",\n",
       "         elements: [\n",
       "  { data: { id: 'binary1', label: '+' }, position: { x: 0, y: 0 } },\n",
       "  { data: { id: 'edge3', source: 'binary1', target: 'number2' } },\n",
       "  { data: { id: 'edge5', source: 'binary1', target: 'number4' } },\n",
       "  { data: { id: 'number2', label: 1 }, position: { x: -100, y: 50 } },\n",
       "  { data: { id: 'number4', label: 1 }, position: { x: 100, y: 50 } }\n",
       "]\n",
       "         });\n",
       "     });\n",
       " })(this.element);\n",
       "</script>\n"
      ]
     },
     "metadata": {},
     "output_type": "display_data"
    },
    {
     "name": "stdout",
     "output_type": "stream",
     "text": [
      "Output\n"
     ]
    },
    {
     "data": {
      "text/html": [
       "\n",
       "<style>\n",
       "    #mydiv5ca3f19f-dd7e-412a-87c9-bb0f9275a0dc {\n",
       "        width: 800px;\n",
       "        height: 350px;\n",
       "        top: 0px;\n",
       "        left: 0px;\n",
       "    }\n",
       "</style>\n",
       "<div id=\"mydiv5ca3f19f-dd7e-412a-87c9-bb0f9275a0dc\"></div>\n"
      ]
     },
     "metadata": {},
     "output_type": "display_data"
    },
    {
     "data": {
      "text/html": [
       "\n",
       "<script>\n",
       " (function(element) {\n",
       "     require(['cytoscape'], function(cytoscape) {   \n",
       "        var cy = cytoscape({\n",
       "         container: document.getElementById('mydiv5ca3f19f-dd7e-412a-87c9-bb0f9275a0dc'),\n",
       "         style: [\n",
       "{\n",
       "  selector: 'node',\n",
       "  css: {\n",
       "    'class': \".bx--tree\",\n",
       "    'label': 'data(label)',\n",
       "    'height': '10px',\n",
       "    'width': '10px',\n",
       "  }\n",
       "},\n",
       "{\n",
       "  selector: 'edge',\n",
       "  css: {\n",
       "    'width': 3,\n",
       "    // 'line-color': '#ccc123',\n",
       "    'curve-style': 'bezier',\n",
       "    'target-arrow-shape': 'triangle',\n",
       "    'target-arrow-fill': 'filled',\n",
       "    'arrow-scale': 1,\n",
       "  }\n",
       "}\n",
       "],\n",
       "         layout: \n",
       "{\n",
       "  name: 'preset'\n",
       "}\n",
       ",\n",
       "         elements: [ { data: { id: 'number1', label: 2 }, position: { x: 0, y: 0 } } ]\n",
       "         });\n",
       "     });\n",
       " })(this.element);\n",
       "</script>\n"
      ]
     },
     "metadata": {},
     "output_type": "display_data"
    },
    {
     "name": "stdout",
     "output_type": "stream",
     "text": [
      "Expected output \u001b[33m2\u001b[39m\n"
     ]
    }
   ],
   "source": [
    "const inputAST = Parser.parse(\"1 + 1\");\n",
    "const outputAST = interpret(inputAST);\n",
    "console.log(\"Input\");\n",
    "drawProg(inputAST);\n",
    "console.log(\"Output\");\n",
    "drawProg(outputAST);\n",
    "console.log(\"Expected output\", 1 + 1);"
   ]
  },
  {
   "cell_type": "code",
   "execution_count": 30,
   "id": "dbd9e83f",
   "metadata": {},
   "outputs": [
    {
     "name": "stdout",
     "output_type": "stream",
     "text": [
      "Input\n"
     ]
    },
    {
     "data": {
      "text/html": [
       "\n",
       "<style>\n",
       "    #mydiv6dec4a15-87eb-4a35-b89d-c9adfc406d9b {\n",
       "        width: 800px;\n",
       "        height: 350px;\n",
       "        top: 0px;\n",
       "        left: 0px;\n",
       "    }\n",
       "</style>\n",
       "<div id=\"mydiv6dec4a15-87eb-4a35-b89d-c9adfc406d9b\"></div>\n"
      ]
     },
     "metadata": {},
     "output_type": "display_data"
    },
    {
     "data": {
      "text/html": [
       "\n",
       "<script>\n",
       " (function(element) {\n",
       "     require(['cytoscape'], function(cytoscape) {   \n",
       "        var cy = cytoscape({\n",
       "         container: document.getElementById('mydiv6dec4a15-87eb-4a35-b89d-c9adfc406d9b'),\n",
       "         style: [\n",
       "{\n",
       "  selector: 'node',\n",
       "  css: {\n",
       "    'class': \".bx--tree\",\n",
       "    'label': 'data(label)',\n",
       "    'height': '10px',\n",
       "    'width': '10px',\n",
       "  }\n",
       "},\n",
       "{\n",
       "  selector: 'edge',\n",
       "  css: {\n",
       "    'width': 3,\n",
       "    // 'line-color': '#ccc123',\n",
       "    'curve-style': 'bezier',\n",
       "    'target-arrow-shape': 'triangle',\n",
       "    'target-arrow-fill': 'filled',\n",
       "    'arrow-scale': 1,\n",
       "  }\n",
       "}\n",
       "],\n",
       "         layout: \n",
       "{\n",
       "  name: 'preset'\n",
       "}\n",
       ",\n",
       "         elements: [\n",
       "  { data: { id: 'binary1', label: '+' }, position: { x: 0, y: 0 } },\n",
       "  { data: { id: 'edge3', source: 'binary1', target: 'number2' } },\n",
       "  { data: { id: 'edge9', source: 'binary1', target: 'binary4' } },\n",
       "  { data: { id: 'number2', label: 1 }, position: { x: -100, y: 50 } },\n",
       "  { data: { id: 'binary4', label: '/' }, position: { x: 100, y: 50 } },\n",
       "  { data: { id: 'edge6', source: 'binary4', target: 'number5' } },\n",
       "  { data: { id: 'edge8', source: 'binary4', target: 'number7' } },\n",
       "  { data: { id: 'number5', label: 4 }, position: { x: 50, y: 100 } },\n",
       "  { data: { id: 'number7', label: 2 }, position: { x: 150, y: 100 } }\n",
       "]\n",
       "         });\n",
       "     });\n",
       " })(this.element);\n",
       "</script>\n"
      ]
     },
     "metadata": {},
     "output_type": "display_data"
    },
    {
     "name": "stdout",
     "output_type": "stream",
     "text": [
      "Output\n"
     ]
    },
    {
     "data": {
      "text/html": [
       "\n",
       "<style>\n",
       "    #mydiv46d31a38-bc6b-43ee-b843-3984a0ff256b {\n",
       "        width: 800px;\n",
       "        height: 350px;\n",
       "        top: 0px;\n",
       "        left: 0px;\n",
       "    }\n",
       "</style>\n",
       "<div id=\"mydiv46d31a38-bc6b-43ee-b843-3984a0ff256b\"></div>\n"
      ]
     },
     "metadata": {},
     "output_type": "display_data"
    },
    {
     "data": {
      "text/html": [
       "\n",
       "<script>\n",
       " (function(element) {\n",
       "     require(['cytoscape'], function(cytoscape) {   \n",
       "        var cy = cytoscape({\n",
       "         container: document.getElementById('mydiv46d31a38-bc6b-43ee-b843-3984a0ff256b'),\n",
       "         style: [\n",
       "{\n",
       "  selector: 'node',\n",
       "  css: {\n",
       "    'class': \".bx--tree\",\n",
       "    'label': 'data(label)',\n",
       "    'height': '10px',\n",
       "    'width': '10px',\n",
       "  }\n",
       "},\n",
       "{\n",
       "  selector: 'edge',\n",
       "  css: {\n",
       "    'width': 3,\n",
       "    // 'line-color': '#ccc123',\n",
       "    'curve-style': 'bezier',\n",
       "    'target-arrow-shape': 'triangle',\n",
       "    'target-arrow-fill': 'filled',\n",
       "    'arrow-scale': 1,\n",
       "  }\n",
       "}\n",
       "],\n",
       "         layout: \n",
       "{\n",
       "  name: 'preset'\n",
       "}\n",
       ",\n",
       "         elements: [ { data: { id: 'number1', label: 3 }, position: { x: 0, y: 0 } } ]\n",
       "         });\n",
       "     });\n",
       " })(this.element);\n",
       "</script>\n"
      ]
     },
     "metadata": {},
     "output_type": "display_data"
    },
    {
     "name": "stdout",
     "output_type": "stream",
     "text": [
      "Expected output \u001b[33m3\u001b[39m\n"
     ]
    }
   ],
   "source": [
    "const inputAST = Parser.parse(\"1 + 4 / 2\");\n",
    "const outputAST = interpret(inputAST);\n",
    "console.log(\"Input\");\n",
    "drawProg(inputAST);\n",
    "console.log(\"Output\");\n",
    "drawProg(outputAST);\n",
    "console.log(\"Expected output\", 1 + 4 / 2);"
   ]
  },
  {
   "cell_type": "code",
   "execution_count": 31,
   "id": "45df794d",
   "metadata": {},
   "outputs": [
    {
     "name": "stdout",
     "output_type": "stream",
     "text": [
      "Input\n"
     ]
    },
    {
     "data": {
      "text/html": [
       "\n",
       "<style>\n",
       "    #mydiv04a1cf9c-296e-4540-86f8-396fa83b6b6b {\n",
       "        width: 800px;\n",
       "        height: 350px;\n",
       "        top: 0px;\n",
       "        left: 0px;\n",
       "    }\n",
       "</style>\n",
       "<div id=\"mydiv04a1cf9c-296e-4540-86f8-396fa83b6b6b\"></div>\n"
      ]
     },
     "metadata": {},
     "output_type": "display_data"
    },
    {
     "data": {
      "text/html": [
       "\n",
       "<script>\n",
       " (function(element) {\n",
       "     require(['cytoscape'], function(cytoscape) {   \n",
       "        var cy = cytoscape({\n",
       "         container: document.getElementById('mydiv04a1cf9c-296e-4540-86f8-396fa83b6b6b'),\n",
       "         style: [\n",
       "{\n",
       "  selector: 'node',\n",
       "  css: {\n",
       "    'class': \".bx--tree\",\n",
       "    'label': 'data(label)',\n",
       "    'height': '10px',\n",
       "    'width': '10px',\n",
       "  }\n",
       "},\n",
       "{\n",
       "  selector: 'edge',\n",
       "  css: {\n",
       "    'width': 3,\n",
       "    // 'line-color': '#ccc123',\n",
       "    'curve-style': 'bezier',\n",
       "    'target-arrow-shape': 'triangle',\n",
       "    'target-arrow-fill': 'filled',\n",
       "    'arrow-scale': 1,\n",
       "  }\n",
       "}\n",
       "],\n",
       "         layout: \n",
       "{\n",
       "  name: 'preset'\n",
       "}\n",
       ",\n",
       "         elements: [\n",
       "  {\n",
       "    data: { id: 'conditional1', label: 'if' },\n",
       "    position: { x: 0, y: 0 }\n",
       "  },\n",
       "  { data: { id: 'edge3', source: 'conditional1', target: 'number2' } },\n",
       "  { data: { id: 'edge5', source: 'conditional1', target: 'number4' } },\n",
       "  { data: { id: 'edge11', source: 'conditional1', target: 'binary6' } },\n",
       "  { data: { id: 'number2', label: 1 }, position: { x: -150, y: 50 } },\n",
       "  { data: { id: 'number4', label: 0 }, position: { x: 0, y: 50 } },\n",
       "  { data: { id: 'binary6', label: '+' }, position: { x: 150, y: 50 } },\n",
       "  { data: { id: 'edge8', source: 'binary6', target: 'number7' } },\n",
       "  { data: { id: 'edge10', source: 'binary6', target: 'number9' } },\n",
       "  { data: { id: 'number7', label: 2 }, position: { x: 100, y: 100 } },\n",
       "  { data: { id: 'number9', label: 1 }, position: { x: 200, y: 100 } }\n",
       "]\n",
       "         });\n",
       "     });\n",
       " })(this.element);\n",
       "</script>\n"
      ]
     },
     "metadata": {},
     "output_type": "display_data"
    },
    {
     "name": "stdout",
     "output_type": "stream",
     "text": [
      "Output\n"
     ]
    },
    {
     "data": {
      "text/html": [
       "\n",
       "<style>\n",
       "    #mydiv87af1c61-2397-4e76-8bbe-3e2f8059339f {\n",
       "        width: 800px;\n",
       "        height: 350px;\n",
       "        top: 0px;\n",
       "        left: 0px;\n",
       "    }\n",
       "</style>\n",
       "<div id=\"mydiv87af1c61-2397-4e76-8bbe-3e2f8059339f\"></div>\n"
      ]
     },
     "metadata": {},
     "output_type": "display_data"
    },
    {
     "data": {
      "text/html": [
       "\n",
       "<script>\n",
       " (function(element) {\n",
       "     require(['cytoscape'], function(cytoscape) {   \n",
       "        var cy = cytoscape({\n",
       "         container: document.getElementById('mydiv87af1c61-2397-4e76-8bbe-3e2f8059339f'),\n",
       "         style: [\n",
       "{\n",
       "  selector: 'node',\n",
       "  css: {\n",
       "    'class': \".bx--tree\",\n",
       "    'label': 'data(label)',\n",
       "    'height': '10px',\n",
       "    'width': '10px',\n",
       "  }\n",
       "},\n",
       "{\n",
       "  selector: 'edge',\n",
       "  css: {\n",
       "    'width': 3,\n",
       "    // 'line-color': '#ccc123',\n",
       "    'curve-style': 'bezier',\n",
       "    'target-arrow-shape': 'triangle',\n",
       "    'target-arrow-fill': 'filled',\n",
       "    'arrow-scale': 1,\n",
       "  }\n",
       "}\n",
       "],\n",
       "         layout: \n",
       "{\n",
       "  name: 'preset'\n",
       "}\n",
       ",\n",
       "         elements: [ { data: { id: 'number1', label: 0 }, position: { x: 0, y: 0 } } ]\n",
       "         });\n",
       "     });\n",
       " })(this.element);\n",
       "</script>\n"
      ]
     },
     "metadata": {},
     "output_type": "display_data"
    },
    {
     "name": "stdout",
     "output_type": "stream",
     "text": [
      "Expected output \u001b[33m0\u001b[39m\n"
     ]
    }
   ],
   "source": [
    "const inputAST = Parser.parse(\"1 ? 0 : (2 + 1)\");\n",
    "const outputAST = interpret(inputAST);\n",
    "console.log(\"Input\");\n",
    "drawProg(E.exprToString(inputAST));\n",
    "console.log(\"Output\");\n",
    "drawProg(E.exprToString(outputAST));\n",
    "console.log(\"Expected output\", 1 ? 0 : (2 + 1));"
   ]
  },
  {
   "cell_type": "markdown",
   "id": "34c3e93d",
   "metadata": {},
   "source": [
    "### Interpret with First-Class Functions\n",
    "\n",
    "Main question: How do we interpret variables?"
   ]
  },
  {
   "cell_type": "code",
   "execution_count": 32,
   "id": "ae152b25",
   "metadata": {},
   "outputs": [
    {
     "name": "stderr",
     "output_type": "stream",
     "text": [
      "1:5 - Cannot find name 'x'.\n"
     ]
    }
   ],
   "source": [
    "1 + x;  // Should have compile error, what does x refer to?"
   ]
  },
  {
   "cell_type": "code",
   "execution_count": null,
   "id": "c3336bae",
   "metadata": {},
   "outputs": [],
   "source": [
    "const x = 1 + 2;\n",
    "const y = 2 + 3;\n",
    "1 + x + y;   // substitute 3 for x and substitute 5 for y"
   ]
  },
  {
   "cell_type": "markdown",
   "id": "5a342e16",
   "metadata": {},
   "source": [
    "#### Semantics of variables is substitution\n",
    "\n",
    "1. A variable only has meaning when it is in scope.\n",
    "2. When a variable is in scope, it's meaning is \"substitute me\" for whatever I was defined for."
   ]
  },
  {
   "cell_type": "code",
   "execution_count": 33,
   "id": "d1c27119",
   "metadata": {},
   "outputs": [],
   "source": [
    "function substitute(orig: E.Expr, x: string, other: E.Expr): E.Expr {\n",
    "    switch (orig.tag) {\n",
    "        case \"NUMBER\": {\n",
    "            return T.mkNumericConstant(orig.value);\n",
    "        }\n",
    "        case \"BINARY\": {                \n",
    "            return E.mkBinaryExpr(substitute(orig.left, x, other),\n",
    "                                  orig.operator,\n",
    "                                  substitute(orig.right, x, other));\n",
    "        }\n",
    "        case \"CONDITIONAL\": {\n",
    "            return E.mkConditionalExpr(substitute(orig.condExpr, x, other),\n",
    "                                       substitute(orig.thenExpr, x, other),\n",
    "                                       substitute(orig.elseExpr, x, other));\n",
    "        }\n",
    "        case \"FUNCTION\": { \n",
    "            return orig.parameter === x ? orig : E.mkFunctionExpr(orig.parameter, substitute(orig.body, x, other));\n",
    "        }\n",
    "        case \"IDENTIFIER\": {\n",
    "            return orig.name === x ? other : orig;\n",
    "        }\n",
    "        case \"CALL\": {\n",
    "            return E.mkCallExpr(substitute(orig.func, x, other),\n",
    "                                substitute(orig.argument, x, other));\n",
    "        }\n",
    "        default: {\n",
    "            throw Error(\"Shouldn't happen\");\n",
    "        }\n",
    "    }\n",
    "}"
   ]
  },
  {
   "cell_type": "code",
   "execution_count": 34,
   "id": "2e305a4b",
   "metadata": {},
   "outputs": [
    {
     "name": "stdout",
     "output_type": "stream",
     "text": [
      "Original\n"
     ]
    },
    {
     "data": {
      "text/html": [
       "\n",
       "<style>\n",
       "    #mydiv58d20076-93c9-4aa4-8655-2fba0d952fcc {\n",
       "        width: 800px;\n",
       "        height: 350px;\n",
       "        top: 0px;\n",
       "        left: 0px;\n",
       "    }\n",
       "</style>\n",
       "<div id=\"mydiv58d20076-93c9-4aa4-8655-2fba0d952fcc\"></div>\n"
      ]
     },
     "metadata": {},
     "output_type": "display_data"
    },
    {
     "data": {
      "text/html": [
       "\n",
       "<script>\n",
       " (function(element) {\n",
       "     require(['cytoscape'], function(cytoscape) {   \n",
       "        var cy = cytoscape({\n",
       "         container: document.getElementById('mydiv58d20076-93c9-4aa4-8655-2fba0d952fcc'),\n",
       "         style: [\n",
       "{\n",
       "  selector: 'node',\n",
       "  css: {\n",
       "    'class': \".bx--tree\",\n",
       "    'label': 'data(label)',\n",
       "    'height': '10px',\n",
       "    'width': '10px',\n",
       "  }\n",
       "},\n",
       "{\n",
       "  selector: 'edge',\n",
       "  css: {\n",
       "    'width': 3,\n",
       "    // 'line-color': '#ccc123',\n",
       "    'curve-style': 'bezier',\n",
       "    'target-arrow-shape': 'triangle',\n",
       "    'target-arrow-fill': 'filled',\n",
       "    'arrow-scale': 1,\n",
       "  }\n",
       "}\n",
       "],\n",
       "         layout: \n",
       "{\n",
       "  name: 'preset'\n",
       "}\n",
       ",\n",
       "         elements: [\n",
       "  { data: { id: 'identifier1', label: 'x' }, position: { x: 0, y: 0 } }\n",
       "]\n",
       "         });\n",
       "     });\n",
       " })(this.element);\n",
       "</script>\n"
      ]
     },
     "metadata": {},
     "output_type": "display_data"
    },
    {
     "name": "stdout",
     "output_type": "stream",
     "text": [
      "Other AST\n"
     ]
    },
    {
     "data": {
      "text/html": [
       "\n",
       "<style>\n",
       "    #mydiv668efdd8-48d5-4c3a-9735-5dfc6fb98f7b {\n",
       "        width: 800px;\n",
       "        height: 350px;\n",
       "        top: 0px;\n",
       "        left: 0px;\n",
       "    }\n",
       "</style>\n",
       "<div id=\"mydiv668efdd8-48d5-4c3a-9735-5dfc6fb98f7b\"></div>\n"
      ]
     },
     "metadata": {},
     "output_type": "display_data"
    },
    {
     "data": {
      "text/html": [
       "\n",
       "<script>\n",
       " (function(element) {\n",
       "     require(['cytoscape'], function(cytoscape) {   \n",
       "        var cy = cytoscape({\n",
       "         container: document.getElementById('mydiv668efdd8-48d5-4c3a-9735-5dfc6fb98f7b'),\n",
       "         style: [\n",
       "{\n",
       "  selector: 'node',\n",
       "  css: {\n",
       "    'class': \".bx--tree\",\n",
       "    'label': 'data(label)',\n",
       "    'height': '10px',\n",
       "    'width': '10px',\n",
       "  }\n",
       "},\n",
       "{\n",
       "  selector: 'edge',\n",
       "  css: {\n",
       "    'width': 3,\n",
       "    // 'line-color': '#ccc123',\n",
       "    'curve-style': 'bezier',\n",
       "    'target-arrow-shape': 'triangle',\n",
       "    'target-arrow-fill': 'filled',\n",
       "    'arrow-scale': 1,\n",
       "  }\n",
       "}\n",
       "],\n",
       "         layout: \n",
       "{\n",
       "  name: 'preset'\n",
       "}\n",
       ",\n",
       "         elements: [ { data: { id: 'number1', label: 1 }, position: { x: 0, y: 0 } } ]\n",
       "         });\n",
       "     });\n",
       " })(this.element);\n",
       "</script>\n"
      ]
     },
     "metadata": {},
     "output_type": "display_data"
    },
    {
     "name": "stdout",
     "output_type": "stream",
     "text": [
      "Substituted\n"
     ]
    },
    {
     "data": {
      "text/html": [
       "\n",
       "<style>\n",
       "    #mydiv6b8b1983-bf68-4ae2-b22f-88f188419856 {\n",
       "        width: 800px;\n",
       "        height: 350px;\n",
       "        top: 0px;\n",
       "        left: 0px;\n",
       "    }\n",
       "</style>\n",
       "<div id=\"mydiv6b8b1983-bf68-4ae2-b22f-88f188419856\"></div>\n"
      ]
     },
     "metadata": {},
     "output_type": "display_data"
    },
    {
     "data": {
      "text/html": [
       "\n",
       "<script>\n",
       " (function(element) {\n",
       "     require(['cytoscape'], function(cytoscape) {   \n",
       "        var cy = cytoscape({\n",
       "         container: document.getElementById('mydiv6b8b1983-bf68-4ae2-b22f-88f188419856'),\n",
       "         style: [\n",
       "{\n",
       "  selector: 'node',\n",
       "  css: {\n",
       "    'class': \".bx--tree\",\n",
       "    'label': 'data(label)',\n",
       "    'height': '10px',\n",
       "    'width': '10px',\n",
       "  }\n",
       "},\n",
       "{\n",
       "  selector: 'edge',\n",
       "  css: {\n",
       "    'width': 3,\n",
       "    // 'line-color': '#ccc123',\n",
       "    'curve-style': 'bezier',\n",
       "    'target-arrow-shape': 'triangle',\n",
       "    'target-arrow-fill': 'filled',\n",
       "    'arrow-scale': 1,\n",
       "  }\n",
       "}\n",
       "],\n",
       "         layout: \n",
       "{\n",
       "  name: 'preset'\n",
       "}\n",
       ",\n",
       "         elements: [ { data: { id: 'number1', label: 1 }, position: { x: 0, y: 0 } } ]\n",
       "         });\n",
       "     });\n",
       " })(this.element);\n",
       "</script>\n"
      ]
     },
     "metadata": {},
     "output_type": "display_data"
    }
   ],
   "source": [
    "const origAST = Parser.parse(\"x\");\n",
    "const otherAST = Parser.parse(\"1\");\n",
    "console.log(\"Original\");\n",
    "drawProg(origAST);\n",
    "console.log(\"Other AST\");\n",
    "drawProg(otherAST);\n",
    "console.log(\"Substituted\");\n",
    "drawProg(substitute(origAST, \"x\", otherAST));"
   ]
  },
  {
   "cell_type": "code",
   "execution_count": 35,
   "id": "480c4a33",
   "metadata": {},
   "outputs": [
    {
     "name": "stdout",
     "output_type": "stream",
     "text": [
      "Original\n"
     ]
    },
    {
     "data": {
      "text/html": [
       "\n",
       "<style>\n",
       "    #mydiv2711a6bb-f74a-4313-9aa5-1c12e4886165 {\n",
       "        width: 800px;\n",
       "        height: 350px;\n",
       "        top: 0px;\n",
       "        left: 0px;\n",
       "    }\n",
       "</style>\n",
       "<div id=\"mydiv2711a6bb-f74a-4313-9aa5-1c12e4886165\"></div>\n"
      ]
     },
     "metadata": {},
     "output_type": "display_data"
    },
    {
     "data": {
      "text/html": [
       "\n",
       "<script>\n",
       " (function(element) {\n",
       "     require(['cytoscape'], function(cytoscape) {   \n",
       "        var cy = cytoscape({\n",
       "         container: document.getElementById('mydiv2711a6bb-f74a-4313-9aa5-1c12e4886165'),\n",
       "         style: [\n",
       "{\n",
       "  selector: 'node',\n",
       "  css: {\n",
       "    'class': \".bx--tree\",\n",
       "    'label': 'data(label)',\n",
       "    'height': '10px',\n",
       "    'width': '10px',\n",
       "  }\n",
       "},\n",
       "{\n",
       "  selector: 'edge',\n",
       "  css: {\n",
       "    'width': 3,\n",
       "    // 'line-color': '#ccc123',\n",
       "    'curve-style': 'bezier',\n",
       "    'target-arrow-shape': 'triangle',\n",
       "    'target-arrow-fill': 'filled',\n",
       "    'arrow-scale': 1,\n",
       "  }\n",
       "}\n",
       "],\n",
       "         layout: \n",
       "{\n",
       "  name: 'preset'\n",
       "}\n",
       ",\n",
       "         elements: [\n",
       "  { data: { id: 'binary1', label: '+' }, position: { x: 0, y: 0 } },\n",
       "  { data: { id: 'edge7', source: 'binary1', target: 'binary2' } },\n",
       "  { data: { id: 'edge9', source: 'binary1', target: 'identifier8' } },\n",
       "  { data: { id: 'binary2', label: '+' }, position: { x: -100, y: 50 } },\n",
       "  { data: { id: 'edge4', source: 'binary2', target: 'identifier3' } },\n",
       "  { data: { id: 'edge6', source: 'binary2', target: 'identifier5' } },\n",
       "  {\n",
       "    data: { id: 'identifier3', label: 'x' },\n",
       "    position: { x: -150, y: 100 }\n",
       "  },\n",
       "  {\n",
       "    data: { id: 'identifier5', label: 'x' },\n",
       "    position: { x: -50, y: 100 }\n",
       "  },\n",
       "  {\n",
       "    data: { id: 'identifier8', label: 'x' },\n",
       "    position: { x: 100, y: 50 }\n",
       "  }\n",
       "]\n",
       "         });\n",
       "     });\n",
       " })(this.element);\n",
       "</script>\n"
      ]
     },
     "metadata": {},
     "output_type": "display_data"
    },
    {
     "name": "stdout",
     "output_type": "stream",
     "text": [
      "Other AST\n"
     ]
    },
    {
     "data": {
      "text/html": [
       "\n",
       "<style>\n",
       "    #mydive972195b-60be-42be-bff6-6db073ca399a {\n",
       "        width: 800px;\n",
       "        height: 350px;\n",
       "        top: 0px;\n",
       "        left: 0px;\n",
       "    }\n",
       "</style>\n",
       "<div id=\"mydive972195b-60be-42be-bff6-6db073ca399a\"></div>\n"
      ]
     },
     "metadata": {},
     "output_type": "display_data"
    },
    {
     "data": {
      "text/html": [
       "\n",
       "<script>\n",
       " (function(element) {\n",
       "     require(['cytoscape'], function(cytoscape) {   \n",
       "        var cy = cytoscape({\n",
       "         container: document.getElementById('mydive972195b-60be-42be-bff6-6db073ca399a'),\n",
       "         style: [\n",
       "{\n",
       "  selector: 'node',\n",
       "  css: {\n",
       "    'class': \".bx--tree\",\n",
       "    'label': 'data(label)',\n",
       "    'height': '10px',\n",
       "    'width': '10px',\n",
       "  }\n",
       "},\n",
       "{\n",
       "  selector: 'edge',\n",
       "  css: {\n",
       "    'width': 3,\n",
       "    // 'line-color': '#ccc123',\n",
       "    'curve-style': 'bezier',\n",
       "    'target-arrow-shape': 'triangle',\n",
       "    'target-arrow-fill': 'filled',\n",
       "    'arrow-scale': 1,\n",
       "  }\n",
       "}\n",
       "],\n",
       "         layout: \n",
       "{\n",
       "  name: 'preset'\n",
       "}\n",
       ",\n",
       "         elements: [\n",
       "  { data: { id: 'binary1', label: '+' }, position: { x: 0, y: 0 } },\n",
       "  { data: { id: 'edge3', source: 'binary1', target: 'number2' } },\n",
       "  { data: { id: 'edge5', source: 'binary1', target: 'number4' } },\n",
       "  { data: { id: 'number2', label: 1 }, position: { x: -100, y: 50 } },\n",
       "  { data: { id: 'number4', label: 2 }, position: { x: 100, y: 50 } }\n",
       "]\n",
       "         });\n",
       "     });\n",
       " })(this.element);\n",
       "</script>\n"
      ]
     },
     "metadata": {},
     "output_type": "display_data"
    },
    {
     "name": "stdout",
     "output_type": "stream",
     "text": [
      "Substituted\n"
     ]
    },
    {
     "data": {
      "text/html": [
       "\n",
       "<style>\n",
       "    #mydiv89dce84b-6bd2-42f3-9d6c-16468a4f210f {\n",
       "        width: 800px;\n",
       "        height: 350px;\n",
       "        top: 0px;\n",
       "        left: 0px;\n",
       "    }\n",
       "</style>\n",
       "<div id=\"mydiv89dce84b-6bd2-42f3-9d6c-16468a4f210f\"></div>\n"
      ]
     },
     "metadata": {},
     "output_type": "display_data"
    },
    {
     "data": {
      "text/html": [
       "\n",
       "<script>\n",
       " (function(element) {\n",
       "     require(['cytoscape'], function(cytoscape) {   \n",
       "        var cy = cytoscape({\n",
       "         container: document.getElementById('mydiv89dce84b-6bd2-42f3-9d6c-16468a4f210f'),\n",
       "         style: [\n",
       "{\n",
       "  selector: 'node',\n",
       "  css: {\n",
       "    'class': \".bx--tree\",\n",
       "    'label': 'data(label)',\n",
       "    'height': '10px',\n",
       "    'width': '10px',\n",
       "  }\n",
       "},\n",
       "{\n",
       "  selector: 'edge',\n",
       "  css: {\n",
       "    'width': 3,\n",
       "    // 'line-color': '#ccc123',\n",
       "    'curve-style': 'bezier',\n",
       "    'target-arrow-shape': 'triangle',\n",
       "    'target-arrow-fill': 'filled',\n",
       "    'arrow-scale': 1,\n",
       "  }\n",
       "}\n",
       "],\n",
       "         layout: \n",
       "{\n",
       "  name: 'preset'\n",
       "}\n",
       ",\n",
       "         elements: [\n",
       "  { data: { id: 'binary1', label: '+' }, position: { x: 0, y: 0 } },\n",
       "  { data: { id: 'edge15', source: 'binary1', target: 'binary2' } },\n",
       "  { data: { id: 'edge21', source: 'binary1', target: 'binary16' } },\n",
       "  { data: { id: 'binary2', label: '+' }, position: { x: -100, y: 50 } },\n",
       "  { data: { id: 'edge8', source: 'binary2', target: 'binary3' } },\n",
       "  { data: { id: 'edge14', source: 'binary2', target: 'binary9' } },\n",
       "  {\n",
       "    data: { id: 'binary3', label: '+' },\n",
       "    position: { x: -150, y: 100 }\n",
       "  },\n",
       "  { data: { id: 'edge5', source: 'binary3', target: 'number4' } },\n",
       "  { data: { id: 'edge7', source: 'binary3', target: 'number6' } },\n",
       "  {\n",
       "    data: { id: 'number4', label: 1 },\n",
       "    position: { x: -183.33333333333334, y: 150 }\n",
       "  },\n",
       "  {\n",
       "    data: { id: 'number6', label: 2 },\n",
       "    position: { x: -116.66666666666666, y: 150 }\n",
       "  },\n",
       "  { data: { id: 'binary9', label: '+' }, position: { x: -50, y: 100 } },\n",
       "  { data: { id: 'edge11', source: 'binary9', target: 'number10' } },\n",
       "  { data: { id: 'edge13', source: 'binary9', target: 'number12' } },\n",
       "  {\n",
       "    data: { id: 'number10', label: 1 },\n",
       "    position: { x: -83.33333333333334, y: 150 }\n",
       "  },\n",
       "  {\n",
       "    data: { id: 'number12', label: 2 },\n",
       "    position: { x: -16.666666666666664, y: 150 }\n",
       "  },\n",
       "  { data: { id: 'binary16', label: '+' }, position: { x: 100, y: 50 } },\n",
       "  { data: { id: 'edge18', source: 'binary16', target: 'number17' } },\n",
       "  { data: { id: 'edge20', source: 'binary16', target: 'number19' } },\n",
       "  { data: { id: 'number17', label: 1 }, position: { x: 50, y: 100 } },\n",
       "  { data: { id: 'number19', label: 2 }, position: { x: 150, y: 100 } }\n",
       "]\n",
       "         });\n",
       "     });\n",
       " })(this.element);\n",
       "</script>\n"
      ]
     },
     "metadata": {},
     "output_type": "display_data"
    }
   ],
   "source": [
    "const origAST = Parser.parse(\"x + x + x\");\n",
    "const otherAST = Parser.parse(\"1 + 2\");\n",
    "console.log(\"Original\");\n",
    "drawProg(origAST);\n",
    "console.log(\"Other AST\");\n",
    "drawProg(otherAST);\n",
    "console.log(\"Substituted\");\n",
    "drawProg(substitute(origAST, \"x\", otherAST));"
   ]
  },
  {
   "cell_type": "code",
   "execution_count": 36,
   "id": "2aea4e71",
   "metadata": {},
   "outputs": [
    {
     "name": "stdout",
     "output_type": "stream",
     "text": [
      "Original\n"
     ]
    },
    {
     "data": {
      "text/html": [
       "\n",
       "<style>\n",
       "    #mydivae170856-480c-4841-bcd0-9482a13270ba {\n",
       "        width: 800px;\n",
       "        height: 350px;\n",
       "        top: 0px;\n",
       "        left: 0px;\n",
       "    }\n",
       "</style>\n",
       "<div id=\"mydivae170856-480c-4841-bcd0-9482a13270ba\"></div>\n"
      ]
     },
     "metadata": {},
     "output_type": "display_data"
    },
    {
     "data": {
      "text/html": [
       "\n",
       "<script>\n",
       " (function(element) {\n",
       "     require(['cytoscape'], function(cytoscape) {   \n",
       "        var cy = cytoscape({\n",
       "         container: document.getElementById('mydivae170856-480c-4841-bcd0-9482a13270ba'),\n",
       "         style: [\n",
       "{\n",
       "  selector: 'node',\n",
       "  css: {\n",
       "    'class': \".bx--tree\",\n",
       "    'label': 'data(label)',\n",
       "    'height': '10px',\n",
       "    'width': '10px',\n",
       "  }\n",
       "},\n",
       "{\n",
       "  selector: 'edge',\n",
       "  css: {\n",
       "    'width': 3,\n",
       "    // 'line-color': '#ccc123',\n",
       "    'curve-style': 'bezier',\n",
       "    'target-arrow-shape': 'triangle',\n",
       "    'target-arrow-fill': 'filled',\n",
       "    'arrow-scale': 1,\n",
       "  }\n",
       "}\n",
       "],\n",
       "         layout: \n",
       "{\n",
       "  name: 'preset'\n",
       "}\n",
       ",\n",
       "         elements: [\n",
       "  { data: { id: 'identifier1', label: 'x' }, position: { x: 0, y: 0 } }\n",
       "]\n",
       "         });\n",
       "     });\n",
       " })(this.element);\n",
       "</script>\n"
      ]
     },
     "metadata": {},
     "output_type": "display_data"
    },
    {
     "name": "stdout",
     "output_type": "stream",
     "text": [
      "Other AST\n"
     ]
    },
    {
     "data": {
      "text/html": [
       "\n",
       "<style>\n",
       "    #mydivf2b00be3-591f-46ca-a2d3-462b198ae7ef {\n",
       "        width: 800px;\n",
       "        height: 350px;\n",
       "        top: 0px;\n",
       "        left: 0px;\n",
       "    }\n",
       "</style>\n",
       "<div id=\"mydivf2b00be3-591f-46ca-a2d3-462b198ae7ef\"></div>\n"
      ]
     },
     "metadata": {},
     "output_type": "display_data"
    },
    {
     "data": {
      "text/html": [
       "\n",
       "<script>\n",
       " (function(element) {\n",
       "     require(['cytoscape'], function(cytoscape) {   \n",
       "        var cy = cytoscape({\n",
       "         container: document.getElementById('mydivf2b00be3-591f-46ca-a2d3-462b198ae7ef'),\n",
       "         style: [\n",
       "{\n",
       "  selector: 'node',\n",
       "  css: {\n",
       "    'class': \".bx--tree\",\n",
       "    'label': 'data(label)',\n",
       "    'height': '10px',\n",
       "    'width': '10px',\n",
       "  }\n",
       "},\n",
       "{\n",
       "  selector: 'edge',\n",
       "  css: {\n",
       "    'width': 3,\n",
       "    // 'line-color': '#ccc123',\n",
       "    'curve-style': 'bezier',\n",
       "    'target-arrow-shape': 'triangle',\n",
       "    'target-arrow-fill': 'filled',\n",
       "    'arrow-scale': 1,\n",
       "  }\n",
       "}\n",
       "],\n",
       "         layout: \n",
       "{\n",
       "  name: 'preset'\n",
       "}\n",
       ",\n",
       "         elements: [\n",
       "  { data: { id: 'binary1', label: '+' }, position: { x: 0, y: 0 } },\n",
       "  { data: { id: 'edge3', source: 'binary1', target: 'number2' } },\n",
       "  { data: { id: 'edge9', source: 'binary1', target: 'binary4' } },\n",
       "  { data: { id: 'number2', label: 1 }, position: { x: -100, y: 50 } },\n",
       "  { data: { id: 'binary4', label: '/' }, position: { x: 100, y: 50 } },\n",
       "  { data: { id: 'edge6', source: 'binary4', target: 'number5' } },\n",
       "  { data: { id: 'edge8', source: 'binary4', target: 'number7' } },\n",
       "  { data: { id: 'number5', label: 4 }, position: { x: 50, y: 100 } },\n",
       "  { data: { id: 'number7', label: 2 }, position: { x: 150, y: 100 } }\n",
       "]\n",
       "         });\n",
       "     });\n",
       " })(this.element);\n",
       "</script>\n"
      ]
     },
     "metadata": {},
     "output_type": "display_data"
    },
    {
     "name": "stdout",
     "output_type": "stream",
     "text": [
      "Substituted\n"
     ]
    },
    {
     "data": {
      "text/html": [
       "\n",
       "<style>\n",
       "    #mydiv01d8bc71-2fd8-45ce-b501-7b57ea1c1f2d {\n",
       "        width: 800px;\n",
       "        height: 350px;\n",
       "        top: 0px;\n",
       "        left: 0px;\n",
       "    }\n",
       "</style>\n",
       "<div id=\"mydiv01d8bc71-2fd8-45ce-b501-7b57ea1c1f2d\"></div>\n"
      ]
     },
     "metadata": {},
     "output_type": "display_data"
    },
    {
     "data": {
      "text/html": [
       "\n",
       "<script>\n",
       " (function(element) {\n",
       "     require(['cytoscape'], function(cytoscape) {   \n",
       "        var cy = cytoscape({\n",
       "         container: document.getElementById('mydiv01d8bc71-2fd8-45ce-b501-7b57ea1c1f2d'),\n",
       "         style: [\n",
       "{\n",
       "  selector: 'node',\n",
       "  css: {\n",
       "    'class': \".bx--tree\",\n",
       "    'label': 'data(label)',\n",
       "    'height': '10px',\n",
       "    'width': '10px',\n",
       "  }\n",
       "},\n",
       "{\n",
       "  selector: 'edge',\n",
       "  css: {\n",
       "    'width': 3,\n",
       "    // 'line-color': '#ccc123',\n",
       "    'curve-style': 'bezier',\n",
       "    'target-arrow-shape': 'triangle',\n",
       "    'target-arrow-fill': 'filled',\n",
       "    'arrow-scale': 1,\n",
       "  }\n",
       "}\n",
       "],\n",
       "         layout: \n",
       "{\n",
       "  name: 'preset'\n",
       "}\n",
       ",\n",
       "         elements: [\n",
       "  { data: { id: 'binary1', label: '+' }, position: { x: 0, y: 0 } },\n",
       "  { data: { id: 'edge3', source: 'binary1', target: 'number2' } },\n",
       "  { data: { id: 'edge9', source: 'binary1', target: 'binary4' } },\n",
       "  { data: { id: 'number2', label: 1 }, position: { x: -100, y: 50 } },\n",
       "  { data: { id: 'binary4', label: '/' }, position: { x: 100, y: 50 } },\n",
       "  { data: { id: 'edge6', source: 'binary4', target: 'number5' } },\n",
       "  { data: { id: 'edge8', source: 'binary4', target: 'number7' } },\n",
       "  { data: { id: 'number5', label: 4 }, position: { x: 50, y: 100 } },\n",
       "  { data: { id: 'number7', label: 2 }, position: { x: 150, y: 100 } }\n",
       "]\n",
       "         });\n",
       "     });\n",
       " })(this.element);\n",
       "</script>\n"
      ]
     },
     "metadata": {},
     "output_type": "display_data"
    }
   ],
   "source": [
    "const origAST = Parser.parse(\"x\");\n",
    "const otherAST = Parser.parse(\"1 + 4 / 2\");\n",
    "console.log(\"Original\");\n",
    "drawProg(origAST);\n",
    "console.log(\"Other AST\");\n",
    "drawProg(otherAST);\n",
    "console.log(\"Substituted\");\n",
    "drawProg(substitute(origAST, \"x\", otherAST));"
   ]
  },
  {
   "cell_type": "code",
   "execution_count": 37,
   "id": "87606515",
   "metadata": {},
   "outputs": [
    {
     "name": "stdout",
     "output_type": "stream",
     "text": [
      "Original\n"
     ]
    },
    {
     "data": {
      "text/html": [
       "\n",
       "<style>\n",
       "    #mydivb9733601-bd9b-4d43-98cf-576ecbdbd3da {\n",
       "        width: 800px;\n",
       "        height: 350px;\n",
       "        top: 0px;\n",
       "        left: 0px;\n",
       "    }\n",
       "</style>\n",
       "<div id=\"mydivb9733601-bd9b-4d43-98cf-576ecbdbd3da\"></div>\n"
      ]
     },
     "metadata": {},
     "output_type": "display_data"
    },
    {
     "data": {
      "text/html": [
       "\n",
       "<script>\n",
       " (function(element) {\n",
       "     require(['cytoscape'], function(cytoscape) {   \n",
       "        var cy = cytoscape({\n",
       "         container: document.getElementById('mydivb9733601-bd9b-4d43-98cf-576ecbdbd3da'),\n",
       "         style: [\n",
       "{\n",
       "  selector: 'node',\n",
       "  css: {\n",
       "    'class': \".bx--tree\",\n",
       "    'label': 'data(label)',\n",
       "    'height': '10px',\n",
       "    'width': '10px',\n",
       "  }\n",
       "},\n",
       "{\n",
       "  selector: 'edge',\n",
       "  css: {\n",
       "    'width': 3,\n",
       "    // 'line-color': '#ccc123',\n",
       "    'curve-style': 'bezier',\n",
       "    'target-arrow-shape': 'triangle',\n",
       "    'target-arrow-fill': 'filled',\n",
       "    'arrow-scale': 1,\n",
       "  }\n",
       "}\n",
       "],\n",
       "         layout: \n",
       "{\n",
       "  name: 'preset'\n",
       "}\n",
       ",\n",
       "         elements: [\n",
       "  {\n",
       "    data: { id: 'function1', label: 'λ(x)' },\n",
       "    position: { x: 0, y: 0 }\n",
       "  },\n",
       "  { data: { id: 'edge3', source: 'function1', target: 'identifier2' } },\n",
       "  {\n",
       "    data: { id: 'identifier2', label: 'x' },\n",
       "    position: { x: 0, y: 50 }\n",
       "  }\n",
       "]\n",
       "         });\n",
       "     });\n",
       " })(this.element);\n",
       "</script>\n"
      ]
     },
     "metadata": {},
     "output_type": "display_data"
    },
    {
     "name": "stdout",
     "output_type": "stream",
     "text": [
      "Other AST\n"
     ]
    },
    {
     "data": {
      "text/html": [
       "\n",
       "<style>\n",
       "    #mydiv505a1962-e5eb-4823-856e-4309bc3e079d {\n",
       "        width: 800px;\n",
       "        height: 350px;\n",
       "        top: 0px;\n",
       "        left: 0px;\n",
       "    }\n",
       "</style>\n",
       "<div id=\"mydiv505a1962-e5eb-4823-856e-4309bc3e079d\"></div>\n"
      ]
     },
     "metadata": {},
     "output_type": "display_data"
    },
    {
     "data": {
      "text/html": [
       "\n",
       "<script>\n",
       " (function(element) {\n",
       "     require(['cytoscape'], function(cytoscape) {   \n",
       "        var cy = cytoscape({\n",
       "         container: document.getElementById('mydiv505a1962-e5eb-4823-856e-4309bc3e079d'),\n",
       "         style: [\n",
       "{\n",
       "  selector: 'node',\n",
       "  css: {\n",
       "    'class': \".bx--tree\",\n",
       "    'label': 'data(label)',\n",
       "    'height': '10px',\n",
       "    'width': '10px',\n",
       "  }\n",
       "},\n",
       "{\n",
       "  selector: 'edge',\n",
       "  css: {\n",
       "    'width': 3,\n",
       "    // 'line-color': '#ccc123',\n",
       "    'curve-style': 'bezier',\n",
       "    'target-arrow-shape': 'triangle',\n",
       "    'target-arrow-fill': 'filled',\n",
       "    'arrow-scale': 1,\n",
       "  }\n",
       "}\n",
       "],\n",
       "         layout: \n",
       "{\n",
       "  name: 'preset'\n",
       "}\n",
       ",\n",
       "         elements: [ { data: { id: 'number1', label: 1 }, position: { x: 0, y: 0 } } ]\n",
       "         });\n",
       "     });\n",
       " })(this.element);\n",
       "</script>\n"
      ]
     },
     "metadata": {},
     "output_type": "display_data"
    },
    {
     "name": "stdout",
     "output_type": "stream",
     "text": [
      "Substituted\n"
     ]
    },
    {
     "data": {
      "text/html": [
       "\n",
       "<style>\n",
       "    #mydivda154dfd-3d8c-4b1b-8771-5775b91c6e3f {\n",
       "        width: 800px;\n",
       "        height: 350px;\n",
       "        top: 0px;\n",
       "        left: 0px;\n",
       "    }\n",
       "</style>\n",
       "<div id=\"mydivda154dfd-3d8c-4b1b-8771-5775b91c6e3f\"></div>\n"
      ]
     },
     "metadata": {},
     "output_type": "display_data"
    },
    {
     "data": {
      "text/html": [
       "\n",
       "<script>\n",
       " (function(element) {\n",
       "     require(['cytoscape'], function(cytoscape) {   \n",
       "        var cy = cytoscape({\n",
       "         container: document.getElementById('mydivda154dfd-3d8c-4b1b-8771-5775b91c6e3f'),\n",
       "         style: [\n",
       "{\n",
       "  selector: 'node',\n",
       "  css: {\n",
       "    'class': \".bx--tree\",\n",
       "    'label': 'data(label)',\n",
       "    'height': '10px',\n",
       "    'width': '10px',\n",
       "  }\n",
       "},\n",
       "{\n",
       "  selector: 'edge',\n",
       "  css: {\n",
       "    'width': 3,\n",
       "    // 'line-color': '#ccc123',\n",
       "    'curve-style': 'bezier',\n",
       "    'target-arrow-shape': 'triangle',\n",
       "    'target-arrow-fill': 'filled',\n",
       "    'arrow-scale': 1,\n",
       "  }\n",
       "}\n",
       "],\n",
       "         layout: \n",
       "{\n",
       "  name: 'preset'\n",
       "}\n",
       ",\n",
       "         elements: [\n",
       "  {\n",
       "    data: { id: 'function1', label: 'λ(x)' },\n",
       "    position: { x: 0, y: 0 }\n",
       "  },\n",
       "  { data: { id: 'edge3', source: 'function1', target: 'identifier2' } },\n",
       "  {\n",
       "    data: { id: 'identifier2', label: 'x' },\n",
       "    position: { x: 0, y: 50 }\n",
       "  }\n",
       "]\n",
       "         });\n",
       "     });\n",
       " })(this.element);\n",
       "</script>\n"
      ]
     },
     "metadata": {},
     "output_type": "display_data"
    }
   ],
   "source": [
    "const origAST = Parser.parse(\"(λx => x)\");\n",
    "const otherAST = Parser.parse(\"1\");\n",
    "console.log(\"Original\");\n",
    "drawProg(origAST);\n",
    "console.log(\"Other AST\");\n",
    "drawProg(otherAST);\n",
    "console.log(\"Substituted\");\n",
    "drawProg(substitute(origAST, \"x\", otherAST));"
   ]
  },
  {
   "cell_type": "code",
   "execution_count": 38,
   "id": "24ea707e",
   "metadata": {},
   "outputs": [
    {
     "name": "stdout",
     "output_type": "stream",
     "text": [
      "Original\n"
     ]
    },
    {
     "data": {
      "text/html": [
       "\n",
       "<style>\n",
       "    #mydivbdc75f7c-740b-4f67-82af-1aa1300b6393 {\n",
       "        width: 800px;\n",
       "        height: 350px;\n",
       "        top: 0px;\n",
       "        left: 0px;\n",
       "    }\n",
       "</style>\n",
       "<div id=\"mydivbdc75f7c-740b-4f67-82af-1aa1300b6393\"></div>\n"
      ]
     },
     "metadata": {},
     "output_type": "display_data"
    },
    {
     "data": {
      "text/html": [
       "\n",
       "<script>\n",
       " (function(element) {\n",
       "     require(['cytoscape'], function(cytoscape) {   \n",
       "        var cy = cytoscape({\n",
       "         container: document.getElementById('mydivbdc75f7c-740b-4f67-82af-1aa1300b6393'),\n",
       "         style: [\n",
       "{\n",
       "  selector: 'node',\n",
       "  css: {\n",
       "    'class': \".bx--tree\",\n",
       "    'label': 'data(label)',\n",
       "    'height': '10px',\n",
       "    'width': '10px',\n",
       "  }\n",
       "},\n",
       "{\n",
       "  selector: 'edge',\n",
       "  css: {\n",
       "    'width': 3,\n",
       "    // 'line-color': '#ccc123',\n",
       "    'curve-style': 'bezier',\n",
       "    'target-arrow-shape': 'triangle',\n",
       "    'target-arrow-fill': 'filled',\n",
       "    'arrow-scale': 1,\n",
       "  }\n",
       "}\n",
       "],\n",
       "         layout: \n",
       "{\n",
       "  name: 'preset'\n",
       "}\n",
       ",\n",
       "         elements: [\n",
       "  {\n",
       "    data: { id: 'function1', label: 'λ(y)' },\n",
       "    position: { x: 0, y: 0 }\n",
       "  },\n",
       "  { data: { id: 'edge3', source: 'function1', target: 'identifier2' } },\n",
       "  {\n",
       "    data: { id: 'identifier2', label: 'x' },\n",
       "    position: { x: 0, y: 50 }\n",
       "  }\n",
       "]\n",
       "         });\n",
       "     });\n",
       " })(this.element);\n",
       "</script>\n"
      ]
     },
     "metadata": {},
     "output_type": "display_data"
    },
    {
     "name": "stdout",
     "output_type": "stream",
     "text": [
      "Other AST\n"
     ]
    },
    {
     "data": {
      "text/html": [
       "\n",
       "<style>\n",
       "    #mydiv6360feca-c48f-46c7-8023-cbf04d6824ac {\n",
       "        width: 800px;\n",
       "        height: 350px;\n",
       "        top: 0px;\n",
       "        left: 0px;\n",
       "    }\n",
       "</style>\n",
       "<div id=\"mydiv6360feca-c48f-46c7-8023-cbf04d6824ac\"></div>\n"
      ]
     },
     "metadata": {},
     "output_type": "display_data"
    },
    {
     "data": {
      "text/html": [
       "\n",
       "<script>\n",
       " (function(element) {\n",
       "     require(['cytoscape'], function(cytoscape) {   \n",
       "        var cy = cytoscape({\n",
       "         container: document.getElementById('mydiv6360feca-c48f-46c7-8023-cbf04d6824ac'),\n",
       "         style: [\n",
       "{\n",
       "  selector: 'node',\n",
       "  css: {\n",
       "    'class': \".bx--tree\",\n",
       "    'label': 'data(label)',\n",
       "    'height': '10px',\n",
       "    'width': '10px',\n",
       "  }\n",
       "},\n",
       "{\n",
       "  selector: 'edge',\n",
       "  css: {\n",
       "    'width': 3,\n",
       "    // 'line-color': '#ccc123',\n",
       "    'curve-style': 'bezier',\n",
       "    'target-arrow-shape': 'triangle',\n",
       "    'target-arrow-fill': 'filled',\n",
       "    'arrow-scale': 1,\n",
       "  }\n",
       "}\n",
       "],\n",
       "         layout: \n",
       "{\n",
       "  name: 'preset'\n",
       "}\n",
       ",\n",
       "         elements: [ { data: { id: 'number1', label: 1 }, position: { x: 0, y: 0 } } ]\n",
       "         });\n",
       "     });\n",
       " })(this.element);\n",
       "</script>\n"
      ]
     },
     "metadata": {},
     "output_type": "display_data"
    },
    {
     "name": "stdout",
     "output_type": "stream",
     "text": [
      "Substituted\n"
     ]
    },
    {
     "data": {
      "text/html": [
       "\n",
       "<style>\n",
       "    #mydiv962f612f-2e87-43e4-a350-1de1f42aaa00 {\n",
       "        width: 800px;\n",
       "        height: 350px;\n",
       "        top: 0px;\n",
       "        left: 0px;\n",
       "    }\n",
       "</style>\n",
       "<div id=\"mydiv962f612f-2e87-43e4-a350-1de1f42aaa00\"></div>\n"
      ]
     },
     "metadata": {},
     "output_type": "display_data"
    },
    {
     "data": {
      "text/html": [
       "\n",
       "<script>\n",
       " (function(element) {\n",
       "     require(['cytoscape'], function(cytoscape) {   \n",
       "        var cy = cytoscape({\n",
       "         container: document.getElementById('mydiv962f612f-2e87-43e4-a350-1de1f42aaa00'),\n",
       "         style: [\n",
       "{\n",
       "  selector: 'node',\n",
       "  css: {\n",
       "    'class': \".bx--tree\",\n",
       "    'label': 'data(label)',\n",
       "    'height': '10px',\n",
       "    'width': '10px',\n",
       "  }\n",
       "},\n",
       "{\n",
       "  selector: 'edge',\n",
       "  css: {\n",
       "    'width': 3,\n",
       "    // 'line-color': '#ccc123',\n",
       "    'curve-style': 'bezier',\n",
       "    'target-arrow-shape': 'triangle',\n",
       "    'target-arrow-fill': 'filled',\n",
       "    'arrow-scale': 1,\n",
       "  }\n",
       "}\n",
       "],\n",
       "         layout: \n",
       "{\n",
       "  name: 'preset'\n",
       "}\n",
       ",\n",
       "         elements: [\n",
       "  {\n",
       "    data: { id: 'function1', label: 'λ(y)' },\n",
       "    position: { x: 0, y: 0 }\n",
       "  },\n",
       "  { data: { id: 'edge3', source: 'function1', target: 'number2' } },\n",
       "  { data: { id: 'number2', label: 1 }, position: { x: 0, y: 50 } }\n",
       "]\n",
       "         });\n",
       "     });\n",
       " })(this.element);\n",
       "</script>\n"
      ]
     },
     "metadata": {},
     "output_type": "display_data"
    }
   ],
   "source": [
    "const origAST = Parser.parse(\"(λy => x)\");\n",
    "const otherAST = Parser.parse(\"1\");\n",
    "console.log(\"Original\");\n",
    "drawProg(origAST);\n",
    "console.log(\"Other AST\");\n",
    "drawProg(otherAST);\n",
    "console.log(\"Substituted\");\n",
    "drawProg(substitute(origAST, \"x\", otherAST));"
   ]
  },
  {
   "cell_type": "markdown",
   "id": "d88247d8",
   "metadata": {},
   "source": [
    "#### Substitution can be used to define function calls\n",
    "\n",
    "```ts\n",
    "((x) => x + 1)(2) = 2\n",
    "```\n",
    "\n",
    "or\n",
    "\n",
    "```ts\n",
    "((x) => x + 1)(2) = substitute(x + 1, x, 2)\n",
    "```"
   ]
  },
  {
   "cell_type": "code",
   "execution_count": 39,
   "id": "2fb2ebf1",
   "metadata": {},
   "outputs": [],
   "source": [
    "function interpret(e: E.Expr): Value {\n",
    "    switch (e.tag) {\n",
    "        case \"NUMBER\": {\n",
    "            return T.mkNumericConstant(e.value);\n",
    "        }\n",
    "        case \"BINARY\": {                \n",
    "            return interpretBinop(interpret(e.left), e.operator, interpret(e.right));\n",
    "        }\n",
    "        case \"CONDITIONAL\": {\n",
    "            const condVal = interpret(e.condExpr);\n",
    "            if (condVal.tag === \"NUMBER\" && condVal.value !== 0) {\n",
    "                return interpret(e.thenExpr);\n",
    "            } else {\n",
    "                return interpret(e.elseExpr);\n",
    "            }\n",
    "        }\n",
    "        case \"FUNCTION\": { // New case 1, a function is already a value.\n",
    "            return E.mkFunctionExpr(e.parameter, e.body);\n",
    "        }\n",
    "        case \"IDENTIFIER\": { // New case 2, all variables should have already been substituted away\n",
    "            throw Error(`Cannot find name ${e.name} in scope}`);\n",
    "        }\n",
    "        case \"CALL\": { // New case 3\n",
    "            const func = interpret(e.func);\n",
    "            if (func.tag === \"FUNCTION\") {\n",
    "                const arg = interpret(e.argument);\n",
    "                return interpret(substitute(func.body, func.parameter, arg));\n",
    "            } else {\n",
    "                throw Error(`Cannot apply ${func} to ${e.argument}`);\n",
    "            }\n",
    "        }\n",
    "\n",
    "        default: {\n",
    "            throw Error(\"Shouldn't happen\");\n",
    "        }\n",
    "    }\n",
    "}"
   ]
  },
  {
   "cell_type": "code",
   "execution_count": 40,
   "id": "c0ca921a",
   "metadata": {},
   "outputs": [
    {
     "name": "stdout",
     "output_type": "stream",
     "text": [
      "Input\n"
     ]
    },
    {
     "data": {
      "text/html": [
       "\n",
       "<style>\n",
       "    #mydiv95e15ae7-3e35-43fe-a1e9-bb3905512c3c {\n",
       "        width: 800px;\n",
       "        height: 350px;\n",
       "        top: 0px;\n",
       "        left: 0px;\n",
       "    }\n",
       "</style>\n",
       "<div id=\"mydiv95e15ae7-3e35-43fe-a1e9-bb3905512c3c\"></div>\n"
      ]
     },
     "metadata": {},
     "output_type": "display_data"
    },
    {
     "data": {
      "text/html": [
       "\n",
       "<script>\n",
       " (function(element) {\n",
       "     require(['cytoscape'], function(cytoscape) {   \n",
       "        var cy = cytoscape({\n",
       "         container: document.getElementById('mydiv95e15ae7-3e35-43fe-a1e9-bb3905512c3c'),\n",
       "         style: [\n",
       "{\n",
       "  selector: 'node',\n",
       "  css: {\n",
       "    'class': \".bx--tree\",\n",
       "    'label': 'data(label)',\n",
       "    'height': '10px',\n",
       "    'width': '10px',\n",
       "  }\n",
       "},\n",
       "{\n",
       "  selector: 'edge',\n",
       "  css: {\n",
       "    'width': 3,\n",
       "    // 'line-color': '#ccc123',\n",
       "    'curve-style': 'bezier',\n",
       "    'target-arrow-shape': 'triangle',\n",
       "    'target-arrow-fill': 'filled',\n",
       "    'arrow-scale': 1,\n",
       "  }\n",
       "}\n",
       "],\n",
       "         layout: \n",
       "{\n",
       "  name: 'preset'\n",
       "}\n",
       ",\n",
       "         elements: [\n",
       "  { data: { id: 'call1', label: 'call' }, position: { x: 0, y: 0 } },\n",
       "  { data: { id: 'edge9', source: 'call1', target: 'function2' } },\n",
       "  { data: { id: 'edge15', source: 'call1', target: 'binary10' } },\n",
       "  {\n",
       "    data: { id: 'function2', label: 'λ(x)' },\n",
       "    position: { x: -100, y: 50 }\n",
       "  },\n",
       "  { data: { id: 'edge8', source: 'function2', target: 'binary3' } },\n",
       "  {\n",
       "    data: { id: 'binary3', label: '+' },\n",
       "    position: { x: -100, y: 100 }\n",
       "  },\n",
       "  { data: { id: 'edge5', source: 'binary3', target: 'number4' } },\n",
       "  { data: { id: 'edge7', source: 'binary3', target: 'identifier6' } },\n",
       "  {\n",
       "    data: { id: 'number4', label: 1 },\n",
       "    position: { x: -133.33333333333334, y: 150 }\n",
       "  },\n",
       "  {\n",
       "    data: { id: 'identifier6', label: 'x' },\n",
       "    position: { x: -66.66666666666666, y: 150 }\n",
       "  },\n",
       "  { data: { id: 'binary10', label: '+' }, position: { x: 100, y: 50 } },\n",
       "  { data: { id: 'edge12', source: 'binary10', target: 'number11' } },\n",
       "  { data: { id: 'edge14', source: 'binary10', target: 'number13' } },\n",
       "  { data: { id: 'number11', label: 1 }, position: { x: 50, y: 100 } },\n",
       "  { data: { id: 'number13', label: 1 }, position: { x: 150, y: 100 } }\n",
       "]\n",
       "         });\n",
       "     });\n",
       " })(this.element);\n",
       "</script>\n"
      ]
     },
     "metadata": {},
     "output_type": "display_data"
    },
    {
     "name": "stdout",
     "output_type": "stream",
     "text": [
      "Output\n"
     ]
    },
    {
     "data": {
      "text/html": [
       "\n",
       "<style>\n",
       "    #mydiv7604061c-d43f-4915-b31c-e3b70d4bdf6d {\n",
       "        width: 800px;\n",
       "        height: 350px;\n",
       "        top: 0px;\n",
       "        left: 0px;\n",
       "    }\n",
       "</style>\n",
       "<div id=\"mydiv7604061c-d43f-4915-b31c-e3b70d4bdf6d\"></div>\n"
      ]
     },
     "metadata": {},
     "output_type": "display_data"
    },
    {
     "data": {
      "text/html": [
       "\n",
       "<script>\n",
       " (function(element) {\n",
       "     require(['cytoscape'], function(cytoscape) {   \n",
       "        var cy = cytoscape({\n",
       "         container: document.getElementById('mydiv7604061c-d43f-4915-b31c-e3b70d4bdf6d'),\n",
       "         style: [\n",
       "{\n",
       "  selector: 'node',\n",
       "  css: {\n",
       "    'class': \".bx--tree\",\n",
       "    'label': 'data(label)',\n",
       "    'height': '10px',\n",
       "    'width': '10px',\n",
       "  }\n",
       "},\n",
       "{\n",
       "  selector: 'edge',\n",
       "  css: {\n",
       "    'width': 3,\n",
       "    // 'line-color': '#ccc123',\n",
       "    'curve-style': 'bezier',\n",
       "    'target-arrow-shape': 'triangle',\n",
       "    'target-arrow-fill': 'filled',\n",
       "    'arrow-scale': 1,\n",
       "  }\n",
       "}\n",
       "],\n",
       "         layout: \n",
       "{\n",
       "  name: 'preset'\n",
       "}\n",
       ",\n",
       "         elements: [ { data: { id: 'number1', label: 3 }, position: { x: 0, y: 0 } } ]\n",
       "         });\n",
       "     });\n",
       " })(this.element);\n",
       "</script>\n"
      ]
     },
     "metadata": {},
     "output_type": "display_data"
    }
   ],
   "source": [
    "const inputAST = Parser.parse(\"(λx => 1 + x)(1+1)\");\n",
    "const outputAST = interpret(inputAST);\n",
    "console.log(\"Input\");\n",
    "drawProg(inputAST);\n",
    "console.log(\"Output\");\n",
    "drawProg(outputAST);"
   ]
  },
  {
   "cell_type": "code",
   "execution_count": 41,
   "id": "4cf54de9",
   "metadata": {},
   "outputs": [
    {
     "name": "stdout",
     "output_type": "stream",
     "text": [
      "Input\n"
     ]
    },
    {
     "data": {
      "text/html": [
       "\n",
       "<style>\n",
       "    #mydiv5380aeef-2338-479e-a803-45e6475a350b {\n",
       "        width: 800px;\n",
       "        height: 350px;\n",
       "        top: 0px;\n",
       "        left: 0px;\n",
       "    }\n",
       "</style>\n",
       "<div id=\"mydiv5380aeef-2338-479e-a803-45e6475a350b\"></div>\n"
      ]
     },
     "metadata": {},
     "output_type": "display_data"
    },
    {
     "data": {
      "text/html": [
       "\n",
       "<script>\n",
       " (function(element) {\n",
       "     require(['cytoscape'], function(cytoscape) {   \n",
       "        var cy = cytoscape({\n",
       "         container: document.getElementById('mydiv5380aeef-2338-479e-a803-45e6475a350b'),\n",
       "         style: [\n",
       "{\n",
       "  selector: 'node',\n",
       "  css: {\n",
       "    'class': \".bx--tree\",\n",
       "    'label': 'data(label)',\n",
       "    'height': '10px',\n",
       "    'width': '10px',\n",
       "  }\n",
       "},\n",
       "{\n",
       "  selector: 'edge',\n",
       "  css: {\n",
       "    'width': 3,\n",
       "    // 'line-color': '#ccc123',\n",
       "    'curve-style': 'bezier',\n",
       "    'target-arrow-shape': 'triangle',\n",
       "    'target-arrow-fill': 'filled',\n",
       "    'arrow-scale': 1,\n",
       "  }\n",
       "}\n",
       "],\n",
       "         layout: \n",
       "{\n",
       "  name: 'preset'\n",
       "}\n",
       ",\n",
       "         elements: [\n",
       "  { data: { id: 'call1', label: 'call' }, position: { x: 0, y: 0 } },\n",
       "  { data: { id: 'edge13', source: 'call1', target: 'function2' } },\n",
       "  { data: { id: 'edge25', source: 'call1', target: 'function14' } },\n",
       "  {\n",
       "    data: { id: 'function2', label: 'λ(x)' },\n",
       "    position: { x: -100, y: 50 }\n",
       "  },\n",
       "  { data: { id: 'edge12', source: 'function2', target: 'binary3' } },\n",
       "  {\n",
       "    data: { id: 'binary3', label: '+' },\n",
       "    position: { x: -100, y: 100 }\n",
       "  },\n",
       "  { data: { id: 'edge9', source: 'binary3', target: 'binary4' } },\n",
       "  { data: { id: 'edge11', source: 'binary3', target: 'number10' } },\n",
       "  {\n",
       "    data: { id: 'binary4', label: '+' },\n",
       "    position: { x: -133.33333333333334, y: 150 }\n",
       "  },\n",
       "  { data: { id: 'edge6', source: 'binary4', target: 'number5' } },\n",
       "  { data: { id: 'edge8', source: 'binary4', target: 'number7' } },\n",
       "  {\n",
       "    data: { id: 'number5', label: 1 },\n",
       "    position: { x: -158.33333333333334, y: 200 }\n",
       "  },\n",
       "  {\n",
       "    data: { id: 'number7', label: 1 },\n",
       "    position: { x: -108.33333333333334, y: 200 }\n",
       "  },\n",
       "  {\n",
       "    data: { id: 'number10', label: 1 },\n",
       "    position: { x: -66.66666666666666, y: 150 }\n",
       "  },\n",
       "  {\n",
       "    data: { id: 'function14', label: 'λ(x)' },\n",
       "    position: { x: 100, y: 50 }\n",
       "  },\n",
       "  { data: { id: 'edge24', source: 'function14', target: 'binary15' } },\n",
       "  {\n",
       "    data: { id: 'binary15', label: '+' },\n",
       "    position: { x: 100, y: 100 }\n",
       "  },\n",
       "  { data: { id: 'edge21', source: 'binary15', target: 'binary16' } },\n",
       "  { data: { id: 'edge23', source: 'binary15', target: 'number22' } },\n",
       "  {\n",
       "    data: { id: 'binary16', label: '+' },\n",
       "    position: { x: 66.66666666666666, y: 150 }\n",
       "  },\n",
       "  { data: { id: 'edge18', source: 'binary16', target: 'number17' } },\n",
       "  { data: { id: 'edge20', source: 'binary16', target: 'number19' } },\n",
       "  {\n",
       "    data: { id: 'number17', label: 1 },\n",
       "    position: { x: 41.66666666666666, y: 200 }\n",
       "  },\n",
       "  {\n",
       "    data: { id: 'number19', label: 1 },\n",
       "    position: { x: 91.66666666666666, y: 200 }\n",
       "  },\n",
       "  {\n",
       "    data: { id: 'number22', label: 1 },\n",
       "    position: { x: 133.33333333333334, y: 150 }\n",
       "  }\n",
       "]\n",
       "         });\n",
       "     });\n",
       " })(this.element);\n",
       "</script>\n"
      ]
     },
     "metadata": {},
     "output_type": "display_data"
    },
    {
     "name": "stdout",
     "output_type": "stream",
     "text": [
      "Output\n"
     ]
    },
    {
     "data": {
      "text/html": [
       "\n",
       "<style>\n",
       "    #mydivf932cc6a-a1e8-497f-a1ca-7a439299ced3 {\n",
       "        width: 800px;\n",
       "        height: 350px;\n",
       "        top: 0px;\n",
       "        left: 0px;\n",
       "    }\n",
       "</style>\n",
       "<div id=\"mydivf932cc6a-a1e8-497f-a1ca-7a439299ced3\"></div>\n"
      ]
     },
     "metadata": {},
     "output_type": "display_data"
    },
    {
     "data": {
      "text/html": [
       "\n",
       "<script>\n",
       " (function(element) {\n",
       "     require(['cytoscape'], function(cytoscape) {   \n",
       "        var cy = cytoscape({\n",
       "         container: document.getElementById('mydivf932cc6a-a1e8-497f-a1ca-7a439299ced3'),\n",
       "         style: [\n",
       "{\n",
       "  selector: 'node',\n",
       "  css: {\n",
       "    'class': \".bx--tree\",\n",
       "    'label': 'data(label)',\n",
       "    'height': '10px',\n",
       "    'width': '10px',\n",
       "  }\n",
       "},\n",
       "{\n",
       "  selector: 'edge',\n",
       "  css: {\n",
       "    'width': 3,\n",
       "    // 'line-color': '#ccc123',\n",
       "    'curve-style': 'bezier',\n",
       "    'target-arrow-shape': 'triangle',\n",
       "    'target-arrow-fill': 'filled',\n",
       "    'arrow-scale': 1,\n",
       "  }\n",
       "}\n",
       "],\n",
       "         layout: \n",
       "{\n",
       "  name: 'preset'\n",
       "}\n",
       ",\n",
       "         elements: [ { data: { id: 'number1', label: 3 }, position: { x: 0, y: 0 } } ]\n",
       "         });\n",
       "     });\n",
       " })(this.element);\n",
       "</script>\n"
      ]
     },
     "metadata": {},
     "output_type": "display_data"
    }
   ],
   "source": [
    "const inputAST = Parser.parse(\"(λx => 1 + 1 + 1)(λx => 1 + 1 + 1)\");\n",
    "const outputAST = interpret(inputAST);\n",
    "console.log(\"Input\");\n",
    "drawProg(inputAST);\n",
    "console.log(\"Output\");\n",
    "drawProg(outputAST);"
   ]
  },
  {
   "cell_type": "code",
   "execution_count": 42,
   "id": "55f6881a",
   "metadata": {},
   "outputs": [
    {
     "name": "stdout",
     "output_type": "stream",
     "text": [
      "Input\n"
     ]
    },
    {
     "data": {
      "text/html": [
       "\n",
       "<style>\n",
       "    #mydivb2e293e4-1b92-4d8b-a050-00edfde2c68c {\n",
       "        width: 800px;\n",
       "        height: 350px;\n",
       "        top: 0px;\n",
       "        left: 0px;\n",
       "    }\n",
       "</style>\n",
       "<div id=\"mydivb2e293e4-1b92-4d8b-a050-00edfde2c68c\"></div>\n"
      ]
     },
     "metadata": {},
     "output_type": "display_data"
    },
    {
     "data": {
      "text/html": [
       "\n",
       "<script>\n",
       " (function(element) {\n",
       "     require(['cytoscape'], function(cytoscape) {   \n",
       "        var cy = cytoscape({\n",
       "         container: document.getElementById('mydivb2e293e4-1b92-4d8b-a050-00edfde2c68c'),\n",
       "         style: [\n",
       "{\n",
       "  selector: 'node',\n",
       "  css: {\n",
       "    'class': \".bx--tree\",\n",
       "    'label': 'data(label)',\n",
       "    'height': '10px',\n",
       "    'width': '10px',\n",
       "  }\n",
       "},\n",
       "{\n",
       "  selector: 'edge',\n",
       "  css: {\n",
       "    'width': 3,\n",
       "    // 'line-color': '#ccc123',\n",
       "    'curve-style': 'bezier',\n",
       "    'target-arrow-shape': 'triangle',\n",
       "    'target-arrow-fill': 'filled',\n",
       "    'arrow-scale': 1,\n",
       "  }\n",
       "}\n",
       "],\n",
       "         layout: \n",
       "{\n",
       "  name: 'preset'\n",
       "}\n",
       ",\n",
       "         elements: [\n",
       "  {\n",
       "    data: { id: 'conditional1', label: 'if' },\n",
       "    position: { x: 0, y: 0 }\n",
       "  },\n",
       "  { data: { id: 'edge3', source: 'conditional1', target: 'number2' } },\n",
       "  { data: { id: 'edge29', source: 'conditional1', target: 'call4' } },\n",
       "  {\n",
       "    data: { id: 'edge37', source: 'conditional1', target: 'binary30' }\n",
       "  },\n",
       "  { data: { id: 'number2', label: 1 }, position: { x: -150, y: 50 } },\n",
       "  { data: { id: 'call4', label: 'call' }, position: { x: 0, y: 50 } },\n",
       "  { data: { id: 'edge16', source: 'call4', target: 'function5' } },\n",
       "  { data: { id: 'edge28', source: 'call4', target: 'function17' } },\n",
       "  {\n",
       "    data: { id: 'function5', label: 'λ(x)' },\n",
       "    position: { x: -50, y: 100 }\n",
       "  },\n",
       "  { data: { id: 'edge15', source: 'function5', target: 'binary6' } },\n",
       "  { data: { id: 'binary6', label: '+' }, position: { x: -50, y: 150 } },\n",
       "  { data: { id: 'edge12', source: 'binary6', target: 'binary7' } },\n",
       "  { data: { id: 'edge14', source: 'binary6', target: 'number13' } },\n",
       "  { data: { id: 'binary7', label: '+' }, position: { x: -75, y: 200 } },\n",
       "  { data: { id: 'edge9', source: 'binary7', target: 'number8' } },\n",
       "  { data: { id: 'edge11', source: 'binary7', target: 'number10' } },\n",
       "  { data: { id: 'number8', label: 1 }, position: { x: -95, y: 250 } },\n",
       "  { data: { id: 'number10', label: 1 }, position: { x: -55, y: 250 } },\n",
       "  { data: { id: 'number13', label: 1 }, position: { x: -25, y: 200 } },\n",
       "  {\n",
       "    data: { id: 'function17', label: 'λ(x)' },\n",
       "    position: { x: 50, y: 100 }\n",
       "  },\n",
       "  { data: { id: 'edge27', source: 'function17', target: 'binary18' } },\n",
       "  { data: { id: 'binary18', label: '+' }, position: { x: 50, y: 150 } },\n",
       "  { data: { id: 'edge24', source: 'binary18', target: 'binary19' } },\n",
       "  { data: { id: 'edge26', source: 'binary18', target: 'number25' } },\n",
       "  { data: { id: 'binary19', label: '+' }, position: { x: 25, y: 200 } },\n",
       "  { data: { id: 'edge21', source: 'binary19', target: 'number20' } },\n",
       "  { data: { id: 'edge23', source: 'binary19', target: 'number22' } },\n",
       "  { data: { id: 'number20', label: 1 }, position: { x: 5, y: 250 } },\n",
       "  { data: { id: 'number22', label: 1 }, position: { x: 45, y: 250 } },\n",
       "  { data: { id: 'number25', label: 1 }, position: { x: 75, y: 200 } },\n",
       "  { data: { id: 'binary30', label: '+' }, position: { x: 150, y: 50 } },\n",
       "  { data: { id: 'edge32', source: 'binary30', target: 'number31' } },\n",
       "  { data: { id: 'edge36', source: 'binary30', target: 'function33' } },\n",
       "  { data: { id: 'number31', label: 1 }, position: { x: 100, y: 100 } },\n",
       "  {\n",
       "    data: { id: 'function33', label: 'λ(x)' },\n",
       "    position: { x: 200, y: 100 }\n",
       "  },\n",
       "  { data: { id: 'edge35', source: 'function33', target: 'number34' } },\n",
       "  { data: { id: 'number34', label: 1 }, position: { x: 200, y: 150 } }\n",
       "]\n",
       "         });\n",
       "     });\n",
       " })(this.element);\n",
       "</script>\n"
      ]
     },
     "metadata": {},
     "output_type": "display_data"
    },
    {
     "name": "stdout",
     "output_type": "stream",
     "text": [
      "Output\n"
     ]
    },
    {
     "data": {
      "text/html": [
       "\n",
       "<style>\n",
       "    #mydiva4425ec5-2f70-4ce7-9037-d14c43fb9ca9 {\n",
       "        width: 800px;\n",
       "        height: 350px;\n",
       "        top: 0px;\n",
       "        left: 0px;\n",
       "    }\n",
       "</style>\n",
       "<div id=\"mydiva4425ec5-2f70-4ce7-9037-d14c43fb9ca9\"></div>\n"
      ]
     },
     "metadata": {},
     "output_type": "display_data"
    },
    {
     "data": {
      "text/html": [
       "\n",
       "<script>\n",
       " (function(element) {\n",
       "     require(['cytoscape'], function(cytoscape) {   \n",
       "        var cy = cytoscape({\n",
       "         container: document.getElementById('mydiva4425ec5-2f70-4ce7-9037-d14c43fb9ca9'),\n",
       "         style: [\n",
       "{\n",
       "  selector: 'node',\n",
       "  css: {\n",
       "    'class': \".bx--tree\",\n",
       "    'label': 'data(label)',\n",
       "    'height': '10px',\n",
       "    'width': '10px',\n",
       "  }\n",
       "},\n",
       "{\n",
       "  selector: 'edge',\n",
       "  css: {\n",
       "    'width': 3,\n",
       "    // 'line-color': '#ccc123',\n",
       "    'curve-style': 'bezier',\n",
       "    'target-arrow-shape': 'triangle',\n",
       "    'target-arrow-fill': 'filled',\n",
       "    'arrow-scale': 1,\n",
       "  }\n",
       "}\n",
       "],\n",
       "         layout: \n",
       "{\n",
       "  name: 'preset'\n",
       "}\n",
       ",\n",
       "         elements: [ { data: { id: 'number1', label: 3 }, position: { x: 0, y: 0 } } ]\n",
       "         });\n",
       "     });\n",
       " })(this.element);\n",
       "</script>\n"
      ]
     },
     "metadata": {},
     "output_type": "display_data"
    }
   ],
   "source": [
    "const inputAST = Parser.parse(\"1 ? (λx => 1 + 1 + 1)(λx => 1 + 1 + 1) : 1 + (λx => 1)\");\n",
    "const outputAST = interpret(inputAST);\n",
    "console.log(\"Input\");\n",
    "drawProg(inputAST);\n",
    "console.log(\"Output\");\n",
    "drawProg(outputAST);"
   ]
  },
  {
   "cell_type": "code",
   "execution_count": 43,
   "id": "be552816",
   "metadata": {},
   "outputs": [
    {
     "name": "stderr",
     "output_type": "stream",
     "text": [
      "evalmachine.<anonymous>:46\n",
      "        throw Error(`Attempting ${leftVal} ${op} ${rightVal}`);\n",
      "        ^\n",
      "\n",
      "Error: Attempting [object Object] + [object Object]\n",
      "    at Proxy.interpretBinop (evalmachine.<anonymous>:46:15)\n",
      "    at interpret (evalmachine.<anonymous>:9:28)\n",
      "    at Proxy.interpret (evalmachine.<anonymous>:17:24)\n",
      "    at evalmachine.<anonymous>:5:27\n",
      "    at evalmachine.<anonymous>:12:3\n",
      "\u001b[90m    at sigintHandlersWrap (node:vm:268:12)\u001b[39m\n",
      "\u001b[90m    at Script.runInThisContext (node:vm:127:14)\u001b[39m\n",
      "\u001b[90m    at Object.runInThisContext (node:vm:305:38)\u001b[39m\n",
      "    at Object.execute (/Users/dehuang/Documents/teaching/csc600/f22/lectures/node_modules/\u001b[4mtslab\u001b[24m/dist/executor.js:162:38)\n",
      "    at JupyterHandlerImpl.handleExecuteImpl (/Users/dehuang/Documents/teaching/csc600/f22/lectures/node_modules/\u001b[4mtslab\u001b[24m/dist/jupyter.js:219:38)\n"
     ]
    }
   ],
   "source": [
    "const inputAST = Parser.parse(\"1 - 1 ? (λx => 1 + 1 + 1)(λx => 1 + 1 + 1) : 1 + (λx => 1)\");\n",
    "const outputAST = interpret(inputAST);\n",
    "console.log(\"Input\");\n",
    "drawProg(inputAST);\n",
    "console.log(\"Output\");\n",
    "drawProg(outputAST);"
   ]
  },
  {
   "cell_type": "markdown",
   "id": "995bcd57",
   "metadata": {},
   "source": [
    "### That's It!\n",
    "\n",
    "- We've written a baby interpreter for LambdaTS.\n",
    "- A \"real\" interpreter won't use substitution but **closures** for efficiency.\n",
    "- In particular, you might imagine that substitution can make small terms really large."
   ]
  },
  {
   "cell_type": "markdown",
   "id": "1f1ab716",
   "metadata": {},
   "source": [
    "### Aside: Closures\n",
    "\n",
    "```ts\n",
    "type Closure = {\n",
    "    tag: \"CLOSURE\",               // A function has no more computation left to be run.\n",
    "    func: E.FunctionExpr,         // Of course, this function can be called in the future.\n",
    "    env: {[x: string]: E.Expr},   // An environment is a map from variables to expressions/values.\n",
    "};\n",
    "```"
   ]
  },
  {
   "cell_type": "markdown",
   "id": "4810227a",
   "metadata": {},
   "source": [
    "### Turing-Complete?\n",
    "\n",
    "Litmus test for Turing-completeness: can you write an infinite loop?"
   ]
  },
  {
   "cell_type": "code",
   "execution_count": 44,
   "id": "bd1748b1",
   "metadata": {},
   "outputs": [],
   "source": [
    "// Y-combinator gives us unbounded recursion\n",
    "const Y = (f) => ((x) => (y) => f(x(x))(y)) ((a) => (b) => f(a(a))(b));"
   ]
  },
  {
   "cell_type": "code",
   "execution_count": 45,
   "id": "7f611316",
   "metadata": {},
   "outputs": [
    {
     "name": "stdout",
     "output_type": "stream",
     "text": [
      "\u001b[33m120\u001b[39m\n"
     ]
    }
   ],
   "source": [
    "// Factorial function\n",
    "const fact = Y((f) => (n) => n ? n*f(n - 1) : 1)\n",
    "fact(5)"
   ]
  },
  {
   "cell_type": "code",
   "execution_count": 46,
   "id": "48c34952",
   "metadata": {},
   "outputs": [
    {
     "name": "stdout",
     "output_type": "stream",
     "text": [
      "Input\n"
     ]
    },
    {
     "data": {
      "text/html": [
       "\n",
       "<style>\n",
       "    #mydiv5921886d-c684-4ff4-b409-172e802c772a {\n",
       "        width: 800px;\n",
       "        height: 350px;\n",
       "        top: 0px;\n",
       "        left: 0px;\n",
       "    }\n",
       "</style>\n",
       "<div id=\"mydiv5921886d-c684-4ff4-b409-172e802c772a\"></div>\n"
      ]
     },
     "metadata": {},
     "output_type": "display_data"
    },
    {
     "data": {
      "text/html": [
       "\n",
       "<script>\n",
       " (function(element) {\n",
       "     require(['cytoscape'], function(cytoscape) {   \n",
       "        var cy = cytoscape({\n",
       "         container: document.getElementById('mydiv5921886d-c684-4ff4-b409-172e802c772a'),\n",
       "         style: [\n",
       "{\n",
       "  selector: 'node',\n",
       "  css: {\n",
       "    'class': \".bx--tree\",\n",
       "    'label': 'data(label)',\n",
       "    'height': '10px',\n",
       "    'width': '10px',\n",
       "  }\n",
       "},\n",
       "{\n",
       "  selector: 'edge',\n",
       "  css: {\n",
       "    'width': 3,\n",
       "    // 'line-color': '#ccc123',\n",
       "    'curve-style': 'bezier',\n",
       "    'target-arrow-shape': 'triangle',\n",
       "    'target-arrow-fill': 'filled',\n",
       "    'arrow-scale': 1,\n",
       "  }\n",
       "}\n",
       "],\n",
       "         layout: \n",
       "{\n",
       "  name: 'preset'\n",
       "}\n",
       ",\n",
       "         elements: [\n",
       "  { data: { id: 'call1', label: 'call' }, position: { x: 0, y: 0 } },\n",
       "  { data: { id: 'edge67', source: 'call1', target: 'call2' } },\n",
       "  { data: { id: 'edge69', source: 'call1', target: 'number68' } },\n",
       "  {\n",
       "    data: { id: 'call2', label: 'call' },\n",
       "    position: { x: -100, y: 50 }\n",
       "  },\n",
       "  { data: { id: 'edge42', source: 'call2', target: 'function3' } },\n",
       "  { data: { id: 'edge66', source: 'call2', target: 'function43' } },\n",
       "  {\n",
       "    data: { id: 'function3', label: 'λ(f)' },\n",
       "    position: { x: -150, y: 100 }\n",
       "  },\n",
       "  { data: { id: 'edge41', source: 'function3', target: 'call4' } },\n",
       "  {\n",
       "    data: { id: 'call4', label: 'call' },\n",
       "    position: { x: -150, y: 150 }\n",
       "  },\n",
       "  { data: { id: 'edge22', source: 'call4', target: 'function5' } },\n",
       "  { data: { id: 'edge40', source: 'call4', target: 'function23' } },\n",
       "  {\n",
       "    data: { id: 'function5', label: 'λ(x)' },\n",
       "    position: { x: -175, y: 200 }\n",
       "  },\n",
       "  { data: { id: 'edge21', source: 'function5', target: 'function6' } },\n",
       "  {\n",
       "    data: { id: 'function6', label: 'λ(y)' },\n",
       "    position: { x: -175, y: 250 }\n",
       "  },\n",
       "  { data: { id: 'edge20', source: 'function6', target: 'call7' } },\n",
       "  {\n",
       "    data: { id: 'call7', label: 'call' },\n",
       "    position: { x: -175, y: 300 }\n",
       "  },\n",
       "  { data: { id: 'edge17', source: 'call7', target: 'call8' } },\n",
       "  { data: { id: 'edge19', source: 'call7', target: 'identifier18' } },\n",
       "  {\n",
       "    data: { id: 'call8', label: 'call' },\n",
       "    position: { x: -189.28571428571428, y: 350 }\n",
       "  },\n",
       "  { data: { id: 'edge10', source: 'call8', target: 'identifier9' } },\n",
       "  { data: { id: 'edge16', source: 'call8', target: 'call11' } },\n",
       "  {\n",
       "    data: { id: 'identifier9', label: 'f' },\n",
       "    position: { x: -201.78571428571428, y: 400 }\n",
       "  },\n",
       "  {\n",
       "    data: { id: 'call11', label: 'call' },\n",
       "    position: { x: -176.78571428571428, y: 400 }\n",
       "  },\n",
       "  { data: { id: 'edge13', source: 'call11', target: 'identifier12' } },\n",
       "  { data: { id: 'edge15', source: 'call11', target: 'identifier14' } },\n",
       "  {\n",
       "    data: { id: 'identifier12', label: 'x' },\n",
       "    position: { x: -187.8968253968254, y: 450 }\n",
       "  },\n",
       "  {\n",
       "    data: { id: 'identifier14', label: 'x' },\n",
       "    position: { x: -165.67460317460316, y: 450 }\n",
       "  },\n",
       "  {\n",
       "    data: { id: 'identifier18', label: 'y' },\n",
       "    position: { x: -160.71428571428572, y: 350 }\n",
       "  },\n",
       "  {\n",
       "    data: { id: 'function23', label: 'λ(a)' },\n",
       "    position: { x: -125, y: 200 }\n",
       "  },\n",
       "  {\n",
       "    data: { id: 'edge39', source: 'function23', target: 'function24' }\n",
       "  },\n",
       "  {\n",
       "    data: { id: 'function24', label: 'λ(b)' },\n",
       "    position: { x: -125, y: 250 }\n",
       "  },\n",
       "  { data: { id: 'edge38', source: 'function24', target: 'call25' } },\n",
       "  {\n",
       "    data: { id: 'call25', label: 'call' },\n",
       "    position: { x: -125, y: 300 }\n",
       "  },\n",
       "  { data: { id: 'edge35', source: 'call25', target: 'call26' } },\n",
       "  { data: { id: 'edge37', source: 'call25', target: 'identifier36' } },\n",
       "  {\n",
       "    data: { id: 'call26', label: 'call' },\n",
       "    position: { x: -139.28571428571428, y: 350 }\n",
       "  },\n",
       "  { data: { id: 'edge28', source: 'call26', target: 'identifier27' } },\n",
       "  { data: { id: 'edge34', source: 'call26', target: 'call29' } },\n",
       "  {\n",
       "    data: { id: 'identifier27', label: 'f' },\n",
       "    position: { x: -151.78571428571428, y: 400 }\n",
       "  },\n",
       "  {\n",
       "    data: { id: 'call29', label: 'call' },\n",
       "    position: { x: -126.78571428571428, y: 400 }\n",
       "  },\n",
       "  { data: { id: 'edge31', source: 'call29', target: 'identifier30' } },\n",
       "  { data: { id: 'edge33', source: 'call29', target: 'identifier32' } },\n",
       "  {\n",
       "    data: { id: 'identifier30', label: 'a' },\n",
       "    position: { x: -137.8968253968254, y: 450 }\n",
       "  },\n",
       "  {\n",
       "    data: { id: 'identifier32', label: 'a' },\n",
       "    position: { x: -115.67460317460316, y: 450 }\n",
       "  },\n",
       "  {\n",
       "    data: { id: 'identifier36', label: 'b' },\n",
       "    position: { x: -110.71428571428571, y: 350 }\n",
       "  },\n",
       "  {\n",
       "    data: { id: 'function43', label: 'λ(fact)' },\n",
       "    position: { x: -50, y: 100 }\n",
       "  },\n",
       "  {\n",
       "    data: { id: 'edge65', source: 'function43', target: 'function44' }\n",
       "  },\n",
       "  {\n",
       "    data: { id: 'function44', label: 'λ(n)' },\n",
       "    position: { x: -50, y: 150 }\n",
       "  },\n",
       "  {\n",
       "    data: { id: 'edge64', source: 'function44', target: 'conditional45' }\n",
       "  },\n",
       "  {\n",
       "    data: { id: 'conditional45', label: 'if' },\n",
       "    position: { x: -50, y: 200 }\n",
       "  },\n",
       "  {\n",
       "    data: { id: 'edge47', source: 'conditional45', target: 'identifier46' }\n",
       "  },\n",
       "  {\n",
       "    data: { id: 'edge61', source: 'conditional45', target: 'binary48' }\n",
       "  },\n",
       "  {\n",
       "    data: { id: 'edge63', source: 'conditional45', target: 'number62' }\n",
       "  },\n",
       "  {\n",
       "    data: { id: 'identifier46', label: 'n' },\n",
       "    position: { x: -80, y: 250 }\n",
       "  },\n",
       "  {\n",
       "    data: { id: 'binary48', label: '*' },\n",
       "    position: { x: -50, y: 250 }\n",
       "  },\n",
       "  {\n",
       "    data: { id: 'edge50', source: 'binary48', target: 'identifier49' }\n",
       "  },\n",
       "  { data: { id: 'edge60', source: 'binary48', target: 'call51' } },\n",
       "  {\n",
       "    data: { id: 'identifier49', label: 'n' },\n",
       "    position: { x: -66.66666666666667, y: 300 }\n",
       "  },\n",
       "  {\n",
       "    data: { id: 'call51', label: 'call' },\n",
       "    position: { x: -33.33333333333333, y: 300 }\n",
       "  },\n",
       "  { data: { id: 'edge53', source: 'call51', target: 'identifier52' } },\n",
       "  { data: { id: 'edge59', source: 'call51', target: 'binary54' } },\n",
       "  {\n",
       "    data: { id: 'identifier52', label: 'fact' },\n",
       "    position: { x: -47.61904761904761, y: 350 }\n",
       "  },\n",
       "  {\n",
       "    data: { id: 'binary54', label: '-' },\n",
       "    position: { x: -19.047619047619044, y: 350 }\n",
       "  },\n",
       "  {\n",
       "    data: { id: 'edge56', source: 'binary54', target: 'identifier55' }\n",
       "  },\n",
       "  { data: { id: 'edge58', source: 'binary54', target: 'number57' } },\n",
       "  {\n",
       "    data: { id: 'identifier55', label: 'n' },\n",
       "    position: { x: -31.547619047619044, y: 400 }\n",
       "  },\n",
       "  {\n",
       "    data: { id: 'number57', label: 1 },\n",
       "    position: { x: -6.547619047619044, y: 400 }\n",
       "  },\n",
       "  { data: { id: 'number62', label: 1 }, position: { x: -20, y: 250 } },\n",
       "  { data: { id: 'number68', label: 5 }, position: { x: 100, y: 50 } }\n",
       "]\n",
       "         });\n",
       "     });\n",
       " })(this.element);\n",
       "</script>\n"
      ]
     },
     "metadata": {},
     "output_type": "display_data"
    },
    {
     "name": "stdout",
     "output_type": "stream",
     "text": [
      "Output\n"
     ]
    },
    {
     "data": {
      "text/html": [
       "\n",
       "<style>\n",
       "    #mydiv7fbf6895-6468-4b5b-a479-91d86c1b1a32 {\n",
       "        width: 800px;\n",
       "        height: 350px;\n",
       "        top: 0px;\n",
       "        left: 0px;\n",
       "    }\n",
       "</style>\n",
       "<div id=\"mydiv7fbf6895-6468-4b5b-a479-91d86c1b1a32\"></div>\n"
      ]
     },
     "metadata": {},
     "output_type": "display_data"
    },
    {
     "data": {
      "text/html": [
       "\n",
       "<script>\n",
       " (function(element) {\n",
       "     require(['cytoscape'], function(cytoscape) {   \n",
       "        var cy = cytoscape({\n",
       "         container: document.getElementById('mydiv7fbf6895-6468-4b5b-a479-91d86c1b1a32'),\n",
       "         style: [\n",
       "{\n",
       "  selector: 'node',\n",
       "  css: {\n",
       "    'class': \".bx--tree\",\n",
       "    'label': 'data(label)',\n",
       "    'height': '10px',\n",
       "    'width': '10px',\n",
       "  }\n",
       "},\n",
       "{\n",
       "  selector: 'edge',\n",
       "  css: {\n",
       "    'width': 3,\n",
       "    // 'line-color': '#ccc123',\n",
       "    'curve-style': 'bezier',\n",
       "    'target-arrow-shape': 'triangle',\n",
       "    'target-arrow-fill': 'filled',\n",
       "    'arrow-scale': 1,\n",
       "  }\n",
       "}\n",
       "],\n",
       "         layout: \n",
       "{\n",
       "  name: 'preset'\n",
       "}\n",
       ",\n",
       "         elements: [ { data: { id: 'number1', label: 120 }, position: { x: 0, y: 0 } } ]\n",
       "         });\n",
       "     });\n",
       " })(this.element);\n",
       "</script>\n"
      ]
     },
     "metadata": {},
     "output_type": "display_data"
    }
   ],
   "source": [
    "const inputAST = Parser.parse(\"((λf => (λx => λy => f(x(x))(y)) (λa => λb => f(a(a))(b))) (λfact => λn => n ? n*fact(n - 1) : 1))(5)\");\n",
    "const outputAST = interpret(inputAST);\n",
    "console.log(\"Input\");\n",
    "drawProg(inputAST);\n",
    "console.log(\"Output\");\n",
    "drawProg(outputAST);"
   ]
  },
  {
   "cell_type": "markdown",
   "id": "35104445",
   "metadata": {},
   "source": [
    "## Summary\n",
    "\n",
    "1. We saw how to write an interpreter for lambdaTS. This formalizes the distinction between **values** and **expressions**.\n",
    "2. This code is similar to what would be implemented by Node.js \"underneath the hood\".\n",
    "3. Conceptually, can write an interpreter for any programming language using the ideas in this lecture.\n",
    "4. We saw that LambdaTS was Turing complete.\n",
    "5. Challenge 1: how would you rewrite the interpreter to use closures?\n",
    "6. Challenge 2: how would you add state, classes, concurrency? How would you modify the interpreter to be lazy?"
   ]
  },
  {
   "cell_type": "code",
   "execution_count": null,
   "id": "18b23258",
   "metadata": {},
   "outputs": [],
   "source": []
  }
 ],
 "metadata": {
  "kernelspec": {
   "display_name": "TypeScript",
   "language": "typescript",
   "name": "typescript"
  },
  "language_info": {
   "codemirror_mode": {
    "mode": "typescript",
    "name": "javascript",
    "typescript": true
   },
   "file_extension": ".ts",
   "mimetype": "text/typescript",
   "name": "typescript",
   "version": "3.7.2"
  }
 },
 "nbformat": 4,
 "nbformat_minor": 5
}
