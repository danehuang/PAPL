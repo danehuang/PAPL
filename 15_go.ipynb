{
 "cells": [
  {
   "cell_type": "markdown",
   "id": "e2100c5c",
   "metadata": {},
   "source": [
    "# Go"
   ]
  },
  {
   "cell_type": "markdown",
   "id": "4fc53503",
   "metadata": {},
   "source": [
    "## Where Were We?\n",
    "\n",
    "1. Language primitives (i.e., building blocks of languages)\n",
    "2. **Language paradigms** (i.e., combinations of language primitives)\n",
    "    - Last time: concurrency in TypeScript via message passing and shared memory\n",
    "    - This time: **first-class concurrency** in Go\n",
    "3. Building a language (i.e., designing your own language)"
   ]
  },
  {
   "cell_type": "markdown",
   "id": "8ced8f8b",
   "metadata": {},
   "source": [
    "## Goals\n",
    "\n",
    "1. Introduce Go as a language built for message-passing concurrency.\n",
    "2. Introduce the abstraction of a **channel**."
   ]
  },
  {
   "cell_type": "markdown",
   "id": "12a25b25",
   "metadata": {},
   "source": [
    "## Go?\n",
    "\n",
    "Go language: [https://golang.org/doc/](https://golang.org/doc/)\n",
    "\n",
    "Go in Jupyter: [https://github.com/gopherdata/gophernotes](https://github.com/gopherdata/gophernotes)"
   ]
  },
  {
   "cell_type": "markdown",
   "id": "b61d7dea",
   "metadata": {},
   "source": [
    "## Go Introduction"
   ]
  },
  {
   "cell_type": "markdown",
   "id": "6f5ca5a4",
   "metadata": {},
   "source": [
    "### Recall what to look for when learning a new language\n",
    "\n",
    "Template\n",
    "1. **Input/Output** with the outside world\n",
    "2. Define **data**\n",
    "3. Define **code** (i.e., functions, methods, operations) on data structures\n",
    "\n",
    "It is also beneficial to look at `Go` in comparison with `TypeScript`."
   ]
  },
  {
   "cell_type": "markdown",
   "id": "396c015f",
   "metadata": {},
   "source": [
    "### Input/Ouput"
   ]
  },
  {
   "cell_type": "markdown",
   "id": "ba9e7fcf",
   "metadata": {},
   "source": [
    "#### Obligatory Hello World"
   ]
  },
  {
   "cell_type": "code",
   "execution_count": 1,
   "id": "d1fc1c55",
   "metadata": {},
   "outputs": [
    {
     "name": "stdout",
     "output_type": "stream",
     "text": [
      "Hello, World!\n"
     ]
    }
   ],
   "source": [
    "import \"fmt\"  // fmt -> format\n",
    "\n",
    "func main() {  // 1. func -> function in TypeScript\n",
    "    fmt.Println(\"Hello, World!\")  // 2. fmt.Println -> console.log in TypeScript\n",
    "    // 3. you may be wondering why Println is capitalized?\n",
    "}\n",
    "\n",
    "main()"
   ]
  },
  {
   "cell_type": "markdown",
   "id": "d8173879",
   "metadata": {},
   "source": [
    "### Compare with TypeScript\n",
    "\n",
    "```ts\n",
    "function main() {\n",
    "    console.log(\"Hello, World!\");\n",
    "}\n",
    "\n",
    "main();\n",
    "```"
   ]
  },
  {
   "cell_type": "code",
   "execution_count": 2,
   "id": "beea29b6",
   "metadata": {},
   "outputs": [
    {
     "data": {
      "text/plain": [
       "Hi, CSC600. Welcome!"
      ]
     },
     "execution_count": 2,
     "metadata": {},
     "output_type": "execute_result"
    }
   ],
   "source": [
    "// 1. Capital letter in function name indicates `export`\n",
    "//    Equivalent in TypeScript is: export function hello\n",
    "func Hello(name string) string {  // 2. export function hello(name: string): string in TypeScript\n",
    "    // 3. let message: string = undefined; in TypeScript\n",
    "    var message string  // 4. type required\n",
    "    // 5. message = `Hi, ${name}. Welcome!`; in TypeScript\n",
    "    message = fmt.Sprintf(\"Hi, %v. Welcome!\", name)\n",
    "    return message\n",
    "}\n",
    "\n",
    "Hello(\"CSC600\")"
   ]
  },
  {
   "cell_type": "code",
   "execution_count": 3,
   "id": "0237d157",
   "metadata": {},
   "outputs": [],
   "source": [
    "import \"os\"\n",
    "\n",
    "// Write File\n",
    "d1 := []byte(\"hello\\ngo\\n\")  // C??\n",
    "f, err := os.OpenFile(\"./tmp/notes.txt\", os.O_RDWR|os.O_CREATE, 0755) // 0755 linux/unix permissions\n",
    "f.Write(d1)\n",
    "f.Close()"
   ]
  },
  {
   "cell_type": "code",
   "execution_count": 4,
   "id": "62d23b23",
   "metadata": {},
   "outputs": [
    {
     "name": "stdout",
     "output_type": "stream",
     "text": [
      "hello\n",
      "go\n"
     ]
    }
   ],
   "source": [
    "// Read File\n",
    "f, err := os.OpenFile(\"./tmp/notes.txt\", os.O_RDWR, 0755)\n",
    "d2 := make([]byte, 3)  // length 3 byte array\n",
    "f.Read(d2)\n",
    "fmt.Print(string(d2))\n",
    "f.Read(d2)\n",
    "fmt.Print(string(d2))\n",
    "f.Read(d2)\n",
    "fmt.Print(string(d2))\n",
    "f.Close()"
   ]
  },
  {
   "cell_type": "markdown",
   "id": "1036a38b",
   "metadata": {},
   "source": [
    "### Syntactic sugar for variable assignment\n",
    "\n",
    "**Syntactic sugar** means shorthand"
   ]
  },
  {
   "cell_type": "code",
   "execution_count": 5,
   "id": "c1766d04",
   "metadata": {},
   "outputs": [
    {
     "data": {
      "text/plain": [
       "Hi, CSC600. Welcome!"
      ]
     },
     "execution_count": 5,
     "metadata": {},
     "output_type": "execute_result"
    }
   ],
   "source": [
    "func Hello2(name string) string {\n",
    "    // Equivalent code\n",
    "    // var message string  // 4. type required\n",
    "    // message = fmt.Sprintf(\"Hi, %v. Welcome!\", name)\n",
    "    message := fmt.Sprintf(\"Hi, %v. Welcome!\", name)   // write it this way if you can\n",
    "    return message\n",
    "}\n",
    "\n",
    "Hello(\"CSC600\")"
   ]
  },
  {
   "cell_type": "markdown",
   "id": "b092f0a4",
   "metadata": {},
   "source": [
    "### Data-Structures + Code on Data-Structures"
   ]
  },
  {
   "cell_type": "markdown",
   "id": "6a58e078",
   "metadata": {},
   "source": [
    "#### Arrays/Slices + Loops"
   ]
  },
  {
   "cell_type": "code",
   "execution_count": 6,
   "id": "ee1de3a5",
   "metadata": {},
   "outputs": [
    {
     "data": {
      "text/plain": [
       "[41 42 43]"
      ]
     },
     "execution_count": 6,
     "metadata": {},
     "output_type": "execute_result"
    }
   ],
   "source": [
    "numbers := []int{ 41, 42, 43 }  // notice the { }\n",
    "numbers"
   ]
  },
  {
   "cell_type": "markdown",
   "id": "20ebda38",
   "metadata": {},
   "source": [
    "#### Compare with TypeScript\n",
    "\n",
    "```ts\n",
    "const numbers: int[] = [41, 42, 43];\n",
    "```\n",
    "or\n",
    "```ts\n",
    "const numbers = [41, 42, 43];\n",
    "```"
   ]
  },
  {
   "cell_type": "code",
   "execution_count": 7,
   "id": "49788d62",
   "metadata": {},
   "outputs": [
    {
     "data": {
      "text/plain": [
       "42"
      ]
     },
     "execution_count": 7,
     "metadata": {},
     "output_type": "execute_result"
    }
   ],
   "source": [
    "numbers[1]"
   ]
  },
  {
   "cell_type": "code",
   "execution_count": 8,
   "id": "72fbebed",
   "metadata": {},
   "outputs": [
    {
     "data": {
      "text/plain": [
       "[41 42 43 44]"
      ]
     },
     "execution_count": 8,
     "metadata": {},
     "output_type": "execute_result"
    }
   ],
   "source": [
    "numbers = append(numbers, 44)  // \"pure\" append\n",
    "numbers"
   ]
  },
  {
   "cell_type": "markdown",
   "id": "78c99a42",
   "metadata": {},
   "source": [
    "### Compare with TypeScript\n",
    "\n",
    "```ts\n",
    "numbers.push(44)\n",
    "```\n",
    "but actually\n",
    "```ts\n",
    "numbers = numbers.concat(44)\n",
    "```"
   ]
  },
  {
   "cell_type": "code",
   "execution_count": 9,
   "id": "80c5b3d8",
   "metadata": {},
   "outputs": [
    {
     "name": "stdout",
     "output_type": "stream",
     "text": [
      "Index 0 Element 41\n",
      "Index 1 Element 42\n",
      "Index 2 Element 43\n",
      "Index 3 Element 44\n"
     ]
    }
   ],
   "source": [
    "for i, x := range numbers {\n",
    "    fmt.Println(\"Index\", i, \"Element\", x)\n",
    "}"
   ]
  },
  {
   "cell_type": "markdown",
   "id": "31d44f1c",
   "metadata": {},
   "source": [
    "#### Compare with TypeScript\n",
    "\n",
    "```ts\n",
    "numbers.forEach((i, x) => {\n",
    "    console.log(\"Index\", i, \"Element\", x);\n",
    "});\n",
    "```"
   ]
  },
  {
   "cell_type": "markdown",
   "id": "17e7c519",
   "metadata": {},
   "source": [
    "#### Dictionaries"
   ]
  },
  {
   "cell_type": "code",
   "execution_count": 10,
   "id": "17b4c3d8",
   "metadata": {},
   "outputs": [
    {
     "data": {
      "text/plain": [
       "map[]"
      ]
     },
     "execution_count": 10,
     "metadata": {},
     "output_type": "execute_result"
    }
   ],
   "source": [
    "dictionary := make(map[string]int)\n",
    "dictionary"
   ]
  },
  {
   "cell_type": "code",
   "execution_count": 11,
   "id": "7ca7be99",
   "metadata": {},
   "outputs": [
    {
     "data": {
      "text/plain": [
       "map[a:1]"
      ]
     },
     "execution_count": 11,
     "metadata": {},
     "output_type": "execute_result"
    }
   ],
   "source": [
    "dictionary[\"a\"] = 1\n",
    "dictionary"
   ]
  },
  {
   "cell_type": "code",
   "execution_count": 12,
   "id": "38418364",
   "metadata": {},
   "outputs": [
    {
     "data": {
      "text/plain": [
       "map[a:1 b:2]"
      ]
     },
     "execution_count": 12,
     "metadata": {},
     "output_type": "execute_result"
    }
   ],
   "source": [
    "dictionary[\"b\"] = 2\n",
    "dictionary"
   ]
  },
  {
   "cell_type": "markdown",
   "id": "7ffd4e57",
   "metadata": {},
   "source": [
    "#### Compare with TypeScript\n",
    "\n",
    "```ts\n",
    "const dictionary = {};\n",
    "dictionary[\"a\"] = 1;\n",
    "dictionary[\"b\"] = 2;\n",
    "```"
   ]
  },
  {
   "cell_type": "code",
   "execution_count": 13,
   "id": "3a4a7564",
   "metadata": {},
   "outputs": [
    {
     "data": {
      "text/plain": [
       "1 true"
      ]
     },
     "execution_count": 13,
     "metadata": {},
     "output_type": "execute_result"
    }
   ],
   "source": [
    "dictionary[\"a\"]"
   ]
  },
  {
   "cell_type": "code",
   "execution_count": 14,
   "id": "f29a8d5a",
   "metadata": {},
   "outputs": [
    {
     "data": {
      "text/plain": [
       "2 true"
      ]
     },
     "execution_count": 14,
     "metadata": {},
     "output_type": "execute_result"
    }
   ],
   "source": [
    "dictionary[\"b\"]"
   ]
  },
  {
   "cell_type": "code",
   "execution_count": 15,
   "id": "e5bb0b4f",
   "metadata": {},
   "outputs": [
    {
     "data": {
      "text/plain": [
       "0 false"
      ]
     },
     "execution_count": 15,
     "metadata": {},
     "output_type": "execute_result"
    }
   ],
   "source": [
    "dictionary[\"c\"]"
   ]
  },
  {
   "cell_type": "code",
   "execution_count": 16,
   "id": "ee5a9b74",
   "metadata": {},
   "outputs": [
    {
     "name": "stdout",
     "output_type": "stream",
     "text": [
      "Not found c\n"
     ]
    }
   ],
   "source": [
    "if val, found := dictionary[\"c\"]; found {\n",
    "    fmt.Println(\"Found\", \"c\", val)\n",
    "} else {\n",
    "    fmt.Println(\"Not found\", \"c\")\n",
    "}"
   ]
  },
  {
   "cell_type": "markdown",
   "id": "01a60dc0",
   "metadata": {},
   "source": [
    "#### Compare with TypeScript\n",
    "\n",
    "```ts\n",
    "if (\"c\" in dictionary) {\n",
    "    console.log(\"Found\", \"c\", dictionary[\"c\"]);\n",
    "} else {\n",
    "    console.log(\"Not found\", \"c\");\n",
    "}\n",
    "```"
   ]
  },
  {
   "cell_type": "markdown",
   "id": "7fbf2c3a",
   "metadata": {},
   "source": [
    "### Algebraic-Data Types + Recursion?"
   ]
  },
  {
   "cell_type": "code",
   "execution_count": 17,
   "id": "e7daa879",
   "metadata": {},
   "outputs": [],
   "source": [
    "type Leaf struct {\n",
    "}\n",
    "\n",
    "type Node struct {\n",
    "    val int;\n",
    "    left Tree;\n",
    "    right Tree;\n",
    "}\n",
    "\n",
    "type Tree interface {\n",
    "    isTree()\n",
    "}\n",
    "func (_ Leaf) isTree() {}\n",
    "func (_ Node) isTree() {}"
   ]
  },
  {
   "cell_type": "markdown",
   "id": "c7f5d474",
   "metadata": {},
   "source": [
    "#### Compare with TypeScript\n",
    "\n",
    "```ts\n",
    "type Leaf = {\n",
    "    tag: \"LEAF\"\n",
    "};\n",
    "type Node = {\n",
    "    tag: \"NODE\",\n",
    "    val: int,\n",
    "    left: Tree,\n",
    "    right: Tree,\n",
    "};\n",
    "type Tree = Leaf | Node;\n",
    "```"
   ]
  },
  {
   "cell_type": "code",
   "execution_count": 18,
   "id": "869e650a",
   "metadata": {},
   "outputs": [
    {
     "data": {
      "text/plain": [
       "(1 () ())"
      ]
     },
     "execution_count": 18,
     "metadata": {},
     "output_type": "execute_result"
    }
   ],
   "source": [
    "func treeToString(tr Tree) string {\n",
    "    switch nt := tr.(type) {\n",
    "    case Leaf: {\n",
    "        return \"()\"\n",
    "    }\n",
    "    case Node: {\n",
    "        return fmt.Sprintf(\"(%d %s %s)\", nt.val, treeToString(nt.left), treeToString(nt.right))\n",
    "    }\n",
    "    }\n",
    "}\n",
    "\n",
    "treeToString(Node{1, Leaf{}, Leaf{}})"
   ]
  },
  {
   "cell_type": "markdown",
   "id": "272f2cab",
   "metadata": {},
   "source": [
    "#### Compare with TypeScript\n",
    "\n",
    "```ts\n",
    "function treeToString(tr: Tree): string {\n",
    "    switch(tr.tag) {\n",
    "        case \"LEAF\": {\n",
    "            return \"()\";\n",
    "        }\n",
    "        case \"NODE\": {\n",
    "            return `(${tr.val} ${treeToString(tr.left)} ${treeToString(tr.right)})`;\n",
    "        }\n",
    "    }\n",
    "}\n",
    "```"
   ]
  },
  {
   "cell_type": "markdown",
   "id": "5851e4b8",
   "metadata": {},
   "source": [
    "### First-Class Functions?"
   ]
  },
  {
   "cell_type": "code",
   "execution_count": 19,
   "id": "cdcc47bc",
   "metadata": {},
   "outputs": [],
   "source": [
    "func addOne(x int) int {\n",
    "    return x + 1\n",
    "}"
   ]
  },
  {
   "cell_type": "code",
   "execution_count": 20,
   "id": "3043b541",
   "metadata": {},
   "outputs": [
    {
     "data": {
      "text/plain": [
       "3"
      ]
     },
     "execution_count": 20,
     "metadata": {},
     "output_type": "execute_result"
    }
   ],
   "source": [
    "foobar2 := addOne  // Recall the test, can we assign to a variable?\n",
    "foobar2(2)"
   ]
  },
  {
   "cell_type": "code",
   "execution_count": 21,
   "id": "04d5044f",
   "metadata": {},
   "outputs": [
    {
     "data": {
      "text/plain": [
       "3"
      ]
     },
     "execution_count": 21,
     "metadata": {},
     "output_type": "execute_result"
    }
   ],
   "source": [
    "var foobar3 func(int) int  // Function type, (x: int) => int in TypeScript\n",
    "foobar3 = func(x int) int {  // Anonymous functions in Go\n",
    "    return x + 1\n",
    "}\n",
    "foobar3(2)"
   ]
  },
  {
   "cell_type": "markdown",
   "id": "c28f4917",
   "metadata": {},
   "source": [
    "#### Compare with TypeScript\n",
    "\n",
    "```ts\n",
    "const foobar3: (y: int) => int = (x: int): int => {\n",
    "    return x + 1;\n",
    "};\n",
    "```"
   ]
  },
  {
   "cell_type": "markdown",
   "id": "9f97669e",
   "metadata": {},
   "source": [
    "## Where is Concurrency?"
   ]
  },
  {
   "cell_type": "markdown",
   "id": "38c32141",
   "metadata": {},
   "source": [
    "### Channels"
   ]
  },
  {
   "cell_type": "code",
   "execution_count": 22,
   "id": "f7c04d17",
   "metadata": {},
   "outputs": [],
   "source": [
    "import \"time\"\n",
    "\n",
    "func worker(done chan string) {  // 1. `chan` is a Go keyword for channel\n",
    "                                 // 2. `chan string` means we have a channel for sending strings\n",
    "    fmt.Print(\"Doing work that takes one second...\")\n",
    "    time.Sleep(time.Second)  // \"Simulate work being done for one second\"\n",
    "    fmt.Println(\"done\")\n",
    "    done <- \"MESSAGE\"  // Write \"MESSAGE\" to channel `done`\n",
    "}"
   ]
  },
  {
   "cell_type": "code",
   "execution_count": 23,
   "id": "80b6264e",
   "metadata": {},
   "outputs": [
    {
     "name": "stdout",
     "output_type": "stream",
     "text": [
      "Doing work that takes one second...done\n",
      "Main thread\n"
     ]
    },
    {
     "data": {
      "text/plain": [
       "12 <nil>"
      ]
     },
     "execution_count": 23,
     "metadata": {},
     "output_type": "execute_result"
    }
   ],
   "source": [
    "// Parallelism\n",
    "done := make(chan string)  // 1. Create a string channel\n",
    "                           // 2. We have first-class channels because we can assign channels to variables\n",
    "go worker(done)            // 3. Launch the goroutine worker with channel done\n",
    "time.Sleep(2*time.Second)  // 4. Hack: \"worker thread\" takes 1 second, so let's wait for two seconds\n",
    "fmt.Println(\"Main thread\")"
   ]
  },
  {
   "cell_type": "code",
   "execution_count": 24,
   "id": "66795abf",
   "metadata": {},
   "outputs": [
    {
     "name": "stdout",
     "output_type": "stream",
     "text": [
      "Doing work that takes one second...done\n",
      "Main thread\n"
     ]
    },
    {
     "data": {
      "text/plain": [
       "12 <nil>"
      ]
     },
     "execution_count": 24,
     "metadata": {},
     "output_type": "execute_result"
    }
   ],
   "source": [
    "done := make(chan string)  // 1. Create a string channel\n",
    "                           // 2. We have first-class channels because we can assign channels to variables\n",
    "go worker(done)            // 3. Launch the goroutine worker with channel done\n",
    "<- done                    // 4. Block until the worker thread is done, i.e., synchronize so concurrency\n",
    "fmt.Println(\"Main thread\")"
   ]
  },
  {
   "cell_type": "markdown",
   "id": "0bcbaca0",
   "metadata": {},
   "source": [
    "### Read vs. Write Channels and Parallelism"
   ]
  },
  {
   "cell_type": "code",
   "execution_count": 25,
   "id": "02892fc4",
   "metadata": {},
   "outputs": [],
   "source": [
    "func fib(n int) int {  // naive implementation\n",
    "    if (n == 0) {\n",
    "        return 1\n",
    "    } else if (n == 1) {\n",
    "        return 1\n",
    "    } else {\n",
    "        return fib(n-1) + fib(n-2)\n",
    "    }\n",
    "}"
   ]
  },
  {
   "cell_type": "code",
   "execution_count": 26,
   "id": "682f10a1",
   "metadata": {},
   "outputs": [],
   "source": [
    "func fibWorker(receiver <-chan int, transmitter chan<- int) {\n",
    "    // 1. receiver is receive-only channel\n",
    "    // 2. transmitter is send-only channel\n",
    "    n := <- receiver  // 3. Read from input\n",
    "    fmt.Println(\"Calling fibWorker...\", n)\n",
    "    \n",
    "    // Run fibonacci\n",
    "    res := fib(n)\n",
    "    \n",
    "    fmt.Println(\"Result for\", n, \"...\", res)\n",
    "    transmitter <- res  // 4. Write to output\n",
    "}"
   ]
  },
  {
   "cell_type": "markdown",
   "id": "ad5a46a0",
   "metadata": {},
   "source": [
    "### 1 Logical Worker"
   ]
  },
  {
   "cell_type": "code",
   "execution_count": 27,
   "id": "b1809bd2",
   "metadata": {},
   "outputs": [
    {
     "name": "stdout",
     "output_type": "stream",
     "text": [
      "Launching logical equivalent worker thread...\n",
      "Calling fibWorker... 30\n",
      "Result for 30 ... 1346269\n",
      "Recieved 1346269\n"
     ]
    },
    {
     "data": {
      "text/plain": [
       "17 <nil>"
      ]
     },
     "execution_count": 27,
     "metadata": {},
     "output_type": "execute_result"
    }
   ],
   "source": [
    "// Create channels\n",
    "receiver := make(chan int)\n",
    "transmitter := make(chan int)\n",
    "\n",
    "// \"Launch worker thread\"\n",
    "go fibWorker(receiver, transmitter)\n",
    "fmt.Println(\"Launching logical equivalent worker thread...\")\n",
    "receiver <- 30\n",
    "\n",
    "// Block until we get output\n",
    "output := <- transmitter\n",
    "fmt.Println(\"Recieved\", output)"
   ]
  },
  {
   "cell_type": "markdown",
   "id": "fe0de516",
   "metadata": {},
   "source": [
    "### 2 Logical Workers"
   ]
  },
  {
   "cell_type": "code",
   "execution_count": 28,
   "id": "c9fbeacf",
   "metadata": {},
   "outputs": [
    {
     "name": "stdout",
     "output_type": "stream",
     "text": [
      "Launching logical equivalent of worker threads...\n",
      "Calling fibWorker... 30\n",
      "Calling fibWorker... 25\n",
      "Result for 25 ... 121393\n",
      "Result for 30 ... 1346269\n",
      "Recieved 1346269\n",
      "Recieved 121393\n"
     ]
    },
    {
     "data": {
      "text/plain": [
       "16 <nil>"
      ]
     },
     "execution_count": 28,
     "metadata": {},
     "output_type": "execute_result"
    }
   ],
   "source": [
    "// Create channels\n",
    "receiver1 := make(chan int)\n",
    "transmitter1 := make(chan int)\n",
    "receiver2 := make(chan int)\n",
    "transmitter2 := make(chan int)\n",
    "\n",
    "// \"Launch worker thread\"\n",
    "go fibWorker(receiver1, transmitter1)\n",
    "go fibWorker(receiver2, transmitter2)\n",
    "fmt.Println(\"Launching logical equivalent of worker threads...\")\n",
    "receiver1 <- 30\n",
    "receiver2 <- 25\n",
    "\n",
    "// Block until we get output\n",
    "output1 := <- transmitter1\n",
    "output2 := <- transmitter2\n",
    "fmt.Println(\"Recieved\", output1)\n",
    "fmt.Println(\"Recieved\", output2)"
   ]
  },
  {
   "cell_type": "markdown",
   "id": "b8bf1192",
   "metadata": {},
   "source": [
    "### N Logical Workers for Parallelism"
   ]
  },
  {
   "cell_type": "code",
   "execution_count": 29,
   "id": "f9a426ee",
   "metadata": {},
   "outputs": [
    {
     "name": "stdout",
     "output_type": "stream",
     "text": [
      "Calling fibWorker... 30\n",
      "Calling fibWorker... 28\n",
      "Calling fibWorker... 26\n",
      "Calling fibWorker... 24\n",
      "Calling fibWorker... 22\n",
      "Calling fibWorker... 20\n",
      "Calling fibWorker... 18\n",
      "Calling fibWorker... 16\n",
      "Calling fibWorker... 14\n",
      "Calling fibWorker... 12\n",
      "Result for 12 ... 233\n",
      "Result for 14 ... 610\n",
      "Result for 16 ... 1597\n",
      "Result for 18 ... 4181\n",
      "Result for 20 ... 10946\n",
      "Result for 22 ... 28657\n",
      "Result for 24 ... 75025\n",
      "Result for 26 ... 196418\n",
      "Result for 28 ... 514229\n",
      "Result for 30 ... 1346269\n"
     ]
    }
   ],
   "source": [
    "var transmitters [](chan int)\n",
    "N := 10\n",
    "for i := 0; i < N; i++ {\n",
    "    receiver := make(chan int)\n",
    "    transmitter := make(chan int)\n",
    "    \n",
    "    // Launch worker\n",
    "    go fibWorker(receiver, transmitter)\n",
    "    receiver <- 30-2*i\n",
    "    \n",
    "    transmitters = append(transmitters, transmitter)\n",
    "}\n",
    "\n",
    "// Block for outputs, i.e., synchronize\n",
    "for i := 0; i < N; i++ {\n",
    "    output := <- transmitters[i]\n",
    "}"
   ]
  },
  {
   "cell_type": "markdown",
   "id": "a63944b0",
   "metadata": {},
   "source": [
    "### Channels, Mutexes, and Producer/Consumer\n",
    "\n",
    "Mental model\n",
    "1. One shared message box\n",
    "2. **Producers** put messages in the message box\n",
    "    * User clicks screen, producing a message in the message box: \"click at x, y\"\n",
    "3. **Consumers** take message out of the message box and process them\n",
    "    * Browser consumer takes message out of the messabe box, and fires \"onClick\" callback"
   ]
  },
  {
   "cell_type": "code",
   "execution_count": 30,
   "id": "de814ea1",
   "metadata": {},
   "outputs": [],
   "source": [
    "import \"sync\"\n",
    "\n",
    "type WorkQueue struct {\n",
    "    sync.Mutex\n",
    "    queue []string\n",
    "}\n",
    "\n",
    "var queue []string\n",
    "workQueue := WorkQueue{\n",
    "    queue: queue,\n",
    "}"
   ]
  },
  {
   "cell_type": "code",
   "execution_count": 31,
   "id": "8f246278",
   "metadata": {},
   "outputs": [],
   "source": [
    "func produce(workQueue *WorkQueue, input chan string) {\n",
    "    task := <- input\n",
    "    workQueue.Lock()\n",
    "    defer workQueue.Unlock()  // Call at the end of the function\n",
    "    workQueue.queue = append(workQueue.queue, task)\n",
    "}"
   ]
  },
  {
   "cell_type": "code",
   "execution_count": 32,
   "id": "b3d974ab",
   "metadata": {},
   "outputs": [
    {
     "data": {
      "text/plain": [
       "[hello]"
      ]
     },
     "execution_count": 32,
     "metadata": {},
     "output_type": "execute_result"
    }
   ],
   "source": [
    "input := make(chan string)\n",
    "go produce(&workQueue, input)\n",
    "input <- \"hello\"\n",
    "workQueue.queue"
   ]
  },
  {
   "cell_type": "code",
   "execution_count": 33,
   "id": "0897cc80",
   "metadata": {},
   "outputs": [],
   "source": [
    "import \"math/rand\"\n",
    "\n",
    "func taskCallback(task string) (string, time.Duration) {\n",
    "    elapsed := time.Duration(rand.Intn(100))*time.Millisecond\n",
    "    time.Sleep(elapsed)\n",
    "    return task, elapsed\n",
    "}\n",
    "\n",
    "func consume(workQueue *WorkQueue, output chan string) {\n",
    "    workQueue.Lock()\n",
    "    if (len(workQueue.queue) > 0) {\n",
    "        task := workQueue.queue[0]\n",
    "        workQueue.queue = workQueue.queue[1:]\n",
    "        workQueue.Unlock()  // Only lock for as long as we need\n",
    "\n",
    "        // Simulate triggering callback\n",
    "        res, elapsed := taskCallback(task)\n",
    "        \n",
    "        output <- fmt.Sprintf(\"%v took %d ms ...\", res, elapsed.Milliseconds())\n",
    "    } else {\n",
    "        workQueue.Unlock()\n",
    "        output <- \"None\"\n",
    "    }\n",
    "}"
   ]
  },
  {
   "cell_type": "code",
   "execution_count": 34,
   "id": "0a2f96be",
   "metadata": {},
   "outputs": [
    {
     "data": {
      "text/plain": [
       "[]"
      ]
     },
     "execution_count": 34,
     "metadata": {},
     "output_type": "execute_result"
    }
   ],
   "source": [
    "output := make(chan string)\n",
    "go consume(&workQueue, output)\n",
    "<- output\n",
    "workQueue.queue"
   ]
  },
  {
   "cell_type": "code",
   "execution_count": 35,
   "id": "3241ab16",
   "metadata": {},
   "outputs": [],
   "source": [
    "N := 100\n",
    "for i := 0; i < N; i++ {\n",
    "    go produce(&workQueue, input)\n",
    "    input <- fmt.Sprintf(\"task%d\", i)\n",
    "}"
   ]
  },
  {
   "cell_type": "code",
   "execution_count": 36,
   "id": "44a5258e",
   "metadata": {},
   "outputs": [
    {
     "name": "stdout",
     "output_type": "stream",
     "text": [
      "task1 took 47 ms ...\n",
      "task2 took 59 ms ...\n",
      "task3 took 81 ms ...\n",
      "task6 took 25 ms ...\n",
      "task23 took 15 ms ...\n",
      "task26 took 78 ms ...\n",
      "task14 took 94 ms ...\n",
      "task16 took 33 ms ...\n",
      "task13 took 3 ms ...\n",
      "task25 took 85 ms ...\n",
      "task95 took 40 ms ...\n",
      "task96 took 52 ms ...\n",
      "task84 took 23 ms ...\n",
      "task45 took 13 ms ...\n",
      "task49 took 21 ms ...\n",
      "task90 took 91 ms ...\n",
      "task47 took 94 ms ...\n",
      "task46 took 90 ms ...\n",
      "task74 took 63 ms ...\n",
      "task91 took 78 ms ...\n",
      "task77 took 41 ms ...\n",
      "task63 took 28 ms ...\n",
      "task82 took 43 ms ...\n",
      "task57 took 0 ms ...\n",
      "task71 took 2 ms ...\n",
      "task85 took 37 ms ...\n",
      "task69 took 47 ms ...\n",
      "task81 took 96 ms ...\n",
      "task93 took 5 ms ...\n",
      "task76 took 18 ms ...\n",
      "task51 took 47 ms ...\n",
      "task64 took 55 ms ...\n",
      "task65 took 51 ms ...\n",
      "task99 took 98 ms ...\n",
      "task61 took 56 ms ...\n",
      "task68 took 5 ms ...\n",
      "task94 took 46 ms ...\n",
      "task72 took 83 ms ...\n",
      "task75 took 76 ms ...\n",
      "task86 took 59 ms ...\n",
      "task78 took 33 ms ...\n",
      "task66 took 61 ms ...\n",
      "task59 took 5 ms ...\n",
      "task70 took 77 ms ...\n",
      "task92 took 3 ms ...\n",
      "task83 took 20 ms ...\n",
      "task98 took 25 ms ...\n",
      "task97 took 43 ms ...\n",
      "task88 took 33 ms ...\n",
      "task89 took 2 ms ...\n",
      "task4 took 28 ms ...\n",
      "task10 took 0 ms ...\n",
      "task11 took 95 ms ...\n",
      "task19 took 74 ms ...\n",
      "task48 took 2 ms ...\n",
      "task31 took 47 ms ...\n",
      "task53 took 59 ms ...\n",
      "task56 took 99 ms ...\n",
      "task29 took 58 ms ...\n",
      "task38 took 31 ms ...\n",
      "task34 took 90 ms ...\n",
      "task43 took 31 ms ...\n",
      "task9 took 56 ms ...\n",
      "task20 took 45 ms ...\n",
      "task15 took 62 ms ...\n",
      "task24 took 53 ms ...\n",
      "task30 took 47 ms ...\n",
      "task33 took 88 ms ...\n",
      "task37 took 87 ms ...\n",
      "task52 took 24 ms ...\n",
      "task50 took 63 ms ...\n",
      "task73 took 46 ms ...\n",
      "task54 took 89 ms ...\n",
      "task60 took 63 ms ...\n",
      "task8 took 11 ms ...\n",
      "task7 took 40 ms ...\n",
      "task79 took 53 ms ...\n",
      "task55 took 57 ms ...\n",
      "task39 took 56 ms ...\n",
      "task80 took 7 ms ...\n",
      "task36 took 8 ms ...\n",
      "task58 took 88 ms ...\n",
      "task32 took 87 ms ...\n",
      "task41 took 66 ms ...\n",
      "task42 took 94 ms ...\n",
      "task28 took 28 ms ...\n",
      "task5 took 18 ms ...\n",
      "task22 took 29 ms ...\n",
      "task35 took 41 ms ...\n",
      "task87 took 36 ms ...\n",
      "task21 took 37 ms ...\n",
      "task18 took 89 ms ...\n",
      "task12 took 11 ms ...\n",
      "task17 took 6 ms ...\n",
      "task67 took 10 ms ...\n",
      "task40 took 37 ms ...\n",
      "task27 took 66 ms ...\n",
      "task62 took 38 ms ...\n",
      "task44 took 26 ms ...\n",
      "task0 took 87 ms ...\n"
     ]
    }
   ],
   "source": [
    "var outputs [](chan string)\n",
    "for i := 0; i < N; i++ {\n",
    "    output := make(chan string)\n",
    "    go consume(&workQueue, output)\n",
    "    outputs = append(outputs, output)\n",
    "}\n",
    "\n",
    "for i := 0; i < N; i++ {\n",
    "    res, _ := <- outputs[i]\n",
    "    fmt.Println(res)\n",
    "}"
   ]
  },
  {
   "cell_type": "markdown",
   "id": "4f95d002",
   "metadata": {},
   "source": [
    "## Summary\n",
    "\n",
    "1. We saw a general purpose language called Go designed with *first-class channels*.\n",
    "2. Go is primarily aimed at message-passing concurrency.\n",
    "3. We also saw the producer/consumer pattern and how to use mutexes in Go."
   ]
  },
  {
   "cell_type": "code",
   "execution_count": null,
   "id": "0ff6c841",
   "metadata": {},
   "outputs": [],
   "source": []
  }
 ],
 "metadata": {
  "kernelspec": {
   "display_name": "Go",
   "language": "go",
   "name": "gophernotes"
  },
  "language_info": {
   "codemirror_mode": "",
   "file_extension": ".go",
   "mimetype": "",
   "name": "go",
   "nbconvert_exporter": "",
   "pygments_lexer": "",
   "version": "go1.17.2"
  }
 },
 "nbformat": 4,
 "nbformat_minor": 5
}
