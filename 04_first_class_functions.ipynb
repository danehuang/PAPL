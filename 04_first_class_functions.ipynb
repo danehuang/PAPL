{
 "cells": [
  {
   "cell_type": "code",
   "execution_count": 1,
   "id": "32928e6d",
   "metadata": {},
   "outputs": [
    {
     "data": {
      "text/html": [
       "\n",
       "<script>\n",
       "require.config({\n",
       "     paths: {\n",
       "     cytoscape: 'https://cdnjs.cloudflare.com/ajax/libs/cytoscape/3.19.0/cytoscape.min'\n",
       "}});\n",
       "</script>\n",
       "  "
      ]
     },
     "metadata": {},
     "output_type": "display_data"
    },
    {
     "data": {
      "text/html": [
       "\n",
       "  <link rel=\"stylesheet\" href=\"node_modules/carbon-components/css/carbon-components.css\">\n",
       "  "
      ]
     },
     "metadata": {},
     "output_type": "display_data"
    }
   ],
   "source": [
    "import { requireCytoscape, requireCarbon } from \"./lib/draw\";\n",
    "\n",
    "requireCytoscape();\n",
    "requireCarbon();"
   ]
  },
  {
   "cell_type": "markdown",
   "id": "78695b1a",
   "metadata": {},
   "source": [
    "# First-Class Functions"
   ]
  },
  {
   "cell_type": "markdown",
   "id": "12dbf68d",
   "metadata": {},
   "source": [
    "## Where Were We?\n",
    "\n",
    "1. **Language primitives** (i.e., building blocks of languages)\n",
    "    - Last time: pure functions\n",
    "    - This time: **first-class functions**\n",
    "2. Language paradigms (i.e., combinations of language primitives)\n",
    "3. Building a language (i.e., designing your own language)"
   ]
  },
  {
   "cell_type": "markdown",
   "id": "be008213",
   "metadata": {},
   "source": [
    "## Goal\n",
    "\n",
    "1. Get comfortable with the idea of a *first-class function* (also called *higher-order function*)\n",
    "2. Learn about first-class functions on arrays (e.g., map, filter, reduce)"
   ]
  },
  {
   "cell_type": "markdown",
   "id": "8fe779d9",
   "metadata": {},
   "source": [
    "## Outline\n",
    "\n",
    "- Why first-class functions?\n",
    "- First-class functions by example.\n",
    "- First-class functions on arrays, i.e., map-filter-reduce."
   ]
  },
  {
   "cell_type": "markdown",
   "id": "6407fcab",
   "metadata": {},
   "source": [
    "## Why First-Class Functions?"
   ]
  },
  {
   "cell_type": "markdown",
   "id": "fe829ce0",
   "metadata": {},
   "source": [
    "### Consider the following problem\n",
    "\n",
    "Problem:\n",
    "- I have an array of integer numbers (e.g., 1-5 star ratings)\n",
    "- I want the average of the numbers that are not 1 star ratings (i.e., remove extremely negative reviews)"
   ]
  },
  {
   "cell_type": "code",
   "execution_count": 2,
   "id": "2f8c6b45",
   "metadata": {},
   "outputs": [],
   "source": [
    "const arr = [1, 2, 3, 4, 5, 2, 2, 1, 1];"
   ]
  },
  {
   "cell_type": "markdown",
   "id": "e4a42980",
   "metadata": {},
   "source": [
    "### Let's try an iterative solution first"
   ]
  },
  {
   "cell_type": "code",
   "execution_count": 3,
   "id": "9338efe3",
   "metadata": {},
   "outputs": [],
   "source": [
    "function iterAvgWithout1(arr: number[]): number {\n",
    "    let [sum, cnt]: [number, number] = [0, 0];  // Question: array or tuple?\n",
    "    for (const x of arr) {\n",
    "        if (x > 1) {  // Remove the 1star ratings\n",
    "            sum += x;\n",
    "            cnt += 1;\n",
    "        }\n",
    "    }\n",
    "    // TS syntax: === tests equality taking types into account\n",
    "    // TS syntax: e1 ? e2 : e3 means e2 if e1 is true and e3 otherwise. It is a ternary if operator.\n",
    "    return cnt === 0 ? 0 : sum / cnt;\n",
    "}"
   ]
  },
  {
   "cell_type": "code",
   "execution_count": 4,
   "id": "a8d5df8a",
   "metadata": {},
   "outputs": [
    {
     "name": "stdout",
     "output_type": "stream",
     "text": [
      "[\n",
      "  \u001b[33m1\u001b[39m, \u001b[33m2\u001b[39m, \u001b[33m3\u001b[39m, \u001b[33m4\u001b[39m, \u001b[33m5\u001b[39m,\n",
      "  \u001b[33m2\u001b[39m, \u001b[33m2\u001b[39m, \u001b[33m1\u001b[39m, \u001b[33m1\u001b[39m\n",
      "]\n",
      "\u001b[33m3\u001b[39m\n"
     ]
    }
   ],
   "source": [
    "console.log(arr);\n",
    "iterAvgWithout1(arr);"
   ]
  },
  {
   "cell_type": "code",
   "execution_count": 5,
   "id": "71d5d717",
   "metadata": {},
   "outputs": [],
   "source": [
    "// Let's add some extra debugging information\n",
    "function iterAvgWithout1(arr: number[]): number {    \n",
    "    let [sum, cnt, iter]: [number, number, number] = [0, 0, 0];\n",
    "    for (const x of arr) {\n",
    "        if (x > 1) {  // Remove the 1star ratings\n",
    "            sum += x;\n",
    "            cnt += 1;\n",
    "        }\n",
    "        // Purely for illustrative purposes\n",
    "        console.log(`iter: ${iter} 0th element: ${x}  sum: ${sum}   cnt: ${cnt}`); iter += 1;\n",
    "    }\n",
    "    return cnt === 0 ? 0 : sum / cnt;\n",
    "}"
   ]
  },
  {
   "cell_type": "markdown",
   "id": "e74a9286",
   "metadata": {},
   "source": [
    "### Let's try to filter by 1 and 2 star ratings"
   ]
  },
  {
   "cell_type": "code",
   "execution_count": 6,
   "id": "c06340ae",
   "metadata": {},
   "outputs": [],
   "source": [
    "function iterAvgWithout1And2(arr: number[]): number {\n",
    "    let [sum, cnt, iter] = [0, 0, 0];\n",
    "    for (const x of arr) {\n",
    "        if (x > 2) {  // Remove the 1 and 2 star ratings\n",
    "            sum += x;\n",
    "            cnt += 1;\n",
    "        }\n",
    "        // Purely for illustrative purposes\n",
    "        console.log(`iter: ${iter} 0th element: ${x}  sum: ${sum}   cnt: ${cnt}`); iter += 1;\n",
    "    }\n",
    "    \n",
    "    return cnt === 0 ? 0 : sum / cnt;\n",
    "}"
   ]
  },
  {
   "cell_type": "code",
   "execution_count": 7,
   "id": "34655d9d",
   "metadata": {},
   "outputs": [
    {
     "name": "stdout",
     "output_type": "stream",
     "text": [
      "[\n",
      "  \u001b[33m1\u001b[39m, \u001b[33m2\u001b[39m, \u001b[33m3\u001b[39m, \u001b[33m4\u001b[39m, \u001b[33m5\u001b[39m,\n",
      "  \u001b[33m2\u001b[39m, \u001b[33m2\u001b[39m, \u001b[33m1\u001b[39m, \u001b[33m1\u001b[39m\n",
      "]\n",
      "iter: 0 0th element: 1  sum: 0   cnt: 0\n",
      "iter: 1 0th element: 2  sum: 0   cnt: 0\n",
      "iter: 2 0th element: 3  sum: 3   cnt: 1\n",
      "iter: 3 0th element: 4  sum: 7   cnt: 2\n",
      "iter: 4 0th element: 5  sum: 12   cnt: 3\n",
      "iter: 5 0th element: 2  sum: 12   cnt: 3\n",
      "iter: 6 0th element: 2  sum: 12   cnt: 3\n",
      "iter: 7 0th element: 1  sum: 12   cnt: 3\n",
      "iter: 8 0th element: 1  sum: 12   cnt: 3\n",
      "\u001b[33m4\u001b[39m\n"
     ]
    }
   ],
   "source": [
    "console.log(arr);\n",
    "iterAvgWithout1And2(arr);"
   ]
  },
  {
   "cell_type": "markdown",
   "id": "5f3574e3",
   "metadata": {},
   "source": [
    "### What just happened?\n",
    "    \n",
    "- We did a copy-paste and changed 1 character ..."
   ]
  },
  {
   "cell_type": "markdown",
   "id": "dec8ab91",
   "metadata": {},
   "source": [
    "### Let's try a weighted average"
   ]
  },
  {
   "cell_type": "code",
   "execution_count": 8,
   "id": "a909b1ae",
   "metadata": {},
   "outputs": [],
   "source": [
    "function iterWgtAvgWithout1And2(arr: number[]): number {\n",
    "    let [sum, cnt, iter] = [0, 0, 0];\n",
    "    for (const x of arr) {\n",
    "        if (x > 1) {  // Remove the 1 star ratings\n",
    "            if (x == 2) {\n",
    "                sum += x;   \n",
    "            } else if (x == 3) {\n",
    "                sum += 2*x;\n",
    "            } else {\n",
    "                sum += 3*x;\n",
    "            }\n",
    "            cnt += 1;\n",
    "        }\n",
    "        // Purely for illustrative purposes\n",
    "        console.log(`iter: ${iter} 0th element: ${x}  sum: ${sum}   cnt: ${cnt}`); iter += 1;\n",
    "    }\n",
    "    return cnt === 0 ? 0 : sum / cnt;\n",
    "}"
   ]
  },
  {
   "cell_type": "code",
   "execution_count": 9,
   "id": "348d7c14",
   "metadata": {},
   "outputs": [
    {
     "name": "stdout",
     "output_type": "stream",
     "text": [
      "[\n",
      "  \u001b[33m1\u001b[39m, \u001b[33m2\u001b[39m, \u001b[33m3\u001b[39m, \u001b[33m4\u001b[39m, \u001b[33m5\u001b[39m,\n",
      "  \u001b[33m2\u001b[39m, \u001b[33m2\u001b[39m, \u001b[33m1\u001b[39m, \u001b[33m1\u001b[39m\n",
      "]\n",
      "iter: 0 0th element: 1  sum: 0   cnt: 0\n",
      "iter: 1 0th element: 2  sum: 2   cnt: 1\n",
      "iter: 2 0th element: 3  sum: 8   cnt: 2\n",
      "iter: 3 0th element: 4  sum: 20   cnt: 3\n",
      "iter: 4 0th element: 5  sum: 35   cnt: 4\n",
      "iter: 5 0th element: 2  sum: 37   cnt: 5\n",
      "iter: 6 0th element: 2  sum: 39   cnt: 6\n",
      "iter: 7 0th element: 1  sum: 39   cnt: 6\n",
      "iter: 8 0th element: 1  sum: 39   cnt: 6\n",
      "\u001b[33m6.5\u001b[39m\n"
     ]
    }
   ],
   "source": [
    "console.log(arr);\n",
    "iterWgtAvgWithout1And2(arr);"
   ]
  },
  {
   "cell_type": "markdown",
   "id": "e84c3a50",
   "metadata": {},
   "source": [
    "### Same result ...\n",
    "    \n",
    "- We did another copy-paste and changed the if block\n",
    "- Say you want to filter out the 1's and 2's, and do a weighted average now ...\n",
    "- Surely, there must be a better way."
   ]
  },
  {
   "cell_type": "markdown",
   "id": "13aa2a68",
   "metadata": {},
   "source": [
    "## First-Class Functions to the Rescue\n",
    "\n",
    "- Many programming language features are useful for getting rid of copy-paste. Another reason for a programming language feature is to reduce programmer error (e.g., types).\n",
    "- First-class functions give us a way to get rid of copy-paste."
   ]
  },
  {
   "cell_type": "markdown",
   "id": "e884a558",
   "metadata": {},
   "source": [
    "### Example\n",
    "\n",
    "Here is an ordinary function."
   ]
  },
  {
   "cell_type": "code",
   "execution_count": 10,
   "id": "a0412b77",
   "metadata": {},
   "outputs": [
    {
     "name": "stdout",
     "output_type": "stream",
     "text": [
      "\u001b[33m3\u001b[39m\n"
     ]
    }
   ],
   "source": [
    "function addOne(x: number): number { // An ordinary function\n",
    "    return x + 1;\n",
    "}\n",
    "\n",
    "addOne(2);"
   ]
  },
  {
   "cell_type": "markdown",
   "id": "b8680f57",
   "metadata": {},
   "source": [
    "### Anonymous functions, i.e., a nameless function\n",
    "\n",
    "- Before we get to first-class functions, it's helpful to introduce the idea of an **anonymous** function.\n",
    "- An anonymous function is, as it's name suggests, a function without a name."
   ]
  },
  {
   "cell_type": "code",
   "execution_count": 11,
   "id": "6817d36a",
   "metadata": {},
   "outputs": [
    {
     "name": "stdout",
     "output_type": "stream",
     "text": [
      "\u001b[36m[Function: tsLastExpr]\u001b[39m\n"
     ]
    }
   ],
   "source": [
    "// An anonymous function version of addOne\n",
    "(x: number) => x + 1"
   ]
  },
  {
   "cell_type": "code",
   "execution_count": 12,
   "id": "9e6a6f6d",
   "metadata": {},
   "outputs": [
    {
     "name": "stdout",
     "output_type": "stream",
     "text": [
      "\u001b[33m3\u001b[39m\n"
     ]
    }
   ],
   "source": [
    "// How to call an anonymous function\n",
    "((x: number) => x + 1)(2)"
   ]
  },
  {
   "cell_type": "markdown",
   "id": "d3e9f1f1",
   "metadata": {},
   "source": [
    "#### Because an anonymous function doesn't have a name, we have to copy and paste the code to call it again"
   ]
  },
  {
   "cell_type": "code",
   "execution_count": 13,
   "id": "b3ea29d8",
   "metadata": {},
   "outputs": [
    {
     "name": "stdout",
     "output_type": "stream",
     "text": [
      "\u001b[33m3\u001b[39m\n"
     ]
    }
   ],
   "source": [
    "// How to call an anonymous function again? Copy-paste\n",
    "((x: number) => x + 1)(2)"
   ]
  },
  {
   "cell_type": "markdown",
   "id": "0a78b9b6",
   "metadata": {},
   "source": [
    "#### But what if we could simply assign an anonymous function to an ordinary variable?"
   ]
  },
  {
   "cell_type": "code",
   "execution_count": 14,
   "id": "81d5b0ef",
   "metadata": {},
   "outputs": [
    {
     "name": "stdout",
     "output_type": "stream",
     "text": [
      "\u001b[33m3\u001b[39m\n"
     ]
    }
   ],
   "source": [
    "// 1. (x: number) => number on left-hand side of = is a function type.\n",
    "// 2. (x: number) => x + 1 on right-hand side of = is an anonymous function.\n",
    "const f: (foobar: number) => number = (x: number) => x + 1; // 3. naming an anonymous function by assigning it to f.\n",
    "f(2);"
   ]
  },
  {
   "cell_type": "code",
   "execution_count": 15,
   "id": "13280f12",
   "metadata": {},
   "outputs": [
    {
     "name": "stdout",
     "output_type": "stream",
     "text": [
      "\u001b[33m3\u001b[39m\n"
     ]
    }
   ],
   "source": [
    "const f = (x: number) => x + 1; // Recall that types are optional\n",
    "f(2);"
   ]
  },
  {
   "cell_type": "code",
   "execution_count": 16,
   "id": "5fd8b540",
   "metadata": {},
   "outputs": [
    {
     "name": "stdout",
     "output_type": "stream",
     "text": [
      "\u001b[33m3\u001b[39m\n"
     ]
    }
   ],
   "source": [
    "const g: (x: number, y: number) => number = ((x: number, y: number) => x + y);\n",
    "g(1, 2)"
   ]
  },
  {
   "cell_type": "code",
   "execution_count": 17,
   "id": "75312cfd",
   "metadata": {},
   "outputs": [
    {
     "name": "stdout",
     "output_type": "stream",
     "text": [
      "\u001b[33m3\u001b[39m\n"
     ]
    }
   ],
   "source": [
    "const h: (x: number) => (y: number) => number = (x: number) => (y: number) => x + y;\n",
    "h(1)(2)"
   ]
  },
  {
   "cell_type": "markdown",
   "id": "7c270945",
   "metadata": {},
   "source": [
    "### Implications of being able to assign anonymous function to ordinary variable\n",
    "\n",
    "- We may be used to assigning numbers and strings to variables.\n",
    "- It is also normal to assign arrays and other data structures (e.g., trees) to variables.\n",
    "- However, we may never have seen that we can assign a \"function\" to a variable.\n",
    "- What are the implications of this feature?\n",
    "- Your language has first-class functions if you can assign functions to variables."
   ]
  },
  {
   "cell_type": "code",
   "execution_count": 18,
   "id": "93ecc0e2",
   "metadata": {},
   "outputs": [
    {
     "name": "stdout",
     "output_type": "stream",
     "text": [
      "\u001b[33m2\u001b[39m\n"
     ]
    }
   ],
   "source": [
    "function addOne(x: number): number {\n",
    "    return x + 1;\n",
    "}\n",
    "\n",
    "const f = addOne;  // Assigning a function to variable\n",
    "f(1);"
   ]
  },
  {
   "cell_type": "markdown",
   "id": "d1638dba",
   "metadata": {},
   "source": [
    "### 1. You can return a function from a function"
   ]
  },
  {
   "cell_type": "code",
   "execution_count": 19,
   "id": "a1644425",
   "metadata": {},
   "outputs": [
    {
     "name": "stdout",
     "output_type": "stream",
     "text": [
      "\u001b[33m3\u001b[39m\n"
     ]
    }
   ],
   "source": [
    "function returnNumberVar(x: number): number {\n",
    "    const y = x + 1;  // I assign a number to y\n",
    "    return y;         // And I'm returning y\n",
    "}\n",
    "\n",
    "returnNumberVar(2);"
   ]
  },
  {
   "cell_type": "code",
   "execution_count": 20,
   "id": "51121719",
   "metadata": {},
   "outputs": [
    {
     "name": "stdout",
     "output_type": "stream",
     "text": [
      "\u001b[36m[Function: f]\u001b[39m\n"
     ]
    }
   ],
   "source": [
    "function returnFunctionVar(x: number): (whateverIdontcare: number) => number {  // Returning a function type\n",
    "    const f = (y: number) => x + y;  // I assign a function to f\n",
    "    return f;                        // And I'm returning f\n",
    "}\n",
    "\n",
    "returnFunctionVar(2);"
   ]
  },
  {
   "cell_type": "markdown",
   "id": "30e99892",
   "metadata": {},
   "source": [
    "### 2. You can pass functions in as arguments"
   ]
  },
  {
   "cell_type": "code",
   "execution_count": 21,
   "id": "69680491",
   "metadata": {},
   "outputs": [
    {
     "name": "stdout",
     "output_type": "stream",
     "text": [
      "\u001b[33m3\u001b[39m\n"
     ]
    }
   ],
   "source": [
    "const x = 2;         // I assign a number to x\n",
    "returnNumberVar(x);  // And I'm calling a function with x"
   ]
  },
  {
   "cell_type": "code",
   "execution_count": 22,
   "id": "947b98ac",
   "metadata": {},
   "outputs": [
    {
     "name": "stdout",
     "output_type": "stream",
     "text": [
      "\u001b[33m3\u001b[39m\n"
     ]
    }
   ],
   "source": [
    "function callFunctionArg(foobar: (y: number) => number): number {  // Returning a function type\n",
    "    return foobar(2);\n",
    "}\n",
    "\n",
    "const f = (x: number) => x + 1;  // I assign a function to f\n",
    "callFunctionArg(f);              // And I'm calling a function with f"
   ]
  },
  {
   "cell_type": "markdown",
   "id": "f95c94cb",
   "metadata": {},
   "source": [
    "### 3. Partially evaluated functions"
   ]
  },
  {
   "cell_type": "code",
   "execution_count": 23,
   "id": "d68463f3",
   "metadata": {},
   "outputs": [
    {
     "name": "stdout",
     "output_type": "stream",
     "text": [
      "\u001b[33m3\u001b[39m\n"
     ]
    }
   ],
   "source": [
    "function plus(x: number, y: number): number {\n",
    "    return x + y;\n",
    "}\n",
    "\n",
    "plus(1, 2);"
   ]
  },
  {
   "cell_type": "code",
   "execution_count": 24,
   "id": "d6fa897d",
   "metadata": {},
   "outputs": [
    {
     "name": "stdout",
     "output_type": "stream",
     "text": [
      "\u001b[36m[Function: anonPlus]\u001b[39m\n"
     ]
    }
   ],
   "source": [
    "// anonPlus takes a function, and returns a function\n",
    "const anonPlus: (x: number) => ((y: number) => number) = (x: number) => ((y: number) => x + y);\n",
    "\n",
    "anonPlus"
   ]
  },
  {
   "cell_type": "code",
   "execution_count": 25,
   "id": "1dc3eb99",
   "metadata": {},
   "outputs": [
    {
     "name": "stdout",
     "output_type": "stream",
     "text": [
      "\u001b[36m[Function (anonymous)]\u001b[39m\n"
     ]
    }
   ],
   "source": [
    "const anonPlus1: (y: number) => number = anonPlus(1); // Partial evaluation\n",
    "\n",
    "anonPlus1"
   ]
  },
  {
   "cell_type": "code",
   "execution_count": 26,
   "id": "8df53938",
   "metadata": {},
   "outputs": [
    {
     "name": "stdout",
     "output_type": "stream",
     "text": [
      "evaluating both arguments \u001b[33m3\u001b[39m\n",
      "using partially applied function \u001b[33m3\u001b[39m\n"
     ]
    }
   ],
   "source": [
    "console.log(\"evaluating both arguments\", anonPlus(1)(2))\n",
    "console.log(\"using partially applied function\", anonPlus1(2));"
   ]
  },
  {
   "cell_type": "markdown",
   "id": "b6ad99f6",
   "metadata": {},
   "source": [
    "### Returning to motivating problem\n",
    "\n",
    "- Recall we were trying to filter out low ratings and other various combinations.\n",
    "- But we found ourselves copy-pasting quite a bit."
   ]
  },
  {
   "cell_type": "code",
   "execution_count": 27,
   "id": "dca0454d",
   "metadata": {},
   "outputs": [],
   "source": [
    "function fcIterAvgWithFilter(predicate: (x: number) => boolean, arr: number[]): number {\n",
    "    // Passing in a function `predicate` as an argument\n",
    "    let [sum, cnt, iter] = [0, 0, 0];\n",
    "    for (const x of arr) {\n",
    "        if (predicate(x)) {  // Use the predicate\n",
    "            sum += x;\n",
    "            cnt += 1;\n",
    "        }\n",
    "        // Purely for illustrative purposes\n",
    "        console.log(`iter: ${iter} 0th element: ${x}  sum: ${sum}   cnt: ${cnt}`); iter += 1;\n",
    "    }\n",
    "    \n",
    "    return cnt === 0 ? 0 : sum / cnt;\n",
    "}"
   ]
  },
  {
   "cell_type": "code",
   "execution_count": 28,
   "id": "bcca73ce",
   "metadata": {},
   "outputs": [
    {
     "name": "stdout",
     "output_type": "stream",
     "text": [
      "iter: 0 0th element: 1  sum: 0   cnt: 0\n",
      "iter: 1 0th element: 2  sum: 2   cnt: 1\n",
      "iter: 2 0th element: 3  sum: 5   cnt: 2\n",
      "iter: 3 0th element: 4  sum: 9   cnt: 3\n",
      "iter: 4 0th element: 5  sum: 14   cnt: 4\n",
      "iter: 5 0th element: 2  sum: 16   cnt: 5\n",
      "iter: 6 0th element: 2  sum: 18   cnt: 6\n",
      "iter: 7 0th element: 1  sum: 18   cnt: 6\n",
      "iter: 8 0th element: 1  sum: 18   cnt: 6\n",
      "\u001b[33m3\u001b[39m\n",
      "iter: 0 0th element: 1  sum: 0   cnt: 0\n",
      "iter: 1 0th element: 2  sum: 0   cnt: 0\n",
      "iter: 2 0th element: 3  sum: 3   cnt: 1\n",
      "iter: 3 0th element: 4  sum: 7   cnt: 2\n",
      "iter: 4 0th element: 5  sum: 12   cnt: 3\n",
      "iter: 5 0th element: 2  sum: 12   cnt: 3\n",
      "iter: 6 0th element: 2  sum: 12   cnt: 3\n",
      "iter: 7 0th element: 1  sum: 12   cnt: 3\n",
      "iter: 8 0th element: 1  sum: 12   cnt: 3\n",
      "\u001b[33m4\u001b[39m\n"
     ]
    }
   ],
   "source": [
    "const filter1 = (x: number) => x > 1;\n",
    "const filter2 = (x: number) => x > 2;\n",
    "console.log(fcIterAvgWithFilter(filter1, arr));\n",
    "console.log(fcIterAvgWithFilter(filter2, arr));"
   ]
  },
  {
   "cell_type": "markdown",
   "id": "9764a184",
   "metadata": {},
   "source": [
    "### It's starting to look better!\n",
    "\n",
    "- Ok so we no longer need to copy and paste code for changing filtering by 1 and 2.\n",
    "- What about changing the sum?"
   ]
  },
  {
   "cell_type": "code",
   "execution_count": 29,
   "id": "71f62c3e",
   "metadata": {},
   "outputs": [],
   "source": [
    "function fcIterAvgWithFilterFun(predicate: (x: number) => boolean, fun: (x: number) => number, arr: number[]): number {\n",
    "    let [sum, cnt, iter] = [0, 0, 0];\n",
    "    for (const x of arr) {\n",
    "        if (predicate(x)) {  // Use the predicate\n",
    "            sum += fun(x);\n",
    "            cnt += 1;\n",
    "        }\n",
    "        // Purely for illustrative purposes\n",
    "        console.log(`iter: ${iter} 0th element: ${x}  sum: ${sum}   cnt: ${cnt}`); iter += 1;\n",
    "    }\n",
    "    return cnt === 0 ? 0 : sum / cnt;\n",
    "}"
   ]
  },
  {
   "cell_type": "code",
   "execution_count": 30,
   "id": "0d02051a",
   "metadata": {},
   "outputs": [
    {
     "name": "stdout",
     "output_type": "stream",
     "text": [
      "iter: 0 0th element: 1  sum: 0   cnt: 0\n",
      "iter: 1 0th element: 2  sum: 2   cnt: 1\n",
      "iter: 2 0th element: 3  sum: 5   cnt: 2\n",
      "iter: 3 0th element: 4  sum: 9   cnt: 3\n",
      "iter: 4 0th element: 5  sum: 14   cnt: 4\n",
      "iter: 5 0th element: 2  sum: 16   cnt: 5\n",
      "iter: 6 0th element: 2  sum: 18   cnt: 6\n",
      "iter: 7 0th element: 1  sum: 18   cnt: 6\n",
      "iter: 8 0th element: 1  sum: 18   cnt: 6\n",
      "\u001b[33m3\u001b[39m\n",
      "iter: 0 0th element: 1  sum: 0   cnt: 0\n",
      "iter: 1 0th element: 2  sum: 0   cnt: 0\n",
      "iter: 2 0th element: 3  sum: 3   cnt: 1\n",
      "iter: 3 0th element: 4  sum: 7   cnt: 2\n",
      "iter: 4 0th element: 5  sum: 12   cnt: 3\n",
      "iter: 5 0th element: 2  sum: 12   cnt: 3\n",
      "iter: 6 0th element: 2  sum: 12   cnt: 3\n",
      "iter: 7 0th element: 1  sum: 12   cnt: 3\n",
      "iter: 8 0th element: 1  sum: 12   cnt: 3\n",
      "\u001b[33m4\u001b[39m\n",
      "iter: 0 0th element: 1  sum: 0   cnt: 0\n",
      "iter: 1 0th element: 2  sum: 2   cnt: 1\n",
      "iter: 2 0th element: 3  sum: 8   cnt: 2\n",
      "iter: 3 0th element: 4  sum: 20   cnt: 3\n",
      "iter: 4 0th element: 5  sum: 35   cnt: 4\n",
      "iter: 5 0th element: 2  sum: 37   cnt: 5\n",
      "iter: 6 0th element: 2  sum: 39   cnt: 6\n",
      "iter: 7 0th element: 1  sum: 39   cnt: 6\n",
      "iter: 8 0th element: 1  sum: 39   cnt: 6\n",
      "\u001b[33m6.5\u001b[39m\n",
      "iter: 0 0th element: 1  sum: 0   cnt: 0\n",
      "iter: 1 0th element: 2  sum: 0   cnt: 0\n",
      "iter: 2 0th element: 3  sum: 6   cnt: 1\n",
      "iter: 3 0th element: 4  sum: 18   cnt: 2\n",
      "iter: 4 0th element: 5  sum: 33   cnt: 3\n",
      "iter: 5 0th element: 2  sum: 33   cnt: 3\n",
      "iter: 6 0th element: 2  sum: 33   cnt: 3\n",
      "iter: 7 0th element: 1  sum: 33   cnt: 3\n",
      "iter: 8 0th element: 1  sum: 33   cnt: 3\n",
      "\u001b[33m11\u001b[39m\n"
     ]
    }
   ],
   "source": [
    "const identity = (x: number): number => x;\n",
    "const weight = (x: number) => {\n",
    "    if (x === 2) {\n",
    "        return x;   \n",
    "    } else if (x === 3) {\n",
    "        return 2*x;\n",
    "    } else {\n",
    "        return 3*x;\n",
    "    }\n",
    "};\n",
    "\n",
    "console.log(fcIterAvgWithFilterFun(filter1, identity, arr));  // average without 1\n",
    "console.log(fcIterAvgWithFilterFun(filter2, identity, arr));  // average without 2\n",
    "console.log(fcIterAvgWithFilterFun(filter1, weight, arr));    // weighted average without 1\n",
    "console.log(fcIterAvgWithFilterFun(filter2, weight, arr));    // weighted average without 2"
   ]
  },
  {
   "cell_type": "markdown",
   "id": "a5d7a7fa",
   "metadata": {},
   "source": [
    "## Map-Filter-Reduce Pattern on Arrays"
   ]
  },
  {
   "cell_type": "markdown",
   "id": "a95c4c5f",
   "metadata": {},
   "source": [
    "- Every now and then, there exists a pattern that is pretty common such as filtering and performing some function on it\n",
    "- We want to abstract that out so that a library designer can implement it. This is less work for us, reduces bugs, and introduces opportunities for optimization."
   ]
  },
  {
   "cell_type": "markdown",
   "id": "958d83a6",
   "metadata": {},
   "source": [
    "### Filter\n",
    "\n",
    "Take an array and produce an array with some elements removed."
   ]
  },
  {
   "cell_type": "code",
   "execution_count": 31,
   "id": "f990f9c9",
   "metadata": {},
   "outputs": [],
   "source": [
    "function arrFilter<T>(f: (elem: T) => boolean, arr: T[]): T[] { // <T> is generic\n",
    "    const acc = [];\n",
    "    for (const x of arr) {\n",
    "        if (f(x)) {\n",
    "            acc.push(x);\n",
    "        }\n",
    "    }\n",
    "    return acc;\n",
    "}"
   ]
  },
  {
   "cell_type": "code",
   "execution_count": 32,
   "id": "7dbc6d65",
   "metadata": {},
   "outputs": [
    {
     "name": "stdout",
     "output_type": "stream",
     "text": [
      "[\n",
      "  \u001b[33m1\u001b[39m, \u001b[33m2\u001b[39m, \u001b[33m3\u001b[39m, \u001b[33m4\u001b[39m, \u001b[33m5\u001b[39m,\n",
      "  \u001b[33m2\u001b[39m, \u001b[33m2\u001b[39m, \u001b[33m1\u001b[39m, \u001b[33m1\u001b[39m\n",
      "]\n",
      "[ \u001b[33m2\u001b[39m, \u001b[33m3\u001b[39m, \u001b[33m4\u001b[39m, \u001b[33m5\u001b[39m, \u001b[33m2\u001b[39m, \u001b[33m2\u001b[39m ]\n"
     ]
    }
   ],
   "source": [
    "console.log(arr);\n",
    "console.log(arrFilter((x: number) => x > 1, arr));"
   ]
  },
  {
   "cell_type": "markdown",
   "id": "33b2867c",
   "metadata": {},
   "source": [
    "### Map\n",
    "\n",
    "Take an array and apply a function to each element of that arr."
   ]
  },
  {
   "cell_type": "code",
   "execution_count": 33,
   "id": "79344bb5",
   "metadata": {},
   "outputs": [],
   "source": [
    "function arrMap<T, U>(f: (elem: T) => U, arr: T[]): U[] {\n",
    "    const acc = [];  // Create a new array\n",
    "    for (const x of arr) {\n",
    "        acc.push(f(x));\n",
    "    }\n",
    "    return acc;\n",
    "}"
   ]
  },
  {
   "cell_type": "code",
   "execution_count": 34,
   "id": "6c49503d",
   "metadata": {},
   "outputs": [
    {
     "name": "stdout",
     "output_type": "stream",
     "text": [
      "input [\n",
      "  \u001b[33m1\u001b[39m, \u001b[33m2\u001b[39m, \u001b[33m3\u001b[39m, \u001b[33m4\u001b[39m, \u001b[33m5\u001b[39m,\n",
      "  \u001b[33m2\u001b[39m, \u001b[33m2\u001b[39m, \u001b[33m1\u001b[39m, \u001b[33m1\u001b[39m\n",
      "]\n",
      "mapped output [\n",
      "  \u001b[33m3\u001b[39m, \u001b[33m2\u001b[39m, \u001b[33m6\u001b[39m, \u001b[33m12\u001b[39m, \u001b[33m15\u001b[39m,\n",
      "  \u001b[33m2\u001b[39m, \u001b[33m2\u001b[39m, \u001b[33m3\u001b[39m,  \u001b[33m3\u001b[39m\n",
      "]\n",
      "original input [\n",
      "  \u001b[33m1\u001b[39m, \u001b[33m2\u001b[39m, \u001b[33m3\u001b[39m, \u001b[33m4\u001b[39m, \u001b[33m5\u001b[39m,\n",
      "  \u001b[33m2\u001b[39m, \u001b[33m2\u001b[39m, \u001b[33m1\u001b[39m, \u001b[33m1\u001b[39m\n",
      "]\n"
     ]
    }
   ],
   "source": [
    "console.log(\"input\", arr);\n",
    "console.log(\"mapped output\", arrMap(weight, arr));\n",
    "console.log(\"original input\", arr); "
   ]
  },
  {
   "cell_type": "markdown",
   "id": "76f38160",
   "metadata": {},
   "source": [
    "### Reduce\n",
    "\n",
    "Take an array and combine all elements in that array somehow."
   ]
  },
  {
   "cell_type": "code",
   "execution_count": 35,
   "id": "a5e25038",
   "metadata": {},
   "outputs": [],
   "source": [
    "function arrReduce<T, U>(f: (elem: T, acc: U) => U, initial: U, arr: T[]): U {\n",
    "    let acc = initial;\n",
    "    for (const x of arr) {\n",
    "        acc = f(x, acc);\n",
    "    }\n",
    "    return acc;\n",
    "}"
   ]
  },
  {
   "cell_type": "code",
   "execution_count": 36,
   "id": "b1e4be44",
   "metadata": {},
   "outputs": [
    {
     "name": "stdout",
     "output_type": "stream",
     "text": [
      "input [\n",
      "  \u001b[33m1\u001b[39m, \u001b[33m2\u001b[39m, \u001b[33m3\u001b[39m, \u001b[33m4\u001b[39m, \u001b[33m5\u001b[39m,\n",
      "  \u001b[33m2\u001b[39m, \u001b[33m2\u001b[39m, \u001b[33m1\u001b[39m, \u001b[33m1\u001b[39m\n",
      "]\n",
      "filtered array [ \u001b[33m2\u001b[39m, \u001b[33m3\u001b[39m, \u001b[33m4\u001b[39m, \u001b[33m5\u001b[39m, \u001b[33m2\u001b[39m, \u001b[33m2\u001b[39m ]\n",
      "mapped array [ \u001b[33m2\u001b[39m, \u001b[33m6\u001b[39m, \u001b[33m12\u001b[39m, \u001b[33m15\u001b[39m, \u001b[33m2\u001b[39m, \u001b[33m2\u001b[39m ]\n",
      "reduce \u001b[33m39\u001b[39m\n"
     ]
    }
   ],
   "source": [
    "console.log(\"input\", arr);\n",
    "const arr1 = arrFilter(filter1, arr);\n",
    "console.log(\"filtered array\", arr1);\n",
    "const arr2 = arrMap(weight, arr1);\n",
    "console.log(\"mapped array\", arr2);\n",
    "console.log(\"reduce\", arrReduce((elem: number, acc: number) => elem + acc, 0, arr2));"
   ]
  },
  {
   "cell_type": "markdown",
   "id": "006548aa",
   "metadata": {},
   "source": [
    "## Back to the Original Problem\n",
    "\n",
    "- Now we'll see how to do the original problem and it's variations using map, filter, and reduce."
   ]
  },
  {
   "cell_type": "code",
   "execution_count": 37,
   "id": "bc781809",
   "metadata": {},
   "outputs": [],
   "source": [
    "function fcIterAvgWithMapReduce(pred: (x: number) => boolean, fun: (x: number) => number, arr: number[]): number {\n",
    "    const arr2 = arrMap(fun, arrFilter(pred, arr));\n",
    "    const cnt = arr2.length;\n",
    "    const sum = arrReduce((elem: number, acc: number) => elem + acc, 0, arr2);\n",
    "    return sum / cnt;\n",
    "}"
   ]
  },
  {
   "cell_type": "code",
   "execution_count": 38,
   "id": "d80e888f",
   "metadata": {},
   "outputs": [
    {
     "name": "stdout",
     "output_type": "stream",
     "text": [
      "\u001b[33m3\u001b[39m\n",
      "\u001b[33m4\u001b[39m\n",
      "\u001b[33m6.5\u001b[39m\n",
      "\u001b[33m11\u001b[39m\n"
     ]
    }
   ],
   "source": [
    "console.log(fcIterAvgWithMapReduce(filter1, identity, arr));\n",
    "console.log(fcIterAvgWithMapReduce(filter2, identity, arr));\n",
    "console.log(fcIterAvgWithMapReduce(filter1, weight, arr));\n",
    "console.log(fcIterAvgWithMapReduce(filter2, weight, arr));"
   ]
  },
  {
   "cell_type": "markdown",
   "id": "e90aa678",
   "metadata": {},
   "source": [
    "## Shouldn't TypeScript have this functionality for arrays?"
   ]
  },
  {
   "cell_type": "markdown",
   "id": "574bb8c6",
   "metadata": {},
   "source": [
    "### Map on arrays"
   ]
  },
  {
   "cell_type": "code",
   "execution_count": 39,
   "id": "7b5af61e",
   "metadata": {},
   "outputs": [
    {
     "name": "stdout",
     "output_type": "stream",
     "text": [
      "input [\n",
      "  \u001b[33m1\u001b[39m, \u001b[33m2\u001b[39m, \u001b[33m3\u001b[39m, \u001b[33m4\u001b[39m, \u001b[33m5\u001b[39m,\n",
      "  \u001b[33m2\u001b[39m, \u001b[33m2\u001b[39m, \u001b[33m1\u001b[39m, \u001b[33m1\u001b[39m\n",
      "]\n",
      "mapped output [\n",
      "  \u001b[33m2\u001b[39m, \u001b[33m3\u001b[39m, \u001b[33m4\u001b[39m, \u001b[33m5\u001b[39m, \u001b[33m6\u001b[39m,\n",
      "  \u001b[33m3\u001b[39m, \u001b[33m3\u001b[39m, \u001b[33m2\u001b[39m, \u001b[33m2\u001b[39m\n",
      "]\n",
      "original input [\n",
      "  \u001b[33m1\u001b[39m, \u001b[33m2\u001b[39m, \u001b[33m3\u001b[39m, \u001b[33m4\u001b[39m, \u001b[33m5\u001b[39m,\n",
      "  \u001b[33m2\u001b[39m, \u001b[33m2\u001b[39m, \u001b[33m1\u001b[39m, \u001b[33m1\u001b[39m\n",
      "]\n"
     ]
    }
   ],
   "source": [
    "console.log(\"input\", arr);\n",
    "console.log(\"mapped output\", arr.map((x: number) => x + 1));\n",
    "console.log(\"original input\", arr);"
   ]
  },
  {
   "cell_type": "markdown",
   "id": "6fcf0c59",
   "metadata": {},
   "source": [
    "### Filter on arrays"
   ]
  },
  {
   "cell_type": "code",
   "execution_count": 40,
   "id": "f03ccd10",
   "metadata": {},
   "outputs": [
    {
     "name": "stdout",
     "output_type": "stream",
     "text": [
      "input [\n",
      "  \u001b[33m1\u001b[39m, \u001b[33m2\u001b[39m, \u001b[33m3\u001b[39m, \u001b[33m4\u001b[39m, \u001b[33m5\u001b[39m,\n",
      "  \u001b[33m2\u001b[39m, \u001b[33m2\u001b[39m, \u001b[33m1\u001b[39m, \u001b[33m1\u001b[39m\n",
      "]\n",
      "filtered output [ \u001b[33m2\u001b[39m, \u001b[33m3\u001b[39m, \u001b[33m4\u001b[39m, \u001b[33m5\u001b[39m, \u001b[33m2\u001b[39m, \u001b[33m2\u001b[39m ]\n",
      "original input [\n",
      "  \u001b[33m1\u001b[39m, \u001b[33m2\u001b[39m, \u001b[33m3\u001b[39m, \u001b[33m4\u001b[39m, \u001b[33m5\u001b[39m,\n",
      "  \u001b[33m2\u001b[39m, \u001b[33m2\u001b[39m, \u001b[33m1\u001b[39m, \u001b[33m1\u001b[39m\n",
      "]\n"
     ]
    }
   ],
   "source": [
    "console.log(\"input\", arr);\n",
    "console.log(\"filtered output\", arr.filter((x: number) => x > 1));\n",
    "console.log(\"original input\", arr);"
   ]
  },
  {
   "cell_type": "markdown",
   "id": "ac1a9204",
   "metadata": {},
   "source": [
    "### Reduce on arrays"
   ]
  },
  {
   "cell_type": "code",
   "execution_count": 41,
   "id": "dd2ca449",
   "metadata": {},
   "outputs": [
    {
     "name": "stdout",
     "output_type": "stream",
     "text": [
      "input [\n",
      "  \u001b[33m1\u001b[39m, \u001b[33m2\u001b[39m, \u001b[33m3\u001b[39m, \u001b[33m4\u001b[39m, \u001b[33m5\u001b[39m,\n",
      "  \u001b[33m2\u001b[39m, \u001b[33m2\u001b[39m, \u001b[33m1\u001b[39m, \u001b[33m1\u001b[39m\n",
      "]\n",
      "filtered arr [ \u001b[33m2\u001b[39m, \u001b[33m3\u001b[39m, \u001b[33m4\u001b[39m, \u001b[33m5\u001b[39m, \u001b[33m2\u001b[39m, \u001b[33m2\u001b[39m ]\n",
      "mapped array [ \u001b[33m2\u001b[39m, \u001b[33m6\u001b[39m, \u001b[33m12\u001b[39m, \u001b[33m15\u001b[39m, \u001b[33m2\u001b[39m, \u001b[33m2\u001b[39m ]\n",
      "reduce \u001b[33m39\u001b[39m\n"
     ]
    }
   ],
   "source": [
    "console.log(\"input\", arr);\n",
    "const arr1 = arr.filter(filter1);\n",
    "console.log(\"filtered arr\", arr1);\n",
    "const arr2 = arr1.flatMap(weight);\n",
    "console.log(\"mapped array\", arr2);\n",
    "console.log(\"reduce\", arr2.reduce((elem: number, acc: number) => elem + acc, 0));"
   ]
  },
  {
   "cell_type": "markdown",
   "id": "c7a2b21e",
   "metadata": {},
   "source": [
    "## Summary\n",
    "\n",
    "1. We tried to write a function that does some operations on a collection.\n",
    "2. We saw that we could use a first-class function to help with the problem of copy-paste when those operations change.\n",
    "    - You can assign functions to ordinary variables.\n",
    "    - You can pass functions in as function arguments\n",
    "    - You can return functions as values from functions.\n",
    "    - Fun fact: you can encode recursion if you have first-class functions\n",
    "3. Map/filter/reduce are examples of first-class functions that operate on arrays."
   ]
  },
  {
   "cell_type": "code",
   "execution_count": null,
   "id": "1fc66715",
   "metadata": {},
   "outputs": [],
   "source": []
  }
 ],
 "metadata": {
  "kernelspec": {
   "display_name": "TypeScript",
   "language": "typescript",
   "name": "typescript"
  },
  "language_info": {
   "codemirror_mode": {
    "mode": "typescript",
    "name": "javascript",
    "typescript": true
   },
   "file_extension": ".ts",
   "mimetype": "text/typescript",
   "name": "typescript",
   "version": "3.7.2"
  }
 },
 "nbformat": 4,
 "nbformat_minor": 5
}
