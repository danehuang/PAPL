{
 "cells": [
  {
   "cell_type": "code",
   "execution_count": 1,
   "id": "a60f4226",
   "metadata": {},
   "outputs": [
    {
     "data": {
      "text/html": [
       "\n",
       "  <link rel=\"stylesheet\" href=\"node_modules/carbon-components/css/carbon-components.css\">\n",
       "  "
      ]
     },
     "metadata": {},
     "output_type": "display_data"
    },
    {
     "data": {
      "text/html": [
       "\n",
       "<script>\n",
       "require.config({\n",
       "     paths: {\n",
       "     cytoscape: 'https://cdnjs.cloudflare.com/ajax/libs/cytoscape/3.19.0/cytoscape.min'\n",
       "}});\n",
       "</script>\n",
       "  "
      ]
     },
     "metadata": {},
     "output_type": "display_data"
    }
   ],
   "source": [
    "import { requireCytoscape, requireCarbon } from \"./lib/draw\";\n",
    "\n",
    "requireCarbon();\n",
    "requireCytoscape();"
   ]
  },
  {
   "cell_type": "markdown",
   "id": "c4d93f02",
   "metadata": {},
   "source": [
    "# Lexing and Parsing"
   ]
  },
  {
   "cell_type": "markdown",
   "id": "360c6c41",
   "metadata": {},
   "source": [
    "## Where Were We?\n",
    "\n",
    "1. Language primitives (i.e., building blocks of languages)\n",
    "2. Language paradigms (i.e., combinations of language primitives)\n",
    "    - Last time: laziness in TypeScript via thunks and generators\n",
    "    - This time: **first-class laziness** in Haskell\n",
    "3. **Building a language** (i.e., designing your own language)\n",
    "    - Last time: laziness\n",
    "    - This time: **lexing** and **parsing**"
   ]
  },
  {
   "cell_type": "markdown",
   "id": "1ab183ea",
   "metadata": {},
   "source": [
    "## LambdaTS\n",
    "\n",
    "- Very simple language that contains expressions only (100% pure).\n",
    "- This language is **Turing-complete**: can compute anything that any other language can."
   ]
  },
  {
   "cell_type": "markdown",
   "id": "c40879e5",
   "metadata": {},
   "source": [
    "### Construct 1: Math expressions with integers\n",
    "\n",
    "```ts\n",
    "5 + 6\n",
    "```\n",
    "\n",
    "```ts\n",
    "(5 + 6)*2\n",
    "```\n",
    "\n",
    "```ts\n",
    "(2 + 3) / (5 - 3)\n",
    "```"
   ]
  },
  {
   "cell_type": "markdown",
   "id": "eda28777",
   "metadata": {},
   "source": [
    "### Construct 2: Conditional expressions\n",
    "\n",
    "```ts\n",
    "5 ? 2 : 3                // true if condition is non-zero, false if zero\n",
    "```"
   ]
  },
  {
   "cell_type": "markdown",
   "id": "abc456e2",
   "metadata": {},
   "source": [
    "### Construct 3: One-parameter anonymous function\n",
    "\n",
    "```ts\n",
    "λx => x + 1              // (x) => x + 1\n",
    "```\n",
    "\n",
    "```ts\n",
    "λx => x ? 2 : 3          // (x) => x ? 2 : 3\n",
    "```\n",
    "\n",
    "- Functions are first-class and always pure.\n",
    "- Can be parameter or return value of other functions.\n",
    "- These are higher-order functions.\n",
    "- Side-node, we can encode a two-parameter anonymous function as\n",
    "```ts\n",
    "(λarg1 => λarg2 => arg1 + arg2)\n",
    "```"
   ]
  },
  {
   "cell_type": "markdown",
   "id": "2fe59e3f",
   "metadata": {},
   "source": [
    "### Construct 4: Function application\n",
    "\n",
    "```ts\n",
    "(λx => x + 1)(5)           // (results in 6)\n",
    "```"
   ]
  },
  {
   "cell_type": "markdown",
   "id": "7d7f200a",
   "metadata": {},
   "source": [
    "### That's it!\n",
    "\n",
    "1. Math expressions on integers\n",
    "2. Conditional expressions\n",
    "3. One parameter anonymous function\n",
    "4. Function application"
   ]
  },
  {
   "cell_type": "markdown",
   "id": "aac8a91c",
   "metadata": {},
   "source": [
    "### Side Note: Lambda Calculus\n",
    "\n",
    "- This language is known as *lambda calculus* with natural numbers.\n",
    "- You might also notice that TypeScript is a superset of this language."
   ]
  },
  {
   "cell_type": "markdown",
   "id": "826263b7",
   "metadata": {},
   "source": [
    "### Question: What data structure can we use to encode an entire programming language?\n",
    "    \n",
    "- For starters, we could always use the string representation.\n",
    "- But is there a more structured representation that is ammenable to algorithms?"
   ]
  },
  {
   "cell_type": "code",
   "execution_count": 2,
   "id": "890298a6",
   "metadata": {},
   "outputs": [],
   "source": [
    "import { draw, treeLayout } from \"./lib/draw\";\n",
    "import * as T from \"./lib/lambdats/token\";\n",
    "import * as E from \"./lib/lambdats/expr\";\n",
    "import * as Parser from \"./lib/lambdats/parser\";\n",
    "\n",
    "// Ignore me for now\n",
    "function drawProg(prog: string|E.Expr): void {\n",
    "    if (typeof prog === 'string') {\n",
    "        draw(E.cytoscapify(Parser.parse(prog)), 800, 350, treeLayout);\n",
    "    } else {\n",
    "        draw(E.cytoscapify(prog), 800, 350, treeLayout);\n",
    "    }\n",
    "}"
   ]
  },
  {
   "cell_type": "code",
   "execution_count": 3,
   "id": "a8fad46c",
   "metadata": {},
   "outputs": [
    {
     "data": {
      "text/html": [
       "\n",
       "<style>\n",
       "    #mydiv038e1ece-1cf3-43c6-8325-c4b3c7473f5b {\n",
       "        width: 800px;\n",
       "        height: 350px;\n",
       "        top: 0px;\n",
       "        left: 0px;\n",
       "    }\n",
       "</style>\n",
       "<div id=\"mydiv038e1ece-1cf3-43c6-8325-c4b3c7473f5b\"></div>\n"
      ]
     },
     "metadata": {},
     "output_type": "display_data"
    },
    {
     "data": {
      "text/html": [
       "\n",
       "<script>\n",
       " (function(element) {\n",
       "     require(['cytoscape'], function(cytoscape) {   \n",
       "        var cy = cytoscape({\n",
       "         container: document.getElementById('mydiv038e1ece-1cf3-43c6-8325-c4b3c7473f5b'),\n",
       "         style: [\n",
       "{\n",
       "  selector: 'node',\n",
       "  css: {\n",
       "    'class': \".bx--tree\",\n",
       "    'label': 'data(label)',\n",
       "    'height': '10px',\n",
       "    'width': '10px',\n",
       "  }\n",
       "},\n",
       "{\n",
       "  selector: 'edge',\n",
       "  css: {\n",
       "    'width': 3,\n",
       "    // 'line-color': '#ccc123',\n",
       "    'curve-style': 'bezier',\n",
       "    'target-arrow-shape': 'triangle',\n",
       "    'target-arrow-fill': 'filled',\n",
       "    'arrow-scale': 1,\n",
       "  }\n",
       "}\n",
       "],\n",
       "         layout: \n",
       "{\n",
       "  name: 'preset'\n",
       "}\n",
       ",\n",
       "         elements: [\n",
       "  { data: { id: 'binary1', label: '+' }, position: { x: 0, y: 0 } },\n",
       "  { data: { id: 'edge3', source: 'binary1', target: 'number2' } },\n",
       "  { data: { id: 'edge5', source: 'binary1', target: 'number4' } },\n",
       "  { data: { id: 'number2', label: 5 }, position: { x: -100, y: 50 } },\n",
       "  { data: { id: 'number4', label: 6 }, position: { x: 100, y: 50 } }\n",
       "]\n",
       "         });\n",
       "     });\n",
       " })(this.element);\n",
       "</script>\n"
      ]
     },
     "metadata": {},
     "output_type": "display_data"
    }
   ],
   "source": [
    "drawProg(\"5 + 6\");"
   ]
  },
  {
   "cell_type": "code",
   "execution_count": 4,
   "id": "e72f6b64",
   "metadata": {},
   "outputs": [
    {
     "data": {
      "text/html": [
       "\n",
       "<style>\n",
       "    #mydivc973dc80-a380-411a-8cc3-ef8d21029d7c {\n",
       "        width: 800px;\n",
       "        height: 350px;\n",
       "        top: 0px;\n",
       "        left: 0px;\n",
       "    }\n",
       "</style>\n",
       "<div id=\"mydivc973dc80-a380-411a-8cc3-ef8d21029d7c\"></div>\n"
      ]
     },
     "metadata": {},
     "output_type": "display_data"
    },
    {
     "data": {
      "text/html": [
       "\n",
       "<script>\n",
       " (function(element) {\n",
       "     require(['cytoscape'], function(cytoscape) {   \n",
       "        var cy = cytoscape({\n",
       "         container: document.getElementById('mydivc973dc80-a380-411a-8cc3-ef8d21029d7c'),\n",
       "         style: [\n",
       "{\n",
       "  selector: 'node',\n",
       "  css: {\n",
       "    'class': \".bx--tree\",\n",
       "    'label': 'data(label)',\n",
       "    'height': '10px',\n",
       "    'width': '10px',\n",
       "  }\n",
       "},\n",
       "{\n",
       "  selector: 'edge',\n",
       "  css: {\n",
       "    'width': 3,\n",
       "    // 'line-color': '#ccc123',\n",
       "    'curve-style': 'bezier',\n",
       "    'target-arrow-shape': 'triangle',\n",
       "    'target-arrow-fill': 'filled',\n",
       "    'arrow-scale': 1,\n",
       "  }\n",
       "}\n",
       "],\n",
       "         layout: \n",
       "{\n",
       "  name: 'preset'\n",
       "}\n",
       ",\n",
       "         elements: [\n",
       "  { data: { id: 'binary1', label: '*' }, position: { x: 0, y: 0 } },\n",
       "  { data: { id: 'edge7', source: 'binary1', target: 'binary2' } },\n",
       "  { data: { id: 'edge9', source: 'binary1', target: 'number8' } },\n",
       "  { data: { id: 'binary2', label: '+' }, position: { x: -100, y: 50 } },\n",
       "  { data: { id: 'edge4', source: 'binary2', target: 'number3' } },\n",
       "  { data: { id: 'edge6', source: 'binary2', target: 'number5' } },\n",
       "  { data: { id: 'number3', label: 5 }, position: { x: -150, y: 100 } },\n",
       "  { data: { id: 'number5', label: 6 }, position: { x: -50, y: 100 } },\n",
       "  { data: { id: 'number8', label: 2 }, position: { x: 100, y: 50 } }\n",
       "]\n",
       "         });\n",
       "     });\n",
       " })(this.element);\n",
       "</script>\n"
      ]
     },
     "metadata": {},
     "output_type": "display_data"
    }
   ],
   "source": [
    "drawProg(\"(5 + 6) * 2\");"
   ]
  },
  {
   "cell_type": "code",
   "execution_count": 5,
   "id": "c21f7d7e",
   "metadata": {},
   "outputs": [
    {
     "data": {
      "text/html": [
       "\n",
       "<style>\n",
       "    #mydivcd4b691f-905b-43b6-8eb6-284872cdf151 {\n",
       "        width: 800px;\n",
       "        height: 350px;\n",
       "        top: 0px;\n",
       "        left: 0px;\n",
       "    }\n",
       "</style>\n",
       "<div id=\"mydivcd4b691f-905b-43b6-8eb6-284872cdf151\"></div>\n"
      ]
     },
     "metadata": {},
     "output_type": "display_data"
    },
    {
     "data": {
      "text/html": [
       "\n",
       "<script>\n",
       " (function(element) {\n",
       "     require(['cytoscape'], function(cytoscape) {   \n",
       "        var cy = cytoscape({\n",
       "         container: document.getElementById('mydivcd4b691f-905b-43b6-8eb6-284872cdf151'),\n",
       "         style: [\n",
       "{\n",
       "  selector: 'node',\n",
       "  css: {\n",
       "    'class': \".bx--tree\",\n",
       "    'label': 'data(label)',\n",
       "    'height': '10px',\n",
       "    'width': '10px',\n",
       "  }\n",
       "},\n",
       "{\n",
       "  selector: 'edge',\n",
       "  css: {\n",
       "    'width': 3,\n",
       "    // 'line-color': '#ccc123',\n",
       "    'curve-style': 'bezier',\n",
       "    'target-arrow-shape': 'triangle',\n",
       "    'target-arrow-fill': 'filled',\n",
       "    'arrow-scale': 1,\n",
       "  }\n",
       "}\n",
       "],\n",
       "         layout: \n",
       "{\n",
       "  name: 'preset'\n",
       "}\n",
       ",\n",
       "         elements: [\n",
       "  { data: { id: 'binary1', label: '/' }, position: { x: 0, y: 0 } },\n",
       "  { data: { id: 'edge7', source: 'binary1', target: 'binary2' } },\n",
       "  { data: { id: 'edge13', source: 'binary1', target: 'binary8' } },\n",
       "  { data: { id: 'binary2', label: '+' }, position: { x: -100, y: 50 } },\n",
       "  { data: { id: 'edge4', source: 'binary2', target: 'number3' } },\n",
       "  { data: { id: 'edge6', source: 'binary2', target: 'number5' } },\n",
       "  { data: { id: 'number3', label: 2 }, position: { x: -150, y: 100 } },\n",
       "  { data: { id: 'number5', label: 3 }, position: { x: -50, y: 100 } },\n",
       "  { data: { id: 'binary8', label: '-' }, position: { x: 100, y: 50 } },\n",
       "  { data: { id: 'edge10', source: 'binary8', target: 'number9' } },\n",
       "  { data: { id: 'edge12', source: 'binary8', target: 'number11' } },\n",
       "  { data: { id: 'number9', label: 5 }, position: { x: 50, y: 100 } },\n",
       "  { data: { id: 'number11', label: 3 }, position: { x: 150, y: 100 } }\n",
       "]\n",
       "         });\n",
       "     });\n",
       " })(this.element);\n",
       "</script>\n"
      ]
     },
     "metadata": {},
     "output_type": "display_data"
    }
   ],
   "source": [
    "drawProg(\"(2 + 3) / (5 - 3)\");"
   ]
  },
  {
   "cell_type": "code",
   "execution_count": 6,
   "id": "702af6f8",
   "metadata": {},
   "outputs": [
    {
     "data": {
      "text/html": [
       "\n",
       "<style>\n",
       "    #mydiv1dd976d7-7011-46ce-a819-bbf7f7fa17e3 {\n",
       "        width: 800px;\n",
       "        height: 350px;\n",
       "        top: 0px;\n",
       "        left: 0px;\n",
       "    }\n",
       "</style>\n",
       "<div id=\"mydiv1dd976d7-7011-46ce-a819-bbf7f7fa17e3\"></div>\n"
      ]
     },
     "metadata": {},
     "output_type": "display_data"
    },
    {
     "data": {
      "text/html": [
       "\n",
       "<script>\n",
       " (function(element) {\n",
       "     require(['cytoscape'], function(cytoscape) {   \n",
       "        var cy = cytoscape({\n",
       "         container: document.getElementById('mydiv1dd976d7-7011-46ce-a819-bbf7f7fa17e3'),\n",
       "         style: [\n",
       "{\n",
       "  selector: 'node',\n",
       "  css: {\n",
       "    'class': \".bx--tree\",\n",
       "    'label': 'data(label)',\n",
       "    'height': '10px',\n",
       "    'width': '10px',\n",
       "  }\n",
       "},\n",
       "{\n",
       "  selector: 'edge',\n",
       "  css: {\n",
       "    'width': 3,\n",
       "    // 'line-color': '#ccc123',\n",
       "    'curve-style': 'bezier',\n",
       "    'target-arrow-shape': 'triangle',\n",
       "    'target-arrow-fill': 'filled',\n",
       "    'arrow-scale': 1,\n",
       "  }\n",
       "}\n",
       "],\n",
       "         layout: \n",
       "{\n",
       "  name: 'preset'\n",
       "}\n",
       ",\n",
       "         elements: [\n",
       "  {\n",
       "    data: { id: 'conditional1', label: 'if' },\n",
       "    position: { x: 0, y: 0 }\n",
       "  },\n",
       "  { data: { id: 'edge3', source: 'conditional1', target: 'number2' } },\n",
       "  { data: { id: 'edge5', source: 'conditional1', target: 'number4' } },\n",
       "  { data: { id: 'edge7', source: 'conditional1', target: 'number6' } },\n",
       "  { data: { id: 'number2', label: 5 }, position: { x: -150, y: 50 } },\n",
       "  { data: { id: 'number4', label: 2 }, position: { x: 0, y: 50 } },\n",
       "  { data: { id: 'number6', label: 3 }, position: { x: 150, y: 50 } }\n",
       "]\n",
       "         });\n",
       "     });\n",
       " })(this.element);\n",
       "</script>\n"
      ]
     },
     "metadata": {},
     "output_type": "display_data"
    }
   ],
   "source": [
    "drawProg(\"5 ? 2 : 3\");"
   ]
  },
  {
   "cell_type": "code",
   "execution_count": 7,
   "id": "7eda5230",
   "metadata": {},
   "outputs": [
    {
     "data": {
      "text/html": [
       "\n",
       "<style>\n",
       "    #mydiva16c46ce-ec67-4513-9be8-edf932e952dc {\n",
       "        width: 800px;\n",
       "        height: 350px;\n",
       "        top: 0px;\n",
       "        left: 0px;\n",
       "    }\n",
       "</style>\n",
       "<div id=\"mydiva16c46ce-ec67-4513-9be8-edf932e952dc\"></div>\n"
      ]
     },
     "metadata": {},
     "output_type": "display_data"
    },
    {
     "data": {
      "text/html": [
       "\n",
       "<script>\n",
       " (function(element) {\n",
       "     require(['cytoscape'], function(cytoscape) {   \n",
       "        var cy = cytoscape({\n",
       "         container: document.getElementById('mydiva16c46ce-ec67-4513-9be8-edf932e952dc'),\n",
       "         style: [\n",
       "{\n",
       "  selector: 'node',\n",
       "  css: {\n",
       "    'class': \".bx--tree\",\n",
       "    'label': 'data(label)',\n",
       "    'height': '10px',\n",
       "    'width': '10px',\n",
       "  }\n",
       "},\n",
       "{\n",
       "  selector: 'edge',\n",
       "  css: {\n",
       "    'width': 3,\n",
       "    // 'line-color': '#ccc123',\n",
       "    'curve-style': 'bezier',\n",
       "    'target-arrow-shape': 'triangle',\n",
       "    'target-arrow-fill': 'filled',\n",
       "    'arrow-scale': 1,\n",
       "  }\n",
       "}\n",
       "],\n",
       "         layout: \n",
       "{\n",
       "  name: 'preset'\n",
       "}\n",
       ",\n",
       "         elements: [\n",
       "  {\n",
       "    data: { id: 'conditional1', label: 'if' },\n",
       "    position: { x: 0, y: 0 }\n",
       "  },\n",
       "  { data: { id: 'edge7', source: 'conditional1', target: 'binary2' } },\n",
       "  { data: { id: 'edge9', source: 'conditional1', target: 'number8' } },\n",
       "  {\n",
       "    data: { id: 'edge11', source: 'conditional1', target: 'number10' }\n",
       "  },\n",
       "  { data: { id: 'binary2', label: '-' }, position: { x: -150, y: 50 } },\n",
       "  { data: { id: 'edge4', source: 'binary2', target: 'number3' } },\n",
       "  { data: { id: 'edge6', source: 'binary2', target: 'number5' } },\n",
       "  { data: { id: 'number3', label: 5 }, position: { x: -200, y: 100 } },\n",
       "  { data: { id: 'number5', label: 3 }, position: { x: -100, y: 100 } },\n",
       "  { data: { id: 'number8', label: 2 }, position: { x: 0, y: 50 } },\n",
       "  { data: { id: 'number10', label: 3 }, position: { x: 150, y: 50 } }\n",
       "]\n",
       "         });\n",
       "     });\n",
       " })(this.element);\n",
       "</script>\n"
      ]
     },
     "metadata": {},
     "output_type": "display_data"
    }
   ],
   "source": [
    "drawProg(\"(5 - 3) ? 2 : 3\");"
   ]
  },
  {
   "cell_type": "code",
   "execution_count": 8,
   "id": "bf837f42",
   "metadata": {},
   "outputs": [
    {
     "data": {
      "text/html": [
       "\n",
       "<style>\n",
       "    #mydiv3a5d02e3-2b49-46e5-b193-b02fe26af0a8 {\n",
       "        width: 800px;\n",
       "        height: 350px;\n",
       "        top: 0px;\n",
       "        left: 0px;\n",
       "    }\n",
       "</style>\n",
       "<div id=\"mydiv3a5d02e3-2b49-46e5-b193-b02fe26af0a8\"></div>\n"
      ]
     },
     "metadata": {},
     "output_type": "display_data"
    },
    {
     "data": {
      "text/html": [
       "\n",
       "<script>\n",
       " (function(element) {\n",
       "     require(['cytoscape'], function(cytoscape) {   \n",
       "        var cy = cytoscape({\n",
       "         container: document.getElementById('mydiv3a5d02e3-2b49-46e5-b193-b02fe26af0a8'),\n",
       "         style: [\n",
       "{\n",
       "  selector: 'node',\n",
       "  css: {\n",
       "    'class': \".bx--tree\",\n",
       "    'label': 'data(label)',\n",
       "    'height': '10px',\n",
       "    'width': '10px',\n",
       "  }\n",
       "},\n",
       "{\n",
       "  selector: 'edge',\n",
       "  css: {\n",
       "    'width': 3,\n",
       "    // 'line-color': '#ccc123',\n",
       "    'curve-style': 'bezier',\n",
       "    'target-arrow-shape': 'triangle',\n",
       "    'target-arrow-fill': 'filled',\n",
       "    'arrow-scale': 1,\n",
       "  }\n",
       "}\n",
       "],\n",
       "         layout: \n",
       "{\n",
       "  name: 'preset'\n",
       "}\n",
       ",\n",
       "         elements: [\n",
       "  {\n",
       "    data: { id: 'function1', label: 'λ(x)' },\n",
       "    position: { x: 0, y: 0 }\n",
       "  },\n",
       "  { data: { id: 'edge7', source: 'function1', target: 'binary2' } },\n",
       "  { data: { id: 'binary2', label: '+' }, position: { x: 0, y: 50 } },\n",
       "  { data: { id: 'edge4', source: 'binary2', target: 'identifier3' } },\n",
       "  { data: { id: 'edge6', source: 'binary2', target: 'number5' } },\n",
       "  {\n",
       "    data: { id: 'identifier3', label: 'x' },\n",
       "    position: { x: -50, y: 100 }\n",
       "  },\n",
       "  { data: { id: 'number5', label: 1 }, position: { x: 50, y: 100 } }\n",
       "]\n",
       "         });\n",
       "     });\n",
       " })(this.element);\n",
       "</script>\n"
      ]
     },
     "metadata": {},
     "output_type": "display_data"
    }
   ],
   "source": [
    "drawProg(\"λx => x + 1\");"
   ]
  },
  {
   "cell_type": "code",
   "execution_count": 9,
   "id": "2a19b9c5",
   "metadata": {},
   "outputs": [
    {
     "data": {
      "text/html": [
       "\n",
       "<style>\n",
       "    #mydiv204ebe10-5c71-456f-87f0-1b85d3802753 {\n",
       "        width: 800px;\n",
       "        height: 350px;\n",
       "        top: 0px;\n",
       "        left: 0px;\n",
       "    }\n",
       "</style>\n",
       "<div id=\"mydiv204ebe10-5c71-456f-87f0-1b85d3802753\"></div>\n"
      ]
     },
     "metadata": {},
     "output_type": "display_data"
    },
    {
     "data": {
      "text/html": [
       "\n",
       "<script>\n",
       " (function(element) {\n",
       "     require(['cytoscape'], function(cytoscape) {   \n",
       "        var cy = cytoscape({\n",
       "         container: document.getElementById('mydiv204ebe10-5c71-456f-87f0-1b85d3802753'),\n",
       "         style: [\n",
       "{\n",
       "  selector: 'node',\n",
       "  css: {\n",
       "    'class': \".bx--tree\",\n",
       "    'label': 'data(label)',\n",
       "    'height': '10px',\n",
       "    'width': '10px',\n",
       "  }\n",
       "},\n",
       "{\n",
       "  selector: 'edge',\n",
       "  css: {\n",
       "    'width': 3,\n",
       "    // 'line-color': '#ccc123',\n",
       "    'curve-style': 'bezier',\n",
       "    'target-arrow-shape': 'triangle',\n",
       "    'target-arrow-fill': 'filled',\n",
       "    'arrow-scale': 1,\n",
       "  }\n",
       "}\n",
       "],\n",
       "         layout: \n",
       "{\n",
       "  name: 'preset'\n",
       "}\n",
       ",\n",
       "         elements: [\n",
       "  {\n",
       "    data: { id: 'function1', label: 'λ(x)' },\n",
       "    position: { x: 0, y: 0 }\n",
       "  },\n",
       "  {\n",
       "    data: { id: 'edge9', source: 'function1', target: 'conditional2' }\n",
       "  },\n",
       "  {\n",
       "    data: { id: 'conditional2', label: 'if' },\n",
       "    position: { x: 0, y: 50 }\n",
       "  },\n",
       "  {\n",
       "    data: { id: 'edge4', source: 'conditional2', target: 'identifier3' }\n",
       "  },\n",
       "  { data: { id: 'edge6', source: 'conditional2', target: 'number5' } },\n",
       "  { data: { id: 'edge8', source: 'conditional2', target: 'number7' } },\n",
       "  {\n",
       "    data: { id: 'identifier3', label: 'x' },\n",
       "    position: { x: -75, y: 100 }\n",
       "  },\n",
       "  { data: { id: 'number5', label: 2 }, position: { x: 0, y: 100 } },\n",
       "  { data: { id: 'number7', label: 3 }, position: { x: 75, y: 100 } }\n",
       "]\n",
       "         });\n",
       "     });\n",
       " })(this.element);\n",
       "</script>\n"
      ]
     },
     "metadata": {},
     "output_type": "display_data"
    }
   ],
   "source": [
    "drawProg(\"λx => x ? 2 : 3\");"
   ]
  },
  {
   "cell_type": "code",
   "execution_count": 10,
   "id": "6cfda8ab",
   "metadata": {},
   "outputs": [
    {
     "data": {
      "text/html": [
       "\n",
       "<style>\n",
       "    #mydive65281fa-9b9a-4618-ac89-39fafb8d1f10 {\n",
       "        width: 800px;\n",
       "        height: 350px;\n",
       "        top: 0px;\n",
       "        left: 0px;\n",
       "    }\n",
       "</style>\n",
       "<div id=\"mydive65281fa-9b9a-4618-ac89-39fafb8d1f10\"></div>\n"
      ]
     },
     "metadata": {},
     "output_type": "display_data"
    },
    {
     "data": {
      "text/html": [
       "\n",
       "<script>\n",
       " (function(element) {\n",
       "     require(['cytoscape'], function(cytoscape) {   \n",
       "        var cy = cytoscape({\n",
       "         container: document.getElementById('mydive65281fa-9b9a-4618-ac89-39fafb8d1f10'),\n",
       "         style: [\n",
       "{\n",
       "  selector: 'node',\n",
       "  css: {\n",
       "    'class': \".bx--tree\",\n",
       "    'label': 'data(label)',\n",
       "    'height': '10px',\n",
       "    'width': '10px',\n",
       "  }\n",
       "},\n",
       "{\n",
       "  selector: 'edge',\n",
       "  css: {\n",
       "    'width': 3,\n",
       "    // 'line-color': '#ccc123',\n",
       "    'curve-style': 'bezier',\n",
       "    'target-arrow-shape': 'triangle',\n",
       "    'target-arrow-fill': 'filled',\n",
       "    'arrow-scale': 1,\n",
       "  }\n",
       "}\n",
       "],\n",
       "         layout: \n",
       "{\n",
       "  name: 'preset'\n",
       "}\n",
       ",\n",
       "         elements: [\n",
       "  { data: { id: 'call1', label: 'call' }, position: { x: 0, y: 0 } },\n",
       "  { data: { id: 'edge9', source: 'call1', target: 'function2' } },\n",
       "  { data: { id: 'edge11', source: 'call1', target: 'number10' } },\n",
       "  {\n",
       "    data: { id: 'function2', label: 'λ(x)' },\n",
       "    position: { x: -100, y: 50 }\n",
       "  },\n",
       "  { data: { id: 'edge8', source: 'function2', target: 'binary3' } },\n",
       "  {\n",
       "    data: { id: 'binary3', label: '+' },\n",
       "    position: { x: -100, y: 100 }\n",
       "  },\n",
       "  { data: { id: 'edge5', source: 'binary3', target: 'identifier4' } },\n",
       "  { data: { id: 'edge7', source: 'binary3', target: 'number6' } },\n",
       "  {\n",
       "    data: { id: 'identifier4', label: 'x' },\n",
       "    position: { x: -133.33333333333334, y: 150 }\n",
       "  },\n",
       "  {\n",
       "    data: { id: 'number6', label: 1 },\n",
       "    position: { x: -66.66666666666666, y: 150 }\n",
       "  },\n",
       "  { data: { id: 'number10', label: 5 }, position: { x: 100, y: 50 } }\n",
       "]\n",
       "         });\n",
       "     });\n",
       " })(this.element);\n",
       "</script>\n"
      ]
     },
     "metadata": {},
     "output_type": "display_data"
    }
   ],
   "source": [
    "drawProg(\"(λx => x + 1)(5)\");"
   ]
  },
  {
   "cell_type": "markdown",
   "id": "146b054e",
   "metadata": {},
   "source": [
    "### Answer: We can use a tree encoded as an algebraic data type!\n",
    "\n",
    "- This tree is called an *abstract syntax tree* or *AST*.\n",
    "- Together *lexing* and *parsing* are the steps to take to convert a string into an AST.\n",
    "- *lexing* takes a string into a stream of tokens.\n",
    "- *parsing* takes a stream of tokens into an AST."
   ]
  },
  {
   "cell_type": "markdown",
   "id": "12c16f0f",
   "metadata": {},
   "source": [
    "## Outline of interpreter / compiler\n",
    "\n",
    "* Given **string of source code**.\n",
    "* Convert that to **stream of tokens**. This is called **lexing**.\n",
    "* Convert that to **abstract syntax tree (AST)**. This is called **parsing**.\n",
    "* Then you can:\n",
    "    * **Interpret** the AST to get the answer (easy to implement, runs slowly, this was `node`).\n",
    "    * **Transpile** the AST to another language (medium to implement, runs more quickly, this `tsc`).\n",
    "    * **Compile** the AST to machine code executable (hard to implement, runs fastest)."
   ]
  },
  {
   "cell_type": "markdown",
   "id": "8e213be2",
   "metadata": {},
   "source": [
    "## A Look Ahead\n",
    "\n",
    "1. Lexing and parsing (today).\n",
    "2. Interpreting.\n",
    "3. Transpiling.\n",
    "4. Introspection (look at AST of TypeScript)."
   ]
  },
  {
   "cell_type": "markdown",
   "id": "27bbf464",
   "metadata": {},
   "source": [
    "## Lexing\n",
    "\n",
    "- Short for **lexical analysis**.\n",
    "- \"Lexical\" means \"related to words\".\n",
    "- Converts string of characters to stream of words, which are called **tokens**.\n",
    "- Typically skips whitespace and comments.\n",
    "- Important to separate lexing and parsing because the parser shouldn't concern itself with the details of the string."
   ]
  },
  {
   "cell_type": "markdown",
   "id": "1ec01ba6",
   "metadata": {},
   "source": [
    "### Tokens\n",
    "\n",
    "- identifier: string of letters (upper case or lower case).\n",
    "- number: string of digits (integer).\n",
    "- binary operators: `+ - * /`\n",
    "- other symbols: `( ) ? : λ =>`"
   ]
  },
  {
   "cell_type": "code",
   "execution_count": 11,
   "id": "bdce877d",
   "metadata": {},
   "outputs": [],
   "source": [
    "type BinaryOperator = \"+\" | \"-\" | \"*\" | \"/\";\n",
    "type Symbol = \"(\" | \")\" | \"=>\" | \"?\" | \":\" | \"λ\";\n",
    "type Identifier = {\n",
    "    tag: \"IDENTIFIER\";\n",
    "    name: string;  // typescript variable names\n",
    "};\n",
    "type NumericConstant = {\n",
    "    tag: \"NUMBER\";\n",
    "    value: number; // 42, 200\n",
    "}\n",
    "type Error = {\n",
    "    tag: \"ERROR\";\n",
    "    ch: string;\n",
    "}\n",
    "type Token = Identifier | BinaryOperator | Symbol | NumericConstant | Error;"
   ]
  },
  {
   "cell_type": "markdown",
   "id": "6c8580d2",
   "metadata": {},
   "source": [
    "### Optional: Lexing Code"
   ]
  },
  {
   "cell_type": "code",
   "execution_count": 12,
   "id": "840e1143",
   "metadata": {},
   "outputs": [],
   "source": [
    "const CODE_POINT_ZERO = \"0\".codePointAt(0) as number;\n",
    "const CODE_POINT_NINE = \"9\".codePointAt(0) as number;\n",
    "\n",
    "/**\n",
    " * If \"ch\" is a digit, return its value. Otherwise return undefined.\n",
    " */\n",
    "function getDigit(ch: string): number | undefined {\n",
    "    const code = ch.codePointAt(0);\n",
    "    if (code === undefined || code < CODE_POINT_ZERO || code > CODE_POINT_NINE) {\n",
    "        return undefined;\n",
    "    } else {\n",
    "        return code - CODE_POINT_ZERO;\n",
    "    }\n",
    "}\n",
    "\n",
    "/**\n",
    " * Return whether \"ch\" is a letter (A-Z in either case).\n",
    " */\n",
    "function isLetter(ch: string): boolean {\n",
    "    return ch.match(/^[A-Za-z]/) !== null;\n",
    "}"
   ]
  },
  {
   "cell_type": "code",
   "execution_count": 13,
   "id": "e0ef7c0f",
   "metadata": {},
   "outputs": [],
   "source": [
    "/**\n",
    " * Generate tokens from the input file.\n",
    " * Question: What are we using here?\n",
    " */\n",
    "function* getTokens(input: string): Generator<Token> {\n",
    "    let i = 0;\n",
    "\n",
    "    while (i < input.length) {\n",
    "        const ch = input[i];\n",
    "        if (ch === \" \") {\n",
    "            // Skip whitespace.\n",
    "            i += 1;\n",
    "        } else if (ch === \"+\" || ch === \"-\" || ch === \"*\" || ch === \"/\" ||\n",
    "            ch === \"(\" || ch === \")\" || ch === \"?\" || ch === \":\" || ch === \"λ\") {\n",
    "\n",
    "            yield ch;\n",
    "            i += 1;\n",
    "        } else if (ch === \"=\" && i + 1 < input.length && input[i + 1] === \">\") {  // arrow token\n",
    "            yield \"=>\";\n",
    "            i += 2;\n",
    "        } else if (getDigit(ch) !== undefined) {\n",
    "            let value = 0;\n",
    "            while (i < input.length) {\n",
    "                const digitValue = getDigit(input[i]);\n",
    "                if (digitValue === undefined) {\n",
    "                    break;\n",
    "                } else {\n",
    "                    value = value*10 + digitValue;\n",
    "                    i += 1;\n",
    "                }\n",
    "            }\n",
    "\n",
    "            yield {\n",
    "                tag: \"NUMBER\",\n",
    "                value: value,\n",
    "            };\n",
    "        } else if (isLetter(ch)) {\n",
    "            let name = \"\";\n",
    "            while (i < input.length && isLetter(input[i])) {\n",
    "                name += input[i];\n",
    "                i += 1;\n",
    "            }\n",
    "            yield {\n",
    "                tag: \"IDENTIFIER\",\n",
    "                name: name,\n",
    "            };\n",
    "        } else {\n",
    "            yield {\n",
    "                tag: \"ERROR\",\n",
    "                ch: ch,\n",
    "            }\n",
    "            // End lexing.\n",
    "            break;\n",
    "        }\n",
    "    }\n",
    "}"
   ]
  },
  {
   "cell_type": "markdown",
   "id": "58e730df",
   "metadata": {},
   "source": [
    "### Examples"
   ]
  },
  {
   "cell_type": "code",
   "execution_count": 14,
   "id": "86adca4d",
   "metadata": {},
   "outputs": [
    {
     "name": "stdout",
     "output_type": "stream",
     "text": [
      "[ \u001b[32m'+'\u001b[39m, \u001b[32m'-'\u001b[39m, \u001b[32m'*'\u001b[39m, { tag: \u001b[32m'IDENTIFIER'\u001b[39m, name: \u001b[32m'asdfasdfasdf'\u001b[39m }, \u001b[32m'/'\u001b[39m ]\n"
     ]
    }
   ],
   "source": [
    "Array.from(getTokens(\"+ -   *    asdfasdfasdf  /\"));"
   ]
  },
  {
   "cell_type": "markdown",
   "id": "93d1a2be",
   "metadata": {},
   "source": [
    "Notice that spaces were skipped. Tokens with associated values:"
   ]
  },
  {
   "cell_type": "code",
   "execution_count": 15,
   "id": "6988dd45",
   "metadata": {},
   "outputs": [
    {
     "name": "stdout",
     "output_type": "stream",
     "text": [
      "[ { tag: \u001b[32m'IDENTIFIER'\u001b[39m, name: \u001b[32m'x'\u001b[39m }, \u001b[32m'+'\u001b[39m, { tag: \u001b[32m'NUMBER'\u001b[39m, value: \u001b[33m5\u001b[39m } ]\n"
     ]
    }
   ],
   "source": [
    "Array.from(getTokens(\"x + 5\"));"
   ]
  },
  {
   "cell_type": "code",
   "execution_count": 16,
   "id": "e06cfe3b",
   "metadata": {},
   "outputs": [
    {
     "name": "stdout",
     "output_type": "stream",
     "text": [
      "[\n",
      "  \u001b[32m'('\u001b[39m,\n",
      "  \u001b[32m'λ'\u001b[39m,\n",
      "  { tag: \u001b[32m'IDENTIFIER'\u001b[39m, name: \u001b[32m'x'\u001b[39m },\n",
      "  \u001b[32m'=>'\u001b[39m,\n",
      "  { tag: \u001b[32m'IDENTIFIER'\u001b[39m, name: \u001b[32m'x'\u001b[39m },\n",
      "  \u001b[32m'+'\u001b[39m,\n",
      "  { tag: \u001b[32m'NUMBER'\u001b[39m, value: \u001b[33m1\u001b[39m },\n",
      "  \u001b[32m')'\u001b[39m,\n",
      "  \u001b[32m'('\u001b[39m,\n",
      "  { tag: \u001b[32m'NUMBER'\u001b[39m, value: \u001b[33m5\u001b[39m },\n",
      "  \u001b[32m')'\u001b[39m\n",
      "]\n"
     ]
    }
   ],
   "source": [
    "Array.from(getTokens(\"(λx => x + 1)(5)\"));"
   ]
  },
  {
   "cell_type": "markdown",
   "id": "aa1199b7",
   "metadata": {},
   "source": [
    "- Note that `=>` is a single token, not two.\n",
    "- Parser doesn't want to see the individual characters.\n",
    "- We can also change `=>` to `->` or `.` or a Unicode `→` symbol, or anything on [this page](https://unicode-table.com/en/sets/arrow-symbols/#right-arrows) without changing the parser.\n",
    "- In fact the lexer could accept _all_ of those and just generate the `=>` token for the parser."
   ]
  },
  {
   "cell_type": "markdown",
   "id": "bac7ac43",
   "metadata": {},
   "source": [
    "### Optional: Helper Class\n",
    "\n",
    "Helper class to make it possible to peek ahead at the token stream:"
   ]
  },
  {
   "cell_type": "code",
   "execution_count": 17,
   "id": "563ca3c1",
   "metadata": {},
   "outputs": [],
   "source": [
    "/**\n",
    " * Converts a generated stream of tokens into one that can be peeked ahead.\n",
    " */\n",
    "class TokenStream {\n",
    "    public readonly stream: Generator<Token>;\n",
    "    public token: Token | undefined;\n",
    "\n",
    "    constructor(stream: Generator<Token>) {\n",
    "        this.stream = stream;\n",
    "        this.token = this.getNext();\n",
    "    }\n",
    "\n",
    "    /**\n",
    "     * Fetch the next token. Does not update the \"token\" field.\n",
    "     */\n",
    "    private getNext(): Token | undefined {\n",
    "        const next = this.stream.next();\n",
    "        return next.done ? undefined : next.value;\n",
    "    }\n",
    "\n",
    "    /**\n",
    "     * Peeks at the next token. Does not advance the stream.\n",
    "     */\n",
    "    public peek(): Token | undefined {\n",
    "        return this.token;\n",
    "    }\n",
    "\n",
    "    /**\n",
    "     * Gets the next token and advances the stream.\n",
    "     */\n",
    "    public next(): Token | undefined {\n",
    "        const oldToken = this.token;\n",
    "        this.token = this.getNext();\n",
    "        return oldToken;\n",
    "    }\n",
    "}"
   ]
  },
  {
   "cell_type": "code",
   "execution_count": 18,
   "id": "eb100c0a",
   "metadata": {},
   "outputs": [
    {
     "name": "stdout",
     "output_type": "stream",
     "text": [
      "[ { tag: \u001b[32m'NUMBER'\u001b[39m, value: \u001b[33m2\u001b[39m }, \u001b[32m'+'\u001b[39m, { tag: \u001b[32m'NUMBER'\u001b[39m, value: \u001b[33m3\u001b[39m } ]\n",
      "{ tag: \u001b[32m'NUMBER'\u001b[39m, value: \u001b[33m2\u001b[39m }\n",
      "{ tag: \u001b[32m'NUMBER'\u001b[39m, value: \u001b[33m2\u001b[39m }\n",
      "{ tag: \u001b[32m'NUMBER'\u001b[39m, value: \u001b[33m2\u001b[39m }\n",
      "{ tag: \u001b[32m'NUMBER'\u001b[39m, value: \u001b[33m2\u001b[39m }\n",
      "+\n",
      "+\n",
      "{ tag: \u001b[32m'NUMBER'\u001b[39m, value: \u001b[33m3\u001b[39m }\n",
      "{ tag: \u001b[32m'NUMBER'\u001b[39m, value: \u001b[33m3\u001b[39m }\n",
      "\u001b[90mundefined\u001b[39m\n",
      "\u001b[90mundefined\u001b[39m\n"
     ]
    }
   ],
   "source": [
    "const lexer = new TokenStream(getTokens(\"2 + 3\"));\n",
    "console.log(Array.from(getTokens(\"2 + 3\")));\n",
    "\n",
    "console.log(lexer.peek());\n",
    "console.log(lexer.peek());\n",
    "console.log(lexer.peek());\n",
    "console.log(lexer.next());\n",
    "\n",
    "console.log(lexer.peek());\n",
    "console.log(lexer.next());\n",
    "\n",
    "console.log(lexer.peek());\n",
    "console.log(lexer.next());\n",
    "\n",
    "console.log(lexer.peek());\n",
    "console.log(lexer.next());\n"
   ]
  },
  {
   "cell_type": "markdown",
   "id": "8e7cc086",
   "metadata": {},
   "source": [
    "## Parsing\n",
    "\n",
    "* Takes a stream of tokens and generates an **abstract syntax tree (AST)**.\n",
    "* Many ways to do this:\n",
    "    * Top-down parser\n",
    "        * **Recursive descent**   -- what we'll do today\n",
    "        * LL(1)\n",
    "    * Bottom-up parser\n",
    "        * LR\n",
    "            * LR(0)\n",
    "            * SLR(1)\n",
    "            * LALR(1)  -- YACC\n",
    "            * CLR(1)\n",
    "        * Operator precedence\n",
    "        "
   ]
  },
  {
   "cell_type": "markdown",
   "id": "238ebc25",
   "metadata": {},
   "source": [
    "### Abstract Syntax Tree\n",
    "\n",
    "- We'll now give the abstract syntax tree (AST) for LambdaTS.\n",
    "- drawProg is drawing the data structure below."
   ]
  },
  {
   "cell_type": "code",
   "execution_count": 19,
   "id": "c827dd7b",
   "metadata": {},
   "outputs": [],
   "source": [
    "type BinaryExpr = { // Binary expression on numbers\n",
    "    tag: \"BINARY\";\n",
    "    operator: BinaryOperator;\n",
    "    left: Expr;\n",
    "    right: Expr;\n",
    "};\n",
    "\n",
    "type ConditionalExpr = { // Ternary conditional expression.\n",
    "    tag: \"CONDITIONAL\";\n",
    "    condExpr: Expr;\n",
    "    thenExpr: Expr;\n",
    "    elseExpr: Expr;\n",
    "};\n",
    "\n",
    "type FunctionExpr = { // A function expression. (Not a call, just the function.)\n",
    "    tag: \"FUNCTION\";\n",
    "    parameter: string;\n",
    "    body: Expr;\n",
    "};\n",
    "\n",
    "type CallExpr = { // A function call expression\n",
    "    tag: \"CALL\";\n",
    "    func: Expr;\n",
    "    argument: Expr;\n",
    "};\n",
    "\n",
    "// Any expression\n",
    "type Expr = BinaryExpr | ConditionalExpr | FunctionExpr | CallExpr | Identifier | NumericConstant;"
   ]
  },
  {
   "cell_type": "markdown",
   "id": "09346e94",
   "metadata": {},
   "source": [
    "### Parsing atoms\n",
    "\n",
    "Let's start by just parsing only atoms:"
   ]
  },
  {
   "cell_type": "code",
   "execution_count": 20,
   "id": "fd86ad94",
   "metadata": {},
   "outputs": [],
   "source": [
    "function parse(input: string): Expr {\n",
    "    return parseAtom(new TokenStream(getTokens(input)));\n",
    "}\n",
    "\n",
    "// Note: mutually-recursive function with parseAtom\n",
    "function parseExpr(lexer: TokenStream): Expr {\n",
    "    return parseAtom(lexer);\n",
    "}\n",
    "\n",
    "/**\n",
    " * Parse an atom:\n",
    " *\n",
    " *     n\n",
    " *     x\n",
    " *     (e)\n",
    " */\n",
    "function parseAtom(lexer: TokenStream): Expr {\n",
    "    const token = lexer.peek();\n",
    "    if (typeof token === \"object\") {\n",
    "        if (token.tag === \"NUMBER\") {  // n\n",
    "            lexer.next();\n",
    "            return token;\n",
    "        }\n",
    "        if (token.tag === \"IDENTIFIER\") {  // x\n",
    "            lexer.next();\n",
    "            return token;\n",
    "        }\n",
    "    }\n",
    "\n",
    "    if (token === \"(\") { // (e)\n",
    "        lexer.next();\n",
    "        const expr = parseExpr(lexer);\n",
    "        if (lexer.next() !== \")\") {\n",
    "            throw new Error(\"Missing close parenthesis\");\n",
    "        }\n",
    "\n",
    "        return expr;\n",
    "    }\n",
    "\n",
    "    throw new Error(\"Can't parse token: \" + JSON.stringify(token));\n",
    "}"
   ]
  },
  {
   "cell_type": "code",
   "execution_count": 21,
   "id": "a286d417",
   "metadata": {},
   "outputs": [
    {
     "name": "stdout",
     "output_type": "stream",
     "text": [
      "{ tag: \u001b[32m'NUMBER'\u001b[39m, value: \u001b[33m523\u001b[39m }\n"
     ]
    }
   ],
   "source": [
    "parse(\"523\");"
   ]
  },
  {
   "cell_type": "code",
   "execution_count": 22,
   "id": "f43dbf02",
   "metadata": {},
   "outputs": [
    {
     "data": {
      "text/html": [
       "\n",
       "<style>\n",
       "    #mydiv03952094-6df1-4788-8c2b-fb79d33c22a7 {\n",
       "        width: 800px;\n",
       "        height: 350px;\n",
       "        top: 0px;\n",
       "        left: 0px;\n",
       "    }\n",
       "</style>\n",
       "<div id=\"mydiv03952094-6df1-4788-8c2b-fb79d33c22a7\"></div>\n"
      ]
     },
     "metadata": {},
     "output_type": "display_data"
    },
    {
     "data": {
      "text/html": [
       "\n",
       "<script>\n",
       " (function(element) {\n",
       "     require(['cytoscape'], function(cytoscape) {   \n",
       "        var cy = cytoscape({\n",
       "         container: document.getElementById('mydiv03952094-6df1-4788-8c2b-fb79d33c22a7'),\n",
       "         style: [\n",
       "{\n",
       "  selector: 'node',\n",
       "  css: {\n",
       "    'class': \".bx--tree\",\n",
       "    'label': 'data(label)',\n",
       "    'height': '10px',\n",
       "    'width': '10px',\n",
       "  }\n",
       "},\n",
       "{\n",
       "  selector: 'edge',\n",
       "  css: {\n",
       "    'width': 3,\n",
       "    // 'line-color': '#ccc123',\n",
       "    'curve-style': 'bezier',\n",
       "    'target-arrow-shape': 'triangle',\n",
       "    'target-arrow-fill': 'filled',\n",
       "    'arrow-scale': 1,\n",
       "  }\n",
       "}\n",
       "],\n",
       "         layout: \n",
       "{\n",
       "  name: 'preset'\n",
       "}\n",
       ",\n",
       "         elements: [ { data: { id: 'number1', label: 523 }, position: { x: 0, y: 0 } } ]\n",
       "         });\n",
       "     });\n",
       " })(this.element);\n",
       "</script>\n"
      ]
     },
     "metadata": {},
     "output_type": "display_data"
    }
   ],
   "source": [
    "drawProg(\"523\");"
   ]
  },
  {
   "cell_type": "code",
   "execution_count": 23,
   "id": "98dd644c",
   "metadata": {},
   "outputs": [
    {
     "name": "stdout",
     "output_type": "stream",
     "text": [
      "{ tag: \u001b[32m'IDENTIFIER'\u001b[39m, name: \u001b[32m'asdfasdf'\u001b[39m }\n"
     ]
    }
   ],
   "source": [
    "parse(\"asdfasdf\");"
   ]
  },
  {
   "cell_type": "code",
   "execution_count": 24,
   "id": "b78b4216",
   "metadata": {},
   "outputs": [
    {
     "data": {
      "text/html": [
       "\n",
       "<style>\n",
       "    #mydiv4b53b36b-0877-4e1f-9707-4fedbc3ae6ce {\n",
       "        width: 800px;\n",
       "        height: 350px;\n",
       "        top: 0px;\n",
       "        left: 0px;\n",
       "    }\n",
       "</style>\n",
       "<div id=\"mydiv4b53b36b-0877-4e1f-9707-4fedbc3ae6ce\"></div>\n"
      ]
     },
     "metadata": {},
     "output_type": "display_data"
    },
    {
     "data": {
      "text/html": [
       "\n",
       "<script>\n",
       " (function(element) {\n",
       "     require(['cytoscape'], function(cytoscape) {   \n",
       "        var cy = cytoscape({\n",
       "         container: document.getElementById('mydiv4b53b36b-0877-4e1f-9707-4fedbc3ae6ce'),\n",
       "         style: [\n",
       "{\n",
       "  selector: 'node',\n",
       "  css: {\n",
       "    'class': \".bx--tree\",\n",
       "    'label': 'data(label)',\n",
       "    'height': '10px',\n",
       "    'width': '10px',\n",
       "  }\n",
       "},\n",
       "{\n",
       "  selector: 'edge',\n",
       "  css: {\n",
       "    'width': 3,\n",
       "    // 'line-color': '#ccc123',\n",
       "    'curve-style': 'bezier',\n",
       "    'target-arrow-shape': 'triangle',\n",
       "    'target-arrow-fill': 'filled',\n",
       "    'arrow-scale': 1,\n",
       "  }\n",
       "}\n",
       "],\n",
       "         layout: \n",
       "{\n",
       "  name: 'preset'\n",
       "}\n",
       ",\n",
       "         elements: [\n",
       "  {\n",
       "    data: { id: 'identifier1', label: 'asdfasdf' },\n",
       "    position: { x: 0, y: 0 }\n",
       "  }\n",
       "]\n",
       "         });\n",
       "     });\n",
       " })(this.element);\n",
       "</script>\n"
      ]
     },
     "metadata": {},
     "output_type": "display_data"
    }
   ],
   "source": [
    "drawProg(\"asdfasdf\");"
   ]
  },
  {
   "cell_type": "code",
   "execution_count": 25,
   "id": "7db5fc5f",
   "metadata": {},
   "outputs": [
    {
     "name": "stdout",
     "output_type": "stream",
     "text": [
      "{ tag: \u001b[32m'IDENTIFIER'\u001b[39m, name: \u001b[32m'asdfasdf'\u001b[39m }\n"
     ]
    }
   ],
   "source": [
    "parse(\"(((asdfasdf)))\");"
   ]
  },
  {
   "cell_type": "code",
   "execution_count": 26,
   "id": "88cc4daa",
   "metadata": {},
   "outputs": [
    {
     "data": {
      "text/html": [
       "\n",
       "<style>\n",
       "    #mydivaafb11fd-d3bc-4b18-b4ab-5c26059a1d5b {\n",
       "        width: 800px;\n",
       "        height: 350px;\n",
       "        top: 0px;\n",
       "        left: 0px;\n",
       "    }\n",
       "</style>\n",
       "<div id=\"mydivaafb11fd-d3bc-4b18-b4ab-5c26059a1d5b\"></div>\n"
      ]
     },
     "metadata": {},
     "output_type": "display_data"
    },
    {
     "data": {
      "text/html": [
       "\n",
       "<script>\n",
       " (function(element) {\n",
       "     require(['cytoscape'], function(cytoscape) {   \n",
       "        var cy = cytoscape({\n",
       "         container: document.getElementById('mydivaafb11fd-d3bc-4b18-b4ab-5c26059a1d5b'),\n",
       "         style: [\n",
       "{\n",
       "  selector: 'node',\n",
       "  css: {\n",
       "    'class': \".bx--tree\",\n",
       "    'label': 'data(label)',\n",
       "    'height': '10px',\n",
       "    'width': '10px',\n",
       "  }\n",
       "},\n",
       "{\n",
       "  selector: 'edge',\n",
       "  css: {\n",
       "    'width': 3,\n",
       "    // 'line-color': '#ccc123',\n",
       "    'curve-style': 'bezier',\n",
       "    'target-arrow-shape': 'triangle',\n",
       "    'target-arrow-fill': 'filled',\n",
       "    'arrow-scale': 1,\n",
       "  }\n",
       "}\n",
       "],\n",
       "         layout: \n",
       "{\n",
       "  name: 'preset'\n",
       "}\n",
       ",\n",
       "         elements: [\n",
       "  {\n",
       "    data: { id: 'identifier1', label: 'asdfasdf' },\n",
       "    position: { x: 0, y: 0 }\n",
       "  }\n",
       "]\n",
       "         });\n",
       "     });\n",
       " })(this.element);\n",
       "</script>\n"
      ]
     },
     "metadata": {},
     "output_type": "display_data"
    }
   ],
   "source": [
    "drawProg(\"(((asdfasdf)))\");"
   ]
  },
  {
   "cell_type": "markdown",
   "id": "952a1d5d",
   "metadata": {},
   "source": [
    "- Note parentheses are gone.\n",
    "- The grouping role of parentheses is replaced with the hierarchy of the AST."
   ]
  },
  {
   "cell_type": "markdown",
   "id": "c0fbcec6",
   "metadata": {},
   "source": [
    "### Parsing sums\n",
    "\n",
    "- Sums are left-associative.\n",
    "- Easiest to parse them in a loop. (Only `parseSum()` is new here, but we have to replace all other functions.)"
   ]
  },
  {
   "cell_type": "code",
   "execution_count": 27,
   "id": "c76330a9",
   "metadata": {},
   "outputs": [
    {
     "name": "stdout",
     "output_type": "stream",
     "text": [
      "\u001b[33m-4\u001b[39m\n"
     ]
    }
   ],
   "source": [
    "1 - 2 - 3"
   ]
  },
  {
   "cell_type": "code",
   "execution_count": 28,
   "id": "95ab715c",
   "metadata": {},
   "outputs": [],
   "source": [
    "function parse(input: string): Expr {\n",
    "    return parseExpr(new TokenStream(getTokens(input)));\n",
    "}\n",
    "\n",
    "function parseExpr(lexer: TokenStream): Expr {\n",
    "    return parseSum(lexer); // Note: changed, which changes what parseAtom refers to\n",
    "}\n",
    "\n",
    "function parseSum(lexer: TokenStream): Expr {\n",
    "    let left = parseAtom(lexer);\n",
    "\n",
    "    // Sums are left-associative, we can't recurse on the right. Just keep getting more\n",
    "    // sum expressions and grouping them on the left.\n",
    "    while (true) {\n",
    "        const token = lexer.peek();\n",
    "        if (token === \"+\" || token === \"-\") {\n",
    "            lexer.next();\n",
    "            const right = parseAtom(lexer);\n",
    "            left = {\n",
    "                tag: \"BINARY\",\n",
    "                operator: token,\n",
    "                left: left,\n",
    "                right: right,\n",
    "            };\n",
    "        } else {\n",
    "            break;\n",
    "        }\n",
    "    }\n",
    "\n",
    "    return left;\n",
    "}\n",
    "\n",
    "function parseAtom(lexer: TokenStream): Expr {\n",
    "    const token = lexer.peek();\n",
    "    if (typeof token === \"object\") {\n",
    "        if (token.tag === \"NUMBER\") {\n",
    "            lexer.next();\n",
    "            return token;\n",
    "        }\n",
    "        if (token.tag === \"IDENTIFIER\") {\n",
    "            lexer.next();\n",
    "            return token;\n",
    "        }\n",
    "    }\n",
    "\n",
    "    if (token === \"(\") {\n",
    "        lexer.next();\n",
    "        const expr = parseExpr(lexer);\n",
    "        if (lexer.next() !== \")\") {\n",
    "            throw new Error(\"Missing close parenthesis\");\n",
    "        }\n",
    "\n",
    "        return expr;\n",
    "    }\n",
    "\n",
    "    throw new Error(\"Can't parse token: \" + JSON.stringify(token));\n",
    "}"
   ]
  },
  {
   "cell_type": "code",
   "execution_count": 29,
   "id": "72a46316",
   "metadata": {},
   "outputs": [
    {
     "name": "stdout",
     "output_type": "stream",
     "text": [
      "{\n",
      "  tag: \u001b[32m'BINARY'\u001b[39m,\n",
      "  operator: \u001b[32m'+'\u001b[39m,\n",
      "  left: { tag: \u001b[32m'NUMBER'\u001b[39m, value: \u001b[33m5\u001b[39m },\n",
      "  right: { tag: \u001b[32m'NUMBER'\u001b[39m, value: \u001b[33m6\u001b[39m }\n",
      "}\n"
     ]
    }
   ],
   "source": [
    "parse(\"5 + 6\");"
   ]
  },
  {
   "cell_type": "code",
   "execution_count": 30,
   "id": "aab0d4d4",
   "metadata": {},
   "outputs": [
    {
     "data": {
      "text/html": [
       "\n",
       "<style>\n",
       "    #mydiv8c02d2b5-ee61-48bf-8447-7bc8c7c98bb1 {\n",
       "        width: 800px;\n",
       "        height: 350px;\n",
       "        top: 0px;\n",
       "        left: 0px;\n",
       "    }\n",
       "</style>\n",
       "<div id=\"mydiv8c02d2b5-ee61-48bf-8447-7bc8c7c98bb1\"></div>\n"
      ]
     },
     "metadata": {},
     "output_type": "display_data"
    },
    {
     "data": {
      "text/html": [
       "\n",
       "<script>\n",
       " (function(element) {\n",
       "     require(['cytoscape'], function(cytoscape) {   \n",
       "        var cy = cytoscape({\n",
       "         container: document.getElementById('mydiv8c02d2b5-ee61-48bf-8447-7bc8c7c98bb1'),\n",
       "         style: [\n",
       "{\n",
       "  selector: 'node',\n",
       "  css: {\n",
       "    'class': \".bx--tree\",\n",
       "    'label': 'data(label)',\n",
       "    'height': '10px',\n",
       "    'width': '10px',\n",
       "  }\n",
       "},\n",
       "{\n",
       "  selector: 'edge',\n",
       "  css: {\n",
       "    'width': 3,\n",
       "    // 'line-color': '#ccc123',\n",
       "    'curve-style': 'bezier',\n",
       "    'target-arrow-shape': 'triangle',\n",
       "    'target-arrow-fill': 'filled',\n",
       "    'arrow-scale': 1,\n",
       "  }\n",
       "}\n",
       "],\n",
       "         layout: \n",
       "{\n",
       "  name: 'preset'\n",
       "}\n",
       ",\n",
       "         elements: [\n",
       "  { data: { id: 'binary1', label: '+' }, position: { x: 0, y: 0 } },\n",
       "  { data: { id: 'edge3', source: 'binary1', target: 'number2' } },\n",
       "  { data: { id: 'edge5', source: 'binary1', target: 'number4' } },\n",
       "  { data: { id: 'number2', label: 5 }, position: { x: -100, y: 50 } },\n",
       "  { data: { id: 'number4', label: 6 }, position: { x: 100, y: 50 } }\n",
       "]\n",
       "         });\n",
       "     });\n",
       " })(this.element);\n",
       "</script>\n"
      ]
     },
     "metadata": {},
     "output_type": "display_data"
    }
   ],
   "source": [
    "drawProg(\"5 + 6\");"
   ]
  },
  {
   "cell_type": "code",
   "execution_count": 31,
   "id": "c467fac7",
   "metadata": {},
   "outputs": [
    {
     "name": "stdout",
     "output_type": "stream",
     "text": [
      "{\n",
      "  tag: \u001b[32m'BINARY'\u001b[39m,\n",
      "  operator: \u001b[32m'-'\u001b[39m,\n",
      "  left: { tag: \u001b[32m'NUMBER'\u001b[39m, value: \u001b[33m5\u001b[39m },\n",
      "  right: {\n",
      "    tag: \u001b[32m'BINARY'\u001b[39m,\n",
      "    operator: \u001b[32m'+'\u001b[39m,\n",
      "    left: { tag: \u001b[32m'NUMBER'\u001b[39m, value: \u001b[33m6\u001b[39m },\n",
      "    right: { tag: \u001b[32m'NUMBER'\u001b[39m, value: \u001b[33m2\u001b[39m }\n",
      "  }\n",
      "}\n"
     ]
    }
   ],
   "source": [
    "parse(\"5 - (6 + 2)\");"
   ]
  },
  {
   "cell_type": "code",
   "execution_count": 32,
   "id": "f1b7394a",
   "metadata": {},
   "outputs": [
    {
     "data": {
      "text/html": [
       "\n",
       "<style>\n",
       "    #mydiv53225087-2a60-410f-8699-5b60ff687c06 {\n",
       "        width: 800px;\n",
       "        height: 350px;\n",
       "        top: 0px;\n",
       "        left: 0px;\n",
       "    }\n",
       "</style>\n",
       "<div id=\"mydiv53225087-2a60-410f-8699-5b60ff687c06\"></div>\n"
      ]
     },
     "metadata": {},
     "output_type": "display_data"
    },
    {
     "data": {
      "text/html": [
       "\n",
       "<script>\n",
       " (function(element) {\n",
       "     require(['cytoscape'], function(cytoscape) {   \n",
       "        var cy = cytoscape({\n",
       "         container: document.getElementById('mydiv53225087-2a60-410f-8699-5b60ff687c06'),\n",
       "         style: [\n",
       "{\n",
       "  selector: 'node',\n",
       "  css: {\n",
       "    'class': \".bx--tree\",\n",
       "    'label': 'data(label)',\n",
       "    'height': '10px',\n",
       "    'width': '10px',\n",
       "  }\n",
       "},\n",
       "{\n",
       "  selector: 'edge',\n",
       "  css: {\n",
       "    'width': 3,\n",
       "    // 'line-color': '#ccc123',\n",
       "    'curve-style': 'bezier',\n",
       "    'target-arrow-shape': 'triangle',\n",
       "    'target-arrow-fill': 'filled',\n",
       "    'arrow-scale': 1,\n",
       "  }\n",
       "}\n",
       "],\n",
       "         layout: \n",
       "{\n",
       "  name: 'preset'\n",
       "}\n",
       ",\n",
       "         elements: [\n",
       "  { data: { id: 'binary1', label: '-' }, position: { x: 0, y: 0 } },\n",
       "  { data: { id: 'edge3', source: 'binary1', target: 'number2' } },\n",
       "  { data: { id: 'edge9', source: 'binary1', target: 'binary4' } },\n",
       "  { data: { id: 'number2', label: 5 }, position: { x: -100, y: 50 } },\n",
       "  { data: { id: 'binary4', label: '+' }, position: { x: 100, y: 50 } },\n",
       "  { data: { id: 'edge6', source: 'binary4', target: 'number5' } },\n",
       "  { data: { id: 'edge8', source: 'binary4', target: 'number7' } },\n",
       "  { data: { id: 'number5', label: 6 }, position: { x: 50, y: 100 } },\n",
       "  { data: { id: 'number7', label: 2 }, position: { x: 150, y: 100 } }\n",
       "]\n",
       "         });\n",
       "     });\n",
       " })(this.element);\n",
       "</script>\n"
      ]
     },
     "metadata": {},
     "output_type": "display_data"
    }
   ],
   "source": [
    "drawProg(\"5 - (6 + 2)\");"
   ]
  },
  {
   "cell_type": "code",
   "execution_count": 33,
   "id": "07f63b49",
   "metadata": {},
   "outputs": [
    {
     "name": "stdout",
     "output_type": "stream",
     "text": [
      "{\n",
      "  tag: \u001b[32m'BINARY'\u001b[39m,\n",
      "  operator: \u001b[32m'-'\u001b[39m,\n",
      "  left: { tag: \u001b[32m'IDENTIFIER'\u001b[39m, name: \u001b[32m'a'\u001b[39m },\n",
      "  right: {\n",
      "    tag: \u001b[32m'BINARY'\u001b[39m,\n",
      "    operator: \u001b[32m'+'\u001b[39m,\n",
      "    left: { tag: \u001b[32m'IDENTIFIER'\u001b[39m, name: \u001b[32m'b'\u001b[39m },\n",
      "    right: { tag: \u001b[32m'IDENTIFIER'\u001b[39m, name: \u001b[32m'c'\u001b[39m }\n",
      "  }\n",
      "}\n"
     ]
    }
   ],
   "source": [
    "parse(\"a - (b + c)\");"
   ]
  },
  {
   "cell_type": "code",
   "execution_count": 34,
   "id": "f1205673",
   "metadata": {},
   "outputs": [
    {
     "data": {
      "text/html": [
       "\n",
       "<style>\n",
       "    #mydiv4e14e65a-5449-4540-a2e8-23082e290ff5 {\n",
       "        width: 800px;\n",
       "        height: 350px;\n",
       "        top: 0px;\n",
       "        left: 0px;\n",
       "    }\n",
       "</style>\n",
       "<div id=\"mydiv4e14e65a-5449-4540-a2e8-23082e290ff5\"></div>\n"
      ]
     },
     "metadata": {},
     "output_type": "display_data"
    },
    {
     "data": {
      "text/html": [
       "\n",
       "<script>\n",
       " (function(element) {\n",
       "     require(['cytoscape'], function(cytoscape) {   \n",
       "        var cy = cytoscape({\n",
       "         container: document.getElementById('mydiv4e14e65a-5449-4540-a2e8-23082e290ff5'),\n",
       "         style: [\n",
       "{\n",
       "  selector: 'node',\n",
       "  css: {\n",
       "    'class': \".bx--tree\",\n",
       "    'label': 'data(label)',\n",
       "    'height': '10px',\n",
       "    'width': '10px',\n",
       "  }\n",
       "},\n",
       "{\n",
       "  selector: 'edge',\n",
       "  css: {\n",
       "    'width': 3,\n",
       "    // 'line-color': '#ccc123',\n",
       "    'curve-style': 'bezier',\n",
       "    'target-arrow-shape': 'triangle',\n",
       "    'target-arrow-fill': 'filled',\n",
       "    'arrow-scale': 1,\n",
       "  }\n",
       "}\n",
       "],\n",
       "         layout: \n",
       "{\n",
       "  name: 'preset'\n",
       "}\n",
       ",\n",
       "         elements: [\n",
       "  { data: { id: 'binary1', label: '-' }, position: { x: 0, y: 0 } },\n",
       "  { data: { id: 'edge3', source: 'binary1', target: 'identifier2' } },\n",
       "  { data: { id: 'edge9', source: 'binary1', target: 'binary4' } },\n",
       "  {\n",
       "    data: { id: 'identifier2', label: 'a' },\n",
       "    position: { x: -100, y: 50 }\n",
       "  },\n",
       "  { data: { id: 'binary4', label: '+' }, position: { x: 100, y: 50 } },\n",
       "  { data: { id: 'edge6', source: 'binary4', target: 'identifier5' } },\n",
       "  { data: { id: 'edge8', source: 'binary4', target: 'identifier7' } },\n",
       "  {\n",
       "    data: { id: 'identifier5', label: 'b' },\n",
       "    position: { x: 50, y: 100 }\n",
       "  },\n",
       "  {\n",
       "    data: { id: 'identifier7', label: 'c' },\n",
       "    position: { x: 150, y: 100 }\n",
       "  }\n",
       "]\n",
       "         });\n",
       "     });\n",
       " })(this.element);\n",
       "</script>\n"
      ]
     },
     "metadata": {},
     "output_type": "display_data"
    }
   ],
   "source": [
    "drawProg(\"a - (b + c)\");"
   ]
  },
  {
   "cell_type": "markdown",
   "id": "705234c2",
   "metadata": {},
   "source": [
    "### Parsing products and conditionals\n",
    "\n",
    "- These are just like sums.\n",
    "- They're broken out into their own function to enforce precedence.\n",
    "- They are implemented internally either as:\n",
    "    * a loop for left-associative (sum, product).\n",
    "    * recursion for right-associative (conditional)."
   ]
  },
  {
   "cell_type": "code",
   "execution_count": 35,
   "id": "a136f891",
   "metadata": {},
   "outputs": [],
   "source": [
    "function parse(input: string): Expr {\n",
    "    return parseExpr(new TokenStream(getTokens(input)));\n",
    "}\n",
    "\n",
    "function parseExpr(lexer: TokenStream): Expr {\n",
    "    return parseConditional(lexer);\n",
    "}\n",
    "\n",
    "/**\n",
    " * Parse a ternary conditional expression:\n",
    " *\n",
    " *     e ? e : e\n",
    " *\n",
    " * The \"then\" clause is used if the \"conditional\" clause is non-zero. Otherwise the \"else\" clause is used.\n",
    " */\n",
    "function parseConditional(lexer: TokenStream): Expr {\n",
    "    const condExpr = parseSum(lexer);\n",
    "\n",
    "    if (lexer.peek() === \"?\") {\n",
    "        lexer.next();\n",
    "\n",
    "        const thenExpr = parseConditional(lexer);\n",
    "\n",
    "        if (lexer.next() !== \":\") {\n",
    "            throw new Error(\"Colon not found in conditional\");\n",
    "        }\n",
    "\n",
    "        const elseExpr = parseConditional(lexer);\n",
    "\n",
    "        return {\n",
    "            tag: \"CONDITIONAL\",\n",
    "            condExpr: condExpr,\n",
    "            thenExpr: thenExpr,\n",
    "            elseExpr: elseExpr,\n",
    "        };\n",
    "    }\n",
    "\n",
    "    return condExpr;\n",
    "}\n",
    "\n",
    "function parseSum(lexer: TokenStream): Expr {\n",
    "    let left = parseProduct(lexer);\n",
    "\n",
    "    // Sums are left-associative, we can't recurse on the right. Just keep getting more\n",
    "    // sum expressions and grouping them on the left.\n",
    "    while (true) {\n",
    "        const token = lexer.peek();\n",
    "        if (token === \"+\" || token === \"-\") {\n",
    "            lexer.next();\n",
    "            const right = parseProduct(lexer);\n",
    "            left = {\n",
    "                tag: \"BINARY\",\n",
    "                operator: token,\n",
    "                left: left,\n",
    "                right: right,\n",
    "            };\n",
    "        } else {\n",
    "            break;\n",
    "        }\n",
    "    }\n",
    "\n",
    "    return left;\n",
    "}\n",
    "\n",
    "/**\n",
    " * Parse a product expression:\n",
    " *\n",
    " *     e * e\n",
    " *     e / e\n",
    " *\n",
    " * The division is truncated toward zero.\n",
    " */\n",
    "function parseProduct(lexer: TokenStream): Expr {\n",
    "    let left = parseAtom(lexer);\n",
    "\n",
    "    // Products are left-associative, we can't recurse on the right. Just keep getting more\n",
    "    // product expressions and grouping them on the left.\n",
    "    while (true) {\n",
    "        const token = lexer.peek();\n",
    "        if (token === \"*\" || token === \"/\") {\n",
    "            lexer.next();\n",
    "            const right = parseAtom(lexer);\n",
    "            left = {\n",
    "                tag: \"BINARY\",\n",
    "                operator: token,\n",
    "                left: left,\n",
    "                right: right,\n",
    "            };\n",
    "        } else {\n",
    "            break;\n",
    "        }\n",
    "    }\n",
    "\n",
    "    return left;\n",
    "}\n",
    "\n",
    "function parseAtom(lexer: TokenStream): Expr {\n",
    "    const token = lexer.next();\n",
    "    if (typeof token === \"object\") {\n",
    "        if (token.tag === \"NUMBER\") {\n",
    "            return token;\n",
    "        }\n",
    "        if (token.tag === \"IDENTIFIER\") {\n",
    "            return token;\n",
    "        }\n",
    "    }\n",
    "\n",
    "    if (token === \"(\") {\n",
    "        const expr = parseExpr(lexer);\n",
    "        if (lexer.next() !== \")\") {\n",
    "            throw new Error(\"Missing close parenthesis\");\n",
    "        }\n",
    "\n",
    "        return expr;\n",
    "    }\n",
    "\n",
    "    throw new Error(\"Can't parse token: \" + JSON.stringify(token));\n",
    "}"
   ]
  },
  {
   "cell_type": "code",
   "execution_count": 36,
   "id": "7725c726",
   "metadata": {},
   "outputs": [
    {
     "name": "stdout",
     "output_type": "stream",
     "text": [
      "{\n",
      "  tag: \u001b[32m'BINARY'\u001b[39m,\n",
      "  operator: \u001b[32m'+'\u001b[39m,\n",
      "  left: {\n",
      "    tag: \u001b[32m'BINARY'\u001b[39m,\n",
      "    operator: \u001b[32m'*'\u001b[39m,\n",
      "    left: { tag: \u001b[32m'NUMBER'\u001b[39m, value: \u001b[33m2\u001b[39m },\n",
      "    right: { tag: \u001b[32m'NUMBER'\u001b[39m, value: \u001b[33m3\u001b[39m }\n",
      "  },\n",
      "  right: {\n",
      "    tag: \u001b[32m'BINARY'\u001b[39m,\n",
      "    operator: \u001b[32m'*'\u001b[39m,\n",
      "    left: { tag: \u001b[32m'IDENTIFIER'\u001b[39m, name: \u001b[32m'a'\u001b[39m },\n",
      "    right: { tag: \u001b[32m'IDENTIFIER'\u001b[39m, name: \u001b[32m'b'\u001b[39m }\n",
      "  }\n",
      "}\n"
     ]
    }
   ],
   "source": [
    "parse(\"(2 * 3) + (a * b)\");"
   ]
  },
  {
   "cell_type": "code",
   "execution_count": 37,
   "id": "c8bd580f",
   "metadata": {},
   "outputs": [
    {
     "data": {
      "text/html": [
       "\n",
       "<style>\n",
       "    #mydivac3fdfc8-758c-45c4-9892-17c9f7a9f6d3 {\n",
       "        width: 800px;\n",
       "        height: 350px;\n",
       "        top: 0px;\n",
       "        left: 0px;\n",
       "    }\n",
       "</style>\n",
       "<div id=\"mydivac3fdfc8-758c-45c4-9892-17c9f7a9f6d3\"></div>\n"
      ]
     },
     "metadata": {},
     "output_type": "display_data"
    },
    {
     "data": {
      "text/html": [
       "\n",
       "<script>\n",
       " (function(element) {\n",
       "     require(['cytoscape'], function(cytoscape) {   \n",
       "        var cy = cytoscape({\n",
       "         container: document.getElementById('mydivac3fdfc8-758c-45c4-9892-17c9f7a9f6d3'),\n",
       "         style: [\n",
       "{\n",
       "  selector: 'node',\n",
       "  css: {\n",
       "    'class': \".bx--tree\",\n",
       "    'label': 'data(label)',\n",
       "    'height': '10px',\n",
       "    'width': '10px',\n",
       "  }\n",
       "},\n",
       "{\n",
       "  selector: 'edge',\n",
       "  css: {\n",
       "    'width': 3,\n",
       "    // 'line-color': '#ccc123',\n",
       "    'curve-style': 'bezier',\n",
       "    'target-arrow-shape': 'triangle',\n",
       "    'target-arrow-fill': 'filled',\n",
       "    'arrow-scale': 1,\n",
       "  }\n",
       "}\n",
       "],\n",
       "         layout: \n",
       "{\n",
       "  name: 'preset'\n",
       "}\n",
       ",\n",
       "         elements: [\n",
       "  { data: { id: 'binary1', label: '+' }, position: { x: 0, y: 0 } },\n",
       "  { data: { id: 'edge7', source: 'binary1', target: 'binary2' } },\n",
       "  { data: { id: 'edge13', source: 'binary1', target: 'binary8' } },\n",
       "  { data: { id: 'binary2', label: '*' }, position: { x: -100, y: 50 } },\n",
       "  { data: { id: 'edge4', source: 'binary2', target: 'number3' } },\n",
       "  { data: { id: 'edge6', source: 'binary2', target: 'number5' } },\n",
       "  { data: { id: 'number3', label: 2 }, position: { x: -150, y: 100 } },\n",
       "  { data: { id: 'number5', label: 3 }, position: { x: -50, y: 100 } },\n",
       "  { data: { id: 'binary8', label: '*' }, position: { x: 100, y: 50 } },\n",
       "  { data: { id: 'edge10', source: 'binary8', target: 'identifier9' } },\n",
       "  { data: { id: 'edge12', source: 'binary8', target: 'identifier11' } },\n",
       "  {\n",
       "    data: { id: 'identifier9', label: 'a' },\n",
       "    position: { x: 50, y: 100 }\n",
       "  },\n",
       "  {\n",
       "    data: { id: 'identifier11', label: 'b' },\n",
       "    position: { x: 150, y: 100 }\n",
       "  }\n",
       "]\n",
       "         });\n",
       "     });\n",
       " })(this.element);\n",
       "</script>\n"
      ]
     },
     "metadata": {},
     "output_type": "display_data"
    }
   ],
   "source": [
    "drawProg(\"(2 * 3) + (a * b)\");"
   ]
  },
  {
   "cell_type": "code",
   "execution_count": 38,
   "id": "ebf7af6f",
   "metadata": {},
   "outputs": [
    {
     "name": "stdout",
     "output_type": "stream",
     "text": [
      "{\n",
      "  tag: \u001b[32m'CONDITIONAL'\u001b[39m,\n",
      "  condExpr: { tag: \u001b[32m'IDENTIFIER'\u001b[39m, name: \u001b[32m'x'\u001b[39m },\n",
      "  thenExpr: { tag: \u001b[32m'NUMBER'\u001b[39m, value: \u001b[33m2\u001b[39m },\n",
      "  elseExpr: { tag: \u001b[32m'NUMBER'\u001b[39m, value: \u001b[33m3\u001b[39m }\n",
      "}\n"
     ]
    }
   ],
   "source": [
    "parse(\"x ? 2 : 3\");"
   ]
  },
  {
   "cell_type": "code",
   "execution_count": 39,
   "id": "1b238a6b",
   "metadata": {},
   "outputs": [
    {
     "data": {
      "text/html": [
       "\n",
       "<style>\n",
       "    #mydivfb8b263e-b8c3-4642-b4ec-3cfc13a1ca83 {\n",
       "        width: 800px;\n",
       "        height: 350px;\n",
       "        top: 0px;\n",
       "        left: 0px;\n",
       "    }\n",
       "</style>\n",
       "<div id=\"mydivfb8b263e-b8c3-4642-b4ec-3cfc13a1ca83\"></div>\n"
      ]
     },
     "metadata": {},
     "output_type": "display_data"
    },
    {
     "data": {
      "text/html": [
       "\n",
       "<script>\n",
       " (function(element) {\n",
       "     require(['cytoscape'], function(cytoscape) {   \n",
       "        var cy = cytoscape({\n",
       "         container: document.getElementById('mydivfb8b263e-b8c3-4642-b4ec-3cfc13a1ca83'),\n",
       "         style: [\n",
       "{\n",
       "  selector: 'node',\n",
       "  css: {\n",
       "    'class': \".bx--tree\",\n",
       "    'label': 'data(label)',\n",
       "    'height': '10px',\n",
       "    'width': '10px',\n",
       "  }\n",
       "},\n",
       "{\n",
       "  selector: 'edge',\n",
       "  css: {\n",
       "    'width': 3,\n",
       "    // 'line-color': '#ccc123',\n",
       "    'curve-style': 'bezier',\n",
       "    'target-arrow-shape': 'triangle',\n",
       "    'target-arrow-fill': 'filled',\n",
       "    'arrow-scale': 1,\n",
       "  }\n",
       "}\n",
       "],\n",
       "         layout: \n",
       "{\n",
       "  name: 'preset'\n",
       "}\n",
       ",\n",
       "         elements: [\n",
       "  {\n",
       "    data: { id: 'conditional1', label: 'if' },\n",
       "    position: { x: 0, y: 0 }\n",
       "  },\n",
       "  {\n",
       "    data: { id: 'edge3', source: 'conditional1', target: 'identifier2' }\n",
       "  },\n",
       "  { data: { id: 'edge5', source: 'conditional1', target: 'number4' } },\n",
       "  { data: { id: 'edge7', source: 'conditional1', target: 'number6' } },\n",
       "  {\n",
       "    data: { id: 'identifier2', label: 'x' },\n",
       "    position: { x: -150, y: 50 }\n",
       "  },\n",
       "  { data: { id: 'number4', label: 2 }, position: { x: 0, y: 50 } },\n",
       "  { data: { id: 'number6', label: 3 }, position: { x: 150, y: 50 } }\n",
       "]\n",
       "         });\n",
       "     });\n",
       " })(this.element);\n",
       "</script>\n"
      ]
     },
     "metadata": {},
     "output_type": "display_data"
    }
   ],
   "source": [
    "drawProg(\"x ? 2 : 3\");"
   ]
  },
  {
   "cell_type": "markdown",
   "id": "332c3aa6",
   "metadata": {},
   "source": [
    "Note difference between **right associative** (2 and 3 are grouped):"
   ]
  },
  {
   "cell_type": "code",
   "execution_count": 40,
   "id": "980d123b",
   "metadata": {},
   "outputs": [
    {
     "name": "stdout",
     "output_type": "stream",
     "text": [
      "{\n",
      "  tag: \u001b[32m'CONDITIONAL'\u001b[39m,\n",
      "  condExpr: { tag: \u001b[32m'IDENTIFIER'\u001b[39m, name: \u001b[32m'x'\u001b[39m },\n",
      "  thenExpr: { tag: \u001b[32m'NUMBER'\u001b[39m, value: \u001b[33m1\u001b[39m },\n",
      "  elseExpr: {\n",
      "    tag: \u001b[32m'CONDITIONAL'\u001b[39m,\n",
      "    condExpr: { tag: \u001b[32m'IDENTIFIER'\u001b[39m, name: \u001b[32m'y'\u001b[39m },\n",
      "    thenExpr: { tag: \u001b[32m'NUMBER'\u001b[39m, value: \u001b[33m2\u001b[39m },\n",
      "    elseExpr: { tag: \u001b[32m'NUMBER'\u001b[39m, value: \u001b[33m3\u001b[39m }\n",
      "  }\n",
      "}\n"
     ]
    }
   ],
   "source": [
    "parse(\"x ? 1 : y ? 2 : 3\");"
   ]
  },
  {
   "cell_type": "code",
   "execution_count": 41,
   "id": "34559758",
   "metadata": {},
   "outputs": [
    {
     "data": {
      "text/html": [
       "\n",
       "<style>\n",
       "    #mydive8a5e931-4f0b-49bb-9c45-16866d694ee5 {\n",
       "        width: 800px;\n",
       "        height: 350px;\n",
       "        top: 0px;\n",
       "        left: 0px;\n",
       "    }\n",
       "</style>\n",
       "<div id=\"mydive8a5e931-4f0b-49bb-9c45-16866d694ee5\"></div>\n"
      ]
     },
     "metadata": {},
     "output_type": "display_data"
    },
    {
     "data": {
      "text/html": [
       "\n",
       "<script>\n",
       " (function(element) {\n",
       "     require(['cytoscape'], function(cytoscape) {   \n",
       "        var cy = cytoscape({\n",
       "         container: document.getElementById('mydive8a5e931-4f0b-49bb-9c45-16866d694ee5'),\n",
       "         style: [\n",
       "{\n",
       "  selector: 'node',\n",
       "  css: {\n",
       "    'class': \".bx--tree\",\n",
       "    'label': 'data(label)',\n",
       "    'height': '10px',\n",
       "    'width': '10px',\n",
       "  }\n",
       "},\n",
       "{\n",
       "  selector: 'edge',\n",
       "  css: {\n",
       "    'width': 3,\n",
       "    // 'line-color': '#ccc123',\n",
       "    'curve-style': 'bezier',\n",
       "    'target-arrow-shape': 'triangle',\n",
       "    'target-arrow-fill': 'filled',\n",
       "    'arrow-scale': 1,\n",
       "  }\n",
       "}\n",
       "],\n",
       "         layout: \n",
       "{\n",
       "  name: 'preset'\n",
       "}\n",
       ",\n",
       "         elements: [\n",
       "  {\n",
       "    data: { id: 'conditional1', label: 'if' },\n",
       "    position: { x: 0, y: 0 }\n",
       "  },\n",
       "  {\n",
       "    data: { id: 'edge3', source: 'conditional1', target: 'identifier2' }\n",
       "  },\n",
       "  { data: { id: 'edge5', source: 'conditional1', target: 'number4' } },\n",
       "  {\n",
       "    data: { id: 'edge13', source: 'conditional1', target: 'conditional6' }\n",
       "  },\n",
       "  {\n",
       "    data: { id: 'identifier2', label: 'x' },\n",
       "    position: { x: -150, y: 50 }\n",
       "  },\n",
       "  { data: { id: 'number4', label: 1 }, position: { x: 0, y: 50 } },\n",
       "  {\n",
       "    data: { id: 'conditional6', label: 'if' },\n",
       "    position: { x: 150, y: 50 }\n",
       "  },\n",
       "  {\n",
       "    data: { id: 'edge8', source: 'conditional6', target: 'identifier7' }\n",
       "  },\n",
       "  { data: { id: 'edge10', source: 'conditional6', target: 'number9' } },\n",
       "  {\n",
       "    data: { id: 'edge12', source: 'conditional6', target: 'number11' }\n",
       "  },\n",
       "  {\n",
       "    data: { id: 'identifier7', label: 'y' },\n",
       "    position: { x: 75, y: 100 }\n",
       "  },\n",
       "  { data: { id: 'number9', label: 2 }, position: { x: 150, y: 100 } },\n",
       "  { data: { id: 'number11', label: 3 }, position: { x: 225, y: 100 } }\n",
       "]\n",
       "         });\n",
       "     });\n",
       " })(this.element);\n",
       "</script>\n"
      ]
     },
     "metadata": {},
     "output_type": "display_data"
    }
   ],
   "source": [
    "drawProg(\"x ? 1 : y ? 2 : 3\");"
   ]
  },
  {
   "cell_type": "markdown",
   "id": "12922017",
   "metadata": {},
   "source": [
    "and **left associative** (1 and 2 are grouped):"
   ]
  },
  {
   "cell_type": "code",
   "execution_count": 42,
   "id": "66883ca9",
   "metadata": {},
   "outputs": [
    {
     "name": "stdout",
     "output_type": "stream",
     "text": [
      "{\n",
      "  tag: \u001b[32m'BINARY'\u001b[39m,\n",
      "  operator: \u001b[32m'+'\u001b[39m,\n",
      "  left: {\n",
      "    tag: \u001b[32m'BINARY'\u001b[39m,\n",
      "    operator: \u001b[32m'+'\u001b[39m,\n",
      "    left: { tag: \u001b[32m'NUMBER'\u001b[39m, value: \u001b[33m1\u001b[39m },\n",
      "    right: { tag: \u001b[32m'NUMBER'\u001b[39m, value: \u001b[33m2\u001b[39m }\n",
      "  },\n",
      "  right: { tag: \u001b[32m'NUMBER'\u001b[39m, value: \u001b[33m3\u001b[39m }\n",
      "}\n"
     ]
    }
   ],
   "source": [
    "parse(\"1 + 2 + 3\");"
   ]
  },
  {
   "cell_type": "code",
   "execution_count": 43,
   "id": "308778d0",
   "metadata": {},
   "outputs": [
    {
     "data": {
      "text/html": [
       "\n",
       "<style>\n",
       "    #mydiv00794ef0-6872-45fd-bcf4-749722f9763c {\n",
       "        width: 800px;\n",
       "        height: 350px;\n",
       "        top: 0px;\n",
       "        left: 0px;\n",
       "    }\n",
       "</style>\n",
       "<div id=\"mydiv00794ef0-6872-45fd-bcf4-749722f9763c\"></div>\n"
      ]
     },
     "metadata": {},
     "output_type": "display_data"
    },
    {
     "data": {
      "text/html": [
       "\n",
       "<script>\n",
       " (function(element) {\n",
       "     require(['cytoscape'], function(cytoscape) {   \n",
       "        var cy = cytoscape({\n",
       "         container: document.getElementById('mydiv00794ef0-6872-45fd-bcf4-749722f9763c'),\n",
       "         style: [\n",
       "{\n",
       "  selector: 'node',\n",
       "  css: {\n",
       "    'class': \".bx--tree\",\n",
       "    'label': 'data(label)',\n",
       "    'height': '10px',\n",
       "    'width': '10px',\n",
       "  }\n",
       "},\n",
       "{\n",
       "  selector: 'edge',\n",
       "  css: {\n",
       "    'width': 3,\n",
       "    // 'line-color': '#ccc123',\n",
       "    'curve-style': 'bezier',\n",
       "    'target-arrow-shape': 'triangle',\n",
       "    'target-arrow-fill': 'filled',\n",
       "    'arrow-scale': 1,\n",
       "  }\n",
       "}\n",
       "],\n",
       "         layout: \n",
       "{\n",
       "  name: 'preset'\n",
       "}\n",
       ",\n",
       "         elements: [\n",
       "  { data: { id: 'binary1', label: '+' }, position: { x: 0, y: 0 } },\n",
       "  { data: { id: 'edge7', source: 'binary1', target: 'binary2' } },\n",
       "  { data: { id: 'edge9', source: 'binary1', target: 'number8' } },\n",
       "  { data: { id: 'binary2', label: '+' }, position: { x: -100, y: 50 } },\n",
       "  { data: { id: 'edge4', source: 'binary2', target: 'number3' } },\n",
       "  { data: { id: 'edge6', source: 'binary2', target: 'number5' } },\n",
       "  { data: { id: 'number3', label: 1 }, position: { x: -150, y: 100 } },\n",
       "  { data: { id: 'number5', label: 2 }, position: { x: -50, y: 100 } },\n",
       "  { data: { id: 'number8', label: 3 }, position: { x: 100, y: 50 } }\n",
       "]\n",
       "         });\n",
       "     });\n",
       " })(this.element);\n",
       "</script>\n"
      ]
     },
     "metadata": {},
     "output_type": "display_data"
    }
   ],
   "source": [
    "drawProg(\"1 + 2 + 3\");"
   ]
  },
  {
   "cell_type": "markdown",
   "id": "7d35a51f",
   "metadata": {},
   "source": [
    "# Parsing functions and calls"
   ]
  },
  {
   "cell_type": "code",
   "execution_count": 44,
   "id": "af48a824",
   "metadata": {},
   "outputs": [],
   "source": [
    "function parse(input: string): Expr {\n",
    "    const lexer = new TokenStream(getTokens(input));\n",
    "    return parseExpr(lexer);\n",
    "}\n",
    "\n",
    "function parseExpr(lexer: TokenStream): Expr {\n",
    "    return parseFunction(lexer);\n",
    "}\n",
    "\n",
    "/**\n",
    " * Parse a function definition:\n",
    " *\n",
    " *     λx => e\n",
    " */\n",
    "function parseFunction(lexer: TokenStream): Expr {\n",
    "    const token = lexer.peek();\n",
    "\n",
    "    if (token === \"λ\") {\n",
    "        lexer.next();\n",
    "        const parameter = lexer.next();\n",
    "        if (typeof parameter === \"object\" && parameter.tag === \"IDENTIFIER\") {\n",
    "            if (lexer.next() !== \"=>\") {\n",
    "                throw new Error(\"Missing arrow\");\n",
    "            }\n",
    "\n",
    "            const body = parseExpr(lexer);\n",
    "\n",
    "            return {\n",
    "                tag: \"FUNCTION\",\n",
    "                parameter: parameter.name,\n",
    "                body: body,\n",
    "            };\n",
    "        } else {\n",
    "            throw new Error(\"Parameter must be an identifier: \" + parameter);\n",
    "        }\n",
    "    } else {\n",
    "        return parseConditional(lexer);\n",
    "    }\n",
    "}\n",
    "\n",
    "function parseConditional(lexer: TokenStream): Expr {\n",
    "    const condExpr = parseSum(lexer);\n",
    "\n",
    "    if (lexer.peek() === \"?\") {\n",
    "        lexer.next();\n",
    "\n",
    "        const thenExpr = parseExpr(lexer);\n",
    "\n",
    "        if (lexer.next() !== \":\") {\n",
    "            throw new Error(\"Colon not found in conditional\");\n",
    "        }\n",
    "\n",
    "        const elseExpr = parseExpr(lexer);\n",
    "\n",
    "        return {\n",
    "            tag: \"CONDITIONAL\",\n",
    "            condExpr: condExpr,\n",
    "            thenExpr: thenExpr,\n",
    "            elseExpr: elseExpr,\n",
    "        };\n",
    "    }\n",
    "\n",
    "    return condExpr;\n",
    "}\n",
    "\n",
    "function parseSum(lexer: TokenStream): Expr {\n",
    "    let left = parseProduct(lexer);\n",
    "\n",
    "    // Sums are left-associative, we can't recurse on the right. Just keep getting more\n",
    "    // sum expressions and grouping them on the left.\n",
    "    while (true) {\n",
    "        const token = lexer.peek();\n",
    "        if (token === \"+\" || token === \"-\") {\n",
    "            lexer.next();\n",
    "            const right = parseProduct(lexer);\n",
    "            left = {\n",
    "                tag: \"BINARY\",\n",
    "                operator: token,\n",
    "                left: left,\n",
    "                right: right,\n",
    "            };\n",
    "        } else {\n",
    "            break;\n",
    "        }\n",
    "    }\n",
    "\n",
    "    return left;\n",
    "}\n",
    "\n",
    "function parseProduct(lexer: TokenStream): Expr {\n",
    "    let left = parseCall(lexer);\n",
    "\n",
    "    // Products are left-associative, we can't recurse on the right. Just keep getting more\n",
    "    // product expressions and grouping them on the left.\n",
    "    while (true) {\n",
    "        const token = lexer.peek();\n",
    "        if (token === \"*\" || token === \"/\") {\n",
    "            lexer.next();\n",
    "            const right = parseCall(lexer);\n",
    "            left = {\n",
    "                tag: \"BINARY\",\n",
    "                operator: token,\n",
    "                left: left,\n",
    "                right: right,\n",
    "            };\n",
    "        } else {\n",
    "            break;\n",
    "        }\n",
    "    }\n",
    "\n",
    "    return left;\n",
    "}\n",
    "\n",
    "function parseCall(lexer: TokenStream): Expr {\n",
    "    let func = parseAtom(lexer);\n",
    "\n",
    "    // Calls are left-associative, we can't recurse on the right. Just keep getting more\n",
    "    // call expressions and grouping them on the left.\n",
    "    while (true) {\n",
    "        if (lexer.peek() === \"(\") {\n",
    "            lexer.next();\n",
    "            const argument = parseExpr(lexer);\n",
    "            if (lexer.next() !== \")\") {\n",
    "                throw new Error(\"Missing close parenthesis\");\n",
    "            }\n",
    "\n",
    "            func = {\n",
    "                tag: \"CALL\",\n",
    "                func: func,\n",
    "                argument: argument,\n",
    "            };\n",
    "        } else {\n",
    "            break;\n",
    "        }\n",
    "    }\n",
    "\n",
    "    return func;\n",
    "}\n",
    "\n",
    "function parseAtom(lexer: TokenStream): Expr {\n",
    "    const token = lexer.next();\n",
    "    if (typeof token === \"object\") {\n",
    "        if (token.tag === \"NUMBER\") {\n",
    "            return token;\n",
    "        }\n",
    "        if (token.tag === \"IDENTIFIER\") {\n",
    "            return token;\n",
    "        }\n",
    "    }\n",
    "\n",
    "    if (token === \"(\") {\n",
    "        const expr = parseExpr(lexer);\n",
    "        if (lexer.next() !== \")\") {\n",
    "            throw new Error(\"Missing close parenthesis\");\n",
    "        }\n",
    "\n",
    "        return expr;\n",
    "    }\n",
    "\n",
    "    throw new Error(\"Can't parse token: \" + JSON.stringify(token));\n",
    "}\n"
   ]
  },
  {
   "cell_type": "code",
   "execution_count": 45,
   "id": "6e5146e0",
   "metadata": {
    "scrolled": true
   },
   "outputs": [
    {
     "name": "stdout",
     "output_type": "stream",
     "text": [
      "{\n",
      "  tag: \u001b[32m'CALL'\u001b[39m,\n",
      "  func: {\n",
      "    tag: \u001b[32m'FUNCTION'\u001b[39m,\n",
      "    parameter: \u001b[32m'x'\u001b[39m,\n",
      "    body: { tag: \u001b[32m'BINARY'\u001b[39m, operator: \u001b[32m'+'\u001b[39m, left: \u001b[36m[Object]\u001b[39m, right: \u001b[36m[Object]\u001b[39m }\n",
      "  },\n",
      "  argument: { tag: \u001b[32m'NUMBER'\u001b[39m, value: \u001b[33m5\u001b[39m }\n",
      "}\n"
     ]
    }
   ],
   "source": [
    "parse(\"(λx => x + 1)(5)\");"
   ]
  },
  {
   "cell_type": "code",
   "execution_count": 46,
   "id": "35850d4a",
   "metadata": {},
   "outputs": [
    {
     "data": {
      "text/html": [
       "\n",
       "<style>\n",
       "    #mydiv990818b2-405e-4745-816b-b9ceca36b7b4 {\n",
       "        width: 800px;\n",
       "        height: 350px;\n",
       "        top: 0px;\n",
       "        left: 0px;\n",
       "    }\n",
       "</style>\n",
       "<div id=\"mydiv990818b2-405e-4745-816b-b9ceca36b7b4\"></div>\n"
      ]
     },
     "metadata": {},
     "output_type": "display_data"
    },
    {
     "data": {
      "text/html": [
       "\n",
       "<script>\n",
       " (function(element) {\n",
       "     require(['cytoscape'], function(cytoscape) {   \n",
       "        var cy = cytoscape({\n",
       "         container: document.getElementById('mydiv990818b2-405e-4745-816b-b9ceca36b7b4'),\n",
       "         style: [\n",
       "{\n",
       "  selector: 'node',\n",
       "  css: {\n",
       "    'class': \".bx--tree\",\n",
       "    'label': 'data(label)',\n",
       "    'height': '10px',\n",
       "    'width': '10px',\n",
       "  }\n",
       "},\n",
       "{\n",
       "  selector: 'edge',\n",
       "  css: {\n",
       "    'width': 3,\n",
       "    // 'line-color': '#ccc123',\n",
       "    'curve-style': 'bezier',\n",
       "    'target-arrow-shape': 'triangle',\n",
       "    'target-arrow-fill': 'filled',\n",
       "    'arrow-scale': 1,\n",
       "  }\n",
       "}\n",
       "],\n",
       "         layout: \n",
       "{\n",
       "  name: 'preset'\n",
       "}\n",
       ",\n",
       "         elements: [\n",
       "  { data: { id: 'call1', label: 'call' }, position: { x: 0, y: 0 } },\n",
       "  { data: { id: 'edge9', source: 'call1', target: 'function2' } },\n",
       "  { data: { id: 'edge11', source: 'call1', target: 'number10' } },\n",
       "  {\n",
       "    data: { id: 'function2', label: 'λ(x)' },\n",
       "    position: { x: -100, y: 50 }\n",
       "  },\n",
       "  { data: { id: 'edge8', source: 'function2', target: 'binary3' } },\n",
       "  {\n",
       "    data: { id: 'binary3', label: '+' },\n",
       "    position: { x: -100, y: 100 }\n",
       "  },\n",
       "  { data: { id: 'edge5', source: 'binary3', target: 'identifier4' } },\n",
       "  { data: { id: 'edge7', source: 'binary3', target: 'number6' } },\n",
       "  {\n",
       "    data: { id: 'identifier4', label: 'x' },\n",
       "    position: { x: -133.33333333333334, y: 150 }\n",
       "  },\n",
       "  {\n",
       "    data: { id: 'number6', label: 1 },\n",
       "    position: { x: -66.66666666666666, y: 150 }\n",
       "  },\n",
       "  { data: { id: 'number10', label: 5 }, position: { x: 100, y: 50 } }\n",
       "]\n",
       "         });\n",
       "     });\n",
       " })(this.element);\n",
       "</script>\n"
      ]
     },
     "metadata": {},
     "output_type": "display_data"
    }
   ],
   "source": [
    "drawProg(\"(λx => x + 1)(5)\");"
   ]
  },
  {
   "cell_type": "markdown",
   "id": "29042ff7",
   "metadata": {},
   "source": [
    "Two-parameter function:"
   ]
  },
  {
   "cell_type": "code",
   "execution_count": 47,
   "id": "86091d93",
   "metadata": {},
   "outputs": [
    {
     "name": "stdout",
     "output_type": "stream",
     "text": [
      "{\n",
      "  tag: \u001b[32m'FUNCTION'\u001b[39m,\n",
      "  parameter: \u001b[32m'a'\u001b[39m,\n",
      "  body: {\n",
      "    tag: \u001b[32m'FUNCTION'\u001b[39m,\n",
      "    parameter: \u001b[32m'b'\u001b[39m,\n",
      "    body: { tag: \u001b[32m'BINARY'\u001b[39m, operator: \u001b[32m'+'\u001b[39m, left: \u001b[36m[Object]\u001b[39m, right: \u001b[36m[Object]\u001b[39m }\n",
      "  }\n",
      "}\n"
     ]
    }
   ],
   "source": [
    "parse(\"λa => λb => a + b\");"
   ]
  },
  {
   "cell_type": "code",
   "execution_count": 48,
   "id": "c3332360",
   "metadata": {},
   "outputs": [
    {
     "data": {
      "text/html": [
       "\n",
       "<style>\n",
       "    #mydiv1cc7a9ce-4ab1-41ff-92d6-7c09cc17c3b8 {\n",
       "        width: 800px;\n",
       "        height: 350px;\n",
       "        top: 0px;\n",
       "        left: 0px;\n",
       "    }\n",
       "</style>\n",
       "<div id=\"mydiv1cc7a9ce-4ab1-41ff-92d6-7c09cc17c3b8\"></div>\n"
      ]
     },
     "metadata": {},
     "output_type": "display_data"
    },
    {
     "data": {
      "text/html": [
       "\n",
       "<script>\n",
       " (function(element) {\n",
       "     require(['cytoscape'], function(cytoscape) {   \n",
       "        var cy = cytoscape({\n",
       "         container: document.getElementById('mydiv1cc7a9ce-4ab1-41ff-92d6-7c09cc17c3b8'),\n",
       "         style: [\n",
       "{\n",
       "  selector: 'node',\n",
       "  css: {\n",
       "    'class': \".bx--tree\",\n",
       "    'label': 'data(label)',\n",
       "    'height': '10px',\n",
       "    'width': '10px',\n",
       "  }\n",
       "},\n",
       "{\n",
       "  selector: 'edge',\n",
       "  css: {\n",
       "    'width': 3,\n",
       "    // 'line-color': '#ccc123',\n",
       "    'curve-style': 'bezier',\n",
       "    'target-arrow-shape': 'triangle',\n",
       "    'target-arrow-fill': 'filled',\n",
       "    'arrow-scale': 1,\n",
       "  }\n",
       "}\n",
       "],\n",
       "         layout: \n",
       "{\n",
       "  name: 'preset'\n",
       "}\n",
       ",\n",
       "         elements: [\n",
       "  {\n",
       "    data: { id: 'function1', label: 'λ(a)' },\n",
       "    position: { x: 0, y: 0 }\n",
       "  },\n",
       "  { data: { id: 'edge9', source: 'function1', target: 'function2' } },\n",
       "  {\n",
       "    data: { id: 'function2', label: 'λ(b)' },\n",
       "    position: { x: 0, y: 50 }\n",
       "  },\n",
       "  { data: { id: 'edge8', source: 'function2', target: 'binary3' } },\n",
       "  { data: { id: 'binary3', label: '+' }, position: { x: 0, y: 100 } },\n",
       "  { data: { id: 'edge5', source: 'binary3', target: 'identifier4' } },\n",
       "  { data: { id: 'edge7', source: 'binary3', target: 'identifier6' } },\n",
       "  {\n",
       "    data: { id: 'identifier4', label: 'a' },\n",
       "    position: { x: -33.333333333333336, y: 150 }\n",
       "  },\n",
       "  {\n",
       "    data: { id: 'identifier6', label: 'b' },\n",
       "    position: { x: 33.333333333333336, y: 150 }\n",
       "  }\n",
       "]\n",
       "         });\n",
       "     });\n",
       " })(this.element);\n",
       "</script>\n"
      ]
     },
     "metadata": {},
     "output_type": "display_data"
    }
   ],
   "source": [
    "drawProg(\"λa => λb => a + b\");"
   ]
  },
  {
   "cell_type": "markdown",
   "id": "71cd8796",
   "metadata": {},
   "source": [
    "# Traversing AST\n",
    "\n",
    "Let's convert an AST to a string."
   ]
  },
  {
   "cell_type": "code",
   "execution_count": 49,
   "id": "523ffbc7",
   "metadata": {},
   "outputs": [],
   "source": [
    "/**\n",
    " * Returns the string representation of the expression, for debugging.\n",
    " */\n",
    "function exprToString(expr: Expr): string {\n",
    "    switch (expr.tag) {\n",
    "        case \"IDENTIFIER\":\n",
    "            return expr.name;\n",
    "        case \"BINARY\":\n",
    "            return \"(\" + exprToString(expr.left) + expr.operator + exprToString(expr.right) + \")\";\n",
    "        case \"CONDITIONAL\":\n",
    "            return \"(\" + exprToString(expr.condExpr) + \"?\" + exprToString(expr.thenExpr) + \":\" + exprToString(expr.elseExpr);\n",
    "        case \"FUNCTION\":\n",
    "            return \"(λ\" + expr.parameter + \"=>\" + exprToString(expr.body) + \")\";\n",
    "        case \"CALL\":\n",
    "            return exprToString(expr.func) + \"(\" + exprToString(expr.argument) + \")\";\n",
    "        case \"NUMBER\":\n",
    "            return expr.value.toString();\n",
    "    }\n",
    "}"
   ]
  },
  {
   "cell_type": "code",
   "execution_count": 50,
   "id": "669bbd3b",
   "metadata": {},
   "outputs": [
    {
     "name": "stdout",
     "output_type": "stream",
     "text": [
      "(λx=>(x+1))(5)\n"
     ]
    }
   ],
   "source": [
    "exprToString(parse(\"(λx=>(x+1))(5)\"));"
   ]
  },
  {
   "cell_type": "code",
   "execution_count": 51,
   "id": "6d686a65",
   "metadata": {},
   "outputs": [
    {
     "name": "stdout",
     "output_type": "stream",
     "text": [
      "(λf=>(λx=>(λy=>f(x(x))(y)))((λa=>(λb=>f(a(a))(b)))))((λfact=>(λn=>(n?(n*fact((n-1))):1)))(5)\n"
     ]
    }
   ],
   "source": [
    "exprToString(parse(\"(λf => (λx => λy => f(x(x))(y)) (λa => λb => f(a(a))(b)))(λfact => λn => n ? n*fact(n - 1) : 1)(5)\"));"
   ]
  },
  {
   "cell_type": "markdown",
   "id": "acf37bbd",
   "metadata": {},
   "source": [
    "# Summary\n",
    "\n",
    "* **Lexing** turns a string into a stream of **tokens**.\n",
    "* **Parsing** turns those tokens into an **abstract syntax tree (AST)**.\n",
    "* The AST is given to the interpreter, transpiler, or compiler.\n",
    "* Next time: **Interpreting** the AST to get the value of the expression."
   ]
  },
  {
   "cell_type": "code",
   "execution_count": null,
   "id": "0bc12457",
   "metadata": {},
   "outputs": [],
   "source": []
  }
 ],
 "metadata": {
  "kernelspec": {
   "display_name": "TypeScript",
   "language": "typescript",
   "name": "typescript"
  },
  "language_info": {
   "codemirror_mode": {
    "mode": "typescript",
    "name": "javascript",
    "typescript": true
   },
   "file_extension": ".ts",
   "mimetype": "text/typescript",
   "name": "typescript",
   "version": "3.7.2"
  }
 },
 "nbformat": 4,
 "nbformat_minor": 5
}
