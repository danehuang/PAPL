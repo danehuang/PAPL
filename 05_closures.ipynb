{
 "cells": [
  {
   "cell_type": "code",
   "execution_count": 1,
   "id": "06ba0292",
   "metadata": {},
   "outputs": [
    {
     "data": {
      "text/html": [
       "\n",
       "<script>\n",
       "require.config({\n",
       "     paths: {\n",
       "     cytoscape: 'https://cdnjs.cloudflare.com/ajax/libs/cytoscape/3.19.0/cytoscape.min'\n",
       "}});\n",
       "</script>\n",
       "  "
      ]
     },
     "metadata": {},
     "output_type": "display_data"
    },
    {
     "data": {
      "text/html": [
       "\n",
       "  <link rel=\"stylesheet\" href=\"node_modules/carbon-components/css/carbon-components.css\">\n",
       "  "
      ]
     },
     "metadata": {},
     "output_type": "display_data"
    }
   ],
   "source": [
    "import { requireCytoscape, requireCarbon } from \"./lib/draw\";\n",
    "\n",
    "requireCytoscape();\n",
    "requireCarbon();"
   ]
  },
  {
   "cell_type": "markdown",
   "id": "4e3fdddc",
   "metadata": {},
   "source": [
    "# Closures and First-Class Functions "
   ]
  },
  {
   "cell_type": "markdown",
   "id": "1314c5c1",
   "metadata": {},
   "source": [
    "## Where Were We?\n",
    "\n",
    "1. **Language primitives** (i.e., building blocks of languages)\n",
    "    * Last time: first-class functions and anonymous functions\n",
    "    * This time: **closures**\n",
    "2. Language paradigms (i.e., combinations of language primitives)\n",
    "3. Building a language (i.e., designing your own language)"
   ]
  },
  {
   "cell_type": "markdown",
   "id": "c13149d4",
   "metadata": {},
   "source": [
    "## Goal\n",
    "\n",
    "1. Learn about **closures** and how they capture the idea of state in first-class functions.\n",
    "2. Learn about **scope**.\n",
    "3. One important application of closures is **callbacks**."
   ]
  },
  {
   "cell_type": "markdown",
   "id": "ea6d1499",
   "metadata": {},
   "source": [
    "## Outline\n",
    "\n",
    "- Closures by example.\n",
    "- What exactly is a closure: environment dictionary + code.\n",
    "- Using closures."
   ]
  },
  {
   "cell_type": "markdown",
   "id": "2536a08a",
   "metadata": {},
   "source": [
    "## Closures by Example"
   ]
  },
  {
   "cell_type": "markdown",
   "id": "e8efb20b",
   "metadata": {},
   "source": [
    "#### Example 1\n",
    "\n",
    "A function whose parameter is the same as another variable in scope."
   ]
  },
  {
   "cell_type": "code",
   "execution_count": 2,
   "id": "3c394bd2",
   "metadata": {},
   "outputs": [],
   "source": [
    "const x = 1;\n",
    "function f(x: number): number {\n",
    "    return x + 1;\n",
    "}"
   ]
  },
  {
   "cell_type": "code",
   "execution_count": 3,
   "id": "c54449ac",
   "metadata": {},
   "outputs": [
    {
     "name": "stdout",
     "output_type": "stream",
     "text": [
      "\u001b[33m3\u001b[39m\n"
     ]
    }
   ],
   "source": [
    "f(2) // Question: does this return 3 or 2?"
   ]
  },
  {
   "cell_type": "markdown",
   "id": "d8add336",
   "metadata": {},
   "source": [
    "- The function parameter refers to the closest variable in the text. This is called **lexical scoping**.\n",
    "- When two variables are named the same, we say that the closet variable in the text **shadows** the further variable."
   ]
  },
  {
   "cell_type": "code",
   "execution_count": 4,
   "id": "62f149f0",
   "metadata": {},
   "outputs": [],
   "source": [
    "// The quivalent code\n",
    "const x1 = 1;\n",
    "function f(x2: number): number {\n",
    "    return x2 + 1;\n",
    "}"
   ]
  },
  {
   "cell_type": "markdown",
   "id": "0ed299fd",
   "metadata": {},
   "source": [
    "#### Example 2\n",
    "\n",
    "A function within a function with the same variable names."
   ]
  },
  {
   "cell_type": "code",
   "execution_count": 5,
   "id": "b5939f01",
   "metadata": {},
   "outputs": [],
   "source": [
    "const x = 1;\n",
    "function f(x: number): number {\n",
    "    function g(x: number): number {\n",
    "        return x + 2;\n",
    "    }\n",
    "    return g(x + 1);\n",
    "}"
   ]
  },
  {
   "cell_type": "code",
   "execution_count": 6,
   "id": "9855da63",
   "metadata": {},
   "outputs": [
    {
     "name": "stdout",
     "output_type": "stream",
     "text": [
      "\u001b[33m6\u001b[39m\n"
     ]
    }
   ],
   "source": [
    "f(3) // Question: what does this return?"
   ]
  },
  {
   "cell_type": "code",
   "execution_count": 7,
   "id": "716f269c",
   "metadata": {},
   "outputs": [],
   "source": [
    "// The equivalent code\n",
    "const x1 = 1\n",
    "function f(x2: number): number {\n",
    "    function g(x3: number): number {\n",
    "        return x3 + 2;\n",
    "    }\n",
    "    return g(x2 + 1);\n",
    "}"
   ]
  },
  {
   "cell_type": "markdown",
   "id": "2d9161d8",
   "metadata": {},
   "source": [
    "#### Example 3\n",
    "\n",
    "Returning a function with the same variable names."
   ]
  },
  {
   "cell_type": "code",
   "execution_count": 8,
   "id": "68a4034e",
   "metadata": {},
   "outputs": [],
   "source": [
    "const x = 1;\n",
    "function f(x: number): (x: number) => number {\n",
    "    return (x: number) => {\n",
    "        return x + 2;\n",
    "    };\n",
    "}"
   ]
  },
  {
   "cell_type": "code",
   "execution_count": 9,
   "id": "d1ad78ac",
   "metadata": {},
   "outputs": [
    {
     "name": "stdout",
     "output_type": "stream",
     "text": [
      "\u001b[36m[Function (anonymous)]\u001b[39m\n"
     ]
    }
   ],
   "source": [
    "f(2);"
   ]
  },
  {
   "cell_type": "code",
   "execution_count": 10,
   "id": "9eff8805",
   "metadata": {},
   "outputs": [
    {
     "name": "stdout",
     "output_type": "stream",
     "text": [
      "\u001b[33m5\u001b[39m\n"
     ]
    }
   ],
   "source": [
    "f(1)(3) // Question: what does this return?"
   ]
  },
  {
   "cell_type": "code",
   "execution_count": 11,
   "id": "e3a5018e",
   "metadata": {},
   "outputs": [],
   "source": [
    "// The equivalent code\n",
    "const x1 = 1;\n",
    "function f(x2: number): (x4: number) => number {\n",
    "    return (x3: number) => x3 + 2;\n",
    "}"
   ]
  },
  {
   "cell_type": "markdown",
   "id": "0a206aad",
   "metadata": {},
   "source": [
    "#### Example 4\n",
    "\n",
    "Defining an inner function with the same parameter names."
   ]
  },
  {
   "cell_type": "code",
   "execution_count": 12,
   "id": "59d1e1ad",
   "metadata": {},
   "outputs": [],
   "source": [
    "const y = 3;\n",
    "function f(x: number): number {\n",
    "    // const g = (x: number, y: number) => x + y;\n",
    "    function g(x: number, y: number) {\n",
    "        return x + y;\n",
    "    }\n",
    "    return g(x, 1);\n",
    "}"
   ]
  },
  {
   "cell_type": "code",
   "execution_count": 13,
   "id": "8de383f4",
   "metadata": {},
   "outputs": [
    {
     "name": "stdout",
     "output_type": "stream",
     "text": [
      "\u001b[33m2\u001b[39m\n"
     ]
    }
   ],
   "source": [
    "f(1) // Question: what does this return?"
   ]
  },
  {
   "cell_type": "code",
   "execution_count": 14,
   "id": "bf437ff8",
   "metadata": {},
   "outputs": [],
   "source": [
    "// The equivalent code\n",
    "const y1 = 3;\n",
    "function f(x1: number): number {\n",
    "    function g(x2: number, y2: number) {\n",
    "        return x2 + y2;\n",
    "    }\n",
    "    return g(x1, 1);\n",
    "}"
   ]
  },
  {
   "cell_type": "markdown",
   "id": "231062e5",
   "metadata": {},
   "source": [
    "#### Example 5\n",
    "\n",
    "Our first example of a **closure**."
   ]
  },
  {
   "cell_type": "code",
   "execution_count": 15,
   "id": "10fb224e",
   "metadata": {},
   "outputs": [],
   "source": [
    "const y = 3;\n",
    "function f(x: number): number {\n",
    "    return x + y; // Question: what does this y refer to? Is it undefined?\n",
    "}"
   ]
  },
  {
   "cell_type": "code",
   "execution_count": 16,
   "id": "cb25d1f8",
   "metadata": {},
   "outputs": [
    {
     "name": "stdout",
     "output_type": "stream",
     "text": [
      "\u001b[33m5\u001b[39m\n"
     ]
    }
   ],
   "source": [
    "f(2) // Question: what does this return?"
   ]
  },
  {
   "cell_type": "code",
   "execution_count": 17,
   "id": "5a9e298b",
   "metadata": {},
   "outputs": [
    {
     "name": "stdout",
     "output_type": "stream",
     "text": [
      "\u001b[33m5\u001b[39m\n"
     ]
    }
   ],
   "source": [
    "// Equivalent code\n",
    "const y = 3;\n",
    "// Create an environment that saves all the variables referred to in f's body\n",
    "const env: { [id: string]: any } = { \n",
    "    \"y\": y\n",
    "};\n",
    "function f(env: { [id: string]: any }, x: number): number {\n",
    "    return x + env[\"y\"];\n",
    "}\n",
    "f(env, 2)"
   ]
  },
  {
   "cell_type": "markdown",
   "id": "355441a7",
   "metadata": {},
   "source": [
    "- The function `f` is said to **capture** the variable `y`. That functions can capture variables should remind you of **references**. It let's you get a handle on things in scope."
   ]
  },
  {
   "cell_type": "markdown",
   "id": "75c5eb91",
   "metadata": {},
   "source": [
    "A **closure**:\n",
    "1. Is some code, i.e., a function\n",
    "2. And an environment, i.e., a dictionary that tells the function how to interpret all the variables that are not in it's local scope."
   ]
  },
  {
   "cell_type": "markdown",
   "id": "6e6e0728",
   "metadata": {},
   "source": [
    "#### Example 6\n",
    "\n",
    "Another closure."
   ]
  },
  {
   "cell_type": "code",
   "execution_count": 18,
   "id": "eb63131f",
   "metadata": {},
   "outputs": [],
   "source": [
    "const y = 3;\n",
    "const z = [1, 2];\n",
    "function f(x: number): number {\n",
    "    return x + y + z[0] + z[1];\n",
    "}"
   ]
  },
  {
   "cell_type": "code",
   "execution_count": 19,
   "id": "262cc624",
   "metadata": {},
   "outputs": [
    {
     "name": "stdout",
     "output_type": "stream",
     "text": [
      "\u001b[33m7\u001b[39m\n"
     ]
    }
   ],
   "source": [
    "f(1) // Question: what does this return?"
   ]
  },
  {
   "cell_type": "code",
   "execution_count": 20,
   "id": "965702fc",
   "metadata": {},
   "outputs": [
    {
     "name": "stdout",
     "output_type": "stream",
     "text": [
      "\u001b[33m7\u001b[39m\n"
     ]
    }
   ],
   "source": [
    "// Equivalent code\n",
    "const y = 3;\n",
    "const z = [1, 2];\n",
    "// Create an environment that saves all the variables referred to in f's body\n",
    "const env: { [id: string]: any } = { \n",
    "    \"y\": y,\n",
    "    \"z\": z \n",
    "};\n",
    "function f(env: { [id: string]: any }, x: number): number {\n",
    "    return x + env[\"y\"] + env[\"z\"][0] + env[\"z\"][1];\n",
    "}\n",
    "f(env, 1)"
   ]
  },
  {
   "cell_type": "markdown",
   "id": "e90eaf97",
   "metadata": {},
   "source": [
    "#### Example 7\n",
    "\n",
    "A closure within a closure."
   ]
  },
  {
   "cell_type": "code",
   "execution_count": 21,
   "id": "d101ff5a",
   "metadata": {},
   "outputs": [],
   "source": [
    "const y = 3;\n",
    "const z = [1, 2];\n",
    "function f(x: number): (x: number) => number {\n",
    "    const z = [3, 4];\n",
    "    function g(x: number): number {\n",
    "        return x + y + z[0] + z[1];\n",
    "    }\n",
    "    return g;\n",
    "}"
   ]
  },
  {
   "cell_type": "code",
   "execution_count": 22,
   "id": "4b498b59",
   "metadata": {},
   "outputs": [
    {
     "name": "stdout",
     "output_type": "stream",
     "text": [
      "\u001b[33m12\u001b[39m\n"
     ]
    }
   ],
   "source": [
    "f(1)(2)  // Question: what does this return?"
   ]
  },
  {
   "cell_type": "code",
   "execution_count": 23,
   "id": "7c90a69c",
   "metadata": {},
   "outputs": [],
   "source": [
    "// Equivalent code\n",
    "const y = 3;\n",
    "const z1 = [1, 2]\n",
    "const env1 = { \"y\": y };\n",
    "function f(_env1: { [id: string]: any }, x1: number): (x: number) => number {\n",
    "    const z2 = [3, 4];\n",
    "    const env2 = { \"z2\": z2 };\n",
    "    function g(_env2: { [id: string]: any }, x: number): number {\n",
    "        return x + _env1[\"y\"] + _env2[\"z2\"][0] + _env2[\"z2\"][1];\n",
    "    }\n",
    "    return (x: number) => g(env2, x);\n",
    "}"
   ]
  },
  {
   "cell_type": "code",
   "execution_count": 24,
   "id": "edd968d2",
   "metadata": {},
   "outputs": [
    {
     "name": "stdout",
     "output_type": "stream",
     "text": [
      "\u001b[33m12\u001b[39m\n"
     ]
    }
   ],
   "source": [
    "f(env1, 1)(2)"
   ]
  },
  {
   "cell_type": "markdown",
   "id": "78817910",
   "metadata": {},
   "source": [
    "#### Example 8\n",
    "\n",
    "Does any of this change if we move from `const` to `let`?"
   ]
  },
  {
   "cell_type": "code",
   "execution_count": 25,
   "id": "68a64b0a",
   "metadata": {},
   "outputs": [
    {
     "name": "stdout",
     "output_type": "stream",
     "text": [
      "\u001b[33m3\u001b[39m\n",
      "\u001b[33m3\u001b[39m\n",
      "\u001b[33m3\u001b[39m\n"
     ]
    }
   ],
   "source": [
    "let y = 1;\n",
    "function f(): (x: number) => number {\n",
    "    let y = 2;\n",
    "    function g(x: number): number {\n",
    "        return x + y;\n",
    "    }\n",
    "    return g;\n",
    "}\n",
    "\n",
    "console.log(f()(1));\n",
    "y = 5;\n",
    "console.log(f()(1));\n",
    "y = 6;\n",
    "console.log(f()(1));"
   ]
  },
  {
   "cell_type": "markdown",
   "id": "1d330f3f",
   "metadata": {},
   "source": [
    "#### Example 9\n",
    "\n",
    "Does any of this change if we move from `const` to `let`?"
   ]
  },
  {
   "cell_type": "code",
   "execution_count": 26,
   "id": "3e7eff3c",
   "metadata": {},
   "outputs": [
    {
     "name": "stdout",
     "output_type": "stream",
     "text": [
      "\u001b[33m5\u001b[39m\n",
      "\u001b[33m5\u001b[39m\n",
      "\u001b[33m5\u001b[39m\n"
     ]
    }
   ],
   "source": [
    "let y = 1;\n",
    "function f(): (x: number) => number {\n",
    "    let y = 2;\n",
    "    function g(x: number): number {\n",
    "        return x + y;\n",
    "    }\n",
    "    y = 4; // Changing y here\n",
    "    return g;\n",
    "}\n",
    "\n",
    "console.log(f()(1));\n",
    "y = 5;\n",
    "console.log(f()(1));\n",
    "y = 6;\n",
    "console.log(f()(1));"
   ]
  },
  {
   "cell_type": "markdown",
   "id": "6dfdb188",
   "metadata": {},
   "source": [
    "- The function `g` captures the variable `y = 2`.\n",
    "- When it changed to `y = 4`, the function g still has access to `y`."
   ]
  },
  {
   "cell_type": "markdown",
   "id": "c7fed09b",
   "metadata": {},
   "source": [
    "#### Example 10\n"
   ]
  },
  {
   "cell_type": "code",
   "execution_count": 27,
   "id": "710e0664",
   "metadata": {},
   "outputs": [],
   "source": [
    "const arr = [];\n",
    "for (let i = 0; i < 4; i++) {\n",
    "    arr.push((x: number) => x + i);\n",
    "}"
   ]
  },
  {
   "cell_type": "code",
   "execution_count": 28,
   "id": "3d2eac52",
   "metadata": {},
   "outputs": [
    {
     "name": "stdout",
     "output_type": "stream",
     "text": [
      "\u001b[33m1\u001b[39m\n",
      "\u001b[33m2\u001b[39m\n",
      "\u001b[33m3\u001b[39m\n",
      "\u001b[33m4\u001b[39m\n"
     ]
    }
   ],
   "source": [
    "// What is printed?\n",
    "console.log(arr[0](1));\n",
    "console.log(arr[1](1));\n",
    "console.log(arr[2](1));\n",
    "console.log(arr[3](1));"
   ]
  },
  {
   "cell_type": "markdown",
   "id": "49f71ec4",
   "metadata": {},
   "source": [
    "#### Example 11"
   ]
  },
  {
   "cell_type": "code",
   "execution_count": 29,
   "id": "a4823ef1",
   "metadata": {},
   "outputs": [],
   "source": [
    "const arr = [];\n",
    "let i = 0; // I pulled this outside of the loop\n",
    "for (i = 0; i < 4; i++) {\n",
    "    arr.push((x: number) => x + i);\n",
    "}"
   ]
  },
  {
   "cell_type": "code",
   "execution_count": 30,
   "id": "342e3997",
   "metadata": {},
   "outputs": [
    {
     "name": "stdout",
     "output_type": "stream",
     "text": [
      "\u001b[33m5\u001b[39m\n",
      "\u001b[33m5\u001b[39m\n",
      "\u001b[33m5\u001b[39m\n",
      "\u001b[33m5\u001b[39m\n"
     ]
    }
   ],
   "source": [
    "// What is printed?\n",
    "console.log(arr[0](1));\n",
    "console.log(arr[1](1));\n",
    "console.log(arr[2](1));\n",
    "console.log(arr[3](1));"
   ]
  },
  {
   "cell_type": "markdown",
   "id": "9447beb1",
   "metadata": {},
   "source": [
    "#### Example 12"
   ]
  },
  {
   "cell_type": "code",
   "execution_count": 31,
   "id": "a0a35e43",
   "metadata": {},
   "outputs": [],
   "source": [
    "const range = [0, 1, 2, 3];\n",
    "const arr = [];\n",
    "for (const y of range) {\n",
    "    arr.push((x: number) => x + y);\n",
    "}"
   ]
  },
  {
   "cell_type": "code",
   "execution_count": 32,
   "id": "bbecef29",
   "metadata": {},
   "outputs": [
    {
     "name": "stdout",
     "output_type": "stream",
     "text": [
      "\u001b[33m1\u001b[39m\n",
      "\u001b[33m2\u001b[39m\n",
      "\u001b[33m3\u001b[39m\n",
      "\u001b[33m4\u001b[39m\n"
     ]
    }
   ],
   "source": [
    "// What is printed?\n",
    "console.log(arr[0](1));\n",
    "console.log(arr[1](1));\n",
    "console.log(arr[2](1));\n",
    "console.log(arr[3](1));"
   ]
  },
  {
   "cell_type": "markdown",
   "id": "c90ad431",
   "metadata": {},
   "source": [
    "#### Example 13\n",
    "\n",
    "Var vs. let"
   ]
  },
  {
   "cell_type": "code",
   "execution_count": 33,
   "id": "51178e60",
   "metadata": {},
   "outputs": [],
   "source": [
    "const arr = [];\n",
    "for (var i = 0; i < 4; i++) {\n",
    "    arr.push((x: number) => x + i);\n",
    "}"
   ]
  },
  {
   "cell_type": "code",
   "execution_count": 34,
   "id": "70d45501",
   "metadata": {},
   "outputs": [
    {
     "name": "stdout",
     "output_type": "stream",
     "text": [
      "\u001b[33m5\u001b[39m\n",
      "\u001b[33m5\u001b[39m\n",
      "\u001b[33m5\u001b[39m\n",
      "\u001b[33m5\u001b[39m\n"
     ]
    }
   ],
   "source": [
    "console.log(arr[0](1));\n",
    "console.log(arr[1](1));\n",
    "console.log(arr[2](1));\n",
    "console.log(arr[3](1));"
   ]
  },
  {
   "cell_type": "markdown",
   "id": "66c6199a",
   "metadata": {},
   "source": [
    "#### DO NOT USE VAR!"
   ]
  },
  {
   "cell_type": "markdown",
   "id": "4e160b23",
   "metadata": {},
   "source": [
    "## What's the big deal with Closures?"
   ]
  },
  {
   "cell_type": "markdown",
   "id": "1ca7eff0",
   "metadata": {},
   "source": [
    "### Application 1: Closures and Encapsulation\n",
    "\n",
    "- Recall that one of the benefits of Objects and Classes was that we could hide data."
   ]
  },
  {
   "cell_type": "code",
   "execution_count": 35,
   "id": "0ecd626c",
   "metadata": {},
   "outputs": [],
   "source": [
    "class Counter {\n",
    "    private count: number;\n",
    "    \n",
    "    constructor() {\n",
    "        this.count = 0;\n",
    "    }\n",
    "    \n",
    "    increment() {\n",
    "        this.count += 1;\n",
    "        return this.count;\n",
    "    }\n",
    "    \n",
    "    getCount() {\n",
    "        return this.count;\n",
    "    }\n",
    "}"
   ]
  },
  {
   "cell_type": "code",
   "execution_count": 36,
   "id": "60a6b81c",
   "metadata": {},
   "outputs": [
    {
     "name": "stdout",
     "output_type": "stream",
     "text": [
      "\u001b[33m1\u001b[39m\n",
      "\u001b[33m2\u001b[39m\n",
      "\u001b[33m3\u001b[39m\n"
     ]
    }
   ],
   "source": [
    "const counter = new Counter();\n",
    "console.log(counter.increment());\n",
    "console.log(counter.increment());\n",
    "console.log(counter.increment());"
   ]
  },
  {
   "cell_type": "code",
   "execution_count": 37,
   "id": "207c81d3",
   "metadata": {},
   "outputs": [
    {
     "name": "stderr",
     "output_type": "stream",
     "text": [
      "3:13 - Property 'count' is private and only accessible within class 'Counter'.\n"
     ]
    }
   ],
   "source": [
    "// This fails at compile-time because count is private\n",
    "try {\n",
    "    counter.count += 1;\n",
    "} catch (e) {\n",
    "    console.log(e);\n",
    "}"
   ]
  },
  {
   "cell_type": "code",
   "execution_count": 38,
   "id": "33653069",
   "metadata": {},
   "outputs": [
    {
     "name": "stdout",
     "output_type": "stream",
     "text": [
      "\u001b[33m4\u001b[39m\n"
     ]
    }
   ],
   "source": [
    "console.log(counter.increment());"
   ]
  },
  {
   "cell_type": "markdown",
   "id": "b4e7762f",
   "metadata": {},
   "source": [
    "#### Attempt with functions: Take 1"
   ]
  },
  {
   "cell_type": "code",
   "execution_count": 39,
   "id": "face83bc",
   "metadata": {},
   "outputs": [
    {
     "name": "stdout",
     "output_type": "stream",
     "text": [
      "\u001b[33m1\u001b[39m\n",
      "\u001b[33m2\u001b[39m\n",
      "\u001b[33m3\u001b[39m\n",
      "\u001b[33m5\u001b[39m\n"
     ]
    }
   ],
   "source": [
    "let count = 0;\n",
    "\n",
    "function increment() {\n",
    "    count += 1;\n",
    "    return count;\n",
    "}\n",
    "\n",
    "console.log(increment());\n",
    "console.log(increment());\n",
    "console.log(increment());\n",
    "count += 1;  // bad behavior, want to disallow\n",
    "console.log(increment());"
   ]
  },
  {
   "cell_type": "markdown",
   "id": "0fce5d31",
   "metadata": {},
   "source": [
    "- The issue is that count is still in scope. We could not hide the variable count.\n",
    "- What if we wanted two counters?"
   ]
  },
  {
   "cell_type": "markdown",
   "id": "b46acbd5",
   "metadata": {},
   "source": [
    "#### Attempt with functions: Take 2"
   ]
  },
  {
   "cell_type": "code",
   "execution_count": 40,
   "id": "8c0277f7",
   "metadata": {},
   "outputs": [],
   "source": [
    "type FunCounter = {\n",
    "    increment: () => void,\n",
    "    getCount: () => number\n",
    "};\n",
    "\n",
    "function makeCounter(): FunCounter {\n",
    "    let count = 0;\n",
    "    \n",
    "    function _increment() {\n",
    "        // Increment **captures** the variable count\n",
    "        count += 1;\n",
    "        return count;\n",
    "    }\n",
    "    \n",
    "    function _getCount() {\n",
    "        return count;\n",
    "    }\n",
    "    \n",
    "    return {\n",
    "        increment: _increment,\n",
    "        getCount: _getCount\n",
    "    };\n",
    "}"
   ]
  },
  {
   "cell_type": "code",
   "execution_count": 41,
   "id": "208bff8e",
   "metadata": {},
   "outputs": [
    {
     "name": "stdout",
     "output_type": "stream",
     "text": [
      "\u001b[33m1\u001b[39m\n",
      "\u001b[33m2\u001b[39m\n",
      "\u001b[33m3\u001b[39m\n"
     ]
    }
   ],
   "source": [
    "const counter = makeCounter();\n",
    "console.log(counter.increment());\n",
    "console.log(counter.increment());\n",
    "console.log(counter.increment());"
   ]
  },
  {
   "cell_type": "code",
   "execution_count": 42,
   "id": "2c50003c",
   "metadata": {},
   "outputs": [
    {
     "name": "stderr",
     "output_type": "stream",
     "text": [
      "3:13 - Property 'count' does not exist on type 'FunCounter'.\n"
     ]
    }
   ],
   "source": [
    "// This also fails at compile-time because count is private\n",
    "try {\n",
    "    counter.count += 1;\n",
    "} catch (e) {\n",
    "    console.log(e);\n",
    "}"
   ]
  },
  {
   "cell_type": "code",
   "execution_count": null,
   "id": "92c06071",
   "metadata": {},
   "outputs": [],
   "source": [
    "console.log(counter.increment());\n",
    "console.log(counter.getCount());"
   ]
  },
  {
   "cell_type": "markdown",
   "id": "0c6e36ae",
   "metadata": {},
   "source": [
    "#### Closure's are kind of like \"Objects\"\n",
    "\n",
    "- We just saw how to encode objects with first-class functions.\n",
    "- Crucially, we needed the ability to close over variables in a function's local scope.\n",
    "- Challenge: how would we encode something like inheritance?"
   ]
  },
  {
   "cell_type": "markdown",
   "id": "adb4581b",
   "metadata": {},
   "source": [
    "### Application 2: Closures and Callbacks\n",
    "\n",
    "- Closures are great for implementing **callbacks**: call this function when some event happens.\n",
    "- Events are commonly things such as user-input (e.g., clicks, typing).\n",
    "- We are in TypeScript, which is a superset of JavaScript, so we should have access to user-events from the browser.\n",
    "- Since we are in a Jupyter notebook, we will use our Jupyter notebook's ability to display raw HTML to illustrate this concept first."
   ]
  },
  {
   "cell_type": "code",
   "execution_count": 43,
   "id": "855e4da2",
   "metadata": {},
   "outputs": [],
   "source": [
    "import * as tslab from \"tslab\";"
   ]
  },
  {
   "cell_type": "code",
   "execution_count": 44,
   "id": "21af29fe",
   "metadata": {},
   "outputs": [
    {
     "data": {
      "text/html": [
       "\n",
       "<!-- This part is HTML -->\n",
       "<p onclick=\"callback(this)\">Click me to change my text color.</p>\n",
       "\n",
       "<!-- This part is TypeScript -->\n",
       "<script>\n",
       "let lastIdx = 0;\n",
       "const colors = ['red', 'green', 'blue'];\n",
       "\n",
       "function callback(elmnt) {\n",
       "    // This HTML element has a style.color property\n",
       "    // colors refers to the on in lexical scope and will be captured by callback.\n",
       "    // lastIdx refers to the one in lexical scope and will be captured by callback.\n",
       "    elmnt.style.color = colors[lastIdx];\n",
       "\n",
       "    lastIdx = (lastIdx + 1) % (colors.length);\n",
       "}\n",
       "</script>\n"
      ]
     },
     "metadata": {},
     "output_type": "display_data"
    }
   ],
   "source": [
    "tslab.display.html(`\n",
    "<!-- This part is HTML -->\n",
    "<p onclick=\"callback(this)\">Click me to change my text color.</p>\n",
    "\n",
    "<!-- This part is TypeScript -->\n",
    "<script>\n",
    "let lastIdx = 0;\n",
    "const colors = ['red', 'green', 'blue'];\n",
    "\n",
    "function callback(elmnt) {\n",
    "    // This HTML element has a style.color property\n",
    "    // colors refers to the on in lexical scope and will be captured by callback.\n",
    "    // lastIdx refers to the one in lexical scope and will be captured by callback.\n",
    "    elmnt.style.color = colors[lastIdx];\n",
    "\n",
    "    lastIdx = (lastIdx + 1) % (colors.length);\n",
    "}\n",
    "</script>\n",
    "`);"
   ]
  },
  {
   "cell_type": "markdown",
   "id": "16b88003",
   "metadata": {},
   "source": [
    "- Pretty cool right?\n",
    "- But ... we're programming with strings again. This should remind you of all the bad things with copy-and-paste.\n",
    "    * No syntax highlighting\n",
    "    * No static checking\n",
    "    * What if I can't modify the code?\n",
    "- How can we fix this?"
   ]
  },
  {
   "cell_type": "markdown",
   "id": "5ed84a2e",
   "metadata": {},
   "source": [
    "#### Closures to the rescue!"
   ]
  },
  {
   "cell_type": "code",
   "execution_count": 45,
   "id": "9fea52c0",
   "metadata": {},
   "outputs": [],
   "source": [
    "// Let's just package our code inside a function.\n",
    "function codeBlock() {\n",
    "    let lastIdx = 0;\n",
    "    const colors = ['red', 'green', 'blue'];\n",
    "\n",
    "    function callback(elmnt) {\n",
    "        // This HTML element has a style.color property\n",
    "        // colors refers to the on in lexical scope and will be captured by callback.\n",
    "        // lastIdx refers to the one in lexical scope and will be captured by callback.\n",
    "        elmnt.style.color = colors[lastIdx];\n",
    "        lastIdx = (lastIdx + 1) % (colors.length);\n",
    "    }\n",
    "    \n",
    "    return callback;\n",
    "}"
   ]
  },
  {
   "cell_type": "code",
   "execution_count": 46,
   "id": "e5fd22d2",
   "metadata": {},
   "outputs": [
    {
     "data": {
      "text/html": [
       "\n",
       "    <p onclick=\"callback(this)\">Click me to change my text color.</p>\n",
       "\n",
       "    <script>\n",
       "    // We won't understand this fully for now, but we are essentially using code to do the copy-paste for us.\n",
       "    function codeBlock() {\n",
       "    let lastIdx = 0;\n",
       "    const colors = ['red', 'green', 'blue'];\n",
       "    function callback(elmnt) {\n",
       "        // This HTML element has a style.color property\n",
       "        // colors refers to the on in lexical scope and will be captured by callback.\n",
       "        // lastIdx refers to the one in lexical scope and will be captured by callback.\n",
       "        elmnt.style.color = colors[lastIdx];\n",
       "        lastIdx = (lastIdx + 1) % (colors.length);\n",
       "    }\n",
       "    return callback;\n",
       "}\n",
       "    // Calling our closure will unpackage the function.\n",
       "    const callback = codeBlock();\n",
       "    </script>\n",
       "    "
      ]
     },
     "metadata": {},
     "output_type": "display_data"
    }
   ],
   "source": [
    "function displayHTMLWithCallback(closure) {\n",
    "    tslab.display.html(`\n",
    "    <p onclick=\"callback(this)\">Click me to change my text color.</p>\n",
    "\n",
    "    <script>\n",
    "    // We won't understand this fully for now, but we are essentially using code to do the copy-paste for us.\n",
    "    ${closure.toString()}\n",
    "    // Calling our closure will unpackage the function.\n",
    "    const callback = ${closure.name}();\n",
    "    </script>\n",
    "    `);    \n",
    "}\n",
    "\n",
    "displayHTMLWithCallback(codeBlock)"
   ]
  },
  {
   "cell_type": "markdown",
   "id": "01188411",
   "metadata": {},
   "source": [
    "### Application 3: Closures and Pure Functions"
   ]
  },
  {
   "cell_type": "code",
   "execution_count": 47,
   "id": "ede3b9db",
   "metadata": {},
   "outputs": [],
   "source": [
    "function pureAddArray(arr1: number[], arr2: number[]): number[] {\n",
    "    const copy = arr1.map((x) => x);  // Question: what does this code do?\n",
    "\n",
    "    function inplaceAdd(acc: number[]): void {\n",
    "        for (let i = 0; i < acc.length; i++) {\n",
    "            acc[i] += arr2[i];\n",
    "        }\n",
    "    }\n",
    "\n",
    "    inplaceAdd(copy);\n",
    "    return copy;\n",
    "}"
   ]
  },
  {
   "cell_type": "code",
   "execution_count": 48,
   "id": "7afd11be",
   "metadata": {},
   "outputs": [
    {
     "name": "stdout",
     "output_type": "stream",
     "text": [
      "[ \u001b[33m1\u001b[39m, \u001b[33m2\u001b[39m, \u001b[33m3\u001b[39m ]\n",
      "[ \u001b[33m2\u001b[39m, \u001b[33m4\u001b[39m, \u001b[33m6\u001b[39m ]\n",
      "[ \u001b[33m1\u001b[39m, \u001b[33m2\u001b[39m, \u001b[33m3\u001b[39m ]\n"
     ]
    }
   ],
   "source": [
    "const arr = [1, 2, 3];\n",
    "console.log(arr);\n",
    "console.log(pureAddArray(arr, arr));\n",
    "console.log(arr);"
   ]
  },
  {
   "cell_type": "markdown",
   "id": "cc89f53c",
   "metadata": {},
   "source": [
    "## Summary\n",
    "\n",
    "- Today we saw closures, i.e., first-class functions + dictionaries (i.e., references / state).\n",
    "- We also took a deeper look at scoping.\n",
    "- Applications of closures include callbacks and encapsulation. "
   ]
  },
  {
   "cell_type": "code",
   "execution_count": null,
   "id": "51aa7576",
   "metadata": {},
   "outputs": [],
   "source": []
  }
 ],
 "metadata": {
  "kernelspec": {
   "display_name": "TypeScript",
   "language": "typescript",
   "name": "typescript"
  },
  "language_info": {
   "codemirror_mode": {
    "mode": "typescript",
    "name": "javascript",
    "typescript": true
   },
   "file_extension": ".ts",
   "mimetype": "text/typescript",
   "name": "typescript",
   "version": "3.7.2"
  }
 },
 "nbformat": 4,
 "nbformat_minor": 5
}
