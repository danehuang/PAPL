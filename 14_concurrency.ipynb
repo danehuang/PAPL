{
 "cells": [
  {
   "cell_type": "code",
   "execution_count": 1,
   "id": "26c6d32d",
   "metadata": {},
   "outputs": [
    {
     "data": {
      "text/html": [
       "\n",
       "  <link rel=\"stylesheet\" href=\"node_modules/carbon-components/css/carbon-components.css\">\n",
       "  "
      ]
     },
     "metadata": {},
     "output_type": "display_data"
    },
    {
     "data": {
      "text/html": [
       "\n",
       "<script>\n",
       "require.config({\n",
       "     paths: {\n",
       "     cytoscape: 'https://cdnjs.cloudflare.com/ajax/libs/cytoscape/3.19.0/cytoscape.min'\n",
       "}});\n",
       "</script>\n",
       "  "
      ]
     },
     "metadata": {},
     "output_type": "display_data"
    }
   ],
   "source": [
    "import * as tslab from \"tslab\";\n",
    "import { requireCytoscape, requireCarbon } from \"./lib/draw\";\n",
    "\n",
    "requireCarbon();\n",
    "requireCytoscape();"
   ]
  },
  {
   "cell_type": "markdown",
   "id": "1eae3939",
   "metadata": {},
   "source": [
    "# Concurrency"
   ]
  },
  {
   "cell_type": "markdown",
   "id": "fe84182a",
   "metadata": {},
   "source": [
    "## Where Were We?\n",
    "\n",
    "1. Language primitives (i.e., building blocks of languages)\n",
    "2. **Language paradigms** (i.e., combinations of language primitives)\n",
    "    - Last time: DSLs with regex and SQL\n",
    "    - This time: **concurrent** programming in TypeScript\n",
    "3. Building a language (i.e., designing your own language)"
   ]
  },
  {
   "cell_type": "markdown",
   "id": "1151db0f",
   "metadata": {},
   "source": [
    "## Outline\n",
    "\n",
    "- Message passing model of concurrency\n",
    "- Shared memory model of concurrency"
   ]
  },
  {
   "cell_type": "markdown",
   "id": "90f601f2",
   "metadata": {},
   "source": [
    "## Why Concurrency?\n",
    "\n",
    "At some point, a resource needs to be shared.\n",
    "1. You're cooking a complex dish but you only have 1 burner ...\n",
    "2. You have roommates and you need to share a bathroom ...\n",
    "3. You're in an apartment complex and need to share 1 washer and 2 dryers ..."
   ]
  },
  {
   "cell_type": "markdown",
   "id": "1b595bea",
   "metadata": {},
   "source": [
    "### Computer Examples\n",
    "\n",
    "At some point, a resource needs to be shared on a computational device.\n",
    "1. Operating system needs to share finite compute and memory resources among programs (browser, games, discord, zoom).\n",
    "2. Web browser needs to share finite compute and memory resources among tasks (interpret javascript, render page, network)\n",
    "3. Phone needs to share finite compute and resources among apps (messaging, web connection, phone connection)"
   ]
  },
  {
   "cell_type": "markdown",
   "id": "1e53096d",
   "metadata": {},
   "source": [
    "### Concurrency vs. Parallelism\n",
    "\n",
    "1. **Concurrency** is, broadly speaking, the theory of sharing resources.\n",
    "2. This is not the same as **parallelism**, which concerns how to execute computations at the same time.\n",
    "3. In particular, you can run computations in parallel when you do not have to share resources, which is why concurrency and parallelism co-occur.\n",
    "\n",
    "<img src=\"media/concur_vs_parallel.png\" alt=\"drawing\" width=\"500\"/>"
   ]
  },
  {
   "cell_type": "markdown",
   "id": "9cdb45a9",
   "metadata": {},
   "source": [
    "## Models of Concurrency\n",
    "\n",
    "1. Message Passing\n",
    "2. Shared memory"
   ]
  },
  {
   "cell_type": "markdown",
   "id": "942bc6b7",
   "metadata": {},
   "source": [
    "## Message Passing\n",
    "\n",
    "Each **node** can send and receive messages with other **nodes**."
   ]
  },
  {
   "cell_type": "markdown",
   "id": "85c59009",
   "metadata": {},
   "source": [
    "### Examples\n",
    "\n",
    "1. Each smart phone is a **node** that can send and receive **text messages** from another smart phone.\n",
    "2. Each computer with Discord is a **node** that can send and recieve **messages** with another compute with Discord."
   ]
  },
  {
   "cell_type": "markdown",
   "id": "c40423a1",
   "metadata": {},
   "source": [
    "### Message Passing Node/TypeScript\n",
    "\n",
    "Event emitter: [https://nodejs.org/api/events.html](https://nodejs.org/api/events.html)"
   ]
  },
  {
   "cell_type": "code",
   "execution_count": 2,
   "id": "273bd935",
   "metadata": {},
   "outputs": [],
   "source": [
    "import EventEmitter from 'events'; // nodejs class"
   ]
  },
  {
   "cell_type": "code",
   "execution_count": 3,
   "id": "5dbc59f3",
   "metadata": {},
   "outputs": [],
   "source": [
    "class MyEmitter extends EventEmitter {} // create a class\n",
    "const myEmitter = new MyEmitter();      // instantiate an event emitter"
   ]
  },
  {
   "cell_type": "code",
   "execution_count": 4,
   "id": "4bc8635d",
   "metadata": {},
   "outputs": [
    {
     "name": "stdout",
     "output_type": "stream",
     "text": [
      "MyEmitter {\n",
      "  _events: [Object: null prototype] { \u001b[32m'message-name'\u001b[39m: \u001b[36m[Function (anonymous)]\u001b[39m },\n",
      "  _eventsCount: \u001b[33m1\u001b[39m,\n",
      "  _maxListeners: \u001b[90mundefined\u001b[39m,\n",
      "  [\u001b[32mSymbol(kCapture)\u001b[39m]: \u001b[33mfalse\u001b[39m\n",
      "}\n"
     ]
    }
   ],
   "source": [
    "// Question: what concepts from this class does this remind you of?\n",
    "let count = 0;\n",
    "myEmitter.on('message-name', (x: any) => {\n",
    "    count += 1;\n",
    "    console.log(`Called ${count} times and passed argument ${x}.`);\n",
    "});"
   ]
  },
  {
   "cell_type": "code",
   "execution_count": 5,
   "id": "d29728f1",
   "metadata": {},
   "outputs": [
    {
     "name": "stdout",
     "output_type": "stream",
     "text": [
      "Called 1 times and passed argument a.\n",
      "Called 2 times and passed argument 1.\n",
      "Called 3 times and passed argument 1,a.\n",
      "\u001b[33mtrue\u001b[39m\n"
     ]
    }
   ],
   "source": [
    "myEmitter.emit('message-name', 'a');\n",
    "myEmitter.emit('message-name', 1);\n",
    "myEmitter.emit('message-name', [1, 'a']);"
   ]
  },
  {
   "cell_type": "markdown",
   "id": "98923177",
   "metadata": {},
   "source": [
    "### The concepts\n",
    "\n",
    "```ts\n",
    "let count = 0; // 4. closed over\n",
    "\n",
    "// 3. myEmitter is a first-class function that accepts a function\n",
    "myEmitter.on('message-name', (x: any) => {  // 1. anonymous function\n",
    "    count += 1;  // 2. closure over count\n",
    "    console.log(`Called ${count} times and passed argument ${x}.`);\n",
    "});\n",
    "```"
   ]
  },
  {
   "cell_type": "markdown",
   "id": "e9e71f5a",
   "metadata": {},
   "source": [
    "### Events triggering events ..."
   ]
  },
  {
   "cell_type": "code",
   "execution_count": 6,
   "id": "2e577058",
   "metadata": {},
   "outputs": [
    {
     "name": "stdout",
     "output_type": "stream",
     "text": [
      "MyEmitter {\n",
      "  _events: [Object: null prototype] {\n",
      "    \u001b[32m'message-name-2'\u001b[39m: \u001b[36m[Function: callback2]\u001b[39m,\n",
      "    \u001b[32m'message-name-1'\u001b[39m: \u001b[36m[Function: callback2]\u001b[39m\n",
      "  },\n",
      "  _eventsCount: \u001b[33m2\u001b[39m,\n",
      "  _maxListeners: \u001b[90mundefined\u001b[39m,\n",
      "  [\u001b[32mSymbol(kCapture)\u001b[39m]: \u001b[33mfalse\u001b[39m\n",
      "}\n"
     ]
    }
   ],
   "source": [
    "const myEmitter1 = new MyEmitter();      // instantiate an event emitter\n",
    "const myEmitter2 = new MyEmitter();      // instantiate an event emitter\n",
    "\n",
    "let count = 0;\n",
    "\n",
    "function callback1(emitter: MyEmitter, x: any): void {\n",
    "    count += 1;\n",
    "    console.log(`Called ${count} times and passed argument ${x}.`);\n",
    "    if (count % 2 === 0) {\n",
    "        console.log(\"Triggerering a second message from callback1 ...\");\n",
    "        emitter.emit('message-name-2', emitter, x);\n",
    "    }\n",
    "}\n",
    "\n",
    "function callback2(emitter: MyEmitter, x: any): void {\n",
    "    count += 1;\n",
    "    console.log(`Called ${count} times and passed argument ${x}.`);\n",
    "    if (count % 2 === 1) {\n",
    "        console.log(\"Triggerering a second message from callback2 ...\");\n",
    "        emitter.emit('message-name-1', emitter, x);\n",
    "    }\n",
    "}\n",
    "\n",
    "myEmitter1.on('message-name-1', callback1);\n",
    "myEmitter2.on('message-name-2', callback2);\n",
    "myEmitter2.on('message-name-1', callback2);"
   ]
  },
  {
   "cell_type": "code",
   "execution_count": 7,
   "id": "f1d37cb4",
   "metadata": {},
   "outputs": [
    {
     "name": "stdout",
     "output_type": "stream",
     "text": [
      "Called 1 times and passed argument a.\n",
      "\u001b[33mtrue\u001b[39m\n"
     ]
    }
   ],
   "source": [
    "myEmitter1.emit('message-name-1', myEmitter2, 'a');"
   ]
  },
  {
   "cell_type": "code",
   "execution_count": 8,
   "id": "72b97f85",
   "metadata": {},
   "outputs": [
    {
     "name": "stdout",
     "output_type": "stream",
     "text": [
      "Called 2 times and passed argument a.\n",
      "\u001b[33mtrue\u001b[39m\n"
     ]
    }
   ],
   "source": [
    "myEmitter2.emit('message-name-2', myEmitter2, 'a');"
   ]
  },
  {
   "cell_type": "code",
   "execution_count": 9,
   "id": "38248b74",
   "metadata": {},
   "outputs": [
    {
     "name": "stdout",
     "output_type": "stream",
     "text": [
      "Called 3 times and passed argument a.\n",
      "Triggerering a second message from callback2 ...\n",
      "Called 4 times and passed argument a.\n",
      "\u001b[33mtrue\u001b[39m\n"
     ]
    }
   ],
   "source": [
    "myEmitter2.emit('message-name-1', myEmitter2, 'a');"
   ]
  },
  {
   "cell_type": "markdown",
   "id": "ecdd0fe6",
   "metadata": {},
   "source": [
    "### Can you trigger an infinite number of events?\n",
    "    \n",
    "1. Yes, the message passing version of an \"infinite loop\".\n",
    "2. This is why reasoning in the presence of concurrency is hard.\n",
    "3. Related to a concept called **deadlock**."
   ]
  },
  {
   "cell_type": "markdown",
   "id": "56c9ad55",
   "metadata": {},
   "source": [
    "### How do you share resources?\n",
    "\n",
    "1. Suppose you want to make a hamburger with mushrooms and onions.\n",
    "2. But you only have 1 pan and 1 plate.\n",
    "3. We'll use message passing to coordinate accessing the pan and plate.\n",
    "\n",
    "![](media/making_burger.png) "
   ]
  },
  {
   "cell_type": "code",
   "execution_count": 10,
   "id": "90d9b65d",
   "metadata": {},
   "outputs": [],
   "source": [
    "type Pan = {\n",
    "    contents: string[]   // list of ingredients\n",
    "    temperature: number  // in Fahrenheit\n",
    "};"
   ]
  },
  {
   "cell_type": "code",
   "execution_count": 11,
   "id": "253784ad",
   "metadata": {},
   "outputs": [],
   "source": [
    "const pan = {\n",
    "    contents: [],\n",
    "    temperature: 68 \n",
    "}\n",
    "\n",
    "let plate = [];"
   ]
  },
  {
   "cell_type": "code",
   "execution_count": 12,
   "id": "32b51d89",
   "metadata": {},
   "outputs": [],
   "source": [
    "function reset(ingredient: string): void { // Not a pure function!\n",
    "    pan.contents = [];\n",
    "    plate = [];\n",
    "}"
   ]
  },
  {
   "cell_type": "code",
   "execution_count": 13,
   "id": "94843a89",
   "metadata": {},
   "outputs": [],
   "source": [
    "function addToPan(ingredient: string): void { // Not a pure function!\n",
    "    pan.contents.push(ingredient);\n",
    "}"
   ]
  },
  {
   "cell_type": "code",
   "execution_count": 14,
   "id": "15f544b0",
   "metadata": {},
   "outputs": [],
   "source": [
    "function removeFromPan(ingredient: string): void {\n",
    "    // Get stuff from pan, mark that it's COOKED at temperature, and put it on the plate\n",
    "    plate = plate.concat(pan.contents.map(x => `COOKED ${x} at ${pan.temperature}`));\n",
    "    // Empty the pan\n",
    "    pan.contents = [];\n",
    "}"
   ]
  },
  {
   "cell_type": "code",
   "execution_count": 15,
   "id": "6e63cbbb",
   "metadata": {},
   "outputs": [],
   "source": [
    "function heatOrCoolPan(degrees: number): void {\n",
    "    pan.temperature += degrees;\n",
    "}"
   ]
  },
  {
   "cell_type": "code",
   "execution_count": 16,
   "id": "72e5029c",
   "metadata": {},
   "outputs": [
    {
     "name": "stdout",
     "output_type": "stream",
     "text": [
      "MyEmitter {\n",
      "  _events: [Object: null prototype] {\n",
      "    RESET: \u001b[36m[Function: reset]\u001b[39m,\n",
      "    ADD: \u001b[36m[Function: addToPan]\u001b[39m,\n",
      "    REMOVE: \u001b[36m[Function: removeFromPan]\u001b[39m,\n",
      "    HEAT_OR_COOL: \u001b[36m[Function: heatOrCoolPan]\u001b[39m\n",
      "  },\n",
      "  _eventsCount: \u001b[33m4\u001b[39m,\n",
      "  _maxListeners: \u001b[90mundefined\u001b[39m,\n",
      "  [\u001b[32mSymbol(kCapture)\u001b[39m]: \u001b[33mfalse\u001b[39m\n",
      "}\n"
     ]
    }
   ],
   "source": [
    "const panEmitter = new MyEmitter();\n",
    "panEmitter.on('RESET', reset);\n",
    "panEmitter.on('ADD', addToPan);\n",
    "panEmitter.on('REMOVE', removeFromPan);\n",
    "panEmitter.on('HEAT_OR_COOL', heatOrCoolPan);"
   ]
  },
  {
   "cell_type": "code",
   "execution_count": 17,
   "id": "c6a7b0f7",
   "metadata": {},
   "outputs": [
    {
     "name": "stdout",
     "output_type": "stream",
     "text": [
      "{ contents: [ \u001b[32m'HAMBURGER'\u001b[39m ], temperature: \u001b[33m168\u001b[39m }\n",
      "[]\n"
     ]
    }
   ],
   "source": [
    "panEmitter.emit('RESET');\n",
    "panEmitter.emit('HEAT_OR_COOL', 100);\n",
    "panEmitter.emit('ADD', 'HAMBURGER');\n",
    "console.log(pan);\n",
    "console.log(plate);"
   ]
  },
  {
   "cell_type": "code",
   "execution_count": 18,
   "id": "53b93be4",
   "metadata": {},
   "outputs": [
    {
     "name": "stdout",
     "output_type": "stream",
     "text": [
      "{ contents: [], temperature: \u001b[33m168\u001b[39m }\n",
      "[ \u001b[32m'COOKED HAMBURGER at 168'\u001b[39m ]\n"
     ]
    }
   ],
   "source": [
    "panEmitter.emit('REMOVE');\n",
    "console.log(pan);\n",
    "console.log(plate);"
   ]
  },
  {
   "cell_type": "code",
   "execution_count": 19,
   "id": "60a513f7",
   "metadata": {},
   "outputs": [
    {
     "name": "stdout",
     "output_type": "stream",
     "text": [
      "{ contents: [ \u001b[32m'ONIONS'\u001b[39m, \u001b[32m'MUSHROOMS'\u001b[39m ], temperature: \u001b[33m118\u001b[39m }\n",
      "[ \u001b[32m'COOKED HAMBURGER at 168'\u001b[39m ]\n"
     ]
    }
   ],
   "source": [
    "panEmitter.emit('HEAT_OR_COOL', -50);\n",
    "panEmitter.emit('ADD', 'ONIONS');\n",
    "panEmitter.emit('ADD', 'MUSHROOMS');\n",
    "console.log(pan);\n",
    "console.log(plate);"
   ]
  },
  {
   "cell_type": "code",
   "execution_count": 20,
   "id": "e0328117",
   "metadata": {},
   "outputs": [
    {
     "name": "stdout",
     "output_type": "stream",
     "text": [
      "{ contents: [], temperature: \u001b[33m118\u001b[39m }\n",
      "[\n",
      "  \u001b[32m'COOKED HAMBURGER at 168'\u001b[39m,\n",
      "  \u001b[32m'COOKED ONIONS at 118'\u001b[39m,\n",
      "  \u001b[32m'COOKED MUSHROOMS at 118'\u001b[39m\n",
      "]\n"
     ]
    }
   ],
   "source": [
    "panEmitter.emit('REMOVE');\n",
    "console.log(pan);\n",
    "console.log(plate);"
   ]
  },
  {
   "cell_type": "code",
   "execution_count": 21,
   "id": "827d6f96",
   "metadata": {},
   "outputs": [
    {
     "name": "stdout",
     "output_type": "stream",
     "text": [
      "{ contents: [ \u001b[32m'BUN'\u001b[39m ], temperature: \u001b[33m118\u001b[39m }\n",
      "[\n",
      "  \u001b[32m'COOKED HAMBURGER at 168'\u001b[39m,\n",
      "  \u001b[32m'COOKED ONIONS at 118'\u001b[39m,\n",
      "  \u001b[32m'COOKED MUSHROOMS at 118'\u001b[39m\n",
      "]\n"
     ]
    }
   ],
   "source": [
    "panEmitter.emit('ADD', 'BUN');\n",
    "console.log(pan);\n",
    "console.log(plate);"
   ]
  },
  {
   "cell_type": "code",
   "execution_count": 22,
   "id": "4928d3c0",
   "metadata": {},
   "outputs": [
    {
     "name": "stdout",
     "output_type": "stream",
     "text": [
      "{ contents: [], temperature: \u001b[33m118\u001b[39m }\n",
      "[\n",
      "  \u001b[32m'COOKED HAMBURGER at 168'\u001b[39m,\n",
      "  \u001b[32m'COOKED ONIONS at 118'\u001b[39m,\n",
      "  \u001b[32m'COOKED MUSHROOMS at 118'\u001b[39m,\n",
      "  \u001b[32m'COOKED BUN at 118'\u001b[39m\n",
      "]\n"
     ]
    }
   ],
   "source": [
    "panEmitter.emit('REMOVE');\n",
    "console.log(pan);\n",
    "console.log(plate);"
   ]
  },
  {
   "cell_type": "markdown",
   "id": "5cd9ecc0",
   "metadata": {},
   "source": [
    "### Message passing is used a lot in web programming\n",
    "\n",
    "1. HTTP protocol: [https://en.wikipedia.org/wiki/Hypertext_Transfer_Protocol](https://en.wikipedia.org/wiki/Hypertext_Transfer_Protocol)\n",
    "2. Web servers and clients (web browser) use message passing, i.e., concurrency model, to share resources."
   ]
  },
  {
   "cell_type": "code",
   "execution_count": 23,
   "id": "c0016694",
   "metadata": {},
   "outputs": [
    {
     "name": "stdout",
     "output_type": "stream",
     "text": [
      "MyEmitter {\n",
      "  _events: [Object: null prototype] {\n",
      "    GET: \u001b[36m[Function (anonymous)]\u001b[39m,\n",
      "    POST: \u001b[36m[Function (anonymous)]\u001b[39m,\n",
      "    PUT: \u001b[36m[Function (anonymous)]\u001b[39m\n",
      "  },\n",
      "  _eventsCount: \u001b[33m3\u001b[39m,\n",
      "  _maxListeners: \u001b[90mundefined\u001b[39m,\n",
      "  [\u001b[32mSymbol(kCapture)\u001b[39m]: \u001b[33mfalse\u001b[39m\n",
      "}\n"
     ]
    }
   ],
   "source": [
    "const webServer = new MyEmitter();\n",
    "webServer.on('GET', (x) => x);\n",
    "webServer.on('POST', (x) => x);\n",
    "webServer.on('PUT', (x) => x);"
   ]
  },
  {
   "cell_type": "markdown",
   "id": "c93bdf8d",
   "metadata": {},
   "source": [
    "### Final Project \n",
    "\n",
    "1. User input sends a message.\n",
    "2. Example of message passing handler callback in excerpt from `Reducer.tsx`:\n",
    "```\n",
    "const newState = (() => {\n",
    "    switch (type) {\n",
    "      ...\n",
    "      case 'SET_SONGS': {\n",
    "        const songs = args.get('songs');\n",
    "        return state.set('songs', songs);\n",
    "      }\n",
    "      case 'PLAY_SONG': {\n",
    "        const notes = state\n",
    "          .get('songs')\n",
    "          .find((s: any) => s.get('id') === args.get('id'))\n",
    "          .get('notes');\n",
    "        return state.set('notes', notes);\n",
    "      }\n",
    "      case 'STOP_SONG': {\n",
    "        return state.delete('notes');\n",
    "      }\n",
    "      ...\n",
    "    }\n",
    "  })();\n",
    "```"
   ]
  },
  {
   "cell_type": "markdown",
   "id": "c3b181c4",
   "metadata": {},
   "source": [
    "## Shared Memory\n",
    "\n",
    "1. Previously we saw message passing.\n",
    "2. Now we'll look at an alternative model of concurrency called **shared memory**.\n",
    "3. The server example with message passing is a good starting point for a mental model of shared memory."
   ]
  },
  {
   "cell_type": "markdown",
   "id": "846a5598",
   "metadata": {},
   "source": [
    "### Aside: Threads vs. Processes\n",
    "\n",
    "1. A process is has one stack (i.e., control-flow) and one memory space.\n",
    "2. A thread has it's own stack and shares memory with other threads in the same process.\n",
    "3. Thus you can use message passing for concurrency with processes.\n",
    "    * Web server communicating with web browser.\n",
    "    * Mobile phones communicating with each other.\n",
    "4. And you can use **shared memory** with threads.\n",
    "    * The implementation of a web server."
   ]
  },
  {
   "cell_type": "markdown",
   "id": "66fa9bce",
   "metadata": {},
   "source": [
    "<img src=\"./media/thread_vs_process.png\" alt=\"drawing\" width=\"500\"/>"
   ]
  },
  {
   "cell_type": "code",
   "execution_count": 24,
   "id": "5e8de787",
   "metadata": {},
   "outputs": [],
   "source": [
    "const { Worker, isMainThread, parentPort } = require('worker_threads')"
   ]
  },
  {
   "cell_type": "code",
   "execution_count": 25,
   "id": "e011dd45",
   "metadata": {},
   "outputs": [],
   "source": [
    "const {Worker} = require(\"worker_threads\");\n",
    "\n",
    "//Create new worker\n",
    "const worker = new Worker(\"./worker.js\");\n",
    "\n",
    "//Listen for a message from worker\n",
    "worker.on(\"message\", result => {\n",
    "  console.log(`${result.num}th Fibonacci Number: ${result.fib}`);\n",
    "});\n",
    "\n",
    "worker.on(\"error\", error => {\n",
    "  console.log(error);\n",
    "});\n",
    "\n",
    "worker.postMessage({num: 40});\n",
    "worker.postMessage({num: 12});"
   ]
  },
  {
   "cell_type": "markdown",
   "id": "75452777",
   "metadata": {},
   "source": [
    "### Shared Memory with Threads"
   ]
  },
  {
   "cell_type": "code",
   "execution_count": 26,
   "id": "0948749b",
   "metadata": {},
   "outputs": [],
   "source": [
    "const nums = [40, 35, 30, 25];\n",
    "\n",
    "// Create shared memory\n",
    "const size = Int32Array.BYTES_PER_ELEMENT*nums.length;\n",
    "const sharedBuffer = new SharedArrayBuffer(size);\n",
    "const sharedArray = new Int32Array(sharedBuffer);"
   ]
  },
  {
   "cell_type": "code",
   "execution_count": 27,
   "id": "8fe5ebcd",
   "metadata": {},
   "outputs": [
    {
     "name": "stdout",
     "output_type": "stream",
     "text": [
      "Int32Array(4) [ \u001b[33m40\u001b[39m, \u001b[33m35\u001b[39m, \u001b[33m30\u001b[39m, \u001b[33m25\u001b[39m ]\n"
     ]
    }
   ],
   "source": [
    "// Wrong!\n",
    "nums.forEach((x: number, i: number) => {\n",
    "   sharedArray[i] = x; // not thread-safe\n",
    "});\n",
    "\n",
    "sharedArray"
   ]
  },
  {
   "cell_type": "code",
   "execution_count": 28,
   "id": "3e2ffc8e",
   "metadata": {},
   "outputs": [
    {
     "name": "stdout",
     "output_type": "stream",
     "text": [
      "Int32Array(4) [ \u001b[33m40\u001b[39m, \u001b[33m35\u001b[39m, \u001b[33m30\u001b[39m, \u001b[33m25\u001b[39m ]\n"
     ]
    }
   ],
   "source": [
    "// Correct!\n",
    "nums.forEach((num, index) => {\n",
    "    Atomics.store(sharedArray, index, num);  // thread-safe\n",
    "})\n",
    "sharedArray"
   ]
  },
  {
   "cell_type": "markdown",
   "id": "85993f39",
   "metadata": {},
   "source": [
    "#### 1 worker"
   ]
  },
  {
   "cell_type": "code",
   "execution_count": 29,
   "id": "980b7da2",
   "metadata": {},
   "outputs": [],
   "source": [
    "import { Worker } from \"worker_threads\"; // nodejs worker threads\n",
    "import * as fs from \"fs\";"
   ]
  },
  {
   "cell_type": "code",
   "execution_count": 30,
   "id": "0c2b92d6",
   "metadata": {},
   "outputs": [
    {
     "name": "stdout",
     "output_type": "stream",
     "text": [
      "const {parentPort} = require(\"worker_threads\");\n",
      "\n",
      "parentPort.on(\"message\", data => {\n",
      "  const nums = data.nums;\n",
      "  for (let i = data.start; i < data.stop; i++) {\n",
      "     const n = nums[i];\n",
      "     const res = fibonnaci(n);\n",
      "     Atomics.store(nums, i, res);  // thread-safe\n",
      "     parentPort.postMessage({num: n, fib: res});\n",
      "  }\n",
      "})\n",
      "\n",
      "function fibonnaci(num) {\n",
      "    if (num === 0) {\n",
      "        return 0;\n",
      "    } else if (num === 1) {\n",
      "        return 1;\n",
      "    } else {\n",
      "        return fibonnaci(num - 1) + fibonnaci(num - 2);\n",
      "    }\n",
      "}\n",
      "\n",
      "\n"
     ]
    }
   ],
   "source": [
    "const x = fs.readFileSync(\"./tmp/fib_worker.js\");\n",
    "x.toString();"
   ]
  },
  {
   "cell_type": "code",
   "execution_count": 31,
   "id": "1363cadf",
   "metadata": {},
   "outputs": [
    {
     "name": "stdout",
     "output_type": "stream",
     "text": [
      "BEFORE\n",
      "AFTER\n"
     ]
    }
   ],
   "source": [
    "// Create new worker\n",
    "const worker = new Worker(\"./tmp/fib_worker.js\");\n",
    "\n",
    "// Listen for a message from worker\n",
    "worker.on(\"message\", result => {\n",
    "    console.log(`${result.num}th Fibonacci Number: ${result.fib}`);\n",
    "});\n",
    "\n",
    "nums.forEach((num, index) => {\n",
    "    Atomics.store(sharedArray, index, num);  // thread-safe\n",
    "})\n",
    "\n",
    "console.log(\"BEFORE\")\n",
    "worker.postMessage({\n",
    "    nums: sharedArray,\n",
    "    start: 0,\n",
    "    stop: sharedArray.length\n",
    "});\n",
    "console.log(\"AFTER\");"
   ]
  },
  {
   "cell_type": "markdown",
   "id": "356a1fff",
   "metadata": {},
   "source": [
    "#### Multiple workers"
   ]
  },
  {
   "cell_type": "code",
   "execution_count": 32,
   "id": "e89df996",
   "metadata": {},
   "outputs": [
    {
     "name": "stdout",
     "output_type": "stream",
     "text": [
      "BEFORE\n",
      "AFTER\n"
     ]
    }
   ],
   "source": [
    "// Create new worker\n",
    "const worker1 = new Worker(\"./tmp/fib_worker.js\");\n",
    "const worker2 = new Worker(\"./tmp/fib_worker.js\");\n",
    "\n",
    "// Listen for messages from workers\n",
    "worker1.on(\"message\", result => {\n",
    "    console.log(`${result.num}th Fibonacci Number: ${result.fib}`);\n",
    "});\n",
    "worker2.on(\"message\", result => {\n",
    "    console.log(`${result.num}th Fibonacci Number: ${result.fib}`);\n",
    "});\n",
    "\n",
    "nums.forEach((num, index) => {\n",
    "    Atomics.store(sharedArray, index, num);  // thread-safe\n",
    "})\n",
    "\n",
    "console.log(\"BEFORE\")\n",
    "worker1.postMessage({\n",
    "    nums: sharedArray,\n",
    "    start: 0,\n",
    "    stop: Math.floor(sharedArray.length / 2)\n",
    "});\n",
    "worker2.postMessage({\n",
    "    nums: sharedArray,\n",
    "    start: Math.floor(sharedArray.length / 2), // question: what would happen if we made these array indices overlap?\n",
    "    stop: sharedArray.length\n",
    "});\n",
    "console.log(\"AFTER\");"
   ]
  },
  {
   "cell_type": "markdown",
   "id": "38b618a7",
   "metadata": {},
   "source": [
    "#### Parallelized map"
   ]
  },
  {
   "cell_type": "code",
   "execution_count": 34,
   "id": "20c76410",
   "metadata": {},
   "outputs": [
    {
     "name": "stdout",
     "output_type": "stream",
     "text": [
      "BEFORE\n",
      "AFTER\n",
      "25th Fibonacci Number: 75025\n",
      "30th Fibonacci Number: 832040\n",
      "35th Fibonacci Number: 9227465\n",
      "40th Fibonacci Number: 102334155\n"
     ]
    }
   ],
   "source": [
    "// Create new worker\n",
    "const workers = [];\n",
    "for (let i = 0; i < sharedArray.length; i++) {\n",
    "    const worker = new Worker(\"./tmp/fib_worker.js\");\n",
    "    worker.on(\"message\", result => {\n",
    "        console.log(`${result.num}th Fibonacci Number: ${result.fib}`);\n",
    "    });\n",
    "    workers.push(worker);\n",
    "}\n",
    "\n",
    "nums.forEach((num, index) => {\n",
    "    Atomics.store(sharedArray, index, num);  // thread-safe\n",
    "})\n",
    "\n",
    "console.log(\"BEFORE\")\n",
    "for (let i = 0; i < sharedArray.length; i++) {\n",
    "    workers[i].postMessage({\n",
    "        nums: sharedArray,\n",
    "        start: i,\n",
    "        stop: i+1 \n",
    "    });\n",
    "}\n",
    "console.log(\"AFTER\");"
   ]
  },
  {
   "cell_type": "markdown",
   "id": "d441c9eb",
   "metadata": {},
   "source": [
    "#### Challenge: debugging timing issues\n",
    "\n",
    "1. Run the cells with the 2 workers and the array of workers in quick succession\n",
    "2. Why is there an error?"
   ]
  },
  {
   "cell_type": "markdown",
   "id": "6097a4f2",
   "metadata": {},
   "source": [
    "#### Challenge: parallelized reduce\n",
    "\n",
    "1. Try writing parallelized reduce\n",
    "2. Simplified version of [https://en.wikipedia.org/wiki/MapReduce](https://en.wikipedia.org/wiki/MapReduce)"
   ]
  },
  {
   "cell_type": "markdown",
   "id": "550e605d",
   "metadata": {},
   "source": [
    "#### Question: how would you implement message passing with shared memory?"
   ]
  },
  {
   "cell_type": "markdown",
   "id": "8bba31c8",
   "metadata": {},
   "source": [
    "## Summary\n",
    "\n",
    "We covered a lot today\n",
    "1. We saw that concurrency was about sharing resources whereas parallelism was about running things at the same time.\n",
    "2. We saw the message passing model of concurrency.\n",
    "3. We also saw the shared memory model of concurrency.\n",
    "4. The message passing and shared memory model of concurrency are \"equivalent\"."
   ]
  },
  {
   "cell_type": "code",
   "execution_count": null,
   "id": "54c38544",
   "metadata": {},
   "outputs": [],
   "source": []
  }
 ],
 "metadata": {
  "kernelspec": {
   "display_name": "TypeScript",
   "language": "typescript",
   "name": "typescript"
  },
  "language_info": {
   "codemirror_mode": {
    "mode": "typescript",
    "name": "javascript",
    "typescript": true
   },
   "file_extension": ".ts",
   "mimetype": "text/typescript",
   "name": "typescript",
   "version": "3.7.2"
  }
 },
 "nbformat": 4,
 "nbformat_minor": 5
}
