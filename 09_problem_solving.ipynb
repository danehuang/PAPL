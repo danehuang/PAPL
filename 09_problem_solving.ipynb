{
 "cells": [
  {
   "cell_type": "code",
   "execution_count": 1,
   "id": "afb614be",
   "metadata": {},
   "outputs": [
    {
     "data": {
      "text/html": [
       "\n",
       "  <link rel=\"stylesheet\" href=\"node_modules/carbon-components/css/carbon-components.css\">\n",
       "  "
      ]
     },
     "metadata": {},
     "output_type": "display_data"
    },
    {
     "data": {
      "text/html": [
       "\n",
       "<script>\n",
       "require.config({\n",
       "     paths: {\n",
       "     cytoscape: 'https://cdnjs.cloudflare.com/ajax/libs/cytoscape/3.19.0/cytoscape.min'\n",
       "}});\n",
       "</script>\n",
       "  "
      ]
     },
     "metadata": {},
     "output_type": "display_data"
    }
   ],
   "source": [
    "import { requireCytoscape, requireCarbon, linePlot } from \"./lib/draw\";\n",
    "\n",
    "requireCarbon();\n",
    "requireCytoscape();"
   ]
  },
  {
   "cell_type": "markdown",
   "id": "0b634c30",
   "metadata": {},
   "source": [
    "# Lecture 9: Problem Solving"
   ]
  },
  {
   "cell_type": "markdown",
   "id": "e3521c2d",
   "metadata": {},
   "source": [
    "## Where Were We?\n",
    "\n",
    "Taking a break from languages.\n",
    "\n",
    "1. Language primitives (i.e., building blocks of languages)\n",
    "2. Language paradigms (i.e., combinations of language primitives)\n",
    "3. Building a language (i.e., designing your own language)"
   ]
  },
  {
   "cell_type": "markdown",
   "id": "9faa96c5",
   "metadata": {},
   "source": [
    "## Review\n",
    "\n",
    "- Instead, we will review every language primitive we have learned so far.\n",
    "- And see how the concept behind each primitive can be used to solve a LeetCode problem."
   ]
  },
  {
   "cell_type": "markdown",
   "id": "bba90023",
   "metadata": {},
   "source": [
    "### Pure vs. impure functions\n",
    "\n",
    "```\n",
    "pure(1) = 2\n",
    "pure(1) = 2\n",
    "pure(1) = 2\n",
    "pure(1) = 2\n",
    "pure(1) = 2\n",
    "pure(1) = 2\n",
    "\n",
    "question: what does pure(1) give?\n",
    "\n",
    "impure(1) = 2\n",
    "impure(1) = 3\n",
    "impure(1) = 3\n",
    "impure(1) = 3\n",
    "impure(1) = 2\n",
    "impure(1) = 1\n",
    "impure(1) = 5\n",
    "\n",
    "pure(arr) = arr2\n",
    "pure(arr) = arr2\n",
    "pure(arr) = arr2\n",
    "pure(arr) = arr2\n",
    "pure(arr) = arr2\n",
    "\n",
    "impure(arr) = arr2\n",
    "impure(arr) = arr2\n",
    "impure(arr) = arr3\n",
    "impure(arr) = arr\n",
    "\n",
    "question: what does impure(1) give?\n",
    "```"
   ]
  },
  {
   "cell_type": "markdown",
   "id": "900146f8",
   "metadata": {},
   "source": [
    "### First-class Functions\n",
    "\n",
    "```ts\n",
    "(x: number) => (y: (z: number) => number) => y(x)\n",
    "\n",
    "(x: number) => {\n",
    "  function g(y: (z: number) => number)) {\n",
    "    return y(x);\n",
    "  }\n",
    "  return g;\n",
    "  // return (y: (z: number) => number) => y(x)\n",
    "}\n",
    "\n",
    "function map<T, U>(arr: T[], f: (x: T) => U): U[] {\n",
    "   ...\n",
    "}\n",
    "\n",
    "const arr = [];\n",
    "for (const x of arr) {\n",
    "  arr.push(f(x))\n",
    "}\n",
    "\n",
    "arr.map(f)\n",
    "\n",
    "\n",
    "function filter<T>(arr: T[], f: (x: T) => boolean): T[] {\n",
    "   ...\n",
    "}\n",
    "\n",
    "const arr = [];\n",
    "for (const x of arr) {\n",
    "  if (f(x)) {\n",
    "     arr.push(f(x)) \n",
    "  }\n",
    "}\n",
    "\n",
    "arr.filter(f)\n",
    "\n",
    "\n",
    "function reduce<T, U>(f: (acc: U, x:T) => U, init: U): U {\n",
    "   ...\n",
    "}\n",
    "\n",
    "let acc = init;\n",
    "for (const x of arr) {\n",
    "  acc = f(acc, x);\n",
    "}\n",
    "\n",
    "arr.reduce(f, init);\n",
    "\n",
    "```"
   ]
  },
  {
   "cell_type": "code",
   "execution_count": 2,
   "id": "102dd98d",
   "metadata": {},
   "outputs": [],
   "source": [
    "const f = (x: number) => x"
   ]
  },
  {
   "cell_type": "markdown",
   "id": "c8b87a15",
   "metadata": {},
   "source": [
    "### Closures\n",
    "\n",
    "```\n",
    "onClick(callback);\n",
    "\n",
    "function codeBlock() {\n",
    "  let counter = 0;\n",
    "  function callback(x) {\n",
    "    .. use x and counter\n",
    "  }\n",
    "  return callback;\n",
    "}\n",
    "\n",
    "const callback = codeBlock();\n",
    "```"
   ]
  },
  {
   "cell_type": "markdown",
   "id": "8c908d1b",
   "metadata": {},
   "source": [
    "### Recursion\n",
    "\n",
    "```ts\n",
    "function f(x) {\n",
    "   ... f(smaller x);\n",
    "}\n",
    "```"
   ]
  },
  {
   "cell_type": "markdown",
   "id": "5285e9ee",
   "metadata": {},
   "source": [
    "### Recursive Thinking 1\n",
    "\n",
    "```ts\n",
    "maxArr([1, 2, 3, 4, 5, 6])\n",
    "  = max(1, maxArr([2, 3, 4, 5, 6]))\n",
    "  = max(1, max(2, maxArr([3, 4, 5, 6]))\n",
    "  = ...\n",
    "```\n",
    "\n",
    "\n",
    "```ts\n",
    "maxArr([1, 2, 3, 4, 5, 6])\n",
    "  = max(maxArr([1, 2, 3]), maxArr([4, 5, 6]))\n",
    "  = ...\n",
    "```  "
   ]
  },
  {
   "cell_type": "markdown",
   "id": "c5f3f99d",
   "metadata": {},
   "source": [
    "### Recursive Thinking 2\n",
    "\n",
    "```ts\n",
    "sort([1, 2, 3, 4, 5, 6]) = [6,5,4,3,2,1]\n",
    "merge(sort([1, 2, 3]), sort([4, 5, 6]))\n",
    "merge([3,2,1], [6,5,4])\n",
    "\n",
    "sort([1, 2, 3])\n",
    "   merge(sort([1, 2]), sort([3]))\n",
    "```"
   ]
  },
  {
   "cell_type": "markdown",
   "id": "a5cc2486",
   "metadata": {},
   "source": [
    "## Algebraic data-types\n",
    "\n",
    "```ts\n",
    "type tree<T> = \n",
    "    { tag: \"LEAF\" }\n",
    "  | { tag: \"NODE\", contents: T, left: tree<T>, right: tree<T> };\n",
    "```"
   ]
  },
  {
   "cell_type": "markdown",
   "id": "1bc3185b",
   "metadata": {},
   "source": [
    "## LeetCode Problem 30: Substring with Concatenation of All Words\n",
    "\n",
    "27.8% Hard\n",
    "\n",
    "You are given a string s and an array of strings words of the same length.\n",
    "Return all starting indices of substring(s) in s that is a concatenation of each word\n",
    "in words exactly once, in any order, and without any intervening characters.\n",
    "\n",
    "You can return the answer in any order."
   ]
  },
  {
   "cell_type": "markdown",
   "id": "25ad2c65",
   "metadata": {},
   "source": [
    "### Example 1:\n",
    "\n",
    "```\n",
    "Input: s = \"barfoothefoobarman\", words = [\"foo\",\"bar\"]\n",
    "Output: [0,9]\n",
    "Explanation: Substrings starting at index 0 and 9 are \"barfoo\" and \"foobar\" respectively.\n",
    "The output order does not matter, returning [9,0] is fine too.\n",
    "```"
   ]
  },
  {
   "cell_type": "code",
   "execution_count": 3,
   "id": "48b42c73",
   "metadata": {},
   "outputs": [],
   "source": [
    "const s = \"barfoothefoobarman\";\n",
    "const words = [\"foo\",\"bar\"];"
   ]
  },
  {
   "cell_type": "markdown",
   "id": "27a6f7dc",
   "metadata": {},
   "source": [
    "### Example 2:\n",
    "\n",
    "```\n",
    "Input: s = \"wordgoodgoodgoodbestword\", words = [\"word\",\"good\",\"best\",\"word\"]\n",
    "Output: []\n",
    "```"
   ]
  },
  {
   "cell_type": "code",
   "execution_count": 4,
   "id": "45b0ec31",
   "metadata": {},
   "outputs": [],
   "source": [
    "const s2 = \"wordgoodgoodgoodbestword\";\n",
    "const words2 = [\"word\",\"good\",\"best\",\"word\"];"
   ]
  },
  {
   "cell_type": "markdown",
   "id": "f52a6776",
   "metadata": {},
   "source": [
    "### Example 3:\n",
    "\n",
    "```\n",
    "Input: s = \"barfoofoobarthefoobarman\", words = [\"bar\",\"foo\",\"the\"]\n",
    "Output: [6,9,12]\n",
    "```"
   ]
  },
  {
   "cell_type": "code",
   "execution_count": 5,
   "id": "5ae9d0e8",
   "metadata": {},
   "outputs": [],
   "source": [
    "const s3 = \"barfoofoobarthefoobarman\";\n",
    "const words3 = [\"bar\",\"foo\",\"the\"];"
   ]
  },
  {
   "cell_type": "markdown",
   "id": "7b5c7cb4",
   "metadata": {},
   "source": [
    "### Example 4:\n",
    "\n",
    "```\n",
    "Input: s = \"anttan\", words = [\"ant\", \"tan\"]\n",
    "Output: [0]\n",
    "```"
   ]
  },
  {
   "cell_type": "markdown",
   "id": "3ca04248",
   "metadata": {},
   "source": [
    "### Example 5:"
   ]
  },
  {
   "cell_type": "code",
   "execution_count": 6,
   "id": "1e000083",
   "metadata": {},
   "outputs": [],
   "source": [
    "const s4 = \"lingmindraboofooowingdingbarrwingmonkeypoundcake\";\n",
    "const words4 = [\"fooo\",\"barr\",\"wing\",\"ding\",\"wing\"];"
   ]
  },
  {
   "cell_type": "markdown",
   "id": "8342d147",
   "metadata": {},
   "source": [
    "## Using Recursive Thinking\n",
    "\n",
    "- It's tempting to immediately start coding\n",
    "- But let's think about what are the smaller pieces we can use to build the larger solution from\n",
    "- For starters, let's just think about how we would simply check that a single solution exists starting from the beginning of the string"
   ]
  },
  {
   "cell_type": "markdown",
   "id": "7534efbf",
   "metadata": {},
   "source": [
    "### Checking that a single solution exists"
   ]
  },
  {
   "cell_type": "markdown",
   "id": "53893530",
   "metadata": {},
   "source": [
    "#### Example 1"
   ]
  },
  {
   "cell_type": "markdown",
   "id": "fc1ad955",
   "metadata": {},
   "source": [
    "```ts\n",
    "search1(\"barfoothefoobarman\", [\"foo\", \"bar\"])\n",
    "  = search1(\"foothefoobarman\", [\"foo\"]);\n",
    "  = search1(\"thefoobarman\", [])\n",
    "  = [] === []\n",
    "```"
   ]
  },
  {
   "cell_type": "markdown",
   "id": "383251a4",
   "metadata": {},
   "source": [
    "#### Example 2"
   ]
  },
  {
   "cell_type": "markdown",
   "id": "bdb47218",
   "metadata": {},
   "source": [
    "```ts\n",
    "search1([\"bar\", \"foo\", \"the\", \"foo\", \"bar\", \"man\"], [\"foo\",\"bar\"]);\n",
    "  = search1([\"foo\", \"the\", \"foo\", \"bar\", \"man\"], [\"foo\"]);\n",
    "  = search1([\"the\", \"foo\", \"bar\", \"man\"], []);\n",
    "  = [] ==== []\n",
    "```   "
   ]
  },
  {
   "cell_type": "markdown",
   "id": "8b5fde52",
   "metadata": {},
   "source": [
    "#### Example 3"
   ]
  },
  {
   "cell_type": "markdown",
   "id": "0441f7ef",
   "metadata": {},
   "source": [
    "```ts\n",
    "search1([\"bar\", [\"foo\", [\"the\", [\"foo\", [\"bar\", [\"man\"]]]]]], [\"foo\",\"bar\"]);\n",
    "  = search1([\"foo\", \"the\", \"foo\", \"bar\", \"man\"], [\"foo\"]);\n",
    "  = search1([\"the\", \"foo\", \"bar\", \"man\"], []);\n",
    "  = [] === []\n",
    "```"
   ]
  },
  {
   "cell_type": "markdown",
   "id": "daa5070b",
   "metadata": {},
   "source": [
    "#### Putting it together?\n",
    "    \n",
    "Just traverse the string, adding the locations\n",
    "    \n",
    "```ts\n",
    "entireString(loc, string, arr)\n",
    "  = concat(entireString(loc + 1, string[1:], arr), findSubstring(string, arr) ? [loc] : [])\n",
    "  = ...\n",
    "```"
   ]
  },
  {
   "cell_type": "markdown",
   "id": "e04a08d0",
   "metadata": {},
   "source": [
    "## Coding findSubstring"
   ]
  },
  {
   "cell_type": "markdown",
   "id": "7f8afca5",
   "metadata": {},
   "source": [
    "### Enter ADTs to model data"
   ]
  },
  {
   "cell_type": "code",
   "execution_count": 7,
   "id": "969be321",
   "metadata": {},
   "outputs": [],
   "source": [
    "type lcstr = // leetcode string\n",
    "    { \n",
    "        tag: \"LEAF\"\n",
    "    }\n",
    "|   {\n",
    "        tag: \"WORD\",\n",
    "        word: string,   // the substring\n",
    "        idx: number,    // the index of ths substring into the original string\n",
    "        rest: lcstr     // the rest of the leetcode string\n",
    "};"
   ]
  },
  {
   "cell_type": "code",
   "execution_count": 8,
   "id": "09037dd1",
   "metadata": {},
   "outputs": [],
   "source": [
    "function mkLeaf(): lcstr {\n",
    "    return {\n",
    "        tag: \"LEAF\"\n",
    "    };\n",
    "}\n",
    "\n",
    "function mkWord(word: string, idx: number, rest: lcstr): lcstr {\n",
    "    return {\n",
    "        tag: \"WORD\",\n",
    "        word: word,\n",
    "        idx: idx,\n",
    "        rest: rest\n",
    "    };\n",
    "}"
   ]
  },
  {
   "cell_type": "markdown",
   "id": "fb8cc2ab",
   "metadata": {},
   "source": [
    "### Convert String into ADT\n",
    "\n",
    "```ts\n",
    "stringToLcstr(\"barfoobar\", 3)\n",
    "  = mkWord(\"bar\", 0, stringToLcstr(\"foobar\", 3))\n",
    "  = mkWord(\"bar\", 0, mkWord(\"foo\", 3, stringToLcstr(\"bar\", 3)))\n",
    "  = mkWord(\"bar\", 0, mkWord(\"foo\", 3, mkWord(\"bar\", 6, stringToLcstr(\"\", 3))))\n",
    "  = mkWord(\"bar\", 0, mkWord(\"foo\", 3, mkWord(\"bar\", 6, mkLeaf()))))\n",
    "```"
   ]
  },
  {
   "cell_type": "code",
   "execution_count": 9,
   "id": "87f49acc",
   "metadata": {},
   "outputs": [],
   "source": [
    "function stringToLcstr(s: string, len: number): lcstr {\n",
    "    function go(s: string, idx: number) {\n",
    "        if (s.length === 0) {\n",
    "            return mkLeaf();\n",
    "        } else {\n",
    "            // Question: what does len refer to\n",
    "            return mkWord(s.substring(0, len), idx, go(s.substring(len), idx + len));\n",
    "        }\n",
    "    }\n",
    "    return go(s, 0);\n",
    "}"
   ]
  },
  {
   "cell_type": "code",
   "execution_count": 10,
   "id": "88ffe510",
   "metadata": {},
   "outputs": [
    {
     "name": "stdout",
     "output_type": "stream",
     "text": [
      "{\"tag\":\"WORD\",\"word\":\"bar\",\"idx\":0,\"rest\":{\"tag\":\"WORD\",\"word\":\"foo\",\"idx\":3,\"rest\":{\"tag\":\"WORD\",\"word\":\"bar\",\"idx\":6,\"rest\":{\"tag\":\"LEAF\"}}}}\n"
     ]
    }
   ],
   "source": [
    "const s = \"barfoobar\";\n",
    "JSON.stringify(stringToLcstr(s, 3))"
   ]
  },
  {
   "cell_type": "code",
   "execution_count": 11,
   "id": "3a9f20cf",
   "metadata": {},
   "outputs": [
    {
     "name": "stdout",
     "output_type": "stream",
     "text": [
      "bar0foo3bar6\n"
     ]
    }
   ],
   "source": [
    "function lcstrToString(s: lcstr) {\n",
    "    switch (s.tag) {\n",
    "        case \"LEAF\": {\n",
    "            return \"\";\n",
    "        }\n",
    "        case \"WORD\": {\n",
    "            return s.word + s.idx + lcstrToString(s.rest);\n",
    "        }\n",
    "    }\n",
    "}\n",
    "\n",
    "lcstrToString(stringToLcstr(s, 3))"
   ]
  },
  {
   "cell_type": "code",
   "execution_count": 12,
   "id": "a7759fad",
   "metadata": {},
   "outputs": [
    {
     "name": "stdout",
     "output_type": "stream",
     "text": [
      "bar0foo3the6foo9bar12man15\n"
     ]
    }
   ],
   "source": [
    "const s = \"barfoothefoobarman\";\n",
    "lcstrToString(stringToLcstr(s, 3))"
   ]
  },
  {
   "cell_type": "markdown",
   "id": "ff529061",
   "metadata": {},
   "source": [
    "### Back to search1\n",
    "\n",
    "As a reminder we had\n",
    "\n",
    "```ts\n",
    "search1([\"bar\", \"foo\", \"the\", \"foo\", \"bar\", \"man\"], [\"foo\",\"bar\"]);\n",
    "  = search1([\"foo\", \"the\", \"foo\", \"bar\", \"man\"], [\"foo\"]);\n",
    "  = search1([\"the\", \"foo\", \"bar\", \"man\"], []);\n",
    "  = [] === []\n",
    "```\n",
    "\n",
    "We're writing `[\"bar\", \"foo\", \"the\", \"foo\", \"bar\", \"man\"]` for the `lcstr`.\n",
    "\n",
    "\n",
    "We'll code a modification where we just return the index\n",
    "\n",
    "```ts\n",
    "search(0, [\"bar\", \"foo\", \"the\", \"foo\", \"bar\", \"man\"], [\"foo\",\"bar\"]);\n",
    "  = search(0, [\"foo\", \"the\", \"foo\", \"bar\", \"man\"], [\"foo\"]);\n",
    "  = search(0, [\"the\", \"foo\", \"bar\", \"man\"], []);\n",
    "  = [] === [] ? 0 : undefined\n",
    "```"
   ]
  },
  {
   "cell_type": "code",
   "execution_count": 13,
   "id": "e49a559d",
   "metadata": {},
   "outputs": [],
   "source": [
    "function search(start: number, s: lcstr, words: string[]): number|undefined {\n",
    "    switch (s.tag) {\n",
    "        case \"LEAF\": {\n",
    "            return words.length === 0 ? start : undefined;\n",
    "        }\n",
    "        case \"WORD\": {\n",
    "            if (words.length === 0){\n",
    "                return start;\n",
    "            } else {\n",
    "                for (let i = 0; i < words.length; i++) {\n",
    "                    if (words[i] === s.word) {\n",
    "                        start = start === undefined ? s.idx : start;\n",
    "                        // ex smallerWord([\"foo\", \"bar\"]) = [\"bar\"]\n",
    "                        const smallerWords = words.slice(0, i).concat(words.slice(i + 1));\n",
    "                        return search(start, s.rest, smallerWords);\n",
    "                    }\n",
    "                }\n",
    "                return undefined;\n",
    "            }\n",
    "        }\n",
    "    }\n",
    "}"
   ]
  },
  {
   "cell_type": "code",
   "execution_count": 14,
   "id": "cdea7b01",
   "metadata": {},
   "outputs": [
    {
     "name": "stdout",
     "output_type": "stream",
     "text": [
      "[ \u001b[33m1\u001b[39m, \u001b[33m2\u001b[39m ]\n",
      "[ \u001b[33m4\u001b[39m ]\n",
      "[ \u001b[33m1\u001b[39m, \u001b[33m2\u001b[39m, \u001b[33m4\u001b[39m ]\n"
     ]
    }
   ],
   "source": [
    "const arr = [1, 2, 3, 4];\n",
    "const i = 2;\n",
    "const left = arr.slice(0, i) // [1, 2]\n",
    "const right = arr.slice(i + 1) // [4]\n",
    "console.log(left)\n",
    "console.log(right)\n",
    "left.concat(right)"
   ]
  },
  {
   "cell_type": "code",
   "execution_count": 15,
   "id": "17bb3216",
   "metadata": {},
   "outputs": [
    {
     "name": "stdout",
     "output_type": "stream",
     "text": [
      "\u001b[33m9\u001b[39m\n"
     ]
    }
   ],
   "source": [
    "const s = \"barfoothefoobarman\";\n",
    "const words = [\"foo\", \"bar\"];\n",
    "search(9, stringToLcstr(s, 3), words)"
   ]
  },
  {
   "cell_type": "code",
   "execution_count": 16,
   "id": "e678437c",
   "metadata": {},
   "outputs": [],
   "source": [
    "// [\"bar\", \"foo\", \"the\", \"foo\", \"bar\", \"man\"]\n",
    "function entireString(acc: number[], lc: lcstr): number[] {\n",
    "    switch (lc.tag) {\n",
    "        case \"LEAF\": {\n",
    "            return acc;\n",
    "        }\n",
    "        case \"WORD\": {\n",
    "            const res = search(undefined, lc, words);\n",
    "            if (res !== undefined) {\n",
    "                acc.push(res);\n",
    "                return entireString(acc, lc.rest);\n",
    "            } else {\n",
    "                return entireString(acc, lc.rest);\n",
    "            }\n",
    "        }\n",
    "    }\n",
    "}\n"
   ]
  },
  {
   "cell_type": "markdown",
   "id": "f458fbc0",
   "metadata": {},
   "source": [
    "### Putting it together"
   ]
  },
  {
   "cell_type": "code",
   "execution_count": 17,
   "id": "1cd3baf0",
   "metadata": {},
   "outputs": [],
   "source": [
    "function findSubstring(s: string, words: string[]): number[] {\n",
    "    if (words.length === 0) {\n",
    "        return [];\n",
    "    }\n",
    "\n",
    "    // 1. Create a model\n",
    "    type lcstr = \n",
    "        { tag: \"LEAF\" }\n",
    "      | { tag: \"WORD\", word: string, idx: number, rest: lcstr };\n",
    "\n",
    "    function Leaf(): lcstr {\n",
    "        return { tag: \"LEAF\" };\n",
    "    }\n",
    "\n",
    "    function Word(word: string, idx: number, rest: lcstr): lcstr {\n",
    "        return { tag: \"WORD\", word: word, idx: idx, rest: rest };\n",
    "    }\n",
    "    \n",
    "    // 2. Solved a reduced problem, i.e., just one index\n",
    "    function search(start: number, s: lcstr, words: string[]) {\n",
    "        switch (s.tag) {\n",
    "            case \"LEAF\": {\n",
    "                return words.length === 0 ? start : undefined;\n",
    "            }\n",
    "            case \"WORD\": {\n",
    "                if (words.length === 0){\n",
    "                    return start;\n",
    "                } else {\n",
    "                    // Reminder: we can search any order of the strings!\n",
    "                    for (let i = 0; i < words.length; i++) {\n",
    "                        if (words[i] === s.word) {\n",
    "                            start = start === undefined ? s.idx : start;\n",
    "                            return search(start, s.rest, words.slice(0, i).concat(words.slice(i + 1)));\n",
    "                        }\n",
    "                    }\n",
    "                    return undefined;\n",
    "                }\n",
    "            }\n",
    "        }\n",
    "    }\n",
    "    \n",
    "    // 3. Used the reduced problem to solve the actual problem, i.e., all indices\n",
    "    function entireString(acc: number[], lc: lcstr): number[] {\n",
    "        switch (lc.tag) {\n",
    "            case \"LEAF\": {\n",
    "                return acc;\n",
    "            }\n",
    "            case \"WORD\": {\n",
    "                const res = search(undefined, lc, words);\n",
    "                if (res !== undefined) {\n",
    "                    return entireString(acc.concat(res), lc.rest);\n",
    "                } else {\n",
    "                    return entireString(acc.concat(res), lc.rest);\n",
    "                }\n",
    "            }\n",
    "        }\n",
    "    }\n",
    "    \n",
    "    // 4. Bit contrived\n",
    "    const acc: number[][] = [];\n",
    "    for (let i = 0; i < words[0].length; i++) {\n",
    "        // i = 0 \"go(barfoofoobarthefoobarman, [\"bar\",\"foo\",\"the\"])\";\n",
    "        // i = 1 \"go(arfoofoobarthefoobarman, [\"bar\",\"foo\",\"the\"])\";\n",
    "        // i = 2 \"go(rfoofoobarthefoobarman)\";\n",
    "        acc.push(entireString([], stringToLcstr(s.substring(i), words[0].length)).map((x: number) => x + i))\n",
    "    }\n",
    "    \n",
    "    return acc.reduce((acc, x) => acc.concat(x));\n",
    "}"
   ]
  },
  {
   "cell_type": "code",
   "execution_count": 18,
   "id": "1cdde223",
   "metadata": {},
   "outputs": [],
   "source": [
    "function timeFunction(name, f) {\n",
    "    console.log(`--------------------------`);\n",
    "    console.log(`${name} started..`);\n",
    "    const t0 = process.hrtime()\n",
    "    f();\n",
    "    const t1 = process.hrtime(t0);\n",
    "    console.log(`${f.name} completed..`);\n",
    "    console.info('Execution time (hr): %ds %dms', t1[0], t1[1] / 1000000);\n",
    "    return t1[0] + t1[1] / 1000000 / 1000;\n",
    "}\n"
   ]
  },
  {
   "cell_type": "code",
   "execution_count": 19,
   "id": "0568a58a",
   "metadata": {},
   "outputs": [
    {
     "name": "stdout",
     "output_type": "stream",
     "text": [
      "--------------------------\n",
      "findSubstring started..\n",
      " completed..\n",
      "Execution time (hr): 0s 1.70325ms\n",
      "--------------------------\n",
      "findSubstring started..\n",
      " completed..\n",
      "Execution time (hr): 0s 4.733458ms\n",
      "--------------------------\n",
      "findSubstring started..\n",
      " completed..\n",
      "Execution time (hr): 0s 2.594959ms\n",
      "--------------------------\n",
      "findSubstring started..\n",
      " completed..\n",
      "Execution time (hr): 0s 4.575583ms\n",
      "--------------------------\n",
      "findSubstring started..\n",
      " completed..\n",
      "Execution time (hr): 0s 8.022125ms\n",
      "--------------------------\n",
      "findSubstring started..\n",
      " completed..\n",
      "Execution time (hr): 0s 12.553791ms\n",
      "--------------------------\n",
      "findSubstring started..\n",
      " completed..\n",
      "Execution time (hr): 0s 14.120125ms\n",
      "--------------------------\n",
      "findSubstring started..\n",
      " completed..\n",
      "Execution time (hr): 0s 19.059541ms\n",
      "--------------------------\n",
      "findSubstring started..\n",
      " completed..\n",
      "Execution time (hr): 0s 24.96275ms\n"
     ]
    },
    {
     "data": {
      "text/html": [
       "\n",
       "  <style>\n",
       "    #mydiv7023bc41-f12f-4d93-95c7-53632f7d479c {\n",
       "        width: 800px;\n",
       "        height: 350px;\n",
       "        top: 0px;\n",
       "        left: 0px;\n",
       "    }\n",
       "  </style>\n",
       "\n",
       "  <div>\n",
       "    <canvas id=\"mydiv7023bc41-f12f-4d93-95c7-53632f7d479c\"></canvas>\n",
       "  </div>\n",
       "\n",
       "  <script>\n",
       "    (function(element) {\n",
       "        require(['./node_modules/chart.js/dist/chart.js'], function(Chart) {   \n",
       "          const labels = [\n",
       "            'January',\n",
       "            'February',\n",
       "            'March',\n",
       "            'April',\n",
       "            'May',\n",
       "            'June',\n",
       "          ];\n",
       "          const data = {\n",
       "            labels: [\n",
       "   610, 1220, 1830,\n",
       "  2440, 3050, 3660,\n",
       "  4270, 4880, 5490\n",
       "],\n",
       "            datasets: [{\n",
       "        label: \"0\",\n",
       "        backgroundColor: 'rgb(44, 62, 80)',\n",
       "        borderColor: 'rgb(44, 62, 80)',\n",
       "        data: [\n",
       "  0.00170325,\n",
       "  0.004733457999999999,\n",
       "  0.002594959,\n",
       "  0.004575583,\n",
       "  0.008022125000000001,\n",
       "  0.012553791,\n",
       "  0.014120124999999999,\n",
       "  0.019059541,\n",
       "  0.02496275\n",
       "],\n",
       "      }]\n",
       "          };\n",
       "          const config = {\n",
       "            type: 'line',\n",
       "            data: data,\n",
       "            options: {}\n",
       "          };\n",
       "          var myChart = new Chart(\n",
       "              document.getElementById(\"mydiv7023bc41-f12f-4d93-95c7-53632f7d479c\"),\n",
       "              config\n",
       "            );\n",
       "        });\n",
       "    })(this.element);\n",
       "</script>\n",
       " "
      ]
     },
     "metadata": {},
     "output_type": "display_data"
    }
   ],
   "source": [
    "const counts = [];\n",
    "const times = [];\n",
    "for (let i = 1; i < 10; i++) {\n",
    "    let s = \"\";\n",
    "    const words = [];\n",
    "    for (let j = 0; j < i*10; j++) {\n",
    "        s += \"aaaaaaaaaaaaaaaaaaaaaaaaaaaaaaaaaaaaaaaaaaaaaaaaaaaaaaaaaaaaa\";\n",
    "        for (let k = 0; k < s.length; k++) {\n",
    "            words.push(\"a\");\n",
    "        }\n",
    "        \n",
    "    }\n",
    "    counts.push(s.length);\n",
    "    times.push(timeFunction(\"findSubstring\", () => findSubstring(s3, words)));\n",
    "}\n",
    "\n",
    "linePlot(counts, [times])"
   ]
  },
  {
   "cell_type": "markdown",
   "id": "3f4efefb",
   "metadata": {},
   "source": [
    "## Challenge: make it faster!\n",
    "\n",
    "1. Do we really need to create `lcstr`?\n",
    "2. Can we convert the recursion to an iteration?\n",
    "3. Examine search1. Did we search the same sub-problem multiple times? Hint: dynamic programming"
   ]
  },
  {
   "cell_type": "code",
   "execution_count": null,
   "id": "53f2978b",
   "metadata": {},
   "outputs": [],
   "source": []
  }
 ],
 "metadata": {
  "kernelspec": {
   "display_name": "TypeScript",
   "language": "typescript",
   "name": "typescript"
  },
  "language_info": {
   "codemirror_mode": {
    "mode": "typescript",
    "name": "javascript",
    "typescript": true
   },
   "file_extension": ".ts",
   "mimetype": "text/typescript",
   "name": "typescript",
   "version": "3.7.2"
  }
 },
 "nbformat": 4,
 "nbformat_minor": 5
}
