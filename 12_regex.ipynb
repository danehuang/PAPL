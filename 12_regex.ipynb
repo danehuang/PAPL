{
 "cells": [
  {
   "cell_type": "code",
   "execution_count": 1,
   "id": "952d8d77",
   "metadata": {},
   "outputs": [
    {
     "data": {
      "text/html": [
       "\n",
       "  <link rel=\"stylesheet\" href=\"node_modules/carbon-components/css/carbon-components.css\">\n",
       "  "
      ]
     },
     "metadata": {},
     "output_type": "display_data"
    },
    {
     "data": {
      "text/html": [
       "\n",
       "<script>\n",
       "require.config({\n",
       "     paths: {\n",
       "     cytoscape: 'https://cdnjs.cloudflare.com/ajax/libs/cytoscape/3.19.0/cytoscape.min'\n",
       "}});\n",
       "</script>\n",
       "  "
      ]
     },
     "metadata": {},
     "output_type": "display_data"
    }
   ],
   "source": [
    "import { requireCytoscape, requireCarbon } from \"./lib/draw\";\n",
    "\n",
    "requireCarbon();\n",
    "requireCytoscape();"
   ]
  },
  {
   "cell_type": "markdown",
   "id": "6cc67c69",
   "metadata": {},
   "source": [
    "# Domain Specific Languages (DSL) and Regular Expressions"
   ]
  },
  {
   "cell_type": "markdown",
   "id": "ca96d89c",
   "metadata": {},
   "source": [
    "## Where Were We?\n",
    "\n",
    "1. Language primitives (i.e., building blocks of languages)\n",
    "2. **Language paradigms** (i.e., combinations of language primitives)\n",
    "    - Last time: React\n",
    "    - This time: **domain specific languages** (DSL)\n",
    "3. Building a language (i.e., designing your own language)"
   ]
  },
  {
   "cell_type": "markdown",
   "id": "b840148a",
   "metadata": {},
   "source": [
    "## Goal\n",
    "\n",
    "1. Introduce programming with **domain specific languages** (DSLs).\n",
    "2. Introduce **regular expressions** as an example of a DSL."
   ]
  },
  {
   "cell_type": "markdown",
   "id": "c710bc65",
   "metadata": {},
   "source": [
    "## Why DSLs?\n",
    "\n",
    "1. Unlike a general purpose programming language, a DSL is designed to solve a class of problems in a specific domain. Consequently, a DSL is not necessarily Turing complete.\n",
    "2. The downside is that there are some programs that you will not be able to write in a DSL.\n",
    "3. The upside is that your programs can have special properties that may be useful for your specific setting."
   ]
  },
  {
   "cell_type": "markdown",
   "id": "5fcc4f24",
   "metadata": {},
   "source": [
    "## Examples of DSLs\n",
    "\n",
    "1. Mathematica: solving mathematical equations\n",
    "2. Matlab: scientific computing\n",
    "3. Gradle: build system\n",
    "4. YACC: parser generator\n",
    "5. SQL: relational database query language"
   ]
  },
  {
   "cell_type": "markdown",
   "id": "a492680c",
   "metadata": {},
   "source": [
    "### Mathematica\n",
    "\n",
    "Example code:\n",
    "```\n",
    "solve x^2 + 4x + 6 = 0\n",
    "```\n",
    "\n",
    "[https://www.wolframalpha.com/](https://www.wolframalpha.com/)"
   ]
  },
  {
   "cell_type": "markdown",
   "id": "3af1d23d",
   "metadata": {},
   "source": [
    "### Matlab\n",
    "\n",
    "\n",
    "Example code:\n",
    "\n",
    "```\n",
    "Ts = 1/50;\n",
    "t = 0:Ts:10-Ts;                     \n",
    "x = sin(2*pi*15*t) + sin(2*pi*20*t);\n",
    "plot(t,x)\n",
    "xlabel('Time (seconds)')\n",
    "ylabel('Amplitude')\n",
    "```\n",
    "\n",
    "[https://www.mathworks.com/products/matlab.html](https://www.mathworks.com/products/matlab.html)"
   ]
  },
  {
   "cell_type": "markdown",
   "id": "006fad85",
   "metadata": {},
   "source": [
    "### Gradle\n",
    "\n",
    "Example code:\n",
    "```\n",
    "dependencies {                              \n",
    "    api(\"junit:junit:4.13\")\n",
    "    implementation(\"junit:junit:4.13\")\n",
    "    testImplementation(\"junit:junit:4.13\")\n",
    "}\n",
    "```\n",
    "\n",
    "[https://docs.gradle.org/current/userguide/userguide.html](https://docs.gradle.org/current/userguide/userguide.html)"
   ]
  },
  {
   "cell_type": "markdown",
   "id": "4e17a1e7",
   "metadata": {},
   "source": [
    "### SQL (Structured Query Language)\n",
    "\n",
    "Example code:\n",
    "\n",
    "```\n",
    "SELECT column1, column2 FROM table1, table2 WHERE column2='value';\n",
    "```\n",
    "\n",
    "[https://www.w3schools.com/sql/](https://www.w3schools.com/sql/)"
   ]
  },
  {
   "cell_type": "markdown",
   "id": "b8f0e31d",
   "metadata": {},
   "source": [
    "### YACC (Yet Another Compiler Compiler)\n",
    "\n",
    "Example code:\n",
    "```\n",
    "input :\n",
    "   | input line\n",
    ";\n",
    "line : '\\n'\n",
    "   | exp '\\n'  { printf (\"\\t%.10g\\n\", $1); }\n",
    ";\n",
    "exp : NUM             { $$ = $1;         }\n",
    "   | exp exp '+'     { $$ = $1 + $2;    }\n",
    "   | exp exp '-'     { $$ = $1 - $2;    }\n",
    "   | exp exp '*'     { $$ = $1 * $2;    }\n",
    "   | exp exp '/'     { $$ = $1 / $2;    }\n",
    "   /* Exponentiation */\n",
    "   | exp exp '^'     { $$ = pow ($1, $2); }\n",
    "   /* Unary minus    */\n",
    "  | exp 'n'         { $$ = -$1;        }\n",
    "```\n",
    "\n",
    "[https://www.cs.ccu.edu.tw/~naiwei/cs5605/YaccBison.html](https://www.cs.ccu.edu.tw/~naiwei/cs5605/YaccBison.html)\n",
    "\n",
    "Question: does YACC code remind you of something that you have seen in class?"
   ]
  },
  {
   "cell_type": "markdown",
   "id": "61365733",
   "metadata": {},
   "source": [
    "## Common Problem: Pattern Matching on Strings"
   ]
  },
  {
   "cell_type": "markdown",
   "id": "d86ae0a2",
   "metadata": {},
   "source": [
    "### Let's start with simple patterns"
   ]
  },
  {
   "cell_type": "code",
   "execution_count": 2,
   "id": "71c0082a",
   "metadata": {},
   "outputs": [],
   "source": [
    "const files = [\"hw1.ts\", \"hw1.js\", \"hw2.ts\", \"hw2.js\"];"
   ]
  },
  {
   "cell_type": "code",
   "execution_count": 3,
   "id": "939d2a16",
   "metadata": {},
   "outputs": [
    {
     "name": "stdout",
     "output_type": "stream",
     "text": [
      "[ \u001b[32m'hw1.ts'\u001b[39m, \u001b[32m'hw2.ts'\u001b[39m ]\n"
     ]
    }
   ],
   "source": [
    "// Get all strings that end with \".ts\"\n",
    "files.filter((x) => x.endsWith(\".ts\"));"
   ]
  },
  {
   "cell_type": "code",
   "execution_count": 4,
   "id": "193c5468",
   "metadata": {},
   "outputs": [
    {
     "name": "stdout",
     "output_type": "stream",
     "text": [
      "[ \u001b[32m'hw1.js'\u001b[39m, \u001b[32m'hw2.js'\u001b[39m ]\n"
     ]
    }
   ],
   "source": [
    "// Get all strings that end with \".js\"\n",
    "files.filter((x) => x.endsWith(\".js\"));"
   ]
  },
  {
   "cell_type": "code",
   "execution_count": 5,
   "id": "796251ff",
   "metadata": {},
   "outputs": [
    {
     "name": "stdout",
     "output_type": "stream",
     "text": [
      "[ \u001b[32m'hw1.ts'\u001b[39m, \u001b[32m'hw1.js'\u001b[39m ]\n"
     ]
    }
   ],
   "source": [
    "// Get all strings that begin with \"hw1\"\n",
    "files.filter((x) => x.startsWith(\"hw1\"));"
   ]
  },
  {
   "cell_type": "code",
   "execution_count": 6,
   "id": "5c8dfe7f",
   "metadata": {},
   "outputs": [
    {
     "name": "stdout",
     "output_type": "stream",
     "text": [
      "[ \u001b[32m'hw1.ts'\u001b[39m ]\n"
     ]
    }
   ],
   "source": [
    "// Get all strings that begin with \"hw1\" and endsWith \".ts\"\n",
    "files.filter((x) => x.startsWith(\"hw1\") && x.endsWith(\".ts\"));"
   ]
  },
  {
   "cell_type": "markdown",
   "id": "eb665b3d",
   "metadata": {},
   "source": [
    "### More complex patterns\n",
    "\n",
    "Suppose you want to check if phone numbers are valid."
   ]
  },
  {
   "cell_type": "code",
   "execution_count": 7,
   "id": "cfe20d3e",
   "metadata": {},
   "outputs": [],
   "source": [
    "const phoneNumbers = [\"123-456-7890\", \"(123) 456-7890\", \"1234567890\", \"+1 1234567890\"]; // phone numbers"
   ]
  },
  {
   "cell_type": "code",
   "execution_count": 8,
   "id": "9bb7db4c",
   "metadata": {},
   "outputs": [
    {
     "name": "stdout",
     "output_type": "stream",
     "text": [
      "1234567890\n"
     ]
    }
   ],
   "source": [
    "function replaceAll(s: string, find: string, replace: string): string {\n",
    "    let prev = s;\n",
    "    let curr = s.replace(find, replace);\n",
    "    while (prev !== curr) {\n",
    "        prev = curr;\n",
    "        curr = curr.replace(find, replace);\n",
    "    }\n",
    "    return curr;\n",
    "}\n",
    "replaceAll(\"123-456-7890\", \"-\", \"\")"
   ]
  },
  {
   "cell_type": "code",
   "execution_count": 9,
   "id": "7a6aceec",
   "metadata": {},
   "outputs": [
    {
     "name": "stdout",
     "output_type": "stream",
     "text": [
      "[ \u001b[32m'1234567890'\u001b[39m, \u001b[32m'1234567890'\u001b[39m, \u001b[32m'1234567890'\u001b[39m, \u001b[32m'11234567890'\u001b[39m ]\n"
     ]
    }
   ],
   "source": [
    "const phoneNumbers2 = phoneNumbers.map((x) => replaceAll(x, \"-\", \"\"))\n",
    "                                  .map((x) => replaceAll(x, \" \", \"\"))\n",
    "                                  .map((x) => replaceAll(x, \"(\", \"\"))\n",
    "                                  .map((x) => replaceAll(x, \")\", \"\"))\n",
    "                                  .map((x) => replaceAll(x, \"+\", \"\"))\n",
    "phoneNumbers2"
   ]
  },
  {
   "cell_type": "code",
   "execution_count": 10,
   "id": "74e1f53c",
   "metadata": {},
   "outputs": [],
   "source": [
    "function isNumber(s: string): boolean {\n",
    "    for (const c of s) {\n",
    "        if (! (c === \"0\" || c === \"1\" || c === \"2\" || c === \"3\" || c === \"4\" ||\n",
    "               c === \"5\" || c === \"6\" || c === \"7\" || c === \"8\" || c === \"9\") ) {\n",
    "            return false;\n",
    "        }\n",
    "    }\n",
    "    return true\n",
    "}"
   ]
  },
  {
   "cell_type": "code",
   "execution_count": 11,
   "id": "0dd17c6d",
   "metadata": {},
   "outputs": [
    {
     "name": "stdout",
     "output_type": "stream",
     "text": [
      "[ \u001b[32m'1234567890'\u001b[39m, \u001b[32m'1234567890'\u001b[39m, \u001b[32m'1234567890'\u001b[39m, \u001b[32m'11234567890'\u001b[39m ]\n"
     ]
    }
   ],
   "source": [
    "phoneNumbers2.filter(isNumber)"
   ]
  },
  {
   "cell_type": "markdown",
   "id": "a4bd709f",
   "metadata": {},
   "source": [
    "### Problems with Solution\n",
    "\n",
    "1. Loses information:\n",
    "    * +1 signifies country code\n",
    "    * (123) signifies area code\n",
    "2. This information may be useful for checking the validity of phone numbers, e.g., not all 10 digit numbers are valid phone numbers. The grouping of the numbers gives geographic information.\n",
    "3. Does not enforce that phone numbers have a certain number of digits. For example, is \"12389348762342134\" an area code?"
   ]
  },
  {
   "cell_type": "markdown",
   "id": "749f56b1",
   "metadata": {},
   "source": [
    "### Other examples of common patterns\n",
    "\n",
    "1. URLs\n",
    "    * https://www.google.com, www.google.com\n",
    "2. ZIP codes\n",
    "    * 12345 vs. 12345-678\n",
    "3. Valid variable names in a programming language\n",
    "    * Cannot start variables with a number in TypeScript\n",
    "4. Extract emails and links from text"
   ]
  },
  {
   "cell_type": "markdown",
   "id": "4f5c9a42",
   "metadata": {},
   "source": [
    "## What is the idea of a DSL?\n",
    "\n",
    "Claim: Using string functions + general-purpose code is a no go for several reasons.\n",
    "1. It requires a non-programmer to know how to program in a general-purpose language.\n",
    "2. The non-programmer may find a more familar syntax easier to understand.\n",
    "3. Therefore, we should design a language that is more familiar and easier to use."
   ]
  },
  {
   "cell_type": "markdown",
   "id": "30cae047",
   "metadata": {},
   "source": [
    "## Regular Expressions\n",
    "\n",
    "1. Addresses the string matching problem, thus useful.\n",
    "2. Rich connections to formal language theory.\n",
    "     * Take CSC 520.\n",
    "     * [https://en.wikipedia.org/wiki/Chomsky_hierarchy](https://en.wikipedia.org/wiki/Chomsky_hierarchy)\n",
    "     * Example of a DSL designed by computer scientists for computer scientists."
   ]
  },
  {
   "cell_type": "markdown",
   "id": "81aa6695",
   "metadata": {},
   "source": [
    "### Regular Expressions"
   ]
  },
  {
   "cell_type": "markdown",
   "id": "c2547fee",
   "metadata": {},
   "source": [
    "### Regular Expressions for File Extensions"
   ]
  },
  {
   "cell_type": "code",
   "execution_count": 12,
   "id": "cdf18f97",
   "metadata": {},
   "outputs": [],
   "source": [
    "let regexpFileExt: RegExp = /.*\\.ts$/;"
   ]
  },
  {
   "cell_type": "code",
   "execution_count": 13,
   "id": "68d7bcd7",
   "metadata": {},
   "outputs": [
    {
     "name": "stdout",
     "output_type": "stream",
     "text": [
      "[ \u001b[32m'.ts'\u001b[39m, \u001b[32m'hw2.ts'\u001b[39m ]\n"
     ]
    }
   ],
   "source": [
    "const files = [\".ts\", \"hw1.js\", \"hw2.ts\", \"hw2.js\"];\n",
    "files.filter((x) => regexpFileExt.test(x))"
   ]
  },
  {
   "cell_type": "markdown",
   "id": "49e3b163",
   "metadata": {},
   "source": [
    "Key\n",
    "\n",
    "1. `/` and `/` signify the start and end of a regular expression similar to \"\" for strings.\n",
    "2. `.` is a **wildcard**, i.e., it matches any character.\n",
    "3. `\\.` escapes `.` so that it matches a literal period similar to escaping characters in a string.\n",
    "4. `t` and `s` stand for literal characters to match.\n",
    "5. `$` means end of string."
   ]
  },
  {
   "cell_type": "markdown",
   "id": "8f71216c",
   "metadata": {},
   "source": [
    "### Regular Expressions for Phone Numbers"
   ]
  },
  {
   "cell_type": "markdown",
   "id": "59d9e916",
   "metadata": {},
   "source": [
    "#### Phone numbers 1"
   ]
  },
  {
   "cell_type": "code",
   "execution_count": 14,
   "id": "d45dfb32",
   "metadata": {},
   "outputs": [],
   "source": [
    "const phoneNumbers = [\"123-456-7890\", \"(123) 456-7890\", \"1234567890\", \"+1 1234567890\"]; // phone numbers"
   ]
  },
  {
   "cell_type": "code",
   "execution_count": 15,
   "id": "84d7ae34",
   "metadata": {},
   "outputs": [
    {
     "name": "stdout",
     "output_type": "stream",
     "text": [
      "[ \u001b[32m'1234567890'\u001b[39m ]\n"
     ]
    }
   ],
   "source": [
    "let regexpPhone: RegExp = /^[0-9]{3}[0-9]{3}[0-9]{4}$/;\n",
    "phoneNumbers.filter((x) => regexpPhone.test(x));"
   ]
  },
  {
   "cell_type": "markdown",
   "id": "9fe9da81",
   "metadata": {},
   "source": [
    "Key\n",
    "\n",
    "1. `^` means start of string.\n",
    "3. `[0-9]` means every character between `0` and `9`.\n",
    "4. `{x}` means exactly x matches of the preceeding expression."
   ]
  },
  {
   "cell_type": "markdown",
   "id": "83142a8a",
   "metadata": {},
   "source": [
    "#### Phone numbers 2"
   ]
  },
  {
   "cell_type": "code",
   "execution_count": 16,
   "id": "4ed78b45",
   "metadata": {},
   "outputs": [
    {
     "name": "stdout",
     "output_type": "stream",
     "text": [
      "[ \u001b[32m'123-456-7890'\u001b[39m, \u001b[32m'1234567890'\u001b[39m ]\n"
     ]
    }
   ],
   "source": [
    "let regexpPhone2: RegExp = /^[0-9]{3}\\s*-?\\s*[0-9]{3}\\s*-?\\s*[0-9]{4}$/;\n",
    "phoneNumbers.filter((x) => regexpPhone2.test(x));"
   ]
  },
  {
   "cell_type": "markdown",
   "id": "b86e8aa8",
   "metadata": {},
   "source": [
    "Key\n",
    "\n",
    "1. `\\s` means any white space character.\n",
    "2. `*` means 0 or more occurrences of previous character.\n",
    "3. `?` means 0 or 1 occurrences of previous character."
   ]
  },
  {
   "cell_type": "markdown",
   "id": "d953d94e",
   "metadata": {},
   "source": [
    "#### Phone numbers 3"
   ]
  },
  {
   "cell_type": "code",
   "execution_count": 17,
   "id": "78a4687f",
   "metadata": {},
   "outputs": [],
   "source": [
    "let regexpPhone3: RegExp = /^(\\d{3})|(\\(\\d{3}\\))\\s*-?\\s*\\d{3}\\s*-?\\s*\\d{4}$/;"
   ]
  },
  {
   "cell_type": "code",
   "execution_count": 18,
   "id": "b3bab47e",
   "metadata": {},
   "outputs": [
    {
     "name": "stdout",
     "output_type": "stream",
     "text": [
      "[ \u001b[32m'123-456-7890'\u001b[39m, \u001b[32m'(123) 456-7890'\u001b[39m, \u001b[32m'1234567890'\u001b[39m ]\n"
     ]
    }
   ],
   "source": [
    "phoneNumbers.filter((x) => regexpPhone3.test(x))"
   ]
  },
  {
   "cell_type": "markdown",
   "id": "a2b02e34",
   "metadata": {},
   "source": [
    "Key\n",
    "\n",
    "1. `|` means either the left or the right should match.\n",
    "2. `\\d` = `[0-9]`\n",
    "3. `\\(` means match the literal `(` because it's part of the regular expression language."
   ]
  },
  {
   "cell_type": "markdown",
   "id": "26ce1828",
   "metadata": {},
   "source": [
    "#### Phone numbers 4"
   ]
  },
  {
   "cell_type": "code",
   "execution_count": 19,
   "id": "97d4ea81",
   "metadata": {},
   "outputs": [],
   "source": [
    "let regexpPhone4: RegExp = /^(\\+\\d+)?\\s*(\\d{3})|(\\(\\d{3}\\))\\s*-?\\s*\\d{3}\\s*-?\\s*\\d{4}$/;"
   ]
  },
  {
   "cell_type": "code",
   "execution_count": 20,
   "id": "47105add",
   "metadata": {},
   "outputs": [
    {
     "name": "stdout",
     "output_type": "stream",
     "text": [
      "[ \u001b[32m'123-456-7890'\u001b[39m, \u001b[32m'(123) 456-7890'\u001b[39m, \u001b[32m'1234567890'\u001b[39m, \u001b[32m'+1 1234567890'\u001b[39m ]\n"
     ]
    }
   ],
   "source": [
    "phoneNumbers.filter((x) => regexpPhone4.test(x))"
   ]
  },
  {
   "cell_type": "markdown",
   "id": "18e79c67",
   "metadata": {},
   "source": [
    "Key\n",
    "\n",
    "1. `+` means 1 or more occurrences"
   ]
  },
  {
   "cell_type": "markdown",
   "id": "e055d0e8",
   "metadata": {},
   "source": [
    "### Regular Expressions for Emails"
   ]
  },
  {
   "cell_type": "code",
   "execution_count": 21,
   "id": "140e0d76",
   "metadata": {},
   "outputs": [
    {
     "name": "stdout",
     "output_type": "stream",
     "text": [
      "\u001b[33mtrue\u001b[39m\n",
      "\u001b[33mfalse\u001b[39m\n",
      "\u001b[33mtrue\u001b[39m\n"
     ]
    }
   ],
   "source": [
    "let regexpEmail: RegExp = /^[\\w.-]+@[\\w.-]+$/;\n",
    "console.log(regexpEmail.test(\"bob@sfsu.edu\"));\n",
    "console.log(regexpEmail.test(\"bobsfsu.edu\"));\n",
    "console.log(regexpEmail.test(\"bob@sfsu\"));"
   ]
  },
  {
   "cell_type": "markdown",
   "id": "b6952fcc",
   "metadata": {},
   "source": [
    "### Regular Expression Summary\n",
    "\n",
    "1. `/` and `/` signify the start and end of a regular expression similar to \"\" for strings.\n",
    "2. `$` means end of string.\n",
    "3. `^` means start of string.\n",
    "\n",
    "4. `t` and `s` stand for literal characters to match.\n",
    "5. `.` is a **wildcard**, i.e., it matches any character.\n",
    "6. `\\.` escapes `.` so that it matches a literal period similar to escaping characters in a string.\n",
    "\n",
    "7. `\\s` means any white space character.\n",
    "8. `\\d` = `[0-9]`\n",
    "9. `[0-9]` means every character between `0` and `9`.\n",
    "\n",
    "10. `|` means either the left or the right should match.\n",
    "11. `{x}` means exactly x matches of the preceeding expression.\n",
    "12. `*` means 0 or more occurrences of previous character.\n",
    "13. `?` means 0 or 1 occurrences of previous character.\n",
    "14. `+` means 1 or more occurrences"
   ]
  },
  {
   "cell_type": "markdown",
   "id": "3ba99999",
   "metadata": {},
   "source": [
    "### Implementing Regular Expressions"
   ]
  },
  {
   "cell_type": "code",
   "execution_count": 22,
   "id": "ed99d297",
   "metadata": {},
   "outputs": [],
   "source": [
    "type RegExp =\n",
    "  | { tag: \"VOID\" }\n",
    "  | { tag: \"EMPTY\" }  // \"\"\n",
    "  | { tag: \"CHAR\", char: string } // match specific character, i.e., character case\n",
    "  | { tag: \"STAR\", re: RegExp } // match any number, i.e., *\n",
    "  | { tag: \"CONCAT\", re1: RegExp, re2: RegExp } // match re1 followed by re2, i.e., (re1)(re2)\n",
    "  | { tag: \"OR\", re1: RegExp, re2: RegExp }  // match re1 or match re2, i.e., |"
   ]
  },
  {
   "cell_type": "code",
   "execution_count": 23,
   "id": "416757ae",
   "metadata": {},
   "outputs": [],
   "source": [
    "function newVoid(): RegExp { return { tag: \"VOID\" } }\n",
    "function newEmpty(): RegExp { return { tag: \"EMPTY\" } }\n",
    "function newChar(char: string): RegExp { return { tag: \"CHAR\", char: char } }\n",
    "function newStar(re: RegExp): RegExp { return { tag: \"STAR\", re: re } }\n",
    "function newConcat(re1: RegExp, re2: RegExp): RegExp { return { tag: \"CONCAT\", re1: re1, re2: re2 } }\n",
    "function newOr(re1: RegExp, re2: RegExp): RegExp { return { tag: \"OR\", re1: re1, re2: re2 } }"
   ]
  },
  {
   "cell_type": "code",
   "execution_count": 24,
   "id": "22b487ca",
   "metadata": {},
   "outputs": [],
   "source": [
    "// \"asdfasdfasdf\"\n",
    "// [a, s, d, f, a, s, d, f, a, s, d, f]\n",
    "\n",
    "function regexpTest(arr: string[], re: RegExp): boolean {\n",
    "    switch (re.tag) {\n",
    "        case \"VOID\": {\n",
    "            return false;\n",
    "        }\n",
    "        case \"EMPTY\": {\n",
    "            return arr.length === 0;\n",
    "        }\n",
    "        case \"CHAR\": {\n",
    "            return arr.length === 1 ? arr[0] === re.char : false;\n",
    "        }\n",
    "        case \"STAR\": {\n",
    "            if (arr.length === 0) {\n",
    "                return true;\n",
    "            }\n",
    "            for (let i = 1; i <= arr.length; i++) {\n",
    "                let arr2 = arr.slice(0, i);\n",
    "                let count = 1;\n",
    "                while (regexpTest(arr2, re.re) && arr2.length === i) {\n",
    "                    arr2 = arr.slice(count*i, (count+1)*i);\n",
    "                    count += 1;\n",
    "                }\n",
    "                if (arr2.length === 0) {\n",
    "                    return true;\n",
    "                }\n",
    "            }\n",
    "            return false;\n",
    "        }\n",
    "        case \"CONCAT\": {            \n",
    "            for (let i = 0; i <= arr.length; i++) {\n",
    "                const left = arr.slice(0, i);\n",
    "                const right = arr.slice(i);\n",
    "                if (regexpTest(left, re.re1) && regexpTest(right, re.re2)) {\n",
    "                    return true;\n",
    "                }\n",
    "            }\n",
    "            return false;\n",
    "        }\n",
    "        case \"OR\": {\n",
    "            return regexpTest(arr, re.re1) || regexpTest(arr, re.re2);\n",
    "        }\n",
    "    }\n",
    "}"
   ]
  },
  {
   "cell_type": "code",
   "execution_count": 25,
   "id": "b57c29f6",
   "metadata": {},
   "outputs": [
    {
     "name": "stdout",
     "output_type": "stream",
     "text": [
      "\u001b[33mtrue\u001b[39m\n",
      "\u001b[33mfalse\u001b[39m\n",
      "\u001b[33mfalse\u001b[39m\n"
     ]
    }
   ],
   "source": [
    "const re1 = newConcat(newChar('a'), newConcat(newChar('b'), newChar('c')));\n",
    "console.log(regexpTest(['a', 'b', 'c'], re1))\n",
    "console.log(regexpTest(['a', 'b'], re1))\n",
    "console.log(regexpTest(['a', 'a', 'b', 'c'], re1))"
   ]
  },
  {
   "cell_type": "code",
   "execution_count": 26,
   "id": "b1f5df18",
   "metadata": {},
   "outputs": [
    {
     "name": "stdout",
     "output_type": "stream",
     "text": [
      "\u001b[33mtrue\u001b[39m\n",
      "\u001b[33mtrue\u001b[39m\n",
      "\u001b[33mfalse\u001b[39m\n"
     ]
    }
   ],
   "source": [
    "const re2_ = newConcat(newChar('a'), newChar('b'));\n",
    "const re2 = newOr(re1, re2_);\n",
    "console.log(regexpTest(['a', 'b', 'c'], re2))\n",
    "console.log(regexpTest(['a', 'b'], re2))\n",
    "console.log(regexpTest(['a', 'a', 'b', 'c'], re2))"
   ]
  },
  {
   "cell_type": "code",
   "execution_count": 27,
   "id": "82c07435",
   "metadata": {},
   "outputs": [
    {
     "name": "stdout",
     "output_type": "stream",
     "text": [
      "\u001b[33mtrue\u001b[39m\n",
      "\u001b[33mtrue\u001b[39m\n",
      "\u001b[33mtrue\u001b[39m\n",
      "\u001b[33mtrue\u001b[39m\n",
      "\u001b[33mfalse\u001b[39m\n"
     ]
    }
   ],
   "source": [
    "const re3 = newStar(re1);\n",
    "console.log(regexpTest([], re3))\n",
    "console.log(regexpTest(['a', 'b', 'c'], re3))\n",
    "console.log(regexpTest(['a', 'b', 'c', 'a', 'b', 'c'], re3))\n",
    "console.log(regexpTest(['a', 'b', 'c', 'a', 'b', 'c', 'a', 'b', 'c'], re3))\n",
    "console.log(regexpTest(['a', 'b', 'c', 'a', 'b', 'c', 'a', 'b', 'c', 'a'], re3))"
   ]
  },
  {
   "cell_type": "markdown",
   "id": "7c39fe72",
   "metadata": {},
   "source": [
    "## Summary\n",
    "\n",
    "1. We introduced the idea of a DSL and saw many examples of DSLs in different domains.\n",
    "2. We focused on **regular expressions** as a DSL central to computer science.\n",
    "3. Regular expressions can be used for matching patterns on strings."
   ]
  },
  {
   "cell_type": "code",
   "execution_count": null,
   "id": "5f89a8ac",
   "metadata": {},
   "outputs": [],
   "source": []
  }
 ],
 "metadata": {
  "kernelspec": {
   "display_name": "TypeScript",
   "language": "typescript",
   "name": "typescript"
  },
  "language_info": {
   "codemirror_mode": {
    "mode": "typescript",
    "name": "javascript",
    "typescript": true
   },
   "file_extension": ".ts",
   "mimetype": "text/typescript",
   "name": "typescript",
   "version": "3.7.2"
  }
 },
 "nbformat": 4,
 "nbformat_minor": 5
}
