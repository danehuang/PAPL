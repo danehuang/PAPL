{
 "cells": [
  {
   "cell_type": "code",
   "execution_count": 1,
   "id": "8158a99f",
   "metadata": {},
   "outputs": [
    {
     "data": {
      "text/html": [
       "\n",
       "  <link rel=\"stylesheet\" href=\"node_modules/carbon-components/css/carbon-components.css\">\n",
       "  "
      ]
     },
     "metadata": {},
     "output_type": "display_data"
    },
    {
     "data": {
      "text/html": [
       "\n",
       "<script>\n",
       "require.config({\n",
       "     paths: {\n",
       "     cytoscape: 'https://cdnjs.cloudflare.com/ajax/libs/cytoscape/3.19.0/cytoscape.min'\n",
       "}});\n",
       "</script>\n",
       "  "
      ]
     },
     "metadata": {},
     "output_type": "display_data"
    }
   ],
   "source": [
    "import { requireCarbon, requireCytoscape, linePlot } from \"./lib/draw\";\n",
    "\n",
    "requireCarbon();\n",
    "requireCytoscape();"
   ]
  },
  {
   "cell_type": "markdown",
   "id": "479023fa",
   "metadata": {},
   "source": [
    "# Pure Functions"
   ]
  },
  {
   "cell_type": "markdown",
   "id": "9a85d675",
   "metadata": {},
   "source": [
    "## Where Were We?\n",
    "\n",
    "1. **Language primitives** (i.e., building blocks of languages)\n",
    "    * Last time: TypeScript introduction\n",
    "    * This time: **pure functions**\n",
    "2. Language paradigms (i.e., combinations of language primitives)\n",
    "3. Building a language (i.e., designing your own language)"
   ]
  },
  {
   "cell_type": "markdown",
   "id": "a66b4d24",
   "metadata": {},
   "source": [
    "## Goal\n",
    "\n",
    "1. Introduce the concept of a **pure** function.\n",
    "2. Learn to distinguish between **immutable** (pure) and **mutable** (impure) code.\n",
    "3. Learn tradeoffs between pure and impure code."
   ]
  },
  {
   "cell_type": "markdown",
   "id": "b9aee97d",
   "metadata": {},
   "source": [
    "## Outline\n",
    "\n",
    "- What is a pure function?\n",
    "- Why pure functions? \n",
    "- Why not pure functions?"
   ]
  },
  {
   "cell_type": "markdown",
   "id": "b14e2775",
   "metadata": {},
   "source": [
    "## What is a Pure Function?\n",
    "\n",
    "We'll introduce the idea of a pure function via examples."
   ]
  },
  {
   "cell_type": "markdown",
   "id": "520ae4fb",
   "metadata": {},
   "source": [
    "### Example 1"
   ]
  },
  {
   "cell_type": "code",
   "execution_count": 2,
   "id": "16969db3",
   "metadata": {},
   "outputs": [],
   "source": [
    "function addOne(x: number): number {  // Question: pure or impure?\n",
    "    return x + 1;\n",
    "}"
   ]
  },
  {
   "cell_type": "markdown",
   "id": "3be4e346",
   "metadata": {},
   "source": [
    "### Pure Functions\n",
    "\n",
    "1. `addOne` is an example of an **pure** function. A **pure** function is one that produces the same outputs given the same inputs. \n",
    "2. One constraint that this forces on pure functions is that it cannot modify its input arguments. Otherwise, a pure function might produce different outputs given the same inputs.\n",
    "3. A pure function must return a value, and hence, its return type is not void."
   ]
  },
  {
   "cell_type": "markdown",
   "id": "9a057f1f",
   "metadata": {},
   "source": [
    "#### Same output given same input"
   ]
  },
  {
   "cell_type": "code",
   "execution_count": 3,
   "id": "92720b99",
   "metadata": {},
   "outputs": [
    {
     "name": "stdout",
     "output_type": "stream",
     "text": [
      "\u001b[33m2\u001b[39m\n",
      "\u001b[33m2\u001b[39m\n",
      "\u001b[33m2\u001b[39m\n"
     ]
    }
   ],
   "source": [
    "console.log(addOne(1)); // gives 2 on input 1\n",
    "console.log(addOne(1)); // gives 2 on input 1\n",
    "console.log(addOne(1)); // gives 2 on input 1"
   ]
  },
  {
   "cell_type": "markdown",
   "id": "4616bd6a",
   "metadata": {},
   "source": [
    "#### Does not modify argument"
   ]
  },
  {
   "cell_type": "code",
   "execution_count": 4,
   "id": "34541550",
   "metadata": {},
   "outputs": [
    {
     "name": "stdout",
     "output_type": "stream",
     "text": [
      "before \u001b[33m3\u001b[39m\n",
      "addOne \u001b[33m4\u001b[39m\n",
      "after \u001b[33m3\u001b[39m\n"
     ]
    }
   ],
   "source": [
    "const x = 3;\n",
    "console.log(\"before\", x);  // 3 before function call\n",
    "console.log(\"addOne\", addOne(x));\n",
    "console.log(\"after\", x);  // 3 after function call"
   ]
  },
  {
   "cell_type": "code",
   "execution_count": 5,
   "id": "68f8cefe",
   "metadata": {},
   "outputs": [
    {
     "name": "stdout",
     "output_type": "stream",
     "text": [
      "before \u001b[33m3\u001b[39m\n",
      "addOne \u001b[33m4\u001b[39m\n",
      "after \u001b[33m3\u001b[39m\n"
     ]
    }
   ],
   "source": [
    "let x = 3;\n",
    "console.log(\"before\", x);  // 3 before function call\n",
    "console.log(\"addOne\", addOne(x));\n",
    "console.log(\"after\", x);  // 3 after function call"
   ]
  },
  {
   "cell_type": "markdown",
   "id": "d69e9b3f",
   "metadata": {},
   "source": [
    "### Example 2"
   ]
  },
  {
   "cell_type": "code",
   "execution_count": 6,
   "id": "b4cf53ce",
   "metadata": {},
   "outputs": [],
   "source": [
    "let y = 1;\n",
    "function magicAdd(x: number): number {  // Question: pure or impure?\n",
    "    y += 1;\n",
    "    return x + y;\n",
    "}"
   ]
  },
  {
   "cell_type": "markdown",
   "id": "6dc58fda",
   "metadata": {},
   "source": [
    "### Impure Functions\n",
    "\n",
    "1. `magicAdd` is an example of an **impure** function. If a function is not a pure function, it is called **impure**. An impure function can produce different outputs given the same inputs. Consequently, it is not a mathematical function.\n",
    "2. There are at least two ways to create an impure function.\n",
    "    - **mutate** or change its input arguments. We'll see an example of this later\n",
    "    - Use global variables. For example, `magicAdd` uses the global variable `y`.\n",
    "3. The consequence of using impure functions is that calling an impure function multiple times with the same argument may produce different results. For example, calling `magicAdd(1);` produced different results each time."
   ]
  },
  {
   "cell_type": "markdown",
   "id": "c853d2db",
   "metadata": {},
   "source": [
    "#### Note that it does not modify arguments"
   ]
  },
  {
   "cell_type": "code",
   "execution_count": 7,
   "id": "3be062b2",
   "metadata": {},
   "outputs": [
    {
     "name": "stdout",
     "output_type": "stream",
     "text": [
      "before \u001b[33m3\u001b[39m\n",
      "addOne \u001b[33m5\u001b[39m\n",
      "after \u001b[33m3\u001b[39m\n"
     ]
    }
   ],
   "source": [
    "const x = 3;\n",
    "console.log(\"before\", x);  // 3 before function call\n",
    "console.log(\"addOne\", magicAdd(x));\n",
    "console.log(\"after\", x);  // 3 after function call"
   ]
  },
  {
   "cell_type": "markdown",
   "id": "dc71481c",
   "metadata": {},
   "source": [
    "#### However it gives different outputs given same input"
   ]
  },
  {
   "cell_type": "code",
   "execution_count": 8,
   "id": "de6df167",
   "metadata": {},
   "outputs": [
    {
     "name": "stdout",
     "output_type": "stream",
     "text": [
      "\u001b[33m4\u001b[39m\n",
      "\u001b[33m5\u001b[39m\n"
     ]
    }
   ],
   "source": [
    "console.log(magicAdd(1));\n",
    "console.log(magicAdd(1));  // gives different output given same input"
   ]
  },
  {
   "cell_type": "markdown",
   "id": "9d939592",
   "metadata": {},
   "source": [
    "### Example 3\n",
    "\n",
    "Suppose you want to concatenate some arrays together."
   ]
  },
  {
   "cell_type": "code",
   "execution_count": 9,
   "id": "7f104359",
   "metadata": {},
   "outputs": [],
   "source": [
    "const arr1: number[] = [1, 2, 3];\n",
    "const arr2: number[] = [4, 5, 6];"
   ]
  },
  {
   "cell_type": "code",
   "execution_count": 10,
   "id": "189ba691",
   "metadata": {},
   "outputs": [],
   "source": [
    "function sensibleConcat(arr1: number[], arr2: number[]): void {  // void means that the function does not return anything\n",
    "    for (const x of arr2) {  // Loop through arr2\n",
    "        arr1.push(x);  // Add the element x of arr2 to end of arr1\n",
    "    }\n",
    "    // Notice no return statement\n",
    "}"
   ]
  },
  {
   "cell_type": "markdown",
   "id": "26c77ffd",
   "metadata": {},
   "source": [
    "#### Does not return anything and so must mutate arguments"
   ]
  },
  {
   "cell_type": "code",
   "execution_count": 11,
   "id": "adcb2d38",
   "metadata": {},
   "outputs": [
    {
     "name": "stdout",
     "output_type": "stream",
     "text": [
      "[ \u001b[33m1\u001b[39m, \u001b[33m2\u001b[39m, \u001b[33m3\u001b[39m, \u001b[33m4\u001b[39m, \u001b[33m5\u001b[39m, \u001b[33m6\u001b[39m ]\n"
     ]
    }
   ],
   "source": [
    "sensibleConcat(arr1, arr2);\n",
    "console.log(arr1);  // Note that arr1 is const, but it is still mutated!"
   ]
  },
  {
   "cell_type": "markdown",
   "id": "0b2d1b1e",
   "metadata": {},
   "source": [
    "#### Consequently it modifies arguments and is not pure"
   ]
  },
  {
   "cell_type": "code",
   "execution_count": 12,
   "id": "a7e2edd8",
   "metadata": {},
   "outputs": [
    {
     "name": "stdout",
     "output_type": "stream",
     "text": [
      "Before [ \u001b[33m1\u001b[39m, \u001b[33m2\u001b[39m, \u001b[33m3\u001b[39m, \u001b[33m4\u001b[39m, \u001b[33m5\u001b[39m, \u001b[33m6\u001b[39m ]\n",
      "After [\n",
      "  \u001b[33m1\u001b[39m, \u001b[33m2\u001b[39m, \u001b[33m3\u001b[39m, \u001b[33m4\u001b[39m, \u001b[33m5\u001b[39m,\n",
      "  \u001b[33m6\u001b[39m, \u001b[33m4\u001b[39m, \u001b[33m5\u001b[39m, \u001b[33m6\u001b[39m\n",
      "]\n"
     ]
    }
   ],
   "source": [
    "console.log(\"Before\", arr1);\n",
    "sensibleConcat(arr1, arr2);\n",
    "console.log(\"After\", arr1);  // Notice that arr1 changes"
   ]
  },
  {
   "cell_type": "markdown",
   "id": "af56f982",
   "metadata": {},
   "source": [
    "#### And calling the same function multiple times keeps mutating its arguments"
   ]
  },
  {
   "cell_type": "code",
   "execution_count": 13,
   "id": "c6c72359",
   "metadata": {},
   "outputs": [
    {
     "name": "stdout",
     "output_type": "stream",
     "text": [
      "Before [\n",
      "  \u001b[33m1\u001b[39m, \u001b[33m2\u001b[39m, \u001b[33m3\u001b[39m, \u001b[33m4\u001b[39m, \u001b[33m5\u001b[39m,\n",
      "  \u001b[33m6\u001b[39m, \u001b[33m4\u001b[39m, \u001b[33m5\u001b[39m, \u001b[33m6\u001b[39m\n",
      "]\n",
      "After [\n",
      "  \u001b[33m1\u001b[39m, \u001b[33m2\u001b[39m, \u001b[33m3\u001b[39m, \u001b[33m4\u001b[39m, \u001b[33m5\u001b[39m,\n",
      "  \u001b[33m6\u001b[39m, \u001b[33m4\u001b[39m, \u001b[33m5\u001b[39m, \u001b[33m6\u001b[39m, \u001b[33m4\u001b[39m,\n",
      "  \u001b[33m5\u001b[39m, \u001b[33m6\u001b[39m\n",
      "]\n"
     ]
    }
   ],
   "source": [
    "console.log(\"Before\", arr1);\n",
    "sensibleConcat(arr1, arr2);\n",
    "console.log(\"After\", arr1);  // Notice that arr1 changes again"
   ]
  },
  {
   "cell_type": "markdown",
   "id": "60e628a5",
   "metadata": {},
   "source": [
    "#### PLEASE DO NOT write array concatenation this way\n",
    "\n",
    "- `sensibleConcat` is an impure function that mutates its input argument `arr1`.\n",
    "- This is a way to write array concatenation. We will try to convince you later not to do this."
   ]
  },
  {
   "cell_type": "markdown",
   "id": "c4ee7847",
   "metadata": {},
   "source": [
    "### Example 4"
   ]
  },
  {
   "cell_type": "code",
   "execution_count": 14,
   "id": "36e4364f",
   "metadata": {},
   "outputs": [],
   "source": [
    "const arr = []; // NOOOOOOOOO. Don't do it.\n",
    "function temptingConcat(arr1: number[], arr2: number[]): number[] {  // Question: pure or impure?\n",
    "    for (const x of arr1) {\n",
    "        arr.push(x);\n",
    "    }\n",
    "    for (const x of arr2) {\n",
    "        arr.push(x);\n",
    "    }\n",
    "    return arr;\n",
    "}"
   ]
  },
  {
   "cell_type": "markdown",
   "id": "8315411b",
   "metadata": {},
   "source": [
    "#### Returns an array and so it does not need to modify arguments"
   ]
  },
  {
   "cell_type": "code",
   "execution_count": 15,
   "id": "63361fd5",
   "metadata": {},
   "outputs": [],
   "source": [
    "const arr1 = [1, 2, 3];  // Notice that we need to reset arr1 because we mutated arr1 above.\n",
    "const arr2 = [4, 5, 6];  // This is optional because we did not mutate arr2."
   ]
  },
  {
   "cell_type": "code",
   "execution_count": 16,
   "id": "d5e36725",
   "metadata": {},
   "outputs": [
    {
     "name": "stdout",
     "output_type": "stream",
     "text": [
      "Before [ \u001b[33m1\u001b[39m, \u001b[33m2\u001b[39m, \u001b[33m3\u001b[39m ]\n",
      "After [ \u001b[33m1\u001b[39m, \u001b[33m2\u001b[39m, \u001b[33m3\u001b[39m ]\n",
      "Concatenated [ \u001b[33m1\u001b[39m, \u001b[33m2\u001b[39m, \u001b[33m3\u001b[39m, \u001b[33m4\u001b[39m, \u001b[33m5\u001b[39m, \u001b[33m6\u001b[39m ]\n"
     ]
    }
   ],
   "source": [
    "console.log(\"Before\", arr1);\n",
    "const arr3 = temptingConcat(arr1, arr2);  // Notice that we store the result in arr3\n",
    "console.log(\"After\", arr1);  // Notice that arr1 did not change\n",
    "console.log(\"Concatenated\", arr3);  // Result is in arr3"
   ]
  },
  {
   "cell_type": "markdown",
   "id": "b57b647d",
   "metadata": {},
   "source": [
    "#### But this gives different outputs for the same input"
   ]
  },
  {
   "cell_type": "code",
   "execution_count": 17,
   "id": "8eee6da7",
   "metadata": {},
   "outputs": [
    {
     "name": "stdout",
     "output_type": "stream",
     "text": [
      "Before [ \u001b[33m1\u001b[39m, \u001b[33m2\u001b[39m, \u001b[33m3\u001b[39m ]\n",
      "After [ \u001b[33m1\u001b[39m, \u001b[33m2\u001b[39m, \u001b[33m3\u001b[39m ]\n",
      "Concatenated [\n",
      "  \u001b[33m1\u001b[39m, \u001b[33m2\u001b[39m, \u001b[33m3\u001b[39m, \u001b[33m4\u001b[39m, \u001b[33m5\u001b[39m,\n",
      "  \u001b[33m6\u001b[39m, \u001b[33m1\u001b[39m, \u001b[33m2\u001b[39m, \u001b[33m3\u001b[39m, \u001b[33m4\u001b[39m,\n",
      "  \u001b[33m5\u001b[39m, \u001b[33m6\u001b[39m\n",
      "]\n"
     ]
    }
   ],
   "source": [
    "console.log(\"Before\", arr1);\n",
    "const arr4 = temptingConcat(arr1, arr2);  // Notice that we store the result in arr3\n",
    "console.log(\"After\", arr1);  // Notice that arr1 did not change\n",
    "console.log(\"Concatenated\", arr3);  // Result is in arr3"
   ]
  },
  {
   "cell_type": "markdown",
   "id": "0c9fff1c",
   "metadata": {},
   "source": [
    "#### PLEASE DO NOT write array concatenation this way\n",
    "\n",
    "- `temptingConcat` is an impure function that uses a global variable.\n",
    "- This is a terrible way to write array concatenation."
   ]
  },
  {
   "cell_type": "markdown",
   "id": "922bc9d7",
   "metadata": {},
   "source": [
    "#### NO to Example 4. No to temptingConCat Do not. No. NOOOOO\n",
    "\n",
    "![NoCat](media/cat-no-meme.jpg)"
   ]
  },
  {
   "cell_type": "code",
   "execution_count": 18,
   "id": "242d5bfc",
   "metadata": {},
   "outputs": [
    {
     "name": "stdout",
     "output_type": "stream",
     "text": [
      "\u001b[33m1\u001b[39m\n",
      "\u001b[33m2\u001b[39m\n",
      "\u001b[33m3\u001b[39m\n",
      "[ \u001b[33m1\u001b[39m, \u001b[33m2\u001b[39m, \u001b[33m3\u001b[39m ]\n"
     ]
    }
   ],
   "source": [
    "function printStuffOut(arr: number[]): number[] {\n",
    "    for (const x of arr) {\n",
    "        console.log(x); // Impure function because it prints stuff out\n",
    "    }\n",
    "    return arr;\n",
    "}\n",
    "\n",
    "printStuffOut([1, 2, 3]); "
   ]
  },
  {
   "cell_type": "code",
   "execution_count": 19,
   "id": "a8c132eb",
   "metadata": {},
   "outputs": [
    {
     "name": "stdout",
     "output_type": "stream",
     "text": [
      "[ \u001b[33m1\u001b[39m, \u001b[33m2\u001b[39m, \u001b[33m3\u001b[39m ]\n",
      "[ \u001b[33m1\u001b[39m, \u001b[33m2\u001b[39m, \u001b[33m3\u001b[39m ]\n",
      "[ \u001b[33m1\u001b[39m, \u001b[33m2\u001b[39m, \u001b[33m3\u001b[39m ]\n"
     ]
    }
   ],
   "source": [
    "function foobar(arr: number[]): number[] {\n",
    "    for (let i = 0; i < arr.length; i++) {\n",
    "        arr[i] += 1;\n",
    "    }\n",
    "    for (let i = 0; i < arr.length; i++) {\n",
    "        arr[i] -= 1;\n",
    "    }\n",
    "    return arr;\n",
    "}\n",
    "\n",
    "console.log(foobar([1, 2, 3]));\n",
    "console.log(foobar([1, 2, 3]));\n",
    "console.log(foobar([1, 2, 3]));"
   ]
  },
  {
   "cell_type": "markdown",
   "id": "fca7f418",
   "metadata": {},
   "source": [
    "### Example 5"
   ]
  },
  {
   "cell_type": "code",
   "execution_count": 20,
   "id": "97d5536a",
   "metadata": {},
   "outputs": [],
   "source": [
    "const arr1 = [1, 2, 3];  // Notice that we need to reset arr1 because we mutated arr1 above.\n",
    "const arr2 = [4, 5, 6];  // This is optional because we did not mutate arr2."
   ]
  },
  {
   "cell_type": "code",
   "execution_count": 21,
   "id": "38c42dea",
   "metadata": {},
   "outputs": [],
   "source": [
    "function strangeConcat(arr1: number[], arr2: number[]): number[] {  // we return an array (compare with void)\n",
    "    const arr = [];  // Create a new array\n",
    "    for (const x of arr1) {  // Loop through arr1. Notice that we did not have this with the impure version.\n",
    "        arr.push(x);  // Add the element x of arr2 to end of arr\n",
    "    }\n",
    "    for (const x of arr2) {  // Loop through arr2\n",
    "        arr.push(x);  // Add the element x of arr2 to end of arr\n",
    "    }\n",
    "    return arr;  // Notice return statement\n",
    "}"
   ]
  },
  {
   "cell_type": "markdown",
   "id": "4a9cd32d",
   "metadata": {},
   "source": [
    "#### Returns an array and so it does not need to modify arguments"
   ]
  },
  {
   "cell_type": "code",
   "execution_count": 22,
   "id": "3ad500b7",
   "metadata": {},
   "outputs": [
    {
     "name": "stdout",
     "output_type": "stream",
     "text": [
      "Before [ \u001b[33m1\u001b[39m, \u001b[33m2\u001b[39m, \u001b[33m3\u001b[39m ]\n",
      "After [ \u001b[33m1\u001b[39m, \u001b[33m2\u001b[39m, \u001b[33m3\u001b[39m ]\n",
      "Concatenated [ \u001b[33m1\u001b[39m, \u001b[33m2\u001b[39m, \u001b[33m3\u001b[39m, \u001b[33m4\u001b[39m, \u001b[33m5\u001b[39m, \u001b[33m6\u001b[39m ]\n"
     ]
    }
   ],
   "source": [
    "console.log(\"Before\", arr1);\n",
    "const arr3 = strangeConcat(arr1, arr2);  // Notice that we store the result in arr3\n",
    "console.log(\"After\", arr1);  // Notice that arr1 did not change\n",
    "console.log(\"Concatenated\", arr3);  // Result is in arr3"
   ]
  },
  {
   "cell_type": "markdown",
   "id": "c9afb72f",
   "metadata": {},
   "source": [
    "#### Same outputs for the same inputs"
   ]
  },
  {
   "cell_type": "code",
   "execution_count": 23,
   "id": "bd2907b2",
   "metadata": {},
   "outputs": [
    {
     "name": "stdout",
     "output_type": "stream",
     "text": [
      "Concatenated first time [ \u001b[33m1\u001b[39m, \u001b[33m2\u001b[39m, \u001b[33m3\u001b[39m, \u001b[33m4\u001b[39m, \u001b[33m5\u001b[39m, \u001b[33m6\u001b[39m ]\n",
      "Concatenated second time [ \u001b[33m1\u001b[39m, \u001b[33m2\u001b[39m, \u001b[33m3\u001b[39m, \u001b[33m4\u001b[39m, \u001b[33m5\u001b[39m, \u001b[33m6\u001b[39m ]\n"
     ]
    }
   ],
   "source": [
    "const arr4 = strangeConcat(arr1, arr2);  // Calling strangeConcat twice results in the same output\n",
    "console.log(\"Concatenated first time\", arr3);\n",
    "console.log(\"Concatenated second time\", arr4);"
   ]
  },
  {
   "cell_type": "markdown",
   "id": "b3221d8b",
   "metadata": {},
   "source": [
    "#### It does not matter how many times or how strangeConcat is called"
   ]
  },
  {
   "cell_type": "code",
   "execution_count": 24,
   "id": "7b18860f",
   "metadata": {},
   "outputs": [
    {
     "name": "stdout",
     "output_type": "stream",
     "text": [
      "Before [ \u001b[33m1\u001b[39m, \u001b[33m2\u001b[39m, \u001b[33m3\u001b[39m ]\n",
      "After [ \u001b[33m1\u001b[39m, \u001b[33m2\u001b[39m, \u001b[33m3\u001b[39m ]\n",
      "Concatenated [ \u001b[33m1\u001b[39m, \u001b[33m2\u001b[39m, \u001b[33m3\u001b[39m, \u001b[33m4\u001b[39m, \u001b[33m5\u001b[39m, \u001b[33m6\u001b[39m ]\n"
     ]
    }
   ],
   "source": [
    "console.log(\"Before\", arr1);\n",
    "const arr5 = strangeConcat(arr3, arr2);  // Notice that we store the result in arr4\n",
    "console.log(\"After\", arr1);  // Notice that arr1 did not change\n",
    "console.log(\"Concatenated\", arr4);  // Result is in arr4"
   ]
  },
  {
   "cell_type": "markdown",
   "id": "014f4315",
   "metadata": {},
   "source": [
    "### PLEASE write functions in this way\n",
    "\n",
    "- `strangeConcat` is a pure function\n",
    "- This may feel like a strange way to write array concatenation. For example, we have to write an extra loop. We will try to convince you that this is a better way to write code."
   ]
  },
  {
   "cell_type": "code",
   "execution_count": 25,
   "id": "259ffe22",
   "metadata": {},
   "outputs": [
    {
     "name": "stdout",
     "output_type": "stream",
     "text": [
      "Our pure concat [ \u001b[33m1\u001b[39m, \u001b[33m2\u001b[39m, \u001b[33m3\u001b[39m, \u001b[33m4\u001b[39m, \u001b[33m5\u001b[39m, \u001b[33m6\u001b[39m ]\n",
      "TypeScript builtin concat [ \u001b[33m1\u001b[39m, \u001b[33m2\u001b[39m, \u001b[33m3\u001b[39m, \u001b[33m4\u001b[39m, \u001b[33m5\u001b[39m, \u001b[33m6\u001b[39m ]\n"
     ]
    }
   ],
   "source": [
    "console.log(\"Our pure concat\", strangeConcat(arr1, arr2))\n",
    "console.log(\"TypeScript builtin concat\", arr1.concat(arr2))"
   ]
  },
  {
   "cell_type": "markdown",
   "id": "81b99de5",
   "metadata": {},
   "source": [
    "### Pure Functions and Side-Efffects\n",
    "\n",
    "Pure functions are also **side-effect** free. Side-effects include:\n",
    "- Printing stuff to the console.\n",
    "- Modifying global variables.\n",
    "- Throwing exceptions."
   ]
  },
  {
   "cell_type": "code",
   "execution_count": 26,
   "id": "75f2f8b6",
   "metadata": {},
   "outputs": [],
   "source": [
    "function addOneImpure(x: number): number {\n",
    "    console.log(x);  // Not pure because printing stuff.\n",
    "    return x + 1;\n",
    "}"
   ]
  },
  {
   "cell_type": "markdown",
   "id": "af89276c",
   "metadata": {},
   "source": [
    "## Why Pure Functions?\n",
    "\n",
    "- The main benefit of pure functions is that it makes your code easier for others to use.\n",
    "- Because software is primarily developed by teams of people, pure functions give guarantees to your callees that your code won't clobber data structures"
   ]
  },
  {
   "cell_type": "markdown",
   "id": "97c4c753",
   "metadata": {},
   "source": [
    "### Example 1\n",
    "\n",
    "Consider the following example where Developer 2 is trying to use Developer 1's code, Developer 2 is trying to expose a pure function, and Developer 1 does not guarantee a pure function."
   ]
  },
  {
   "cell_type": "code",
   "execution_count": 27,
   "id": "f1640774",
   "metadata": {},
   "outputs": [],
   "source": [
    "function badCodeWrittenByDeveloper1(arr: number[]): void {\n",
    "    for (let i = 0; i < arr.length; i++) {\n",
    "        arr[i] += 1;\n",
    "    }\n",
    "}"
   ]
  },
  {
   "cell_type": "code",
   "execution_count": 28,
   "id": "8806109f",
   "metadata": {},
   "outputs": [],
   "source": [
    "function defensiveCodeWrittenByDeveloper2(arr: number[]): number[] {\n",
    "    // I guarantee to my caller that I am a pure function\n",
    "    \n",
    "    // To compensate for the potential of impure code, I have to perform a copy\n",
    "    const arrCopy = [];\n",
    "    for (const x of arr) {\n",
    "        arrCopy.push(x);\n",
    "    }\n",
    "    badCodeWrittenByDeveloper1(arrCopy);  // Now I can call the code with a copy\n",
    "    // Imagine if you had to do this for every library function that you used\n",
    "    \n",
    "    return arrCopy;\n",
    "}"
   ]
  },
  {
   "cell_type": "markdown",
   "id": "a3f39ebf",
   "metadata": {},
   "source": [
    "We can fix the code above by having all developers write pure functions."
   ]
  },
  {
   "cell_type": "code",
   "execution_count": 29,
   "id": "89dd107d",
   "metadata": {},
   "outputs": [],
   "source": [
    "function codeWrittenByDeveloper1(arr: number[]): number[] {\n",
    "    const ans = [];\n",
    "    for (const x of arr) {\n",
    "        ans.push(x + 1);\n",
    "    }\n",
    "    return ans;\n",
    "}"
   ]
  },
  {
   "cell_type": "code",
   "execution_count": 30,
   "id": "dc9f91a0",
   "metadata": {},
   "outputs": [],
   "source": [
    "function codeWrittenByDeveloper2(arr: number[]): number[] {\n",
    "    // I guarantee to my caller that I am a pure function\n",
    "    return codeWrittenByDeveloper1(arr);\n",
    "}"
   ]
  },
  {
   "cell_type": "markdown",
   "id": "6b46f618",
   "metadata": {},
   "source": [
    "### Example 2"
   ]
  },
  {
   "cell_type": "code",
   "execution_count": 31,
   "id": "5132d332",
   "metadata": {},
   "outputs": [],
   "source": [
    "let magic = false\n",
    "function terribleCodeWrittenByDeveloper1(arr: number[]): void {\n",
    "    if (magic) {\n",
    "        for (let i = 0; i < arr.length; i++) {\n",
    "            arr[i] += 1;\n",
    "        }\n",
    "    } else {\n",
    "        for (let i = 0; i < arr.length; i++) {\n",
    "            arr[i] += 2;\n",
    "        }\n",
    "    }\n",
    "}"
   ]
  },
  {
   "cell_type": "code",
   "execution_count": 32,
   "id": "40644cec",
   "metadata": {},
   "outputs": [],
   "source": [
    "function terribleCodeWrittenByDeveloper2(x: number): number {\n",
    "    // All you told me to do was write a function that adds 1\n",
    "    // And this code compiles and doesn't affect my specification\n",
    "    magic = !magic;\n",
    "    return x + 1;\n",
    "}"
   ]
  },
  {
   "cell_type": "markdown",
   "id": "b4cbdfa5",
   "metadata": {},
   "source": [
    "## Why Impure Functions?\n",
    "\n",
    "- Performance: sometimes writing programs with pure functions, i.e., mutation is too slow.\n",
    "- Tradeoff: it is harder to reason about what our code is doing. This increases the chance to introduce bugs.\n",
    "- One strategy might be write a program without state first. If it is too slow, then you can write a version that does use state."
   ]
  },
  {
   "cell_type": "markdown",
   "id": "9b6f4bcb",
   "metadata": {},
   "source": [
    "### Performance"
   ]
  },
  {
   "cell_type": "code",
   "execution_count": 33,
   "id": "60f1fb41",
   "metadata": {},
   "outputs": [],
   "source": [
    "function testMutableConcat(arr: number[], count: number): number[] {\n",
    "    const tmp: number[] = [];\n",
    "    // Add arr count times.\n",
    "    for (let i = 0; i < count; i++) {\n",
    "        sensibleConcat(tmp, arr);  // Recall this was the mutable version\n",
    "    }\n",
    "    return tmp;\n",
    "}"
   ]
  },
  {
   "cell_type": "code",
   "execution_count": 34,
   "id": "c4df90ac",
   "metadata": {},
   "outputs": [],
   "source": [
    "function testImmutableConcat(arr: number[], count: number): number[] {\n",
    "    let tmp: number[] = [];\n",
    "    for (let i = 0; i < count; i++) {\n",
    "        tmp = tmp.concat(arr);  // TypeScript's built-in pure version\n",
    "    }\n",
    "    return tmp;\n",
    "}\n",
    "\n",
    "// 0: [] 0\n",
    "// 1: [1, 2, 3] 3\n",
    "// 2: [1, 2, 3] + [1, 2, 3] 6\n",
    "// 3: [1, 2, 3] + [1, 2, 3] + [1, 2, 3] 9 "
   ]
  },
  {
   "cell_type": "code",
   "execution_count": 35,
   "id": "c87ffc56",
   "metadata": {},
   "outputs": [
    {
     "name": "stdout",
     "output_type": "stream",
     "text": [
      "--------------------------\n",
      "Mutable started..\n",
      " completed..\n",
      "Execution time (hr): 0s 5.013833ms\n",
      "--------------------------\n",
      "Immutable started..\n",
      " completed..\n",
      "Execution time (hr): 0s 76.524459ms\n",
      "\u001b[33m0.07652445899999999\u001b[39m\n"
     ]
    }
   ],
   "source": [
    "function timeFunction(name, f) {\n",
    "    console.log(`--------------------------`);\n",
    "    console.log(`${name} started..`);\n",
    "    const t0 = process.hrtime()\n",
    "    f();\n",
    "    const t1 = process.hrtime(t0);\n",
    "    console.log(`${f.name} completed..`);\n",
    "    console.info('Execution time (hr): %ds %dms', t1[0], t1[1] / 1000000);\n",
    "    return t1[0] + t1[1] / 1000000 / 1000;\n",
    "}\n",
    "\n",
    "const count = 1000;\n",
    "timeFunction(\"Mutable\", () => testMutableConcat(Array(100).fill((x) => 0), count));\n",
    "timeFunction(\"Immutable\", () => testImmutableConcat(Array(100).fill((x) => 0), count));"
   ]
  },
  {
   "cell_type": "code",
   "execution_count": 36,
   "id": "8a90363e",
   "metadata": {},
   "outputs": [
    {
     "name": "stdout",
     "output_type": "stream",
     "text": [
      "--------------------------\n",
      "Mutable started..\n",
      " completed..\n",
      "Execution time (hr): 0s 0.335542ms\n",
      "--------------------------\n",
      "Mutable started..\n",
      " completed..\n",
      "Execution time (hr): 0s 0.769209ms\n",
      "--------------------------\n",
      "Mutable started..\n",
      " completed..\n",
      "Execution time (hr): 0s 0.57275ms\n",
      "--------------------------\n",
      "Mutable started..\n",
      " completed..\n",
      "Execution time (hr): 0s 0.691667ms\n",
      "--------------------------\n",
      "Immutable started..\n",
      " completed..\n",
      "Execution time (hr): 0s 1.910792ms\n",
      "--------------------------\n",
      "Immutable started..\n",
      " completed..\n",
      "Execution time (hr): 0s 4.240584ms\n",
      "--------------------------\n",
      "Immutable started..\n",
      " completed..\n",
      "Execution time (hr): 0s 13.579458ms\n",
      "--------------------------\n",
      "Immutable started..\n",
      " completed..\n",
      "Execution time (hr): 0s 100.7835ms\n",
      "[\n",
      "  \u001b[33m0.000335542\u001b[39m,\n",
      "  \u001b[33m0.0007692090000000001\u001b[39m,\n",
      "  \u001b[33m0.00057275\u001b[39m,\n",
      "  \u001b[33m0.0006916670000000001\u001b[39m\n",
      "]\n",
      "[ \u001b[33m0.0019107920000000001\u001b[39m, \u001b[33m0.004240584\u001b[39m, \u001b[33m0.013579458\u001b[39m, \u001b[33m0.1007835\u001b[39m ]\n"
     ]
    }
   ],
   "source": [
    "const counts = [1000, 2000, 4000, 8000];\n",
    "const mutableTimes = [];\n",
    "for (const count of counts) {\n",
    "    let arr = Array(100).fill((x) => 0);\n",
    "    mutableTimes.push(timeFunction(\"Mutable\", () => testMutableConcat(arr1, count)));\n",
    "}\n",
    "const immutableTimes = [];\n",
    "for (const count of counts) {\n",
    "    let arr = Array(100).fill((x) => 0);\n",
    "    immutableTimes.push(timeFunction(\"Immutable\", () => testImmutableConcat(arr1, count)));\n",
    "}\n",
    "\n",
    "console.log(mutableTimes);\n",
    "console.log(immutableTimes);"
   ]
  },
  {
   "cell_type": "code",
   "execution_count": 37,
   "id": "e0c17d39",
   "metadata": {},
   "outputs": [
    {
     "data": {
      "text/html": [
       "\n",
       "  <style>\n",
       "    #mydiv80fbdb29-3cbd-495c-aef2-cfa95ada005c {\n",
       "        width: 800px;\n",
       "        height: 350px;\n",
       "        top: 0px;\n",
       "        left: 0px;\n",
       "    }\n",
       "  </style>\n",
       "\n",
       "  <div>\n",
       "    <canvas id=\"mydiv80fbdb29-3cbd-495c-aef2-cfa95ada005c\"></canvas>\n",
       "  </div>\n",
       "\n",
       "  <script>\n",
       "    (function(element) {\n",
       "        require(['./node_modules/chart.js/dist/chart.js'], function(Chart) {   \n",
       "          const labels = [\n",
       "            'January',\n",
       "            'February',\n",
       "            'March',\n",
       "            'April',\n",
       "            'May',\n",
       "            'June',\n",
       "          ];\n",
       "          const data = {\n",
       "            labels: [ 1000, 2000, 4000, 8000 ],\n",
       "            datasets: [{\n",
       "        label: \"0\",\n",
       "        backgroundColor: 'rgb(44, 62, 80)',\n",
       "        borderColor: 'rgb(44, 62, 80)',\n",
       "        data: [\n",
       "  0.000335542,\n",
       "  0.0007692090000000001,\n",
       "  0.00057275,\n",
       "  0.0006916670000000001\n",
       "],\n",
       "      }, {\n",
       "        label: \"1\",\n",
       "        backgroundColor: 'rgb(231, 76, 60)',\n",
       "        borderColor: 'rgb(231, 76, 60)',\n",
       "        data: [ 0.0019107920000000001, 0.004240584, 0.013579458, 0.1007835 ],\n",
       "      }]\n",
       "          };\n",
       "          const config = {\n",
       "            type: 'line',\n",
       "            data: data,\n",
       "            options: {}\n",
       "          };\n",
       "          var myChart = new Chart(\n",
       "              document.getElementById(\"mydiv80fbdb29-3cbd-495c-aef2-cfa95ada005c\"),\n",
       "              config\n",
       "            );\n",
       "        });\n",
       "    })(this.element);\n",
       "</script>\n",
       " "
      ]
     },
     "metadata": {},
     "output_type": "display_data"
    }
   ],
   "source": [
    "linePlot(counts, [mutableTimes, immutableTimes])"
   ]
  },
  {
   "cell_type": "markdown",
   "id": "d0491812",
   "metadata": {},
   "source": [
    "### Computational complexity detour\n",
    "\n",
    "- O(N) vs. O(N^2)\n",
    "- Question: why don't the empirical graphs line up with the theoretical graphs?"
   ]
  },
  {
   "cell_type": "markdown",
   "id": "15d5960b",
   "metadata": {},
   "source": [
    "### Impure functions and time\n",
    "\n",
    "- Another reason to use impure functions is to encode a notion of **time**: this event should happen before that event.\n",
    "- This happens in **concurrent** and **distributed** programming.\n",
    "- We will cover this later."
   ]
  },
  {
   "cell_type": "markdown",
   "id": "beaeb43e",
   "metadata": {},
   "source": [
    "## Summary\n",
    "\n",
    "1. We learned about pure functions and impure functions.\n",
    "2. The benefit of using pure functions it that it makes your code easier to reason about. The drawback is that there may be a performance penalty.\n",
    "3. A good strategy is to write a pure function first. If it is too slow, you can always optimize it by making use of mutation.\n",
    "4. Most langauges such as TypeScript provide pure functions and optimized implementations"
   ]
  },
  {
   "cell_type": "code",
   "execution_count": null,
   "id": "beffa3ae",
   "metadata": {},
   "outputs": [],
   "source": []
  }
 ],
 "metadata": {
  "kernelspec": {
   "display_name": "TypeScript",
   "language": "typescript",
   "name": "typescript"
  },
  "language_info": {
   "codemirror_mode": {
    "mode": "typescript",
    "name": "javascript",
    "typescript": true
   },
   "file_extension": ".ts",
   "mimetype": "text/typescript",
   "name": "typescript",
   "version": "3.7.2"
  }
 },
 "nbformat": 4,
 "nbformat_minor": 5
}
