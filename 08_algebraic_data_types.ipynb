{
 "cells": [
  {
   "cell_type": "code",
   "execution_count": 1,
   "id": "621adca5",
   "metadata": {},
   "outputs": [
    {
     "data": {
      "text/html": [
       "\n",
       "  <link rel=\"stylesheet\" href=\"node_modules/carbon-components/css/carbon-components.css\">\n",
       "  "
      ]
     },
     "metadata": {},
     "output_type": "display_data"
    },
    {
     "data": {
      "text/html": [
       "\n",
       "<script>\n",
       "require.config({\n",
       "     paths: {\n",
       "     cytoscape: 'https://cdnjs.cloudflare.com/ajax/libs/cytoscape/3.19.0/cytoscape.min'\n",
       "}});\n",
       "</script>\n",
       "  "
      ]
     },
     "metadata": {},
     "output_type": "display_data"
    }
   ],
   "source": [
    "// TypeScript Jupyter extension\n",
    "import * as tslab from \"tslab\";\n",
    "\n",
    "// CSC 600 Libraries\n",
    "import { drawTree, requireCytoscape, requireCarbon} from \"./lib/draw\";\n",
    "\n",
    "requireCarbon();\n",
    "requireCytoscape();"
   ]
  },
  {
   "cell_type": "markdown",
   "id": "78695b1a",
   "metadata": {},
   "source": [
    "# Algebraic Data Types: Recursion with Data Types"
   ]
  },
  {
   "cell_type": "markdown",
   "id": "f0df1613",
   "metadata": {},
   "source": [
    "## Where Were We?\n",
    "\n",
    "1. **Language primitives** (i.e., building blocks of languages)\n",
    "    * Last time: recursive thinking with functions\n",
    "    * This time: recursive thinking with data, i.e., **algebraic data types** (ADT).\n",
    "2. Language paradigms (i.e., combinations of language primitives)\n",
    "3. Building a language (i.e., designing your own language)"
   ]
  },
  {
   "cell_type": "markdown",
   "id": "5927e853",
   "metadata": {},
   "source": [
    "## Goal\n",
    "\n",
    "1. Introduce **(algebraic) data-types** (**ADT**) using **trees** which are an example of a recursive data type.\n",
    "2. Compare with class-based definition of tree."
   ]
  },
  {
   "cell_type": "markdown",
   "id": "1f6b7af2",
   "metadata": {},
   "source": [
    "## Outline\n",
    "\n",
    "- Why ADTs?\n",
    "- Trees"
   ]
  },
  {
   "cell_type": "markdown",
   "id": "17df086b",
   "metadata": {},
   "source": [
    "## Why ADTs?\n",
    "\n",
    "Example:  [https://www.paulrand.design/work/Book-Covers.html](https://www.paulrand.design/work/Book-Covers.html)\n",
    "\n",
    "Here's a question for you first.\n",
    "\n",
    "```\n",
    "\n",
    "\n",
    "\n",
    "\n",
    "\n",
    "\n",
    "\n",
    "\n",
    "Imagine you're a graphic designer.\n",
    "You want to layout a book cover with:\n",
    "1. Text\n",
    "2. Drawings\n",
    "in an aesthetically pleasing way.\n",
    "\n",
    "\n",
    "How would you tackle the problem of laying out such a book cover?\n",
    "\n",
    "\n",
    "\n",
    "\n",
    "\n",
    "\n",
    "\n",
    "\n",
    "\n",
    "```"
   ]
  },
  {
   "cell_type": "code",
   "execution_count": 2,
   "id": "37d6339b",
   "metadata": {},
   "outputs": [
    {
     "data": {
      "text/html": [
       "\n",
       "<div class=\"bx--tile\">\n",
       "    BOX 1: Imagine I'm a page\n",
       "</div>\n"
      ]
     },
     "metadata": {},
     "output_type": "display_data"
    }
   ],
   "source": [
    "tslab.display.html(`\n",
    "<div class=\"bx--tile\">\n",
    "    BOX 1: Imagine I'm a page\n",
    "</div>\n",
    "`)"
   ]
  },
  {
   "cell_type": "code",
   "execution_count": 3,
   "id": "66dc3fbd",
   "metadata": {},
   "outputs": [
    {
     "data": {
      "text/html": [
       "\n",
       "   <div class=\"bx--grid\"> BOX 1: Imagine I'm a page\n",
       "      <div class=\"bx--row\">\n",
       "        <div class=\"bx--col\">\n",
       "            <div class=\"bx--tile\">\n",
       "                BOX 2: Left side of page\n",
       "            </div>\n",
       "        </div>\n",
       "        <div class=\"bx--col\">\n",
       "            <div class=\"bx--tile\">\n",
       "                BOX 3: Right side of page\n",
       "            </div>\n",
       "        </div>\n",
       "    </div>\n"
      ]
     },
     "metadata": {},
     "output_type": "display_data"
    }
   ],
   "source": [
    "tslab.display.html(`\n",
    "   <div class=\"bx--grid\"> BOX 1: Imagine I'm a page\n",
    "      <div class=\"bx--row\">\n",
    "        <div class=\"bx--col\">\n",
    "            <div class=\"bx--tile\">\n",
    "                BOX 2: Left side of page\n",
    "            </div>\n",
    "        </div>\n",
    "        <div class=\"bx--col\">\n",
    "            <div class=\"bx--tile\">\n",
    "                BOX 3: Right side of page\n",
    "            </div>\n",
    "        </div>\n",
    "    </div>\n",
    "`)"
   ]
  },
  {
   "cell_type": "code",
   "execution_count": 4,
   "id": "7187ce2e",
   "metadata": {},
   "outputs": [
    {
     "data": {
      "text/html": [
       "\n",
       "<div class=\"bx--grid\"> BOX 1: Imagine I'm a page\n",
       "    <div class=\"bx--row\">\n",
       "        <div class=\"bx--col\">\n",
       "            <div class=\"bx--tile\">\n",
       "                BOX2: Left side of page\n",
       "                <div class=\"bx--tile\">\n",
       "                    BOX5: A sub-page within the left page\n",
       "                </div>\n",
       "            </div>\n",
       "        </div>\n",
       "        <div class=\"bx--col\">\n",
       "            <div class=\"bx--tile\">\n",
       "                BOX3: Right side of page\n",
       "                \n",
       "                <div class=\"bx--tile\">\n",
       "                    BOX4: A sub-page within the right page\n",
       "                </div>\n",
       "            </div>\n",
       "        </div>\n",
       "    </div>\n",
       "</div>\n"
      ]
     },
     "metadata": {},
     "output_type": "display_data"
    }
   ],
   "source": [
    "tslab.display.html(`\n",
    "<div class=\"bx--grid\"> BOX 1: Imagine I'm a page\n",
    "    <div class=\"bx--row\">\n",
    "        <div class=\"bx--col\">\n",
    "            <div class=\"bx--tile\">\n",
    "                BOX2: Left side of page\n",
    "                <div class=\"bx--tile\">\n",
    "                    BOX5: A sub-page within the left page\n",
    "                </div>\n",
    "            </div>\n",
    "        </div>\n",
    "        <div class=\"bx--col\">\n",
    "            <div class=\"bx--tile\">\n",
    "                BOX3: Right side of page\n",
    "                \n",
    "                <div class=\"bx--tile\">\n",
    "                    BOX4: A sub-page within the right page\n",
    "                </div>\n",
    "            </div>\n",
    "        </div>\n",
    "    </div>\n",
    "</div>\n",
    "`)"
   ]
  },
  {
   "cell_type": "markdown",
   "id": "359bf169",
   "metadata": {},
   "source": [
    "### Notice a Pattern?\n",
    "\n",
    "- To solve the graphic design problem, we're \"nesting\" boxes within boxes.\n",
    "- This is starting to look like recursion.\n",
    "    - Maybe I don't know how to layout the full page.\n",
    "    - I'll solve a simpler version of the same problem by splitting the page into different smaller pages.\n",
    "    - Now let me solve the layout problem for the smaller pages.\n",
    "    - And put together the results for the original page.\n",
    "- Instead of writing a recursive function, we'll create a recursive data structure."
   ]
  },
  {
   "cell_type": "markdown",
   "id": "ddc33327",
   "metadata": {},
   "source": [
    "## Trees\n",
    "\n",
    "- We'll introduces trees now.\n",
    "- Trees are the canoncial recursive data structure."
   ]
  },
  {
   "cell_type": "code",
   "execution_count": 5,
   "id": "58b3af8e",
   "metadata": {},
   "outputs": [
    {
     "data": {
      "text/html": [
       "\n",
       "<style>\n",
       "    #mydiv5ccd0c66-6c9a-41a1-a16c-2eeaedd468d2 {\n",
       "        width: 800px;\n",
       "        height: 350px;\n",
       "        top: 0px;\n",
       "        left: 0px;\n",
       "    }\n",
       "</style>\n",
       "<div id=\"mydiv5ccd0c66-6c9a-41a1-a16c-2eeaedd468d2\"></div>\n"
      ]
     },
     "metadata": {},
     "output_type": "display_data"
    },
    {
     "data": {
      "text/html": [
       "\n",
       "<script>\n",
       " (function(element) {\n",
       "     require(['cytoscape'], function(cytoscape) {   \n",
       "        var cy = cytoscape({\n",
       "         container: document.getElementById('mydiv5ccd0c66-6c9a-41a1-a16c-2eeaedd468d2'),\n",
       "         style: [\n",
       "{\n",
       "  selector: 'node',\n",
       "  css: {\n",
       "    'class': \".bx--tree\",\n",
       "    'label': 'data(label)',\n",
       "    'height': '10px',\n",
       "    'width': '10px',\n",
       "  }\n",
       "},\n",
       "{\n",
       "  selector: 'edge',\n",
       "  css: {\n",
       "    'width': 3,\n",
       "    // 'line-color': '#ccc123',\n",
       "    'curve-style': 'bezier',\n",
       "    'target-arrow-shape': 'triangle',\n",
       "    'target-arrow-fill': 'filled',\n",
       "    'arrow-scale': 1,\n",
       "  }\n",
       "}\n",
       "],\n",
       "         layout: \n",
       "{\n",
       "  name: 'preset'\n",
       "}\n",
       ",\n",
       "         elements: [\n",
       "  { data: { id: 'node23', label: 4 }, position: { x: 0, y: 0 } },\n",
       "  { data: { id: 'edge24', source: 'node23', target: 'node11' } },\n",
       "  { data: { id: 'edge25', source: 'node23', target: 'node20' } },\n",
       "  { data: { id: 'node11', label: 3 }, position: { x: -100, y: 50 } },\n",
       "  { data: { id: 'edge12', source: 'node11', target: 'node3' } },\n",
       "  { data: { id: 'edge13', source: 'node11', target: 'node8' } },\n",
       "  { data: { id: 'node3', label: 1 }, position: { x: -150, y: 100 } },\n",
       "  { data: { id: 'edge4', source: 'node3', target: 'leaf1' } },\n",
       "  { data: { id: 'edge5', source: 'node3', target: 'leaf2' } },\n",
       "  {\n",
       "    data: { id: 'leaf1' },\n",
       "    position: { x: -183.33333333333334, y: 150 }\n",
       "  },\n",
       "  {\n",
       "    data: { id: 'leaf2' },\n",
       "    position: { x: -116.66666666666666, y: 150 }\n",
       "  },\n",
       "  { data: { id: 'node8', label: 2 }, position: { x: -50, y: 100 } },\n",
       "  { data: { id: 'edge9', source: 'node8', target: 'leaf6' } },\n",
       "  { data: { id: 'edge10', source: 'node8', target: 'leaf7' } },\n",
       "  {\n",
       "    data: { id: 'leaf6' },\n",
       "    position: { x: -83.33333333333334, y: 150 }\n",
       "  },\n",
       "  {\n",
       "    data: { id: 'leaf7' },\n",
       "    position: { x: -16.666666666666664, y: 150 }\n",
       "  },\n",
       "  { data: { id: 'node20', label: 2 }, position: { x: 100, y: 50 } },\n",
       "  { data: { id: 'edge21', source: 'node20', target: 'node16' } },\n",
       "  { data: { id: 'edge22', source: 'node20', target: 'leaf19' } },\n",
       "  { data: { id: 'node16', label: 1 }, position: { x: 50, y: 100 } },\n",
       "  { data: { id: 'edge17', source: 'node16', target: 'leaf14' } },\n",
       "  { data: { id: 'edge18', source: 'node16', target: 'leaf15' } },\n",
       "  {\n",
       "    data: { id: 'leaf14' },\n",
       "    position: { x: 16.666666666666664, y: 150 }\n",
       "  },\n",
       "  {\n",
       "    data: { id: 'leaf15' },\n",
       "    position: { x: 83.33333333333334, y: 150 }\n",
       "  },\n",
       "  { data: { id: 'leaf19' }, position: { x: 150, y: 100 } }\n",
       "]\n",
       "         });\n",
       "     });\n",
       " })(this.element);\n",
       "</script>\n"
      ]
     },
     "metadata": {},
     "output_type": "display_data"
    }
   ],
   "source": [
    "import * as tree from \"./lib/tree\";\n",
    "\n",
    "drawTree(tree.t4)"
   ]
  },
  {
   "cell_type": "markdown",
   "id": "19160dc3",
   "metadata": {},
   "source": [
    "### Refresher: Trees with Classes"
   ]
  },
  {
   "cell_type": "code",
   "execution_count": 6,
   "id": "5ea260d8",
   "metadata": {},
   "outputs": [],
   "source": [
    "class TreeCls<T> {\n",
    "    private contents: T | undefined;        // e.g., number or strings\n",
    "    private left: TreeCls<T> | undefined;   // left child or undefined\n",
    "    private right: TreeCls<T> | undefined;  // right child or undefined\n",
    "    \n",
    "    constructor(contents: T|undefined, left: TreeCls<T>|undefined, right: TreeCls<T>|undefined) {\n",
    "        this.contents = contents;\n",
    "        this.left = left;\n",
    "        this.right = right;\n",
    "    }\n",
    "    \n",
    "    toADT() { // Ignore for now \n",
    "        if (this.contents === undefined && this.left === undefined && this.right === undefined) {\n",
    "            return {\n",
    "                tag: \"LEAF\"\n",
    "            };\n",
    "        } else {\n",
    "            return {\n",
    "                tag: \"NODE\",\n",
    "                contents: this.contents,\n",
    "                left: this.left !== undefined ? this.left.toADT() : { tag: \"LEAF\" },\n",
    "                right: this.right !== undefined ? this.right.toADT() : { tag: \"LEAF\" }\n",
    "            };\n",
    "        }\n",
    "    }\n",
    "}"
   ]
  },
  {
   "cell_type": "code",
   "execution_count": 7,
   "id": "0539078a",
   "metadata": {},
   "outputs": [],
   "source": [
    "function newLeaf<T>(): TreeCls<T> {\n",
    "    return new TreeCls(undefined, undefined, undefined);\n",
    "}\n",
    "\n",
    "function newNode<T>(x: T, left: TreeCls<T>, right: TreeCls<T>): TreeCls<T> {\n",
    "    return new TreeCls(x, left, right);\n",
    "}\n",
    "\n",
    "function newLeafNode<T>(x: T): TreeCls<T> {\n",
    "    return new TreeCls(x, undefined, undefined);\n",
    "}"
   ]
  },
  {
   "cell_type": "markdown",
   "id": "e53d975e",
   "metadata": {},
   "source": [
    "#### Leaf"
   ]
  },
  {
   "cell_type": "code",
   "execution_count": 8,
   "id": "f37484a1",
   "metadata": {},
   "outputs": [
    {
     "data": {
      "text/html": [
       "\n",
       "<style>\n",
       "    #mydiv2ca8e5e1-f704-4f47-a171-ac8a34e1fff4 {\n",
       "        width: 800px;\n",
       "        height: 350px;\n",
       "        top: 0px;\n",
       "        left: 0px;\n",
       "    }\n",
       "</style>\n",
       "<div id=\"mydiv2ca8e5e1-f704-4f47-a171-ac8a34e1fff4\"></div>\n"
      ]
     },
     "metadata": {},
     "output_type": "display_data"
    },
    {
     "data": {
      "text/html": [
       "\n",
       "<script>\n",
       " (function(element) {\n",
       "     require(['cytoscape'], function(cytoscape) {   \n",
       "        var cy = cytoscape({\n",
       "         container: document.getElementById('mydiv2ca8e5e1-f704-4f47-a171-ac8a34e1fff4'),\n",
       "         style: [\n",
       "{\n",
       "  selector: 'node',\n",
       "  css: {\n",
       "    'class': \".bx--tree\",\n",
       "    'label': 'data(label)',\n",
       "    'height': '10px',\n",
       "    'width': '10px',\n",
       "  }\n",
       "},\n",
       "{\n",
       "  selector: 'edge',\n",
       "  css: {\n",
       "    'width': 3,\n",
       "    // 'line-color': '#ccc123',\n",
       "    'curve-style': 'bezier',\n",
       "    'target-arrow-shape': 'triangle',\n",
       "    'target-arrow-fill': 'filled',\n",
       "    'arrow-scale': 1,\n",
       "  }\n",
       "}\n",
       "],\n",
       "         layout: \n",
       "{\n",
       "  name: 'preset'\n",
       "}\n",
       ",\n",
       "         elements: [ { data: { id: 'leaf1' }, position: { x: 0, y: 0 } } ]\n",
       "         });\n",
       "     });\n",
       " })(this.element);\n",
       "</script>\n"
      ]
     },
     "metadata": {},
     "output_type": "display_data"
    }
   ],
   "source": [
    "drawTree(newLeaf().toADT());"
   ]
  },
  {
   "cell_type": "markdown",
   "id": "89b27fb9",
   "metadata": {},
   "source": [
    "#### Leaf Node"
   ]
  },
  {
   "cell_type": "code",
   "execution_count": 9,
   "id": "cefa98cd",
   "metadata": {},
   "outputs": [
    {
     "data": {
      "text/html": [
       "\n",
       "<style>\n",
       "    #mydive3c3cccf-9a99-4ca2-81db-a2f3ed54a286 {\n",
       "        width: 800px;\n",
       "        height: 350px;\n",
       "        top: 0px;\n",
       "        left: 0px;\n",
       "    }\n",
       "</style>\n",
       "<div id=\"mydive3c3cccf-9a99-4ca2-81db-a2f3ed54a286\"></div>\n"
      ]
     },
     "metadata": {},
     "output_type": "display_data"
    },
    {
     "data": {
      "text/html": [
       "\n",
       "<script>\n",
       " (function(element) {\n",
       "     require(['cytoscape'], function(cytoscape) {   \n",
       "        var cy = cytoscape({\n",
       "         container: document.getElementById('mydive3c3cccf-9a99-4ca2-81db-a2f3ed54a286'),\n",
       "         style: [\n",
       "{\n",
       "  selector: 'node',\n",
       "  css: {\n",
       "    'class': \".bx--tree\",\n",
       "    'label': 'data(label)',\n",
       "    'height': '10px',\n",
       "    'width': '10px',\n",
       "  }\n",
       "},\n",
       "{\n",
       "  selector: 'edge',\n",
       "  css: {\n",
       "    'width': 3,\n",
       "    // 'line-color': '#ccc123',\n",
       "    'curve-style': 'bezier',\n",
       "    'target-arrow-shape': 'triangle',\n",
       "    'target-arrow-fill': 'filled',\n",
       "    'arrow-scale': 1,\n",
       "  }\n",
       "}\n",
       "],\n",
       "         layout: \n",
       "{\n",
       "  name: 'preset'\n",
       "}\n",
       ",\n",
       "         elements: [\n",
       "  { data: { id: 'node3', label: 1 }, position: { x: 0, y: 0 } },\n",
       "  { data: { id: 'edge4', source: 'node3', target: 'leaf1' } },\n",
       "  { data: { id: 'edge5', source: 'node3', target: 'leaf2' } },\n",
       "  { data: { id: 'leaf1' }, position: { x: -100, y: 50 } },\n",
       "  { data: { id: 'leaf2' }, position: { x: 100, y: 50 } }\n",
       "]\n",
       "         });\n",
       "     });\n",
       " })(this.element);\n",
       "</script>\n"
      ]
     },
     "metadata": {},
     "output_type": "display_data"
    }
   ],
   "source": [
    "drawTree(newLeafNode(1).toADT());"
   ]
  },
  {
   "cell_type": "markdown",
   "id": "82e9e3e5",
   "metadata": {},
   "source": [
    "#### Node"
   ]
  },
  {
   "cell_type": "code",
   "execution_count": 10,
   "id": "3a87a60b",
   "metadata": {},
   "outputs": [
    {
     "data": {
      "text/html": [
       "\n",
       "<style>\n",
       "    #mydiva818e195-ce0f-48d1-bad9-5d492870e12f {\n",
       "        width: 800px;\n",
       "        height: 350px;\n",
       "        top: 0px;\n",
       "        left: 0px;\n",
       "    }\n",
       "</style>\n",
       "<div id=\"mydiva818e195-ce0f-48d1-bad9-5d492870e12f\"></div>\n"
      ]
     },
     "metadata": {},
     "output_type": "display_data"
    },
    {
     "data": {
      "text/html": [
       "\n",
       "<script>\n",
       " (function(element) {\n",
       "     require(['cytoscape'], function(cytoscape) {   \n",
       "        var cy = cytoscape({\n",
       "         container: document.getElementById('mydiva818e195-ce0f-48d1-bad9-5d492870e12f'),\n",
       "         style: [\n",
       "{\n",
       "  selector: 'node',\n",
       "  css: {\n",
       "    'class': \".bx--tree\",\n",
       "    'label': 'data(label)',\n",
       "    'height': '10px',\n",
       "    'width': '10px',\n",
       "  }\n",
       "},\n",
       "{\n",
       "  selector: 'edge',\n",
       "  css: {\n",
       "    'width': 3,\n",
       "    // 'line-color': '#ccc123',\n",
       "    'curve-style': 'bezier',\n",
       "    'target-arrow-shape': 'triangle',\n",
       "    'target-arrow-fill': 'filled',\n",
       "    'arrow-scale': 1,\n",
       "  }\n",
       "}\n",
       "],\n",
       "         layout: \n",
       "{\n",
       "  name: 'preset'\n",
       "}\n",
       ",\n",
       "         elements: [\n",
       "  { data: { id: 'node11', label: 3 }, position: { x: 0, y: 0 } },\n",
       "  { data: { id: 'edge12', source: 'node11', target: 'node3' } },\n",
       "  { data: { id: 'edge13', source: 'node11', target: 'node8' } },\n",
       "  { data: { id: 'node3', label: 1 }, position: { x: -100, y: 50 } },\n",
       "  { data: { id: 'edge4', source: 'node3', target: 'leaf1' } },\n",
       "  { data: { id: 'edge5', source: 'node3', target: 'leaf2' } },\n",
       "  { data: { id: 'leaf1' }, position: { x: -150, y: 100 } },\n",
       "  { data: { id: 'leaf2' }, position: { x: -50, y: 100 } },\n",
       "  { data: { id: 'node8', label: 2 }, position: { x: 100, y: 50 } },\n",
       "  { data: { id: 'edge9', source: 'node8', target: 'leaf6' } },\n",
       "  { data: { id: 'edge10', source: 'node8', target: 'leaf7' } },\n",
       "  { data: { id: 'leaf6' }, position: { x: 50, y: 100 } },\n",
       "  { data: { id: 'leaf7' }, position: { x: 150, y: 100 } }\n",
       "]\n",
       "         });\n",
       "     });\n",
       " })(this.element);\n",
       "</script>\n"
      ]
     },
     "metadata": {},
     "output_type": "display_data"
    }
   ],
   "source": [
    "drawTree(newNode(3, newLeafNode(1), newLeafNode(2)).toADT());"
   ]
  },
  {
   "cell_type": "code",
   "execution_count": 11,
   "id": "28f8df9a",
   "metadata": {},
   "outputs": [
    {
     "data": {
      "text/html": [
       "\n",
       "<style>\n",
       "    #mydiv2f9c595c-c113-470e-9d4e-fdd0518f5b9e {\n",
       "        width: 800px;\n",
       "        height: 350px;\n",
       "        top: 0px;\n",
       "        left: 0px;\n",
       "    }\n",
       "</style>\n",
       "<div id=\"mydiv2f9c595c-c113-470e-9d4e-fdd0518f5b9e\"></div>\n"
      ]
     },
     "metadata": {},
     "output_type": "display_data"
    },
    {
     "data": {
      "text/html": [
       "\n",
       "<script>\n",
       " (function(element) {\n",
       "     require(['cytoscape'], function(cytoscape) {   \n",
       "        var cy = cytoscape({\n",
       "         container: document.getElementById('mydiv2f9c595c-c113-470e-9d4e-fdd0518f5b9e'),\n",
       "         style: [\n",
       "{\n",
       "  selector: 'node',\n",
       "  css: {\n",
       "    'class': \".bx--tree\",\n",
       "    'label': 'data(label)',\n",
       "    'height': '10px',\n",
       "    'width': '10px',\n",
       "  }\n",
       "},\n",
       "{\n",
       "  selector: 'edge',\n",
       "  css: {\n",
       "    'width': 3,\n",
       "    // 'line-color': '#ccc123',\n",
       "    'curve-style': 'bezier',\n",
       "    'target-arrow-shape': 'triangle',\n",
       "    'target-arrow-fill': 'filled',\n",
       "    'arrow-scale': 1,\n",
       "  }\n",
       "}\n",
       "],\n",
       "         layout: \n",
       "{\n",
       "  name: 'preset'\n",
       "}\n",
       ",\n",
       "         elements: [\n",
       "  { data: { id: 'node7', label: 3 }, position: { x: 0, y: 0 } },\n",
       "  { data: { id: 'edge8', source: 'node7', target: 'node3' } },\n",
       "  { data: { id: 'edge9', source: 'node7', target: 'leaf6' } },\n",
       "  { data: { id: 'node3', label: 1 }, position: { x: -100, y: 50 } },\n",
       "  { data: { id: 'edge4', source: 'node3', target: 'leaf1' } },\n",
       "  { data: { id: 'edge5', source: 'node3', target: 'leaf2' } },\n",
       "  { data: { id: 'leaf1' }, position: { x: -150, y: 100 } },\n",
       "  { data: { id: 'leaf2' }, position: { x: -50, y: 100 } },\n",
       "  { data: { id: 'leaf6' }, position: { x: 100, y: 50 } }\n",
       "]\n",
       "         });\n",
       "     });\n",
       " })(this.element);\n",
       "</script>\n"
      ]
     },
     "metadata": {},
     "output_type": "display_data"
    }
   ],
   "source": [
    "drawTree(newNode(3, newLeafNode(1), newLeaf()).toADT());"
   ]
  },
  {
   "cell_type": "markdown",
   "id": "af71bac2",
   "metadata": {},
   "source": [
    "#### Tree"
   ]
  },
  {
   "cell_type": "code",
   "execution_count": 12,
   "id": "217d1ac5",
   "metadata": {},
   "outputs": [
    {
     "data": {
      "text/html": [
       "\n",
       "<style>\n",
       "    #mydiv15ef4670-a03e-47e2-958d-a56de63b4667 {\n",
       "        width: 800px;\n",
       "        height: 350px;\n",
       "        top: 0px;\n",
       "        left: 0px;\n",
       "    }\n",
       "</style>\n",
       "<div id=\"mydiv15ef4670-a03e-47e2-958d-a56de63b4667\"></div>\n"
      ]
     },
     "metadata": {},
     "output_type": "display_data"
    },
    {
     "data": {
      "text/html": [
       "\n",
       "<script>\n",
       " (function(element) {\n",
       "     require(['cytoscape'], function(cytoscape) {   \n",
       "        var cy = cytoscape({\n",
       "         container: document.getElementById('mydiv15ef4670-a03e-47e2-958d-a56de63b4667'),\n",
       "         style: [\n",
       "{\n",
       "  selector: 'node',\n",
       "  css: {\n",
       "    'class': \".bx--tree\",\n",
       "    'label': 'data(label)',\n",
       "    'height': '10px',\n",
       "    'width': '10px',\n",
       "  }\n",
       "},\n",
       "{\n",
       "  selector: 'edge',\n",
       "  css: {\n",
       "    'width': 3,\n",
       "    // 'line-color': '#ccc123',\n",
       "    'curve-style': 'bezier',\n",
       "    'target-arrow-shape': 'triangle',\n",
       "    'target-arrow-fill': 'filled',\n",
       "    'arrow-scale': 1,\n",
       "  }\n",
       "}\n",
       "],\n",
       "         layout: \n",
       "{\n",
       "  name: 'preset'\n",
       "}\n",
       ",\n",
       "         elements: [\n",
       "  { data: { id: 'node23', label: 4 }, position: { x: 0, y: 0 } },\n",
       "  { data: { id: 'edge24', source: 'node23', target: 'node11' } },\n",
       "  { data: { id: 'edge25', source: 'node23', target: 'node20' } },\n",
       "  { data: { id: 'node11', label: 3 }, position: { x: -100, y: 50 } },\n",
       "  { data: { id: 'edge12', source: 'node11', target: 'node3' } },\n",
       "  { data: { id: 'edge13', source: 'node11', target: 'node8' } },\n",
       "  { data: { id: 'node3', label: 1 }, position: { x: -150, y: 100 } },\n",
       "  { data: { id: 'edge4', source: 'node3', target: 'leaf1' } },\n",
       "  { data: { id: 'edge5', source: 'node3', target: 'leaf2' } },\n",
       "  {\n",
       "    data: { id: 'leaf1' },\n",
       "    position: { x: -183.33333333333334, y: 150 }\n",
       "  },\n",
       "  {\n",
       "    data: { id: 'leaf2' },\n",
       "    position: { x: -116.66666666666666, y: 150 }\n",
       "  },\n",
       "  { data: { id: 'node8', label: 2 }, position: { x: -50, y: 100 } },\n",
       "  { data: { id: 'edge9', source: 'node8', target: 'leaf6' } },\n",
       "  { data: { id: 'edge10', source: 'node8', target: 'leaf7' } },\n",
       "  {\n",
       "    data: { id: 'leaf6' },\n",
       "    position: { x: -83.33333333333334, y: 150 }\n",
       "  },\n",
       "  {\n",
       "    data: { id: 'leaf7' },\n",
       "    position: { x: -16.666666666666664, y: 150 }\n",
       "  },\n",
       "  { data: { id: 'node20', label: 2 }, position: { x: 100, y: 50 } },\n",
       "  { data: { id: 'edge21', source: 'node20', target: 'node16' } },\n",
       "  { data: { id: 'edge22', source: 'node20', target: 'leaf19' } },\n",
       "  { data: { id: 'node16', label: 1 }, position: { x: 50, y: 100 } },\n",
       "  { data: { id: 'edge17', source: 'node16', target: 'leaf14' } },\n",
       "  { data: { id: 'edge18', source: 'node16', target: 'leaf15' } },\n",
       "  {\n",
       "    data: { id: 'leaf14' },\n",
       "    position: { x: 16.666666666666664, y: 150 }\n",
       "  },\n",
       "  {\n",
       "    data: { id: 'leaf15' },\n",
       "    position: { x: 83.33333333333334, y: 150 }\n",
       "  },\n",
       "  { data: { id: 'leaf19' }, position: { x: 150, y: 100 } }\n",
       "]\n",
       "         });\n",
       "     });\n",
       " })(this.element);\n",
       "</script>\n"
      ]
     },
     "metadata": {},
     "output_type": "display_data"
    }
   ],
   "source": [
    "const t1 = newLeafNode(1);\n",
    "const t2 = newNode(2, t1, newLeaf());\n",
    "const t3 = newNode(3, t1, newLeafNode(2));\n",
    "const t4 = newNode(4, t3, t2);\n",
    "drawTree(t4.toADT());"
   ]
  },
  {
   "cell_type": "markdown",
   "id": "1ba42e70",
   "metadata": {},
   "source": [
    "### Trees with Algebraic Data-Types (ADTs)\n",
    "\n",
    "- Now we'll do the same thing again, this time without classes.\n",
    "- Instead we'll use sum types and record types.\n",
    "- In a few lectures, we'll see a comparison of OOP (classes) vs. functional (ADTs)."
   ]
  },
  {
   "cell_type": "code",
   "execution_count": 13,
   "id": "0ebe2696",
   "metadata": {},
   "outputs": [],
   "source": [
    "// Tree data-type\n",
    "type Tree<T> =\n",
    "    {                      // record type\n",
    "        tag: \"LEAF\"        // literal type\n",
    "    }\n",
    "|   {                      // sum type and record type\n",
    "        tag: \"NODE\",\n",
    "        contents: T,       // notice no undefined\n",
    "        left: Tree<T>,\n",
    "        right: Tree<T>\n",
    "    };"
   ]
  },
  {
   "cell_type": "code",
   "execution_count": 14,
   "id": "eccca80f",
   "metadata": {},
   "outputs": [],
   "source": [
    "function mkLeaf<T>(): Tree<T> { // compare with newLeaf\n",
    "    // Constructor function for a node with no contents.\n",
    "    return {\n",
    "        tag: \"LEAF\"\n",
    "    };\n",
    "}\n",
    "\n",
    "function mkNode<T>(x: T, left: Tree<T>, right: Tree<T>): Tree<T> { // compare with newNode\n",
    "    // Constructor function for a node with contents, a left sub-tree, and a right-subtree.\n",
    "    return {\n",
    "        tag: \"NODE\",\n",
    "        contents: x,\n",
    "        left: left,\n",
    "        right: right\n",
    "    };\n",
    "}\n",
    "\n",
    "function mkLeafNode<T>(x: T): Tree<T> { // compare with newLeafNode\n",
    "    return mkNode(x, mkLeaf(), mkLeaf());\n",
    "}"
   ]
  },
  {
   "cell_type": "code",
   "execution_count": 15,
   "id": "6289a0fc",
   "metadata": {},
   "outputs": [
    {
     "name": "stdout",
     "output_type": "stream",
     "text": [
      "{\n",
      "  tag: \u001b[32m'NODE'\u001b[39m,\n",
      "  contents: \u001b[33m1\u001b[39m,\n",
      "  left: { tag: \u001b[32m'LEAF'\u001b[39m },\n",
      "  right: { tag: \u001b[32m'LEAF'\u001b[39m }\n",
      "}\n"
     ]
    }
   ],
   "source": [
    "const x = {\n",
    "    tag: \"NODE\",\n",
    "    contents: 1,\n",
    "    left: { tag: \"LEAF\" },\n",
    "    right: { tag: \"LEAF\" }\n",
    "}\n",
    "x"
   ]
  },
  {
   "cell_type": "markdown",
   "id": "0d9b8a0a",
   "metadata": {},
   "source": [
    "#### Book cover design with trees"
   ]
  },
  {
   "cell_type": "code",
   "execution_count": 16,
   "id": "b8e11daa",
   "metadata": {},
   "outputs": [],
   "source": [
    "const t5 = mkLeafNode(\"Box 5: left Bot\");\n",
    "const t0 = mkNode(\"Box2: Left\", t5, mkLeaf());\n",
    "const t1 = mkLeafNode(\"Box 4: Right Bot\");\n",
    "const t2 = mkNode(\"Box 3: Right\", t1, mkLeaf());\n",
    "const t3 = mkNode(\"Box 1\", t0, t2);"
   ]
  },
  {
   "cell_type": "code",
   "execution_count": 17,
   "id": "deeed163",
   "metadata": {},
   "outputs": [
    {
     "data": {
      "text/html": [
       "\n",
       "<style>\n",
       "    #mydivb516b19b-082a-46e4-bc6f-4f51ed8b3315 {\n",
       "        width: 800px;\n",
       "        height: 350px;\n",
       "        top: 0px;\n",
       "        left: 0px;\n",
       "    }\n",
       "</style>\n",
       "<div id=\"mydivb516b19b-082a-46e4-bc6f-4f51ed8b3315\"></div>\n"
      ]
     },
     "metadata": {},
     "output_type": "display_data"
    },
    {
     "data": {
      "text/html": [
       "\n",
       "<script>\n",
       " (function(element) {\n",
       "     require(['cytoscape'], function(cytoscape) {   \n",
       "        var cy = cytoscape({\n",
       "         container: document.getElementById('mydivb516b19b-082a-46e4-bc6f-4f51ed8b3315'),\n",
       "         style: [\n",
       "{\n",
       "  selector: 'node',\n",
       "  css: {\n",
       "    'class': \".bx--tree\",\n",
       "    'label': 'data(label)',\n",
       "    'height': '10px',\n",
       "    'width': '10px',\n",
       "  }\n",
       "},\n",
       "{\n",
       "  selector: 'edge',\n",
       "  css: {\n",
       "    'width': 3,\n",
       "    // 'line-color': '#ccc123',\n",
       "    'curve-style': 'bezier',\n",
       "    'target-arrow-shape': 'triangle',\n",
       "    'target-arrow-fill': 'filled',\n",
       "    'arrow-scale': 1,\n",
       "  }\n",
       "}\n",
       "],\n",
       "         layout: \n",
       "{\n",
       "  name: 'preset'\n",
       "}\n",
       ",\n",
       "         elements: [\n",
       "  { data: { id: 'node19', label: 'Box 1' }, position: { x: 0, y: 0 } },\n",
       "  { data: { id: 'edge20', source: 'node19', target: 'node7' } },\n",
       "  { data: { id: 'edge21', source: 'node19', target: 'node16' } },\n",
       "  {\n",
       "    data: { id: 'node7', label: 'Box2: Left' },\n",
       "    position: { x: -100, y: 50 }\n",
       "  },\n",
       "  { data: { id: 'edge8', source: 'node7', target: 'node3' } },\n",
       "  { data: { id: 'edge9', source: 'node7', target: 'leaf6' } },\n",
       "  {\n",
       "    data: { id: 'node3', label: 'Box 5: left Bot' },\n",
       "    position: { x: -150, y: 100 }\n",
       "  },\n",
       "  { data: { id: 'edge4', source: 'node3', target: 'leaf1' } },\n",
       "  { data: { id: 'edge5', source: 'node3', target: 'leaf2' } },\n",
       "  {\n",
       "    data: { id: 'leaf1' },\n",
       "    position: { x: -183.33333333333334, y: 150 }\n",
       "  },\n",
       "  {\n",
       "    data: { id: 'leaf2' },\n",
       "    position: { x: -116.66666666666666, y: 150 }\n",
       "  },\n",
       "  { data: { id: 'leaf6' }, position: { x: -50, y: 100 } },\n",
       "  {\n",
       "    data: { id: 'node16', label: 'Box 3: Right' },\n",
       "    position: { x: 100, y: 50 }\n",
       "  },\n",
       "  { data: { id: 'edge17', source: 'node16', target: 'node12' } },\n",
       "  { data: { id: 'edge18', source: 'node16', target: 'leaf15' } },\n",
       "  {\n",
       "    data: { id: 'node12', label: 'Box 4: Right Bot' },\n",
       "    position: { x: 50, y: 100 }\n",
       "  },\n",
       "  { data: { id: 'edge13', source: 'node12', target: 'leaf10' } },\n",
       "  { data: { id: 'edge14', source: 'node12', target: 'leaf11' } },\n",
       "  {\n",
       "    data: { id: 'leaf10' },\n",
       "    position: { x: 16.666666666666664, y: 150 }\n",
       "  },\n",
       "  {\n",
       "    data: { id: 'leaf11' },\n",
       "    position: { x: 83.33333333333334, y: 150 }\n",
       "  },\n",
       "  { data: { id: 'leaf15' }, position: { x: 150, y: 100 } }\n",
       "]\n",
       "         });\n",
       "     });\n",
       " })(this.element);\n",
       "</script>\n"
      ]
     },
     "metadata": {},
     "output_type": "display_data"
    }
   ],
   "source": [
    "drawTree(t3)"
   ]
  },
  {
   "cell_type": "code",
   "execution_count": 18,
   "id": "ba562699",
   "metadata": {},
   "outputs": [
    {
     "data": {
      "text/html": [
       "\n",
       "<style>\n",
       "    #mydivc4cd0b46-54f5-4e05-a1df-e2f8e0cbbeb3 {\n",
       "        width: 800px;\n",
       "        height: 350px;\n",
       "        top: 0px;\n",
       "        left: 0px;\n",
       "    }\n",
       "</style>\n",
       "<div id=\"mydivc4cd0b46-54f5-4e05-a1df-e2f8e0cbbeb3\"></div>\n"
      ]
     },
     "metadata": {},
     "output_type": "display_data"
    },
    {
     "data": {
      "text/html": [
       "\n",
       "<script>\n",
       " (function(element) {\n",
       "     require(['cytoscape'], function(cytoscape) {   \n",
       "        var cy = cytoscape({\n",
       "         container: document.getElementById('mydivc4cd0b46-54f5-4e05-a1df-e2f8e0cbbeb3'),\n",
       "         style: [\n",
       "{\n",
       "  selector: 'node',\n",
       "  css: {\n",
       "    'class': \".bx--tree\",\n",
       "    'label': 'data(label)',\n",
       "    'height': '10px',\n",
       "    'width': '10px',\n",
       "  }\n",
       "},\n",
       "{\n",
       "  selector: 'edge',\n",
       "  css: {\n",
       "    'width': 3,\n",
       "    // 'line-color': '#ccc123',\n",
       "    'curve-style': 'bezier',\n",
       "    'target-arrow-shape': 'triangle',\n",
       "    'target-arrow-fill': 'filled',\n",
       "    'arrow-scale': 1,\n",
       "  }\n",
       "}\n",
       "],\n",
       "         layout: \n",
       "{\n",
       "  name: 'preset'\n",
       "}\n",
       ",\n",
       "         elements: [\n",
       "  {\n",
       "    data: { id: 'node3', label: 'Box 4: Right Bot' },\n",
       "    position: { x: 0, y: 0 }\n",
       "  },\n",
       "  { data: { id: 'edge4', source: 'node3', target: 'leaf1' } },\n",
       "  { data: { id: 'edge5', source: 'node3', target: 'leaf2' } },\n",
       "  { data: { id: 'leaf1' }, position: { x: -100, y: 50 } },\n",
       "  { data: { id: 'leaf2' }, position: { x: 100, y: 50 } }\n",
       "]\n",
       "         });\n",
       "     });\n",
       " })(this.element);\n",
       "</script>\n"
      ]
     },
     "metadata": {},
     "output_type": "display_data"
    }
   ],
   "source": [
    "drawTree(t1)"
   ]
  },
  {
   "cell_type": "code",
   "execution_count": 19,
   "id": "28ebcfd9",
   "metadata": {},
   "outputs": [
    {
     "data": {
      "text/html": [
       "\n",
       "<style>\n",
       "    #mydiv70d14953-5767-43e1-bb8a-8ca57fab6a14 {\n",
       "        width: 800px;\n",
       "        height: 350px;\n",
       "        top: 0px;\n",
       "        left: 0px;\n",
       "    }\n",
       "</style>\n",
       "<div id=\"mydiv70d14953-5767-43e1-bb8a-8ca57fab6a14\"></div>\n"
      ]
     },
     "metadata": {},
     "output_type": "display_data"
    },
    {
     "data": {
      "text/html": [
       "\n",
       "<script>\n",
       " (function(element) {\n",
       "     require(['cytoscape'], function(cytoscape) {   \n",
       "        var cy = cytoscape({\n",
       "         container: document.getElementById('mydiv70d14953-5767-43e1-bb8a-8ca57fab6a14'),\n",
       "         style: [\n",
       "{\n",
       "  selector: 'node',\n",
       "  css: {\n",
       "    'class': \".bx--tree\",\n",
       "    'label': 'data(label)',\n",
       "    'height': '10px',\n",
       "    'width': '10px',\n",
       "  }\n",
       "},\n",
       "{\n",
       "  selector: 'edge',\n",
       "  css: {\n",
       "    'width': 3,\n",
       "    // 'line-color': '#ccc123',\n",
       "    'curve-style': 'bezier',\n",
       "    'target-arrow-shape': 'triangle',\n",
       "    'target-arrow-fill': 'filled',\n",
       "    'arrow-scale': 1,\n",
       "  }\n",
       "}\n",
       "],\n",
       "         layout: \n",
       "{\n",
       "  name: 'preset'\n",
       "}\n",
       ",\n",
       "         elements: [\n",
       "  {\n",
       "    data: { id: 'node7', label: 'Box 3: Right' },\n",
       "    position: { x: 0, y: 0 }\n",
       "  },\n",
       "  { data: { id: 'edge8', source: 'node7', target: 'node3' } },\n",
       "  { data: { id: 'edge9', source: 'node7', target: 'leaf6' } },\n",
       "  {\n",
       "    data: { id: 'node3', label: 'Box 4: Right Bot' },\n",
       "    position: { x: -100, y: 50 }\n",
       "  },\n",
       "  { data: { id: 'edge4', source: 'node3', target: 'leaf1' } },\n",
       "  { data: { id: 'edge5', source: 'node3', target: 'leaf2' } },\n",
       "  { data: { id: 'leaf1' }, position: { x: -150, y: 100 } },\n",
       "  { data: { id: 'leaf2' }, position: { x: -50, y: 100 } },\n",
       "  { data: { id: 'leaf6' }, position: { x: 100, y: 50 } }\n",
       "]\n",
       "         });\n",
       "     });\n",
       " })(this.element);\n",
       "</script>\n"
      ]
     },
     "metadata": {},
     "output_type": "display_data"
    }
   ],
   "source": [
    "drawTree(t2)"
   ]
  },
  {
   "cell_type": "code",
   "execution_count": 20,
   "id": "e81fa83e",
   "metadata": {},
   "outputs": [
    {
     "data": {
      "text/html": [
       "\n",
       "<style>\n",
       "    #mydivcd5dac35-582e-4fbb-8590-c2d99d041a43 {\n",
       "        width: 800px;\n",
       "        height: 350px;\n",
       "        top: 0px;\n",
       "        left: 0px;\n",
       "    }\n",
       "</style>\n",
       "<div id=\"mydivcd5dac35-582e-4fbb-8590-c2d99d041a43\"></div>\n"
      ]
     },
     "metadata": {},
     "output_type": "display_data"
    },
    {
     "data": {
      "text/html": [
       "\n",
       "<script>\n",
       " (function(element) {\n",
       "     require(['cytoscape'], function(cytoscape) {   \n",
       "        var cy = cytoscape({\n",
       "         container: document.getElementById('mydivcd5dac35-582e-4fbb-8590-c2d99d041a43'),\n",
       "         style: [\n",
       "{\n",
       "  selector: 'node',\n",
       "  css: {\n",
       "    'class': \".bx--tree\",\n",
       "    'label': 'data(label)',\n",
       "    'height': '10px',\n",
       "    'width': '10px',\n",
       "  }\n",
       "},\n",
       "{\n",
       "  selector: 'edge',\n",
       "  css: {\n",
       "    'width': 3,\n",
       "    // 'line-color': '#ccc123',\n",
       "    'curve-style': 'bezier',\n",
       "    'target-arrow-shape': 'triangle',\n",
       "    'target-arrow-fill': 'filled',\n",
       "    'arrow-scale': 1,\n",
       "  }\n",
       "}\n",
       "],\n",
       "         layout: \n",
       "{\n",
       "  name: 'preset'\n",
       "}\n",
       ",\n",
       "         elements: [\n",
       "  { data: { id: 'node19', label: 'Box 1' }, position: { x: 0, y: 0 } },\n",
       "  { data: { id: 'edge20', source: 'node19', target: 'node7' } },\n",
       "  { data: { id: 'edge21', source: 'node19', target: 'node16' } },\n",
       "  {\n",
       "    data: { id: 'node7', label: 'Box2: Left' },\n",
       "    position: { x: -100, y: 50 }\n",
       "  },\n",
       "  { data: { id: 'edge8', source: 'node7', target: 'node3' } },\n",
       "  { data: { id: 'edge9', source: 'node7', target: 'leaf6' } },\n",
       "  {\n",
       "    data: { id: 'node3', label: 'Box 5: left Bot' },\n",
       "    position: { x: -150, y: 100 }\n",
       "  },\n",
       "  { data: { id: 'edge4', source: 'node3', target: 'leaf1' } },\n",
       "  { data: { id: 'edge5', source: 'node3', target: 'leaf2' } },\n",
       "  {\n",
       "    data: { id: 'leaf1' },\n",
       "    position: { x: -183.33333333333334, y: 150 }\n",
       "  },\n",
       "  {\n",
       "    data: { id: 'leaf2' },\n",
       "    position: { x: -116.66666666666666, y: 150 }\n",
       "  },\n",
       "  { data: { id: 'leaf6' }, position: { x: -50, y: 100 } },\n",
       "  {\n",
       "    data: { id: 'node16', label: 'Box 3: Right' },\n",
       "    position: { x: 100, y: 50 }\n",
       "  },\n",
       "  { data: { id: 'edge17', source: 'node16', target: 'node12' } },\n",
       "  { data: { id: 'edge18', source: 'node16', target: 'leaf15' } },\n",
       "  {\n",
       "    data: { id: 'node12', label: 'Box 4: Right Bot' },\n",
       "    position: { x: 50, y: 100 }\n",
       "  },\n",
       "  { data: { id: 'edge13', source: 'node12', target: 'leaf10' } },\n",
       "  { data: { id: 'edge14', source: 'node12', target: 'leaf11' } },\n",
       "  {\n",
       "    data: { id: 'leaf10' },\n",
       "    position: { x: 16.666666666666664, y: 150 }\n",
       "  },\n",
       "  {\n",
       "    data: { id: 'leaf11' },\n",
       "    position: { x: 83.33333333333334, y: 150 }\n",
       "  },\n",
       "  { data: { id: 'leaf15' }, position: { x: 150, y: 100 } }\n",
       "]\n",
       "         });\n",
       "     });\n",
       " })(this.element);\n",
       "</script>\n"
      ]
     },
     "metadata": {},
     "output_type": "display_data"
    }
   ],
   "source": [
    "drawTree(t3)"
   ]
  },
  {
   "cell_type": "code",
   "execution_count": 21,
   "id": "9d62e83e",
   "metadata": {},
   "outputs": [
    {
     "name": "stdout",
     "output_type": "stream",
     "text": [
      "{\n",
      "  tag: \u001b[32m'NODE'\u001b[39m,\n",
      "  contents: \u001b[32m'Box 4: Right Bot'\u001b[39m,\n",
      "  left: { tag: \u001b[32m'LEAF'\u001b[39m },\n",
      "  right: { tag: \u001b[32m'LEAF'\u001b[39m }\n",
      "}\n"
     ]
    }
   ],
   "source": [
    "t1"
   ]
  },
  {
   "cell_type": "code",
   "execution_count": 22,
   "id": "e5409e7f",
   "metadata": {},
   "outputs": [
    {
     "name": "stdout",
     "output_type": "stream",
     "text": [
      "{\n",
      "  tag: \u001b[32m'NODE'\u001b[39m,\n",
      "  contents: \u001b[32m'Box 3: Right'\u001b[39m,\n",
      "  left: {\n",
      "    tag: \u001b[32m'NODE'\u001b[39m,\n",
      "    contents: \u001b[32m'Box 4: Right Bot'\u001b[39m,\n",
      "    left: { tag: \u001b[32m'LEAF'\u001b[39m },\n",
      "    right: { tag: \u001b[32m'LEAF'\u001b[39m }\n",
      "  },\n",
      "  right: { tag: \u001b[32m'LEAF'\u001b[39m }\n",
      "}\n"
     ]
    }
   ],
   "source": [
    "t2 // Notice nesting of t1 in t2's left child"
   ]
  },
  {
   "cell_type": "code",
   "execution_count": 23,
   "id": "b099e0f5",
   "metadata": {},
   "outputs": [
    {
     "name": "stdout",
     "output_type": "stream",
     "text": [
      "{\n",
      "  tag: \u001b[32m'NODE'\u001b[39m,\n",
      "  contents: \u001b[32m'Box 1'\u001b[39m,\n",
      "  left: {\n",
      "    tag: \u001b[32m'NODE'\u001b[39m,\n",
      "    contents: \u001b[32m'Box2: Left'\u001b[39m,\n",
      "    left: {\n",
      "      tag: \u001b[32m'NODE'\u001b[39m,\n",
      "      contents: \u001b[32m'Box 5: left Bot'\u001b[39m,\n",
      "      left: \u001b[36m[Object]\u001b[39m,\n",
      "      right: \u001b[36m[Object]\u001b[39m\n",
      "    },\n",
      "    right: { tag: \u001b[32m'LEAF'\u001b[39m }\n",
      "  },\n",
      "  right: {\n",
      "    tag: \u001b[32m'NODE'\u001b[39m,\n",
      "    contents: \u001b[32m'Box 3: Right'\u001b[39m,\n",
      "    left: {\n",
      "      tag: \u001b[32m'NODE'\u001b[39m,\n",
      "      contents: \u001b[32m'Box 4: Right Bot'\u001b[39m,\n",
      "      left: \u001b[36m[Object]\u001b[39m,\n",
      "      right: \u001b[36m[Object]\u001b[39m\n",
      "    },\n",
      "    right: { tag: \u001b[32m'LEAF'\u001b[39m }\n",
      "  }\n",
      "}\n"
     ]
    }
   ],
   "source": [
    "t3 // Notice nesting of t2 in t3's right child"
   ]
  },
  {
   "cell_type": "markdown",
   "id": "786d5296",
   "metadata": {},
   "source": [
    "#### Recursive Functions on Trees"
   ]
  },
  {
   "cell_type": "code",
   "execution_count": 24,
   "id": "0b079816",
   "metadata": {},
   "outputs": [
    {
     "data": {
      "text/html": [
       "\n",
       "<style>\n",
       "    #mydiv2fe2b5c7-8677-4e9d-8f58-12fa819e16d8 {\n",
       "        width: 800px;\n",
       "        height: 350px;\n",
       "        top: 0px;\n",
       "        left: 0px;\n",
       "    }\n",
       "</style>\n",
       "<div id=\"mydiv2fe2b5c7-8677-4e9d-8f58-12fa819e16d8\"></div>\n"
      ]
     },
     "metadata": {},
     "output_type": "display_data"
    },
    {
     "data": {
      "text/html": [
       "\n",
       "<script>\n",
       " (function(element) {\n",
       "     require(['cytoscape'], function(cytoscape) {   \n",
       "        var cy = cytoscape({\n",
       "         container: document.getElementById('mydiv2fe2b5c7-8677-4e9d-8f58-12fa819e16d8'),\n",
       "         style: [\n",
       "{\n",
       "  selector: 'node',\n",
       "  css: {\n",
       "    'class': \".bx--tree\",\n",
       "    'label': 'data(label)',\n",
       "    'height': '10px',\n",
       "    'width': '10px',\n",
       "  }\n",
       "},\n",
       "{\n",
       "  selector: 'edge',\n",
       "  css: {\n",
       "    'width': 3,\n",
       "    // 'line-color': '#ccc123',\n",
       "    'curve-style': 'bezier',\n",
       "    'target-arrow-shape': 'triangle',\n",
       "    'target-arrow-fill': 'filled',\n",
       "    'arrow-scale': 1,\n",
       "  }\n",
       "}\n",
       "],\n",
       "         layout: \n",
       "{\n",
       "  name: 'preset'\n",
       "}\n",
       ",\n",
       "         elements: [\n",
       "  {\n",
       "    data: { id: 'node7', label: 'Box 3: Right' },\n",
       "    position: { x: 0, y: 0 }\n",
       "  },\n",
       "  { data: { id: 'edge8', source: 'node7', target: 'node3' } },\n",
       "  { data: { id: 'edge9', source: 'node7', target: 'leaf6' } },\n",
       "  {\n",
       "    data: { id: 'node3', label: 'Box 4: Right Bot' },\n",
       "    position: { x: -100, y: 50 }\n",
       "  },\n",
       "  { data: { id: 'edge4', source: 'node3', target: 'leaf1' } },\n",
       "  { data: { id: 'edge5', source: 'node3', target: 'leaf2' } },\n",
       "  { data: { id: 'leaf1' }, position: { x: -150, y: 100 } },\n",
       "  { data: { id: 'leaf2' }, position: { x: -50, y: 100 } },\n",
       "  { data: { id: 'leaf6' }, position: { x: 100, y: 50 } }\n",
       "]\n",
       "         });\n",
       "     });\n",
       " })(this.element);\n",
       "</script>\n"
      ]
     },
     "metadata": {},
     "output_type": "display_data"
    }
   ],
   "source": [
    "drawTree(t2)"
   ]
  },
  {
   "cell_type": "markdown",
   "id": "49676676",
   "metadata": {},
   "source": [
    "#### Computing the height of a tree\n",
    "\n",
    "```ts\n",
    "\n",
    "height(mkNode(\"Box 3: Right\"), mkLeafNode(\"Box 4: Right Bot\"), mkLeaf()))\n",
    "    = 1 + max(height(mkLeafNode(\"Box 4: Right Bot\")), height(mkLeaf())))\n",
    "    = 1 + max(1 + max(height(mkLeaf()), height(mkLeaf())), 0)\n",
    "    = 1 + max(1 + max(0, 0), 0)\n",
    "    = 1 + 1\n",
    "    = 2\n",
    "```"
   ]
  },
  {
   "cell_type": "code",
   "execution_count": 25,
   "id": "ab074f65",
   "metadata": {},
   "outputs": [
    {
     "name": "stdout",
     "output_type": "stream",
     "text": [
      "\u001b[33m2\u001b[39m\n"
     ]
    }
   ],
   "source": [
    "function height<T>(t: Tree<T>): number {\n",
    "    switch (t.tag) {\n",
    "        case \"LEAF\": {   // Base case: leaf node\n",
    "            return 0;\n",
    "        }\n",
    "        case \"NODE\": {   // Recursive (or inductive) case: node with left and right child\n",
    "            return 1 + Math.max(height(t.left), height(t.right));\n",
    "        }\n",
    "    }\n",
    "}\n",
    "\n",
    "height(t2)"
   ]
  },
  {
   "cell_type": "markdown",
   "id": "22544290",
   "metadata": {},
   "source": [
    "#### Converting a tree to a string\n",
    "\n",
    "```ts\n",
    "\n",
    "trToStr(mkNode(\"Box 3: Right\"), mkLeafNode(\"Box 4: Right Bot\"), mkLeaf()))\n",
    "    = `(Box 3: Right ${trToStr(mkLeafNode(\"Box 4: Right Bot\"))} ${trToStr(mkLeaf())})`\n",
    "    = `(Box 3: Right (Box 4: Right Bot ${trToStr(mkLeaf())} ${trToStr(mkLeaf())}) ())`\n",
    "    = `(Box 3: Right (Box 4: Right Bot () ()) ())`\n",
    "```"
   ]
  },
  {
   "cell_type": "code",
   "execution_count": 26,
   "id": "f2132792",
   "metadata": {},
   "outputs": [],
   "source": [
    "function trToStr<T>(t: Tree<T>): string {\n",
    "    switch (t.tag) {\n",
    "        case \"LEAF\": {  // Base case: by definition \"()\"\n",
    "            return \"()\";  \n",
    "        }\n",
    "        case \"NODE\": {  // Recursive case: by definition \"()\"\n",
    "            // Assume: treeToString(t.left) gives me the answer to the left child \n",
    "            // Assume: treeToString(t.right) gives me the answer to the right child\n",
    "            // Answer (contents left right)\n",
    "            return `(${t.contents.toString()} ${trToStr(t.left)} ${trToStr(t.right)})`;\n",
    "        }\n",
    "            \n",
    "    }\n",
    "}"
   ]
  },
  {
   "cell_type": "code",
   "execution_count": 27,
   "id": "d835c08f",
   "metadata": {},
   "outputs": [
    {
     "name": "stdout",
     "output_type": "stream",
     "text": [
      "(Box 3: Right (Box 4: Right Bot () ()) ())\n"
     ]
    }
   ],
   "source": [
    "trToStr(t2)"
   ]
  },
  {
   "cell_type": "markdown",
   "id": "45740709",
   "metadata": {},
   "source": [
    "#### Mapping a tree"
   ]
  },
  {
   "cell_type": "code",
   "execution_count": 28,
   "id": "0738dad4",
   "metadata": {},
   "outputs": [],
   "source": [
    "function mapTree<T, U>(f: (arg: T) => U, t: Tree<T>): Tree<U> {\n",
    "    switch (t.tag) {\n",
    "        case \"LEAF\": {\n",
    "            return mkLeaf();\n",
    "        }\n",
    "        case \"NODE\": {\n",
    "            return mkNode(f(t.contents), mapTree(f, t.left), mapTree(f, t.right));\n",
    "        }\n",
    "            \n",
    "    }\n",
    "}"
   ]
  },
  {
   "cell_type": "code",
   "execution_count": 29,
   "id": "298d5749",
   "metadata": {},
   "outputs": [
    {
     "data": {
      "text/html": [
       "\n",
       "<style>\n",
       "    #mydiv55f7d9e8-c865-4827-a413-4340744559e7 {\n",
       "        width: 800px;\n",
       "        height: 350px;\n",
       "        top: 0px;\n",
       "        left: 0px;\n",
       "    }\n",
       "</style>\n",
       "<div id=\"mydiv55f7d9e8-c865-4827-a413-4340744559e7\"></div>\n"
      ]
     },
     "metadata": {},
     "output_type": "display_data"
    },
    {
     "data": {
      "text/html": [
       "\n",
       "<script>\n",
       " (function(element) {\n",
       "     require(['cytoscape'], function(cytoscape) {   \n",
       "        var cy = cytoscape({\n",
       "         container: document.getElementById('mydiv55f7d9e8-c865-4827-a413-4340744559e7'),\n",
       "         style: [\n",
       "{\n",
       "  selector: 'node',\n",
       "  css: {\n",
       "    'class': \".bx--tree\",\n",
       "    'label': 'data(label)',\n",
       "    'height': '10px',\n",
       "    'width': '10px',\n",
       "  }\n",
       "},\n",
       "{\n",
       "  selector: 'edge',\n",
       "  css: {\n",
       "    'width': 3,\n",
       "    // 'line-color': '#ccc123',\n",
       "    'curve-style': 'bezier',\n",
       "    'target-arrow-shape': 'triangle',\n",
       "    'target-arrow-fill': 'filled',\n",
       "    'arrow-scale': 1,\n",
       "  }\n",
       "}\n",
       "],\n",
       "         layout: \n",
       "{\n",
       "  name: 'preset'\n",
       "}\n",
       ",\n",
       "         elements: [\n",
       "  {\n",
       "    data: { id: 'node7', label: 'Box 3: Right' },\n",
       "    position: { x: 0, y: 0 }\n",
       "  },\n",
       "  { data: { id: 'edge8', source: 'node7', target: 'node3' } },\n",
       "  { data: { id: 'edge9', source: 'node7', target: 'leaf6' } },\n",
       "  {\n",
       "    data: { id: 'node3', label: 'Box 4: Right Bot' },\n",
       "    position: { x: -100, y: 50 }\n",
       "  },\n",
       "  { data: { id: 'edge4', source: 'node3', target: 'leaf1' } },\n",
       "  { data: { id: 'edge5', source: 'node3', target: 'leaf2' } },\n",
       "  { data: { id: 'leaf1' }, position: { x: -150, y: 100 } },\n",
       "  { data: { id: 'leaf2' }, position: { x: -50, y: 100 } },\n",
       "  { data: { id: 'leaf6' }, position: { x: 100, y: 50 } }\n",
       "]\n",
       "         });\n",
       "     });\n",
       " })(this.element);\n",
       "</script>\n"
      ]
     },
     "metadata": {},
     "output_type": "display_data"
    }
   ],
   "source": [
    "drawTree(t2)"
   ]
  },
  {
   "cell_type": "code",
   "execution_count": 30,
   "id": "83d641c3",
   "metadata": {},
   "outputs": [
    {
     "data": {
      "text/html": [
       "\n",
       "<style>\n",
       "    #mydiv6677366f-bdcd-44d1-9919-2a6f1fbec367 {\n",
       "        width: 800px;\n",
       "        height: 350px;\n",
       "        top: 0px;\n",
       "        left: 0px;\n",
       "    }\n",
       "</style>\n",
       "<div id=\"mydiv6677366f-bdcd-44d1-9919-2a6f1fbec367\"></div>\n"
      ]
     },
     "metadata": {},
     "output_type": "display_data"
    },
    {
     "data": {
      "text/html": [
       "\n",
       "<script>\n",
       " (function(element) {\n",
       "     require(['cytoscape'], function(cytoscape) {   \n",
       "        var cy = cytoscape({\n",
       "         container: document.getElementById('mydiv6677366f-bdcd-44d1-9919-2a6f1fbec367'),\n",
       "         style: [\n",
       "{\n",
       "  selector: 'node',\n",
       "  css: {\n",
       "    'class': \".bx--tree\",\n",
       "    'label': 'data(label)',\n",
       "    'height': '10px',\n",
       "    'width': '10px',\n",
       "  }\n",
       "},\n",
       "{\n",
       "  selector: 'edge',\n",
       "  css: {\n",
       "    'width': 3,\n",
       "    // 'line-color': '#ccc123',\n",
       "    'curve-style': 'bezier',\n",
       "    'target-arrow-shape': 'triangle',\n",
       "    'target-arrow-fill': 'filled',\n",
       "    'arrow-scale': 1,\n",
       "  }\n",
       "}\n",
       "],\n",
       "         layout: \n",
       "{\n",
       "  name: 'preset'\n",
       "}\n",
       ",\n",
       "         elements: [\n",
       "  {\n",
       "    data: { id: 'node7', label: 'Box 3: Right!!!!' },\n",
       "    position: { x: 0, y: 0 }\n",
       "  },\n",
       "  { data: { id: 'edge8', source: 'node7', target: 'node3' } },\n",
       "  { data: { id: 'edge9', source: 'node7', target: 'leaf6' } },\n",
       "  {\n",
       "    data: { id: 'node3', label: 'Box 4: Right Bot!!!!' },\n",
       "    position: { x: -100, y: 50 }\n",
       "  },\n",
       "  { data: { id: 'edge4', source: 'node3', target: 'leaf1' } },\n",
       "  { data: { id: 'edge5', source: 'node3', target: 'leaf2' } },\n",
       "  { data: { id: 'leaf1' }, position: { x: -150, y: 100 } },\n",
       "  { data: { id: 'leaf2' }, position: { x: -50, y: 100 } },\n",
       "  { data: { id: 'leaf6' }, position: { x: 100, y: 50 } }\n",
       "]\n",
       "         });\n",
       "     });\n",
       " })(this.element);\n",
       "</script>\n"
      ]
     },
     "metadata": {},
     "output_type": "display_data"
    }
   ],
   "source": [
    "drawTree(mapTree((arg: string) => arg + \"!!!!\", t2))"
   ]
  },
  {
   "cell_type": "markdown",
   "id": "d8440512",
   "metadata": {},
   "source": [
    "#### What does the class version look like?\n",
    "\n",
    "- Notice how we have to modify the entire class.\n",
    "- Lookahead to OOP vs. functional: easier to add functions in functional style.\n",
    "- What's easier to add for OOP?"
   ]
  },
  {
   "cell_type": "code",
   "execution_count": 31,
   "id": "7b3d3687",
   "metadata": {},
   "outputs": [],
   "source": [
    "class TreeCls<T> {\n",
    "    private contents: T | undefined;\n",
    "    private left: TreeCls<T> | undefined;\n",
    "    private right: TreeCls<T> | undefined;\n",
    "    \n",
    "    constructor(contents: T|undefined, left: TreeCls<T>|undefined, right: TreeCls<T>|undefined) {\n",
    "        this.contents = contents;\n",
    "        this.left = left;\n",
    "        this.right = right;\n",
    "    }\n",
    "    \n",
    "    map<U>(f: (arg: T) => U) { // Compare and contrast!\n",
    "        if (this.contents === undefined && this.left === undefined && this.right === undefined) {\n",
    "            return {\n",
    "                tag: \"LEAF\"\n",
    "            };\n",
    "        } else {\n",
    "            return {\n",
    "                tag: \"NODE\",\n",
    "                contents: f(this.contents),\n",
    "                left: this.left !== undefined ? this.left.map(f) : { tag: \"LEAF\" },\n",
    "                right: this.right !== undefined ? this.right.map(f) : { tag: \"LEAF\" }\n",
    "            };\n",
    "        }\n",
    "    }\n",
    "    \n",
    "    toADT() { // Ignore for now \n",
    "        if (this.contents === undefined && this.left === undefined && this.right === undefined) {\n",
    "            return {\n",
    "                tag: \"LEAF\"\n",
    "            };\n",
    "        } else {\n",
    "            return {\n",
    "                tag: \"NODE\",\n",
    "                contents: this.contents,\n",
    "                left: this.left !== undefined ? this.left.toADT() : { tag: \"LEAF\" },\n",
    "                right: this.right !== undefined ? this.right.toADT() : { tag: \"LEAF\" }\n",
    "            };\n",
    "        }\n",
    "    }\n",
    "}"
   ]
  },
  {
   "cell_type": "markdown",
   "id": "4b3c3d70",
   "metadata": {},
   "source": [
    "#### What does the iterative solutions look like?\n",
    "\n",
    "- Are you sure you don't like recursion anymore?"
   ]
  },
  {
   "cell_type": "code",
   "execution_count": 32,
   "id": "d5ddad1a",
   "metadata": {},
   "outputs": [],
   "source": [
    "function mapIterTree<T, U>(f: (arg: T) => U, t: Tree<T>): Tree<U> {\n",
    "    let callStack: [string, Tree<T> | U][] = [];\n",
    "    let ans: Tree<U>[] = [];\n",
    "    callStack.push([\"CALL\", t]);\n",
    "    \n",
    "    while (callStack.length > 0) {\n",
    "        const [mode, trOrU] = callStack.pop();\n",
    "        if (mode === \"CALL\") {\n",
    "            const tr = trOrU as Tree<T>;\n",
    "            switch (tr.tag) {\n",
    "                case \"LEAF\": {\n",
    "                    ans.push(mkLeaf());\n",
    "                    break;\n",
    "                }\n",
    "                case \"NODE\": {\n",
    "                    callStack.push([\"RET\", f(tr.contents)]);\n",
    "                    callStack.push([\"CALL\", tr.right]);\n",
    "                    callStack.push([\"CALL\", tr.left]);\n",
    "                    break;\n",
    "                }\n",
    "            }\n",
    "        } else if (mode === \"RET\") {\n",
    "            const u = trOrU as U;\n",
    "            const right = ans.pop();\n",
    "            const left = ans.pop();\n",
    "            ans.push(mkNode(u, left, right));\n",
    "        } else {\n",
    "            throw Error(\"Shouldn't happen ...\");\n",
    "        }\n",
    "    }\n",
    "    \n",
    "    return ans.pop();\n",
    "}"
   ]
  },
  {
   "cell_type": "code",
   "execution_count": 33,
   "id": "83b54bbc",
   "metadata": {},
   "outputs": [
    {
     "data": {
      "text/html": [
       "\n",
       "<style>\n",
       "    #mydiv4f6b3131-b774-4c67-bbc1-dcba415d347b {\n",
       "        width: 800px;\n",
       "        height: 350px;\n",
       "        top: 0px;\n",
       "        left: 0px;\n",
       "    }\n",
       "</style>\n",
       "<div id=\"mydiv4f6b3131-b774-4c67-bbc1-dcba415d347b\"></div>\n"
      ]
     },
     "metadata": {},
     "output_type": "display_data"
    },
    {
     "data": {
      "text/html": [
       "\n",
       "<script>\n",
       " (function(element) {\n",
       "     require(['cytoscape'], function(cytoscape) {   \n",
       "        var cy = cytoscape({\n",
       "         container: document.getElementById('mydiv4f6b3131-b774-4c67-bbc1-dcba415d347b'),\n",
       "         style: [\n",
       "{\n",
       "  selector: 'node',\n",
       "  css: {\n",
       "    'class': \".bx--tree\",\n",
       "    'label': 'data(label)',\n",
       "    'height': '10px',\n",
       "    'width': '10px',\n",
       "  }\n",
       "},\n",
       "{\n",
       "  selector: 'edge',\n",
       "  css: {\n",
       "    'width': 3,\n",
       "    // 'line-color': '#ccc123',\n",
       "    'curve-style': 'bezier',\n",
       "    'target-arrow-shape': 'triangle',\n",
       "    'target-arrow-fill': 'filled',\n",
       "    'arrow-scale': 1,\n",
       "  }\n",
       "}\n",
       "],\n",
       "         layout: \n",
       "{\n",
       "  name: 'preset'\n",
       "}\n",
       ",\n",
       "         elements: [\n",
       "  {\n",
       "    data: { id: 'node7', label: 'Box 3: Right!' },\n",
       "    position: { x: 0, y: 0 }\n",
       "  },\n",
       "  { data: { id: 'edge8', source: 'node7', target: 'node3' } },\n",
       "  { data: { id: 'edge9', source: 'node7', target: 'leaf6' } },\n",
       "  {\n",
       "    data: { id: 'node3', label: 'Box 4: Right Bot!' },\n",
       "    position: { x: -100, y: 50 }\n",
       "  },\n",
       "  { data: { id: 'edge4', source: 'node3', target: 'leaf1' } },\n",
       "  { data: { id: 'edge5', source: 'node3', target: 'leaf2' } },\n",
       "  { data: { id: 'leaf1' }, position: { x: -150, y: 100 } },\n",
       "  { data: { id: 'leaf2' }, position: { x: -50, y: 100 } },\n",
       "  { data: { id: 'leaf6' }, position: { x: 100, y: 50 } }\n",
       "]\n",
       "         });\n",
       "     });\n",
       " })(this.element);\n",
       "</script>\n"
      ]
     },
     "metadata": {},
     "output_type": "display_data"
    }
   ],
   "source": [
    "drawTree(mapIterTree((arg: string) => arg + \"!\", t2))"
   ]
  },
  {
   "cell_type": "markdown",
   "id": "43ab619e",
   "metadata": {},
   "source": [
    "### Summary\n",
    "\n",
    "- You can do the **same** computations with both iteration and recursion.\n",
    "- Recursion uses more **stack frames** (the traceCallStack picture) than iteration.\n",
    "- For some functions, iteration requires you to simulate the stack on the heap (e.g., `mapIterTree`)"
   ]
  },
  {
   "cell_type": "code",
   "execution_count": 34,
   "id": "335088bd",
   "metadata": {},
   "outputs": [
    {
     "data": {
      "text/html": [
       "\n",
       "<div class=\"bx--grid\"> Program 1: I'm a top-level program\n",
       "    <div class=\"bx--row\">\n",
       "        <div class=\"bx--col\">\n",
       "            <div class=\"bx--tile\">\n",
       "                BOX2: Sub-program 2\n",
       "            </div>\n",
       "        </div>\n",
       "        <div class=\"bx--col\">\n",
       "            <div class=\"bx--tile\">\n",
       "                BOX3: Sub-program 3\n",
       "                \n",
       "                <div class=\"bx--tile\">\n",
       "                    BOX4: A sub-sub-program\n",
       "                </div>\n",
       "            </div>\n",
       "        </div>\n",
       "    </div>\n",
       "</div>\n"
      ]
     },
     "metadata": {},
     "output_type": "display_data"
    }
   ],
   "source": [
    "tslab.display.html(`\n",
    "<div class=\"bx--grid\"> Program 1: I'm a top-level program\n",
    "    <div class=\"bx--row\">\n",
    "        <div class=\"bx--col\">\n",
    "            <div class=\"bx--tile\">\n",
    "                BOX2: Sub-program 2\n",
    "            </div>\n",
    "        </div>\n",
    "        <div class=\"bx--col\">\n",
    "            <div class=\"bx--tile\">\n",
    "                BOX3: Sub-program 3\n",
    "                \n",
    "                <div class=\"bx--tile\">\n",
    "                    BOX4: A sub-sub-program\n",
    "                </div>\n",
    "            </div>\n",
    "        </div>\n",
    "    </div>\n",
    "</div>\n",
    "`)"
   ]
  },
  {
   "cell_type": "markdown",
   "id": "a47faba8",
   "metadata": {},
   "source": [
    "## Summary\n",
    "\n",
    "- We motivated ADTs + recursion as a natural way of solving a problem such as page layout.\n",
    "- We looked at an example of an ADT called a Tree.\n",
    "- Trees are surprisingly powerful. And in fact every TypeScript object underneath looks a lot like a Tree.\n",
    "- We'll continue to see recursive-style thinking throughout the class."
   ]
  },
  {
   "cell_type": "code",
   "execution_count": null,
   "id": "efb70206",
   "metadata": {},
   "outputs": [],
   "source": []
  }
 ],
 "metadata": {
  "kernelspec": {
   "display_name": "TypeScript",
   "language": "typescript",
   "name": "typescript"
  },
  "language_info": {
   "codemirror_mode": {
    "mode": "typescript",
    "name": "javascript",
    "typescript": true
   },
   "file_extension": ".ts",
   "mimetype": "text/typescript",
   "name": "typescript",
   "version": "3.7.2"
  }
 },
 "nbformat": 4,
 "nbformat_minor": 5
}
