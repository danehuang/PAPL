{
 "cells": [
  {
   "cell_type": "code",
   "execution_count": 1,
   "id": "bef45329-9ad9-48cb-a6a5-0774868c1e9b",
   "metadata": {},
   "outputs": [],
   "source": [
    "%load_ext sql"
   ]
  },
  {
   "cell_type": "code",
   "execution_count": 2,
   "id": "2e80bc01-8d14-4fac-b840-7f1d0527c8b1",
   "metadata": {},
   "outputs": [],
   "source": [
    "%sql sqlite://"
   ]
  },
  {
   "cell_type": "markdown",
   "id": "24d58791-f4a0-470a-b4e4-b29d984f761a",
   "metadata": {},
   "source": [
    "# Structured Query Language (SQL)"
   ]
  },
  {
   "cell_type": "markdown",
   "id": "bdace2b4",
   "metadata": {},
   "source": [
    "## Where Were We?\n",
    "\n",
    "1. Language primitives (i.e., building blocks of languages)\n",
    "2. **Language paradigms** (i.e., combinations of language primitives)\n",
    "    - Last time: DSL with regular expressions\n",
    "    - This time: DSL for data management called **SQL** (structured query language)\n",
    "3. Building a language (i.e., designing your own language)"
   ]
  },
  {
   "cell_type": "markdown",
   "id": "ca5002b2",
   "metadata": {},
   "source": [
    "## Background\n",
    "\n",
    "SQL is:\n",
    "\n",
    "* **Declarative**: You don't tell it _how_ to do things, only _what you want_.\n",
    "* **Domain-specific**: Specialized for data query and manipulation.\n",
    "\n",
    "SQL is used to access data in a **relational database**:\n",
    "\n",
    "* Relational databases are made up of **tables** (relations). Think **spreadsheet**.\n",
    "* All data is in tables: both the raw data and the output of queries.\n",
    "* Based on **relational algebra** by Edgar F. Codd (1970). (https://en.wikipedia.org/wiki/Relational_algebra)\n"
   ]
  },
  {
   "cell_type": "markdown",
   "id": "4785f6d7-368b-498e-81d6-e0bf6b4f7c23",
   "metadata": {},
   "source": [
    "# Sample application: Shopping List App\n",
    "\n",
    "![Items](images/items.png)"
   ]
  },
  {
   "cell_type": "markdown",
   "id": "76c264a5-141e-40fc-a859-47affb9be1c3",
   "metadata": {},
   "source": [
    "# Creating a table of items\n",
    "\n",
    "Note how SQL reads a bit like English. **It was aimed at business people**, not programmers."
   ]
  },
  {
   "cell_type": "code",
   "execution_count": 3,
   "id": "a12ef812-a567-43cc-8fc9-91894853bcb9",
   "metadata": {},
   "outputs": [
    {
     "name": "stdout",
     "output_type": "stream",
     "text": [
      " * sqlite://\n",
      "Done.\n",
      "Done.\n"
     ]
    },
    {
     "data": {
      "text/plain": [
       "[]"
      ]
     },
     "execution_count": 3,
     "metadata": {},
     "output_type": "execute_result"
    }
   ],
   "source": [
    "%%sql\n",
    "\n",
    "DROP TABLE IF EXISTS item;\n",
    "\n",
    "CREATE TABLE item(\n",
    "    item_id INTEGER PRIMARY KEY,   -- unique numberical ID for item\n",
    "    value TEXT NOT NULL,           -- name of item, like 'milk'\n",
    "    category TEXT NOT NULL)        -- section of the store, like 'dairy'"
   ]
  },
  {
   "cell_type": "markdown",
   "id": "7b80004e",
   "metadata": {},
   "source": [
    "```\n",
    "item\n",
    "---------------------------------------------------\n",
    "| item_id: INTEGER | value: TEXT | category: TEXT |\n",
    "---------------------------------------------------\n",
    "```"
   ]
  },
  {
   "cell_type": "markdown",
   "id": "017cf4c8-b415-416a-a91f-6278c287eaa1",
   "metadata": {},
   "source": [
    "# Inserting data"
   ]
  },
  {
   "cell_type": "code",
   "execution_count": 4,
   "id": "b17098ea-61c7-4e09-b9ee-fefcbb103a24",
   "metadata": {},
   "outputs": [
    {
     "name": "stdout",
     "output_type": "stream",
     "text": [
      " * sqlite://\n",
      "6 rows affected.\n"
     ]
    },
    {
     "data": {
      "text/plain": [
       "[]"
      ]
     },
     "execution_count": 4,
     "metadata": {},
     "output_type": "execute_result"
    }
   ],
   "source": [
    "%%sql\n",
    "\n",
    "INSERT INTO item VALUES\n",
    "    (1, 'milk', 'dairy'),\n",
    "    (2, 'bananas', 'produce'),\n",
    "    (3, 'eggs', 'dairy'),\n",
    "    (4, 'bread', 'bakery'),\n",
    "    (5, 'apples', 'produce'),\n",
    "    (6, 'onions', 'produce');\n"
   ]
  },
  {
   "cell_type": "markdown",
   "id": "1dd784ad",
   "metadata": {},
   "source": [
    "```\n",
    "item\n",
    "---------------------------------------------------\n",
    "| item_id: INTEGER | value: TEXT | category: TEXT |\n",
    "---------------------------------------------------\n",
    "|       1          |   milk      | dairy          |\n",
    "---------------------------------------------------\n",
    "|       2          |   banans    | produce        |\n",
    "---------------------------------------------------\n",
    "....\n",
    "```"
   ]
  },
  {
   "cell_type": "markdown",
   "id": "843083fa-c63f-45a6-a0aa-59b52b403e40",
   "metadata": {},
   "source": [
    "# Querying data"
   ]
  },
  {
   "cell_type": "code",
   "execution_count": 5,
   "id": "efe3d2d3-31d0-4cc4-9dbb-e8ea79c20c21",
   "metadata": {
    "tags": []
   },
   "outputs": [
    {
     "name": "stdout",
     "output_type": "stream",
     "text": [
      " * sqlite://\n",
      "Done.\n"
     ]
    },
    {
     "data": {
      "text/html": [
       "<table>\n",
       "    <tr>\n",
       "        <th>item_id</th>\n",
       "        <th>value</th>\n",
       "        <th>category</th>\n",
       "    </tr>\n",
       "    <tr>\n",
       "        <td>1</td>\n",
       "        <td>milk</td>\n",
       "        <td>dairy</td>\n",
       "    </tr>\n",
       "    <tr>\n",
       "        <td>2</td>\n",
       "        <td>bananas</td>\n",
       "        <td>produce</td>\n",
       "    </tr>\n",
       "    <tr>\n",
       "        <td>3</td>\n",
       "        <td>eggs</td>\n",
       "        <td>dairy</td>\n",
       "    </tr>\n",
       "    <tr>\n",
       "        <td>4</td>\n",
       "        <td>bread</td>\n",
       "        <td>bakery</td>\n",
       "    </tr>\n",
       "    <tr>\n",
       "        <td>5</td>\n",
       "        <td>apples</td>\n",
       "        <td>produce</td>\n",
       "    </tr>\n",
       "    <tr>\n",
       "        <td>6</td>\n",
       "        <td>onions</td>\n",
       "        <td>produce</td>\n",
       "    </tr>\n",
       "</table>"
      ],
      "text/plain": [
       "[(1, 'milk', 'dairy'),\n",
       " (2, 'bananas', 'produce'),\n",
       " (3, 'eggs', 'dairy'),\n",
       " (4, 'bread', 'bakery'),\n",
       " (5, 'apples', 'produce'),\n",
       " (6, 'onions', 'produce')]"
      ]
     },
     "execution_count": 5,
     "metadata": {},
     "output_type": "execute_result"
    }
   ],
   "source": [
    "%%sql\n",
    "\n",
    "SELECT *\n",
    "FROM item;          -- It's customary to wrap queries at each clause."
   ]
  },
  {
   "cell_type": "markdown",
   "id": "23896e96-4c62-4568-9f8e-0e2b5dacf033",
   "metadata": {},
   "source": [
    "Note that rows are **inherently unordered**. Can ask for just a single column:"
   ]
  },
  {
   "cell_type": "code",
   "execution_count": 6,
   "id": "9d8f7da3-d448-4216-afba-071b66845df4",
   "metadata": {},
   "outputs": [
    {
     "name": "stdout",
     "output_type": "stream",
     "text": [
      " * sqlite://\n",
      "Done.\n"
     ]
    },
    {
     "data": {
      "text/html": [
       "<table>\n",
       "    <tr>\n",
       "        <th>value</th>\n",
       "    </tr>\n",
       "    <tr>\n",
       "        <td>milk</td>\n",
       "    </tr>\n",
       "    <tr>\n",
       "        <td>bananas</td>\n",
       "    </tr>\n",
       "    <tr>\n",
       "        <td>eggs</td>\n",
       "    </tr>\n",
       "    <tr>\n",
       "        <td>bread</td>\n",
       "    </tr>\n",
       "    <tr>\n",
       "        <td>apples</td>\n",
       "    </tr>\n",
       "    <tr>\n",
       "        <td>onions</td>\n",
       "    </tr>\n",
       "</table>"
      ],
      "text/plain": [
       "[('milk',), ('bananas',), ('eggs',), ('bread',), ('apples',), ('onions',)]"
      ]
     },
     "execution_count": 6,
     "metadata": {},
     "output_type": "execute_result"
    }
   ],
   "source": [
    "%%sql\n",
    "\n",
    "SELECT value\n",
    "FROM item;"
   ]
  },
  {
   "cell_type": "markdown",
   "id": "9546ec2b-7b73-4246-86d9-ab10955a0109",
   "metadata": {},
   "source": [
    "Or multiple columns:"
   ]
  },
  {
   "cell_type": "code",
   "execution_count": 7,
   "id": "ab47134d-b05f-47b3-9d34-6dce3465e14b",
   "metadata": {},
   "outputs": [
    {
     "name": "stdout",
     "output_type": "stream",
     "text": [
      " * sqlite://\n",
      "Done.\n"
     ]
    },
    {
     "data": {
      "text/html": [
       "<table>\n",
       "    <tr>\n",
       "        <th>value</th>\n",
       "        <th>category</th>\n",
       "    </tr>\n",
       "    <tr>\n",
       "        <td>milk</td>\n",
       "        <td>dairy</td>\n",
       "    </tr>\n",
       "    <tr>\n",
       "        <td>bananas</td>\n",
       "        <td>produce</td>\n",
       "    </tr>\n",
       "    <tr>\n",
       "        <td>eggs</td>\n",
       "        <td>dairy</td>\n",
       "    </tr>\n",
       "    <tr>\n",
       "        <td>bread</td>\n",
       "        <td>bakery</td>\n",
       "    </tr>\n",
       "    <tr>\n",
       "        <td>apples</td>\n",
       "        <td>produce</td>\n",
       "    </tr>\n",
       "    <tr>\n",
       "        <td>onions</td>\n",
       "        <td>produce</td>\n",
       "    </tr>\n",
       "</table>"
      ],
      "text/plain": [
       "[('milk', 'dairy'),\n",
       " ('bananas', 'produce'),\n",
       " ('eggs', 'dairy'),\n",
       " ('bread', 'bakery'),\n",
       " ('apples', 'produce'),\n",
       " ('onions', 'produce')]"
      ]
     },
     "execution_count": 7,
     "metadata": {},
     "output_type": "execute_result"
    }
   ],
   "source": [
    "%%sql\n",
    "\n",
    "SELECT value, category\n",
    "FROM item;"
   ]
  },
  {
   "cell_type": "markdown",
   "id": "279593ab-1759-4dcf-b843-d721e48c355c",
   "metadata": {},
   "source": [
    "Or arbitrary expressions:"
   ]
  },
  {
   "cell_type": "code",
   "execution_count": 8,
   "id": "ef4d0341-1119-4f7a-b1ee-ef97d50b16b3",
   "metadata": {},
   "outputs": [
    {
     "name": "stdout",
     "output_type": "stream",
     "text": [
      " * sqlite://\n",
      "Done.\n"
     ]
    },
    {
     "data": {
      "text/html": [
       "<table>\n",
       "    <tr>\n",
       "        <th>item_id*10</th>\n",
       "    </tr>\n",
       "    <tr>\n",
       "        <td>10</td>\n",
       "    </tr>\n",
       "    <tr>\n",
       "        <td>20</td>\n",
       "    </tr>\n",
       "    <tr>\n",
       "        <td>30</td>\n",
       "    </tr>\n",
       "    <tr>\n",
       "        <td>40</td>\n",
       "    </tr>\n",
       "    <tr>\n",
       "        <td>50</td>\n",
       "    </tr>\n",
       "    <tr>\n",
       "        <td>60</td>\n",
       "    </tr>\n",
       "</table>"
      ],
      "text/plain": [
       "[(10,), (20,), (30,), (40,), (50,), (60,)]"
      ]
     },
     "execution_count": 8,
     "metadata": {},
     "output_type": "execute_result"
    }
   ],
   "source": [
    "%%sql\n",
    "\n",
    "SELECT item_id*10\n",
    "FROM item;"
   ]
  },
  {
   "cell_type": "markdown",
   "id": "f6c8f5bb-ef05-4efc-8af7-497171f032e3",
   "metadata": {},
   "source": [
    "**Question**: Does this remind you of a functional construct we've studied?"
   ]
  },
  {
   "cell_type": "markdown",
   "id": "8c8615b0-2f94-4fbf-95d6-f95d6f9fbbfd",
   "metadata": {},
   "source": [
    "# WHERE clause"
   ]
  },
  {
   "cell_type": "code",
   "execution_count": 9,
   "id": "bc4ff4e3-a41c-4edd-a442-1ac45ab09a59",
   "metadata": {},
   "outputs": [
    {
     "name": "stdout",
     "output_type": "stream",
     "text": [
      " * sqlite://\n",
      "Done.\n"
     ]
    },
    {
     "data": {
      "text/html": [
       "<table>\n",
       "    <tr>\n",
       "        <th>item_id</th>\n",
       "        <th>value</th>\n",
       "        <th>category</th>\n",
       "    </tr>\n",
       "    <tr>\n",
       "        <td>4</td>\n",
       "        <td>bread</td>\n",
       "        <td>bakery</td>\n",
       "    </tr>\n",
       "</table>"
      ],
      "text/plain": [
       "[(4, 'bread', 'bakery')]"
      ]
     },
     "execution_count": 9,
     "metadata": {},
     "output_type": "execute_result"
    }
   ],
   "source": [
    "%%sql\n",
    "\n",
    "SELECT *\n",
    "FROM item\n",
    "WHERE item_id = 4;"
   ]
  },
  {
   "cell_type": "code",
   "execution_count": 10,
   "id": "93f9ddc9-c51a-47f8-8743-fffe093e21f4",
   "metadata": {},
   "outputs": [
    {
     "name": "stdout",
     "output_type": "stream",
     "text": [
      " * sqlite://\n",
      "Done.\n"
     ]
    },
    {
     "data": {
      "text/html": [
       "<table>\n",
       "    <tr>\n",
       "        <th>item_id</th>\n",
       "        <th>value</th>\n",
       "        <th>category</th>\n",
       "    </tr>\n",
       "    <tr>\n",
       "        <td>2</td>\n",
       "        <td>bananas</td>\n",
       "        <td>produce</td>\n",
       "    </tr>\n",
       "    <tr>\n",
       "        <td>4</td>\n",
       "        <td>bread</td>\n",
       "        <td>bakery</td>\n",
       "    </tr>\n",
       "    <tr>\n",
       "        <td>5</td>\n",
       "        <td>apples</td>\n",
       "        <td>produce</td>\n",
       "    </tr>\n",
       "    <tr>\n",
       "        <td>6</td>\n",
       "        <td>onions</td>\n",
       "        <td>produce</td>\n",
       "    </tr>\n",
       "</table>"
      ],
      "text/plain": [
       "[(2, 'bananas', 'produce'),\n",
       " (4, 'bread', 'bakery'),\n",
       " (5, 'apples', 'produce'),\n",
       " (6, 'onions', 'produce')]"
      ]
     },
     "execution_count": 10,
     "metadata": {},
     "output_type": "execute_result"
    }
   ],
   "source": [
    "%%sql\n",
    "\n",
    "SELECT *\n",
    "FROM item\n",
    "WHERE item_id >= 4 OR category = 'produce';"
   ]
  },
  {
   "cell_type": "markdown",
   "id": "a1e92615-7f8f-4033-8e03-c30c6473c8f8",
   "metadata": {},
   "source": [
    "**Question**: Does this remind you of a functional construct we've studied?"
   ]
  },
  {
   "cell_type": "markdown",
   "id": "4c59ecd0-0ed4-4621-a949-49d70955f0c6",
   "metadata": {},
   "source": [
    "Advantage of declarative: database can optimize `WHERE` clause with **indexes**."
   ]
  },
  {
   "cell_type": "markdown",
   "id": "a627db2c-7606-42fb-981e-68cf9872a00f",
   "metadata": {},
   "source": [
    "# ORDER BY clause"
   ]
  },
  {
   "cell_type": "code",
   "execution_count": 11,
   "id": "a0395fd7-9048-4b2f-b50d-0c6a8181cd4a",
   "metadata": {},
   "outputs": [
    {
     "name": "stdout",
     "output_type": "stream",
     "text": [
      " * sqlite://\n",
      "Done.\n"
     ]
    },
    {
     "data": {
      "text/html": [
       "<table>\n",
       "    <tr>\n",
       "        <th>item_id</th>\n",
       "        <th>value</th>\n",
       "        <th>category</th>\n",
       "    </tr>\n",
       "    <tr>\n",
       "        <td>4</td>\n",
       "        <td>bread</td>\n",
       "        <td>bakery</td>\n",
       "    </tr>\n",
       "    <tr>\n",
       "        <td>3</td>\n",
       "        <td>eggs</td>\n",
       "        <td>dairy</td>\n",
       "    </tr>\n",
       "    <tr>\n",
       "        <td>1</td>\n",
       "        <td>milk</td>\n",
       "        <td>dairy</td>\n",
       "    </tr>\n",
       "    <tr>\n",
       "        <td>5</td>\n",
       "        <td>apples</td>\n",
       "        <td>produce</td>\n",
       "    </tr>\n",
       "    <tr>\n",
       "        <td>2</td>\n",
       "        <td>bananas</td>\n",
       "        <td>produce</td>\n",
       "    </tr>\n",
       "    <tr>\n",
       "        <td>6</td>\n",
       "        <td>onions</td>\n",
       "        <td>produce</td>\n",
       "    </tr>\n",
       "</table>"
      ],
      "text/plain": [
       "[(4, 'bread', 'bakery'),\n",
       " (3, 'eggs', 'dairy'),\n",
       " (1, 'milk', 'dairy'),\n",
       " (5, 'apples', 'produce'),\n",
       " (2, 'bananas', 'produce'),\n",
       " (6, 'onions', 'produce')]"
      ]
     },
     "execution_count": 11,
     "metadata": {},
     "output_type": "execute_result"
    }
   ],
   "source": [
    "%%sql\n",
    "\n",
    "SELECT *\n",
    "FROM item\n",
    "ORDER BY category, value;"
   ]
  },
  {
   "cell_type": "markdown",
   "id": "577049d4-0226-49a0-a309-e5b050308884",
   "metadata": {},
   "source": [
    "# Aggregate functions"
   ]
  },
  {
   "cell_type": "code",
   "execution_count": 12,
   "id": "2345fe6e-c239-4a92-ac32-33fbacd31d3b",
   "metadata": {},
   "outputs": [
    {
     "name": "stdout",
     "output_type": "stream",
     "text": [
      " * sqlite://\n",
      "Done.\n"
     ]
    },
    {
     "data": {
      "text/html": [
       "<table>\n",
       "    <tr>\n",
       "        <th>count(item_id)</th>\n",
       "    </tr>\n",
       "    <tr>\n",
       "        <td>6</td>\n",
       "    </tr>\n",
       "</table>"
      ],
      "text/plain": [
       "[(6,)]"
      ]
     },
     "execution_count": 12,
     "metadata": {},
     "output_type": "execute_result"
    }
   ],
   "source": [
    "%%sql\n",
    "\n",
    "SELECT count(item_id)\n",
    "FROM item;"
   ]
  },
  {
   "cell_type": "code",
   "execution_count": 13,
   "id": "fc664b6c-936a-4491-9389-6abbc731cbc6",
   "metadata": {},
   "outputs": [
    {
     "name": "stdout",
     "output_type": "stream",
     "text": [
      " * sqlite://\n",
      "Done.\n"
     ]
    },
    {
     "data": {
      "text/html": [
       "<table>\n",
       "    <tr>\n",
       "        <th>count(*)</th>\n",
       "    </tr>\n",
       "    <tr>\n",
       "        <td>2</td>\n",
       "    </tr>\n",
       "</table>"
      ],
      "text/plain": [
       "[(2,)]"
      ]
     },
     "execution_count": 13,
     "metadata": {},
     "output_type": "execute_result"
    }
   ],
   "source": [
    "%%sql\n",
    "\n",
    "SELECT count(*)\n",
    "FROM item\n",
    "WHERE category = 'dairy';"
   ]
  },
  {
   "cell_type": "markdown",
   "id": "ac6007af",
   "metadata": {},
   "source": [
    "**Question**: Does `count` remind you of a functional construct we've studied?"
   ]
  },
  {
   "cell_type": "markdown",
   "id": "2fd4413c-05cb-4a66-af1e-38adc23166ef",
   "metadata": {},
   "source": [
    "# GROUP BY clause"
   ]
  },
  {
   "cell_type": "code",
   "execution_count": 14,
   "id": "38a87763-6eaa-4c86-9ca6-09d4fbf1017b",
   "metadata": {},
   "outputs": [
    {
     "name": "stdout",
     "output_type": "stream",
     "text": [
      " * sqlite://\n",
      "Done.\n"
     ]
    },
    {
     "data": {
      "text/html": [
       "<table>\n",
       "    <tr>\n",
       "        <th>category</th>\n",
       "        <th>count(*)</th>\n",
       "    </tr>\n",
       "    <tr>\n",
       "        <td>bakery</td>\n",
       "        <td>1</td>\n",
       "    </tr>\n",
       "    <tr>\n",
       "        <td>dairy</td>\n",
       "        <td>2</td>\n",
       "    </tr>\n",
       "    <tr>\n",
       "        <td>produce</td>\n",
       "        <td>3</td>\n",
       "    </tr>\n",
       "</table>"
      ],
      "text/plain": [
       "[('bakery', 1), ('dairy', 2), ('produce', 3)]"
      ]
     },
     "execution_count": 14,
     "metadata": {},
     "output_type": "execute_result"
    }
   ],
   "source": [
    "%%sql\n",
    "\n",
    "SELECT category, count(*)\n",
    "FROM item\n",
    "GROUP BY category;"
   ]
  },
  {
   "cell_type": "markdown",
   "id": "4d7806ca-0fc2-473a-b1bd-e50727e0b4a7",
   "metadata": {},
   "source": [
    "# Multiple tables\n",
    "\n",
    "We want to multiple shopping lists, but also recipes. We only store the _items_ of recipes, not the instructions.\n",
    "\n",
    "![lists](images/lists.png)\n"
   ]
  },
  {
   "cell_type": "code",
   "execution_count": 15,
   "id": "271316bc-6175-4553-8478-9ec5d7f12d70",
   "metadata": {},
   "outputs": [
    {
     "name": "stdout",
     "output_type": "stream",
     "text": [
      " * sqlite://\n",
      "Done.\n",
      "Done.\n"
     ]
    },
    {
     "data": {
      "text/plain": [
       "[]"
      ]
     },
     "execution_count": 15,
     "metadata": {},
     "output_type": "execute_result"
    }
   ],
   "source": [
    "%%sql\n",
    "\n",
    "DROP TABLE IF EXISTS list;\n",
    "\n",
    "CREATE TABLE list(\n",
    "    list_id INTEGER PRIMARY KEY,    -- unique key for list\n",
    "    list_name TEXT NOT NULL,        -- name of list\n",
    "    list_type TEXT NOT NULL)        -- 'shopping' or 'recipe'"
   ]
  },
  {
   "cell_type": "code",
   "execution_count": 16,
   "id": "d9c9034d-a195-4616-aec2-d642579161a8",
   "metadata": {},
   "outputs": [
    {
     "name": "stdout",
     "output_type": "stream",
     "text": [
      " * sqlite://\n",
      "4 rows affected.\n"
     ]
    },
    {
     "data": {
      "text/plain": [
       "[]"
      ]
     },
     "execution_count": 16,
     "metadata": {},
     "output_type": "execute_result"
    }
   ],
   "source": [
    "%%sql\n",
    "\n",
    "INSERT INTO list VALUES\n",
    "    (101, 'Safeway', 'shopping'),\n",
    "    (102, 'Costco', 'shopping'),\n",
    "    (103, 'Caesar salad', 'recipe'),\n",
    "    (104, 'Meatloaf', 'recipe');\n",
    "    "
   ]
  },
  {
   "cell_type": "code",
   "execution_count": 17,
   "id": "3c35e355-7c7f-4413-92a2-5de4835ab4dc",
   "metadata": {},
   "outputs": [
    {
     "name": "stdout",
     "output_type": "stream",
     "text": [
      " * sqlite://\n",
      "Done.\n"
     ]
    },
    {
     "data": {
      "text/html": [
       "<table>\n",
       "    <tr>\n",
       "        <th>list_id</th>\n",
       "        <th>list_name</th>\n",
       "        <th>list_type</th>\n",
       "    </tr>\n",
       "    <tr>\n",
       "        <td>101</td>\n",
       "        <td>Safeway</td>\n",
       "        <td>shopping</td>\n",
       "    </tr>\n",
       "    <tr>\n",
       "        <td>102</td>\n",
       "        <td>Costco</td>\n",
       "        <td>shopping</td>\n",
       "    </tr>\n",
       "    <tr>\n",
       "        <td>103</td>\n",
       "        <td>Caesar salad</td>\n",
       "        <td>recipe</td>\n",
       "    </tr>\n",
       "    <tr>\n",
       "        <td>104</td>\n",
       "        <td>Meatloaf</td>\n",
       "        <td>recipe</td>\n",
       "    </tr>\n",
       "</table>"
      ],
      "text/plain": [
       "[(101, 'Safeway', 'shopping'),\n",
       " (102, 'Costco', 'shopping'),\n",
       " (103, 'Caesar salad', 'recipe'),\n",
       " (104, 'Meatloaf', 'recipe')]"
      ]
     },
     "execution_count": 17,
     "metadata": {},
     "output_type": "execute_result"
    }
   ],
   "source": [
    "%%sql\n",
    "\n",
    "SELECT *\n",
    "FROM list;"
   ]
  },
  {
   "cell_type": "markdown",
   "id": "38119cb0-9bfb-4588-8b62-46b7501e0b21",
   "metadata": {},
   "source": [
    "# ALTER TABLE command\n",
    "\n",
    "Each item needs to know which list it's in.\n",
    "\n",
    "Note that the lists are not containers, like arrays, that we put items into. Lists and items are in separate tables, linked by the list ID. This is a key way that relational databases are organized."
   ]
  },
  {
   "cell_type": "code",
   "execution_count": 18,
   "id": "f2096cc8-9dc2-40e4-af8d-69d0a151f190",
   "metadata": {},
   "outputs": [
    {
     "name": "stdout",
     "output_type": "stream",
     "text": [
      " * sqlite://\n",
      "Done.\n"
     ]
    },
    {
     "data": {
      "text/plain": [
       "[]"
      ]
     },
     "execution_count": 18,
     "metadata": {},
     "output_type": "execute_result"
    }
   ],
   "source": [
    "%%sql\n",
    "\n",
    "ALTER TABLE item\n",
    "    ADD COLUMN list_id INTEGER;"
   ]
  },
  {
   "cell_type": "markdown",
   "id": "bffbf2f9-0a52-4da8-aef7-82790c32ad88",
   "metadata": {},
   "source": [
    "But each item is not yet in any list:"
   ]
  },
  {
   "cell_type": "code",
   "execution_count": 19,
   "id": "909a3797-44db-442b-8211-abdec7223943",
   "metadata": {},
   "outputs": [
    {
     "name": "stdout",
     "output_type": "stream",
     "text": [
      " * sqlite://\n",
      "Done.\n"
     ]
    },
    {
     "data": {
      "text/html": [
       "<table>\n",
       "    <tr>\n",
       "        <th>item_id</th>\n",
       "        <th>value</th>\n",
       "        <th>category</th>\n",
       "        <th>list_id</th>\n",
       "    </tr>\n",
       "    <tr>\n",
       "        <td>1</td>\n",
       "        <td>milk</td>\n",
       "        <td>dairy</td>\n",
       "        <td>None</td>\n",
       "    </tr>\n",
       "    <tr>\n",
       "        <td>2</td>\n",
       "        <td>bananas</td>\n",
       "        <td>produce</td>\n",
       "        <td>None</td>\n",
       "    </tr>\n",
       "    <tr>\n",
       "        <td>3</td>\n",
       "        <td>eggs</td>\n",
       "        <td>dairy</td>\n",
       "        <td>None</td>\n",
       "    </tr>\n",
       "    <tr>\n",
       "        <td>4</td>\n",
       "        <td>bread</td>\n",
       "        <td>bakery</td>\n",
       "        <td>None</td>\n",
       "    </tr>\n",
       "    <tr>\n",
       "        <td>5</td>\n",
       "        <td>apples</td>\n",
       "        <td>produce</td>\n",
       "        <td>None</td>\n",
       "    </tr>\n",
       "    <tr>\n",
       "        <td>6</td>\n",
       "        <td>onions</td>\n",
       "        <td>produce</td>\n",
       "        <td>None</td>\n",
       "    </tr>\n",
       "</table>"
      ],
      "text/plain": [
       "[(1, 'milk', 'dairy', None),\n",
       " (2, 'bananas', 'produce', None),\n",
       " (3, 'eggs', 'dairy', None),\n",
       " (4, 'bread', 'bakery', None),\n",
       " (5, 'apples', 'produce', None),\n",
       " (6, 'onions', 'produce', None)]"
      ]
     },
     "execution_count": 19,
     "metadata": {},
     "output_type": "execute_result"
    }
   ],
   "source": [
    "%%sql\n",
    "\n",
    "SELECT *\n",
    "FROM item;"
   ]
  },
  {
   "cell_type": "markdown",
   "id": "40cf19c5-1f4e-4249-b883-a46f637bbf12",
   "metadata": {},
   "source": [
    "# UPDATE command"
   ]
  },
  {
   "cell_type": "code",
   "execution_count": 20,
   "id": "d897d9bb-6368-4ca9-ac38-1f9b940cb09a",
   "metadata": {},
   "outputs": [
    {
     "name": "stdout",
     "output_type": "stream",
     "text": [
      " * sqlite://\n",
      "6 rows affected.\n"
     ]
    },
    {
     "data": {
      "text/plain": [
       "[]"
      ]
     },
     "execution_count": 20,
     "metadata": {},
     "output_type": "execute_result"
    }
   ],
   "source": [
    "%%sql\n",
    "\n",
    "UPDATE item\n",
    "    SET list_id = 101;"
   ]
  },
  {
   "cell_type": "code",
   "execution_count": 21,
   "id": "268bc865-ab1e-4272-92e5-ed069c4b6d28",
   "metadata": {},
   "outputs": [
    {
     "name": "stdout",
     "output_type": "stream",
     "text": [
      " * sqlite://\n",
      "Done.\n"
     ]
    },
    {
     "data": {
      "text/html": [
       "<table>\n",
       "    <tr>\n",
       "        <th>item_id</th>\n",
       "        <th>value</th>\n",
       "        <th>category</th>\n",
       "        <th>list_id</th>\n",
       "    </tr>\n",
       "    <tr>\n",
       "        <td>1</td>\n",
       "        <td>milk</td>\n",
       "        <td>dairy</td>\n",
       "        <td>101</td>\n",
       "    </tr>\n",
       "    <tr>\n",
       "        <td>2</td>\n",
       "        <td>bananas</td>\n",
       "        <td>produce</td>\n",
       "        <td>101</td>\n",
       "    </tr>\n",
       "    <tr>\n",
       "        <td>3</td>\n",
       "        <td>eggs</td>\n",
       "        <td>dairy</td>\n",
       "        <td>101</td>\n",
       "    </tr>\n",
       "    <tr>\n",
       "        <td>4</td>\n",
       "        <td>bread</td>\n",
       "        <td>bakery</td>\n",
       "        <td>101</td>\n",
       "    </tr>\n",
       "    <tr>\n",
       "        <td>5</td>\n",
       "        <td>apples</td>\n",
       "        <td>produce</td>\n",
       "        <td>101</td>\n",
       "    </tr>\n",
       "    <tr>\n",
       "        <td>6</td>\n",
       "        <td>onions</td>\n",
       "        <td>produce</td>\n",
       "        <td>101</td>\n",
       "    </tr>\n",
       "</table>"
      ],
      "text/plain": [
       "[(1, 'milk', 'dairy', 101),\n",
       " (2, 'bananas', 'produce', 101),\n",
       " (3, 'eggs', 'dairy', 101),\n",
       " (4, 'bread', 'bakery', 101),\n",
       " (5, 'apples', 'produce', 101),\n",
       " (6, 'onions', 'produce', 101)]"
      ]
     },
     "execution_count": 21,
     "metadata": {},
     "output_type": "execute_result"
    }
   ],
   "source": [
    "%%sql\n",
    "\n",
    "SELECT *\n",
    "FROM item;"
   ]
  },
  {
   "cell_type": "code",
   "execution_count": 22,
   "id": "c57a6314-0257-46e8-8403-7cffacde89ae",
   "metadata": {},
   "outputs": [
    {
     "name": "stdout",
     "output_type": "stream",
     "text": [
      " * sqlite://\n",
      "10 rows affected.\n"
     ]
    },
    {
     "data": {
      "text/plain": [
       "[]"
      ]
     },
     "execution_count": 22,
     "metadata": {},
     "output_type": "execute_result"
    }
   ],
   "source": [
    "%%sql\n",
    "\n",
    "INSERT INTO item VALUES\n",
    "\n",
    "    -- Costco:\n",
    "    (7, 'paper towels', 'household', 102),\n",
    "    (8, 'cereal', 'breakfast', 102),\n",
    "    (9, 'soda', 'drinks', 102),\n",
    "    \n",
    "    -- Caesar salad recipe:\n",
    "    (10, 'romaine lettuce', 'produce', 103),\n",
    "    (11, 'caesar dressing', 'baking', 103),\n",
    "    (12, 'croutons', 'bakery', 103),\n",
    "    \n",
    "    -- Meatloaf recipe:\n",
    "    (13, 'ground beef', 'meat', 104),\n",
    "    (14, 'onions', 'produce', 104),          -- duplicate of onions on Safeway list, that's okay\n",
    "    (15, 'bread crumbs', 'bakery', 104),\n",
    "    (16, 'eggs', 'dairy', 104);\n",
    "    "
   ]
  },
  {
   "cell_type": "code",
   "execution_count": 23,
   "id": "8982152a-a44c-4de6-9629-684590c6e4aa",
   "metadata": {},
   "outputs": [
    {
     "name": "stdout",
     "output_type": "stream",
     "text": [
      " * sqlite://\n",
      "Done.\n"
     ]
    },
    {
     "data": {
      "text/html": [
       "<table>\n",
       "    <tr>\n",
       "        <th>item_id</th>\n",
       "        <th>value</th>\n",
       "        <th>category</th>\n",
       "        <th>list_id</th>\n",
       "    </tr>\n",
       "    <tr>\n",
       "        <td>1</td>\n",
       "        <td>milk</td>\n",
       "        <td>dairy</td>\n",
       "        <td>101</td>\n",
       "    </tr>\n",
       "    <tr>\n",
       "        <td>2</td>\n",
       "        <td>bananas</td>\n",
       "        <td>produce</td>\n",
       "        <td>101</td>\n",
       "    </tr>\n",
       "    <tr>\n",
       "        <td>3</td>\n",
       "        <td>eggs</td>\n",
       "        <td>dairy</td>\n",
       "        <td>101</td>\n",
       "    </tr>\n",
       "    <tr>\n",
       "        <td>4</td>\n",
       "        <td>bread</td>\n",
       "        <td>bakery</td>\n",
       "        <td>101</td>\n",
       "    </tr>\n",
       "    <tr>\n",
       "        <td>5</td>\n",
       "        <td>apples</td>\n",
       "        <td>produce</td>\n",
       "        <td>101</td>\n",
       "    </tr>\n",
       "    <tr>\n",
       "        <td>6</td>\n",
       "        <td>onions</td>\n",
       "        <td>produce</td>\n",
       "        <td>101</td>\n",
       "    </tr>\n",
       "    <tr>\n",
       "        <td>7</td>\n",
       "        <td>paper towels</td>\n",
       "        <td>household</td>\n",
       "        <td>102</td>\n",
       "    </tr>\n",
       "    <tr>\n",
       "        <td>8</td>\n",
       "        <td>cereal</td>\n",
       "        <td>breakfast</td>\n",
       "        <td>102</td>\n",
       "    </tr>\n",
       "    <tr>\n",
       "        <td>9</td>\n",
       "        <td>soda</td>\n",
       "        <td>drinks</td>\n",
       "        <td>102</td>\n",
       "    </tr>\n",
       "    <tr>\n",
       "        <td>10</td>\n",
       "        <td>romaine lettuce</td>\n",
       "        <td>produce</td>\n",
       "        <td>103</td>\n",
       "    </tr>\n",
       "    <tr>\n",
       "        <td>11</td>\n",
       "        <td>caesar dressing</td>\n",
       "        <td>baking</td>\n",
       "        <td>103</td>\n",
       "    </tr>\n",
       "    <tr>\n",
       "        <td>12</td>\n",
       "        <td>croutons</td>\n",
       "        <td>bakery</td>\n",
       "        <td>103</td>\n",
       "    </tr>\n",
       "    <tr>\n",
       "        <td>13</td>\n",
       "        <td>ground beef</td>\n",
       "        <td>meat</td>\n",
       "        <td>104</td>\n",
       "    </tr>\n",
       "    <tr>\n",
       "        <td>14</td>\n",
       "        <td>onions</td>\n",
       "        <td>produce</td>\n",
       "        <td>104</td>\n",
       "    </tr>\n",
       "    <tr>\n",
       "        <td>15</td>\n",
       "        <td>bread crumbs</td>\n",
       "        <td>bakery</td>\n",
       "        <td>104</td>\n",
       "    </tr>\n",
       "    <tr>\n",
       "        <td>16</td>\n",
       "        <td>eggs</td>\n",
       "        <td>dairy</td>\n",
       "        <td>104</td>\n",
       "    </tr>\n",
       "</table>"
      ],
      "text/plain": [
       "[(1, 'milk', 'dairy', 101),\n",
       " (2, 'bananas', 'produce', 101),\n",
       " (3, 'eggs', 'dairy', 101),\n",
       " (4, 'bread', 'bakery', 101),\n",
       " (5, 'apples', 'produce', 101),\n",
       " (6, 'onions', 'produce', 101),\n",
       " (7, 'paper towels', 'household', 102),\n",
       " (8, 'cereal', 'breakfast', 102),\n",
       " (9, 'soda', 'drinks', 102),\n",
       " (10, 'romaine lettuce', 'produce', 103),\n",
       " (11, 'caesar dressing', 'baking', 103),\n",
       " (12, 'croutons', 'bakery', 103),\n",
       " (13, 'ground beef', 'meat', 104),\n",
       " (14, 'onions', 'produce', 104),\n",
       " (15, 'bread crumbs', 'bakery', 104),\n",
       " (16, 'eggs', 'dairy', 104)]"
      ]
     },
     "execution_count": 23,
     "metadata": {},
     "output_type": "execute_result"
    }
   ],
   "source": [
    "%%sql\n",
    "\n",
    "SELECT *\n",
    "FROM item;"
   ]
  },
  {
   "cell_type": "markdown",
   "id": "85bb61ca-33ed-404f-aa87-bd88ef621c6c",
   "metadata": {},
   "source": [
    "Items in Costco shopping list:\n",
    "\n",
    "![costco](images/costco.png)"
   ]
  },
  {
   "cell_type": "code",
   "execution_count": 24,
   "id": "16e35887",
   "metadata": {},
   "outputs": [
    {
     "name": "stdout",
     "output_type": "stream",
     "text": [
      " * sqlite://\n",
      "Done.\n"
     ]
    },
    {
     "data": {
      "text/html": [
       "<table>\n",
       "    <tr>\n",
       "        <th>list_id</th>\n",
       "        <th>list_name</th>\n",
       "        <th>list_type</th>\n",
       "    </tr>\n",
       "    <tr>\n",
       "        <td>101</td>\n",
       "        <td>Safeway</td>\n",
       "        <td>shopping</td>\n",
       "    </tr>\n",
       "    <tr>\n",
       "        <td>102</td>\n",
       "        <td>Costco</td>\n",
       "        <td>shopping</td>\n",
       "    </tr>\n",
       "    <tr>\n",
       "        <td>103</td>\n",
       "        <td>Caesar salad</td>\n",
       "        <td>recipe</td>\n",
       "    </tr>\n",
       "    <tr>\n",
       "        <td>104</td>\n",
       "        <td>Meatloaf</td>\n",
       "        <td>recipe</td>\n",
       "    </tr>\n",
       "</table>"
      ],
      "text/plain": [
       "[(101, 'Safeway', 'shopping'),\n",
       " (102, 'Costco', 'shopping'),\n",
       " (103, 'Caesar salad', 'recipe'),\n",
       " (104, 'Meatloaf', 'recipe')]"
      ]
     },
     "execution_count": 24,
     "metadata": {},
     "output_type": "execute_result"
    }
   ],
   "source": [
    "%%sql\n",
    "\n",
    "SELECT *\n",
    "FROM list;"
   ]
  },
  {
   "cell_type": "code",
   "execution_count": 25,
   "id": "5d70ced2-63d4-4c68-abf5-fe8120c91826",
   "metadata": {},
   "outputs": [
    {
     "name": "stdout",
     "output_type": "stream",
     "text": [
      " * sqlite://\n",
      "Done.\n"
     ]
    },
    {
     "data": {
      "text/html": [
       "<table>\n",
       "    <tr>\n",
       "        <th>list_id</th>\n",
       "    </tr>\n",
       "    <tr>\n",
       "        <td>102</td>\n",
       "    </tr>\n",
       "</table>"
      ],
      "text/plain": [
       "[(102,)]"
      ]
     },
     "execution_count": 25,
     "metadata": {},
     "output_type": "execute_result"
    }
   ],
   "source": [
    "%%sql\n",
    "\n",
    "SELECT list_id\n",
    "FROM list\n",
    "WHERE list_name = 'Costco';"
   ]
  },
  {
   "cell_type": "code",
   "execution_count": 26,
   "id": "4d23d43a-1394-4d52-b252-7b9ee60dddfa",
   "metadata": {},
   "outputs": [
    {
     "name": "stdout",
     "output_type": "stream",
     "text": [
      " * sqlite://\n",
      "Done.\n"
     ]
    },
    {
     "data": {
      "text/html": [
       "<table>\n",
       "    <tr>\n",
       "        <th>value</th>\n",
       "        <th>category</th>\n",
       "    </tr>\n",
       "    <tr>\n",
       "        <td>romaine lettuce</td>\n",
       "        <td>produce</td>\n",
       "    </tr>\n",
       "    <tr>\n",
       "        <td>caesar dressing</td>\n",
       "        <td>baking</td>\n",
       "    </tr>\n",
       "    <tr>\n",
       "        <td>croutons</td>\n",
       "        <td>bakery</td>\n",
       "    </tr>\n",
       "</table>"
      ],
      "text/plain": [
       "[('romaine lettuce', 'produce'),\n",
       " ('caesar dressing', 'baking'),\n",
       " ('croutons', 'bakery')]"
      ]
     },
     "execution_count": 26,
     "metadata": {},
     "output_type": "execute_result"
    }
   ],
   "source": [
    "%%sql\n",
    "\n",
    "SELECT value, category\n",
    "FROM item\n",
    "WHERE list_id = 103;"
   ]
  },
  {
   "cell_type": "markdown",
   "id": "570c4242-833d-45af-ae62-497cd9ca4771",
   "metadata": {},
   "source": [
    "# Joins\n",
    "\n",
    "Can specify multiple lists. Get the **cross product**: every combination of rows from each table."
   ]
  },
  {
   "cell_type": "code",
   "execution_count": 27,
   "id": "7a58c960-3015-42ba-b616-7bfa3322d110",
   "metadata": {},
   "outputs": [
    {
     "name": "stdout",
     "output_type": "stream",
     "text": [
      " * sqlite://\n",
      "Done.\n"
     ]
    },
    {
     "data": {
      "text/html": [
       "<table>\n",
       "    <tr>\n",
       "        <th>item_id</th>\n",
       "        <th>value</th>\n",
       "        <th>category</th>\n",
       "        <th>list_id</th>\n",
       "        <th>list_id_1</th>\n",
       "        <th>list_name</th>\n",
       "        <th>list_type</th>\n",
       "    </tr>\n",
       "    <tr>\n",
       "        <td>1</td>\n",
       "        <td>milk</td>\n",
       "        <td>dairy</td>\n",
       "        <td>101</td>\n",
       "        <td>101</td>\n",
       "        <td>Safeway</td>\n",
       "        <td>shopping</td>\n",
       "    </tr>\n",
       "    <tr>\n",
       "        <td>1</td>\n",
       "        <td>milk</td>\n",
       "        <td>dairy</td>\n",
       "        <td>101</td>\n",
       "        <td>102</td>\n",
       "        <td>Costco</td>\n",
       "        <td>shopping</td>\n",
       "    </tr>\n",
       "    <tr>\n",
       "        <td>1</td>\n",
       "        <td>milk</td>\n",
       "        <td>dairy</td>\n",
       "        <td>101</td>\n",
       "        <td>103</td>\n",
       "        <td>Caesar salad</td>\n",
       "        <td>recipe</td>\n",
       "    </tr>\n",
       "    <tr>\n",
       "        <td>1</td>\n",
       "        <td>milk</td>\n",
       "        <td>dairy</td>\n",
       "        <td>101</td>\n",
       "        <td>104</td>\n",
       "        <td>Meatloaf</td>\n",
       "        <td>recipe</td>\n",
       "    </tr>\n",
       "    <tr>\n",
       "        <td>2</td>\n",
       "        <td>bananas</td>\n",
       "        <td>produce</td>\n",
       "        <td>101</td>\n",
       "        <td>101</td>\n",
       "        <td>Safeway</td>\n",
       "        <td>shopping</td>\n",
       "    </tr>\n",
       "    <tr>\n",
       "        <td>2</td>\n",
       "        <td>bananas</td>\n",
       "        <td>produce</td>\n",
       "        <td>101</td>\n",
       "        <td>102</td>\n",
       "        <td>Costco</td>\n",
       "        <td>shopping</td>\n",
       "    </tr>\n",
       "    <tr>\n",
       "        <td>2</td>\n",
       "        <td>bananas</td>\n",
       "        <td>produce</td>\n",
       "        <td>101</td>\n",
       "        <td>103</td>\n",
       "        <td>Caesar salad</td>\n",
       "        <td>recipe</td>\n",
       "    </tr>\n",
       "    <tr>\n",
       "        <td>2</td>\n",
       "        <td>bananas</td>\n",
       "        <td>produce</td>\n",
       "        <td>101</td>\n",
       "        <td>104</td>\n",
       "        <td>Meatloaf</td>\n",
       "        <td>recipe</td>\n",
       "    </tr>\n",
       "    <tr>\n",
       "        <td>3</td>\n",
       "        <td>eggs</td>\n",
       "        <td>dairy</td>\n",
       "        <td>101</td>\n",
       "        <td>101</td>\n",
       "        <td>Safeway</td>\n",
       "        <td>shopping</td>\n",
       "    </tr>\n",
       "    <tr>\n",
       "        <td>3</td>\n",
       "        <td>eggs</td>\n",
       "        <td>dairy</td>\n",
       "        <td>101</td>\n",
       "        <td>102</td>\n",
       "        <td>Costco</td>\n",
       "        <td>shopping</td>\n",
       "    </tr>\n",
       "    <tr>\n",
       "        <td>3</td>\n",
       "        <td>eggs</td>\n",
       "        <td>dairy</td>\n",
       "        <td>101</td>\n",
       "        <td>103</td>\n",
       "        <td>Caesar salad</td>\n",
       "        <td>recipe</td>\n",
       "    </tr>\n",
       "    <tr>\n",
       "        <td>3</td>\n",
       "        <td>eggs</td>\n",
       "        <td>dairy</td>\n",
       "        <td>101</td>\n",
       "        <td>104</td>\n",
       "        <td>Meatloaf</td>\n",
       "        <td>recipe</td>\n",
       "    </tr>\n",
       "    <tr>\n",
       "        <td>4</td>\n",
       "        <td>bread</td>\n",
       "        <td>bakery</td>\n",
       "        <td>101</td>\n",
       "        <td>101</td>\n",
       "        <td>Safeway</td>\n",
       "        <td>shopping</td>\n",
       "    </tr>\n",
       "    <tr>\n",
       "        <td>4</td>\n",
       "        <td>bread</td>\n",
       "        <td>bakery</td>\n",
       "        <td>101</td>\n",
       "        <td>102</td>\n",
       "        <td>Costco</td>\n",
       "        <td>shopping</td>\n",
       "    </tr>\n",
       "    <tr>\n",
       "        <td>4</td>\n",
       "        <td>bread</td>\n",
       "        <td>bakery</td>\n",
       "        <td>101</td>\n",
       "        <td>103</td>\n",
       "        <td>Caesar salad</td>\n",
       "        <td>recipe</td>\n",
       "    </tr>\n",
       "    <tr>\n",
       "        <td>4</td>\n",
       "        <td>bread</td>\n",
       "        <td>bakery</td>\n",
       "        <td>101</td>\n",
       "        <td>104</td>\n",
       "        <td>Meatloaf</td>\n",
       "        <td>recipe</td>\n",
       "    </tr>\n",
       "    <tr>\n",
       "        <td>5</td>\n",
       "        <td>apples</td>\n",
       "        <td>produce</td>\n",
       "        <td>101</td>\n",
       "        <td>101</td>\n",
       "        <td>Safeway</td>\n",
       "        <td>shopping</td>\n",
       "    </tr>\n",
       "    <tr>\n",
       "        <td>5</td>\n",
       "        <td>apples</td>\n",
       "        <td>produce</td>\n",
       "        <td>101</td>\n",
       "        <td>102</td>\n",
       "        <td>Costco</td>\n",
       "        <td>shopping</td>\n",
       "    </tr>\n",
       "    <tr>\n",
       "        <td>5</td>\n",
       "        <td>apples</td>\n",
       "        <td>produce</td>\n",
       "        <td>101</td>\n",
       "        <td>103</td>\n",
       "        <td>Caesar salad</td>\n",
       "        <td>recipe</td>\n",
       "    </tr>\n",
       "    <tr>\n",
       "        <td>5</td>\n",
       "        <td>apples</td>\n",
       "        <td>produce</td>\n",
       "        <td>101</td>\n",
       "        <td>104</td>\n",
       "        <td>Meatloaf</td>\n",
       "        <td>recipe</td>\n",
       "    </tr>\n",
       "    <tr>\n",
       "        <td>6</td>\n",
       "        <td>onions</td>\n",
       "        <td>produce</td>\n",
       "        <td>101</td>\n",
       "        <td>101</td>\n",
       "        <td>Safeway</td>\n",
       "        <td>shopping</td>\n",
       "    </tr>\n",
       "    <tr>\n",
       "        <td>6</td>\n",
       "        <td>onions</td>\n",
       "        <td>produce</td>\n",
       "        <td>101</td>\n",
       "        <td>102</td>\n",
       "        <td>Costco</td>\n",
       "        <td>shopping</td>\n",
       "    </tr>\n",
       "    <tr>\n",
       "        <td>6</td>\n",
       "        <td>onions</td>\n",
       "        <td>produce</td>\n",
       "        <td>101</td>\n",
       "        <td>103</td>\n",
       "        <td>Caesar salad</td>\n",
       "        <td>recipe</td>\n",
       "    </tr>\n",
       "    <tr>\n",
       "        <td>6</td>\n",
       "        <td>onions</td>\n",
       "        <td>produce</td>\n",
       "        <td>101</td>\n",
       "        <td>104</td>\n",
       "        <td>Meatloaf</td>\n",
       "        <td>recipe</td>\n",
       "    </tr>\n",
       "    <tr>\n",
       "        <td>7</td>\n",
       "        <td>paper towels</td>\n",
       "        <td>household</td>\n",
       "        <td>102</td>\n",
       "        <td>101</td>\n",
       "        <td>Safeway</td>\n",
       "        <td>shopping</td>\n",
       "    </tr>\n",
       "    <tr>\n",
       "        <td>7</td>\n",
       "        <td>paper towels</td>\n",
       "        <td>household</td>\n",
       "        <td>102</td>\n",
       "        <td>102</td>\n",
       "        <td>Costco</td>\n",
       "        <td>shopping</td>\n",
       "    </tr>\n",
       "    <tr>\n",
       "        <td>7</td>\n",
       "        <td>paper towels</td>\n",
       "        <td>household</td>\n",
       "        <td>102</td>\n",
       "        <td>103</td>\n",
       "        <td>Caesar salad</td>\n",
       "        <td>recipe</td>\n",
       "    </tr>\n",
       "    <tr>\n",
       "        <td>7</td>\n",
       "        <td>paper towels</td>\n",
       "        <td>household</td>\n",
       "        <td>102</td>\n",
       "        <td>104</td>\n",
       "        <td>Meatloaf</td>\n",
       "        <td>recipe</td>\n",
       "    </tr>\n",
       "    <tr>\n",
       "        <td>8</td>\n",
       "        <td>cereal</td>\n",
       "        <td>breakfast</td>\n",
       "        <td>102</td>\n",
       "        <td>101</td>\n",
       "        <td>Safeway</td>\n",
       "        <td>shopping</td>\n",
       "    </tr>\n",
       "    <tr>\n",
       "        <td>8</td>\n",
       "        <td>cereal</td>\n",
       "        <td>breakfast</td>\n",
       "        <td>102</td>\n",
       "        <td>102</td>\n",
       "        <td>Costco</td>\n",
       "        <td>shopping</td>\n",
       "    </tr>\n",
       "    <tr>\n",
       "        <td>8</td>\n",
       "        <td>cereal</td>\n",
       "        <td>breakfast</td>\n",
       "        <td>102</td>\n",
       "        <td>103</td>\n",
       "        <td>Caesar salad</td>\n",
       "        <td>recipe</td>\n",
       "    </tr>\n",
       "    <tr>\n",
       "        <td>8</td>\n",
       "        <td>cereal</td>\n",
       "        <td>breakfast</td>\n",
       "        <td>102</td>\n",
       "        <td>104</td>\n",
       "        <td>Meatloaf</td>\n",
       "        <td>recipe</td>\n",
       "    </tr>\n",
       "    <tr>\n",
       "        <td>9</td>\n",
       "        <td>soda</td>\n",
       "        <td>drinks</td>\n",
       "        <td>102</td>\n",
       "        <td>101</td>\n",
       "        <td>Safeway</td>\n",
       "        <td>shopping</td>\n",
       "    </tr>\n",
       "    <tr>\n",
       "        <td>9</td>\n",
       "        <td>soda</td>\n",
       "        <td>drinks</td>\n",
       "        <td>102</td>\n",
       "        <td>102</td>\n",
       "        <td>Costco</td>\n",
       "        <td>shopping</td>\n",
       "    </tr>\n",
       "    <tr>\n",
       "        <td>9</td>\n",
       "        <td>soda</td>\n",
       "        <td>drinks</td>\n",
       "        <td>102</td>\n",
       "        <td>103</td>\n",
       "        <td>Caesar salad</td>\n",
       "        <td>recipe</td>\n",
       "    </tr>\n",
       "    <tr>\n",
       "        <td>9</td>\n",
       "        <td>soda</td>\n",
       "        <td>drinks</td>\n",
       "        <td>102</td>\n",
       "        <td>104</td>\n",
       "        <td>Meatloaf</td>\n",
       "        <td>recipe</td>\n",
       "    </tr>\n",
       "    <tr>\n",
       "        <td>10</td>\n",
       "        <td>romaine lettuce</td>\n",
       "        <td>produce</td>\n",
       "        <td>103</td>\n",
       "        <td>101</td>\n",
       "        <td>Safeway</td>\n",
       "        <td>shopping</td>\n",
       "    </tr>\n",
       "    <tr>\n",
       "        <td>10</td>\n",
       "        <td>romaine lettuce</td>\n",
       "        <td>produce</td>\n",
       "        <td>103</td>\n",
       "        <td>102</td>\n",
       "        <td>Costco</td>\n",
       "        <td>shopping</td>\n",
       "    </tr>\n",
       "    <tr>\n",
       "        <td>10</td>\n",
       "        <td>romaine lettuce</td>\n",
       "        <td>produce</td>\n",
       "        <td>103</td>\n",
       "        <td>103</td>\n",
       "        <td>Caesar salad</td>\n",
       "        <td>recipe</td>\n",
       "    </tr>\n",
       "    <tr>\n",
       "        <td>10</td>\n",
       "        <td>romaine lettuce</td>\n",
       "        <td>produce</td>\n",
       "        <td>103</td>\n",
       "        <td>104</td>\n",
       "        <td>Meatloaf</td>\n",
       "        <td>recipe</td>\n",
       "    </tr>\n",
       "    <tr>\n",
       "        <td>11</td>\n",
       "        <td>caesar dressing</td>\n",
       "        <td>baking</td>\n",
       "        <td>103</td>\n",
       "        <td>101</td>\n",
       "        <td>Safeway</td>\n",
       "        <td>shopping</td>\n",
       "    </tr>\n",
       "    <tr>\n",
       "        <td>11</td>\n",
       "        <td>caesar dressing</td>\n",
       "        <td>baking</td>\n",
       "        <td>103</td>\n",
       "        <td>102</td>\n",
       "        <td>Costco</td>\n",
       "        <td>shopping</td>\n",
       "    </tr>\n",
       "    <tr>\n",
       "        <td>11</td>\n",
       "        <td>caesar dressing</td>\n",
       "        <td>baking</td>\n",
       "        <td>103</td>\n",
       "        <td>103</td>\n",
       "        <td>Caesar salad</td>\n",
       "        <td>recipe</td>\n",
       "    </tr>\n",
       "    <tr>\n",
       "        <td>11</td>\n",
       "        <td>caesar dressing</td>\n",
       "        <td>baking</td>\n",
       "        <td>103</td>\n",
       "        <td>104</td>\n",
       "        <td>Meatloaf</td>\n",
       "        <td>recipe</td>\n",
       "    </tr>\n",
       "    <tr>\n",
       "        <td>12</td>\n",
       "        <td>croutons</td>\n",
       "        <td>bakery</td>\n",
       "        <td>103</td>\n",
       "        <td>101</td>\n",
       "        <td>Safeway</td>\n",
       "        <td>shopping</td>\n",
       "    </tr>\n",
       "    <tr>\n",
       "        <td>12</td>\n",
       "        <td>croutons</td>\n",
       "        <td>bakery</td>\n",
       "        <td>103</td>\n",
       "        <td>102</td>\n",
       "        <td>Costco</td>\n",
       "        <td>shopping</td>\n",
       "    </tr>\n",
       "    <tr>\n",
       "        <td>12</td>\n",
       "        <td>croutons</td>\n",
       "        <td>bakery</td>\n",
       "        <td>103</td>\n",
       "        <td>103</td>\n",
       "        <td>Caesar salad</td>\n",
       "        <td>recipe</td>\n",
       "    </tr>\n",
       "    <tr>\n",
       "        <td>12</td>\n",
       "        <td>croutons</td>\n",
       "        <td>bakery</td>\n",
       "        <td>103</td>\n",
       "        <td>104</td>\n",
       "        <td>Meatloaf</td>\n",
       "        <td>recipe</td>\n",
       "    </tr>\n",
       "    <tr>\n",
       "        <td>13</td>\n",
       "        <td>ground beef</td>\n",
       "        <td>meat</td>\n",
       "        <td>104</td>\n",
       "        <td>101</td>\n",
       "        <td>Safeway</td>\n",
       "        <td>shopping</td>\n",
       "    </tr>\n",
       "    <tr>\n",
       "        <td>13</td>\n",
       "        <td>ground beef</td>\n",
       "        <td>meat</td>\n",
       "        <td>104</td>\n",
       "        <td>102</td>\n",
       "        <td>Costco</td>\n",
       "        <td>shopping</td>\n",
       "    </tr>\n",
       "    <tr>\n",
       "        <td>13</td>\n",
       "        <td>ground beef</td>\n",
       "        <td>meat</td>\n",
       "        <td>104</td>\n",
       "        <td>103</td>\n",
       "        <td>Caesar salad</td>\n",
       "        <td>recipe</td>\n",
       "    </tr>\n",
       "    <tr>\n",
       "        <td>13</td>\n",
       "        <td>ground beef</td>\n",
       "        <td>meat</td>\n",
       "        <td>104</td>\n",
       "        <td>104</td>\n",
       "        <td>Meatloaf</td>\n",
       "        <td>recipe</td>\n",
       "    </tr>\n",
       "    <tr>\n",
       "        <td>14</td>\n",
       "        <td>onions</td>\n",
       "        <td>produce</td>\n",
       "        <td>104</td>\n",
       "        <td>101</td>\n",
       "        <td>Safeway</td>\n",
       "        <td>shopping</td>\n",
       "    </tr>\n",
       "    <tr>\n",
       "        <td>14</td>\n",
       "        <td>onions</td>\n",
       "        <td>produce</td>\n",
       "        <td>104</td>\n",
       "        <td>102</td>\n",
       "        <td>Costco</td>\n",
       "        <td>shopping</td>\n",
       "    </tr>\n",
       "    <tr>\n",
       "        <td>14</td>\n",
       "        <td>onions</td>\n",
       "        <td>produce</td>\n",
       "        <td>104</td>\n",
       "        <td>103</td>\n",
       "        <td>Caesar salad</td>\n",
       "        <td>recipe</td>\n",
       "    </tr>\n",
       "    <tr>\n",
       "        <td>14</td>\n",
       "        <td>onions</td>\n",
       "        <td>produce</td>\n",
       "        <td>104</td>\n",
       "        <td>104</td>\n",
       "        <td>Meatloaf</td>\n",
       "        <td>recipe</td>\n",
       "    </tr>\n",
       "    <tr>\n",
       "        <td>15</td>\n",
       "        <td>bread crumbs</td>\n",
       "        <td>bakery</td>\n",
       "        <td>104</td>\n",
       "        <td>101</td>\n",
       "        <td>Safeway</td>\n",
       "        <td>shopping</td>\n",
       "    </tr>\n",
       "    <tr>\n",
       "        <td>15</td>\n",
       "        <td>bread crumbs</td>\n",
       "        <td>bakery</td>\n",
       "        <td>104</td>\n",
       "        <td>102</td>\n",
       "        <td>Costco</td>\n",
       "        <td>shopping</td>\n",
       "    </tr>\n",
       "    <tr>\n",
       "        <td>15</td>\n",
       "        <td>bread crumbs</td>\n",
       "        <td>bakery</td>\n",
       "        <td>104</td>\n",
       "        <td>103</td>\n",
       "        <td>Caesar salad</td>\n",
       "        <td>recipe</td>\n",
       "    </tr>\n",
       "    <tr>\n",
       "        <td>15</td>\n",
       "        <td>bread crumbs</td>\n",
       "        <td>bakery</td>\n",
       "        <td>104</td>\n",
       "        <td>104</td>\n",
       "        <td>Meatloaf</td>\n",
       "        <td>recipe</td>\n",
       "    </tr>\n",
       "    <tr>\n",
       "        <td>16</td>\n",
       "        <td>eggs</td>\n",
       "        <td>dairy</td>\n",
       "        <td>104</td>\n",
       "        <td>101</td>\n",
       "        <td>Safeway</td>\n",
       "        <td>shopping</td>\n",
       "    </tr>\n",
       "    <tr>\n",
       "        <td>16</td>\n",
       "        <td>eggs</td>\n",
       "        <td>dairy</td>\n",
       "        <td>104</td>\n",
       "        <td>102</td>\n",
       "        <td>Costco</td>\n",
       "        <td>shopping</td>\n",
       "    </tr>\n",
       "    <tr>\n",
       "        <td>16</td>\n",
       "        <td>eggs</td>\n",
       "        <td>dairy</td>\n",
       "        <td>104</td>\n",
       "        <td>103</td>\n",
       "        <td>Caesar salad</td>\n",
       "        <td>recipe</td>\n",
       "    </tr>\n",
       "    <tr>\n",
       "        <td>16</td>\n",
       "        <td>eggs</td>\n",
       "        <td>dairy</td>\n",
       "        <td>104</td>\n",
       "        <td>104</td>\n",
       "        <td>Meatloaf</td>\n",
       "        <td>recipe</td>\n",
       "    </tr>\n",
       "</table>"
      ],
      "text/plain": [
       "[(1, 'milk', 'dairy', 101, 101, 'Safeway', 'shopping'),\n",
       " (1, 'milk', 'dairy', 101, 102, 'Costco', 'shopping'),\n",
       " (1, 'milk', 'dairy', 101, 103, 'Caesar salad', 'recipe'),\n",
       " (1, 'milk', 'dairy', 101, 104, 'Meatloaf', 'recipe'),\n",
       " (2, 'bananas', 'produce', 101, 101, 'Safeway', 'shopping'),\n",
       " (2, 'bananas', 'produce', 101, 102, 'Costco', 'shopping'),\n",
       " (2, 'bananas', 'produce', 101, 103, 'Caesar salad', 'recipe'),\n",
       " (2, 'bananas', 'produce', 101, 104, 'Meatloaf', 'recipe'),\n",
       " (3, 'eggs', 'dairy', 101, 101, 'Safeway', 'shopping'),\n",
       " (3, 'eggs', 'dairy', 101, 102, 'Costco', 'shopping'),\n",
       " (3, 'eggs', 'dairy', 101, 103, 'Caesar salad', 'recipe'),\n",
       " (3, 'eggs', 'dairy', 101, 104, 'Meatloaf', 'recipe'),\n",
       " (4, 'bread', 'bakery', 101, 101, 'Safeway', 'shopping'),\n",
       " (4, 'bread', 'bakery', 101, 102, 'Costco', 'shopping'),\n",
       " (4, 'bread', 'bakery', 101, 103, 'Caesar salad', 'recipe'),\n",
       " (4, 'bread', 'bakery', 101, 104, 'Meatloaf', 'recipe'),\n",
       " (5, 'apples', 'produce', 101, 101, 'Safeway', 'shopping'),\n",
       " (5, 'apples', 'produce', 101, 102, 'Costco', 'shopping'),\n",
       " (5, 'apples', 'produce', 101, 103, 'Caesar salad', 'recipe'),\n",
       " (5, 'apples', 'produce', 101, 104, 'Meatloaf', 'recipe'),\n",
       " (6, 'onions', 'produce', 101, 101, 'Safeway', 'shopping'),\n",
       " (6, 'onions', 'produce', 101, 102, 'Costco', 'shopping'),\n",
       " (6, 'onions', 'produce', 101, 103, 'Caesar salad', 'recipe'),\n",
       " (6, 'onions', 'produce', 101, 104, 'Meatloaf', 'recipe'),\n",
       " (7, 'paper towels', 'household', 102, 101, 'Safeway', 'shopping'),\n",
       " (7, 'paper towels', 'household', 102, 102, 'Costco', 'shopping'),\n",
       " (7, 'paper towels', 'household', 102, 103, 'Caesar salad', 'recipe'),\n",
       " (7, 'paper towels', 'household', 102, 104, 'Meatloaf', 'recipe'),\n",
       " (8, 'cereal', 'breakfast', 102, 101, 'Safeway', 'shopping'),\n",
       " (8, 'cereal', 'breakfast', 102, 102, 'Costco', 'shopping'),\n",
       " (8, 'cereal', 'breakfast', 102, 103, 'Caesar salad', 'recipe'),\n",
       " (8, 'cereal', 'breakfast', 102, 104, 'Meatloaf', 'recipe'),\n",
       " (9, 'soda', 'drinks', 102, 101, 'Safeway', 'shopping'),\n",
       " (9, 'soda', 'drinks', 102, 102, 'Costco', 'shopping'),\n",
       " (9, 'soda', 'drinks', 102, 103, 'Caesar salad', 'recipe'),\n",
       " (9, 'soda', 'drinks', 102, 104, 'Meatloaf', 'recipe'),\n",
       " (10, 'romaine lettuce', 'produce', 103, 101, 'Safeway', 'shopping'),\n",
       " (10, 'romaine lettuce', 'produce', 103, 102, 'Costco', 'shopping'),\n",
       " (10, 'romaine lettuce', 'produce', 103, 103, 'Caesar salad', 'recipe'),\n",
       " (10, 'romaine lettuce', 'produce', 103, 104, 'Meatloaf', 'recipe'),\n",
       " (11, 'caesar dressing', 'baking', 103, 101, 'Safeway', 'shopping'),\n",
       " (11, 'caesar dressing', 'baking', 103, 102, 'Costco', 'shopping'),\n",
       " (11, 'caesar dressing', 'baking', 103, 103, 'Caesar salad', 'recipe'),\n",
       " (11, 'caesar dressing', 'baking', 103, 104, 'Meatloaf', 'recipe'),\n",
       " (12, 'croutons', 'bakery', 103, 101, 'Safeway', 'shopping'),\n",
       " (12, 'croutons', 'bakery', 103, 102, 'Costco', 'shopping'),\n",
       " (12, 'croutons', 'bakery', 103, 103, 'Caesar salad', 'recipe'),\n",
       " (12, 'croutons', 'bakery', 103, 104, 'Meatloaf', 'recipe'),\n",
       " (13, 'ground beef', 'meat', 104, 101, 'Safeway', 'shopping'),\n",
       " (13, 'ground beef', 'meat', 104, 102, 'Costco', 'shopping'),\n",
       " (13, 'ground beef', 'meat', 104, 103, 'Caesar salad', 'recipe'),\n",
       " (13, 'ground beef', 'meat', 104, 104, 'Meatloaf', 'recipe'),\n",
       " (14, 'onions', 'produce', 104, 101, 'Safeway', 'shopping'),\n",
       " (14, 'onions', 'produce', 104, 102, 'Costco', 'shopping'),\n",
       " (14, 'onions', 'produce', 104, 103, 'Caesar salad', 'recipe'),\n",
       " (14, 'onions', 'produce', 104, 104, 'Meatloaf', 'recipe'),\n",
       " (15, 'bread crumbs', 'bakery', 104, 101, 'Safeway', 'shopping'),\n",
       " (15, 'bread crumbs', 'bakery', 104, 102, 'Costco', 'shopping'),\n",
       " (15, 'bread crumbs', 'bakery', 104, 103, 'Caesar salad', 'recipe'),\n",
       " (15, 'bread crumbs', 'bakery', 104, 104, 'Meatloaf', 'recipe'),\n",
       " (16, 'eggs', 'dairy', 104, 101, 'Safeway', 'shopping'),\n",
       " (16, 'eggs', 'dairy', 104, 102, 'Costco', 'shopping'),\n",
       " (16, 'eggs', 'dairy', 104, 103, 'Caesar salad', 'recipe'),\n",
       " (16, 'eggs', 'dairy', 104, 104, 'Meatloaf', 'recipe')]"
      ]
     },
     "execution_count": 27,
     "metadata": {},
     "output_type": "execute_result"
    }
   ],
   "source": [
    "%%sql\n",
    "\n",
    "SELECT *\n",
    "FROM item, list;"
   ]
  },
  {
   "cell_type": "markdown",
   "id": "288cfa10-7b78-4e55-9601-e0fda2050065",
   "metadata": {},
   "source": [
    "Can keep only rows where the list IDs match:"
   ]
  },
  {
   "cell_type": "code",
   "execution_count": 28,
   "id": "8be27c1b-2a6b-4004-a0a0-2461fbd0e60d",
   "metadata": {},
   "outputs": [
    {
     "name": "stdout",
     "output_type": "stream",
     "text": [
      " * sqlite://\n",
      "Done.\n"
     ]
    },
    {
     "data": {
      "text/html": [
       "<table>\n",
       "    <tr>\n",
       "        <th>item_id</th>\n",
       "        <th>value</th>\n",
       "        <th>category</th>\n",
       "        <th>list_id</th>\n",
       "        <th>list_id_1</th>\n",
       "        <th>list_name</th>\n",
       "        <th>list_type</th>\n",
       "    </tr>\n",
       "    <tr>\n",
       "        <td>1</td>\n",
       "        <td>milk</td>\n",
       "        <td>dairy</td>\n",
       "        <td>101</td>\n",
       "        <td>101</td>\n",
       "        <td>Safeway</td>\n",
       "        <td>shopping</td>\n",
       "    </tr>\n",
       "    <tr>\n",
       "        <td>2</td>\n",
       "        <td>bananas</td>\n",
       "        <td>produce</td>\n",
       "        <td>101</td>\n",
       "        <td>101</td>\n",
       "        <td>Safeway</td>\n",
       "        <td>shopping</td>\n",
       "    </tr>\n",
       "    <tr>\n",
       "        <td>3</td>\n",
       "        <td>eggs</td>\n",
       "        <td>dairy</td>\n",
       "        <td>101</td>\n",
       "        <td>101</td>\n",
       "        <td>Safeway</td>\n",
       "        <td>shopping</td>\n",
       "    </tr>\n",
       "    <tr>\n",
       "        <td>4</td>\n",
       "        <td>bread</td>\n",
       "        <td>bakery</td>\n",
       "        <td>101</td>\n",
       "        <td>101</td>\n",
       "        <td>Safeway</td>\n",
       "        <td>shopping</td>\n",
       "    </tr>\n",
       "    <tr>\n",
       "        <td>5</td>\n",
       "        <td>apples</td>\n",
       "        <td>produce</td>\n",
       "        <td>101</td>\n",
       "        <td>101</td>\n",
       "        <td>Safeway</td>\n",
       "        <td>shopping</td>\n",
       "    </tr>\n",
       "    <tr>\n",
       "        <td>6</td>\n",
       "        <td>onions</td>\n",
       "        <td>produce</td>\n",
       "        <td>101</td>\n",
       "        <td>101</td>\n",
       "        <td>Safeway</td>\n",
       "        <td>shopping</td>\n",
       "    </tr>\n",
       "    <tr>\n",
       "        <td>7</td>\n",
       "        <td>paper towels</td>\n",
       "        <td>household</td>\n",
       "        <td>102</td>\n",
       "        <td>102</td>\n",
       "        <td>Costco</td>\n",
       "        <td>shopping</td>\n",
       "    </tr>\n",
       "    <tr>\n",
       "        <td>8</td>\n",
       "        <td>cereal</td>\n",
       "        <td>breakfast</td>\n",
       "        <td>102</td>\n",
       "        <td>102</td>\n",
       "        <td>Costco</td>\n",
       "        <td>shopping</td>\n",
       "    </tr>\n",
       "    <tr>\n",
       "        <td>9</td>\n",
       "        <td>soda</td>\n",
       "        <td>drinks</td>\n",
       "        <td>102</td>\n",
       "        <td>102</td>\n",
       "        <td>Costco</td>\n",
       "        <td>shopping</td>\n",
       "    </tr>\n",
       "    <tr>\n",
       "        <td>10</td>\n",
       "        <td>romaine lettuce</td>\n",
       "        <td>produce</td>\n",
       "        <td>103</td>\n",
       "        <td>103</td>\n",
       "        <td>Caesar salad</td>\n",
       "        <td>recipe</td>\n",
       "    </tr>\n",
       "    <tr>\n",
       "        <td>11</td>\n",
       "        <td>caesar dressing</td>\n",
       "        <td>baking</td>\n",
       "        <td>103</td>\n",
       "        <td>103</td>\n",
       "        <td>Caesar salad</td>\n",
       "        <td>recipe</td>\n",
       "    </tr>\n",
       "    <tr>\n",
       "        <td>12</td>\n",
       "        <td>croutons</td>\n",
       "        <td>bakery</td>\n",
       "        <td>103</td>\n",
       "        <td>103</td>\n",
       "        <td>Caesar salad</td>\n",
       "        <td>recipe</td>\n",
       "    </tr>\n",
       "    <tr>\n",
       "        <td>13</td>\n",
       "        <td>ground beef</td>\n",
       "        <td>meat</td>\n",
       "        <td>104</td>\n",
       "        <td>104</td>\n",
       "        <td>Meatloaf</td>\n",
       "        <td>recipe</td>\n",
       "    </tr>\n",
       "    <tr>\n",
       "        <td>14</td>\n",
       "        <td>onions</td>\n",
       "        <td>produce</td>\n",
       "        <td>104</td>\n",
       "        <td>104</td>\n",
       "        <td>Meatloaf</td>\n",
       "        <td>recipe</td>\n",
       "    </tr>\n",
       "    <tr>\n",
       "        <td>15</td>\n",
       "        <td>bread crumbs</td>\n",
       "        <td>bakery</td>\n",
       "        <td>104</td>\n",
       "        <td>104</td>\n",
       "        <td>Meatloaf</td>\n",
       "        <td>recipe</td>\n",
       "    </tr>\n",
       "    <tr>\n",
       "        <td>16</td>\n",
       "        <td>eggs</td>\n",
       "        <td>dairy</td>\n",
       "        <td>104</td>\n",
       "        <td>104</td>\n",
       "        <td>Meatloaf</td>\n",
       "        <td>recipe</td>\n",
       "    </tr>\n",
       "</table>"
      ],
      "text/plain": [
       "[(1, 'milk', 'dairy', 101, 101, 'Safeway', 'shopping'),\n",
       " (2, 'bananas', 'produce', 101, 101, 'Safeway', 'shopping'),\n",
       " (3, 'eggs', 'dairy', 101, 101, 'Safeway', 'shopping'),\n",
       " (4, 'bread', 'bakery', 101, 101, 'Safeway', 'shopping'),\n",
       " (5, 'apples', 'produce', 101, 101, 'Safeway', 'shopping'),\n",
       " (6, 'onions', 'produce', 101, 101, 'Safeway', 'shopping'),\n",
       " (7, 'paper towels', 'household', 102, 102, 'Costco', 'shopping'),\n",
       " (8, 'cereal', 'breakfast', 102, 102, 'Costco', 'shopping'),\n",
       " (9, 'soda', 'drinks', 102, 102, 'Costco', 'shopping'),\n",
       " (10, 'romaine lettuce', 'produce', 103, 103, 'Caesar salad', 'recipe'),\n",
       " (11, 'caesar dressing', 'baking', 103, 103, 'Caesar salad', 'recipe'),\n",
       " (12, 'croutons', 'bakery', 103, 103, 'Caesar salad', 'recipe'),\n",
       " (13, 'ground beef', 'meat', 104, 104, 'Meatloaf', 'recipe'),\n",
       " (14, 'onions', 'produce', 104, 104, 'Meatloaf', 'recipe'),\n",
       " (15, 'bread crumbs', 'bakery', 104, 104, 'Meatloaf', 'recipe'),\n",
       " (16, 'eggs', 'dairy', 104, 104, 'Meatloaf', 'recipe')]"
      ]
     },
     "execution_count": 28,
     "metadata": {},
     "output_type": "execute_result"
    }
   ],
   "source": [
    "%%sql\n",
    "\n",
    "SELECT *\n",
    "FROM item, list\n",
    "WHERE item.list_id = list.list_id;"
   ]
  },
  {
   "cell_type": "markdown",
   "id": "844ed7b2-1c5b-4267-bc26-1b0a83c0f486",
   "metadata": {},
   "source": [
    "Get all contents of shopping lists:"
   ]
  },
  {
   "cell_type": "code",
   "execution_count": 29,
   "id": "3992f7ee-6b31-4495-807e-0b4d59297381",
   "metadata": {},
   "outputs": [
    {
     "name": "stdout",
     "output_type": "stream",
     "text": [
      " * sqlite://\n",
      "Done.\n"
     ]
    },
    {
     "data": {
      "text/html": [
       "<table>\n",
       "    <tr>\n",
       "        <th>value</th>\n",
       "        <th>category</th>\n",
       "        <th>list_name</th>\n",
       "    </tr>\n",
       "    <tr>\n",
       "        <td>milk</td>\n",
       "        <td>dairy</td>\n",
       "        <td>Safeway</td>\n",
       "    </tr>\n",
       "    <tr>\n",
       "        <td>bananas</td>\n",
       "        <td>produce</td>\n",
       "        <td>Safeway</td>\n",
       "    </tr>\n",
       "    <tr>\n",
       "        <td>eggs</td>\n",
       "        <td>dairy</td>\n",
       "        <td>Safeway</td>\n",
       "    </tr>\n",
       "    <tr>\n",
       "        <td>bread</td>\n",
       "        <td>bakery</td>\n",
       "        <td>Safeway</td>\n",
       "    </tr>\n",
       "    <tr>\n",
       "        <td>apples</td>\n",
       "        <td>produce</td>\n",
       "        <td>Safeway</td>\n",
       "    </tr>\n",
       "    <tr>\n",
       "        <td>onions</td>\n",
       "        <td>produce</td>\n",
       "        <td>Safeway</td>\n",
       "    </tr>\n",
       "    <tr>\n",
       "        <td>paper towels</td>\n",
       "        <td>household</td>\n",
       "        <td>Costco</td>\n",
       "    </tr>\n",
       "    <tr>\n",
       "        <td>cereal</td>\n",
       "        <td>breakfast</td>\n",
       "        <td>Costco</td>\n",
       "    </tr>\n",
       "    <tr>\n",
       "        <td>soda</td>\n",
       "        <td>drinks</td>\n",
       "        <td>Costco</td>\n",
       "    </tr>\n",
       "</table>"
      ],
      "text/plain": [
       "[('milk', 'dairy', 'Safeway'),\n",
       " ('bananas', 'produce', 'Safeway'),\n",
       " ('eggs', 'dairy', 'Safeway'),\n",
       " ('bread', 'bakery', 'Safeway'),\n",
       " ('apples', 'produce', 'Safeway'),\n",
       " ('onions', 'produce', 'Safeway'),\n",
       " ('paper towels', 'household', 'Costco'),\n",
       " ('cereal', 'breakfast', 'Costco'),\n",
       " ('soda', 'drinks', 'Costco')]"
      ]
     },
     "execution_count": 29,
     "metadata": {},
     "output_type": "execute_result"
    }
   ],
   "source": [
    "%%sql\n",
    "\n",
    "SELECT value, category, list_name\n",
    "FROM item, list\n",
    "WHERE item.list_id = list.list_id\n",
    "AND list_type = 'shopping';"
   ]
  },
  {
   "cell_type": "markdown",
   "id": "d7f83b7d-1beb-4f7b-aaa1-2f307dcadb81",
   "metadata": {},
   "source": [
    "Get list summary:\n",
    "\n",
    "![lists with counts](images/lists-with-counts.png)"
   ]
  },
  {
   "cell_type": "code",
   "execution_count": 30,
   "id": "f41a96ce-76fe-49d9-9cec-21ae5ba08c02",
   "metadata": {},
   "outputs": [
    {
     "name": "stdout",
     "output_type": "stream",
     "text": [
      " * sqlite://\n",
      "Done.\n"
     ]
    },
    {
     "data": {
      "text/html": [
       "<table>\n",
       "    <tr>\n",
       "        <th>list_name</th>\n",
       "        <th>count(*)</th>\n",
       "    </tr>\n",
       "    <tr>\n",
       "        <td>Caesar salad</td>\n",
       "        <td>3</td>\n",
       "    </tr>\n",
       "    <tr>\n",
       "        <td>Costco</td>\n",
       "        <td>3</td>\n",
       "    </tr>\n",
       "    <tr>\n",
       "        <td>Meatloaf</td>\n",
       "        <td>4</td>\n",
       "    </tr>\n",
       "    <tr>\n",
       "        <td>Safeway</td>\n",
       "        <td>6</td>\n",
       "    </tr>\n",
       "</table>"
      ],
      "text/plain": [
       "[('Caesar salad', 3), ('Costco', 3), ('Meatloaf', 4), ('Safeway', 6)]"
      ]
     },
     "execution_count": 30,
     "metadata": {},
     "output_type": "execute_result"
    }
   ],
   "source": [
    "%%sql\n",
    "\n",
    "SELECT list_name, count(*)\n",
    "FROM item, list\n",
    "WHERE item.list_id = list.list_id\n",
    "GROUP BY list_name;"
   ]
  },
  {
   "cell_type": "markdown",
   "id": "71da9437-7a12-45ab-88be-58d118fdd34e",
   "metadata": {},
   "source": [
    "Get all items in Safeway shopping list:"
   ]
  },
  {
   "cell_type": "code",
   "execution_count": 31,
   "id": "202153bd-6a4b-4c53-ad11-90bb593e94b5",
   "metadata": {},
   "outputs": [
    {
     "name": "stdout",
     "output_type": "stream",
     "text": [
      " * sqlite://\n",
      "Done.\n"
     ]
    },
    {
     "data": {
      "text/html": [
       "<table>\n",
       "    <tr>\n",
       "        <th>value</th>\n",
       "        <th>category</th>\n",
       "    </tr>\n",
       "    <tr>\n",
       "        <td>milk</td>\n",
       "        <td>dairy</td>\n",
       "    </tr>\n",
       "    <tr>\n",
       "        <td>bananas</td>\n",
       "        <td>produce</td>\n",
       "    </tr>\n",
       "    <tr>\n",
       "        <td>eggs</td>\n",
       "        <td>dairy</td>\n",
       "    </tr>\n",
       "    <tr>\n",
       "        <td>bread</td>\n",
       "        <td>bakery</td>\n",
       "    </tr>\n",
       "    <tr>\n",
       "        <td>apples</td>\n",
       "        <td>produce</td>\n",
       "    </tr>\n",
       "    <tr>\n",
       "        <td>onions</td>\n",
       "        <td>produce</td>\n",
       "    </tr>\n",
       "</table>"
      ],
      "text/plain": [
       "[('milk', 'dairy'),\n",
       " ('bananas', 'produce'),\n",
       " ('eggs', 'dairy'),\n",
       " ('bread', 'bakery'),\n",
       " ('apples', 'produce'),\n",
       " ('onions', 'produce')]"
      ]
     },
     "execution_count": 31,
     "metadata": {},
     "output_type": "execute_result"
    }
   ],
   "source": [
    "%%sql\n",
    "\n",
    "SELECT value, category\n",
    "FROM item\n",
    "WHERE list_id = 101;"
   ]
  },
  {
   "cell_type": "markdown",
   "id": "97818983-afff-44c5-ad49-ade5d375371a",
   "metadata": {},
   "source": [
    "Easier: Use join to specify list by name instead of ID. Also sort by category:\n",
    "\n",
    "![safeway](images/safeway.png)"
   ]
  },
  {
   "cell_type": "code",
   "execution_count": 32,
   "id": "8801b88b-2639-47f9-a314-0333f3231bd7",
   "metadata": {},
   "outputs": [
    {
     "name": "stdout",
     "output_type": "stream",
     "text": [
      " * sqlite://\n",
      "Done.\n"
     ]
    },
    {
     "data": {
      "text/html": [
       "<table>\n",
       "    <tr>\n",
       "        <th>value</th>\n",
       "        <th>category</th>\n",
       "    </tr>\n",
       "    <tr>\n",
       "        <td>bread</td>\n",
       "        <td>bakery</td>\n",
       "    </tr>\n",
       "    <tr>\n",
       "        <td>milk</td>\n",
       "        <td>dairy</td>\n",
       "    </tr>\n",
       "    <tr>\n",
       "        <td>eggs</td>\n",
       "        <td>dairy</td>\n",
       "    </tr>\n",
       "    <tr>\n",
       "        <td>bananas</td>\n",
       "        <td>produce</td>\n",
       "    </tr>\n",
       "    <tr>\n",
       "        <td>apples</td>\n",
       "        <td>produce</td>\n",
       "    </tr>\n",
       "    <tr>\n",
       "        <td>onions</td>\n",
       "        <td>produce</td>\n",
       "    </tr>\n",
       "</table>"
      ],
      "text/plain": [
       "[('bread', 'bakery'),\n",
       " ('milk', 'dairy'),\n",
       " ('eggs', 'dairy'),\n",
       " ('bananas', 'produce'),\n",
       " ('apples', 'produce'),\n",
       " ('onions', 'produce')]"
      ]
     },
     "execution_count": 32,
     "metadata": {},
     "output_type": "execute_result"
    }
   ],
   "source": [
    "%%sql\n",
    "\n",
    "SELECT value, category\n",
    "FROM item, list\n",
    "WHERE item.list_id = list.list_id\n",
    "AND list_name = 'Safeway'\n",
    "ORDER BY category;"
   ]
  },
  {
   "cell_type": "markdown",
   "id": "d5b7fe53-90b4-45e7-8bd9-9e29efbfa7a6",
   "metadata": {},
   "source": [
    "# Query plans and indexes"
   ]
  },
  {
   "cell_type": "code",
   "execution_count": 33,
   "id": "a7aa776b-256f-4c42-b11a-72f2d28526ec",
   "metadata": {},
   "outputs": [
    {
     "name": "stdout",
     "output_type": "stream",
     "text": [
      " * sqlite://\n",
      "Done.\n",
      "Done.\n",
      "Done.\n"
     ]
    },
    {
     "data": {
      "text/html": [
       "<table>\n",
       "    <tr>\n",
       "        <th>id</th>\n",
       "        <th>parent</th>\n",
       "        <th>notused</th>\n",
       "        <th>detail</th>\n",
       "    </tr>\n",
       "    <tr>\n",
       "        <td>4</td>\n",
       "        <td>0</td>\n",
       "        <td>0</td>\n",
       "        <td>SCAN TABLE item</td>\n",
       "    </tr>\n",
       "    <tr>\n",
       "        <td>6</td>\n",
       "        <td>0</td>\n",
       "        <td>0</td>\n",
       "        <td>SEARCH TABLE list USING INTEGER PRIMARY KEY (rowid=?)</td>\n",
       "    </tr>\n",
       "    <tr>\n",
       "        <td>16</td>\n",
       "        <td>0</td>\n",
       "        <td>0</td>\n",
       "        <td>USE TEMP B-TREE FOR ORDER BY</td>\n",
       "    </tr>\n",
       "</table>"
      ],
      "text/plain": [
       "[(4, 0, 0, 'SCAN TABLE item'),\n",
       " (6, 0, 0, 'SEARCH TABLE list USING INTEGER PRIMARY KEY (rowid=?)'),\n",
       " (16, 0, 0, 'USE TEMP B-TREE FOR ORDER BY')]"
      ]
     },
     "execution_count": 33,
     "metadata": {},
     "output_type": "execute_result"
    }
   ],
   "source": [
    "%%sql\n",
    "\n",
    "DROP INDEX IF EXISTS list_list_name;\n",
    "DROP INDEX IF EXISTS item_list_id;\n",
    "\n",
    "EXPLAIN QUERY PLAN\n",
    "SELECT value, category\n",
    "FROM item, list\n",
    "WHERE item.list_id = list.list_id\n",
    "AND list_name = 'Safeway'\n",
    "ORDER BY category;"
   ]
  },
  {
   "cell_type": "code",
   "execution_count": 34,
   "id": "66be3a52-d8f0-4230-a22d-11f49f5c9e16",
   "metadata": {},
   "outputs": [
    {
     "name": "stdout",
     "output_type": "stream",
     "text": [
      " * sqlite://\n",
      "Done.\n",
      "Done.\n"
     ]
    },
    {
     "data": {
      "text/plain": [
       "[]"
      ]
     },
     "execution_count": 34,
     "metadata": {},
     "output_type": "execute_result"
    }
   ],
   "source": [
    "%%sql\n",
    "\n",
    "CREATE INDEX list_list_name ON list(list_name);\n",
    "CREATE INDEX item_list_id ON item(list_id);"
   ]
  },
  {
   "cell_type": "code",
   "execution_count": 35,
   "id": "dce3d9ff-40e0-4964-ba84-52fc541840ea",
   "metadata": {},
   "outputs": [
    {
     "name": "stdout",
     "output_type": "stream",
     "text": [
      " * sqlite://\n",
      "Done.\n"
     ]
    },
    {
     "data": {
      "text/html": [
       "<table>\n",
       "    <tr>\n",
       "        <th>id</th>\n",
       "        <th>parent</th>\n",
       "        <th>notused</th>\n",
       "        <th>detail</th>\n",
       "    </tr>\n",
       "    <tr>\n",
       "        <td>5</td>\n",
       "        <td>0</td>\n",
       "        <td>0</td>\n",
       "        <td>SEARCH TABLE list USING COVERING INDEX list_list_name (list_name=?)</td>\n",
       "    </tr>\n",
       "    <tr>\n",
       "        <td>9</td>\n",
       "        <td>0</td>\n",
       "        <td>0</td>\n",
       "        <td>SEARCH TABLE item USING INDEX item_list_id (list_id=?)</td>\n",
       "    </tr>\n",
       "    <tr>\n",
       "        <td>20</td>\n",
       "        <td>0</td>\n",
       "        <td>0</td>\n",
       "        <td>USE TEMP B-TREE FOR ORDER BY</td>\n",
       "    </tr>\n",
       "</table>"
      ],
      "text/plain": [
       "[(5, 0, 0, 'SEARCH TABLE list USING COVERING INDEX list_list_name (list_name=?)'),\n",
       " (9, 0, 0, 'SEARCH TABLE item USING INDEX item_list_id (list_id=?)'),\n",
       " (20, 0, 0, 'USE TEMP B-TREE FOR ORDER BY')]"
      ]
     },
     "execution_count": 35,
     "metadata": {},
     "output_type": "execute_result"
    }
   ],
   "source": [
    "%%sql\n",
    "\n",
    "EXPLAIN QUERY PLAN\n",
    "SELECT value, category\n",
    "FROM item, list\n",
    "WHERE item.list_id = list.list_id\n",
    "AND list_name = 'Safeway'\n",
    "ORDER BY category;"
   ]
  },
  {
   "cell_type": "markdown",
   "id": "6989e6d7-70f4-45d1-9c3a-67c059488985",
   "metadata": {},
   "source": [
    "# Normalization\n",
    "\n",
    "* **Question**: What if we want to rename a category?\n",
    "* Our data is **unnormalized**.\n",
    "* https://en.wikipedia.org/wiki/Database_normalization"
   ]
  },
  {
   "cell_type": "markdown",
   "id": "acfde289-448a-4b22-b634-bb7dd5c5daba",
   "metadata": {},
   "source": [
    "# Complex queries.\n",
    "\n",
    "SQL queries can get complicated. This one finds appropriate users to send an email to for a survey.\n",
    "\n",
    "```sql\n",
    "\n",
    "INSERT INTO tmp_mailing_list\n",
    "SELECT\n",
    "    person_id,\n",
    "    email_address,\n",
    "    lifetime_bucket,\n",
    "    CASE\n",
    "        WHEN ( random_ordinal_within_bucket > 1500 )\n",
    "            THEN ( NULL )\n",
    "        WHEN ( random_ordinal_within_bucket % 2 = 0 )\n",
    "            THEN ( SELECT id FROM mailing WHERE description = 'Survey Monkey July 2017' )\n",
    "        ELSE ( SELECT id FROM mailing WHERE description = 'Email survey July 2017' )\n",
    "    END AS mailing_id,\n",
    "    random_ordinal_within_bucket,\n",
    "    lifetime,\n",
    "    last_use\n",
    "FROM (\n",
    "    SELECT\n",
    "        person_id,\n",
    "        email_address,\n",
    "        lifetime_bucket,\n",
    "        row_number() OVER ( PARTITION BY lifetime_bucket ORDER BY random_number ) AS random_ordinal_within_bucket,\n",
    "        lifetime,\n",
    "        last_use\n",
    "    FROM (\n",
    "        SELECT\n",
    "            person_ex.id AS person_id,\n",
    "            email_address,\n",
    "            CASE\n",
    "                WHEN ( last_use - first_use < '2 days'::interval )\n",
    "                    THEN '1: lt 2 days'\n",
    "                WHEN ( last_use - first_use < '30 days'::interval )\n",
    "                    THEN '2: lt 30 days'\n",
    "                WHEN ( last_use - first_use < '6 months'::interval )\n",
    "                    THEN '3: lt 6 months'\n",
    "                ELSE '4: gte 6 months'\n",
    "            END AS lifetime_bucket,\n",
    "            last_use - first_use AS lifetime,\n",
    "            last_use,\n",
    "            RANDOM() AS random_number\n",
    "        FROM\n",
    "            ( SELECT\n",
    "                    person.id,\n",
    "                    person.email_address,\n",
    "                    MIN( client.created_at ) AS first_use,\n",
    "                    MAX( client.last_described_at ) AS last_use\n",
    "            FROM client, person\n",
    "            WHERE client.owning_person_id = person.id\n",
    "              AND client.created_at IS NOT NULL\n",
    "              AND person.email_address IS NOT NULL\n",
    "              AND person.opt_out = FALSE\n",
    "              AND person.email_address NOT LIKE '%,%'\n",
    "            GROUP BY person.id ) AS person_ex -- all persons with email addresses, and the earliest and latest use\n",
    "        WHERE last_use >= NOW() - '60 days'::interval\n",
    "          AND last_use < NOW() - '30 days'::interval\n",
    "    ) AS address_ex\n",
    ") AS bucketed_addresses;\n",
    "\n",
    "```"
   ]
  },
  {
   "cell_type": "markdown",
   "id": "89ba1601-7349-45b9-aea1-29ac6b06ad7d",
   "metadata": {},
   "source": [
    "# Class project\n",
    "\n",
    "Example from the class project:\n",
    "\n",
    "```sql\n",
    "CREATE TABLE songs (\n",
    "        id int NOT NULL PRIMARY KEY,\n",
    "        song_title TEXT NOT NULL,\n",
    "        notes varchar NOT NULL\n",
    ");\n",
    "\n",
    "INSERT INTO songs (id, song_title, notes)\n",
    "    VALUES (1, 'Ode to Joy (Dubstep Remix)', 'E4 E4 F4 G4 G4 F4 E4 D4 C4 C4 D4 E4 E4 D4 D4');\n",
    "```\n",
    "\n",
    "Creates the table of songs and inserts one song into it (you heard it in class)."
   ]
  },
  {
   "cell_type": "markdown",
   "id": "b49ee184-6e59-4686-8508-ef4fea8f5e86",
   "metadata": {},
   "source": [
    "# SQL injection\n",
    "\n",
    "Here's how to access the database from programs:\n",
    "\n",
    "```java\n",
    "database.update(\"INSERT INTO list VALUES (?, ?, ?)\", listId, listName, listType);\n",
    "```\n",
    "\n",
    "Note the `?` in the query. These are replaced by the parameters. This is the safe way to do it.\n",
    "\n",
    "But there's another, unsafe way. **Do not do this**:\n",
    "\n",
    "```java\n",
    "database.update(\"INSERT INTO list VALUES (\" + listId + \", '\" + listName + \"', '\" + listType + \"')\");\n",
    "```\n",
    "\n",
    "What if the user tries to create a list with the name:\n",
    "\n",
    "```\n",
    "    safeway', 'shopping'); DROP TABLE list; --\n",
    "```\n",
    "\n",
    "The SQL you run will be:\n",
    "\n",
    "```sql\n",
    "INSERT INTO list VALUES (101, 'safeway', 'shopping'); DROP TABLE list; -- ', 'shopping')\n",
    "```\n",
    "\n",
    "![Exploits](images/xkcd_exploits.png)"
   ]
  },
  {
   "cell_type": "markdown",
   "id": "d75f315b-c751-4776-b990-d692788c01d5",
   "metadata": {},
   "source": [
    "# Type of relational databases\n",
    "\n",
    "Commercial:\n",
    "\n",
    "* Oracle.\n",
    "* SQL Server.\n",
    "\n",
    "Free:\n",
    "\n",
    "* MySQL.\n",
    "* PostgreSQL.\n",
    "\n",
    "Embedded:\n",
    "\n",
    "* SQLite. (Used in this class)\n",
    "\n",
    "All use SQL.\n"
   ]
  },
  {
   "cell_type": "markdown",
   "id": "fc4bd04e-8bef-4389-a3b1-bdbc77cc94c0",
   "metadata": {},
   "source": [
    "# Summary\n",
    "\n",
    "SQL is:\n",
    "\n",
    "* **Declarative**: You don't tell it _how_ to do things, only _what you want_.\n",
    "* **Domain-specific**: Specialized for data query and manipulation.\n"
   ]
  },
  {
   "cell_type": "code",
   "execution_count": null,
   "id": "61f42430",
   "metadata": {},
   "outputs": [],
   "source": []
  }
 ],
 "metadata": {
  "kernelspec": {
   "display_name": "sql",
   "language": "python",
   "name": "sql"
  },
  "language_info": {
   "codemirror_mode": {
    "name": "ipython",
    "version": 3
   },
   "file_extension": ".py",
   "mimetype": "text/x-python",
   "name": "python",
   "nbconvert_exporter": "python",
   "pygments_lexer": "ipython3",
   "version": "3.9.6"
  }
 },
 "nbformat": 4,
 "nbformat_minor": 5
}
