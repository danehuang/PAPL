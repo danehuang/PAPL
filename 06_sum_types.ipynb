{
 "cells": [
  {
   "cell_type": "code",
   "execution_count": 1,
   "id": "0287a40d",
   "metadata": {},
   "outputs": [
    {
     "data": {
      "text/html": [
       "\n",
       "<script>\n",
       "require.config({\n",
       "     paths: {\n",
       "     cytoscape: 'https://cdnjs.cloudflare.com/ajax/libs/cytoscape/3.19.0/cytoscape.min'\n",
       "}});\n",
       "</script>\n",
       "  "
      ]
     },
     "metadata": {},
     "output_type": "display_data"
    },
    {
     "data": {
      "text/html": [
       "\n",
       "  <link rel=\"stylesheet\" href=\"node_modules/carbon-components/css/carbon-components.css\">\n",
       "  "
      ]
     },
     "metadata": {},
     "output_type": "display_data"
    }
   ],
   "source": [
    "// TypeScript Jupyter extension\n",
    "import * as tslab from \"tslab\";\n",
    "import { requireCytoscape, requireCarbon } from \"./lib/draw\";\n",
    "\n",
    "requireCytoscape();\n",
    "requireCarbon();"
   ]
  },
  {
   "cell_type": "markdown",
   "id": "78695b1a",
   "metadata": {},
   "source": [
    "# Sum Types"
   ]
  },
  {
   "cell_type": "markdown",
   "id": "43505730",
   "metadata": {},
   "source": [
    "## Where Were We?\n",
    "\n",
    "1. **Language primitives** (i.e., building blocks of languages)\n",
    "    * Last time: closures and first-class functions\n",
    "    * This time: **sum types**\n",
    "2. Language paradigms (i.e., combinations of language primitives)\n",
    "3. Building a language (i.e., designing your own language)"
   ]
  },
  {
   "cell_type": "markdown",
   "id": "5927e853",
   "metadata": {},
   "source": [
    "## Goal\n",
    "\n",
    "1. Introduce the concept of **sum types**.\n",
    "2. Highlight how we can use sum types along with the **type-system** to help us with **case analysis**.\n",
    "3. Look at the tradeoffs between **compile-time** and **run-time** checking."
   ]
  },
  {
   "cell_type": "markdown",
   "id": "f81b7d96",
   "metadata": {},
   "source": [
    "## Sum Types\n",
    "\n",
    "We'll introduce sum types via example."
   ]
  },
  {
   "cell_type": "markdown",
   "id": "32d8d32f",
   "metadata": {},
   "source": [
    "### Example 1\n",
    "\n",
    "TypeScript division has \"interesting\" behavior."
   ]
  },
  {
   "cell_type": "code",
   "execution_count": 2,
   "id": "74a3ffef",
   "metadata": {},
   "outputs": [
    {
     "name": "stdout",
     "output_type": "stream",
     "text": [
      "\u001b[33m0.5\u001b[39m\n"
     ]
    }
   ],
   "source": [
    "1 / 2;  // Question: 0 or 0.5?"
   ]
  },
  {
   "cell_type": "code",
   "execution_count": 3,
   "id": "44ebde98",
   "metadata": {},
   "outputs": [
    {
     "name": "stdout",
     "output_type": "stream",
     "text": [
      "\u001b[33mInfinity\u001b[39m\n"
     ]
    }
   ],
   "source": [
    "1 / 0;  // Question: error or NaN or infinity?"
   ]
  },
  {
   "cell_type": "markdown",
   "id": "2103b186",
   "metadata": {},
   "source": [
    "Suppose we want to write a new divide function but make it so that division by 0 introduces an `undefined` value"
   ]
  },
  {
   "cell_type": "code",
   "execution_count": 4,
   "id": "506d6858",
   "metadata": {},
   "outputs": [],
   "source": [
    "function mySensibleDivideNoReturnType(a: number, b: number) {  // No type annotation\n",
    "    if (b === 0) {\n",
    "        return undefined;\n",
    "    } else {\n",
    "        return a / b;\n",
    "    }\n",
    "}"
   ]
  },
  {
   "cell_type": "code",
   "execution_count": 5,
   "id": "0fab7aea",
   "metadata": {},
   "outputs": [
    {
     "name": "stdout",
     "output_type": "stream",
     "text": [
      "\u001b[33m0.5\u001b[39m\n"
     ]
    }
   ],
   "source": [
    "mySensibleDivideNoReturnType(1, 2);"
   ]
  },
  {
   "cell_type": "code",
   "execution_count": 6,
   "id": "c21b88d2",
   "metadata": {},
   "outputs": [],
   "source": [
    "mySensibleDivideNoReturnType(1, 0); // Undefined"
   ]
  },
  {
   "cell_type": "code",
   "execution_count": 7,
   "id": "729303a1",
   "metadata": {},
   "outputs": [],
   "source": [
    "type numberOrUndefined =  // Type declaration\n",
    "  number      // number type\n",
    "| undefined;  // \"or\" (|) undefined type"
   ]
  },
  {
   "cell_type": "code",
   "execution_count": 8,
   "id": "ea810aa8",
   "metadata": {},
   "outputs": [],
   "source": [
    "function mySensibleDivide(a: number, b: number): numberOrUndefined { // Uses sum type now\n",
    "    if (b === 0) {\n",
    "        const x: undefined = undefined;  // undefined case\n",
    "        return x;\n",
    "    } else {\n",
    "        const x: number = a / b;  // number case\n",
    "        return x;\n",
    "    }\n",
    "}"
   ]
  },
  {
   "cell_type": "code",
   "execution_count": 9,
   "id": "5c1f257d",
   "metadata": {},
   "outputs": [
    {
     "name": "stdout",
     "output_type": "stream",
     "text": [
      "\u001b[33m0.5\u001b[39m\n"
     ]
    }
   ],
   "source": [
    "mySensibleDivide(1, 2);"
   ]
  },
  {
   "cell_type": "code",
   "execution_count": 10,
   "id": "060ee78a",
   "metadata": {},
   "outputs": [],
   "source": [
    "mySensibleDivide(1, 0);"
   ]
  },
  {
   "cell_type": "markdown",
   "id": "4e2d1339",
   "metadata": {},
   "source": [
    "### Example 2\n",
    "\n",
    "Now let's say I want to do arithmetic on `numberOrUndefined`."
   ]
  },
  {
   "cell_type": "code",
   "execution_count": 11,
   "id": "d58c10a9",
   "metadata": {},
   "outputs": [
    {
     "name": "stdout",
     "output_type": "stream",
     "text": [
      "\u001b[33mNaN\u001b[39m\n"
     ]
    }
   ],
   "source": [
    "// TypeScript numbers ...\n",
    "const x = 0.5;\n",
    "const y = undefined;\n",
    "x + y"
   ]
  },
  {
   "cell_type": "code",
   "execution_count": 12,
   "id": "f34a895f",
   "metadata": {},
   "outputs": [
    {
     "name": "stderr",
     "output_type": "stream",
     "text": [
      "4:1 - Operator '+' cannot be applied to types 'number' and 'undefined'.\n"
     ]
    }
   ],
   "source": [
    "// TypeScript numbers ...\n",
    "const x: number = 0.5;\n",
    "const y: undefined = undefined;\n",
    "x + y"
   ]
  },
  {
   "cell_type": "code",
   "execution_count": 13,
   "id": "b3297a9f",
   "metadata": {},
   "outputs": [
    {
     "name": "stdout",
     "output_type": "stream",
     "text": [
      "\u001b[33mNaN\u001b[39m\n"
     ]
    }
   ],
   "source": [
    "// TypeScript numbers ...\n",
    "mySensibleDivide(1, 2) + mySensibleDivide(1, 0) "
   ]
  },
  {
   "cell_type": "markdown",
   "id": "a7855ec4",
   "metadata": {},
   "source": [
    "We can use the type system to help us out."
   ]
  },
  {
   "cell_type": "code",
   "execution_count": 14,
   "id": "f917af9d",
   "metadata": {},
   "outputs": [
    {
     "name": "stderr",
     "output_type": "stream",
     "text": [
      "6:16 - Operator '+' cannot be applied to types 'number' and 'undefined'.\n"
     ]
    }
   ],
   "source": [
    "function incorrectMySensibleAdd(a: numberOrUndefined, b: numberOrUndefined): numberOrUndefined {\n",
    "    if (typeof a === \"number\" && typeof b === \"number\") {\n",
    "        return a + b;\n",
    "    }\n",
    "    else if (typeof a === \"number\" && typeof b === \"undefined\") {\n",
    "        return a + b;  // Compiler throws and error here\n",
    "    } else if (typeof a === \"undefined\" && typeof b === \"undefined\") {\n",
    "        return undefined;\n",
    "    }\n",
    "}"
   ]
  },
  {
   "cell_type": "code",
   "execution_count": null,
   "id": "9d5f45ea",
   "metadata": {},
   "outputs": [],
   "source": [
    "function mySensibleAdd(a: numberOrUndefined, b: numberOrUndefined): numberOrUndefined {\n",
    "    if (typeof a === \"number\" && typeof b === \"number\") {\n",
    "        return a + b;\n",
    "    } else if (typeof a === \"number\" && typeof b === \"undefined\") {\n",
    "        return undefined;\n",
    "    } else if (typeof a === \"undefined\" && typeof b === \"number\") { \n",
    "        return undefined;\n",
    "    } else if (typeof a === \"undefined\" && typeof b === \"undefined\") {\n",
    "        return undefined;\n",
    "    } else {\n",
    "        throw Error(\"Shouldn't happen\");  // Question: why shouldn't this happen?\n",
    "    }\n",
    "}"
   ]
  },
  {
   "cell_type": "code",
   "execution_count": 15,
   "id": "4e654425",
   "metadata": {},
   "outputs": [
    {
     "name": "stderr",
     "output_type": "stream",
     "text": [
      "1:1 - Cannot find name 'mySensibleAdd'.\n"
     ]
    }
   ],
   "source": [
    "mySensibleAdd(mySensibleDivide(1, 2), mySensibleDivide(1, 0))"
   ]
  },
  {
   "cell_type": "markdown",
   "id": "80d91ed6",
   "metadata": {},
   "source": [
    "### Example 3"
   ]
  },
  {
   "cell_type": "code",
   "execution_count": 16,
   "id": "68b74a9a",
   "metadata": {},
   "outputs": [
    {
     "name": "stdout",
     "output_type": "stream",
     "text": [
      "1a\n",
      "3a\n",
      "12a\n"
     ]
    }
   ],
   "source": [
    "// TypeScript number and string behavior ...\n",
    "console.log(1 + \"a\");\n",
    "console.log(1 + 2 + \"a\");\n",
    "console.log(1 + (2 + \"a\"));"
   ]
  },
  {
   "cell_type": "markdown",
   "id": "894f140a",
   "metadata": {},
   "source": [
    "Suppose we want the behavior to always be string concatenation, lest we run into confusion about the difference between `1 + 2 + \"a\"` and `1 + (2 + \"a\")`."
   ]
  },
  {
   "cell_type": "code",
   "execution_count": 17,
   "id": "862f3d5b",
   "metadata": {},
   "outputs": [],
   "source": [
    "type numberOrString = // Type declaration\n",
    "  number   // number Type\n",
    "| string;  // \"or\" (|) string type"
   ]
  },
  {
   "cell_type": "code",
   "execution_count": 18,
   "id": "2321c300",
   "metadata": {},
   "outputs": [
    {
     "name": "stderr",
     "output_type": "stream",
     "text": [
      "6:16 - Operator '+' cannot be applied to types 'numberOrString' and 'numberOrString'.\n"
     ]
    }
   ],
   "source": [
    "function addNumberOrStringAttempt1(x1: numberOrString, x2: numberOrString): numberOrString {\n",
    "    if (typeof x1 === \"number\" && typeof x2 === \"number\") {\n",
    "        // Notice that we only run into trouble when we are adding numbers\n",
    "        return \"\" + x1 + \"\" + x2;\n",
    "    } else {\n",
    "        return x1 + x2;\n",
    "    }\n",
    "}"
   ]
  },
  {
   "cell_type": "markdown",
   "id": "8149354b",
   "metadata": {},
   "source": [
    "### What's the problem?\n",
    "\n",
    "- The TypeScript compiler is giving us an error at compile time because `numberOrString` does not have a `+` operator defined on that type.\n",
    "- However, this might seem strange because we could add numbers with strings before.\n",
    "- Let's get rid of the types and demonstrate that this is indeed the case."
   ]
  },
  {
   "cell_type": "code",
   "execution_count": 19,
   "id": "dd71d4d5",
   "metadata": {},
   "outputs": [],
   "source": [
    "function addNumberOrStringAttempt2(x1, x2): numberOrString {  // Notice that we got rid of the types\n",
    "    if (typeof x1 === \"number\" && typeof x2 === \"number\") {\n",
    "        // Notice that we only run into trouble when we are adding numbers\n",
    "        return \"\" + x1 + \"\" + x2;\n",
    "    } else {\n",
    "        return x1 + x2;\n",
    "    }\n",
    "}"
   ]
  },
  {
   "cell_type": "code",
   "execution_count": 20,
   "id": "7c662ddf",
   "metadata": {},
   "outputs": [
    {
     "name": "stdout",
     "output_type": "stream",
     "text": [
      "1a\n",
      "12a\n",
      "12a\n"
     ]
    }
   ],
   "source": [
    "console.log(addNumberOrStringAttempt2(1, \"a\"));\n",
    "console.log(addNumberOrStringAttempt2(addNumberOrStringAttempt2(1, 2), \"a\"));  // Notice that this\n",
    "console.log(addNumberOrStringAttempt2(1, addNumberOrStringAttempt2(2, \"a\")));"
   ]
  },
  {
   "cell_type": "markdown",
   "id": "34aea6b5",
   "metadata": {},
   "source": [
    "### What's the version with types?\n",
    "\n",
    "- If we want to use types, we have to exhaustively list out all the cases.\n",
    "- We can accomplish this by switching on each and every case."
   ]
  },
  {
   "cell_type": "code",
   "execution_count": 21,
   "id": "b2f87e26",
   "metadata": {},
   "outputs": [],
   "source": [
    "function addNumberOrString(x1: numberOrString, x2: numberOrString): numberOrString {\n",
    "    // Notice that we have to exhaustively list all 4 cases\n",
    "    if (typeof x1 === \"number\" && typeof x2 === \"number\") {\n",
    "        return \"\" + x1 + \"\" + x2;\n",
    "    } else if (typeof x1 === \"number\" && typeof x2 === \"string\") {\n",
    "        return x1 + x2; // Question: what is going on here?\n",
    "    } else if (typeof x1 === \"string\" && typeof x2 === \"number\") {\n",
    "        return x1 + x2;\n",
    "    } else if (typeof x1 === \"string\" && typeof x2 === \"string\") {\n",
    "        return x1 + x2;\n",
    "    } else {\n",
    "        // There are only 4 cases\n",
    "        throw Error(\"Shouldn't happen.\");\n",
    "    }\n",
    "}"
   ]
  },
  {
   "cell_type": "code",
   "execution_count": 22,
   "id": "61ecab98",
   "metadata": {},
   "outputs": [
    {
     "name": "stdout",
     "output_type": "stream",
     "text": [
      "1a\n",
      "12a\n",
      "12a\n"
     ]
    }
   ],
   "source": [
    "console.log(addNumberOrString(1, \"a\"));\n",
    "console.log(addNumberOrString(addNumberOrString(1, 2), \"a\"));  // Notice that this\n",
    "console.log(addNumberOrString(1, addNumberOrString(2, \"a\")));"
   ]
  },
  {
   "cell_type": "markdown",
   "id": "c24e4cea",
   "metadata": {},
   "source": [
    "## Digression: Literal Types\n",
    "\n",
    "TypeScript provides **literal types** which enable language constants such as numbers and strings to be used as types."
   ]
  },
  {
   "cell_type": "markdown",
   "id": "8252c6ba",
   "metadata": {},
   "source": [
    "### String literal type"
   ]
  },
  {
   "cell_type": "code",
   "execution_count": 23,
   "id": "9fc78618",
   "metadata": {},
   "outputs": [],
   "source": [
    "type red = \"red\";  // The type red is the string \"red\""
   ]
  },
  {
   "cell_type": "code",
   "execution_count": 24,
   "id": "ec85cd20",
   "metadata": {},
   "outputs": [],
   "source": [
    "const x: red = \"red\";  // Qeustion: What's the sum type of red?"
   ]
  },
  {
   "cell_type": "code",
   "execution_count": 25,
   "id": "65a6708a",
   "metadata": {},
   "outputs": [
    {
     "name": "stderr",
     "output_type": "stream",
     "text": [
      "2:7 - Type '\"blue\"' is not assignable to type '\"red\"'.\n"
     ]
    }
   ],
   "source": [
    "// Compiler throws an error because the string \"blue\" is not the string \"red\"\n",
    "const y: red = \"blue\";"
   ]
  },
  {
   "cell_type": "markdown",
   "id": "23bfa7df",
   "metadata": {},
   "source": [
    "### Number literal type"
   ]
  },
  {
   "cell_type": "code",
   "execution_count": 26,
   "id": "5f9fa7a5",
   "metadata": {},
   "outputs": [],
   "source": [
    "type zero = 0;"
   ]
  },
  {
   "cell_type": "code",
   "execution_count": 27,
   "id": "1663f770",
   "metadata": {},
   "outputs": [],
   "source": [
    "const x: zero = 0;"
   ]
  },
  {
   "cell_type": "code",
   "execution_count": 28,
   "id": "f1453c22",
   "metadata": {},
   "outputs": [
    {
     "name": "stderr",
     "output_type": "stream",
     "text": [
      "2:7 - Type '1' is not assignable to type '0'.\n"
     ]
    }
   ],
   "source": [
    "// Type-error!\n",
    "const y: zero = 1;"
   ]
  },
  {
   "cell_type": "markdown",
   "id": "59c244b1",
   "metadata": {},
   "source": [
    "## Literal Types and Sum Types\n",
    "\n",
    "Literal types by themselves may not seem that useful. They have many uses combined with sum types."
   ]
  },
  {
   "cell_type": "markdown",
   "id": "3fcfa74c",
   "metadata": {},
   "source": [
    "### Example 1: Many cases"
   ]
  },
  {
   "cell_type": "code",
   "execution_count": 29,
   "id": "79f9c92c",
   "metadata": {},
   "outputs": [],
   "source": [
    "type colors = 'red' | 'green' | 'blue';\n",
    "\n",
    "function cycleColors(cs: colors): colors {\n",
    "    if (cs === 'red') {\n",
    "        return 'green';\n",
    "    } else if (cs === 'green') {\n",
    "        return 'blue';\n",
    "    } else if (cs === 'blue') {\n",
    "        return 'red';\n",
    "    }\n",
    "}"
   ]
  },
  {
   "cell_type": "code",
   "execution_count": 30,
   "id": "0950bfdc",
   "metadata": {},
   "outputs": [
    {
     "name": "stderr",
     "output_type": "stream",
     "text": [
      "2:13 - Argument of type '\"foobar\"' is not assignable to parameter of type 'colors'.\n"
     ]
    }
   ],
   "source": [
    "// I can't call cycleColors with an invalid string now\n",
    "cycleColors('foobar');"
   ]
  },
  {
   "cell_type": "code",
   "execution_count": null,
   "id": "aa3854ba",
   "metadata": {},
   "outputs": [],
   "source": [
    "// Typo is caught statically now\n",
    "cycleColors('gren');"
   ]
  },
  {
   "cell_type": "code",
   "execution_count": 31,
   "id": "af37ffa3",
   "metadata": {},
   "outputs": [
    {
     "data": {
      "text/html": [
       "\n",
       "    <p onclick=\"callback(this)\">Click me to change my text color.</p>\n",
       "\n",
       "    <script>\n",
       "    // We won't understand this fully for now, but we are essentially using code to do the copy-paste for us.\n",
       "    function codeBlock() {\n",
       "    let color = 'red';\n",
       "    function callback(elmnt) {\n",
       "        elmnt.style.color = color;\n",
       "        color = exports.cycleColors(color);\n",
       "    }\n",
       "    return callback;\n",
       "}\n",
       "    // Calling our closure will unpackage the function.\n",
       "    const callback = codeBlock();\n",
       "    </script>\n",
       "    "
      ]
     },
     "metadata": {},
     "output_type": "display_data"
    }
   ],
   "source": [
    "// Ensures our code is more safe\n",
    "function codeBlock() {\n",
    "    let color: colors = 'red';\n",
    "    function callback(elmnt) {\n",
    "        elmnt.style.color = color;\n",
    "        color = cycleColors(color);\n",
    "    }\n",
    "    return callback;\n",
    "}\n",
    "\n",
    "function displayHTMLWithCallback(closure) {\n",
    "    tslab.display.html(`\n",
    "    <p onclick=\"callback(this)\">Click me to change my text color.</p>\n",
    "\n",
    "    <script>\n",
    "    // We won't understand this fully for now, but we are essentially using code to do the copy-paste for us.\n",
    "    ${closure.toString()}\n",
    "    // Calling our closure will unpackage the function.\n",
    "    const callback = ${closure.name}();\n",
    "    </script>\n",
    "    `);    \n",
    "}\n",
    "\n",
    "displayHTMLWithCallback(codeBlock)"
   ]
  },
  {
   "cell_type": "markdown",
   "id": "75eefba7",
   "metadata": {},
   "source": [
    "### Example 2: Many cases 2"
   ]
  },
  {
   "cell_type": "code",
   "execution_count": 32,
   "id": "034d28f9",
   "metadata": {},
   "outputs": [],
   "source": [
    "type HTTPClientErrorResponses =\n",
    "  'BAD_REQUEST'\n",
    "| 'UNAUTHORIZED'\n",
    "| 'PAYMENT_REQUIRED'\n",
    "| 'FORBIDDEN'\n",
    "| 'NOT_FOUND'\n",
    "\n",
    "function httpClientErrorResponsesToCode(c: HTTPClientErrorResponses): number {\n",
    "    if (c === 'BAD_REQUEST') {\n",
    "        return 400;\n",
    "    } else if (c === 'UNAUTHORIZED') {\n",
    "        return 401;\n",
    "    } else if (c === 'PAYMENT_REQUIRED') {\n",
    "        return 402;\n",
    "    } else if (c === 'FORBIDDEN') {\n",
    "        return 403;\n",
    "    } else if (c === 'NOT_FOUND') {\n",
    "        return 404;\n",
    "    }\n",
    "}"
   ]
  },
  {
   "cell_type": "code",
   "execution_count": 33,
   "id": "bc0d5c5b",
   "metadata": {},
   "outputs": [
    {
     "name": "stdout",
     "output_type": "stream",
     "text": [
      "\u001b[33m400\u001b[39m\n"
     ]
    }
   ],
   "source": [
    "httpClientErrorResponsesToCode('BAD_REQUEST');"
   ]
  },
  {
   "cell_type": "code",
   "execution_count": 34,
   "id": "d0f82739",
   "metadata": {},
   "outputs": [
    {
     "name": "stderr",
     "output_type": "stream",
     "text": [
      "2:32 - Argument of type '\"BAD_REQUES\"' is not assignable to parameter of type 'HTTPClientErrorResponses'.\n"
     ]
    }
   ],
   "source": [
    "// typo is caught statically!\n",
    "httpClientErrorResponsesToCode('BAD_REQUES');"
   ]
  },
  {
   "cell_type": "markdown",
   "id": "06fad313",
   "metadata": {},
   "source": [
    "### Example 3: Enforcing constraints at runtime versus compile-time\n",
    "\n",
    "- Suppose we want to guarantee that an array of integers only contains the digits 0-9.\n",
    "- That way we can convert an array of numbers into a string."
   ]
  },
  {
   "cell_type": "markdown",
   "id": "5274e682",
   "metadata": {},
   "source": [
    "#### Approach 1: dynamic check"
   ]
  },
  {
   "cell_type": "code",
   "execution_count": 35,
   "id": "d799c3e2",
   "metadata": {},
   "outputs": [],
   "source": [
    "function digitsToString(ds: number[]): string {\n",
    "    let tmp = \"\";\n",
    "    for (const x of ds) {\n",
    "        tmp += x;\n",
    "    }\n",
    "    return tmp;\n",
    "}"
   ]
  },
  {
   "cell_type": "code",
   "execution_count": 36,
   "id": "a7e1a06b",
   "metadata": {},
   "outputs": [
    {
     "name": "stdout",
     "output_type": "stream",
     "text": [
      "-2-110\n"
     ]
    }
   ],
   "source": [
    "digitsToString([-2, -1, 10]); // whoops"
   ]
  },
  {
   "cell_type": "code",
   "execution_count": 37,
   "id": "339c71b9",
   "metadata": {},
   "outputs": [],
   "source": [
    "function checkDigits(digits: number[]): boolean {\n",
    "    for (const x of digits) {\n",
    "        if (!Number.isInteger(x) || (x < 0 || x >= 10)) {\n",
    "            return false;\n",
    "        }\n",
    "    }\n",
    "    return true;\n",
    "}"
   ]
  },
  {
   "cell_type": "code",
   "execution_count": 38,
   "id": "678c946c",
   "metadata": {},
   "outputs": [
    {
     "name": "stdout",
     "output_type": "stream",
     "text": [
      "\u001b[33mtrue\u001b[39m\n",
      "\u001b[33mfalse\u001b[39m\n"
     ]
    }
   ],
   "source": [
    "console.log(checkDigits([1, 2, 3]));\n",
    "console.log(checkDigits([-1, 2]));"
   ]
  },
  {
   "cell_type": "code",
   "execution_count": 39,
   "id": "1e75d88a",
   "metadata": {},
   "outputs": [],
   "source": [
    "function digitsToString2(ds: number[]): string | false { // string or false\n",
    "    return checkDigits(ds) ? digitsToString(ds) : false;\n",
    "}"
   ]
  },
  {
   "cell_type": "code",
   "execution_count": 40,
   "id": "8fcffeaf",
   "metadata": {},
   "outputs": [
    {
     "name": "stdout",
     "output_type": "stream",
     "text": [
      "123\n",
      "\u001b[33mfalse\u001b[39m\n"
     ]
    }
   ],
   "source": [
    "console.log(digitsToString2([1, 2, 3]));\n",
    "console.log(digitsToString2([-1, 2]));"
   ]
  },
  {
   "cell_type": "markdown",
   "id": "84aa7e69",
   "metadata": {},
   "source": [
    "#### Or we could try to encode this directly in the type system."
   ]
  },
  {
   "cell_type": "code",
   "execution_count": 41,
   "id": "4f1df54a",
   "metadata": {},
   "outputs": [],
   "source": [
    "type digit = 0|1|2|3|4|5|6|7|8|9\n",
    "type digits = digit[]"
   ]
  },
  {
   "cell_type": "code",
   "execution_count": 42,
   "id": "c8393757",
   "metadata": {},
   "outputs": [],
   "source": [
    "const x: digits = [3, 5, 1, 2];"
   ]
  },
  {
   "cell_type": "code",
   "execution_count": 43,
   "id": "a3e0fd5c",
   "metadata": {},
   "outputs": [
    {
     "name": "stderr",
     "output_type": "stream",
     "text": [
      "2:32 - Type '-1' is not assignable to type 'digit'.\n"
     ]
    }
   ],
   "source": [
    "// Type-error!\n",
    "const y: digits = [3, 5, 1, 2, -1];"
   ]
  },
  {
   "cell_type": "code",
   "execution_count": null,
   "id": "693000c7",
   "metadata": {},
   "outputs": [],
   "source": [
    "function digitsToString3(ds: digits): string {  // instead of number[]\n",
    "    return digitsToString(ds);\n",
    "}"
   ]
  },
  {
   "cell_type": "code",
   "execution_count": 44,
   "id": "fb0f338e",
   "metadata": {},
   "outputs": [
    {
     "name": "stderr",
     "output_type": "stream",
     "text": [
      "1:1 - Cannot find name 'digitsToString3'. Did you mean 'digitsToString2'?\n"
     ]
    }
   ],
   "source": [
    "digitsToString3(x);"
   ]
  },
  {
   "cell_type": "code",
   "execution_count": null,
   "id": "cb31e89a",
   "metadata": {},
   "outputs": [],
   "source": [
    "// Type-error!\n",
    "// digitsToString3([3, 5, 1, 2, -1]);\n",
    "digitsToString3([3, 5, 1, 2, 0, 9, 'hi']);"
   ]
  },
  {
   "cell_type": "markdown",
   "id": "242884ce",
   "metadata": {},
   "source": [
    "## Example 4: Tradeoffs, tradeoffs\n",
    "\n",
    "There's a tradeoff between trying to enforce constraints statically (i.e., at compile time) vs. at run-time.\n",
    "We'll see this in the makings of a Chipotle burrito."
   ]
  },
  {
   "cell_type": "markdown",
   "id": "9c190284",
   "metadata": {},
   "source": [
    "### Making a Chipotle burrito"
   ]
  },
  {
   "cell_type": "code",
   "execution_count": 45,
   "id": "866c1982",
   "metadata": {},
   "outputs": [],
   "source": [
    "type Rice = \"WHITE\" | \"BROWN\";\n",
    "type Beans = \"BLACK\" | \"PINTO\";\n",
    "type Meat = \"CHICKEN\" | \"CARNITAS\" | \"STEAK\" | \"SOFRITAS\";\n",
    "type Salsa = \"MILD\" | \"MEDIUM\" | \"HOT\";\n",
    "\n",
    "type Burrito = {\n",
    "    rice: Rice,\n",
    "    beans: Beans,\n",
    "    meat: Meat,\n",
    "    salsa: Salsa\n",
    "};"
   ]
  },
  {
   "cell_type": "code",
   "execution_count": 46,
   "id": "cc53197e",
   "metadata": {},
   "outputs": [],
   "source": [
    "function makeBurrito(r: Rice, b: Beans, m: Meat, s: Salsa): Burrito {\n",
    "    return {\n",
    "        rice: r,\n",
    "        beans: b,\n",
    "        meat: m,\n",
    "        salsa: s,\n",
    "    };\n",
    "}"
   ]
  },
  {
   "cell_type": "code",
   "execution_count": 47,
   "id": "2c3ab84e",
   "metadata": {},
   "outputs": [
    {
     "name": "stderr",
     "output_type": "stream",
     "text": [
      "1:13 - Argument of type '\"WHIT\"' is not assignable to parameter of type 'Rice'.\n"
     ]
    }
   ],
   "source": [
    "makeBurrito(\"WHIT\", \"PINTO\", \"CHICKEN\", \"HOT\");"
   ]
  },
  {
   "cell_type": "markdown",
   "id": "dce63548",
   "metadata": {},
   "source": [
    "### Abstracting Chipotle burritos. Burrito's will make another guest appearance later on ..."
   ]
  },
  {
   "cell_type": "code",
   "execution_count": 48,
   "id": "6861d5bf",
   "metadata": {},
   "outputs": [],
   "source": [
    "// A container that contains 4 items\n",
    "type Container4<S, T, U, V> = {\n",
    "    item1: S,\n",
    "    item2: T,\n",
    "    item3: U,\n",
    "    item4: V\n",
    "};"
   ]
  },
  {
   "cell_type": "code",
   "execution_count": 49,
   "id": "cc67a869",
   "metadata": {},
   "outputs": [],
   "source": [
    "// A function that creates a contianer that holds 4 items\n",
    "function makeContainer4<S, T, U, V>(s: S, t: T, u: U, v: V): Container4<S, T, U, V> {\n",
    "    return {\n",
    "        item1: s,\n",
    "        item2: t,\n",
    "        item3: u,\n",
    "        item4: v\n",
    "    };\n",
    "}"
   ]
  },
  {
   "cell_type": "code",
   "execution_count": 50,
   "id": "3bc3e902",
   "metadata": {},
   "outputs": [],
   "source": [
    "// Sometimes we would like a container that only holds 3 items\n",
    "// \n",
    "type Container3<S, T, U> = {\n",
    "    item1: S,\n",
    "    item2: T,\n",
    "    item3: U,\n",
    "};"
   ]
  },
  {
   "cell_type": "code",
   "execution_count": 51,
   "id": "522ffdd5",
   "metadata": {},
   "outputs": [],
   "source": [
    "function dropOneItem<S, T, U, V>(\n",
    "    position: 1|2|3|4,\n",
    "    container4: Container4<S, T, U, V>): Container3<T, U, V> // 4 cases after we drop 1 item\n",
    "                                       | Container3<S, U, V>\n",
    "                                       | Container3<S, T, V>\n",
    "                                       | Container3<S, T, U>\n",
    "{\n",
    "    if (position === 1) {\n",
    "        return { \n",
    "            item1: container4.item2,\n",
    "            item2: container4.item3,\n",
    "            item3: container4.item4\n",
    "        } as unknown as Container3<T, U, V>;\n",
    "    } else if (position === 2) {\n",
    "        return {\n",
    "            item1: container4.item1,\n",
    "            item2: container4.item3,\n",
    "            item3: container4.item4\n",
    "        } as unknown as Container3<S, U, V>;\n",
    "    } else if (position === 3) {\n",
    "        return {\n",
    "            item1: container4.item1,\n",
    "            item2: container4.item2,\n",
    "            item3: container4.item4\n",
    "        } as unknown as Container3<S, T, V>;\n",
    "    } else {\n",
    "        return {\n",
    "            item1: container4.item1,\n",
    "            item2: container4.item2,\n",
    "            item3: container4.item3\n",
    "        } as unknown as Container3<S, T, U>;\n",
    "    }\n",
    "}"
   ]
  },
  {
   "cell_type": "code",
   "execution_count": 52,
   "id": "d0d340c4",
   "metadata": {},
   "outputs": [],
   "source": [
    "// A burrito uses a tortilla as a container\n",
    "type TortillaContainer = Container4<Rice, Beans, Meat, Salsa>;"
   ]
  },
  {
   "cell_type": "code",
   "execution_count": 53,
   "id": "97ddba10",
   "metadata": {},
   "outputs": [
    {
     "name": "stdout",
     "output_type": "stream",
     "text": [
      "{ item1: \u001b[32m'BROWN'\u001b[39m, item2: \u001b[32m'STEAK'\u001b[39m, item3: \u001b[32m'MILD'\u001b[39m }\n"
     ]
    }
   ],
   "source": [
    "dropOneItem(2, makeContainer4(\"BROWN\", \"BLACK\", \"STEAK\", \"MILD\"))"
   ]
  },
  {
   "cell_type": "code",
   "execution_count": 54,
   "id": "526a541a",
   "metadata": {},
   "outputs": [
    {
     "name": "stderr",
     "output_type": "stream",
     "text": [
      "2:13 - Argument of type '5' is not assignable to parameter of type '1 | 2 | 3 | 4'.\n"
     ]
    }
   ],
   "source": [
    "// Type error!\n",
    "dropOneItem(5, makeContainer4(\"BROWN\", \"BLACK\", \"STEAK\", \"MILD\"))"
   ]
  },
  {
   "cell_type": "markdown",
   "id": "42129c31",
   "metadata": {},
   "source": [
    "## Summary\n",
    "\n",
    "- Sum types enable us to express in the type system different cases.\n",
    "- Literal types enable us to use numbers and strings as types.\n",
    "- By combining the two, we can have a light-weight method to get the type-system to ensure that our code is correct at compile-time when performing case analysis.\n",
    "- There's a tradeoff in encoding information in types."
   ]
  },
  {
   "cell_type": "code",
   "execution_count": null,
   "id": "e81a800c",
   "metadata": {},
   "outputs": [],
   "source": []
  }
 ],
 "metadata": {
  "kernelspec": {
   "display_name": "TypeScript",
   "language": "typescript",
   "name": "typescript"
  },
  "language_info": {
   "codemirror_mode": {
    "mode": "typescript",
    "name": "javascript",
    "typescript": true
   },
   "file_extension": ".ts",
   "mimetype": "text/typescript",
   "name": "typescript",
   "version": "3.7.2"
  }
 },
 "nbformat": 4,
 "nbformat_minor": 5
}
